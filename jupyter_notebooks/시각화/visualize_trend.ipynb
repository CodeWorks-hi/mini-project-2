{
 "cells": [
  {
   "cell_type": "code",
   "execution_count": 66,
   "metadata": {},
   "outputs": [],
   "source": [
    "import pandas as pd\n",
    "import matplotlib.pyplot as plt\n",
    "import platform\n",
    "from matplotlib import font_manager, rc\n",
    "import os\n",
    "import numpy as np\n",
    "import seaborn as sb\n",
    "import plotly.graph_objects as go"
   ]
  },
  {
   "cell_type": "code",
   "execution_count": 7,
   "metadata": {},
   "outputs": [],
   "source": [
    "plt.rcParams[\"axes.unicode_minus\"] = False\n",
    "\n",
    "if platform.system() == \"Darwin\":  # macOS\n",
    "    rc(\"font\", family=\"AppleGothic\")\n",
    "elif platform.system() == \"Windows\":  # Windows\n",
    "    font_path = \"C:/Windows/Fonts/malgun.ttf\"  # 맑은 고딕\n",
    "    font_name = font_manager.FontProperties(fname=font_path).get_name()\n",
    "    rc(\"font\", family=font_name)\n",
    "elif platform.system() == \"Linux\":  # Linux (Ubuntu, Docker 등)\n",
    "    font_path = \"fonts/NanumGothic.ttf\"\n",
    "    if not os.path.exists(font_path):\n",
    "        st.error(\"NanumGothic.ttf 폰트 파일이 존재하지 않습니다. 'fonts' 폴더 내에 폰트 파일을 확인하세요.\")\n",
    "    font_name = font_manager.FontProperties(fname=font_path).get_name()\n",
    "    rc(\"font\", family=font_name)"
   ]
  },
  {
   "cell_type": "markdown",
   "metadata": {},
   "source": [
    "#### 지역별 수출 트렌드 보여주는 차트"
   ]
  },
  {
   "cell_type": "code",
   "execution_count": 67,
   "metadata": {},
   "outputs": [
    {
     "data": {
      "application/vnd.plotly.v1+json": {
       "config": {
        "plotlyServerURL": "https://plot.ly"
       },
       "data": [
        {
         "mode": "lines+markers",
         "name": "미국",
         "type": "scatter",
         "x": [
          "2016-01-01T00:00:00.000000000",
          "2016-02-01T00:00:00.000000000",
          "2016-03-01T00:00:00.000000000",
          "2016-04-01T00:00:00.000000000",
          "2016-05-01T00:00:00.000000000",
          "2016-06-01T00:00:00.000000000",
          "2016-07-01T00:00:00.000000000",
          "2016-08-01T00:00:00.000000000",
          "2016-09-01T00:00:00.000000000",
          "2016-10-01T00:00:00.000000000",
          "2016-11-01T00:00:00.000000000",
          "2016-12-01T00:00:00.000000000",
          "2017-01-01T00:00:00.000000000",
          "2017-02-01T00:00:00.000000000",
          "2017-03-01T00:00:00.000000000",
          "2017-04-01T00:00:00.000000000",
          "2017-05-01T00:00:00.000000000",
          "2017-06-01T00:00:00.000000000",
          "2017-07-01T00:00:00.000000000",
          "2017-08-01T00:00:00.000000000",
          "2017-09-01T00:00:00.000000000",
          "2017-10-01T00:00:00.000000000",
          "2017-11-01T00:00:00.000000000",
          "2017-12-01T00:00:00.000000000",
          "2018-01-01T00:00:00.000000000",
          "2018-02-01T00:00:00.000000000",
          "2018-03-01T00:00:00.000000000",
          "2018-04-01T00:00:00.000000000",
          "2018-05-01T00:00:00.000000000",
          "2018-06-01T00:00:00.000000000",
          "2018-07-01T00:00:00.000000000",
          "2018-08-01T00:00:00.000000000",
          "2018-09-01T00:00:00.000000000",
          "2018-10-01T00:00:00.000000000",
          "2018-11-01T00:00:00.000000000",
          "2018-12-01T00:00:00.000000000",
          "2019-01-01T00:00:00.000000000",
          "2019-02-01T00:00:00.000000000",
          "2019-03-01T00:00:00.000000000",
          "2019-04-01T00:00:00.000000000",
          "2019-05-01T00:00:00.000000000",
          "2019-06-01T00:00:00.000000000",
          "2019-07-01T00:00:00.000000000",
          "2019-08-01T00:00:00.000000000",
          "2019-09-01T00:00:00.000000000",
          "2019-10-01T00:00:00.000000000",
          "2019-11-01T00:00:00.000000000",
          "2019-12-01T00:00:00.000000000"
         ],
         "y": {
          "bdata": "AAAAAECM2EAAAAAAwHTYQAAAAAAgVeBAAAAAAAAZ30AAAAAAgEbdQAAAAACA+d5AAAAAAMDQ2UAAAAAAAGvJQAAAAABAeNBAAAAAAEA810AAAAAAgJfhQAAAAABAu+RAAAAAAIB91kAAAAAAACHYQAAAAACgRuFAAAAAAEAJ4EAAAAAAABPgQAAAAAAAwOJAAAAAAIBP30AAAAAAALrNQAAAAACAndFAAAAAAEAW0EAAAAAAQCDXQAAAAACA28tAAAAAAMA11kAAAAAAQJLTQAAAAADAS9lAAAAAAMCX10AAAAAAwArVQAAAAAAAYtVAAAAAAEB+1EAAAAAAQI/YQAAAAAAA99lAAAAAAICr4UAAAAAAQObgQAAAAACA6d9AAAAAAACG20AAAAAAgEXUQAAAAACA1N9AAAAAAADz30AAAAAAgFThQAAAAABgKeRAAAAAAABL3kAAAAAAgCvcQAAAAAAAXthAAAAAAGD75UAAAAAAYJDjQAAAAAAgAONA",
          "dtype": "f8"
         }
        }
       ],
       "layout": {
        "height": 600,
        "template": {
         "data": {
          "bar": [
           {
            "error_x": {
             "color": "#2a3f5f"
            },
            "error_y": {
             "color": "#2a3f5f"
            },
            "marker": {
             "line": {
              "color": "white",
              "width": 0.5
             },
             "pattern": {
              "fillmode": "overlay",
              "size": 10,
              "solidity": 0.2
             }
            },
            "type": "bar"
           }
          ],
          "barpolar": [
           {
            "marker": {
             "line": {
              "color": "white",
              "width": 0.5
             },
             "pattern": {
              "fillmode": "overlay",
              "size": 10,
              "solidity": 0.2
             }
            },
            "type": "barpolar"
           }
          ],
          "carpet": [
           {
            "aaxis": {
             "endlinecolor": "#2a3f5f",
             "gridcolor": "#C8D4E3",
             "linecolor": "#C8D4E3",
             "minorgridcolor": "#C8D4E3",
             "startlinecolor": "#2a3f5f"
            },
            "baxis": {
             "endlinecolor": "#2a3f5f",
             "gridcolor": "#C8D4E3",
             "linecolor": "#C8D4E3",
             "minorgridcolor": "#C8D4E3",
             "startlinecolor": "#2a3f5f"
            },
            "type": "carpet"
           }
          ],
          "choropleth": [
           {
            "colorbar": {
             "outlinewidth": 0,
             "ticks": ""
            },
            "type": "choropleth"
           }
          ],
          "contour": [
           {
            "colorbar": {
             "outlinewidth": 0,
             "ticks": ""
            },
            "colorscale": [
             [
              0,
              "#0d0887"
             ],
             [
              0.1111111111111111,
              "#46039f"
             ],
             [
              0.2222222222222222,
              "#7201a8"
             ],
             [
              0.3333333333333333,
              "#9c179e"
             ],
             [
              0.4444444444444444,
              "#bd3786"
             ],
             [
              0.5555555555555556,
              "#d8576b"
             ],
             [
              0.6666666666666666,
              "#ed7953"
             ],
             [
              0.7777777777777778,
              "#fb9f3a"
             ],
             [
              0.8888888888888888,
              "#fdca26"
             ],
             [
              1,
              "#f0f921"
             ]
            ],
            "type": "contour"
           }
          ],
          "contourcarpet": [
           {
            "colorbar": {
             "outlinewidth": 0,
             "ticks": ""
            },
            "type": "contourcarpet"
           }
          ],
          "heatmap": [
           {
            "colorbar": {
             "outlinewidth": 0,
             "ticks": ""
            },
            "colorscale": [
             [
              0,
              "#0d0887"
             ],
             [
              0.1111111111111111,
              "#46039f"
             ],
             [
              0.2222222222222222,
              "#7201a8"
             ],
             [
              0.3333333333333333,
              "#9c179e"
             ],
             [
              0.4444444444444444,
              "#bd3786"
             ],
             [
              0.5555555555555556,
              "#d8576b"
             ],
             [
              0.6666666666666666,
              "#ed7953"
             ],
             [
              0.7777777777777778,
              "#fb9f3a"
             ],
             [
              0.8888888888888888,
              "#fdca26"
             ],
             [
              1,
              "#f0f921"
             ]
            ],
            "type": "heatmap"
           }
          ],
          "histogram": [
           {
            "marker": {
             "pattern": {
              "fillmode": "overlay",
              "size": 10,
              "solidity": 0.2
             }
            },
            "type": "histogram"
           }
          ],
          "histogram2d": [
           {
            "colorbar": {
             "outlinewidth": 0,
             "ticks": ""
            },
            "colorscale": [
             [
              0,
              "#0d0887"
             ],
             [
              0.1111111111111111,
              "#46039f"
             ],
             [
              0.2222222222222222,
              "#7201a8"
             ],
             [
              0.3333333333333333,
              "#9c179e"
             ],
             [
              0.4444444444444444,
              "#bd3786"
             ],
             [
              0.5555555555555556,
              "#d8576b"
             ],
             [
              0.6666666666666666,
              "#ed7953"
             ],
             [
              0.7777777777777778,
              "#fb9f3a"
             ],
             [
              0.8888888888888888,
              "#fdca26"
             ],
             [
              1,
              "#f0f921"
             ]
            ],
            "type": "histogram2d"
           }
          ],
          "histogram2dcontour": [
           {
            "colorbar": {
             "outlinewidth": 0,
             "ticks": ""
            },
            "colorscale": [
             [
              0,
              "#0d0887"
             ],
             [
              0.1111111111111111,
              "#46039f"
             ],
             [
              0.2222222222222222,
              "#7201a8"
             ],
             [
              0.3333333333333333,
              "#9c179e"
             ],
             [
              0.4444444444444444,
              "#bd3786"
             ],
             [
              0.5555555555555556,
              "#d8576b"
             ],
             [
              0.6666666666666666,
              "#ed7953"
             ],
             [
              0.7777777777777778,
              "#fb9f3a"
             ],
             [
              0.8888888888888888,
              "#fdca26"
             ],
             [
              1,
              "#f0f921"
             ]
            ],
            "type": "histogram2dcontour"
           }
          ],
          "mesh3d": [
           {
            "colorbar": {
             "outlinewidth": 0,
             "ticks": ""
            },
            "type": "mesh3d"
           }
          ],
          "parcoords": [
           {
            "line": {
             "colorbar": {
              "outlinewidth": 0,
              "ticks": ""
             }
            },
            "type": "parcoords"
           }
          ],
          "pie": [
           {
            "automargin": true,
            "type": "pie"
           }
          ],
          "scatter": [
           {
            "fillpattern": {
             "fillmode": "overlay",
             "size": 10,
             "solidity": 0.2
            },
            "type": "scatter"
           }
          ],
          "scatter3d": [
           {
            "line": {
             "colorbar": {
              "outlinewidth": 0,
              "ticks": ""
             }
            },
            "marker": {
             "colorbar": {
              "outlinewidth": 0,
              "ticks": ""
             }
            },
            "type": "scatter3d"
           }
          ],
          "scattercarpet": [
           {
            "marker": {
             "colorbar": {
              "outlinewidth": 0,
              "ticks": ""
             }
            },
            "type": "scattercarpet"
           }
          ],
          "scattergeo": [
           {
            "marker": {
             "colorbar": {
              "outlinewidth": 0,
              "ticks": ""
             }
            },
            "type": "scattergeo"
           }
          ],
          "scattergl": [
           {
            "marker": {
             "colorbar": {
              "outlinewidth": 0,
              "ticks": ""
             }
            },
            "type": "scattergl"
           }
          ],
          "scattermap": [
           {
            "marker": {
             "colorbar": {
              "outlinewidth": 0,
              "ticks": ""
             }
            },
            "type": "scattermap"
           }
          ],
          "scattermapbox": [
           {
            "marker": {
             "colorbar": {
              "outlinewidth": 0,
              "ticks": ""
             }
            },
            "type": "scattermapbox"
           }
          ],
          "scatterpolar": [
           {
            "marker": {
             "colorbar": {
              "outlinewidth": 0,
              "ticks": ""
             }
            },
            "type": "scatterpolar"
           }
          ],
          "scatterpolargl": [
           {
            "marker": {
             "colorbar": {
              "outlinewidth": 0,
              "ticks": ""
             }
            },
            "type": "scatterpolargl"
           }
          ],
          "scatterternary": [
           {
            "marker": {
             "colorbar": {
              "outlinewidth": 0,
              "ticks": ""
             }
            },
            "type": "scatterternary"
           }
          ],
          "surface": [
           {
            "colorbar": {
             "outlinewidth": 0,
             "ticks": ""
            },
            "colorscale": [
             [
              0,
              "#0d0887"
             ],
             [
              0.1111111111111111,
              "#46039f"
             ],
             [
              0.2222222222222222,
              "#7201a8"
             ],
             [
              0.3333333333333333,
              "#9c179e"
             ],
             [
              0.4444444444444444,
              "#bd3786"
             ],
             [
              0.5555555555555556,
              "#d8576b"
             ],
             [
              0.6666666666666666,
              "#ed7953"
             ],
             [
              0.7777777777777778,
              "#fb9f3a"
             ],
             [
              0.8888888888888888,
              "#fdca26"
             ],
             [
              1,
              "#f0f921"
             ]
            ],
            "type": "surface"
           }
          ],
          "table": [
           {
            "cells": {
             "fill": {
              "color": "#EBF0F8"
             },
             "line": {
              "color": "white"
             }
            },
            "header": {
             "fill": {
              "color": "#C8D4E3"
             },
             "line": {
              "color": "white"
             }
            },
            "type": "table"
           }
          ]
         },
         "layout": {
          "annotationdefaults": {
           "arrowcolor": "#2a3f5f",
           "arrowhead": 0,
           "arrowwidth": 1
          },
          "autotypenumbers": "strict",
          "coloraxis": {
           "colorbar": {
            "outlinewidth": 0,
            "ticks": ""
           }
          },
          "colorscale": {
           "diverging": [
            [
             0,
             "#8e0152"
            ],
            [
             0.1,
             "#c51b7d"
            ],
            [
             0.2,
             "#de77ae"
            ],
            [
             0.3,
             "#f1b6da"
            ],
            [
             0.4,
             "#fde0ef"
            ],
            [
             0.5,
             "#f7f7f7"
            ],
            [
             0.6,
             "#e6f5d0"
            ],
            [
             0.7,
             "#b8e186"
            ],
            [
             0.8,
             "#7fbc41"
            ],
            [
             0.9,
             "#4d9221"
            ],
            [
             1,
             "#276419"
            ]
           ],
           "sequential": [
            [
             0,
             "#0d0887"
            ],
            [
             0.1111111111111111,
             "#46039f"
            ],
            [
             0.2222222222222222,
             "#7201a8"
            ],
            [
             0.3333333333333333,
             "#9c179e"
            ],
            [
             0.4444444444444444,
             "#bd3786"
            ],
            [
             0.5555555555555556,
             "#d8576b"
            ],
            [
             0.6666666666666666,
             "#ed7953"
            ],
            [
             0.7777777777777778,
             "#fb9f3a"
            ],
            [
             0.8888888888888888,
             "#fdca26"
            ],
            [
             1,
             "#f0f921"
            ]
           ],
           "sequentialminus": [
            [
             0,
             "#0d0887"
            ],
            [
             0.1111111111111111,
             "#46039f"
            ],
            [
             0.2222222222222222,
             "#7201a8"
            ],
            [
             0.3333333333333333,
             "#9c179e"
            ],
            [
             0.4444444444444444,
             "#bd3786"
            ],
            [
             0.5555555555555556,
             "#d8576b"
            ],
            [
             0.6666666666666666,
             "#ed7953"
            ],
            [
             0.7777777777777778,
             "#fb9f3a"
            ],
            [
             0.8888888888888888,
             "#fdca26"
            ],
            [
             1,
             "#f0f921"
            ]
           ]
          },
          "colorway": [
           "#636efa",
           "#EF553B",
           "#00cc96",
           "#ab63fa",
           "#FFA15A",
           "#19d3f3",
           "#FF6692",
           "#B6E880",
           "#FF97FF",
           "#FECB52"
          ],
          "font": {
           "color": "#2a3f5f"
          },
          "geo": {
           "bgcolor": "white",
           "lakecolor": "white",
           "landcolor": "white",
           "showlakes": true,
           "showland": true,
           "subunitcolor": "#C8D4E3"
          },
          "hoverlabel": {
           "align": "left"
          },
          "hovermode": "closest",
          "mapbox": {
           "style": "light"
          },
          "paper_bgcolor": "white",
          "plot_bgcolor": "white",
          "polar": {
           "angularaxis": {
            "gridcolor": "#EBF0F8",
            "linecolor": "#EBF0F8",
            "ticks": ""
           },
           "bgcolor": "white",
           "radialaxis": {
            "gridcolor": "#EBF0F8",
            "linecolor": "#EBF0F8",
            "ticks": ""
           }
          },
          "scene": {
           "xaxis": {
            "backgroundcolor": "white",
            "gridcolor": "#DFE8F3",
            "gridwidth": 2,
            "linecolor": "#EBF0F8",
            "showbackground": true,
            "ticks": "",
            "zerolinecolor": "#EBF0F8"
           },
           "yaxis": {
            "backgroundcolor": "white",
            "gridcolor": "#DFE8F3",
            "gridwidth": 2,
            "linecolor": "#EBF0F8",
            "showbackground": true,
            "ticks": "",
            "zerolinecolor": "#EBF0F8"
           },
           "zaxis": {
            "backgroundcolor": "white",
            "gridcolor": "#DFE8F3",
            "gridwidth": 2,
            "linecolor": "#EBF0F8",
            "showbackground": true,
            "ticks": "",
            "zerolinecolor": "#EBF0F8"
           }
          },
          "shapedefaults": {
           "line": {
            "color": "#2a3f5f"
           }
          },
          "ternary": {
           "aaxis": {
            "gridcolor": "#DFE8F3",
            "linecolor": "#A2B1C6",
            "ticks": ""
           },
           "baxis": {
            "gridcolor": "#DFE8F3",
            "linecolor": "#A2B1C6",
            "ticks": ""
           },
           "bgcolor": "white",
           "caxis": {
            "gridcolor": "#DFE8F3",
            "linecolor": "#A2B1C6",
            "ticks": ""
           }
          },
          "title": {
           "x": 0.05
          },
          "xaxis": {
           "automargin": true,
           "gridcolor": "#EBF0F8",
           "linecolor": "#EBF0F8",
           "ticks": "",
           "title": {
            "standoff": 15
           },
           "zerolinecolor": "#EBF0F8",
           "zerolinewidth": 2
          },
          "yaxis": {
           "automargin": true,
           "gridcolor": "#EBF0F8",
           "linecolor": "#EBF0F8",
           "ticks": "",
           "title": {
            "standoff": 15
           },
           "zerolinecolor": "#EBF0F8",
           "zerolinewidth": 2
          }
         }
        },
        "title": {
         "text": "미국 지역의 월별 판매량 추이 (2016~2019)"
        },
        "xaxis": {
         "title": {
          "text": "월"
         }
        },
        "yaxis": {
         "title": {
          "text": "판매량"
         }
        }
       }
      }
     },
     "metadata": {},
     "output_type": "display_data"
    }
   ],
   "source": [
    "# CSV 파일 경로\n",
    "file_path = \"../../data/processed/현대_지역별수출실적_전처리.csv\"\n",
    "df = pd.read_csv(file_path)\n",
    "\n",
    "# 지역별 데이터 라인 차트 (Plotly)\n",
    "def plot_region_trend_interactive(region_name, start_year=None, end_year=None):\n",
    "    region_data = df.drop(columns=['대륙'], errors='ignore')\n",
    "    region_data = region_data[region_data['지역명'] == region_name]\n",
    "    \n",
    "    if region_data.empty:\n",
    "        print(f\"❌ 지역 '{region_name}'에 해당하는 데이터가 없습니다.\")\n",
    "        return\n",
    "\n",
    "    # 시계열 변환\n",
    "    sales_series = region_data.iloc[:, 1:].T\n",
    "    sales_series.columns = [region_name]\n",
    "    sales_series.index = pd.to_datetime(sales_series.index, errors='coerce')\n",
    "    sales_series = sales_series.asfreq('MS')\n",
    "\n",
    "    # 연도 필터링\n",
    "    if start_year:\n",
    "        sales_series = sales_series[sales_series.index.year >= start_year]\n",
    "    if end_year:\n",
    "        sales_series = sales_series[sales_series.index.year <= end_year]\n",
    "\n",
    "    if sales_series.empty:\n",
    "        print(f\"❌ {start_year}년부터 {end_year}년 사이의 데이터가 없습니다.\")\n",
    "        return\n",
    "\n",
    "    # Plotly 시각화\n",
    "    fig = go.Figure()\n",
    "    fig.add_trace(go.Scatter(\n",
    "        x=sales_series.index,\n",
    "        y=sales_series[region_name],\n",
    "        mode='lines+markers',\n",
    "        name=region_name\n",
    "    ))\n",
    "\n",
    "    fig.update_layout(\n",
    "        title=f\"{region_name} 지역의 월별 판매량 추이 ({start_year}~{end_year})\",\n",
    "        xaxis_title=\"월\",\n",
    "        yaxis_title=\"판매량\",\n",
    "        template='plotly_white',\n",
    "        height=600\n",
    "    )\n",
    "    fig.show()\n",
    "\n",
    "# 사용 예시\n",
    "plot_region_trend_interactive(\"미국\", start_year=2016, end_year=2019)"
   ]
  },
  {
   "cell_type": "markdown",
   "metadata": {},
   "source": [
    "#### 공장 및 거래 구분별 차량 판매 트렌드 보여주는 차트"
   ]
  },
  {
   "cell_type": "code",
   "execution_count": null,
   "metadata": {},
   "outputs": [
    {
     "data": {
      "application/vnd.plotly.v1+json": {
       "config": {
        "plotlyServerURL": "https://plot.ly"
       },
       "data": [
        {
         "line": {
          "width": 1
         },
         "mode": "lines+markers",
         "name": "Verna(RB)",
         "showlegend": true,
         "type": "scatter",
         "x": [
          "2016-01-01T00:00:00.000000000",
          "2016-02-01T00:00:00.000000000",
          "2016-03-01T00:00:00.000000000",
          "2016-04-01T00:00:00.000000000",
          "2016-05-01T00:00:00.000000000",
          "2016-06-01T00:00:00.000000000",
          "2016-07-01T00:00:00.000000000",
          "2016-08-01T00:00:00.000000000",
          "2016-09-01T00:00:00.000000000",
          "2016-10-01T00:00:00.000000000",
          "2016-11-01T00:00:00.000000000",
          "2016-12-01T00:00:00.000000000",
          "2017-01-01T00:00:00.000000000",
          "2017-02-01T00:00:00.000000000",
          "2017-03-01T00:00:00.000000000",
          "2017-04-01T00:00:00.000000000",
          "2017-05-01T00:00:00.000000000",
          "2017-08-01T00:00:00.000000000",
          "2017-09-01T00:00:00.000000000"
         ],
         "y": {
          "bdata": "AAAAAAC0yEAAAAAAANy/QAAAAACAisxAAAAAAAChyUAAAAAAAEbGQAAAAAAAvcpAAAAAAIBmxUAAAAAAAAO5QAAAAACANMBAAAAAAAAXt0AAAAAAAE63QAAAAAAA4rRAAAAAAABeq0AAAAAAAAiUQAAAAAAAibNAAAAAAADwdEAAAAAAAAAAQAAAAAAAjK5AAAAAAABUoEA=",
          "dtype": "f8"
         }
        },
        {
         "line": {
          "width": 1
         },
         "mode": "lines+markers",
         "name": "Elantra(XD)",
         "showlegend": true,
         "type": "scatter",
         "x": [
          "2016-01-01T00:00:00.000000000",
          "2016-02-01T00:00:00.000000000",
          "2016-03-01T00:00:00.000000000",
          "2016-04-01T00:00:00.000000000",
          "2016-05-01T00:00:00.000000000",
          "2016-06-01T00:00:00.000000000",
          "2016-07-01T00:00:00.000000000",
          "2016-08-01T00:00:00.000000000",
          "2016-11-01T00:00:00.000000000"
         ],
         "y": {
          "bdata": "AAAAAACog0AAAAAAAGByQAAAAAAAgH9AAAAAAABckEAAAAAAAICMQAAAAAAA8HdAAAAAAACAUUAAAAAAAADwPwAAAAAAgElA",
          "dtype": "f8"
         }
        },
        {
         "line": {
          "width": 1
         },
         "mode": "lines+markers",
         "name": "Elantra(HD)",
         "showlegend": true,
         "type": "scatter",
         "x": [
          "2016-01-01T00:00:00.000000000",
          "2016-02-01T00:00:00.000000000",
          "2016-03-01T00:00:00.000000000",
          "2016-04-01T00:00:00.000000000",
          "2016-05-01T00:00:00.000000000",
          "2016-06-01T00:00:00.000000000",
          "2016-07-01T00:00:00.000000000",
          "2016-08-01T00:00:00.000000000",
          "2016-09-01T00:00:00.000000000",
          "2016-10-01T00:00:00.000000000",
          "2016-11-01T00:00:00.000000000",
          "2016-12-01T00:00:00.000000000",
          "2017-01-01T00:00:00.000000000",
          "2017-02-01T00:00:00.000000000",
          "2017-03-01T00:00:00.000000000",
          "2017-04-01T00:00:00.000000000",
          "2017-05-01T00:00:00.000000000",
          "2017-06-01T00:00:00.000000000",
          "2017-07-01T00:00:00.000000000",
          "2017-08-01T00:00:00.000000000",
          "2017-09-01T00:00:00.000000000",
          "2017-10-01T00:00:00.000000000",
          "2017-11-01T00:00:00.000000000",
          "2017-12-01T00:00:00.000000000",
          "2018-01-01T00:00:00.000000000",
          "2018-02-01T00:00:00.000000000",
          "2018-03-01T00:00:00.000000000",
          "2018-04-01T00:00:00.000000000",
          "2018-05-01T00:00:00.000000000",
          "2018-06-01T00:00:00.000000000",
          "2018-07-01T00:00:00.000000000",
          "2018-08-01T00:00:00.000000000",
          "2018-09-01T00:00:00.000000000",
          "2018-10-01T00:00:00.000000000",
          "2018-11-01T00:00:00.000000000",
          "2018-12-01T00:00:00.000000000",
          "2019-01-01T00:00:00.000000000",
          "2019-02-01T00:00:00.000000000",
          "2019-03-01T00:00:00.000000000",
          "2019-04-01T00:00:00.000000000",
          "2019-05-01T00:00:00.000000000",
          "2019-06-01T00:00:00.000000000",
          "2019-07-01T00:00:00.000000000",
          "2019-08-01T00:00:00.000000000",
          "2019-09-01T00:00:00.000000000",
          "2019-10-01T00:00:00.000000000",
          "2019-11-01T00:00:00.000000000",
          "2019-12-01T00:00:00.000000000",
          "2020-01-01T00:00:00.000000000",
          "2020-02-01T00:00:00.000000000",
          "2020-03-01T00:00:00.000000000",
          "2020-04-01T00:00:00.000000000",
          "2020-05-01T00:00:00.000000000",
          "2020-06-01T00:00:00.000000000"
         ],
         "y": {
          "bdata": "AAAAAAAgjkAAAAAAAMBYQAAAAAAAkHlAAAAAAABYjUAAAAAAgCPBQAAAAAAABqRAAAAAAACoj0AAAAAAAMCMQAAAAAAA+IlAAAAAAAAwkUAAAAAAAJSaQAAAAAAAyJtAAAAAAAAQf0AAAAAAAOiKQAAAAAAA+qFAAAAAAAAsoUAAAAAAAEyoQAAAAAAA9KFAAAAAAACgk0AAAAAAAFCWQAAAAAAA9JlAAAAAAAAgjEAAAAAAAFyXQAAAAAAAKJlAAAAAAABYiUAAAAAAADCAQAAAAAAANJRAAAAAAAAIoEAAAAAAAASZQAAAAAAAeJ5AAAAAAAAIlEAAAAAAAISUQAAAAAAALJJAAAAAAAAwj0AAAAAAANiUQAAAAAAAeJNAAAAAAABIj0AAAAAAAOiJQAAAAAAAYJhAAAAAAADojkAAAAAAAOiNQAAAAAAAAJFAAAAAAAAwgEAAAAAAAHCGQAAAAAAAUIFAAAAAAAAYhUAAAAAAAPCDQAAAAAAA0IZAAAAAAACAUUAAAAAAAAAyQAAAAAAAAF9AAAAAAAAAYkAAAAAAAMBbQAAAAAAAgEBA",
          "dtype": "f8"
         }
        },
        {
         "line": {
          "width": 1
         },
         "mode": "lines+markers",
         "name": "Elantra(MD)",
         "showlegend": true,
         "type": "scatter",
         "x": [
          "2016-01-01T00:00:00.000000000",
          "2016-02-01T00:00:00.000000000",
          "2016-03-01T00:00:00.000000000",
          "2016-04-01T00:00:00.000000000",
          "2016-05-01T00:00:00.000000000",
          "2016-06-01T00:00:00.000000000",
          "2016-07-01T00:00:00.000000000",
          "2016-08-01T00:00:00.000000000",
          "2016-09-01T00:00:00.000000000",
          "2016-10-01T00:00:00.000000000",
          "2016-11-01T00:00:00.000000000",
          "2016-12-01T00:00:00.000000000",
          "2017-01-01T00:00:00.000000000",
          "2017-02-01T00:00:00.000000000",
          "2017-03-01T00:00:00.000000000",
          "2017-04-01T00:00:00.000000000",
          "2017-05-01T00:00:00.000000000",
          "2017-06-01T00:00:00.000000000",
          "2017-07-01T00:00:00.000000000",
          "2017-08-01T00:00:00.000000000",
          "2017-09-01T00:00:00.000000000",
          "2017-10-01T00:00:00.000000000",
          "2017-11-01T00:00:00.000000000",
          "2017-12-01T00:00:00.000000000",
          "2018-01-01T00:00:00.000000000",
          "2018-02-01T00:00:00.000000000",
          "2018-03-01T00:00:00.000000000",
          "2018-04-01T00:00:00.000000000",
          "2018-05-01T00:00:00.000000000"
         ],
         "y": {
          "bdata": "AAAAAMB00UAAAAAAAGbMQAAAAADA3dVAAAAAAMCP0kAAAAAAALrRQAAAAAAAE9NAAAAAAAChy0AAAAAAwLnTQAAAAAAAdttAAAAAAMAD1UAAAAAAQJzbQAAAAACAWN1AAAAAAECm0kAAAAAAAPrOQAAAAAAAzr5AAAAAAABmuEAAAAAAAKC2QAAAAAAAublAAAAAAABJwEAAAAAAABG0QAAAAAAAvLhAAAAAAIA5xUAAAAAAADvFQAAAAAAAX81AAAAAAABQq0AAAAAAAEibQAAAAAAAMKRAAAAAAADgYkAAAAAAAIBCQA==",
          "dtype": "f8"
         }
        },
        {
         "line": {
          "width": 1
         },
         "mode": "lines+markers",
         "name": "Mistra (CF)",
         "showlegend": true,
         "type": "scatter",
         "x": [
          "2016-01-01T00:00:00.000000000",
          "2016-02-01T00:00:00.000000000",
          "2016-03-01T00:00:00.000000000",
          "2016-04-01T00:00:00.000000000",
          "2016-05-01T00:00:00.000000000",
          "2016-06-01T00:00:00.000000000",
          "2016-07-01T00:00:00.000000000",
          "2016-08-01T00:00:00.000000000",
          "2016-09-01T00:00:00.000000000",
          "2016-10-01T00:00:00.000000000",
          "2016-11-01T00:00:00.000000000",
          "2016-12-01T00:00:00.000000000",
          "2017-01-01T00:00:00.000000000",
          "2017-02-01T00:00:00.000000000",
          "2017-03-01T00:00:00.000000000",
          "2017-04-01T00:00:00.000000000",
          "2017-05-01T00:00:00.000000000",
          "2017-06-01T00:00:00.000000000",
          "2017-07-01T00:00:00.000000000",
          "2017-08-01T00:00:00.000000000",
          "2017-09-01T00:00:00.000000000",
          "2017-10-01T00:00:00.000000000",
          "2017-11-01T00:00:00.000000000",
          "2017-12-01T00:00:00.000000000",
          "2018-01-01T00:00:00.000000000",
          "2018-02-01T00:00:00.000000000",
          "2018-03-01T00:00:00.000000000",
          "2018-04-01T00:00:00.000000000",
          "2018-05-01T00:00:00.000000000",
          "2018-06-01T00:00:00.000000000",
          "2018-07-01T00:00:00.000000000",
          "2018-08-01T00:00:00.000000000",
          "2018-09-01T00:00:00.000000000",
          "2018-10-01T00:00:00.000000000",
          "2018-11-01T00:00:00.000000000",
          "2018-12-01T00:00:00.000000000",
          "2019-01-01T00:00:00.000000000",
          "2019-02-01T00:00:00.000000000",
          "2019-03-01T00:00:00.000000000",
          "2019-04-01T00:00:00.000000000",
          "2019-05-01T00:00:00.000000000",
          "2019-06-01T00:00:00.000000000",
          "2019-07-01T00:00:00.000000000",
          "2019-08-01T00:00:00.000000000",
          "2019-09-01T00:00:00.000000000",
          "2019-10-01T00:00:00.000000000",
          "2019-11-01T00:00:00.000000000",
          "2019-12-01T00:00:00.000000000",
          "2020-01-01T00:00:00.000000000",
          "2020-02-01T00:00:00.000000000",
          "2020-03-01T00:00:00.000000000",
          "2020-04-01T00:00:00.000000000",
          "2020-05-01T00:00:00.000000000",
          "2020-06-01T00:00:00.000000000",
          "2020-07-01T00:00:00.000000000",
          "2020-08-01T00:00:00.000000000",
          "2020-09-01T00:00:00.000000000",
          "2020-10-01T00:00:00.000000000",
          "2020-11-01T00:00:00.000000000",
          "2020-12-01T00:00:00.000000000"
         ],
         "y": {
          "bdata": "AAAAAABtwkAAAAAAAHC3QAAAAAAAzsVAAAAAAIAOxkAAAAAAALLJQAAAAACAIs1AAAAAAIClw0AAAAAAgCjGQAAAAAAA2cxAAAAAAIBIzEAAAAAAACfPQAAAAACAos5AAAAAAAAHx0AAAAAAgFzBQAAAAACAq8JAAAAAAIB5wEAAAAAAgIfBQAAAAAAAHb9AAAAAAIAPxEAAAAAAgB/EQAAAAACAps1AAAAAAIAkyUAAAAAAgBvNQAAAAAAAUM5AAAAAAABtx0AAAAAAgKHAQAAAAAAAu81AAAAAAIB1ykAAAAAAgODBQAAAAACAEcpAAAAAAAD0n0AAAAAAADi1QAAAAAAAq7RAAAAAAAB2uEAAAAAAAGKrQAAAAAAAxbJAAAAAAAAAxEAAAAAAAJ27QAAAAAAAjb1AAAAAAADGtkAAAAAAAPmyQAAAAAAA/rhAAAAAAACTuEAAAAAAAHLCQAAAAAAANcpAAAAAAAAsvkAAAAAAANK6QAAAAACAlMRAAAAAAACEl0AAAAAAAIBEQAAAAAAAtJdAAAAAAABYmEAAAAAAAKypQAAAAAAAtqNAAAAAAAD0n0AAAAAAADSgQAAAAAAAFKhAAAAAAAAMo0AAAAAAABB8QAAAAAAAQGBA",
          "dtype": "f8"
         }
        },
        {
         "line": {
          "width": 1
         },
         "mode": "lines+markers",
         "name": "Sonata(EF)",
         "showlegend": true,
         "type": "scatter",
         "x": [
          "2016-01-01T00:00:00.000000000",
          "2016-02-01T00:00:00.000000000",
          "2016-03-01T00:00:00.000000000",
          "2016-04-01T00:00:00.000000000",
          "2016-05-01T00:00:00.000000000",
          "2016-06-01T00:00:00.000000000",
          "2016-07-01T00:00:00.000000000",
          "2016-08-01T00:00:00.000000000",
          "2016-09-01T00:00:00.000000000",
          "2016-10-01T00:00:00.000000000",
          "2016-11-01T00:00:00.000000000",
          "2016-12-01T00:00:00.000000000",
          "2017-01-01T00:00:00.000000000"
         ],
         "y": {
          "bdata": "AAAAAADAUkAAAAAAAABOQAAAAAAAOIRAAAAAAACggkAAAAAAAJB3QAAAAAAA8HJAAAAAAAAkl0AAAAAAAIBgQAAAAAAAUHRAAAAAAABgYEAAAAAAAEiCQAAAAAAAGINAAAAAAABkk0A=",
          "dtype": "f8"
         }
        },
        {
         "line": {
          "width": 1
         },
         "mode": "lines+markers",
         "name": "Sonata(YF)",
         "showlegend": true,
         "type": "scatter",
         "x": [
          "2016-01-01T00:00:00.000000000",
          "2016-02-01T00:00:00.000000000",
          "2016-03-01T00:00:00.000000000",
          "2016-04-01T00:00:00.000000000",
          "2016-05-01T00:00:00.000000000"
         ],
         "y": {
          "bdata": "AAAAAAAohUAAAAAAAEBXQAAAAAAAIGlAAAAAAAC6pkAAAAAAADB/QA==",
          "dtype": "f8"
         }
        },
        {
         "line": {
          "width": 1
         },
         "mode": "lines+markers",
         "name": "Sonata(LF)",
         "showlegend": true,
         "type": "scatter",
         "x": [
          "2016-01-01T00:00:00.000000000",
          "2016-02-01T00:00:00.000000000",
          "2016-03-01T00:00:00.000000000",
          "2016-04-01T00:00:00.000000000",
          "2016-05-01T00:00:00.000000000",
          "2016-06-01T00:00:00.000000000",
          "2016-07-01T00:00:00.000000000",
          "2016-08-01T00:00:00.000000000",
          "2016-09-01T00:00:00.000000000",
          "2016-10-01T00:00:00.000000000",
          "2016-11-01T00:00:00.000000000",
          "2016-12-01T00:00:00.000000000",
          "2017-01-01T00:00:00.000000000",
          "2017-02-01T00:00:00.000000000",
          "2017-03-01T00:00:00.000000000",
          "2017-04-01T00:00:00.000000000",
          "2017-05-01T00:00:00.000000000",
          "2017-06-01T00:00:00.000000000",
          "2017-07-01T00:00:00.000000000",
          "2017-08-01T00:00:00.000000000",
          "2017-09-01T00:00:00.000000000",
          "2017-10-01T00:00:00.000000000",
          "2017-11-01T00:00:00.000000000",
          "2017-12-01T00:00:00.000000000",
          "2018-01-01T00:00:00.000000000",
          "2018-02-01T00:00:00.000000000",
          "2018-03-01T00:00:00.000000000",
          "2018-04-01T00:00:00.000000000",
          "2018-05-01T00:00:00.000000000",
          "2018-06-01T00:00:00.000000000",
          "2018-07-01T00:00:00.000000000",
          "2018-08-01T00:00:00.000000000",
          "2018-09-01T00:00:00.000000000",
          "2018-10-01T00:00:00.000000000",
          "2018-11-01T00:00:00.000000000",
          "2018-12-01T00:00:00.000000000",
          "2019-01-01T00:00:00.000000000",
          "2019-02-01T00:00:00.000000000",
          "2019-03-01T00:00:00.000000000",
          "2019-04-01T00:00:00.000000000",
          "2019-05-01T00:00:00.000000000",
          "2019-06-01T00:00:00.000000000",
          "2019-07-01T00:00:00.000000000",
          "2019-08-01T00:00:00.000000000",
          "2019-09-01T00:00:00.000000000",
          "2019-10-01T00:00:00.000000000",
          "2019-11-01T00:00:00.000000000",
          "2019-12-01T00:00:00.000000000"
         ],
         "y": {
          "bdata": "AAAAAAAWr0AAAAAAAM6mQAAAAAAA2qtAAAAAAADZsEAAAAAAAOqlQAAAAAAAyKFAAAAAAADklkAAAAAAAKCNQAAAAAAAmJZAAAAAAABUnkAAAAAAAMKnQAAAAAAA0qZAAAAAAAD4lUAAAAAAAKCMQAAAAAAA2I5AAAAAAAAokEAAAAAAAKiCQAAAAAAAWJVAAAAAAADwiUAAAAAAAFB2QAAAAAAAPqBAAAAAAADkkUAAAAAAAJCHQAAAAAAAJJRAAAAAAAAAe0AAAAAAAABoQAAAAAAAFJBAAAAAAABAiUAAAAAAAACBQAAAAAAA8HVAAAAAAABAXUAAAAAAAGCBQAAAAAAAkHNAAAAAAADwlEAAAAAAAHB7QAAAAAAA4IFAAAAAAAAgbkAAAAAAAKBlQAAAAAAAAGhAAAAAAACgb0AAAAAAACBnQAAAAAAAIGZAAAAAAACAT0AAAAAAAMBYQAAAAAAAgFpAAAAAAABgY0AAAAAAABCAQAAAAAAAIHBA",
          "dtype": "f8"
         }
        },
        {
         "line": {
          "width": 1
         },
         "mode": "lines+markers",
         "name": "ix25(GC)",
         "showlegend": true,
         "type": "scatter",
         "x": [
          "2016-01-01T00:00:00.000000000",
          "2016-02-01T00:00:00.000000000",
          "2016-03-01T00:00:00.000000000",
          "2016-04-01T00:00:00.000000000",
          "2016-05-01T00:00:00.000000000",
          "2016-06-01T00:00:00.000000000",
          "2016-07-01T00:00:00.000000000",
          "2016-08-01T00:00:00.000000000",
          "2016-09-01T00:00:00.000000000",
          "2016-10-01T00:00:00.000000000",
          "2016-11-01T00:00:00.000000000",
          "2016-12-01T00:00:00.000000000",
          "2017-01-01T00:00:00.000000000",
          "2017-02-01T00:00:00.000000000",
          "2017-03-01T00:00:00.000000000",
          "2017-04-01T00:00:00.000000000",
          "2017-05-01T00:00:00.000000000",
          "2017-06-01T00:00:00.000000000",
          "2017-07-01T00:00:00.000000000",
          "2017-08-01T00:00:00.000000000",
          "2017-09-01T00:00:00.000000000",
          "2017-10-01T00:00:00.000000000",
          "2017-11-01T00:00:00.000000000",
          "2017-12-01T00:00:00.000000000",
          "2018-01-01T00:00:00.000000000",
          "2018-02-01T00:00:00.000000000",
          "2018-03-01T00:00:00.000000000",
          "2018-04-01T00:00:00.000000000",
          "2018-05-01T00:00:00.000000000",
          "2018-06-01T00:00:00.000000000",
          "2018-07-01T00:00:00.000000000",
          "2018-08-01T00:00:00.000000000",
          "2018-09-01T00:00:00.000000000",
          "2018-10-01T00:00:00.000000000",
          "2018-11-01T00:00:00.000000000",
          "2018-12-01T00:00:00.000000000",
          "2019-01-01T00:00:00.000000000",
          "2019-02-01T00:00:00.000000000",
          "2019-03-01T00:00:00.000000000",
          "2019-04-01T00:00:00.000000000",
          "2019-05-01T00:00:00.000000000",
          "2019-06-01T00:00:00.000000000",
          "2019-07-01T00:00:00.000000000",
          "2019-08-01T00:00:00.000000000",
          "2019-09-01T00:00:00.000000000",
          "2019-10-01T00:00:00.000000000",
          "2019-11-01T00:00:00.000000000",
          "2019-12-01T00:00:00.000000000"
         ],
         "y": {
          "bdata": "AAAAAICuwEAAAAAAAB28QAAAAAAAR8RAAAAAAIDuwUAAAAAAAMfDQAAAAACADcNAAAAAAACMtEAAAAAAAOK+QAAAAAAAUL5AAAAAAABsv0AAAAAAgG7HQAAAAADA6dBAAAAAAACguEAAAAAAAIW3QAAAAAAAjK1AAAAAAABQlkAAAAAAAIyXQAAAAAAA8JFAAAAAAACwkEAAAAAAAIiRQAAAAAAA07FAAAAAAAC8t0AAAAAAAK64QAAAAACAU8JAAAAAAABepUAAAAAAAHybQAAAAAAAQq9AAAAAAABmuEAAAAAAALO8QAAAAAAAesJAAAAAAABap0AAAAAAAKa/QAAAAAAAmb5AAAAAAICUwUAAAAAAACW8QAAAAACAVcFAAAAAAADYkkAAAAAAAKSpQAAAAAAAkrBAAAAAAAA4o0AAAAAAAIiTQAAAAAAA2K5AAAAAAADAikAAAAAAADyiQAAAAAAALqdAAAAAAADomEAAAAAAAAA4QAAAAAAAADFA",
          "dtype": "f8"
         }
        },
        {
         "line": {
          "width": 1
         },
         "mode": "lines+markers",
         "name": "Tucson(LM)",
         "showlegend": true,
         "type": "scatter",
         "x": [
          "2016-01-01T00:00:00.000000000",
          "2016-02-01T00:00:00.000000000",
          "2016-03-01T00:00:00.000000000",
          "2016-04-01T00:00:00.000000000",
          "2016-05-01T00:00:00.000000000",
          "2016-06-01T00:00:00.000000000",
          "2016-07-01T00:00:00.000000000",
          "2016-08-01T00:00:00.000000000",
          "2016-09-01T00:00:00.000000000",
          "2016-10-01T00:00:00.000000000",
          "2016-11-01T00:00:00.000000000",
          "2016-12-01T00:00:00.000000000",
          "2017-01-01T00:00:00.000000000",
          "2017-02-01T00:00:00.000000000",
          "2017-03-01T00:00:00.000000000",
          "2017-04-01T00:00:00.000000000",
          "2017-05-01T00:00:00.000000000",
          "2017-06-01T00:00:00.000000000",
          "2017-07-01T00:00:00.000000000",
          "2017-08-01T00:00:00.000000000",
          "2017-09-01T00:00:00.000000000",
          "2017-10-01T00:00:00.000000000",
          "2017-11-01T00:00:00.000000000",
          "2017-12-01T00:00:00.000000000",
          "2018-01-01T00:00:00.000000000",
          "2018-02-01T00:00:00.000000000",
          "2018-03-01T00:00:00.000000000",
          "2018-05-01T00:00:00.000000000",
          "2018-09-01T00:00:00.000000000"
         ],
         "y": {
          "bdata": "AAAAAABxu0AAAAAAAE+zQAAAAAAAgLxAAAAAAAABuEAAAAAAAB66QAAAAAAAu7hAAAAAAAAZsUAAAAAAAB+4QAAAAAAAv7pAAAAAAAAusEAAAAAAAGG1QAAAAAAAYrlAAAAAAAACqkAAAAAAADypQAAAAAAABJxAAAAAAADgkEAAAAAAAIiJQAAAAAAAYIlAAAAAAACAfkAAAAAAAEiAQAAAAAAAYKtAAAAAAADcoUAAAAAAAECIQAAAAAAAjJNAAAAAAABGs0AAAAAAACCKQAAAAAAAQGFAAAAAAAAA8D8AAAAAAADwPw==",
          "dtype": "f8"
         }
        },
        {
         "line": {
          "width": 1
         },
         "mode": "lines+markers",
         "name": "Tucson(TL)",
         "showlegend": true,
         "type": "scatter",
         "x": [
          "2016-01-01T00:00:00.000000000",
          "2016-02-01T00:00:00.000000000",
          "2016-03-01T00:00:00.000000000",
          "2016-04-01T00:00:00.000000000",
          "2016-05-01T00:00:00.000000000",
          "2016-06-01T00:00:00.000000000",
          "2016-07-01T00:00:00.000000000",
          "2016-08-01T00:00:00.000000000",
          "2016-09-01T00:00:00.000000000",
          "2016-10-01T00:00:00.000000000",
          "2016-11-01T00:00:00.000000000",
          "2016-12-01T00:00:00.000000000",
          "2017-01-01T00:00:00.000000000",
          "2017-02-01T00:00:00.000000000",
          "2017-03-01T00:00:00.000000000",
          "2017-04-01T00:00:00.000000000",
          "2017-05-01T00:00:00.000000000",
          "2017-06-01T00:00:00.000000000",
          "2017-07-01T00:00:00.000000000",
          "2017-08-01T00:00:00.000000000",
          "2017-09-01T00:00:00.000000000",
          "2017-10-01T00:00:00.000000000",
          "2017-11-01T00:00:00.000000000",
          "2017-12-01T00:00:00.000000000",
          "2018-01-01T00:00:00.000000000",
          "2018-02-01T00:00:00.000000000",
          "2018-03-01T00:00:00.000000000",
          "2018-04-01T00:00:00.000000000",
          "2018-05-01T00:00:00.000000000",
          "2018-06-01T00:00:00.000000000",
          "2018-07-01T00:00:00.000000000",
          "2018-08-01T00:00:00.000000000",
          "2018-09-01T00:00:00.000000000",
          "2018-10-01T00:00:00.000000000",
          "2018-11-01T00:00:00.000000000",
          "2018-12-01T00:00:00.000000000",
          "2019-01-01T00:00:00.000000000",
          "2019-02-01T00:00:00.000000000",
          "2019-03-01T00:00:00.000000000",
          "2019-04-01T00:00:00.000000000",
          "2019-05-01T00:00:00.000000000",
          "2019-06-01T00:00:00.000000000",
          "2019-07-01T00:00:00.000000000",
          "2019-08-01T00:00:00.000000000",
          "2019-09-01T00:00:00.000000000",
          "2019-10-01T00:00:00.000000000",
          "2019-11-01T00:00:00.000000000",
          "2019-12-01T00:00:00.000000000",
          "2020-01-01T00:00:00.000000000",
          "2020-02-01T00:00:00.000000000",
          "2020-03-01T00:00:00.000000000",
          "2020-04-01T00:00:00.000000000",
          "2020-05-01T00:00:00.000000000",
          "2020-06-01T00:00:00.000000000",
          "2020-07-01T00:00:00.000000000",
          "2020-08-01T00:00:00.000000000",
          "2020-09-01T00:00:00.000000000",
          "2020-10-01T00:00:00.000000000",
          "2020-11-01T00:00:00.000000000",
          "2020-12-01T00:00:00.000000000",
          "2021-01-01T00:00:00.000000000",
          "2021-02-01T00:00:00.000000000",
          "2021-03-01T00:00:00.000000000",
          "2021-05-01T00:00:00.000000000"
         ],
         "y": {
          "bdata": "AAAAAACJw0AAAAAAAN+6QAAAAACAsM1AAAAAAADHxUAAAAAAAGDMQAAAAACAyclAAAAAAIDiw0AAAAAAgL7QQAAAAABAs9NAAAAAAACwzEAAAAAAADfVQAAAAAAATdVAAAAAAABZyUAAAAAAgBnBQAAAAAAAj7ZAAAAAAAA8q0AAAAAAAMyzQAAAAAAArbpAAAAAAAD5xEAAAAAAgCLIQAAAAAAANdFAAAAAAAC/zEAAAAAAAN3OQAAAAABA2NVAAAAAAAA0tEAAAAAAAKiuQAAAAACAosNAAAAAAABUwUAAAAAAAPynQAAAAAAAkqNAAAAAAACgiEAAAAAAANCeQAAAAAAA3clAAAAAAABcmkAAAAAAAKitQAAAAAAAhKRAAAAAAABwe0AAAAAAAMB+QAAAAAAAfJRAAAAAAAAgi0AAAAAAADCDQAAAAAAAJKhAAAAAAACMpkAAAAAAAMCvQAAAAAAAQrFAAAAAAABysUAAAAAAAJOxQAAAAAAAb7JAAAAAAAB4n0AAAAAAAAAIQAAAAAAAJJdAAAAAAAA8n0AAAAAAAJSrQAAAAAAAMK1AAAAAAACEpkAAAAAAAI6jQAAAAAAAqKZAAAAAAABUqEAAAAAAAOiqQAAAAAAATq1AAAAAAAAIoEAAAAAAAOCGQAAAAAAAACZAAAAAAAAA8D8=",
          "dtype": "f8"
         }
        },
        {
         "line": {
          "width": 1
         },
         "mode": "lines+markers",
         "name": "SantaFe(DM)",
         "showlegend": true,
         "type": "scatter",
         "x": [
          "2016-01-01T00:00:00.000000000",
          "2016-02-01T00:00:00.000000000",
          "2016-03-01T00:00:00.000000000",
          "2016-04-01T00:00:00.000000000",
          "2016-05-01T00:00:00.000000000",
          "2016-06-01T00:00:00.000000000",
          "2016-07-01T00:00:00.000000000",
          "2016-08-01T00:00:00.000000000",
          "2016-09-01T00:00:00.000000000",
          "2016-10-01T00:00:00.000000000",
          "2016-11-01T00:00:00.000000000",
          "2016-12-01T00:00:00.000000000",
          "2017-01-01T00:00:00.000000000",
          "2017-02-01T00:00:00.000000000",
          "2017-03-01T00:00:00.000000000",
          "2017-04-01T00:00:00.000000000",
          "2017-05-01T00:00:00.000000000",
          "2017-06-01T00:00:00.000000000",
          "2017-07-01T00:00:00.000000000",
          "2017-08-01T00:00:00.000000000",
          "2017-09-01T00:00:00.000000000",
          "2017-10-01T00:00:00.000000000",
          "2017-11-01T00:00:00.000000000",
          "2017-12-01T00:00:00.000000000",
          "2018-01-01T00:00:00.000000000",
          "2018-02-01T00:00:00.000000000",
          "2018-03-01T00:00:00.000000000",
          "2018-04-01T00:00:00.000000000",
          "2018-05-01T00:00:00.000000000",
          "2018-06-01T00:00:00.000000000",
          "2018-07-01T00:00:00.000000000",
          "2018-08-01T00:00:00.000000000",
          "2018-09-01T00:00:00.000000000",
          "2018-10-01T00:00:00.000000000",
          "2018-11-01T00:00:00.000000000",
          "2018-12-01T00:00:00.000000000",
          "2019-01-01T00:00:00.000000000",
          "2019-02-01T00:00:00.000000000",
          "2019-03-01T00:00:00.000000000",
          "2019-04-01T00:00:00.000000000",
          "2019-11-01T00:00:00.000000000"
         ],
         "y": {
          "bdata": "AAAAAAB2qkAAAAAAAFicQAAAAAAAwKlAAAAAAAD8nEAAAAAAAACQQAAAAAAAoJFAAAAAAACAiEAAAAAAAGCFQAAAAAAA8qFAAAAAAACAnEAAAAAAACygQAAAAAAAxqFAAAAAAACIlUAAAAAAAMySQAAAAAAAAIZAAAAAAAC8kkAAAAAAADB5QAAAAAAAAHJAAAAAAADwdkAAAAAAAGB3QAAAAAAATqFAAAAAAADMlUAAAAAAADiEQAAAAAAAnqBAAAAAAABQe0AAAAAAAABzQAAAAAAAOI1AAAAAAAAIhEAAAAAAAKBvQAAAAAAAjJtAAAAAAACAd0AAAAAAAEBTQAAAAAAAAEdAAAAAAAAAP0AAAAAAAAA8QAAAAAAAgElAAAAAAADohkAAAAAAAABMQAAAAAAAgFxAAAAAAAAAN0AAAAAAAAAIQA==",
          "dtype": "f8"
         }
        },
        {
         "line": {
          "width": 1
         },
         "mode": "lines+markers",
         "name": "Elantra (AD)",
         "showlegend": true,
         "type": "scatter",
         "x": [
          "2016-02-01T00:00:00.000000000",
          "2016-03-01T00:00:00.000000000",
          "2016-04-01T00:00:00.000000000",
          "2016-05-01T00:00:00.000000000",
          "2016-06-01T00:00:00.000000000",
          "2016-07-01T00:00:00.000000000",
          "2016-08-01T00:00:00.000000000",
          "2016-09-01T00:00:00.000000000",
          "2016-10-01T00:00:00.000000000",
          "2016-11-01T00:00:00.000000000",
          "2016-12-01T00:00:00.000000000",
          "2017-01-01T00:00:00.000000000",
          "2017-02-01T00:00:00.000000000",
          "2017-03-01T00:00:00.000000000",
          "2017-04-01T00:00:00.000000000",
          "2017-05-01T00:00:00.000000000",
          "2017-06-01T00:00:00.000000000",
          "2017-07-01T00:00:00.000000000",
          "2017-08-01T00:00:00.000000000",
          "2017-09-01T00:00:00.000000000",
          "2017-10-01T00:00:00.000000000",
          "2017-11-01T00:00:00.000000000",
          "2017-12-01T00:00:00.000000000",
          "2018-01-01T00:00:00.000000000",
          "2018-02-01T00:00:00.000000000",
          "2018-03-01T00:00:00.000000000",
          "2018-04-01T00:00:00.000000000",
          "2018-05-01T00:00:00.000000000",
          "2018-06-01T00:00:00.000000000",
          "2018-07-01T00:00:00.000000000",
          "2018-08-01T00:00:00.000000000",
          "2018-09-01T00:00:00.000000000",
          "2018-10-01T00:00:00.000000000",
          "2018-11-01T00:00:00.000000000",
          "2018-12-01T00:00:00.000000000",
          "2019-01-01T00:00:00.000000000",
          "2019-02-01T00:00:00.000000000",
          "2019-03-01T00:00:00.000000000",
          "2019-04-01T00:00:00.000000000",
          "2019-05-01T00:00:00.000000000",
          "2019-06-01T00:00:00.000000000",
          "2019-07-01T00:00:00.000000000",
          "2019-08-01T00:00:00.000000000",
          "2019-09-01T00:00:00.000000000",
          "2019-10-01T00:00:00.000000000",
          "2019-11-01T00:00:00.000000000",
          "2019-12-01T00:00:00.000000000",
          "2020-01-01T00:00:00.000000000",
          "2020-02-01T00:00:00.000000000",
          "2020-03-01T00:00:00.000000000",
          "2020-04-01T00:00:00.000000000",
          "2020-05-01T00:00:00.000000000",
          "2020-06-01T00:00:00.000000000",
          "2020-07-01T00:00:00.000000000",
          "2020-08-01T00:00:00.000000000",
          "2020-09-01T00:00:00.000000000",
          "2020-10-01T00:00:00.000000000",
          "2021-02-01T00:00:00.000000000",
          "2021-05-01T00:00:00.000000000"
         ],
         "y": {
          "bdata": "AAAAAADga0AAAAAAAEDFQAAAAACApMxAAAAAAAA2x0AAAAAAgKPJQAAAAACA98NAAAAAAADbw0AAAAAAAAXKQAAAAAAALsRAAAAAAIDRzEAAAAAAQBrWQAAAAAAAlblAAAAAAADIuUAAAAAAAPm1QAAAAAAAaqVAAAAAAAD8pEAAAAAAALiiQAAAAAAAqcVAAAAAAIBkx0AAAAAAABvNQAAAAACAictAAAAAAADb00AAAAAAAAPUQAAAAAAAAs1AAAAAAIAzw0AAAAAAAC/SQAAAAAAA2dJAAAAAAECf0UAAAAAAAKbTQAAAAAAAFMdAAAAAAEDc1EAAAAAAAE7YQAAAAAAAMNBAAAAAAEBJ00AAAAAAgDfVQAAAAAAAYqlAAAAAAACEuEAAAAAAAHfFQAAAAAAAmsNAAAAAAADruUAAAAAAgLLEQAAAAAAAfsRAAAAAAAD+xkAAAAAAANXJQAAAAAAAI8ZAAAAAAAB0yUAAAAAAQHjQQAAAAACAscBAAAAAAABwdEAAAAAAANC4QAAAAAAATbxAAAAAAAAiwUAAAAAAANa+QAAAAAAAOrhAAAAAAID2xkAAAAAAAABTQAAAAAAAQG5AAAAAAAAAWUAAAAAAAADwPw==",
          "dtype": "f8"
         }
        },
        {
         "line": {
          "width": 1
         },
         "mode": "lines+markers",
         "name": "Tucson(JM)",
         "showlegend": true,
         "type": "scatter",
         "x": [
          "2016-02-01T00:00:00.000000000",
          "2016-09-01T00:00:00.000000000"
         ],
         "y": {
          "bdata": "AAAAAAAAIkAAAAAAAAAAQA==",
          "dtype": "f8"
         }
        },
        {
         "line": {
          "width": 1
         },
         "mode": "lines+markers",
         "name": "Sonata (LF HEV)",
         "showlegend": true,
         "type": "scatter",
         "x": [
          "2016-05-01T00:00:00.000000000",
          "2016-06-01T00:00:00.000000000",
          "2016-07-01T00:00:00.000000000",
          "2016-08-01T00:00:00.000000000",
          "2016-09-01T00:00:00.000000000",
          "2016-10-01T00:00:00.000000000",
          "2016-11-01T00:00:00.000000000",
          "2016-12-01T00:00:00.000000000",
          "2017-01-01T00:00:00.000000000",
          "2017-02-01T00:00:00.000000000",
          "2017-03-01T00:00:00.000000000",
          "2017-04-01T00:00:00.000000000",
          "2017-05-01T00:00:00.000000000",
          "2017-06-01T00:00:00.000000000",
          "2017-07-01T00:00:00.000000000",
          "2017-08-01T00:00:00.000000000",
          "2017-09-01T00:00:00.000000000",
          "2017-10-01T00:00:00.000000000",
          "2017-11-01T00:00:00.000000000",
          "2017-12-01T00:00:00.000000000",
          "2018-01-01T00:00:00.000000000",
          "2018-02-01T00:00:00.000000000",
          "2018-03-01T00:00:00.000000000",
          "2018-04-01T00:00:00.000000000",
          "2018-05-01T00:00:00.000000000",
          "2018-06-01T00:00:00.000000000",
          "2018-07-01T00:00:00.000000000",
          "2018-08-01T00:00:00.000000000",
          "2018-09-01T00:00:00.000000000",
          "2018-10-01T00:00:00.000000000",
          "2018-11-01T00:00:00.000000000",
          "2018-12-01T00:00:00.000000000",
          "2019-01-01T00:00:00.000000000",
          "2019-02-01T00:00:00.000000000"
         ],
         "y": {
          "bdata": "AAAAAAAACEAAAAAAAFB3QAAAAAAAIGFAAAAAAAAANkAAAAAAAEBVQAAAAAAAgEtAAAAAAADgbEAAAAAAACBqQAAAAAAAACpAAAAAAAAAFEAAAAAAAAA2QAAAAAAAgE9AAAAAAAAAPUAAAAAAAHCIQAAAAAAAwHhAAAAAAABAV0AAAAAAAEBeQAAAAAAAwFRAAAAAAAAgaUAAAAAAAEBsQAAAAAAAAERAAAAAAAAA8D8AAAAAAEBVQAAAAAAAoGxAAAAAAADgc0AAAAAAAKBnQAAAAAAAADlAAAAAAABAWUAAAAAAAABXQAAAAAAAmJBAAAAAAACASUAAAAAAAIBOQAAAAAAAAAhAAAAAAAAASEA=",
          "dtype": "f8"
         }
        },
        {
         "line": {
          "width": 1
         },
         "mode": "lines+markers",
         "name": "Verna(YC)",
         "showlegend": true,
         "type": "scatter",
         "x": [
          "2016-10-01T00:00:00.000000000",
          "2016-11-01T00:00:00.000000000",
          "2016-12-01T00:00:00.000000000",
          "2017-01-01T00:00:00.000000000",
          "2017-02-01T00:00:00.000000000",
          "2017-03-01T00:00:00.000000000",
          "2017-04-01T00:00:00.000000000",
          "2017-05-01T00:00:00.000000000",
          "2017-06-01T00:00:00.000000000",
          "2017-07-01T00:00:00.000000000",
          "2017-08-01T00:00:00.000000000",
          "2017-09-01T00:00:00.000000000",
          "2017-10-01T00:00:00.000000000",
          "2017-11-01T00:00:00.000000000",
          "2017-12-01T00:00:00.000000000",
          "2018-01-01T00:00:00.000000000",
          "2018-02-01T00:00:00.000000000",
          "2018-03-01T00:00:00.000000000",
          "2018-04-01T00:00:00.000000000",
          "2018-05-01T00:00:00.000000000",
          "2018-06-01T00:00:00.000000000",
          "2018-07-01T00:00:00.000000000",
          "2018-08-01T00:00:00.000000000",
          "2018-09-01T00:00:00.000000000",
          "2018-10-01T00:00:00.000000000",
          "2018-11-01T00:00:00.000000000",
          "2018-12-01T00:00:00.000000000",
          "2019-01-01T00:00:00.000000000",
          "2019-02-01T00:00:00.000000000",
          "2019-03-01T00:00:00.000000000",
          "2019-04-01T00:00:00.000000000",
          "2019-05-01T00:00:00.000000000",
          "2019-06-01T00:00:00.000000000",
          "2019-07-01T00:00:00.000000000",
          "2019-08-01T00:00:00.000000000",
          "2019-09-01T00:00:00.000000000",
          "2019-10-01T00:00:00.000000000",
          "2019-11-01T00:00:00.000000000",
          "2019-12-01T00:00:00.000000000",
          "2020-01-01T00:00:00.000000000",
          "2020-02-01T00:00:00.000000000",
          "2020-03-01T00:00:00.000000000",
          "2020-04-01T00:00:00.000000000",
          "2020-05-01T00:00:00.000000000",
          "2020-06-01T00:00:00.000000000",
          "2020-07-01T00:00:00.000000000",
          "2020-08-01T00:00:00.000000000",
          "2020-09-01T00:00:00.000000000",
          "2020-10-01T00:00:00.000000000",
          "2020-11-01T00:00:00.000000000",
          "2020-12-01T00:00:00.000000000",
          "2021-01-01T00:00:00.000000000",
          "2021-02-01T00:00:00.000000000",
          "2021-03-01T00:00:00.000000000",
          "2021-04-01T00:00:00.000000000",
          "2021-05-01T00:00:00.000000000",
          "2021-06-01T00:00:00.000000000",
          "2021-07-01T00:00:00.000000000",
          "2021-08-01T00:00:00.000000000",
          "2021-09-01T00:00:00.000000000",
          "2021-10-01T00:00:00.000000000",
          "2021-11-01T00:00:00.000000000",
          "2021-12-01T00:00:00.000000000",
          "2022-01-01T00:00:00.000000000",
          "2022-02-01T00:00:00.000000000",
          "2022-03-01T00:00:00.000000000",
          "2022-04-01T00:00:00.000000000",
          "2022-05-01T00:00:00.000000000",
          "2022-06-01T00:00:00.000000000",
          "2022-07-01T00:00:00.000000000",
          "2022-08-01T00:00:00.000000000",
          "2022-09-01T00:00:00.000000000",
          "2022-10-01T00:00:00.000000000",
          "2022-11-01T00:00:00.000000000",
          "2022-12-01T00:00:00.000000000",
          "2023-12-01T00:00:00.000000000"
         ],
         "y": {
          "bdata": "AAAAAAD/tkAAAAAAAB/OQAAAAAAAotJAAAAAAIBUx0AAAAAAADu5QAAAAAAA87FAAAAAAABcpkAAAAAAABCtQAAAAAAACLFAAAAAAAD7skAAAAAAACuzQAAAAAAAK8NAAAAAAAB1wkAAAAAAACPFQAAAAAAAzcJAAAAAAABImEAAAAAAAAAyQAAAAAAAACZAAAAAAADYjkAAAAAAAMuyQAAAAAAAD79AAAAAAABgfUAAAAAAABatQAAAAAAAlKlAAAAAAACeq0AAAAAAAHqwQAAAAAAAlbRAAAAAAABwfkAAAAAAAIiXQAAAAAAAebBAAAAAAADEo0AAAAAAAM6kQAAAAAAASJhAAAAAAADIo0AAAAAAAHiBQAAAAAAAAHNAAAAAAACRs0AAAAAAABizQAAAAAAApL9AAAAAAAD+okAAAAAAAAA8QAAAAAAAfJZAAAAAAAC0nEAAAAAAAASgQAAAAAAAYKRAAAAAAABYoEAAAAAAAMyZQAAAAAAAvKZAAAAAAAACqUAAAAAAAN6tQAAAAAAAHKhAAAAAAABgo0AAAAAAAGCSQAAAAAAAqJdAAAAAAAAEmkAAAAAAAGClQAAAAAAAIqNAAAAAAABcmkAAAAAAALiYQAAAAAAAQIJAAAAAAABAakAAAAAAAEBlQAAAAAAAOIdAAAAAAACAaEAAAAAAAKiFQAAAAAAAoHNAAAAAAAAgaUAAAAAAACBgQAAAAAAAoGNAAAAAAABgY0AAAAAAAKBmQAAAAAAAeINAAAAAAAAASUAAAAAAACBhQAAAAAAAgEBAAAAAAAAA8D8=",
          "dtype": "f8"
         }
        },
        {
         "line": {
          "width": 1
         },
         "mode": "lines+markers",
         "name": "Elantra(ID)",
         "showlegend": true,
         "type": "scatter",
         "x": [
          "2017-03-01T00:00:00.000000000",
          "2017-04-01T00:00:00.000000000",
          "2017-05-01T00:00:00.000000000",
          "2017-06-01T00:00:00.000000000",
          "2017-07-01T00:00:00.000000000",
          "2017-08-01T00:00:00.000000000",
          "2017-09-01T00:00:00.000000000",
          "2017-10-01T00:00:00.000000000",
          "2017-11-01T00:00:00.000000000",
          "2017-12-01T00:00:00.000000000",
          "2018-01-01T00:00:00.000000000",
          "2018-02-01T00:00:00.000000000",
          "2018-03-01T00:00:00.000000000",
          "2018-04-01T00:00:00.000000000",
          "2018-05-01T00:00:00.000000000",
          "2018-06-01T00:00:00.000000000",
          "2018-07-01T00:00:00.000000000",
          "2018-08-01T00:00:00.000000000",
          "2018-09-01T00:00:00.000000000",
          "2018-10-01T00:00:00.000000000",
          "2018-11-01T00:00:00.000000000",
          "2018-12-01T00:00:00.000000000",
          "2019-07-01T00:00:00.000000000",
          "2019-08-01T00:00:00.000000000",
          "2019-09-01T00:00:00.000000000",
          "2019-10-01T00:00:00.000000000",
          "2019-11-01T00:00:00.000000000",
          "2019-12-01T00:00:00.000000000"
         ],
         "y": {
          "bdata": "AAAAAABSv0AAAAAAAPquQAAAAAAA7qJAAAAAAABQj0AAAAAAADCGQAAAAAAAOINAAAAAAACYgEAAAAAAAIB4QAAAAAAAcIhAAAAAAACwoUAAAAAAAEBVQAAAAAAAgElAAAAAAADgYUAAAAAAACCxQAAAAAAANLdAAAAAAIBuxkAAAAAAAJCnQAAAAAAAE79AAAAAAADHt0AAAAAAAB6zQAAAAAAA8LZAAAAAAIBLw0AAAAAAAIBAQAAAAAAAoGdAAAAAAAAAaEAAAAAAAMBWQAAAAAAAoGNAAAAAAAD4gEA=",
          "dtype": "f8"
         }
        },
        {
         "line": {
          "width": 1
         },
         "mode": "lines+markers",
         "name": "Elantra (HDc EV)",
         "showlegend": true,
         "type": "scatter",
         "x": [
          "2017-08-01T00:00:00.000000000",
          "2017-09-01T00:00:00.000000000",
          "2017-10-01T00:00:00.000000000",
          "2017-11-01T00:00:00.000000000",
          "2017-12-01T00:00:00.000000000",
          "2018-03-01T00:00:00.000000000",
          "2018-05-01T00:00:00.000000000",
          "2018-10-01T00:00:00.000000000",
          "2018-11-01T00:00:00.000000000",
          "2018-12-01T00:00:00.000000000",
          "2019-01-01T00:00:00.000000000",
          "2019-02-01T00:00:00.000000000",
          "2019-03-01T00:00:00.000000000",
          "2019-04-01T00:00:00.000000000",
          "2019-05-01T00:00:00.000000000",
          "2019-06-01T00:00:00.000000000",
          "2019-07-01T00:00:00.000000000",
          "2019-12-01T00:00:00.000000000"
         ],
         "y": {
          "bdata": "AAAAAABAcEAAAAAAAAA+QAAAAAAAgFJAAAAAAAAASkAAAAAAAAAQQAAAAAAAAPA/AAAAAAAA8D8AAAAAAABpQAAAAAAAwFJAAAAAAACAWUAAAAAAAIBCQAAAAAAAACJAAAAAAACAS0AAAAAAAABxQAAAAAAAgGdAAAAAAACAZEAAAAAAAABAQAAAAAAAADRA",
          "dtype": "f8"
         }
        },
        {
         "line": {
          "width": 1
         },
         "mode": "lines+markers",
         "name": "C1-low (CB)",
         "showlegend": true,
         "type": "scatter",
         "x": [
          "2017-09-01T00:00:00.000000000",
          "2017-10-01T00:00:00.000000000",
          "2017-11-01T00:00:00.000000000",
          "2017-12-01T00:00:00.000000000"
         ],
         "y": {
          "bdata": "AAAAAADEsUAAAAAAALe2QAAAAAAAgr5AAAAAAABgwUA=",
          "dtype": "f8"
         }
        },
        {
         "line": {
          "width": 1
         },
         "mode": "lines+markers",
         "name": "SUV(NU)",
         "showlegend": true,
         "type": "scatter",
         "x": [
          "2017-11-01T00:00:00.000000000",
          "2017-12-01T00:00:00.000000000",
          "2018-01-01T00:00:00.000000000",
          "2018-02-01T00:00:00.000000000",
          "2018-03-01T00:00:00.000000000",
          "2018-04-01T00:00:00.000000000",
          "2018-05-01T00:00:00.000000000",
          "2018-06-01T00:00:00.000000000",
          "2018-07-01T00:00:00.000000000",
          "2018-08-01T00:00:00.000000000",
          "2018-09-01T00:00:00.000000000",
          "2018-10-01T00:00:00.000000000",
          "2018-11-01T00:00:00.000000000",
          "2018-12-01T00:00:00.000000000"
         ],
         "y": {
          "bdata": "AAAAAADqrEAAAAAAgArFQAAAAAAAq8ZAAAAAAACvvkAAAAAAAF/IQAAAAAAAMbxAAAAAAABJt0AAAAAAgJ3FQAAAAAAAPKZAAAAAAADzy0AAAAAAgITKQAAAAAAAIs5AAAAAAACOyUAAAAAAAOTRQA==",
          "dtype": "f8"
         }
        },
        {
         "line": {
          "width": 1
         },
         "mode": "lines+markers",
         "name": "Reina (CB)",
         "showlegend": true,
         "type": "scatter",
         "x": [
          "2018-01-01T00:00:00.000000000",
          "2018-02-01T00:00:00.000000000",
          "2018-03-01T00:00:00.000000000",
          "2018-04-01T00:00:00.000000000",
          "2018-05-01T00:00:00.000000000",
          "2018-06-01T00:00:00.000000000",
          "2018-07-01T00:00:00.000000000",
          "2018-08-01T00:00:00.000000000",
          "2018-09-01T00:00:00.000000000",
          "2018-10-01T00:00:00.000000000",
          "2018-11-01T00:00:00.000000000",
          "2018-12-01T00:00:00.000000000",
          "2019-01-01T00:00:00.000000000",
          "2019-02-01T00:00:00.000000000",
          "2019-03-01T00:00:00.000000000",
          "2019-04-01T00:00:00.000000000",
          "2019-05-01T00:00:00.000000000",
          "2019-06-01T00:00:00.000000000",
          "2019-07-01T00:00:00.000000000",
          "2019-08-01T00:00:00.000000000",
          "2019-09-01T00:00:00.000000000",
          "2019-10-01T00:00:00.000000000",
          "2019-11-01T00:00:00.000000000",
          "2019-12-01T00:00:00.000000000",
          "2020-01-01T00:00:00.000000000",
          "2020-02-01T00:00:00.000000000",
          "2020-03-01T00:00:00.000000000",
          "2020-04-01T00:00:00.000000000",
          "2020-05-01T00:00:00.000000000",
          "2020-06-01T00:00:00.000000000",
          "2020-07-01T00:00:00.000000000",
          "2020-08-01T00:00:00.000000000",
          "2020-09-01T00:00:00.000000000",
          "2020-10-01T00:00:00.000000000",
          "2020-11-01T00:00:00.000000000",
          "2020-12-01T00:00:00.000000000",
          "2021-01-01T00:00:00.000000000",
          "2021-02-01T00:00:00.000000000",
          "2021-03-01T00:00:00.000000000",
          "2021-05-01T00:00:00.000000000"
         ],
         "y": {
          "bdata": "AAAAAAC4nUAAAAAAAABHQAAAAAAAQH9AAAAAAAAklkAAAAAAAOinQAAAAAAA/LpAAAAAAABwsEAAAAAAAAu3QAAAAAAA0qtAAAAAAAACq0AAAAAAAKytQAAAAAAA+rNAAAAAAACQj0AAAAAAAByXQAAAAAAA/KZAAAAAAADMp0AAAAAAABigQAAAAAAAWLFAAAAAAACAq0AAAAAAACyvQAAAAAAAebBAAAAAAADKq0AAAAAAADqyQAAAAAAAtq1AAAAAAADEpkAAAAAAAEBdQAAAAAAATqJAAAAAAABIo0AAAAAAALSsQAAAAAAAEq9AAAAAAACerUAAAAAAADCoQAAAAAAAiKdAAAAAAACyokAAAAAAAFaqQAAAAAAAEJRAAAAAAADweEAAAAAAAABAQAAAAAAAAPA/AAAAAAAACEA=",
          "dtype": "f8"
         }
        },
        {
         "line": {
          "width": 1
         },
         "mode": "lines+markers",
         "name": "Kona(OS)",
         "showlegend": true,
         "type": "scatter",
         "x": [
          "2018-04-01T00:00:00.000000000",
          "2018-05-01T00:00:00.000000000",
          "2018-06-01T00:00:00.000000000",
          "2018-07-01T00:00:00.000000000",
          "2018-08-01T00:00:00.000000000",
          "2018-09-01T00:00:00.000000000",
          "2018-10-01T00:00:00.000000000",
          "2018-11-01T00:00:00.000000000",
          "2018-12-01T00:00:00.000000000",
          "2019-01-01T00:00:00.000000000",
          "2019-02-01T00:00:00.000000000",
          "2019-03-01T00:00:00.000000000",
          "2019-04-01T00:00:00.000000000",
          "2019-05-01T00:00:00.000000000",
          "2019-08-01T00:00:00.000000000",
          "2019-09-01T00:00:00.000000000",
          "2019-10-01T00:00:00.000000000",
          "2019-11-01T00:00:00.000000000",
          "2019-12-01T00:00:00.000000000"
         ],
         "y": {
          "bdata": "AAAAAAAhsUAAAAAAAOCCQAAAAAAAIGJAAAAAAABAUEAAAAAAACBzQAAAAAAAkIdAAAAAAACAXkAAAAAAAIBXQAAAAAAAgF1AAAAAAAAAT0AAAAAAAAAcQAAAAAAAAC5AAAAAAAC2pkAAAAAAAAAAQAAAAAAAAABAAAAAAACAT0AAAAAAAABOQAAAAAAAEHRAAAAAAACAUkA=",
          "dtype": "f8"
         }
        },
        {
         "line": {
          "width": 1
         },
         "mode": "lines+markers",
         "name": "Sonata (LF PHEV)",
         "showlegend": true,
         "type": "scatter",
         "x": [
          "2018-08-01T00:00:00.000000000",
          "2018-09-01T00:00:00.000000000",
          "2018-10-01T00:00:00.000000000",
          "2018-11-01T00:00:00.000000000",
          "2018-12-01T00:00:00.000000000",
          "2019-01-01T00:00:00.000000000",
          "2019-02-01T00:00:00.000000000",
          "2019-03-01T00:00:00.000000000",
          "2019-04-01T00:00:00.000000000",
          "2019-05-01T00:00:00.000000000",
          "2019-06-01T00:00:00.000000000",
          "2019-07-01T00:00:00.000000000",
          "2019-08-01T00:00:00.000000000",
          "2019-09-01T00:00:00.000000000",
          "2019-10-01T00:00:00.000000000",
          "2019-11-01T00:00:00.000000000",
          "2019-12-01T00:00:00.000000000",
          "2020-03-01T00:00:00.000000000",
          "2020-04-01T00:00:00.000000000",
          "2020-05-01T00:00:00.000000000",
          "2020-06-01T00:00:00.000000000",
          "2020-07-01T00:00:00.000000000",
          "2020-08-01T00:00:00.000000000",
          "2020-09-01T00:00:00.000000000",
          "2020-10-01T00:00:00.000000000",
          "2020-11-01T00:00:00.000000000",
          "2020-12-01T00:00:00.000000000"
         ],
         "y": {
          "bdata": "AAAAAADAdUAAAAAAACBiQAAAAAAAwFZAAAAAAAAAUUAAAAAAAGBmQAAAAAAAAEFAAAAAAACAQUAAAAAAAMBVQAAAAAAAgGBAAAAAAACAXUAAAAAAAIBhQAAAAAAAAChAAAAAAACAQEAAAAAAAAA7QAAAAAAAAFZAAAAAAABgY0AAAAAAAKBuQAAAAAAAADNAAAAAAADAWEAAAAAAAAAAQAAAAAAAABhAAAAAAACAX0AAAAAAAPBwQAAAAAAAAF1AAAAAAACwc0AAAAAAAPyWQAAAAAAAQFlA",
          "dtype": "f8"
         }
        },
        {
         "line": {
          "width": 1
         },
         "mode": "lines+markers",
         "name": "La festa(SQ)",
         "showlegend": true,
         "type": "scatter",
         "x": [
          "2018-10-01T00:00:00.000000000",
          "2018-11-01T00:00:00.000000000",
          "2018-12-01T00:00:00.000000000",
          "2020-01-01T00:00:00.000000000",
          "2020-02-01T00:00:00.000000000",
          "2020-03-01T00:00:00.000000000",
          "2020-04-01T00:00:00.000000000",
          "2020-05-01T00:00:00.000000000",
          "2020-06-01T00:00:00.000000000",
          "2020-07-01T00:00:00.000000000",
          "2020-08-01T00:00:00.000000000",
          "2020-09-01T00:00:00.000000000",
          "2020-10-01T00:00:00.000000000",
          "2020-11-01T00:00:00.000000000",
          "2020-12-01T00:00:00.000000000",
          "2021-01-01T00:00:00.000000000",
          "2021-02-01T00:00:00.000000000",
          "2021-03-01T00:00:00.000000000",
          "2021-04-01T00:00:00.000000000",
          "2021-05-01T00:00:00.000000000",
          "2021-06-01T00:00:00.000000000",
          "2021-07-01T00:00:00.000000000",
          "2021-08-01T00:00:00.000000000",
          "2021-09-01T00:00:00.000000000",
          "2021-10-01T00:00:00.000000000",
          "2021-11-01T00:00:00.000000000",
          "2021-12-01T00:00:00.000000000",
          "2022-05-01T00:00:00.000000000",
          "2022-10-01T00:00:00.000000000",
          "2022-11-01T00:00:00.000000000",
          "2022-12-01T00:00:00.000000000",
          "2023-01-01T00:00:00.000000000",
          "2023-02-01T00:00:00.000000000",
          "2023-03-01T00:00:00.000000000",
          "2023-04-01T00:00:00.000000000",
          "2023-05-01T00:00:00.000000000",
          "2023-06-01T00:00:00.000000000",
          "2023-07-01T00:00:00.000000000",
          "2023-08-01T00:00:00.000000000",
          "2023-09-01T00:00:00.000000000",
          "2023-10-01T00:00:00.000000000",
          "2023-11-01T00:00:00.000000000",
          "2023-12-01T00:00:00.000000000"
         ],
         "y": {
          "bdata": "AAAAAAAgukAAAAAAAH+/QAAAAAAAAsJAAAAAAACkp0AAAAAAAMBYQAAAAAAAvK1AAAAAAABFsUAAAAAAANSqQAAAAAAA0qxAAAAAAAA0p0AAAAAAAOyiQAAAAAAAsqZAAAAAAABqqkAAAAAAAGqgQAAAAAAAOJ1AAAAAAACglkAAAAAAAFCPQAAAAAAAkJ9AAAAAAACAi0AAAAAAAKB/QAAAAAAAMINAAAAAAADAbEAAAAAAAABSQAAAAAAAAAhAAAAAAAB0kkAAAAAAABBxQAAAAAAAADRAAAAAAAAA8D8AAAAAAIBgQAAAAAAAsIdAAAAAAAB4i0AAAAAAAOB4QAAAAAAAMINAAAAAAAA4gEAAAAAAAOBjQAAAAAAAAF9AAAAAAADAeEAAAAAAAABIQAAAAAAAwFFAAAAAAABAWUAAAAAAAMBQQAAAAAAAAEFAAAAAAAAAN0A=",
          "dtype": "f8"
         }
        },
        {
         "line": {
          "width": 1
         },
         "mode": "lines+markers",
         "name": "La festa (SQ EV)",
         "showlegend": true,
         "type": "scatter",
         "x": [
          "2019-01-01T00:00:00.000000000",
          "2019-02-01T00:00:00.000000000",
          "2019-03-01T00:00:00.000000000",
          "2019-04-01T00:00:00.000000000",
          "2019-05-01T00:00:00.000000000",
          "2019-06-01T00:00:00.000000000",
          "2019-07-01T00:00:00.000000000",
          "2019-08-01T00:00:00.000000000",
          "2019-09-01T00:00:00.000000000",
          "2019-10-01T00:00:00.000000000",
          "2019-11-01T00:00:00.000000000",
          "2019-12-01T00:00:00.000000000",
          "2020-01-01T00:00:00.000000000",
          "2020-02-01T00:00:00.000000000",
          "2020-03-01T00:00:00.000000000",
          "2020-04-01T00:00:00.000000000",
          "2020-05-01T00:00:00.000000000",
          "2020-06-01T00:00:00.000000000",
          "2020-07-01T00:00:00.000000000",
          "2020-08-01T00:00:00.000000000",
          "2020-09-01T00:00:00.000000000",
          "2020-10-01T00:00:00.000000000",
          "2020-11-01T00:00:00.000000000",
          "2020-12-01T00:00:00.000000000",
          "2021-01-01T00:00:00.000000000",
          "2021-02-01T00:00:00.000000000",
          "2021-03-01T00:00:00.000000000",
          "2021-04-01T00:00:00.000000000",
          "2021-05-01T00:00:00.000000000",
          "2021-06-01T00:00:00.000000000",
          "2021-07-01T00:00:00.000000000",
          "2021-08-01T00:00:00.000000000",
          "2021-09-01T00:00:00.000000000",
          "2021-10-01T00:00:00.000000000",
          "2021-11-01T00:00:00.000000000",
          "2021-12-01T00:00:00.000000000"
         ],
         "y": {
          "bdata": "AAAAAADAZEAAAAAAACKnQAAAAAAAi7dAAAAAAAAYt0AAAAAAAFOyQAAAAAAA3bxAAAAAAABTuUAAAAAAgGLBQAAAAAAAIr9AAAAAAIB2w0AAAAAAAMrBQAAAAAAAisZAAAAAAADAVEAAAAAAAEBSQAAAAAAAcHxAAAAAAACAb0AAAAAAAIBfQAAAAAAAQGZAAAAAAAAAMEAAAAAAAAAzQAAAAAAAADtAAAAAAADAVkAAAAAAAIBOQAAAAAAAgEFAAAAAAAAAKkAAAAAAAAAIQAAAAAAAACRAAAAAAAAAPUAAAAAAAABVQAAAAAAAoHVAAAAAAAAAJEAAAAAAAEBkQAAAAAAAYGxAAAAAAABAcEAAAAAAAIBFQAAAAAAAAEtA",
          "dtype": "f8"
         }
        },
        {
         "line": {
          "width": 1
         },
         "mode": "lines+markers",
         "name": "Mistra (DU2 EV)",
         "showlegend": true,
         "type": "scatter",
         "x": [
          "2019-01-01T00:00:00.000000000",
          "2019-02-01T00:00:00.000000000",
          "2019-03-01T00:00:00.000000000",
          "2019-04-01T00:00:00.000000000",
          "2019-05-01T00:00:00.000000000",
          "2019-06-01T00:00:00.000000000",
          "2019-07-01T00:00:00.000000000",
          "2019-08-01T00:00:00.000000000",
          "2019-09-01T00:00:00.000000000",
          "2019-10-01T00:00:00.000000000",
          "2019-11-01T00:00:00.000000000",
          "2019-12-01T00:00:00.000000000",
          "2021-03-01T00:00:00.000000000",
          "2021-04-01T00:00:00.000000000",
          "2021-05-01T00:00:00.000000000",
          "2021-06-01T00:00:00.000000000",
          "2021-07-01T00:00:00.000000000",
          "2021-08-01T00:00:00.000000000",
          "2021-09-01T00:00:00.000000000",
          "2021-11-01T00:00:00.000000000",
          "2021-12-01T00:00:00.000000000",
          "2022-01-01T00:00:00.000000000",
          "2022-02-01T00:00:00.000000000",
          "2022-03-01T00:00:00.000000000",
          "2022-04-01T00:00:00.000000000",
          "2022-05-01T00:00:00.000000000",
          "2022-06-01T00:00:00.000000000",
          "2022-07-01T00:00:00.000000000",
          "2022-08-01T00:00:00.000000000",
          "2022-09-01T00:00:00.000000000",
          "2022-10-01T00:00:00.000000000",
          "2022-11-01T00:00:00.000000000"
         ],
         "y": {
          "bdata": "AAAAAAC4h0AAAAAAALSaQAAAAAAAzqBAAAAAAADio0AAAAAAAGCvQAAAAAAAZrJAAAAAAABLsEAAAAAAAOixQAAAAAAAcqxAAAAAAAAhskAAAAAAAOauQAAAAAAA5q1AAAAAAAAAQUAAAAAAAAAAQAAAAAAAABBAAAAAAAAAIEAAAAAAAAAgQAAAAAAAABhAAAAAAAAAHEAAAAAAAAAkQAAAAAAAgENAAAAAAAAALEAAAAAAAAAcQAAAAAAAAAhAAAAAAAAALkAAAAAAAAAIQAAAAAAAADNAAAAAAAAAQEAAAAAAAAAyQAAAAAAAgEVAAAAAAACAREAAAAAAAAA8QA==",
          "dtype": "f8"
         }
        },
        {
         "line": {
          "width": 1
         },
         "mode": "lines+markers",
         "name": "ix35(NU)",
         "showlegend": true,
         "type": "scatter",
         "x": [
          "2019-01-01T00:00:00.000000000",
          "2019-02-01T00:00:00.000000000",
          "2019-03-01T00:00:00.000000000",
          "2019-04-01T00:00:00.000000000",
          "2019-05-01T00:00:00.000000000",
          "2019-06-01T00:00:00.000000000",
          "2019-07-01T00:00:00.000000000",
          "2019-08-01T00:00:00.000000000",
          "2019-09-01T00:00:00.000000000",
          "2019-10-01T00:00:00.000000000",
          "2019-11-01T00:00:00.000000000",
          "2019-12-01T00:00:00.000000000",
          "2020-01-01T00:00:00.000000000",
          "2020-02-01T00:00:00.000000000",
          "2020-03-01T00:00:00.000000000",
          "2020-04-01T00:00:00.000000000",
          "2020-05-01T00:00:00.000000000",
          "2020-06-01T00:00:00.000000000",
          "2020-07-01T00:00:00.000000000",
          "2020-08-01T00:00:00.000000000",
          "2020-09-01T00:00:00.000000000",
          "2020-10-01T00:00:00.000000000",
          "2020-11-01T00:00:00.000000000",
          "2020-12-01T00:00:00.000000000",
          "2021-01-01T00:00:00.000000000",
          "2021-02-01T00:00:00.000000000",
          "2021-03-01T00:00:00.000000000",
          "2021-04-01T00:00:00.000000000",
          "2021-05-01T00:00:00.000000000",
          "2021-06-01T00:00:00.000000000",
          "2021-07-01T00:00:00.000000000",
          "2021-08-01T00:00:00.000000000",
          "2021-09-01T00:00:00.000000000",
          "2021-10-01T00:00:00.000000000",
          "2021-11-01T00:00:00.000000000",
          "2021-12-01T00:00:00.000000000",
          "2022-01-01T00:00:00.000000000",
          "2022-02-01T00:00:00.000000000",
          "2022-03-01T00:00:00.000000000",
          "2022-04-01T00:00:00.000000000",
          "2022-05-01T00:00:00.000000000",
          "2022-06-01T00:00:00.000000000",
          "2022-07-01T00:00:00.000000000",
          "2022-08-01T00:00:00.000000000",
          "2022-09-01T00:00:00.000000000",
          "2022-10-01T00:00:00.000000000",
          "2022-11-01T00:00:00.000000000",
          "2022-12-01T00:00:00.000000000",
          "2023-01-01T00:00:00.000000000",
          "2023-02-01T00:00:00.000000000",
          "2023-03-01T00:00:00.000000000",
          "2023-04-01T00:00:00.000000000",
          "2023-05-01T00:00:00.000000000",
          "2023-06-01T00:00:00.000000000",
          "2023-07-01T00:00:00.000000000",
          "2023-09-01T00:00:00.000000000",
          "2023-12-01T00:00:00.000000000"
         ],
         "y": {
          "bdata": "AAAAAIBMyEAAAAAAAMnHQAAAAACAEtBAAAAAAIDPxEAAAAAAAFS7QAAAAACAKsVAAAAAAIBowEAAAAAAgF3CQAAAAACA58tAAAAAAACSukAAAAAAgNDBQAAAAACA+8pAAAAAAABkrUAAAAAAAABcQAAAAAAA8bNAAAAAAABotkAAAAAAAMizQAAAAAAAobdAAAAAAAD6tkAAAAAAADK1QAAAAACACcBAAAAAAAD6qkAAAAAAAKyrQAAAAAAAL7dAAAAAAACRwEAAAAAAAAW1QAAAAACACcBAAAAAAAD3v0AAAAAAgKbBQAAAAAAAv8BAAAAAAAD4t0AAAAAAAJ61QAAAAAAAgq5AAAAAAADxskAAAAAAAB26QAAAAAAAC79AAAAAAABIt0AAAAAAAEGwQAAAAAAAaKxAAAAAAAAOqEAAAAAAACifQAAAAAAAxbFAAAAAAAC3tUAAAAAAACG7QAAAAAAAoMFAAAAAAADfu0AAAAAAAHu3QAAAAACAiMBAAAAAAAB+r0AAAAAAABuwQAAAAAAA+7NAAAAAAAAQp0AAAAAAAACBQAAAAAAA8IVAAAAAAAAAKkAAAAAAAADwPwAAAAAAABhA",
          "dtype": "f8"
         }
        },
        {
         "line": {
          "width": 1
         },
         "mode": "lines+markers",
         "name": "SantaFe(TM)",
         "showlegend": true,
         "type": "scatter",
         "x": [
          "2019-03-01T00:00:00.000000000",
          "2019-04-01T00:00:00.000000000",
          "2019-05-01T00:00:00.000000000",
          "2019-06-01T00:00:00.000000000",
          "2019-07-01T00:00:00.000000000",
          "2019-08-01T00:00:00.000000000",
          "2019-09-01T00:00:00.000000000",
          "2019-10-01T00:00:00.000000000",
          "2019-11-01T00:00:00.000000000",
          "2019-12-01T00:00:00.000000000",
          "2020-01-01T00:00:00.000000000",
          "2020-02-01T00:00:00.000000000",
          "2020-03-01T00:00:00.000000000",
          "2020-04-01T00:00:00.000000000",
          "2020-05-01T00:00:00.000000000",
          "2020-06-01T00:00:00.000000000",
          "2020-07-01T00:00:00.000000000",
          "2020-08-01T00:00:00.000000000",
          "2020-09-01T00:00:00.000000000",
          "2020-10-01T00:00:00.000000000",
          "2020-11-01T00:00:00.000000000",
          "2020-12-01T00:00:00.000000000",
          "2021-01-01T00:00:00.000000000",
          "2021-02-01T00:00:00.000000000",
          "2021-03-01T00:00:00.000000000",
          "2021-04-01T00:00:00.000000000",
          "2021-05-01T00:00:00.000000000",
          "2021-06-01T00:00:00.000000000",
          "2021-07-01T00:00:00.000000000",
          "2021-08-01T00:00:00.000000000",
          "2021-09-01T00:00:00.000000000",
          "2021-10-01T00:00:00.000000000",
          "2021-11-01T00:00:00.000000000",
          "2021-12-01T00:00:00.000000000",
          "2022-01-01T00:00:00.000000000",
          "2022-02-01T00:00:00.000000000",
          "2022-03-01T00:00:00.000000000",
          "2022-04-01T00:00:00.000000000",
          "2022-05-01T00:00:00.000000000",
          "2022-06-01T00:00:00.000000000",
          "2022-07-01T00:00:00.000000000",
          "2022-08-01T00:00:00.000000000",
          "2022-09-01T00:00:00.000000000",
          "2022-10-01T00:00:00.000000000",
          "2022-11-01T00:00:00.000000000",
          "2022-12-01T00:00:00.000000000",
          "2023-01-01T00:00:00.000000000",
          "2023-02-01T00:00:00.000000000",
          "2023-03-01T00:00:00.000000000",
          "2023-04-01T00:00:00.000000000",
          "2023-05-01T00:00:00.000000000",
          "2023-06-01T00:00:00.000000000",
          "2023-07-01T00:00:00.000000000",
          "2023-08-01T00:00:00.000000000",
          "2023-09-01T00:00:00.000000000",
          "2023-10-01T00:00:00.000000000",
          "2023-11-01T00:00:00.000000000",
          "2023-12-01T00:00:00.000000000"
         ],
         "y": {
          "bdata": "AAAAAABWqUAAAAAAAMSeQAAAAAAAVJFAAAAAAACAikAAAAAAANCKQAAAAAAAnJNAAAAAAADgfUAAAAAAACB6QAAAAAAASIZAAAAAAABYjkAAAAAAAJiLQAAAAAAAABRAAAAAAABAcEAAAAAAADCLQAAAAAAASIhAAAAAAAAQhkAAAAAAAACSQAAAAAAAaIpAAAAAAACQjkAAAAAAAGSaQAAAAAAAPJZAAAAAAAColUAAAAAAAHCDQAAAAAAAwHlAAAAAAAAAj0AAAAAAAICKQAAAAAAAsIhAAAAAAAAghUAAAAAAAAiHQAAAAAAAUINAAAAAAACAg0AAAAAAALBwQAAAAAAAOIxAAAAAAAC4g0AAAAAAAABoQAAAAAAAgF5AAAAAAADAXkAAAAAAAABIQAAAAAAAAEBAAAAAAACQdUAAAAAAANBxQAAAAAAAYHVAAAAAAADwgkAAAAAAAGBpQAAAAAAAAHJAAAAAAAAAb0AAAAAAAMBRQAAAAAAAgGNAAAAAAADgdkAAAAAAAIB+QAAAAAAAoG1AAAAAAADAZ0AAAAAAAOBqQAAAAAAAQFtAAAAAAACAcEAAAAAAAEBfQAAAAAAAwFNAAAAAAAAAW0A=",
          "dtype": "f8"
         }
        },
        {
         "line": {
          "width": 1
         },
         "mode": "lines+markers",
         "name": "ix25(SU2)",
         "showlegend": true,
         "type": "scatter",
         "x": [
          "2019-09-01T00:00:00.000000000",
          "2019-10-01T00:00:00.000000000",
          "2019-11-01T00:00:00.000000000",
          "2019-12-01T00:00:00.000000000",
          "2020-01-01T00:00:00.000000000",
          "2020-02-01T00:00:00.000000000",
          "2020-03-01T00:00:00.000000000",
          "2020-04-01T00:00:00.000000000",
          "2020-05-01T00:00:00.000000000",
          "2020-06-01T00:00:00.000000000",
          "2020-07-01T00:00:00.000000000",
          "2020-08-01T00:00:00.000000000",
          "2020-09-01T00:00:00.000000000",
          "2020-10-01T00:00:00.000000000",
          "2020-11-01T00:00:00.000000000",
          "2020-12-01T00:00:00.000000000",
          "2021-01-01T00:00:00.000000000",
          "2021-02-01T00:00:00.000000000",
          "2021-03-01T00:00:00.000000000",
          "2021-04-01T00:00:00.000000000",
          "2021-05-01T00:00:00.000000000",
          "2021-06-01T00:00:00.000000000",
          "2021-07-01T00:00:00.000000000",
          "2021-08-01T00:00:00.000000000",
          "2021-09-01T00:00:00.000000000",
          "2021-10-01T00:00:00.000000000",
          "2021-11-01T00:00:00.000000000",
          "2021-12-01T00:00:00.000000000",
          "2022-01-01T00:00:00.000000000"
         ],
         "y": {
          "bdata": "AAAAAACwlUAAAAAAAFayQAAAAAAA77FAAAAAAAAyukAAAAAAAPStQAAAAAAAwFFAAAAAAAACsUAAAAAAACSvQAAAAAAAgKVAAAAAAAAspkAAAAAAABagQAAAAAAAiJtAAAAAAADwqEAAAAAAAHyvQAAAAAAA6LRAAAAAAADGr0AAAAAAAOqjQAAAAAAAvJBAAAAAAACIoEAAAAAAABSYQAAAAAAA3KVAAAAAAACcnkAAAAAAABiOQAAAAAAAbJBAAAAAAACwkUAAAAAAALByQAAAAAAAAINAAAAAAACAXEAAAAAAAADwPw==",
          "dtype": "f8"
         }
        },
        {
         "line": {
          "width": 1
         },
         "mode": "lines+markers",
         "name": "Kona(OS EV)",
         "showlegend": true,
         "type": "scatter",
         "x": [
          "2019-09-01T00:00:00.000000000",
          "2019-10-01T00:00:00.000000000",
          "2019-11-01T00:00:00.000000000",
          "2019-12-01T00:00:00.000000000"
         ],
         "y": {
          "bdata": "AAAAAAAAKEAAAAAAAIBNQAAAAAAAgGlAAAAAAACAeUA=",
          "dtype": "f8"
         }
        },
        {
         "line": {
          "width": 1
         },
         "mode": "lines+markers",
         "name": "Celesta (ID)",
         "showlegend": true,
         "type": "scatter",
         "x": [
          "2020-01-01T00:00:00.000000000",
          "2020-02-01T00:00:00.000000000",
          "2020-03-01T00:00:00.000000000",
          "2020-04-01T00:00:00.000000000",
          "2020-05-01T00:00:00.000000000",
          "2020-06-01T00:00:00.000000000",
          "2020-07-01T00:00:00.000000000",
          "2020-08-01T00:00:00.000000000",
          "2020-09-01T00:00:00.000000000",
          "2020-10-01T00:00:00.000000000",
          "2020-11-01T00:00:00.000000000",
          "2020-12-01T00:00:00.000000000",
          "2021-01-01T00:00:00.000000000",
          "2021-02-01T00:00:00.000000000",
          "2021-03-01T00:00:00.000000000",
          "2021-04-01T00:00:00.000000000",
          "2021-05-01T00:00:00.000000000",
          "2021-06-01T00:00:00.000000000",
          "2021-07-01T00:00:00.000000000",
          "2021-08-01T00:00:00.000000000",
          "2021-09-01T00:00:00.000000000",
          "2021-10-01T00:00:00.000000000",
          "2021-11-01T00:00:00.000000000",
          "2021-12-01T00:00:00.000000000",
          "2022-01-01T00:00:00.000000000",
          "2022-02-01T00:00:00.000000000",
          "2022-03-01T00:00:00.000000000",
          "2022-04-01T00:00:00.000000000",
          "2022-05-01T00:00:00.000000000",
          "2022-06-01T00:00:00.000000000",
          "2022-07-01T00:00:00.000000000",
          "2022-08-01T00:00:00.000000000",
          "2022-09-01T00:00:00.000000000",
          "2022-10-01T00:00:00.000000000",
          "2022-11-01T00:00:00.000000000",
          "2022-12-01T00:00:00.000000000",
          "2023-01-01T00:00:00.000000000",
          "2023-02-01T00:00:00.000000000",
          "2023-03-01T00:00:00.000000000",
          "2023-04-01T00:00:00.000000000",
          "2023-12-01T00:00:00.000000000"
         ],
         "y": {
          "bdata": "AAAAAACqpEAAAAAAAABLQAAAAAAAoqRAAAAAAAA+qUAAAAAAAF24QAAAAACAC8FAAAAAAABjtUAAAAAAAG+xQAAAAAAARLtAAAAAAAAPvUAAAAAAAEXFQAAAAAAAQbtAAAAAAABOpkAAAAAAALiaQAAAAAAAkKdAAAAAAABEr0AAAAAAAIyqQAAAAAAATKpAAAAAAAAqrkAAAAAAAKSiQAAAAAAAVKBAAAAAAAA4h0AAAAAAANCZQAAAAAAAyqZAAAAAAAAerEAAAAAAAAiqQAAAAAAAIqlAAAAAAAAolkAAAAAAANCTQAAAAAAAcJZAAAAAAACapkAAAAAAADyeQAAAAAAA6KBAAAAAAAAIm0AAAAAAAISWQAAAAAAAYJxAAAAAAADgh0AAAAAAAHCRQAAAAAAAYJhAAAAAAACgZEAAAAAAAAAAQA==",
          "dtype": "f8"
         }
        },
        {
         "line": {
          "width": 1
         },
         "mode": "lines+markers",
         "name": "Elantra (AD PHEV)",
         "showlegend": true,
         "type": "scatter",
         "x": [
          "2020-01-01T00:00:00.000000000",
          "2020-02-01T00:00:00.000000000",
          "2020-03-01T00:00:00.000000000",
          "2020-04-01T00:00:00.000000000",
          "2020-05-01T00:00:00.000000000",
          "2020-06-01T00:00:00.000000000",
          "2020-07-01T00:00:00.000000000",
          "2020-08-01T00:00:00.000000000",
          "2020-09-01T00:00:00.000000000",
          "2020-10-01T00:00:00.000000000",
          "2020-11-01T00:00:00.000000000",
          "2020-12-01T00:00:00.000000000",
          "2021-01-01T00:00:00.000000000",
          "2021-03-01T00:00:00.000000000",
          "2021-04-01T00:00:00.000000000",
          "2021-05-01T00:00:00.000000000",
          "2021-06-01T00:00:00.000000000",
          "2021-07-01T00:00:00.000000000",
          "2021-10-01T00:00:00.000000000",
          "2021-11-01T00:00:00.000000000",
          "2021-12-01T00:00:00.000000000"
         ],
         "y": {
          "bdata": "AAAAAADwc0AAAAAAAIBLQAAAAAAA4GpAAAAAAAAANkAAAAAAAIBLQAAAAAAAADFAAAAAAAAAAEAAAAAAAAAsQAAAAAAAABBAAAAAAAAAGEAAAAAAAAAUQAAAAAAAwFFAAAAAAAAAQEAAAAAAAOBpQAAAAAAAAGFAAAAAAAAgZEAAAAAAAIBHQAAAAAAAAABAAAAAAAAAYUAAAAAAAABWQAAAAAAAABxA",
          "dtype": "f8"
         }
        },
        {
         "line": {
          "width": 1
         },
         "mode": "lines+markers",
         "name": "Ensino (OS)",
         "showlegend": true,
         "type": "scatter",
         "x": [
          "2020-01-01T00:00:00.000000000",
          "2020-03-01T00:00:00.000000000",
          "2020-04-01T00:00:00.000000000",
          "2020-05-01T00:00:00.000000000",
          "2020-06-01T00:00:00.000000000",
          "2020-07-01T00:00:00.000000000",
          "2020-08-01T00:00:00.000000000",
          "2020-09-01T00:00:00.000000000",
          "2020-10-01T00:00:00.000000000",
          "2020-11-01T00:00:00.000000000",
          "2020-12-01T00:00:00.000000000",
          "2021-02-01T00:00:00.000000000",
          "2021-05-01T00:00:00.000000000",
          "2021-11-01T00:00:00.000000000"
         ],
         "y": {
          "bdata": "AAAAAAAAIEAAAAAAAAAIQAAAAAAAQF1AAAAAAAAATkAAAAAAAIBUQAAAAAAAAERAAAAAAACAQkAAAAAAAABSQAAAAAAAADRAAAAAAAAAPkAAAAAAAAA4QAAAAAAAABRAAAAAAAAAAEAAAAAAAADwPw==",
          "dtype": "f8"
         }
        },
        {
         "line": {
          "width": 1
         },
         "mode": "lines+markers",
         "name": "Ensino EV (OS EV)",
         "showlegend": true,
         "type": "scatter",
         "x": [
          "2020-01-01T00:00:00.000000000",
          "2020-02-01T00:00:00.000000000",
          "2020-03-01T00:00:00.000000000",
          "2020-04-01T00:00:00.000000000",
          "2020-05-01T00:00:00.000000000",
          "2020-06-01T00:00:00.000000000",
          "2020-07-01T00:00:00.000000000",
          "2020-08-01T00:00:00.000000000",
          "2020-09-01T00:00:00.000000000",
          "2020-10-01T00:00:00.000000000",
          "2020-11-01T00:00:00.000000000",
          "2020-12-01T00:00:00.000000000",
          "2021-01-01T00:00:00.000000000",
          "2021-02-01T00:00:00.000000000",
          "2021-03-01T00:00:00.000000000",
          "2021-04-01T00:00:00.000000000",
          "2021-05-01T00:00:00.000000000",
          "2021-06-01T00:00:00.000000000",
          "2021-07-01T00:00:00.000000000",
          "2021-08-01T00:00:00.000000000",
          "2021-09-01T00:00:00.000000000",
          "2021-11-01T00:00:00.000000000"
         ],
         "y": {
          "bdata": "AAAAAABAVEAAAAAAAAAQQAAAAAAAAFJAAAAAAAAAQEAAAAAAAMBVQAAAAAAAAFBAAAAAAAAAP0AAAAAAAAAiQAAAAAAAAD1AAAAAAAAAS0AAAAAAAABAQAAAAAAAwFRAAAAAAAAAJkAAAAAAAAAQQAAAAAAAAChAAAAAAAAAPUAAAAAAAAA9QAAAAAAAUHtAAAAAAAAAAEAAAAAAAMBRQAAAAAAAABxAAAAAAAAA8D8=",
          "dtype": "f8"
         }
        },
        {
         "line": {
          "width": 1
         },
         "mode": "lines+markers",
         "name": "Sonata (DN8c)",
         "showlegend": true,
         "type": "scatter",
         "x": [
          "2020-06-01T00:00:00.000000000",
          "2020-07-01T00:00:00.000000000",
          "2020-08-01T00:00:00.000000000",
          "2020-09-01T00:00:00.000000000",
          "2020-10-01T00:00:00.000000000",
          "2020-11-01T00:00:00.000000000",
          "2020-12-01T00:00:00.000000000",
          "2021-01-01T00:00:00.000000000",
          "2021-02-01T00:00:00.000000000",
          "2021-03-01T00:00:00.000000000",
          "2021-04-01T00:00:00.000000000",
          "2021-05-01T00:00:00.000000000",
          "2021-06-01T00:00:00.000000000",
          "2021-07-01T00:00:00.000000000",
          "2021-08-01T00:00:00.000000000",
          "2021-09-01T00:00:00.000000000",
          "2021-10-01T00:00:00.000000000",
          "2021-11-01T00:00:00.000000000",
          "2021-12-01T00:00:00.000000000",
          "2022-01-01T00:00:00.000000000",
          "2022-02-01T00:00:00.000000000",
          "2022-03-01T00:00:00.000000000",
          "2022-04-01T00:00:00.000000000",
          "2022-05-01T00:00:00.000000000",
          "2022-06-01T00:00:00.000000000",
          "2022-07-01T00:00:00.000000000",
          "2022-08-01T00:00:00.000000000",
          "2022-09-01T00:00:00.000000000",
          "2022-10-01T00:00:00.000000000",
          "2022-11-01T00:00:00.000000000",
          "2022-12-01T00:00:00.000000000",
          "2023-01-01T00:00:00.000000000",
          "2023-02-01T00:00:00.000000000",
          "2023-03-01T00:00:00.000000000",
          "2023-04-01T00:00:00.000000000",
          "2023-05-01T00:00:00.000000000",
          "2023-06-01T00:00:00.000000000",
          "2023-07-01T00:00:00.000000000",
          "2023-08-01T00:00:00.000000000",
          "2023-09-01T00:00:00.000000000",
          "2023-10-01T00:00:00.000000000",
          "2023-11-01T00:00:00.000000000",
          "2023-12-01T00:00:00.000000000"
         ],
         "y": {
          "bdata": "AAAAAAAAjEAAAAAAANCpQAAAAAAAoKxAAAAAAACEpkAAAAAAAPCdQAAAAAAAQHtAAAAAAAA4kUAAAAAAABiIQAAAAAAAsHhAAAAAAAC4hEAAAAAAANiJQAAAAAAA4I1AAAAAAACAb0AAAAAAAGBzQAAAAAAAcHdAAAAAAAAQeUAAAAAAANSRQAAAAAAACJNAAAAAAACwj0AAAAAAAEBRQAAAAAAAIGBAAAAAAACgYUAAAAAAAIBLQAAAAAAAAD5AAAAAAABAeEAAAAAAAEByQAAAAAAAoH5AAAAAAABohEAAAAAAAFB9QAAAAAAA+IBAAAAAAADgfUAAAAAAAKBkQAAAAAAAAGxAAAAAAACAakAAAAAAAEBlQAAAAAAAUHJAAAAAAACgckAAAAAAACBiQAAAAAAAIHNAAAAAAACAZ0AAAAAAAABiQAAAAAAAYGNAAAAAAADAZUA=",
          "dtype": "f8"
         }
        },
        {
         "line": {
          "width": 1
         },
         "mode": "lines+markers",
         "name": "Elantra (CN7)",
         "showlegend": true,
         "type": "scatter",
         "x": [
          "2020-09-01T00:00:00.000000000",
          "2020-10-01T00:00:00.000000000",
          "2020-11-01T00:00:00.000000000",
          "2020-12-01T00:00:00.000000000",
          "2021-01-01T00:00:00.000000000",
          "2021-02-01T00:00:00.000000000",
          "2021-03-01T00:00:00.000000000",
          "2021-04-01T00:00:00.000000000",
          "2021-05-01T00:00:00.000000000",
          "2021-06-01T00:00:00.000000000",
          "2021-07-01T00:00:00.000000000",
          "2021-08-01T00:00:00.000000000",
          "2021-09-01T00:00:00.000000000",
          "2021-10-01T00:00:00.000000000",
          "2021-11-01T00:00:00.000000000",
          "2021-12-01T00:00:00.000000000",
          "2022-01-01T00:00:00.000000000",
          "2022-02-01T00:00:00.000000000",
          "2022-03-01T00:00:00.000000000",
          "2022-04-01T00:00:00.000000000",
          "2022-05-01T00:00:00.000000000",
          "2022-06-01T00:00:00.000000000",
          "2022-07-01T00:00:00.000000000",
          "2022-08-01T00:00:00.000000000",
          "2022-09-01T00:00:00.000000000",
          "2022-10-01T00:00:00.000000000",
          "2022-11-01T00:00:00.000000000",
          "2022-12-01T00:00:00.000000000",
          "2023-01-01T00:00:00.000000000",
          "2023-02-01T00:00:00.000000000",
          "2023-03-01T00:00:00.000000000",
          "2023-04-01T00:00:00.000000000",
          "2023-05-01T00:00:00.000000000",
          "2023-06-01T00:00:00.000000000",
          "2023-07-01T00:00:00.000000000",
          "2023-08-01T00:00:00.000000000",
          "2023-09-01T00:00:00.000000000",
          "2023-10-01T00:00:00.000000000",
          "2023-11-01T00:00:00.000000000",
          "2023-12-01T00:00:00.000000000"
         ],
         "y": {
          "bdata": "AAAAAABGpUAAAAAAAD3AQAAAAACAKsdAAAAAAED60kAAAAAAQJDQQAAAAAAAcLVAAAAAAABYxkAAAAAAAL69QAAAAACArcRAAAAAAAAZxEAAAAAAgF7AQAAAAAAAOMFAAAAAAACLvkAAAAAAAIbJQAAAAAAAG8pAAAAAAECc0EAAAAAAAGe8QAAAAAAAYq1AAAAAAADYs0AAAAAAAFyvQAAAAAAAmq1AAAAAAADCwEAAAAAAAO3FQAAAAACAXcJAAAAAAIANy0AAAAAAAJXGQAAAAACAV8FAAAAAAADBv0AAAAAAAFy0QAAAAAAA67pAAAAAAIBEyEAAAAAAAKy8QAAAAAAAxsJAAAAAAACzxEAAAAAAAOqzQAAAAACAL8NAAAAAAACjxEAAAAAAAJvCQAAAAACA/8ZAAAAAAIB5zEA=",
          "dtype": "f8"
         }
        },
        {
         "line": {
          "width": 1
         },
         "mode": "lines+markers",
         "name": "Mistra (DU2)",
         "showlegend": true,
         "type": "scatter",
         "x": [
          "2020-12-01T00:00:00.000000000",
          "2021-01-01T00:00:00.000000000",
          "2021-02-01T00:00:00.000000000",
          "2021-03-01T00:00:00.000000000",
          "2021-04-01T00:00:00.000000000",
          "2021-05-01T00:00:00.000000000",
          "2021-06-01T00:00:00.000000000",
          "2021-07-01T00:00:00.000000000",
          "2021-08-01T00:00:00.000000000",
          "2021-09-01T00:00:00.000000000",
          "2021-10-01T00:00:00.000000000",
          "2021-11-01T00:00:00.000000000",
          "2021-12-01T00:00:00.000000000",
          "2022-01-01T00:00:00.000000000",
          "2022-02-01T00:00:00.000000000",
          "2022-03-01T00:00:00.000000000",
          "2022-04-01T00:00:00.000000000",
          "2022-05-01T00:00:00.000000000",
          "2022-06-01T00:00:00.000000000",
          "2022-07-01T00:00:00.000000000",
          "2022-08-01T00:00:00.000000000",
          "2022-09-01T00:00:00.000000000",
          "2022-10-01T00:00:00.000000000",
          "2022-11-01T00:00:00.000000000",
          "2022-12-01T00:00:00.000000000",
          "2023-01-01T00:00:00.000000000",
          "2023-02-01T00:00:00.000000000",
          "2023-03-01T00:00:00.000000000",
          "2023-04-01T00:00:00.000000000",
          "2023-05-01T00:00:00.000000000",
          "2023-06-01T00:00:00.000000000",
          "2023-08-01T00:00:00.000000000",
          "2023-12-01T00:00:00.000000000"
         ],
         "y": {
          "bdata": "AAAAAABIj0AAAAAAAIB6QAAAAAAAYIFAAAAAAAAUm0AAAAAAAACPQAAAAAAAEH1AAAAAAAAAcEAAAAAAAIBsQAAAAAAAgGpAAAAAAACgY0AAAAAAAABlQAAAAAAAgHJAAAAAAAAAa0AAAAAAAIBXQAAAAAAAAChAAAAAAAAAMEAAAAAAAABAQAAAAAAAADlAAAAAAAAANEAAAAAAAAA3QAAAAAAAACBAAAAAAAAAJkAAAAAAAAAgQAAAAAAAACpAAAAAAAAAYEAAAAAAAAAgQAAAAAAAAPA/AAAAAAAA8D8AAAAAAAAAQAAAAAAAAABAAAAAAAAA8D8AAAAAAAA0QAAAAAAAAPA/",
          "dtype": "f8"
         }
        },
        {
         "line": {
          "width": 1
         },
         "mode": "lines+markers",
         "name": "Tucson (NX4c)",
         "showlegend": true,
         "type": "scatter",
         "x": [
          "2021-03-01T00:00:00.000000000",
          "2021-04-01T00:00:00.000000000",
          "2021-05-01T00:00:00.000000000",
          "2021-06-01T00:00:00.000000000",
          "2021-07-01T00:00:00.000000000",
          "2021-08-01T00:00:00.000000000",
          "2021-09-01T00:00:00.000000000",
          "2021-10-01T00:00:00.000000000",
          "2021-11-01T00:00:00.000000000",
          "2021-12-01T00:00:00.000000000",
          "2022-01-01T00:00:00.000000000",
          "2022-02-01T00:00:00.000000000",
          "2022-03-01T00:00:00.000000000",
          "2022-04-01T00:00:00.000000000",
          "2022-05-01T00:00:00.000000000",
          "2022-06-01T00:00:00.000000000",
          "2022-07-01T00:00:00.000000000",
          "2022-08-01T00:00:00.000000000",
          "2022-09-01T00:00:00.000000000",
          "2022-10-01T00:00:00.000000000",
          "2022-11-01T00:00:00.000000000",
          "2022-12-01T00:00:00.000000000",
          "2023-01-01T00:00:00.000000000",
          "2023-02-01T00:00:00.000000000",
          "2023-03-01T00:00:00.000000000",
          "2023-04-01T00:00:00.000000000",
          "2023-05-01T00:00:00.000000000",
          "2023-06-01T00:00:00.000000000",
          "2023-07-01T00:00:00.000000000",
          "2023-08-01T00:00:00.000000000",
          "2023-09-01T00:00:00.000000000",
          "2023-10-01T00:00:00.000000000",
          "2023-11-01T00:00:00.000000000",
          "2023-12-01T00:00:00.000000000"
         ],
         "y": {
          "bdata": "AAAAAACmr0AAAAAAALytQAAAAAAA/JpAAAAAAADElEAAAAAAAPyRQAAAAAAArJFAAAAAAAB4lUAAAAAAAAiXQAAAAAAAfK5AAAAAAAD2uEAAAAAAAC+wQAAAAAAAYKpAAAAAAACerEAAAAAAABB0QAAAAAAAUIBAAAAAAABImUAAAAAAADqiQAAAAAAAdbNAAAAAAAASsUAAAAAAALyvQAAAAAAA8KZAAAAAAAAKrkAAAAAAAESuQAAAAAAAmKpAAAAAAACDt0AAAAAAAFiqQAAAAAAAKbVAAAAAAADTt0AAAAAAAI6lQAAAAAAA7LFAAAAAAABDtkAAAAAAAHSxQAAAAAAAebRAAAAAAAB0vUA=",
          "dtype": "f8"
         }
        },
        {
         "line": {
          "width": 1
         },
         "mode": "lines+markers",
         "name": "KU (MPV)",
         "showlegend": true,
         "type": "scatter",
         "x": [
          "2021-08-01T00:00:00.000000000",
          "2021-09-01T00:00:00.000000000",
          "2021-10-01T00:00:00.000000000",
          "2021-11-01T00:00:00.000000000",
          "2021-12-01T00:00:00.000000000"
         ],
         "y": {
          "bdata": "AAAAAAAQh0AAAAAAAKCJQAAAAAAABJFAAAAAAACsqEAAAAAAAOSgQA==",
          "dtype": "f8"
         }
        },
        {
         "line": {
          "width": 1
         },
         "mode": "lines+markers",
         "name": "Custo (KU)",
         "showlegend": true,
         "type": "scatter",
         "x": [
          "2022-01-01T00:00:00.000000000",
          "2022-02-01T00:00:00.000000000",
          "2022-03-01T00:00:00.000000000",
          "2022-04-01T00:00:00.000000000",
          "2022-05-01T00:00:00.000000000",
          "2022-06-01T00:00:00.000000000",
          "2022-07-01T00:00:00.000000000",
          "2022-08-01T00:00:00.000000000",
          "2022-09-01T00:00:00.000000000",
          "2022-10-01T00:00:00.000000000",
          "2022-11-01T00:00:00.000000000",
          "2022-12-01T00:00:00.000000000",
          "2023-01-01T00:00:00.000000000",
          "2023-02-01T00:00:00.000000000",
          "2023-03-01T00:00:00.000000000",
          "2023-04-01T00:00:00.000000000",
          "2023-05-01T00:00:00.000000000",
          "2023-06-01T00:00:00.000000000",
          "2023-07-01T00:00:00.000000000",
          "2023-08-01T00:00:00.000000000",
          "2023-09-01T00:00:00.000000000",
          "2023-10-01T00:00:00.000000000",
          "2023-11-01T00:00:00.000000000",
          "2023-12-01T00:00:00.000000000"
         ],
         "y": {
          "bdata": "AAAAAAA6o0AAAAAAAKiKQAAAAAAAqIpAAAAAAADoiEAAAAAAAKCDQAAAAAAAqI1AAAAAAADMkkAAAAAAAAibQAAAAAAAXJlAAAAAAADAkUAAAAAAAEB/QAAAAAAAiI1AAAAAAADwe0AAAAAAAPB8QAAAAAAAoIhAAAAAAAAQlUAAAAAAAISRQAAAAAAA/JNAAAAAAAD4lEAAAAAAADSWQAAAAAAAqJlAAAAAAAAQkkAAAAAAAECFQAAAAAAAHJFA",
          "dtype": "f8"
         }
        },
        {
         "line": {
          "width": 1
         },
         "mode": "lines+markers",
         "name": "Tucson HEV (NX4c HEV)",
         "showlegend": true,
         "type": "scatter",
         "x": [
          "2022-01-01T00:00:00.000000000",
          "2022-02-01T00:00:00.000000000",
          "2022-03-01T00:00:00.000000000",
          "2022-04-01T00:00:00.000000000",
          "2022-05-01T00:00:00.000000000",
          "2022-06-01T00:00:00.000000000",
          "2022-07-01T00:00:00.000000000",
          "2022-08-01T00:00:00.000000000",
          "2022-09-01T00:00:00.000000000",
          "2022-10-01T00:00:00.000000000",
          "2022-11-01T00:00:00.000000000",
          "2022-12-01T00:00:00.000000000",
          "2023-01-01T00:00:00.000000000",
          "2023-02-01T00:00:00.000000000",
          "2023-03-01T00:00:00.000000000",
          "2023-04-01T00:00:00.000000000",
          "2023-05-01T00:00:00.000000000",
          "2023-06-01T00:00:00.000000000",
          "2023-07-01T00:00:00.000000000",
          "2023-08-01T00:00:00.000000000",
          "2023-09-01T00:00:00.000000000",
          "2023-11-01T00:00:00.000000000",
          "2023-12-01T00:00:00.000000000"
         ],
         "y": {
          "bdata": "AAAAAACAS0AAAAAAAAAmQAAAAAAAAExAAAAAAAAAQEAAAAAAAAAsQAAAAAAAAEJAAAAAAAAAPkAAAAAAAABAQAAAAAAAgENAAAAAAAAAOkAAAAAAAAAyQAAAAAAAgFZAAAAAAAAATUAAAAAAAAAmQAAAAAAAACBAAAAAAAAAHEAAAAAAAAAcQAAAAAAAAAhAAAAAAAAA8D8AAAAAAAAkQAAAAAAAAAhAAAAAAAAAAEAAAAAAAADwPw==",
          "dtype": "f8"
         }
        },
        {
         "line": {
          "width": 1
         },
         "mode": "lines+markers",
         "name": "ix35 (NU2)",
         "showlegend": true,
         "type": "scatter",
         "x": [
          "2023-05-01T00:00:00.000000000",
          "2023-06-01T00:00:00.000000000",
          "2023-07-01T00:00:00.000000000",
          "2023-08-01T00:00:00.000000000",
          "2023-09-01T00:00:00.000000000",
          "2023-10-01T00:00:00.000000000",
          "2023-11-01T00:00:00.000000000",
          "2023-12-01T00:00:00.000000000"
         ],
         "y": {
          "bdata": "AAAAAADEnUAAAAAAAGSxQAAAAAAAuqZAAAAAAACYrEAAAAAAADyuQAAAAAAACqpAAAAAAABgrEAAAAAAAPeyQA==",
          "dtype": "f8"
         }
        }
       ],
       "layout": {
        "height": 600,
        "legend": {
         "title": {
          "text": "차종"
         }
        },
        "template": {
         "data": {
          "bar": [
           {
            "error_x": {
             "color": "#2a3f5f"
            },
            "error_y": {
             "color": "#2a3f5f"
            },
            "marker": {
             "line": {
              "color": "white",
              "width": 0.5
             },
             "pattern": {
              "fillmode": "overlay",
              "size": 10,
              "solidity": 0.2
             }
            },
            "type": "bar"
           }
          ],
          "barpolar": [
           {
            "marker": {
             "line": {
              "color": "white",
              "width": 0.5
             },
             "pattern": {
              "fillmode": "overlay",
              "size": 10,
              "solidity": 0.2
             }
            },
            "type": "barpolar"
           }
          ],
          "carpet": [
           {
            "aaxis": {
             "endlinecolor": "#2a3f5f",
             "gridcolor": "#C8D4E3",
             "linecolor": "#C8D4E3",
             "minorgridcolor": "#C8D4E3",
             "startlinecolor": "#2a3f5f"
            },
            "baxis": {
             "endlinecolor": "#2a3f5f",
             "gridcolor": "#C8D4E3",
             "linecolor": "#C8D4E3",
             "minorgridcolor": "#C8D4E3",
             "startlinecolor": "#2a3f5f"
            },
            "type": "carpet"
           }
          ],
          "choropleth": [
           {
            "colorbar": {
             "outlinewidth": 0,
             "ticks": ""
            },
            "type": "choropleth"
           }
          ],
          "contour": [
           {
            "colorbar": {
             "outlinewidth": 0,
             "ticks": ""
            },
            "colorscale": [
             [
              0,
              "#0d0887"
             ],
             [
              0.1111111111111111,
              "#46039f"
             ],
             [
              0.2222222222222222,
              "#7201a8"
             ],
             [
              0.3333333333333333,
              "#9c179e"
             ],
             [
              0.4444444444444444,
              "#bd3786"
             ],
             [
              0.5555555555555556,
              "#d8576b"
             ],
             [
              0.6666666666666666,
              "#ed7953"
             ],
             [
              0.7777777777777778,
              "#fb9f3a"
             ],
             [
              0.8888888888888888,
              "#fdca26"
             ],
             [
              1,
              "#f0f921"
             ]
            ],
            "type": "contour"
           }
          ],
          "contourcarpet": [
           {
            "colorbar": {
             "outlinewidth": 0,
             "ticks": ""
            },
            "type": "contourcarpet"
           }
          ],
          "heatmap": [
           {
            "colorbar": {
             "outlinewidth": 0,
             "ticks": ""
            },
            "colorscale": [
             [
              0,
              "#0d0887"
             ],
             [
              0.1111111111111111,
              "#46039f"
             ],
             [
              0.2222222222222222,
              "#7201a8"
             ],
             [
              0.3333333333333333,
              "#9c179e"
             ],
             [
              0.4444444444444444,
              "#bd3786"
             ],
             [
              0.5555555555555556,
              "#d8576b"
             ],
             [
              0.6666666666666666,
              "#ed7953"
             ],
             [
              0.7777777777777778,
              "#fb9f3a"
             ],
             [
              0.8888888888888888,
              "#fdca26"
             ],
             [
              1,
              "#f0f921"
             ]
            ],
            "type": "heatmap"
           }
          ],
          "histogram": [
           {
            "marker": {
             "pattern": {
              "fillmode": "overlay",
              "size": 10,
              "solidity": 0.2
             }
            },
            "type": "histogram"
           }
          ],
          "histogram2d": [
           {
            "colorbar": {
             "outlinewidth": 0,
             "ticks": ""
            },
            "colorscale": [
             [
              0,
              "#0d0887"
             ],
             [
              0.1111111111111111,
              "#46039f"
             ],
             [
              0.2222222222222222,
              "#7201a8"
             ],
             [
              0.3333333333333333,
              "#9c179e"
             ],
             [
              0.4444444444444444,
              "#bd3786"
             ],
             [
              0.5555555555555556,
              "#d8576b"
             ],
             [
              0.6666666666666666,
              "#ed7953"
             ],
             [
              0.7777777777777778,
              "#fb9f3a"
             ],
             [
              0.8888888888888888,
              "#fdca26"
             ],
             [
              1,
              "#f0f921"
             ]
            ],
            "type": "histogram2d"
           }
          ],
          "histogram2dcontour": [
           {
            "colorbar": {
             "outlinewidth": 0,
             "ticks": ""
            },
            "colorscale": [
             [
              0,
              "#0d0887"
             ],
             [
              0.1111111111111111,
              "#46039f"
             ],
             [
              0.2222222222222222,
              "#7201a8"
             ],
             [
              0.3333333333333333,
              "#9c179e"
             ],
             [
              0.4444444444444444,
              "#bd3786"
             ],
             [
              0.5555555555555556,
              "#d8576b"
             ],
             [
              0.6666666666666666,
              "#ed7953"
             ],
             [
              0.7777777777777778,
              "#fb9f3a"
             ],
             [
              0.8888888888888888,
              "#fdca26"
             ],
             [
              1,
              "#f0f921"
             ]
            ],
            "type": "histogram2dcontour"
           }
          ],
          "mesh3d": [
           {
            "colorbar": {
             "outlinewidth": 0,
             "ticks": ""
            },
            "type": "mesh3d"
           }
          ],
          "parcoords": [
           {
            "line": {
             "colorbar": {
              "outlinewidth": 0,
              "ticks": ""
             }
            },
            "type": "parcoords"
           }
          ],
          "pie": [
           {
            "automargin": true,
            "type": "pie"
           }
          ],
          "scatter": [
           {
            "fillpattern": {
             "fillmode": "overlay",
             "size": 10,
             "solidity": 0.2
            },
            "type": "scatter"
           }
          ],
          "scatter3d": [
           {
            "line": {
             "colorbar": {
              "outlinewidth": 0,
              "ticks": ""
             }
            },
            "marker": {
             "colorbar": {
              "outlinewidth": 0,
              "ticks": ""
             }
            },
            "type": "scatter3d"
           }
          ],
          "scattercarpet": [
           {
            "marker": {
             "colorbar": {
              "outlinewidth": 0,
              "ticks": ""
             }
            },
            "type": "scattercarpet"
           }
          ],
          "scattergeo": [
           {
            "marker": {
             "colorbar": {
              "outlinewidth": 0,
              "ticks": ""
             }
            },
            "type": "scattergeo"
           }
          ],
          "scattergl": [
           {
            "marker": {
             "colorbar": {
              "outlinewidth": 0,
              "ticks": ""
             }
            },
            "type": "scattergl"
           }
          ],
          "scattermap": [
           {
            "marker": {
             "colorbar": {
              "outlinewidth": 0,
              "ticks": ""
             }
            },
            "type": "scattermap"
           }
          ],
          "scattermapbox": [
           {
            "marker": {
             "colorbar": {
              "outlinewidth": 0,
              "ticks": ""
             }
            },
            "type": "scattermapbox"
           }
          ],
          "scatterpolar": [
           {
            "marker": {
             "colorbar": {
              "outlinewidth": 0,
              "ticks": ""
             }
            },
            "type": "scatterpolar"
           }
          ],
          "scatterpolargl": [
           {
            "marker": {
             "colorbar": {
              "outlinewidth": 0,
              "ticks": ""
             }
            },
            "type": "scatterpolargl"
           }
          ],
          "scatterternary": [
           {
            "marker": {
             "colorbar": {
              "outlinewidth": 0,
              "ticks": ""
             }
            },
            "type": "scatterternary"
           }
          ],
          "surface": [
           {
            "colorbar": {
             "outlinewidth": 0,
             "ticks": ""
            },
            "colorscale": [
             [
              0,
              "#0d0887"
             ],
             [
              0.1111111111111111,
              "#46039f"
             ],
             [
              0.2222222222222222,
              "#7201a8"
             ],
             [
              0.3333333333333333,
              "#9c179e"
             ],
             [
              0.4444444444444444,
              "#bd3786"
             ],
             [
              0.5555555555555556,
              "#d8576b"
             ],
             [
              0.6666666666666666,
              "#ed7953"
             ],
             [
              0.7777777777777778,
              "#fb9f3a"
             ],
             [
              0.8888888888888888,
              "#fdca26"
             ],
             [
              1,
              "#f0f921"
             ]
            ],
            "type": "surface"
           }
          ],
          "table": [
           {
            "cells": {
             "fill": {
              "color": "#EBF0F8"
             },
             "line": {
              "color": "white"
             }
            },
            "header": {
             "fill": {
              "color": "#C8D4E3"
             },
             "line": {
              "color": "white"
             }
            },
            "type": "table"
           }
          ]
         },
         "layout": {
          "annotationdefaults": {
           "arrowcolor": "#2a3f5f",
           "arrowhead": 0,
           "arrowwidth": 1
          },
          "autotypenumbers": "strict",
          "coloraxis": {
           "colorbar": {
            "outlinewidth": 0,
            "ticks": ""
           }
          },
          "colorscale": {
           "diverging": [
            [
             0,
             "#8e0152"
            ],
            [
             0.1,
             "#c51b7d"
            ],
            [
             0.2,
             "#de77ae"
            ],
            [
             0.3,
             "#f1b6da"
            ],
            [
             0.4,
             "#fde0ef"
            ],
            [
             0.5,
             "#f7f7f7"
            ],
            [
             0.6,
             "#e6f5d0"
            ],
            [
             0.7,
             "#b8e186"
            ],
            [
             0.8,
             "#7fbc41"
            ],
            [
             0.9,
             "#4d9221"
            ],
            [
             1,
             "#276419"
            ]
           ],
           "sequential": [
            [
             0,
             "#0d0887"
            ],
            [
             0.1111111111111111,
             "#46039f"
            ],
            [
             0.2222222222222222,
             "#7201a8"
            ],
            [
             0.3333333333333333,
             "#9c179e"
            ],
            [
             0.4444444444444444,
             "#bd3786"
            ],
            [
             0.5555555555555556,
             "#d8576b"
            ],
            [
             0.6666666666666666,
             "#ed7953"
            ],
            [
             0.7777777777777778,
             "#fb9f3a"
            ],
            [
             0.8888888888888888,
             "#fdca26"
            ],
            [
             1,
             "#f0f921"
            ]
           ],
           "sequentialminus": [
            [
             0,
             "#0d0887"
            ],
            [
             0.1111111111111111,
             "#46039f"
            ],
            [
             0.2222222222222222,
             "#7201a8"
            ],
            [
             0.3333333333333333,
             "#9c179e"
            ],
            [
             0.4444444444444444,
             "#bd3786"
            ],
            [
             0.5555555555555556,
             "#d8576b"
            ],
            [
             0.6666666666666666,
             "#ed7953"
            ],
            [
             0.7777777777777778,
             "#fb9f3a"
            ],
            [
             0.8888888888888888,
             "#fdca26"
            ],
            [
             1,
             "#f0f921"
            ]
           ]
          },
          "colorway": [
           "#636efa",
           "#EF553B",
           "#00cc96",
           "#ab63fa",
           "#FFA15A",
           "#19d3f3",
           "#FF6692",
           "#B6E880",
           "#FF97FF",
           "#FECB52"
          ],
          "font": {
           "color": "#2a3f5f"
          },
          "geo": {
           "bgcolor": "white",
           "lakecolor": "white",
           "landcolor": "white",
           "showlakes": true,
           "showland": true,
           "subunitcolor": "#C8D4E3"
          },
          "hoverlabel": {
           "align": "left"
          },
          "hovermode": "closest",
          "mapbox": {
           "style": "light"
          },
          "paper_bgcolor": "white",
          "plot_bgcolor": "white",
          "polar": {
           "angularaxis": {
            "gridcolor": "#EBF0F8",
            "linecolor": "#EBF0F8",
            "ticks": ""
           },
           "bgcolor": "white",
           "radialaxis": {
            "gridcolor": "#EBF0F8",
            "linecolor": "#EBF0F8",
            "ticks": ""
           }
          },
          "scene": {
           "xaxis": {
            "backgroundcolor": "white",
            "gridcolor": "#DFE8F3",
            "gridwidth": 2,
            "linecolor": "#EBF0F8",
            "showbackground": true,
            "ticks": "",
            "zerolinecolor": "#EBF0F8"
           },
           "yaxis": {
            "backgroundcolor": "white",
            "gridcolor": "#DFE8F3",
            "gridwidth": 2,
            "linecolor": "#EBF0F8",
            "showbackground": true,
            "ticks": "",
            "zerolinecolor": "#EBF0F8"
           },
           "zaxis": {
            "backgroundcolor": "white",
            "gridcolor": "#DFE8F3",
            "gridwidth": 2,
            "linecolor": "#EBF0F8",
            "showbackground": true,
            "ticks": "",
            "zerolinecolor": "#EBF0F8"
           }
          },
          "shapedefaults": {
           "line": {
            "color": "#2a3f5f"
           }
          },
          "ternary": {
           "aaxis": {
            "gridcolor": "#DFE8F3",
            "linecolor": "#A2B1C6",
            "ticks": ""
           },
           "baxis": {
            "gridcolor": "#DFE8F3",
            "linecolor": "#A2B1C6",
            "ticks": ""
           },
           "bgcolor": "white",
           "caxis": {
            "gridcolor": "#DFE8F3",
            "linecolor": "#A2B1C6",
            "ticks": ""
           }
          },
          "title": {
           "x": 0.05
          },
          "xaxis": {
           "automargin": true,
           "gridcolor": "#EBF0F8",
           "linecolor": "#EBF0F8",
           "ticks": "",
           "title": {
            "standoff": 15
           },
           "zerolinecolor": "#EBF0F8",
           "zerolinewidth": 2
          },
          "yaxis": {
           "automargin": true,
           "gridcolor": "#EBF0F8",
           "linecolor": "#EBF0F8",
           "ticks": "",
           "title": {
            "standoff": 15
           },
           "zerolinecolor": "#EBF0F8",
           "zerolinewidth": 2
          }
         }
        },
        "title": {
         "text": "중국 (베이징) 공장 - 내수 품목의 차종별 판매 추이 (2016~2023)"
        },
        "xaxis": {
         "title": {
          "text": "월"
         }
        },
        "yaxis": {
         "title": {
          "text": "판매량"
         }
        }
       }
      }
     },
     "metadata": {},
     "output_type": "display_data"
    }
   ],
   "source": [
    "def plot_factory_trends_interactive(factory_name, trade_type, start_year, end_year):\n",
    "    df = pd.read_csv(\"../../data/processed/현대_해외공장별판매실적_전처리.csv\")\n",
    "\n",
    "    # 필터링\n",
    "    filtered = df[(df['공장명(국가)'] == factory_name) & (df['거래 구분'] == trade_type)]\n",
    "\n",
    "    if filtered.empty:\n",
    "        print(\"❌ 해당 조건에 맞는 데이터가 없습니다.\")\n",
    "        return\n",
    "\n",
    "    # 데이터 변환\n",
    "    melted = filtered.melt(id_vars=['공장명(국가)', '차종', '거래 구분'], var_name='월', value_name='판매량')\n",
    "    melted['월'] = pd.to_datetime(melted['월'], errors='coerce')\n",
    "    melted = melted.dropna(subset=['월'])\n",
    "\n",
    "    # 연도 범위 필터링 및 0 제거\n",
    "    melted = melted[(melted['월'].dt.year >= start_year) & (melted['월'].dt.year <= end_year)]\n",
    "    melted = melted[melted['판매량'] != 0]\n",
    "\n",
    "    if melted.empty:\n",
    "        print(\"⚠️ 시각화할 데이터가 없습니다.\")\n",
    "        return\n",
    "\n",
    "    fig = go.Figure()\n",
    "    car_types = melted['차종'].unique()\n",
    "\n",
    "    for idx, car_type in enumerate(car_types):\n",
    "        data = melted[melted['차종'] == car_type]\n",
    "        fig.add_trace(go.Scatter(\n",
    "            x=data['월'],\n",
    "            y=data['판매량'],\n",
    "            mode='lines+markers',\n",
    "            name=car_type,\n",
    "            line=dict(width=1),\n",
    "            showlegend=True  # ✅ 범례 표시 강제\n",
    "        ))\n",
    "\n",
    "    fig.update_layout(\n",
    "        title=f\"{factory_name} 공장 - {trade_type} 품목의 차종별 판매 추이 ({start_year}~{end_year})\",\n",
    "        xaxis_title=\"월\",\n",
    "        yaxis_title=\"판매량\",\n",
    "        legend_title=\"차종\",\n",
    "        height=600,\n",
    "        template='plotly_white',\n",
    "    )\n",
    "\n",
    "    fig.show()\n",
    "\n",
    "# 사용 예시\n",
    "plot_factory_trends_interactive(\"중국 (베이징)\", \"내수\", 2016, 2023)"
   ]
  },
  {
   "cell_type": "markdown",
   "metadata": {},
   "source": [
    "#### 차종별 판매 트렌드 보여주는 차트"
   ]
  },
  {
   "cell_type": "code",
   "execution_count": 70,
   "metadata": {},
   "outputs": [
    {
     "data": {
      "application/vnd.plotly.v1+json": {
       "config": {
        "plotlyServerURL": "https://plot.ly"
       },
       "data": [
        {
         "line": {
          "dash": "dot",
          "width": 2
         },
         "mode": "lines",
         "name": "내수",
         "showlegend": true,
         "type": "scatter",
         "x": [],
         "y": []
        },
        {
         "line": {
          "width": 2
         },
         "mode": "lines+markers",
         "name": "수출",
         "showlegend": true,
         "type": "scatter",
         "x": [
          "2019-12-01T00:00:00.000000000",
          "2020-02-01T00:00:00.000000000",
          "2020-04-01T00:00:00.000000000",
          "2020-05-01T00:00:00.000000000",
          "2020-06-01T00:00:00.000000000",
          "2020-07-01T00:00:00.000000000",
          "2020-08-01T00:00:00.000000000",
          "2020-09-01T00:00:00.000000000",
          "2020-10-01T00:00:00.000000000",
          "2020-11-01T00:00:00.000000000",
          "2020-12-01T00:00:00.000000000",
          "2021-01-01T00:00:00.000000000",
          "2021-02-01T00:00:00.000000000",
          "2021-03-01T00:00:00.000000000",
          "2021-04-01T00:00:00.000000000",
          "2021-05-01T00:00:00.000000000",
          "2021-06-01T00:00:00.000000000",
          "2021-07-01T00:00:00.000000000",
          "2021-08-01T00:00:00.000000000",
          "2021-09-01T00:00:00.000000000",
          "2021-10-01T00:00:00.000000000",
          "2021-11-01T00:00:00.000000000",
          "2021-12-01T00:00:00.000000000",
          "2022-01-01T00:00:00.000000000",
          "2022-02-01T00:00:00.000000000",
          "2022-03-01T00:00:00.000000000",
          "2022-04-01T00:00:00.000000000",
          "2022-05-01T00:00:00.000000000",
          "2022-06-01T00:00:00.000000000",
          "2022-07-01T00:00:00.000000000",
          "2022-08-01T00:00:00.000000000",
          "2022-09-01T00:00:00.000000000",
          "2022-10-01T00:00:00.000000000",
          "2022-11-01T00:00:00.000000000",
          "2022-12-01T00:00:00.000000000",
          "2023-01-01T00:00:00.000000000",
          "2023-02-01T00:00:00.000000000",
          "2023-03-01T00:00:00.000000000",
          "2023-04-01T00:00:00.000000000",
          "2023-05-01T00:00:00.000000000",
          "2023-06-01T00:00:00.000000000",
          "2023-07-01T00:00:00.000000000",
          "2023-08-01T00:00:00.000000000",
          "2023-09-01T00:00:00.000000000",
          "2023-10-01T00:00:00.000000000",
          "2023-11-01T00:00:00.000000000",
          "2023-12-01T00:00:00.000000000"
         ],
         "y": {
          "bdata": "AAAAAAAANEAAAAAAAAAIQAAAAAAAABhAAAAAAAAAJkAAAAAAAAAwQAAAAAAAABhAAAAAAAAANkAAAAAAAOBnQAAAAAAAwqdAAAAAAADEq0AAAAAAAFagQAAAAAAAqKJAAAAAAAD4nEAAAAAAAJCkQAAAAAAApqVAAAAAAACEnUAAAAAAAKiaQAAAAAAA3J1AAAAAAAC8mEAAAAAAAMSdQAAAAAAA8KNAAAAAAABYhUAAAAAAAByZQAAAAAAAqJ9AAAAAAABYmEAAAAAAAJSfQAAAAAAAVJdAAAAAAACMnUAAAAAAALybQAAAAAAAgqFAAAAAAACMnkAAAAAAABagQAAAAAAAAJxAAAAAAAAuoEAAAAAAAOyeQAAAAAAAcJ1AAAAAAADInEAAAAAAAE6iQAAAAAAAyqFAAAAAAABQo0AAAAAAAFyiQAAAAAAALqVAAAAAAADwoUAAAAAAADCgQAAAAAAAxKlAAAAAAABsmkAAAAAAAIqiQA==",
          "dtype": "f8"
         }
        }
       ],
       "layout": {
        "height": 600,
        "legend": {
         "orientation": "h",
         "x": 0,
         "y": 1.1
        },
        "template": {
         "data": {
          "bar": [
           {
            "error_x": {
             "color": "#2a3f5f"
            },
            "error_y": {
             "color": "#2a3f5f"
            },
            "marker": {
             "line": {
              "color": "white",
              "width": 0.5
             },
             "pattern": {
              "fillmode": "overlay",
              "size": 10,
              "solidity": 0.2
             }
            },
            "type": "bar"
           }
          ],
          "barpolar": [
           {
            "marker": {
             "line": {
              "color": "white",
              "width": 0.5
             },
             "pattern": {
              "fillmode": "overlay",
              "size": 10,
              "solidity": 0.2
             }
            },
            "type": "barpolar"
           }
          ],
          "carpet": [
           {
            "aaxis": {
             "endlinecolor": "#2a3f5f",
             "gridcolor": "#C8D4E3",
             "linecolor": "#C8D4E3",
             "minorgridcolor": "#C8D4E3",
             "startlinecolor": "#2a3f5f"
            },
            "baxis": {
             "endlinecolor": "#2a3f5f",
             "gridcolor": "#C8D4E3",
             "linecolor": "#C8D4E3",
             "minorgridcolor": "#C8D4E3",
             "startlinecolor": "#2a3f5f"
            },
            "type": "carpet"
           }
          ],
          "choropleth": [
           {
            "colorbar": {
             "outlinewidth": 0,
             "ticks": ""
            },
            "type": "choropleth"
           }
          ],
          "contour": [
           {
            "colorbar": {
             "outlinewidth": 0,
             "ticks": ""
            },
            "colorscale": [
             [
              0,
              "#0d0887"
             ],
             [
              0.1111111111111111,
              "#46039f"
             ],
             [
              0.2222222222222222,
              "#7201a8"
             ],
             [
              0.3333333333333333,
              "#9c179e"
             ],
             [
              0.4444444444444444,
              "#bd3786"
             ],
             [
              0.5555555555555556,
              "#d8576b"
             ],
             [
              0.6666666666666666,
              "#ed7953"
             ],
             [
              0.7777777777777778,
              "#fb9f3a"
             ],
             [
              0.8888888888888888,
              "#fdca26"
             ],
             [
              1,
              "#f0f921"
             ]
            ],
            "type": "contour"
           }
          ],
          "contourcarpet": [
           {
            "colorbar": {
             "outlinewidth": 0,
             "ticks": ""
            },
            "type": "contourcarpet"
           }
          ],
          "heatmap": [
           {
            "colorbar": {
             "outlinewidth": 0,
             "ticks": ""
            },
            "colorscale": [
             [
              0,
              "#0d0887"
             ],
             [
              0.1111111111111111,
              "#46039f"
             ],
             [
              0.2222222222222222,
              "#7201a8"
             ],
             [
              0.3333333333333333,
              "#9c179e"
             ],
             [
              0.4444444444444444,
              "#bd3786"
             ],
             [
              0.5555555555555556,
              "#d8576b"
             ],
             [
              0.6666666666666666,
              "#ed7953"
             ],
             [
              0.7777777777777778,
              "#fb9f3a"
             ],
             [
              0.8888888888888888,
              "#fdca26"
             ],
             [
              1,
              "#f0f921"
             ]
            ],
            "type": "heatmap"
           }
          ],
          "histogram": [
           {
            "marker": {
             "pattern": {
              "fillmode": "overlay",
              "size": 10,
              "solidity": 0.2
             }
            },
            "type": "histogram"
           }
          ],
          "histogram2d": [
           {
            "colorbar": {
             "outlinewidth": 0,
             "ticks": ""
            },
            "colorscale": [
             [
              0,
              "#0d0887"
             ],
             [
              0.1111111111111111,
              "#46039f"
             ],
             [
              0.2222222222222222,
              "#7201a8"
             ],
             [
              0.3333333333333333,
              "#9c179e"
             ],
             [
              0.4444444444444444,
              "#bd3786"
             ],
             [
              0.5555555555555556,
              "#d8576b"
             ],
             [
              0.6666666666666666,
              "#ed7953"
             ],
             [
              0.7777777777777778,
              "#fb9f3a"
             ],
             [
              0.8888888888888888,
              "#fdca26"
             ],
             [
              1,
              "#f0f921"
             ]
            ],
            "type": "histogram2d"
           }
          ],
          "histogram2dcontour": [
           {
            "colorbar": {
             "outlinewidth": 0,
             "ticks": ""
            },
            "colorscale": [
             [
              0,
              "#0d0887"
             ],
             [
              0.1111111111111111,
              "#46039f"
             ],
             [
              0.2222222222222222,
              "#7201a8"
             ],
             [
              0.3333333333333333,
              "#9c179e"
             ],
             [
              0.4444444444444444,
              "#bd3786"
             ],
             [
              0.5555555555555556,
              "#d8576b"
             ],
             [
              0.6666666666666666,
              "#ed7953"
             ],
             [
              0.7777777777777778,
              "#fb9f3a"
             ],
             [
              0.8888888888888888,
              "#fdca26"
             ],
             [
              1,
              "#f0f921"
             ]
            ],
            "type": "histogram2dcontour"
           }
          ],
          "mesh3d": [
           {
            "colorbar": {
             "outlinewidth": 0,
             "ticks": ""
            },
            "type": "mesh3d"
           }
          ],
          "parcoords": [
           {
            "line": {
             "colorbar": {
              "outlinewidth": 0,
              "ticks": ""
             }
            },
            "type": "parcoords"
           }
          ],
          "pie": [
           {
            "automargin": true,
            "type": "pie"
           }
          ],
          "scatter": [
           {
            "fillpattern": {
             "fillmode": "overlay",
             "size": 10,
             "solidity": 0.2
            },
            "type": "scatter"
           }
          ],
          "scatter3d": [
           {
            "line": {
             "colorbar": {
              "outlinewidth": 0,
              "ticks": ""
             }
            },
            "marker": {
             "colorbar": {
              "outlinewidth": 0,
              "ticks": ""
             }
            },
            "type": "scatter3d"
           }
          ],
          "scattercarpet": [
           {
            "marker": {
             "colorbar": {
              "outlinewidth": 0,
              "ticks": ""
             }
            },
            "type": "scattercarpet"
           }
          ],
          "scattergeo": [
           {
            "marker": {
             "colorbar": {
              "outlinewidth": 0,
              "ticks": ""
             }
            },
            "type": "scattergeo"
           }
          ],
          "scattergl": [
           {
            "marker": {
             "colorbar": {
              "outlinewidth": 0,
              "ticks": ""
             }
            },
            "type": "scattergl"
           }
          ],
          "scattermap": [
           {
            "marker": {
             "colorbar": {
              "outlinewidth": 0,
              "ticks": ""
             }
            },
            "type": "scattermap"
           }
          ],
          "scattermapbox": [
           {
            "marker": {
             "colorbar": {
              "outlinewidth": 0,
              "ticks": ""
             }
            },
            "type": "scattermapbox"
           }
          ],
          "scatterpolar": [
           {
            "marker": {
             "colorbar": {
              "outlinewidth": 0,
              "ticks": ""
             }
            },
            "type": "scatterpolar"
           }
          ],
          "scatterpolargl": [
           {
            "marker": {
             "colorbar": {
              "outlinewidth": 0,
              "ticks": ""
             }
            },
            "type": "scatterpolargl"
           }
          ],
          "scatterternary": [
           {
            "marker": {
             "colorbar": {
              "outlinewidth": 0,
              "ticks": ""
             }
            },
            "type": "scatterternary"
           }
          ],
          "surface": [
           {
            "colorbar": {
             "outlinewidth": 0,
             "ticks": ""
            },
            "colorscale": [
             [
              0,
              "#0d0887"
             ],
             [
              0.1111111111111111,
              "#46039f"
             ],
             [
              0.2222222222222222,
              "#7201a8"
             ],
             [
              0.3333333333333333,
              "#9c179e"
             ],
             [
              0.4444444444444444,
              "#bd3786"
             ],
             [
              0.5555555555555556,
              "#d8576b"
             ],
             [
              0.6666666666666666,
              "#ed7953"
             ],
             [
              0.7777777777777778,
              "#fb9f3a"
             ],
             [
              0.8888888888888888,
              "#fdca26"
             ],
             [
              1,
              "#f0f921"
             ]
            ],
            "type": "surface"
           }
          ],
          "table": [
           {
            "cells": {
             "fill": {
              "color": "#EBF0F8"
             },
             "line": {
              "color": "white"
             }
            },
            "header": {
             "fill": {
              "color": "#C8D4E3"
             },
             "line": {
              "color": "white"
             }
            },
            "type": "table"
           }
          ]
         },
         "layout": {
          "annotationdefaults": {
           "arrowcolor": "#2a3f5f",
           "arrowhead": 0,
           "arrowwidth": 1
          },
          "autotypenumbers": "strict",
          "coloraxis": {
           "colorbar": {
            "outlinewidth": 0,
            "ticks": ""
           }
          },
          "colorscale": {
           "diverging": [
            [
             0,
             "#8e0152"
            ],
            [
             0.1,
             "#c51b7d"
            ],
            [
             0.2,
             "#de77ae"
            ],
            [
             0.3,
             "#f1b6da"
            ],
            [
             0.4,
             "#fde0ef"
            ],
            [
             0.5,
             "#f7f7f7"
            ],
            [
             0.6,
             "#e6f5d0"
            ],
            [
             0.7,
             "#b8e186"
            ],
            [
             0.8,
             "#7fbc41"
            ],
            [
             0.9,
             "#4d9221"
            ],
            [
             1,
             "#276419"
            ]
           ],
           "sequential": [
            [
             0,
             "#0d0887"
            ],
            [
             0.1111111111111111,
             "#46039f"
            ],
            [
             0.2222222222222222,
             "#7201a8"
            ],
            [
             0.3333333333333333,
             "#9c179e"
            ],
            [
             0.4444444444444444,
             "#bd3786"
            ],
            [
             0.5555555555555556,
             "#d8576b"
            ],
            [
             0.6666666666666666,
             "#ed7953"
            ],
            [
             0.7777777777777778,
             "#fb9f3a"
            ],
            [
             0.8888888888888888,
             "#fdca26"
            ],
            [
             1,
             "#f0f921"
            ]
           ],
           "sequentialminus": [
            [
             0,
             "#0d0887"
            ],
            [
             0.1111111111111111,
             "#46039f"
            ],
            [
             0.2222222222222222,
             "#7201a8"
            ],
            [
             0.3333333333333333,
             "#9c179e"
            ],
            [
             0.4444444444444444,
             "#bd3786"
            ],
            [
             0.5555555555555556,
             "#d8576b"
            ],
            [
             0.6666666666666666,
             "#ed7953"
            ],
            [
             0.7777777777777778,
             "#fb9f3a"
            ],
            [
             0.8888888888888888,
             "#fdca26"
            ],
            [
             1,
             "#f0f921"
            ]
           ]
          },
          "colorway": [
           "#636efa",
           "#EF553B",
           "#00cc96",
           "#ab63fa",
           "#FFA15A",
           "#19d3f3",
           "#FF6692",
           "#B6E880",
           "#FF97FF",
           "#FECB52"
          ],
          "font": {
           "color": "#2a3f5f"
          },
          "geo": {
           "bgcolor": "white",
           "lakecolor": "white",
           "landcolor": "white",
           "showlakes": true,
           "showland": true,
           "subunitcolor": "#C8D4E3"
          },
          "hoverlabel": {
           "align": "left"
          },
          "hovermode": "closest",
          "mapbox": {
           "style": "light"
          },
          "paper_bgcolor": "white",
          "plot_bgcolor": "white",
          "polar": {
           "angularaxis": {
            "gridcolor": "#EBF0F8",
            "linecolor": "#EBF0F8",
            "ticks": ""
           },
           "bgcolor": "white",
           "radialaxis": {
            "gridcolor": "#EBF0F8",
            "linecolor": "#EBF0F8",
            "ticks": ""
           }
          },
          "scene": {
           "xaxis": {
            "backgroundcolor": "white",
            "gridcolor": "#DFE8F3",
            "gridwidth": 2,
            "linecolor": "#EBF0F8",
            "showbackground": true,
            "ticks": "",
            "zerolinecolor": "#EBF0F8"
           },
           "yaxis": {
            "backgroundcolor": "white",
            "gridcolor": "#DFE8F3",
            "gridwidth": 2,
            "linecolor": "#EBF0F8",
            "showbackground": true,
            "ticks": "",
            "zerolinecolor": "#EBF0F8"
           },
           "zaxis": {
            "backgroundcolor": "white",
            "gridcolor": "#DFE8F3",
            "gridwidth": 2,
            "linecolor": "#EBF0F8",
            "showbackground": true,
            "ticks": "",
            "zerolinecolor": "#EBF0F8"
           }
          },
          "shapedefaults": {
           "line": {
            "color": "#2a3f5f"
           }
          },
          "ternary": {
           "aaxis": {
            "gridcolor": "#DFE8F3",
            "linecolor": "#A2B1C6",
            "ticks": ""
           },
           "baxis": {
            "gridcolor": "#DFE8F3",
            "linecolor": "#A2B1C6",
            "ticks": ""
           },
           "bgcolor": "white",
           "caxis": {
            "gridcolor": "#DFE8F3",
            "linecolor": "#A2B1C6",
            "ticks": ""
           }
          },
          "title": {
           "x": 0.05
          },
          "xaxis": {
           "automargin": true,
           "gridcolor": "#EBF0F8",
           "linecolor": "#EBF0F8",
           "ticks": "",
           "title": {
            "standoff": 15
           },
           "zerolinecolor": "#EBF0F8",
           "zerolinewidth": 2
          },
          "yaxis": {
           "automargin": true,
           "gridcolor": "#EBF0F8",
           "linecolor": "#EBF0F8",
           "ticks": "",
           "title": {
            "standoff": 15
           },
           "zerolinecolor": "#EBF0F8",
           "zerolinewidth": 2
          }
         }
        },
        "title": {
         "text": "GV80 차종 내수/수출 판매 추이 (2016~2023)"
        },
        "xaxis": {
         "title": {
          "text": "월"
         }
        },
        "yaxis": {
         "title": {
          "text": "판매량"
         }
        }
       }
      }
     },
     "metadata": {},
     "output_type": "display_data"
    }
   ],
   "source": [
    "file_path = \"../../data/processed/현대_차종별판매실적_전처리.csv\"\n",
    "df = pd.read_csv(file_path)\n",
    "\n",
    "def plot_trade_type_comparison(car_name, start_year=2010, end_year=2025):\n",
    "    # 차종 필터링\n",
    "    filtered = df[df['차종'] == car_name]\n",
    "    if filtered.empty:\n",
    "        print(f\"❌ 차종 '{car_name}'에 대한 데이터가 없습니다.\")\n",
    "        return\n",
    "\n",
    "    # 데이터 정리\n",
    "    melted = filtered.melt(id_vars=['차량 유형', '차종', '거래 구분'], var_name='월', value_name='판매량')\n",
    "    melted['월'] = pd.to_datetime(melted['월'], errors='coerce')\n",
    "    melted = melted.dropna(subset=['월'])\n",
    "\n",
    "    # 연도 범위 필터링\n",
    "    melted = melted[(melted['월'].dt.year >= start_year) & (melted['월'].dt.year <= end_year)]\n",
    "\n",
    "    fig = go.Figure()\n",
    "    trade_types = ['내수', '수출']  # 강제 포함할 거래 구분\n",
    "\n",
    "    for trade_type in trade_types:\n",
    "        sub_df = melted[(melted['거래 구분'] == trade_type) & (melted['판매량'] > 0)]\n",
    "\n",
    "        if not sub_df.empty:\n",
    "            fig.add_trace(go.Scatter(\n",
    "                x=sub_df['월'],\n",
    "                y=sub_df['판매량'],\n",
    "                mode='lines+markers',\n",
    "                name=trade_type,\n",
    "                line=dict(width=2),\n",
    "                showlegend=True\n",
    "            ))\n",
    "        else:\n",
    "            # 데이터가 없을 경우에도 빈 범례 추가\n",
    "            fig.add_trace(go.Scatter(\n",
    "                x=[], y=[],\n",
    "                mode='lines',\n",
    "                name=trade_type,\n",
    "                line=dict(width=2, dash='dot'),\n",
    "                showlegend=True\n",
    "            ))\n",
    "\n",
    "    fig.update_layout(\n",
    "        title=f\"{car_name} 차종 내수/수출 판매 추이 ({start_year}~{end_year})\",\n",
    "        xaxis_title=\"월\",\n",
    "        yaxis_title=\"판매량\",\n",
    "        height=600,\n",
    "        template='plotly_white',\n",
    "        legend=dict(x=0, y=1.1, orientation=\"h\")\n",
    "    )\n",
    "\n",
    "    fig.show()\n",
    "\n",
    "# 사용 예시\n",
    "plot_trade_type_comparison(\"GV80\", 2016, 2023)"
   ]
  },
  {
   "cell_type": "code",
   "execution_count": null,
   "metadata": {},
   "outputs": [],
   "source": []
  }
 ],
 "metadata": {
  "kernelspec": {
   "display_name": "hi",
   "language": "python",
   "name": "python3"
  },
  "language_info": {
   "codemirror_mode": {
    "name": "ipython",
    "version": 3
   },
   "file_extension": ".py",
   "mimetype": "text/x-python",
   "name": "python",
   "nbconvert_exporter": "python",
   "pygments_lexer": "ipython3",
   "version": "3.10.16"
  }
 },
 "nbformat": 4,
 "nbformat_minor": 2
}
