{
 "cells": [
  {
   "cell_type": "code",
   "execution_count": 2,
   "metadata": {},
   "outputs": [],
   "source": [
    "import pandas as pd, numpy as np, matplotlib.pyplot as plt, seaborn as sb"
   ]
  },
  {
   "cell_type": "code",
   "execution_count": 10,
   "metadata": {},
   "outputs": [],
   "source": [
    "# 데이터 불러오기\n",
    "df_2023 = pd.read_csv(\"지역별수출실적_2023.CSV\")\n",
    "df_2024= pd.read_csv(\"지역별수출실적_2024.CSV\")\n",
    "df_2025= pd.read_csv(\"지역별수출실적_2025.CSV\")"
   ]
  },
  {
   "cell_type": "code",
   "execution_count": 11,
   "metadata": {},
   "outputs": [
    {
     "data": {
      "application/vnd.microsoft.datawrangler.viewer.v0+json": {
       "columns": [
        {
         "name": "index",
         "rawType": "int64",
         "type": "integer"
        },
        {
         "name": "Car",
         "rawType": "object",
         "type": "string"
        },
        {
         "name": "Region",
         "rawType": "object",
         "type": "string"
        },
        {
         "name": "Jan",
         "rawType": "float64",
         "type": "float"
        },
        {
         "name": "Feb",
         "rawType": "float64",
         "type": "float"
        },
        {
         "name": "Mar",
         "rawType": "float64",
         "type": "float"
        },
        {
         "name": "Apr",
         "rawType": "float64",
         "type": "float"
        },
        {
         "name": "May",
         "rawType": "float64",
         "type": "float"
        },
        {
         "name": "Jun",
         "rawType": "float64",
         "type": "float"
        },
        {
         "name": "Jul",
         "rawType": "float64",
         "type": "float"
        },
        {
         "name": "Aug",
         "rawType": "float64",
         "type": "float"
        },
        {
         "name": "Sep",
         "rawType": "float64",
         "type": "float"
        },
        {
         "name": "Oct",
         "rawType": "float64",
         "type": "float"
        },
        {
         "name": "Nov",
         "rawType": "float64",
         "type": "float"
        },
        {
         "name": "Dec",
         "rawType": "float64",
         "type": "float"
        }
       ],
       "conversionMethod": "pd.DataFrame",
       "ref": "dbf8d73d-6e90-4040-ac8e-b9c51e3e0af9",
       "rows": [
        [
         "0",
         "Passenger Car",
         "US",
         "1048.0",
         "633.0",
         "627.0",
         "245.0",
         "0.0",
         "0.0",
         "2.0",
         "0.0",
         "0.0",
         "4.0",
         "0.0",
         "5.0"
        ],
        [
         "1",
         "Recreational Vehicle",
         "US",
         "33056.0",
         "29697.0",
         "31985.0",
         "29103.0",
         "28763.0",
         "26013.0",
         "27234.0",
         "22619.0",
         "20969.0",
         "24759.0",
         "33951.0",
         "30920.0"
        ],
        [
         "2",
         "Commercial Vehicle",
         "US",
         "0.0",
         "0.0",
         "0.0",
         "0.0",
         "0.0",
         "0.0",
         null,
         "0.0",
         "0.0",
         "0.0",
         "0.0",
         "0.0"
        ],
        [
         "3",
         "Special Vehicle",
         "US",
         "0.0",
         "0.0",
         "0.0",
         "0.0",
         "0.0",
         null,
         null,
         null,
         "0.0",
         "0.0",
         "0.0",
         null
        ],
        [
         "4",
         "CKD(Inc, Special Vehicle)",
         "US",
         "0.0",
         "0.0",
         "0.0",
         "0.0",
         null,
         null,
         null,
         null,
         null,
         null,
         null,
         null
        ]
       ],
       "shape": {
        "columns": 14,
        "rows": 5
       }
      },
      "text/html": [
       "<div>\n",
       "<style scoped>\n",
       "    .dataframe tbody tr th:only-of-type {\n",
       "        vertical-align: middle;\n",
       "    }\n",
       "\n",
       "    .dataframe tbody tr th {\n",
       "        vertical-align: top;\n",
       "    }\n",
       "\n",
       "    .dataframe thead th {\n",
       "        text-align: right;\n",
       "    }\n",
       "</style>\n",
       "<table border=\"1\" class=\"dataframe\">\n",
       "  <thead>\n",
       "    <tr style=\"text-align: right;\">\n",
       "      <th></th>\n",
       "      <th>Car</th>\n",
       "      <th>Region</th>\n",
       "      <th>Jan</th>\n",
       "      <th>Feb</th>\n",
       "      <th>Mar</th>\n",
       "      <th>Apr</th>\n",
       "      <th>May</th>\n",
       "      <th>Jun</th>\n",
       "      <th>Jul</th>\n",
       "      <th>Aug</th>\n",
       "      <th>Sep</th>\n",
       "      <th>Oct</th>\n",
       "      <th>Nov</th>\n",
       "      <th>Dec</th>\n",
       "    </tr>\n",
       "  </thead>\n",
       "  <tbody>\n",
       "    <tr>\n",
       "      <th>0</th>\n",
       "      <td>Passenger Car</td>\n",
       "      <td>US</td>\n",
       "      <td>1048.0</td>\n",
       "      <td>633.0</td>\n",
       "      <td>627.0</td>\n",
       "      <td>245.0</td>\n",
       "      <td>0.0</td>\n",
       "      <td>0.0</td>\n",
       "      <td>2.0</td>\n",
       "      <td>0.0</td>\n",
       "      <td>0.0</td>\n",
       "      <td>4.0</td>\n",
       "      <td>0.0</td>\n",
       "      <td>5.0</td>\n",
       "    </tr>\n",
       "    <tr>\n",
       "      <th>1</th>\n",
       "      <td>Recreational Vehicle</td>\n",
       "      <td>US</td>\n",
       "      <td>33056.0</td>\n",
       "      <td>29697.0</td>\n",
       "      <td>31985.0</td>\n",
       "      <td>29103.0</td>\n",
       "      <td>28763.0</td>\n",
       "      <td>26013.0</td>\n",
       "      <td>27234.0</td>\n",
       "      <td>22619.0</td>\n",
       "      <td>20969.0</td>\n",
       "      <td>24759.0</td>\n",
       "      <td>33951.0</td>\n",
       "      <td>30920.0</td>\n",
       "    </tr>\n",
       "    <tr>\n",
       "      <th>2</th>\n",
       "      <td>Commercial Vehicle</td>\n",
       "      <td>US</td>\n",
       "      <td>0.0</td>\n",
       "      <td>0.0</td>\n",
       "      <td>0.0</td>\n",
       "      <td>0.0</td>\n",
       "      <td>0.0</td>\n",
       "      <td>0.0</td>\n",
       "      <td>NaN</td>\n",
       "      <td>0.0</td>\n",
       "      <td>0.0</td>\n",
       "      <td>0.0</td>\n",
       "      <td>0.0</td>\n",
       "      <td>0.0</td>\n",
       "    </tr>\n",
       "    <tr>\n",
       "      <th>3</th>\n",
       "      <td>Special Vehicle</td>\n",
       "      <td>US</td>\n",
       "      <td>0.0</td>\n",
       "      <td>0.0</td>\n",
       "      <td>0.0</td>\n",
       "      <td>0.0</td>\n",
       "      <td>0.0</td>\n",
       "      <td>NaN</td>\n",
       "      <td>NaN</td>\n",
       "      <td>NaN</td>\n",
       "      <td>0.0</td>\n",
       "      <td>0.0</td>\n",
       "      <td>0.0</td>\n",
       "      <td>NaN</td>\n",
       "    </tr>\n",
       "    <tr>\n",
       "      <th>4</th>\n",
       "      <td>CKD(Inc, Special Vehicle)</td>\n",
       "      <td>US</td>\n",
       "      <td>0.0</td>\n",
       "      <td>0.0</td>\n",
       "      <td>0.0</td>\n",
       "      <td>0.0</td>\n",
       "      <td>NaN</td>\n",
       "      <td>NaN</td>\n",
       "      <td>NaN</td>\n",
       "      <td>NaN</td>\n",
       "      <td>NaN</td>\n",
       "      <td>NaN</td>\n",
       "      <td>NaN</td>\n",
       "      <td>NaN</td>\n",
       "    </tr>\n",
       "  </tbody>\n",
       "</table>\n",
       "</div>"
      ],
      "text/plain": [
       "                         Car Region      Jan      Feb      Mar      Apr  \\\n",
       "0              Passenger Car     US   1048.0    633.0    627.0    245.0   \n",
       "1       Recreational Vehicle     US  33056.0  29697.0  31985.0  29103.0   \n",
       "2         Commercial Vehicle     US      0.0      0.0      0.0      0.0   \n",
       "3            Special Vehicle     US      0.0      0.0      0.0      0.0   \n",
       "4  CKD(Inc, Special Vehicle)     US      0.0      0.0      0.0      0.0   \n",
       "\n",
       "       May      Jun      Jul      Aug      Sep      Oct      Nov      Dec  \n",
       "0      0.0      0.0      2.0      0.0      0.0      4.0      0.0      5.0  \n",
       "1  28763.0  26013.0  27234.0  22619.0  20969.0  24759.0  33951.0  30920.0  \n",
       "2      0.0      0.0      NaN      0.0      0.0      0.0      0.0      0.0  \n",
       "3      0.0      NaN      NaN      NaN      0.0      0.0      0.0      NaN  \n",
       "4      NaN      NaN      NaN      NaN      NaN      NaN      NaN      NaN  "
      ]
     },
     "execution_count": 11,
     "metadata": {},
     "output_type": "execute_result"
    }
   ],
   "source": [
    "df_2023.head()"
   ]
  },
  {
   "cell_type": "code",
   "execution_count": 14,
   "metadata": {},
   "outputs": [],
   "source": [
    "df_2023[\"연도\"] = 2023"
   ]
  },
  {
   "cell_type": "code",
   "execution_count": 15,
   "metadata": {},
   "outputs": [
    {
     "data": {
      "application/vnd.microsoft.datawrangler.viewer.v0+json": {
       "columns": [
        {
         "name": "index",
         "rawType": "int64",
         "type": "integer"
        },
        {
         "name": "Car",
         "rawType": "object",
         "type": "string"
        },
        {
         "name": "Region",
         "rawType": "object",
         "type": "string"
        },
        {
         "name": "Jan",
         "rawType": "float64",
         "type": "float"
        },
        {
         "name": "Feb",
         "rawType": "float64",
         "type": "float"
        },
        {
         "name": "Mar",
         "rawType": "float64",
         "type": "float"
        },
        {
         "name": "Apr",
         "rawType": "float64",
         "type": "float"
        },
        {
         "name": "May",
         "rawType": "float64",
         "type": "float"
        },
        {
         "name": "Jun",
         "rawType": "float64",
         "type": "float"
        },
        {
         "name": "Jul",
         "rawType": "float64",
         "type": "float"
        },
        {
         "name": "Aug",
         "rawType": "float64",
         "type": "float"
        },
        {
         "name": "Sep",
         "rawType": "float64",
         "type": "float"
        },
        {
         "name": "Oct",
         "rawType": "float64",
         "type": "float"
        },
        {
         "name": "Nov",
         "rawType": "float64",
         "type": "float"
        },
        {
         "name": "Dec",
         "rawType": "float64",
         "type": "float"
        },
        {
         "name": "연도",
         "rawType": "int64",
         "type": "integer"
        }
       ],
       "conversionMethod": "pd.DataFrame",
       "ref": "847d9204-4672-4296-9614-86145c6d4015",
       "rows": [
        [
         "0",
         "Passenger Car",
         "US",
         "1048.0",
         "633.0",
         "627.0",
         "245.0",
         "0.0",
         "0.0",
         "2.0",
         "0.0",
         "0.0",
         "4.0",
         "0.0",
         "5.0",
         "2023"
        ],
        [
         "1",
         "Recreational Vehicle",
         "US",
         "33056.0",
         "29697.0",
         "31985.0",
         "29103.0",
         "28763.0",
         "26013.0",
         "27234.0",
         "22619.0",
         "20969.0",
         "24759.0",
         "33951.0",
         "30920.0",
         "2023"
        ],
        [
         "2",
         "Commercial Vehicle",
         "US",
         "0.0",
         "0.0",
         "0.0",
         "0.0",
         "0.0",
         "0.0",
         null,
         "0.0",
         "0.0",
         "0.0",
         "0.0",
         "0.0",
         "2023"
        ],
        [
         "3",
         "Special Vehicle",
         "US",
         "0.0",
         "0.0",
         "0.0",
         "0.0",
         "0.0",
         null,
         null,
         null,
         "0.0",
         "0.0",
         "0.0",
         null,
         "2023"
        ],
        [
         "4",
         "CKD(Inc, Special Vehicle)",
         "US",
         "0.0",
         "0.0",
         "0.0",
         "0.0",
         null,
         null,
         null,
         null,
         null,
         null,
         null,
         null,
         "2023"
        ]
       ],
       "shape": {
        "columns": 15,
        "rows": 5
       }
      },
      "text/html": [
       "<div>\n",
       "<style scoped>\n",
       "    .dataframe tbody tr th:only-of-type {\n",
       "        vertical-align: middle;\n",
       "    }\n",
       "\n",
       "    .dataframe tbody tr th {\n",
       "        vertical-align: top;\n",
       "    }\n",
       "\n",
       "    .dataframe thead th {\n",
       "        text-align: right;\n",
       "    }\n",
       "</style>\n",
       "<table border=\"1\" class=\"dataframe\">\n",
       "  <thead>\n",
       "    <tr style=\"text-align: right;\">\n",
       "      <th></th>\n",
       "      <th>Car</th>\n",
       "      <th>Region</th>\n",
       "      <th>Jan</th>\n",
       "      <th>Feb</th>\n",
       "      <th>Mar</th>\n",
       "      <th>Apr</th>\n",
       "      <th>May</th>\n",
       "      <th>Jun</th>\n",
       "      <th>Jul</th>\n",
       "      <th>Aug</th>\n",
       "      <th>Sep</th>\n",
       "      <th>Oct</th>\n",
       "      <th>Nov</th>\n",
       "      <th>Dec</th>\n",
       "      <th>연도</th>\n",
       "    </tr>\n",
       "  </thead>\n",
       "  <tbody>\n",
       "    <tr>\n",
       "      <th>0</th>\n",
       "      <td>Passenger Car</td>\n",
       "      <td>US</td>\n",
       "      <td>1048.0</td>\n",
       "      <td>633.0</td>\n",
       "      <td>627.0</td>\n",
       "      <td>245.0</td>\n",
       "      <td>0.0</td>\n",
       "      <td>0.0</td>\n",
       "      <td>2.0</td>\n",
       "      <td>0.0</td>\n",
       "      <td>0.0</td>\n",
       "      <td>4.0</td>\n",
       "      <td>0.0</td>\n",
       "      <td>5.0</td>\n",
       "      <td>2023</td>\n",
       "    </tr>\n",
       "    <tr>\n",
       "      <th>1</th>\n",
       "      <td>Recreational Vehicle</td>\n",
       "      <td>US</td>\n",
       "      <td>33056.0</td>\n",
       "      <td>29697.0</td>\n",
       "      <td>31985.0</td>\n",
       "      <td>29103.0</td>\n",
       "      <td>28763.0</td>\n",
       "      <td>26013.0</td>\n",
       "      <td>27234.0</td>\n",
       "      <td>22619.0</td>\n",
       "      <td>20969.0</td>\n",
       "      <td>24759.0</td>\n",
       "      <td>33951.0</td>\n",
       "      <td>30920.0</td>\n",
       "      <td>2023</td>\n",
       "    </tr>\n",
       "    <tr>\n",
       "      <th>2</th>\n",
       "      <td>Commercial Vehicle</td>\n",
       "      <td>US</td>\n",
       "      <td>0.0</td>\n",
       "      <td>0.0</td>\n",
       "      <td>0.0</td>\n",
       "      <td>0.0</td>\n",
       "      <td>0.0</td>\n",
       "      <td>0.0</td>\n",
       "      <td>NaN</td>\n",
       "      <td>0.0</td>\n",
       "      <td>0.0</td>\n",
       "      <td>0.0</td>\n",
       "      <td>0.0</td>\n",
       "      <td>0.0</td>\n",
       "      <td>2023</td>\n",
       "    </tr>\n",
       "    <tr>\n",
       "      <th>3</th>\n",
       "      <td>Special Vehicle</td>\n",
       "      <td>US</td>\n",
       "      <td>0.0</td>\n",
       "      <td>0.0</td>\n",
       "      <td>0.0</td>\n",
       "      <td>0.0</td>\n",
       "      <td>0.0</td>\n",
       "      <td>NaN</td>\n",
       "      <td>NaN</td>\n",
       "      <td>NaN</td>\n",
       "      <td>0.0</td>\n",
       "      <td>0.0</td>\n",
       "      <td>0.0</td>\n",
       "      <td>NaN</td>\n",
       "      <td>2023</td>\n",
       "    </tr>\n",
       "    <tr>\n",
       "      <th>4</th>\n",
       "      <td>CKD(Inc, Special Vehicle)</td>\n",
       "      <td>US</td>\n",
       "      <td>0.0</td>\n",
       "      <td>0.0</td>\n",
       "      <td>0.0</td>\n",
       "      <td>0.0</td>\n",
       "      <td>NaN</td>\n",
       "      <td>NaN</td>\n",
       "      <td>NaN</td>\n",
       "      <td>NaN</td>\n",
       "      <td>NaN</td>\n",
       "      <td>NaN</td>\n",
       "      <td>NaN</td>\n",
       "      <td>NaN</td>\n",
       "      <td>2023</td>\n",
       "    </tr>\n",
       "  </tbody>\n",
       "</table>\n",
       "</div>"
      ],
      "text/plain": [
       "                         Car Region      Jan      Feb      Mar      Apr  \\\n",
       "0              Passenger Car     US   1048.0    633.0    627.0    245.0   \n",
       "1       Recreational Vehicle     US  33056.0  29697.0  31985.0  29103.0   \n",
       "2         Commercial Vehicle     US      0.0      0.0      0.0      0.0   \n",
       "3            Special Vehicle     US      0.0      0.0      0.0      0.0   \n",
       "4  CKD(Inc, Special Vehicle)     US      0.0      0.0      0.0      0.0   \n",
       "\n",
       "       May      Jun      Jul      Aug      Sep      Oct      Nov      Dec  \\\n",
       "0      0.0      0.0      2.0      0.0      0.0      4.0      0.0      5.0   \n",
       "1  28763.0  26013.0  27234.0  22619.0  20969.0  24759.0  33951.0  30920.0   \n",
       "2      0.0      0.0      NaN      0.0      0.0      0.0      0.0      0.0   \n",
       "3      0.0      NaN      NaN      NaN      0.0      0.0      0.0      NaN   \n",
       "4      NaN      NaN      NaN      NaN      NaN      NaN      NaN      NaN   \n",
       "\n",
       "     연도  \n",
       "0  2023  \n",
       "1  2023  \n",
       "2  2023  \n",
       "3  2023  \n",
       "4  2023  "
      ]
     },
     "execution_count": 15,
     "metadata": {},
     "output_type": "execute_result"
    }
   ],
   "source": [
    "df_2023.head()"
   ]
  },
  {
   "cell_type": "code",
   "execution_count": 16,
   "metadata": {},
   "outputs": [
    {
     "data": {
      "text/plain": [
       "Index(['Car', 'Region', 'Jan', 'Feb', 'Mar', 'Apr', 'May', 'Jun', 'Jul', 'Aug',\n",
       "       'Sep', 'Oct', 'Nov', 'Dec', '연도'],\n",
       "      dtype='object')"
      ]
     },
     "execution_count": 16,
     "metadata": {},
     "output_type": "execute_result"
    }
   ],
   "source": [
    "df_2023.columns"
   ]
  },
  {
   "cell_type": "code",
   "execution_count": 12,
   "metadata": {},
   "outputs": [
    {
     "data": {
      "application/vnd.microsoft.datawrangler.viewer.v0+json": {
       "columns": [
        {
         "name": "index",
         "rawType": "int64",
         "type": "integer"
        },
        {
         "name": "Car",
         "rawType": "object",
         "type": "string"
        },
        {
         "name": "Region",
         "rawType": "object",
         "type": "string"
        },
        {
         "name": "Jan",
         "rawType": "object",
         "type": "unknown"
        },
        {
         "name": "Feb",
         "rawType": "object",
         "type": "unknown"
        },
        {
         "name": "Mar",
         "rawType": "object",
         "type": "unknown"
        },
        {
         "name": "Apr",
         "rawType": "object",
         "type": "unknown"
        },
        {
         "name": "May",
         "rawType": "object",
         "type": "unknown"
        },
        {
         "name": "Jun",
         "rawType": "object",
         "type": "unknown"
        },
        {
         "name": "Jul",
         "rawType": "object",
         "type": "unknown"
        },
        {
         "name": "Aug",
         "rawType": "object",
         "type": "unknown"
        },
        {
         "name": "Sep",
         "rawType": "object",
         "type": "unknown"
        },
        {
         "name": "Oct",
         "rawType": "object",
         "type": "unknown"
        },
        {
         "name": "Nov",
         "rawType": "object",
         "type": "unknown"
        },
        {
         "name": "Dec",
         "rawType": "object",
         "type": "unknown"
        }
       ],
       "conversionMethod": "pd.DataFrame",
       "ref": "3b9f124f-3bae-414b-9c9a-c0336b747504",
       "rows": [
        [
         "0",
         "Passenger Car",
         "US",
         "-",
         "-",
         "3,342",
         "6,359",
         "8,136",
         "7,818",
         "8,203",
         "7,420",
         "6,946",
         "5,154",
         "1,140",
         "6,458"
        ],
        [
         "1",
         "Recreational Vehicle",
         "US",
         "34,743",
         "28,607",
         "30,867",
         "35,909",
         "28,968",
         "27,885",
         "26,926",
         "25,099",
         "21,101",
         "24,986",
         "13,917",
         "17,383"
        ],
        [
         "2",
         "Commercial Vehicle",
         "US",
         "-",
         "-",
         "-",
         null,
         "-",
         "-",
         null,
         "-",
         "-",
         "-",
         "-",
         "-"
        ],
        [
         "3",
         "Special Vehicle",
         "US",
         null,
         "-",
         "-",
         null,
         "-",
         "-",
         null,
         "-",
         "-",
         "-",
         "-",
         "-"
        ],
        [
         "4",
         "CKD(excl, Special Vehicle)",
         "US",
         null,
         null,
         null,
         null,
         null,
         null,
         null,
         null,
         null,
         null,
         null,
         null
        ]
       ],
       "shape": {
        "columns": 14,
        "rows": 5
       }
      },
      "text/html": [
       "<div>\n",
       "<style scoped>\n",
       "    .dataframe tbody tr th:only-of-type {\n",
       "        vertical-align: middle;\n",
       "    }\n",
       "\n",
       "    .dataframe tbody tr th {\n",
       "        vertical-align: top;\n",
       "    }\n",
       "\n",
       "    .dataframe thead th {\n",
       "        text-align: right;\n",
       "    }\n",
       "</style>\n",
       "<table border=\"1\" class=\"dataframe\">\n",
       "  <thead>\n",
       "    <tr style=\"text-align: right;\">\n",
       "      <th></th>\n",
       "      <th>Car</th>\n",
       "      <th>Region</th>\n",
       "      <th>Jan</th>\n",
       "      <th>Feb</th>\n",
       "      <th>Mar</th>\n",
       "      <th>Apr</th>\n",
       "      <th>May</th>\n",
       "      <th>Jun</th>\n",
       "      <th>Jul</th>\n",
       "      <th>Aug</th>\n",
       "      <th>Sep</th>\n",
       "      <th>Oct</th>\n",
       "      <th>Nov</th>\n",
       "      <th>Dec</th>\n",
       "    </tr>\n",
       "  </thead>\n",
       "  <tbody>\n",
       "    <tr>\n",
       "      <th>0</th>\n",
       "      <td>Passenger Car</td>\n",
       "      <td>US</td>\n",
       "      <td>-</td>\n",
       "      <td>-</td>\n",
       "      <td>3,342</td>\n",
       "      <td>6,359</td>\n",
       "      <td>8,136</td>\n",
       "      <td>7,818</td>\n",
       "      <td>8,203</td>\n",
       "      <td>7,420</td>\n",
       "      <td>6,946</td>\n",
       "      <td>5,154</td>\n",
       "      <td>1,140</td>\n",
       "      <td>6,458</td>\n",
       "    </tr>\n",
       "    <tr>\n",
       "      <th>1</th>\n",
       "      <td>Recreational Vehicle</td>\n",
       "      <td>US</td>\n",
       "      <td>34,743</td>\n",
       "      <td>28,607</td>\n",
       "      <td>30,867</td>\n",
       "      <td>35,909</td>\n",
       "      <td>28,968</td>\n",
       "      <td>27,885</td>\n",
       "      <td>26,926</td>\n",
       "      <td>25,099</td>\n",
       "      <td>21,101</td>\n",
       "      <td>24,986</td>\n",
       "      <td>13,917</td>\n",
       "      <td>17,383</td>\n",
       "    </tr>\n",
       "    <tr>\n",
       "      <th>2</th>\n",
       "      <td>Commercial Vehicle</td>\n",
       "      <td>US</td>\n",
       "      <td>-</td>\n",
       "      <td>-</td>\n",
       "      <td>-</td>\n",
       "      <td>NaN</td>\n",
       "      <td>-</td>\n",
       "      <td>-</td>\n",
       "      <td>NaN</td>\n",
       "      <td>-</td>\n",
       "      <td>-</td>\n",
       "      <td>-</td>\n",
       "      <td>-</td>\n",
       "      <td>-</td>\n",
       "    </tr>\n",
       "    <tr>\n",
       "      <th>3</th>\n",
       "      <td>Special Vehicle</td>\n",
       "      <td>US</td>\n",
       "      <td>NaN</td>\n",
       "      <td>-</td>\n",
       "      <td>-</td>\n",
       "      <td>NaN</td>\n",
       "      <td>-</td>\n",
       "      <td>-</td>\n",
       "      <td>NaN</td>\n",
       "      <td>-</td>\n",
       "      <td>-</td>\n",
       "      <td>-</td>\n",
       "      <td>-</td>\n",
       "      <td>-</td>\n",
       "    </tr>\n",
       "    <tr>\n",
       "      <th>4</th>\n",
       "      <td>CKD(excl, Special Vehicle)</td>\n",
       "      <td>US</td>\n",
       "      <td>NaN</td>\n",
       "      <td>NaN</td>\n",
       "      <td>NaN</td>\n",
       "      <td>NaN</td>\n",
       "      <td>NaN</td>\n",
       "      <td>NaN</td>\n",
       "      <td>NaN</td>\n",
       "      <td>NaN</td>\n",
       "      <td>NaN</td>\n",
       "      <td>NaN</td>\n",
       "      <td>NaN</td>\n",
       "      <td>NaN</td>\n",
       "    </tr>\n",
       "  </tbody>\n",
       "</table>\n",
       "</div>"
      ],
      "text/plain": [
       "                          Car Region     Jan     Feb     Mar     Apr     May  \\\n",
       "0               Passenger Car     US       -       -   3,342   6,359   8,136   \n",
       "1        Recreational Vehicle     US  34,743  28,607  30,867  35,909  28,968   \n",
       "2          Commercial Vehicle     US       -       -       -     NaN       -   \n",
       "3             Special Vehicle     US     NaN       -       -     NaN       -   \n",
       "4  CKD(excl, Special Vehicle)     US     NaN     NaN     NaN     NaN     NaN   \n",
       "\n",
       "      Jun     Jul     Aug     Sep     Oct     Nov     Dec  \n",
       "0   7,818   8,203   7,420   6,946   5,154   1,140   6,458  \n",
       "1  27,885  26,926  25,099  21,101  24,986  13,917  17,383  \n",
       "2       -     NaN       -       -       -       -       -  \n",
       "3       -     NaN       -       -       -       -       -  \n",
       "4     NaN     NaN     NaN     NaN     NaN     NaN     NaN  "
      ]
     },
     "execution_count": 12,
     "metadata": {},
     "output_type": "execute_result"
    }
   ],
   "source": [
    "df_2024.head()"
   ]
  },
  {
   "cell_type": "code",
   "execution_count": 17,
   "metadata": {},
   "outputs": [],
   "source": [
    "df_2024[\"연도\"] = 2024"
   ]
  },
  {
   "cell_type": "code",
   "execution_count": 18,
   "metadata": {},
   "outputs": [
    {
     "data": {
      "text/plain": [
       "Index(['Car', 'Region', 'Jan', 'Feb', 'Mar', 'Apr', 'May', 'Jun', 'Jul', 'Aug',\n",
       "       'Sep', 'Oct', 'Nov', 'Dec', '연도'],\n",
       "      dtype='object')"
      ]
     },
     "execution_count": 18,
     "metadata": {},
     "output_type": "execute_result"
    }
   ],
   "source": [
    "df_2024.columns"
   ]
  },
  {
   "cell_type": "code",
   "execution_count": 13,
   "metadata": {},
   "outputs": [
    {
     "data": {
      "application/vnd.microsoft.datawrangler.viewer.v0+json": {
       "columns": [
        {
         "name": "index",
         "rawType": "int64",
         "type": "integer"
        },
        {
         "name": "Car",
         "rawType": "object",
         "type": "string"
        },
        {
         "name": "Region",
         "rawType": "object",
         "type": "string"
        },
        {
         "name": "Jan",
         "rawType": "float64",
         "type": "float"
        }
       ],
       "conversionMethod": "pd.DataFrame",
       "ref": "c48bb7e9-bc03-4bbd-bf82-7c727c80f4a2",
       "rows": [
        [
         "0",
         "Passenger Car",
         "US",
         "4518.0"
        ],
        [
         "1",
         "Recreational Vehicle",
         "US",
         "23997.0"
        ],
        [
         "2",
         "Commercial Vehicle",
         "US",
         null
        ],
        [
         "3",
         "Special Vehicle",
         "US",
         null
        ],
        [
         "4",
         "CKD(excl, Special Vehicle)",
         "US",
         null
        ]
       ],
       "shape": {
        "columns": 3,
        "rows": 5
       }
      },
      "text/html": [
       "<div>\n",
       "<style scoped>\n",
       "    .dataframe tbody tr th:only-of-type {\n",
       "        vertical-align: middle;\n",
       "    }\n",
       "\n",
       "    .dataframe tbody tr th {\n",
       "        vertical-align: top;\n",
       "    }\n",
       "\n",
       "    .dataframe thead th {\n",
       "        text-align: right;\n",
       "    }\n",
       "</style>\n",
       "<table border=\"1\" class=\"dataframe\">\n",
       "  <thead>\n",
       "    <tr style=\"text-align: right;\">\n",
       "      <th></th>\n",
       "      <th>Car</th>\n",
       "      <th>Region</th>\n",
       "      <th>Jan</th>\n",
       "    </tr>\n",
       "  </thead>\n",
       "  <tbody>\n",
       "    <tr>\n",
       "      <th>0</th>\n",
       "      <td>Passenger Car</td>\n",
       "      <td>US</td>\n",
       "      <td>4518.0</td>\n",
       "    </tr>\n",
       "    <tr>\n",
       "      <th>1</th>\n",
       "      <td>Recreational Vehicle</td>\n",
       "      <td>US</td>\n",
       "      <td>23997.0</td>\n",
       "    </tr>\n",
       "    <tr>\n",
       "      <th>2</th>\n",
       "      <td>Commercial Vehicle</td>\n",
       "      <td>US</td>\n",
       "      <td>NaN</td>\n",
       "    </tr>\n",
       "    <tr>\n",
       "      <th>3</th>\n",
       "      <td>Special Vehicle</td>\n",
       "      <td>US</td>\n",
       "      <td>NaN</td>\n",
       "    </tr>\n",
       "    <tr>\n",
       "      <th>4</th>\n",
       "      <td>CKD(excl, Special Vehicle)</td>\n",
       "      <td>US</td>\n",
       "      <td>NaN</td>\n",
       "    </tr>\n",
       "  </tbody>\n",
       "</table>\n",
       "</div>"
      ],
      "text/plain": [
       "                          Car Region      Jan\n",
       "0               Passenger Car     US   4518.0\n",
       "1        Recreational Vehicle     US  23997.0\n",
       "2          Commercial Vehicle     US      NaN\n",
       "3             Special Vehicle     US      NaN\n",
       "4  CKD(excl, Special Vehicle)     US      NaN"
      ]
     },
     "execution_count": 13,
     "metadata": {},
     "output_type": "execute_result"
    }
   ],
   "source": [
    "df_2025.head()"
   ]
  },
  {
   "cell_type": "code",
   "execution_count": 19,
   "metadata": {},
   "outputs": [],
   "source": [
    "df_2025[\"연도\"] = 2025"
   ]
  },
  {
   "cell_type": "code",
   "execution_count": 20,
   "metadata": {},
   "outputs": [
    {
     "data": {
      "text/plain": [
       "Index(['Car', 'Region', 'Jan', '연도'], dtype='object')"
      ]
     },
     "execution_count": 20,
     "metadata": {},
     "output_type": "execute_result"
    }
   ],
   "source": [
    "df_2025.columns"
   ]
  },
  {
   "cell_type": "code",
   "execution_count": 22,
   "metadata": {},
   "outputs": [],
   "source": [
    "df = pd.concat([df_2023, df_2024, df_2025], ignore_index=True)"
   ]
  },
  {
   "cell_type": "code",
   "execution_count": 24,
   "metadata": {},
   "outputs": [
    {
     "data": {
      "application/vnd.microsoft.datawrangler.viewer.v0+json": {
       "columns": [
        {
         "name": "index",
         "rawType": "int64",
         "type": "integer"
        },
        {
         "name": "Car",
         "rawType": "object",
         "type": "string"
        },
        {
         "name": "Region",
         "rawType": "object",
         "type": "string"
        },
        {
         "name": "Jan",
         "rawType": "object",
         "type": "unknown"
        },
        {
         "name": "Feb",
         "rawType": "object",
         "type": "unknown"
        },
        {
         "name": "Mar",
         "rawType": "object",
         "type": "unknown"
        },
        {
         "name": "Apr",
         "rawType": "object",
         "type": "unknown"
        },
        {
         "name": "May",
         "rawType": "object",
         "type": "unknown"
        },
        {
         "name": "Jun",
         "rawType": "object",
         "type": "unknown"
        },
        {
         "name": "Jul",
         "rawType": "object",
         "type": "unknown"
        },
        {
         "name": "Aug",
         "rawType": "object",
         "type": "unknown"
        },
        {
         "name": "Sep",
         "rawType": "object",
         "type": "unknown"
        },
        {
         "name": "Oct",
         "rawType": "object",
         "type": "unknown"
        },
        {
         "name": "Nov",
         "rawType": "object",
         "type": "unknown"
        },
        {
         "name": "Dec",
         "rawType": "object",
         "type": "unknown"
        },
        {
         "name": "연도",
         "rawType": "int64",
         "type": "integer"
        }
       ],
       "conversionMethod": "pd.DataFrame",
       "ref": "591450b3-2279-46f5-a719-40c8f7fd627e",
       "rows": [
        [
         "0",
         "Passenger Car",
         "US",
         "1048.0",
         "633.0",
         "627.0",
         "245.0",
         "0.0",
         "0.0",
         "2.0",
         "0.0",
         "0.0",
         "4.0",
         "0.0",
         "5.0",
         "2023"
        ],
        [
         "1",
         "Recreational Vehicle",
         "US",
         "33056.0",
         "29697.0",
         "31985.0",
         "29103.0",
         "28763.0",
         "26013.0",
         "27234.0",
         "22619.0",
         "20969.0",
         "24759.0",
         "33951.0",
         "30920.0",
         "2023"
        ],
        [
         "2",
         "Commercial Vehicle",
         "US",
         "0.0",
         "0.0",
         "0.0",
         "0.0",
         "0.0",
         "0.0",
         null,
         "0.0",
         "0.0",
         "0.0",
         "0.0",
         "0.0",
         "2023"
        ],
        [
         "3",
         "Special Vehicle",
         "US",
         "0.0",
         "0.0",
         "0.0",
         "0.0",
         "0.0",
         null,
         null,
         null,
         "0.0",
         "0.0",
         "0.0",
         null,
         "2023"
        ],
        [
         "4",
         "CKD(Inc, Special Vehicle)",
         "US",
         "0.0",
         "0.0",
         "0.0",
         "0.0",
         null,
         null,
         null,
         null,
         null,
         null,
         null,
         null,
         "2023"
        ],
        [
         "5",
         "Total",
         "US",
         "34104.0",
         "30330.0",
         "32612.0",
         "29348.0",
         "28763.0",
         "26013.0",
         "27236.0",
         "22619.0",
         "20969.0",
         "24763.0",
         "33951.0",
         "30925.0",
         "2023"
        ],
        [
         "6",
         "Passenger Car",
         "Canada",
         "94.0",
         "173.0",
         "28.0",
         "229.0",
         "48.0",
         "41.0",
         "40.0",
         "27.0",
         "48.0",
         "5.0",
         "43.0",
         "57.0",
         "2023"
        ],
        [
         "7",
         "Recreational Vehicle",
         "Canada",
         "5864.0",
         "6644.0",
         "5677.0",
         "5587.0",
         "5508.0",
         "5018.0",
         "5029.0",
         "4164.0",
         "4612.0",
         "4547.0",
         "6225.0",
         "5272.0",
         "2023"
        ],
        [
         "8",
         "Commercial Vehicle",
         "Canada",
         "0.0",
         "0.0",
         "0.0",
         "0.0",
         "0.0",
         "0.0",
         null,
         "0.0",
         "0.0",
         "0.0",
         "0.0",
         "0.0",
         "2023"
        ],
        [
         "9",
         "Special Vehicle",
         "Canada",
         "0.0",
         "0.0",
         "0.0",
         "0.0",
         "0.0",
         null,
         null,
         null,
         null,
         "0.0",
         "0.0",
         "0.0",
         "2023"
        ],
        [
         "10",
         "CKD(Inc, Special Vehicle)",
         "Canada",
         "0.0",
         "0.0",
         "0.0",
         "0.0",
         null,
         null,
         null,
         null,
         null,
         null,
         null,
         null,
         "2023"
        ],
        [
         "11",
         "Total",
         "Canada",
         "5958.0",
         "6817.0",
         "5705.0",
         "5816.0",
         "5556.0",
         "5059.0",
         "5069.0",
         "4191.0",
         "4660.0",
         "4552.0",
         "6268.0",
         "5329.0",
         "2023"
        ],
        [
         "12",
         "Passenger Car",
         "Mexico",
         "86.0",
         "139.0",
         "66.0",
         "139.0",
         "81.0",
         "67.0",
         "81.0",
         "39.0",
         "14.0",
         "15.0",
         "59.0",
         "54.0",
         "2023"
        ],
        [
         "13",
         "Recreational Vehicle",
         "Mexico",
         "562.0",
         "2352.0",
         "2054.0",
         "1903.0",
         "1784.0",
         "1552.0",
         "1168.0",
         "550.0",
         "653.0",
         "652.0",
         "135.0",
         "641.0",
         "2023"
        ],
        [
         "14",
         "Commercial Vehicle",
         "Mexico",
         null,
         null,
         null,
         null,
         null,
         null,
         null,
         "0.0",
         "0.0",
         "0.0",
         "0.0",
         "0.0",
         "2023"
        ],
        [
         "15",
         "Special Vehicle",
         "Mexico",
         null,
         null,
         null,
         null,
         null,
         null,
         null,
         null,
         null,
         "0.0",
         "0.0",
         "0.0",
         "2023"
        ],
        [
         "16",
         "CKD(Inc, Special Vehicle)",
         "Mexico",
         null,
         null,
         null,
         null,
         null,
         null,
         null,
         null,
         null,
         null,
         null,
         null,
         "2023"
        ],
        [
         "17",
         "Total",
         "Mexico",
         "648.0",
         "2491.0",
         "2120.0",
         "2042.0",
         "1865.0",
         "1619.0",
         "1249.0",
         "589.0",
         "667.0",
         "667.0",
         "194.0",
         "695.0",
         "2023"
        ],
        [
         "18",
         "Passenger Car",
         "EU+EFTA",
         "10216.0",
         "12757.0",
         "12724.0",
         "10645.0",
         "10709.0",
         "6177.0",
         "4059.0",
         "2198.0",
         "2440.0",
         "3359.0",
         "4704.0",
         "4046.0",
         "2023"
        ],
        [
         "19",
         "Recreational Vehicle",
         "EU+EFTA",
         "16877.0",
         "17006.0",
         "20839.0",
         "19225.0",
         "20680.0",
         "17405.0",
         "19509.0",
         "16418.0",
         "16273.0",
         "13995.0",
         "21299.0",
         "18794.0",
         "2023"
        ],
        [
         "20",
         "Commercial Vehicle",
         "EU+EFTA",
         "0.0",
         "0.0",
         "0.0",
         "0.0",
         "0.0",
         "0.0",
         null,
         "0.0",
         "0.0",
         "0.0",
         "0.0",
         "0.0",
         "2023"
        ],
        [
         "21",
         "Special Vehicle",
         "EU+EFTA",
         "0.0",
         "0.0",
         "0.0",
         "0.0",
         "0.0",
         null,
         null,
         null,
         null,
         "0.0",
         "0.0",
         "0.0",
         "2023"
        ],
        [
         "22",
         "CKD(Inc, Special Vehicle)",
         "EU+EFTA",
         "0.0",
         "0.0",
         "0.0",
         "0.0",
         null,
         null,
         null,
         null,
         null,
         null,
         null,
         null,
         "2023"
        ],
        [
         "23",
         "Total",
         "EU+EFTA",
         "27093.0",
         "29763.0",
         "33563.0",
         "29870.0",
         "31389.0",
         "23582.0",
         "23568.0",
         "18616.0",
         "18713.0",
         "17354.0",
         "26003.0",
         "22840.0",
         "2023"
        ],
        [
         "24",
         "Passenger Car",
         "E.Europe/CIS",
         "1224.0",
         "1207.0",
         "1390.0",
         "1500.0",
         "1218.0",
         "895.0",
         "1381.0",
         "1466.0",
         "829.0",
         "1603.0",
         "1268.0",
         "439.0",
         "2023"
        ],
        [
         "25",
         "Recreational Vehicle",
         "E.Europe/CIS",
         "2032.0",
         "2222.0",
         "2950.0",
         "3320.0",
         "3331.0",
         "2935.0",
         "2386.0",
         "2398.0",
         "2901.0",
         "3055.0",
         "4002.0",
         "2596.0",
         "2023"
        ],
        [
         "26",
         "Commercial Vehicle",
         "E.Europe/CIS",
         "158.0",
         "117.0",
         "157.0",
         "259.0",
         "226.0",
         "149.0",
         "469.0",
         "214.0",
         "566.0",
         "537.0",
         "77.0",
         "300.0",
         "2023"
        ],
        [
         "27",
         "Special Vehicle",
         "E.Europe/CIS",
         "60.0",
         "0.0",
         "0.0",
         "30.0",
         "90.0",
         "228.0",
         "186.0",
         "180.0",
         "180.0",
         "186.0",
         "90.0",
         "70.0",
         "2023"
        ],
        [
         "28",
         "CKD(Inc, Special Vehicle)",
         "E.Europe/CIS",
         "840.0",
         "1320.0",
         "880.0",
         "1040.0",
         "1120.0",
         "800.0",
         "840.0",
         "1200.0",
         "1000.0",
         "840.0",
         "480.0",
         "640.0",
         "2023"
        ],
        [
         "29",
         "Total",
         "E.Europe/CIS",
         "4314.0",
         "4866.0",
         "5377.0",
         "6149.0",
         "5985.0",
         "5007.0",
         "5262.0",
         "5458.0",
         "5476.0",
         "6221.0",
         "5917.0",
         "4045.0",
         "2023"
        ],
        [
         "30",
         "Passenger Car",
         "Latin America",
         "1688.0",
         "1859.0",
         "2189.0",
         "2016.0",
         "2381.0",
         "2272.0",
         "2142.0",
         "1898.0",
         "2184.0",
         "1688.0",
         "1602.0",
         "1539.0",
         "2023"
        ],
        [
         "31",
         "Recreational Vehicle",
         "Latin America",
         "1248.0",
         "1298.0",
         "2120.0",
         "1859.0",
         "1960.0",
         "2156.0",
         "2236.0",
         "1660.0",
         "1943.0",
         "2162.0",
         "3429.0",
         "2743.0",
         "2023"
        ],
        [
         "32",
         "Commercial Vehicle",
         "Latin America",
         "764.0",
         "1048.0",
         "995.0",
         "874.0",
         "1111.0",
         "1193.0",
         "1128.0",
         "554.0",
         "1377.0",
         "1058.0",
         "1259.0",
         "1022.0",
         "2023"
        ],
        [
         "33",
         "Special Vehicle",
         "Latin America",
         "50.0",
         "0.0",
         "21.0",
         "0.0",
         "0.0",
         "1.0",
         "0.0",
         "0.0",
         null,
         "0.0",
         "13.0",
         "2.0",
         "2023"
        ],
        [
         "34",
         "CKD(Inc, Special Vehicle)",
         "Latin America",
         "360.0",
         "420.0",
         "540.0",
         "540.0",
         "420.0",
         "660.0",
         "780.0",
         "720.0",
         "600.0",
         "720.0",
         "480.0",
         "720.0",
         "2023"
        ],
        [
         "35",
         "Total",
         "Latin America",
         "4110.0",
         "4625.0",
         "5865.0",
         "5289.0",
         "5872.0",
         "6282.0",
         "6286.0",
         "4832.0",
         "6104.0",
         "5628.0",
         "6783.0",
         "6026.0",
         "2023"
        ],
        [
         "36",
         "Passenger Car",
         "Middle East/Africa",
         "4640.0",
         "5516.0",
         "6630.0",
         "4975.0",
         "4351.0",
         "3659.0",
         "2916.0",
         "3204.0",
         "2570.0",
         "3037.0",
         "3045.0",
         "2769.0",
         "2023"
        ],
        [
         "37",
         "Recreational Vehicle",
         "Middle East/Africa",
         "3959.0",
         "3563.0",
         "3317.0",
         "3817.0",
         "4512.0",
         "3752.0",
         "2486.0",
         "3449.0",
         "1391.0",
         "2298.0",
         "2543.0",
         "1811.0",
         "2023"
        ],
        [
         "38",
         "Commercial Vehicle",
         "Middle East/Africa",
         "1733.0",
         "1521.0",
         "1553.0",
         "1458.0",
         "1137.0",
         "940.0",
         "2071.0",
         "1327.0",
         "1589.0",
         "1342.0",
         "1674.0",
         "1884.0",
         "2023"
        ],
        [
         "39",
         "Special Vehicle",
         "Middle East/Africa",
         "1.0",
         "4.0",
         "5.0",
         "100.0",
         "110.0",
         "50.0",
         "0.0",
         "0.0",
         "4.0",
         "0.0",
         "52.0",
         "4.0",
         "2023"
        ],
        [
         "40",
         "CKD(Inc, Special Vehicle)",
         "Middle East/Africa",
         "0.0",
         "120.0",
         "120.0",
         "80.0",
         "200.0",
         "440.0",
         "930.0",
         "1040.0",
         "1120.0",
         "971.0",
         "441.0",
         "920.0",
         "2023"
        ],
        [
         "41",
         "Total",
         "Middle East/Africa",
         "10333.0",
         "10724.0",
         "11625.0",
         "10430.0",
         "10310.0",
         "8841.0",
         "8403.0",
         "9020.0",
         "6674.0",
         "7648.0",
         "7755.0",
         "7388.0",
         "2023"
        ],
        [
         "42",
         "Passenger Car",
         "Asia / Pacific",
         "2206.0",
         "1781.0",
         "2515.0",
         "1869.0",
         "2042.0",
         "2144.0",
         "1290.0",
         "1424.0",
         "1607.0",
         "1504.0",
         "1627.0",
         "1724.0",
         "2023"
        ],
        [
         "43",
         "Recreational Vehicle",
         "Asia / Pacific",
         "6120.0",
         "5117.0",
         "7258.0",
         "6037.0",
         "6697.0",
         "8711.0",
         "7468.0",
         "7819.0",
         "6327.0",
         "6287.0",
         "7771.0",
         "8213.0",
         "2023"
        ],
        [
         "44",
         "Commercial Vehicle",
         "Asia / Pacific",
         "359.0",
         "448.0",
         "298.0",
         "328.0",
         "301.0",
         "353.0",
         "319.0",
         "342.0",
         "104.0",
         "73.0",
         "87.0",
         "79.0",
         "2023"
        ],
        [
         "45",
         "Special Vehicle",
         "Asia / Pacific",
         "30.0",
         "32.0",
         "10.0",
         "5.0",
         "17.0",
         "28.0",
         "6.0",
         "0.0",
         "29.0",
         "0.0",
         "2.0",
         "35.0",
         "2023"
        ],
        [
         "46",
         "CKD(Inc, Special Vehicle)",
         "Asia / Pacific",
         "3384.0",
         "4184.0",
         "3464.0",
         "2536.0",
         "2072.0",
         "2456.0",
         "1920.0",
         "2760.0",
         "2884.0",
         "3324.0",
         "2348.0",
         "4136.0",
         "2023"
        ],
        [
         "47",
         "Total",
         "Asia / Pacific",
         "12099.0",
         "11562.0",
         "13545.0",
         "10775.0",
         "11129.0",
         "13692.0",
         "11003.0",
         "12345.0",
         "10951.0",
         "11188.0",
         "11835.0",
         "14187.0",
         "2023"
        ],
        [
         "48",
         "Passenger Car",
         "China",
         "0.0",
         "0.0",
         "0.0",
         "0.0",
         null,
         "0.0",
         null,
         "0.0",
         "0.0",
         null,
         "0.0",
         null,
         "2023"
        ],
        [
         "49",
         "Recreational Vehicle",
         "China",
         "0.0",
         "0.0",
         "0.0",
         "0.0",
         null,
         "129.0",
         "96.0",
         "63.0",
         "1.0",
         null,
         "6.0",
         null,
         "2023"
        ]
       ],
       "shape": {
        "columns": 15,
        "rows": 190
       }
      },
      "text/html": [
       "<div>\n",
       "<style scoped>\n",
       "    .dataframe tbody tr th:only-of-type {\n",
       "        vertical-align: middle;\n",
       "    }\n",
       "\n",
       "    .dataframe tbody tr th {\n",
       "        vertical-align: top;\n",
       "    }\n",
       "\n",
       "    .dataframe thead th {\n",
       "        text-align: right;\n",
       "    }\n",
       "</style>\n",
       "<table border=\"1\" class=\"dataframe\">\n",
       "  <thead>\n",
       "    <tr style=\"text-align: right;\">\n",
       "      <th></th>\n",
       "      <th>Car</th>\n",
       "      <th>Region</th>\n",
       "      <th>Jan</th>\n",
       "      <th>Feb</th>\n",
       "      <th>Mar</th>\n",
       "      <th>Apr</th>\n",
       "      <th>May</th>\n",
       "      <th>Jun</th>\n",
       "      <th>Jul</th>\n",
       "      <th>Aug</th>\n",
       "      <th>Sep</th>\n",
       "      <th>Oct</th>\n",
       "      <th>Nov</th>\n",
       "      <th>Dec</th>\n",
       "      <th>연도</th>\n",
       "    </tr>\n",
       "  </thead>\n",
       "  <tbody>\n",
       "    <tr>\n",
       "      <th>0</th>\n",
       "      <td>Passenger Car</td>\n",
       "      <td>US</td>\n",
       "      <td>1048.0</td>\n",
       "      <td>633.0</td>\n",
       "      <td>627.0</td>\n",
       "      <td>245.0</td>\n",
       "      <td>0.0</td>\n",
       "      <td>0.0</td>\n",
       "      <td>2.0</td>\n",
       "      <td>0.0</td>\n",
       "      <td>0.0</td>\n",
       "      <td>4.0</td>\n",
       "      <td>0.0</td>\n",
       "      <td>5.0</td>\n",
       "      <td>2023</td>\n",
       "    </tr>\n",
       "    <tr>\n",
       "      <th>1</th>\n",
       "      <td>Recreational Vehicle</td>\n",
       "      <td>US</td>\n",
       "      <td>33056.0</td>\n",
       "      <td>29697.0</td>\n",
       "      <td>31985.0</td>\n",
       "      <td>29103.0</td>\n",
       "      <td>28763.0</td>\n",
       "      <td>26013.0</td>\n",
       "      <td>27234.0</td>\n",
       "      <td>22619.0</td>\n",
       "      <td>20969.0</td>\n",
       "      <td>24759.0</td>\n",
       "      <td>33951.0</td>\n",
       "      <td>30920.0</td>\n",
       "      <td>2023</td>\n",
       "    </tr>\n",
       "    <tr>\n",
       "      <th>2</th>\n",
       "      <td>Commercial Vehicle</td>\n",
       "      <td>US</td>\n",
       "      <td>0.0</td>\n",
       "      <td>0.0</td>\n",
       "      <td>0.0</td>\n",
       "      <td>0.0</td>\n",
       "      <td>0.0</td>\n",
       "      <td>0.0</td>\n",
       "      <td>NaN</td>\n",
       "      <td>0.0</td>\n",
       "      <td>0.0</td>\n",
       "      <td>0.0</td>\n",
       "      <td>0.0</td>\n",
       "      <td>0.0</td>\n",
       "      <td>2023</td>\n",
       "    </tr>\n",
       "    <tr>\n",
       "      <th>3</th>\n",
       "      <td>Special Vehicle</td>\n",
       "      <td>US</td>\n",
       "      <td>0.0</td>\n",
       "      <td>0.0</td>\n",
       "      <td>0.0</td>\n",
       "      <td>0.0</td>\n",
       "      <td>0.0</td>\n",
       "      <td>NaN</td>\n",
       "      <td>NaN</td>\n",
       "      <td>NaN</td>\n",
       "      <td>0.0</td>\n",
       "      <td>0.0</td>\n",
       "      <td>0.0</td>\n",
       "      <td>NaN</td>\n",
       "      <td>2023</td>\n",
       "    </tr>\n",
       "    <tr>\n",
       "      <th>4</th>\n",
       "      <td>CKD(Inc, Special Vehicle)</td>\n",
       "      <td>US</td>\n",
       "      <td>0.0</td>\n",
       "      <td>0.0</td>\n",
       "      <td>0.0</td>\n",
       "      <td>0.0</td>\n",
       "      <td>NaN</td>\n",
       "      <td>NaN</td>\n",
       "      <td>NaN</td>\n",
       "      <td>NaN</td>\n",
       "      <td>NaN</td>\n",
       "      <td>NaN</td>\n",
       "      <td>NaN</td>\n",
       "      <td>NaN</td>\n",
       "      <td>2023</td>\n",
       "    </tr>\n",
       "    <tr>\n",
       "      <th>...</th>\n",
       "      <td>...</td>\n",
       "      <td>...</td>\n",
       "      <td>...</td>\n",
       "      <td>...</td>\n",
       "      <td>...</td>\n",
       "      <td>...</td>\n",
       "      <td>...</td>\n",
       "      <td>...</td>\n",
       "      <td>...</td>\n",
       "      <td>...</td>\n",
       "      <td>...</td>\n",
       "      <td>...</td>\n",
       "      <td>...</td>\n",
       "      <td>...</td>\n",
       "      <td>...</td>\n",
       "    </tr>\n",
       "    <tr>\n",
       "      <th>185</th>\n",
       "      <td>Recreational Vehicle</td>\n",
       "      <td>China</td>\n",
       "      <td>0.0</td>\n",
       "      <td>NaN</td>\n",
       "      <td>NaN</td>\n",
       "      <td>NaN</td>\n",
       "      <td>NaN</td>\n",
       "      <td>NaN</td>\n",
       "      <td>NaN</td>\n",
       "      <td>NaN</td>\n",
       "      <td>NaN</td>\n",
       "      <td>NaN</td>\n",
       "      <td>NaN</td>\n",
       "      <td>NaN</td>\n",
       "      <td>2025</td>\n",
       "    </tr>\n",
       "    <tr>\n",
       "      <th>186</th>\n",
       "      <td>Commercial Vehicle</td>\n",
       "      <td>China</td>\n",
       "      <td>0.0</td>\n",
       "      <td>NaN</td>\n",
       "      <td>NaN</td>\n",
       "      <td>NaN</td>\n",
       "      <td>NaN</td>\n",
       "      <td>NaN</td>\n",
       "      <td>NaN</td>\n",
       "      <td>NaN</td>\n",
       "      <td>NaN</td>\n",
       "      <td>NaN</td>\n",
       "      <td>NaN</td>\n",
       "      <td>NaN</td>\n",
       "      <td>2025</td>\n",
       "    </tr>\n",
       "    <tr>\n",
       "      <th>187</th>\n",
       "      <td>Special Vehicle</td>\n",
       "      <td>China</td>\n",
       "      <td>0.0</td>\n",
       "      <td>NaN</td>\n",
       "      <td>NaN</td>\n",
       "      <td>NaN</td>\n",
       "      <td>NaN</td>\n",
       "      <td>NaN</td>\n",
       "      <td>NaN</td>\n",
       "      <td>NaN</td>\n",
       "      <td>NaN</td>\n",
       "      <td>NaN</td>\n",
       "      <td>NaN</td>\n",
       "      <td>NaN</td>\n",
       "      <td>2025</td>\n",
       "    </tr>\n",
       "    <tr>\n",
       "      <th>188</th>\n",
       "      <td>CKD(excl, Special Vehicle)</td>\n",
       "      <td>China</td>\n",
       "      <td>0.0</td>\n",
       "      <td>NaN</td>\n",
       "      <td>NaN</td>\n",
       "      <td>NaN</td>\n",
       "      <td>NaN</td>\n",
       "      <td>NaN</td>\n",
       "      <td>NaN</td>\n",
       "      <td>NaN</td>\n",
       "      <td>NaN</td>\n",
       "      <td>NaN</td>\n",
       "      <td>NaN</td>\n",
       "      <td>NaN</td>\n",
       "      <td>2025</td>\n",
       "    </tr>\n",
       "    <tr>\n",
       "      <th>189</th>\n",
       "      <td>CKD(Special Vehicle)</td>\n",
       "      <td>China</td>\n",
       "      <td>0.0</td>\n",
       "      <td>NaN</td>\n",
       "      <td>NaN</td>\n",
       "      <td>NaN</td>\n",
       "      <td>NaN</td>\n",
       "      <td>NaN</td>\n",
       "      <td>NaN</td>\n",
       "      <td>NaN</td>\n",
       "      <td>NaN</td>\n",
       "      <td>NaN</td>\n",
       "      <td>NaN</td>\n",
       "      <td>NaN</td>\n",
       "      <td>2025</td>\n",
       "    </tr>\n",
       "  </tbody>\n",
       "</table>\n",
       "<p>190 rows × 15 columns</p>\n",
       "</div>"
      ],
      "text/plain": [
       "                            Car Region      Jan      Feb      Mar      Apr  \\\n",
       "0                 Passenger Car     US   1048.0    633.0    627.0    245.0   \n",
       "1          Recreational Vehicle     US  33056.0  29697.0  31985.0  29103.0   \n",
       "2            Commercial Vehicle     US      0.0      0.0      0.0      0.0   \n",
       "3               Special Vehicle     US      0.0      0.0      0.0      0.0   \n",
       "4     CKD(Inc, Special Vehicle)     US      0.0      0.0      0.0      0.0   \n",
       "..                          ...    ...      ...      ...      ...      ...   \n",
       "185        Recreational Vehicle  China      0.0      NaN      NaN      NaN   \n",
       "186          Commercial Vehicle  China      0.0      NaN      NaN      NaN   \n",
       "187             Special Vehicle  China      0.0      NaN      NaN      NaN   \n",
       "188  CKD(excl, Special Vehicle)  China      0.0      NaN      NaN      NaN   \n",
       "189        CKD(Special Vehicle)  China      0.0      NaN      NaN      NaN   \n",
       "\n",
       "         May      Jun      Jul      Aug      Sep      Oct      Nov      Dec  \\\n",
       "0        0.0      0.0      2.0      0.0      0.0      4.0      0.0      5.0   \n",
       "1    28763.0  26013.0  27234.0  22619.0  20969.0  24759.0  33951.0  30920.0   \n",
       "2        0.0      0.0      NaN      0.0      0.0      0.0      0.0      0.0   \n",
       "3        0.0      NaN      NaN      NaN      0.0      0.0      0.0      NaN   \n",
       "4        NaN      NaN      NaN      NaN      NaN      NaN      NaN      NaN   \n",
       "..       ...      ...      ...      ...      ...      ...      ...      ...   \n",
       "185      NaN      NaN      NaN      NaN      NaN      NaN      NaN      NaN   \n",
       "186      NaN      NaN      NaN      NaN      NaN      NaN      NaN      NaN   \n",
       "187      NaN      NaN      NaN      NaN      NaN      NaN      NaN      NaN   \n",
       "188      NaN      NaN      NaN      NaN      NaN      NaN      NaN      NaN   \n",
       "189      NaN      NaN      NaN      NaN      NaN      NaN      NaN      NaN   \n",
       "\n",
       "       연도  \n",
       "0    2023  \n",
       "1    2023  \n",
       "2    2023  \n",
       "3    2023  \n",
       "4    2023  \n",
       "..    ...  \n",
       "185  2025  \n",
       "186  2025  \n",
       "187  2025  \n",
       "188  2025  \n",
       "189  2025  \n",
       "\n",
       "[190 rows x 15 columns]"
      ]
     },
     "execution_count": 24,
     "metadata": {},
     "output_type": "execute_result"
    }
   ],
   "source": [
    "df"
   ]
  },
  {
   "cell_type": "code",
   "execution_count": 27,
   "metadata": {},
   "outputs": [
    {
     "data": {
      "text/plain": [
       "Car         0\n",
       "Region      0\n",
       "Jan        48\n",
       "Feb        80\n",
       "Mar        84\n",
       "Apr        90\n",
       "May        89\n",
       "Jun        91\n",
       "Jul       107\n",
       "Aug        87\n",
       "Sep        96\n",
       "Oct        96\n",
       "Nov        91\n",
       "Dec        97\n",
       "연도          0\n",
       "dtype: int64"
      ]
     },
     "execution_count": 27,
     "metadata": {},
     "output_type": "execute_result"
    }
   ],
   "source": [
    "df.isna().sum()"
   ]
  },
  {
   "cell_type": "code",
   "execution_count": 28,
   "metadata": {},
   "outputs": [],
   "source": [
    "df.fillna(0, inplace=True)"
   ]
  },
  {
   "cell_type": "code",
   "execution_count": 29,
   "metadata": {},
   "outputs": [
    {
     "data": {
      "text/plain": [
       "Car       0\n",
       "Region    0\n",
       "Jan       0\n",
       "Feb       0\n",
       "Mar       0\n",
       "Apr       0\n",
       "May       0\n",
       "Jun       0\n",
       "Jul       0\n",
       "Aug       0\n",
       "Sep       0\n",
       "Oct       0\n",
       "Nov       0\n",
       "Dec       0\n",
       "연도        0\n",
       "dtype: int64"
      ]
     },
     "execution_count": 29,
     "metadata": {},
     "output_type": "execute_result"
    }
   ],
   "source": [
    "df.isna().sum()"
   ]
  },
  {
   "cell_type": "code",
   "execution_count": 30,
   "metadata": {},
   "outputs": [],
   "source": [
    "df.to_csv(\"지역별수출실적.CSV\", index=False)"
   ]
  },
  {
   "cell_type": "code",
   "execution_count": 31,
   "metadata": {},
   "outputs": [
    {
     "data": {
      "application/vnd.microsoft.datawrangler.viewer.v0+json": {
       "columns": [
        {
         "name": "index",
         "rawType": "int64",
         "type": "integer"
        },
        {
         "name": "Car",
         "rawType": "object",
         "type": "string"
        },
        {
         "name": "Region",
         "rawType": "object",
         "type": "string"
        },
        {
         "name": "Jan",
         "rawType": "object",
         "type": "unknown"
        },
        {
         "name": "Feb",
         "rawType": "object",
         "type": "unknown"
        },
        {
         "name": "Mar",
         "rawType": "object",
         "type": "unknown"
        },
        {
         "name": "Apr",
         "rawType": "object",
         "type": "unknown"
        },
        {
         "name": "May",
         "rawType": "object",
         "type": "unknown"
        },
        {
         "name": "Jun",
         "rawType": "object",
         "type": "unknown"
        },
        {
         "name": "Jul",
         "rawType": "object",
         "type": "unknown"
        },
        {
         "name": "Aug",
         "rawType": "object",
         "type": "unknown"
        },
        {
         "name": "Sep",
         "rawType": "object",
         "type": "unknown"
        },
        {
         "name": "Oct",
         "rawType": "object",
         "type": "unknown"
        },
        {
         "name": "Nov",
         "rawType": "object",
         "type": "unknown"
        },
        {
         "name": "Dec",
         "rawType": "object",
         "type": "unknown"
        },
        {
         "name": "연도",
         "rawType": "int64",
         "type": "integer"
        }
       ],
       "conversionMethod": "pd.DataFrame",
       "ref": "2f6a9eb4-69bf-40aa-86a0-48804a2fceba",
       "rows": [
        [
         "0",
         "Passenger Car",
         "US",
         "1048.0",
         "633.0",
         "627.0",
         "245.0",
         "0.0",
         "0.0",
         "2.0",
         "0.0",
         "0.0",
         "4.0",
         "0.0",
         "5.0",
         "2023"
        ],
        [
         "1",
         "Recreational Vehicle",
         "US",
         "33056.0",
         "29697.0",
         "31985.0",
         "29103.0",
         "28763.0",
         "26013.0",
         "27234.0",
         "22619.0",
         "20969.0",
         "24759.0",
         "33951.0",
         "30920.0",
         "2023"
        ],
        [
         "2",
         "Commercial Vehicle",
         "US",
         "0.0",
         "0.0",
         "0.0",
         "0.0",
         "0.0",
         "0.0",
         "0",
         "0.0",
         "0.0",
         "0.0",
         "0.0",
         "0.0",
         "2023"
        ],
        [
         "3",
         "Special Vehicle",
         "US",
         "0.0",
         "0.0",
         "0.0",
         "0.0",
         "0.0",
         "0",
         "0",
         "0",
         "0.0",
         "0.0",
         "0.0",
         "0",
         "2023"
        ],
        [
         "4",
         "CKD(Inc, Special Vehicle)",
         "US",
         "0.0",
         "0.0",
         "0.0",
         "0.0",
         "0",
         "0",
         "0",
         "0",
         "0",
         "0",
         "0",
         "0",
         "2023"
        ]
       ],
       "shape": {
        "columns": 15,
        "rows": 5
       }
      },
      "text/html": [
       "<div>\n",
       "<style scoped>\n",
       "    .dataframe tbody tr th:only-of-type {\n",
       "        vertical-align: middle;\n",
       "    }\n",
       "\n",
       "    .dataframe tbody tr th {\n",
       "        vertical-align: top;\n",
       "    }\n",
       "\n",
       "    .dataframe thead th {\n",
       "        text-align: right;\n",
       "    }\n",
       "</style>\n",
       "<table border=\"1\" class=\"dataframe\">\n",
       "  <thead>\n",
       "    <tr style=\"text-align: right;\">\n",
       "      <th></th>\n",
       "      <th>Car</th>\n",
       "      <th>Region</th>\n",
       "      <th>Jan</th>\n",
       "      <th>Feb</th>\n",
       "      <th>Mar</th>\n",
       "      <th>Apr</th>\n",
       "      <th>May</th>\n",
       "      <th>Jun</th>\n",
       "      <th>Jul</th>\n",
       "      <th>Aug</th>\n",
       "      <th>Sep</th>\n",
       "      <th>Oct</th>\n",
       "      <th>Nov</th>\n",
       "      <th>Dec</th>\n",
       "      <th>연도</th>\n",
       "    </tr>\n",
       "  </thead>\n",
       "  <tbody>\n",
       "    <tr>\n",
       "      <th>0</th>\n",
       "      <td>Passenger Car</td>\n",
       "      <td>US</td>\n",
       "      <td>1048.0</td>\n",
       "      <td>633.0</td>\n",
       "      <td>627.0</td>\n",
       "      <td>245.0</td>\n",
       "      <td>0.0</td>\n",
       "      <td>0.0</td>\n",
       "      <td>2.0</td>\n",
       "      <td>0.0</td>\n",
       "      <td>0.0</td>\n",
       "      <td>4.0</td>\n",
       "      <td>0.0</td>\n",
       "      <td>5.0</td>\n",
       "      <td>2023</td>\n",
       "    </tr>\n",
       "    <tr>\n",
       "      <th>1</th>\n",
       "      <td>Recreational Vehicle</td>\n",
       "      <td>US</td>\n",
       "      <td>33056.0</td>\n",
       "      <td>29697.0</td>\n",
       "      <td>31985.0</td>\n",
       "      <td>29103.0</td>\n",
       "      <td>28763.0</td>\n",
       "      <td>26013.0</td>\n",
       "      <td>27234.0</td>\n",
       "      <td>22619.0</td>\n",
       "      <td>20969.0</td>\n",
       "      <td>24759.0</td>\n",
       "      <td>33951.0</td>\n",
       "      <td>30920.0</td>\n",
       "      <td>2023</td>\n",
       "    </tr>\n",
       "    <tr>\n",
       "      <th>2</th>\n",
       "      <td>Commercial Vehicle</td>\n",
       "      <td>US</td>\n",
       "      <td>0.0</td>\n",
       "      <td>0.0</td>\n",
       "      <td>0.0</td>\n",
       "      <td>0.0</td>\n",
       "      <td>0.0</td>\n",
       "      <td>0.0</td>\n",
       "      <td>0</td>\n",
       "      <td>0.0</td>\n",
       "      <td>0.0</td>\n",
       "      <td>0.0</td>\n",
       "      <td>0.0</td>\n",
       "      <td>0.0</td>\n",
       "      <td>2023</td>\n",
       "    </tr>\n",
       "    <tr>\n",
       "      <th>3</th>\n",
       "      <td>Special Vehicle</td>\n",
       "      <td>US</td>\n",
       "      <td>0.0</td>\n",
       "      <td>0.0</td>\n",
       "      <td>0.0</td>\n",
       "      <td>0.0</td>\n",
       "      <td>0.0</td>\n",
       "      <td>0</td>\n",
       "      <td>0</td>\n",
       "      <td>0</td>\n",
       "      <td>0.0</td>\n",
       "      <td>0.0</td>\n",
       "      <td>0.0</td>\n",
       "      <td>0</td>\n",
       "      <td>2023</td>\n",
       "    </tr>\n",
       "    <tr>\n",
       "      <th>4</th>\n",
       "      <td>CKD(Inc, Special Vehicle)</td>\n",
       "      <td>US</td>\n",
       "      <td>0.0</td>\n",
       "      <td>0.0</td>\n",
       "      <td>0.0</td>\n",
       "      <td>0.0</td>\n",
       "      <td>0</td>\n",
       "      <td>0</td>\n",
       "      <td>0</td>\n",
       "      <td>0</td>\n",
       "      <td>0</td>\n",
       "      <td>0</td>\n",
       "      <td>0</td>\n",
       "      <td>0</td>\n",
       "      <td>2023</td>\n",
       "    </tr>\n",
       "  </tbody>\n",
       "</table>\n",
       "</div>"
      ],
      "text/plain": [
       "                         Car Region      Jan      Feb      Mar      Apr  \\\n",
       "0              Passenger Car     US   1048.0    633.0    627.0    245.0   \n",
       "1       Recreational Vehicle     US  33056.0  29697.0  31985.0  29103.0   \n",
       "2         Commercial Vehicle     US      0.0      0.0      0.0      0.0   \n",
       "3            Special Vehicle     US      0.0      0.0      0.0      0.0   \n",
       "4  CKD(Inc, Special Vehicle)     US      0.0      0.0      0.0      0.0   \n",
       "\n",
       "       May      Jun      Jul      Aug      Sep      Oct      Nov      Dec  \\\n",
       "0      0.0      0.0      2.0      0.0      0.0      4.0      0.0      5.0   \n",
       "1  28763.0  26013.0  27234.0  22619.0  20969.0  24759.0  33951.0  30920.0   \n",
       "2      0.0      0.0        0      0.0      0.0      0.0      0.0      0.0   \n",
       "3      0.0        0        0        0      0.0      0.0      0.0        0   \n",
       "4        0        0        0        0        0        0        0        0   \n",
       "\n",
       "     연도  \n",
       "0  2023  \n",
       "1  2023  \n",
       "2  2023  \n",
       "3  2023  \n",
       "4  2023  "
      ]
     },
     "execution_count": 31,
     "metadata": {},
     "output_type": "execute_result"
    }
   ],
   "source": [
    "df.head()"
   ]
  },
  {
   "cell_type": "code",
   "execution_count": 32,
   "metadata": {},
   "outputs": [
    {
     "data": {
      "text/plain": [
       "Index(['Car', 'Region', 'Jan', 'Feb', 'Mar', 'Apr', 'May', 'Jun', 'Jul', 'Aug',\n",
       "       'Sep', 'Oct', 'Nov', 'Dec', '연도'],\n",
       "      dtype='object')"
      ]
     },
     "execution_count": 32,
     "metadata": {},
     "output_type": "execute_result"
    }
   ],
   "source": [
    "df.columns"
   ]
  },
  {
   "cell_type": "code",
   "execution_count": 38,
   "metadata": {},
   "outputs": [
    {
     "data": {
      "text/plain": [
       "Index(['차량 구분', '국가명', '1월', '2월', '3월', '4월', '5월', '6월', '7월', '8월', '9월',\n",
       "       '10월', '11월', '12월', '연도'],\n",
       "      dtype='object')"
      ]
     },
     "execution_count": 38,
     "metadata": {},
     "output_type": "execute_result"
    }
   ],
   "source": [
    "# 기존 컬럼명과 변경할 컬럼명 매핑\n",
    "column_mapping = {\n",
    "    'Car': '차량 구분',\n",
    "    'Region': '국가명',\n",
    "    'Year': '연도',  # 'Year' 컬럼이 존재하는 경우\n",
    "    'Jan': '1월',\n",
    "    'Feb': '2월',\n",
    "    'Mar': '3월',\n",
    "    'Apr': '4월',\n",
    "    'May': '5월',\n",
    "    'Jun': '6월',\n",
    "    'Jul': '7월',\n",
    "    'Aug': '8월',\n",
    "    'Sep': '9월',\n",
    "    'Oct': '10월',\n",
    "    'Nov': '11월',\n",
    "    'Dec': '12월'\n",
    "}\n",
    "\n",
    "# 컬럼명 변경\n",
    "df.columns = [column_mapping.get(col, col) for col in df.columns]\n",
    "\n",
    "# 변경된 컬럼명 확인\n",
    "df.columns\n"
   ]
  },
  {
   "cell_type": "code",
   "execution_count": 39,
   "metadata": {},
   "outputs": [
    {
     "data": {
      "application/vnd.microsoft.datawrangler.viewer.v0+json": {
       "columns": [
        {
         "name": "index",
         "rawType": "int64",
         "type": "integer"
        },
        {
         "name": "차량 구분",
         "rawType": "object",
         "type": "string"
        },
        {
         "name": "국가명",
         "rawType": "object",
         "type": "string"
        },
        {
         "name": "1월",
         "rawType": "object",
         "type": "unknown"
        },
        {
         "name": "2월",
         "rawType": "object",
         "type": "unknown"
        },
        {
         "name": "3월",
         "rawType": "object",
         "type": "unknown"
        },
        {
         "name": "4월",
         "rawType": "object",
         "type": "unknown"
        },
        {
         "name": "5월",
         "rawType": "object",
         "type": "unknown"
        },
        {
         "name": "6월",
         "rawType": "object",
         "type": "unknown"
        },
        {
         "name": "7월",
         "rawType": "object",
         "type": "unknown"
        },
        {
         "name": "8월",
         "rawType": "object",
         "type": "unknown"
        },
        {
         "name": "9월",
         "rawType": "object",
         "type": "unknown"
        },
        {
         "name": "10월",
         "rawType": "object",
         "type": "unknown"
        },
        {
         "name": "11월",
         "rawType": "object",
         "type": "unknown"
        },
        {
         "name": "12월",
         "rawType": "object",
         "type": "unknown"
        },
        {
         "name": "연도",
         "rawType": "int64",
         "type": "integer"
        }
       ],
       "conversionMethod": "pd.DataFrame",
       "ref": "17924fc7-c081-4a7d-851e-f492806cb987",
       "rows": [
        [
         "0",
         "Passenger Car",
         "US",
         "1048.0",
         "633.0",
         "627.0",
         "245.0",
         "0.0",
         "0.0",
         "2.0",
         "0.0",
         "0.0",
         "4.0",
         "0.0",
         "5.0",
         "2023"
        ],
        [
         "1",
         "Recreational Vehicle",
         "US",
         "33056.0",
         "29697.0",
         "31985.0",
         "29103.0",
         "28763.0",
         "26013.0",
         "27234.0",
         "22619.0",
         "20969.0",
         "24759.0",
         "33951.0",
         "30920.0",
         "2023"
        ],
        [
         "2",
         "Commercial Vehicle",
         "US",
         "0.0",
         "0.0",
         "0.0",
         "0.0",
         "0.0",
         "0.0",
         "0",
         "0.0",
         "0.0",
         "0.0",
         "0.0",
         "0.0",
         "2023"
        ],
        [
         "3",
         "Special Vehicle",
         "US",
         "0.0",
         "0.0",
         "0.0",
         "0.0",
         "0.0",
         "0",
         "0",
         "0",
         "0.0",
         "0.0",
         "0.0",
         "0",
         "2023"
        ],
        [
         "4",
         "CKD(Inc, Special Vehicle)",
         "US",
         "0.0",
         "0.0",
         "0.0",
         "0.0",
         "0",
         "0",
         "0",
         "0",
         "0",
         "0",
         "0",
         "0",
         "2023"
        ]
       ],
       "shape": {
        "columns": 15,
        "rows": 5
       }
      },
      "text/html": [
       "<div>\n",
       "<style scoped>\n",
       "    .dataframe tbody tr th:only-of-type {\n",
       "        vertical-align: middle;\n",
       "    }\n",
       "\n",
       "    .dataframe tbody tr th {\n",
       "        vertical-align: top;\n",
       "    }\n",
       "\n",
       "    .dataframe thead th {\n",
       "        text-align: right;\n",
       "    }\n",
       "</style>\n",
       "<table border=\"1\" class=\"dataframe\">\n",
       "  <thead>\n",
       "    <tr style=\"text-align: right;\">\n",
       "      <th></th>\n",
       "      <th>차량 구분</th>\n",
       "      <th>국가명</th>\n",
       "      <th>1월</th>\n",
       "      <th>2월</th>\n",
       "      <th>3월</th>\n",
       "      <th>4월</th>\n",
       "      <th>5월</th>\n",
       "      <th>6월</th>\n",
       "      <th>7월</th>\n",
       "      <th>8월</th>\n",
       "      <th>9월</th>\n",
       "      <th>10월</th>\n",
       "      <th>11월</th>\n",
       "      <th>12월</th>\n",
       "      <th>연도</th>\n",
       "    </tr>\n",
       "  </thead>\n",
       "  <tbody>\n",
       "    <tr>\n",
       "      <th>0</th>\n",
       "      <td>Passenger Car</td>\n",
       "      <td>US</td>\n",
       "      <td>1048.0</td>\n",
       "      <td>633.0</td>\n",
       "      <td>627.0</td>\n",
       "      <td>245.0</td>\n",
       "      <td>0.0</td>\n",
       "      <td>0.0</td>\n",
       "      <td>2.0</td>\n",
       "      <td>0.0</td>\n",
       "      <td>0.0</td>\n",
       "      <td>4.0</td>\n",
       "      <td>0.0</td>\n",
       "      <td>5.0</td>\n",
       "      <td>2023</td>\n",
       "    </tr>\n",
       "    <tr>\n",
       "      <th>1</th>\n",
       "      <td>Recreational Vehicle</td>\n",
       "      <td>US</td>\n",
       "      <td>33056.0</td>\n",
       "      <td>29697.0</td>\n",
       "      <td>31985.0</td>\n",
       "      <td>29103.0</td>\n",
       "      <td>28763.0</td>\n",
       "      <td>26013.0</td>\n",
       "      <td>27234.0</td>\n",
       "      <td>22619.0</td>\n",
       "      <td>20969.0</td>\n",
       "      <td>24759.0</td>\n",
       "      <td>33951.0</td>\n",
       "      <td>30920.0</td>\n",
       "      <td>2023</td>\n",
       "    </tr>\n",
       "    <tr>\n",
       "      <th>2</th>\n",
       "      <td>Commercial Vehicle</td>\n",
       "      <td>US</td>\n",
       "      <td>0.0</td>\n",
       "      <td>0.0</td>\n",
       "      <td>0.0</td>\n",
       "      <td>0.0</td>\n",
       "      <td>0.0</td>\n",
       "      <td>0.0</td>\n",
       "      <td>0</td>\n",
       "      <td>0.0</td>\n",
       "      <td>0.0</td>\n",
       "      <td>0.0</td>\n",
       "      <td>0.0</td>\n",
       "      <td>0.0</td>\n",
       "      <td>2023</td>\n",
       "    </tr>\n",
       "    <tr>\n",
       "      <th>3</th>\n",
       "      <td>Special Vehicle</td>\n",
       "      <td>US</td>\n",
       "      <td>0.0</td>\n",
       "      <td>0.0</td>\n",
       "      <td>0.0</td>\n",
       "      <td>0.0</td>\n",
       "      <td>0.0</td>\n",
       "      <td>0</td>\n",
       "      <td>0</td>\n",
       "      <td>0</td>\n",
       "      <td>0.0</td>\n",
       "      <td>0.0</td>\n",
       "      <td>0.0</td>\n",
       "      <td>0</td>\n",
       "      <td>2023</td>\n",
       "    </tr>\n",
       "    <tr>\n",
       "      <th>4</th>\n",
       "      <td>CKD(Inc, Special Vehicle)</td>\n",
       "      <td>US</td>\n",
       "      <td>0.0</td>\n",
       "      <td>0.0</td>\n",
       "      <td>0.0</td>\n",
       "      <td>0.0</td>\n",
       "      <td>0</td>\n",
       "      <td>0</td>\n",
       "      <td>0</td>\n",
       "      <td>0</td>\n",
       "      <td>0</td>\n",
       "      <td>0</td>\n",
       "      <td>0</td>\n",
       "      <td>0</td>\n",
       "      <td>2023</td>\n",
       "    </tr>\n",
       "  </tbody>\n",
       "</table>\n",
       "</div>"
      ],
      "text/plain": [
       "                       차량 구분 국가명       1월       2월       3월       4월       5월  \\\n",
       "0              Passenger Car  US   1048.0    633.0    627.0    245.0      0.0   \n",
       "1       Recreational Vehicle  US  33056.0  29697.0  31985.0  29103.0  28763.0   \n",
       "2         Commercial Vehicle  US      0.0      0.0      0.0      0.0      0.0   \n",
       "3            Special Vehicle  US      0.0      0.0      0.0      0.0      0.0   \n",
       "4  CKD(Inc, Special Vehicle)  US      0.0      0.0      0.0      0.0        0   \n",
       "\n",
       "        6월       7월       8월       9월      10월      11월      12월    연도  \n",
       "0      0.0      2.0      0.0      0.0      4.0      0.0      5.0  2023  \n",
       "1  26013.0  27234.0  22619.0  20969.0  24759.0  33951.0  30920.0  2023  \n",
       "2      0.0        0      0.0      0.0      0.0      0.0      0.0  2023  \n",
       "3        0        0        0      0.0      0.0      0.0        0  2023  \n",
       "4        0        0        0        0        0        0        0  2023  "
      ]
     },
     "execution_count": 39,
     "metadata": {},
     "output_type": "execute_result"
    }
   ],
   "source": [
    "df.head()"
   ]
  },
  {
   "cell_type": "code",
   "execution_count": 41,
   "metadata": {},
   "outputs": [
    {
     "data": {
      "text/plain": [
       "array(['Passenger Car', 'Recreational Vehicle', 'Commercial Vehicle',\n",
       "       'Special Vehicle', 'CKD(Inc, Special Vehicle)', 'Total',\n",
       "       'CKD(excl, Special Vehicle)', 'CKD(Special Vehicle)'], dtype=object)"
      ]
     },
     "execution_count": 41,
     "metadata": {},
     "output_type": "execute_result"
    }
   ],
   "source": [
    "df['차량 구분'].unique()"
   ]
  },
  {
   "cell_type": "code",
   "execution_count": 42,
   "metadata": {},
   "outputs": [
    {
     "data": {
      "text/plain": [
       "array(['승용차', '휴양용 차량', '상업용 차량', '특수 차량', 'CKD(모듈형 조립 방식)', '총합',\n",
       "       'CKD(특수 차량 제외)', 'CKD(특수 차량)'], dtype=object)"
      ]
     },
     "execution_count": 42,
     "metadata": {},
     "output_type": "execute_result"
    }
   ],
   "source": [
    "# 기존 값과 변경할 값 매핑\n",
    "car_mapping = {\n",
    "    'Passenger Car': '승용차',\n",
    "    'Recreational Vehicle': '휴양용 차량',\n",
    "    'Commercial Vehicle': '상업용 차량',\n",
    "    'Special Vehicle': '특수 차량',\n",
    "    'CKD(Inc, Special Vehicle)': 'CKD(모듈형 조립 방식)',\n",
    "    'Total': '총합',\n",
    "    'CKD(excl, Special Vehicle)': 'CKD(특수 차량 제외)',\n",
    "    'CKD(Special Vehicle)': 'CKD(특수 차량)'\n",
    "}\n",
    "\n",
    "# 'Car' 컬럼 데이터 변경\n",
    "df['차량 구분'] = df['차량 구분'].replace(car_mapping)\n",
    "\n",
    "# 변경된 데이터 확인\n",
    "df['차량 구분'].unique()\n"
   ]
  },
  {
   "cell_type": "code",
   "execution_count": 43,
   "metadata": {},
   "outputs": [
    {
     "data": {
      "application/vnd.microsoft.datawrangler.viewer.v0+json": {
       "columns": [
        {
         "name": "index",
         "rawType": "int64",
         "type": "integer"
        },
        {
         "name": "차량 구분",
         "rawType": "object",
         "type": "string"
        },
        {
         "name": "국가명",
         "rawType": "object",
         "type": "string"
        },
        {
         "name": "1월",
         "rawType": "object",
         "type": "unknown"
        },
        {
         "name": "2월",
         "rawType": "object",
         "type": "unknown"
        },
        {
         "name": "3월",
         "rawType": "object",
         "type": "unknown"
        },
        {
         "name": "4월",
         "rawType": "object",
         "type": "unknown"
        },
        {
         "name": "5월",
         "rawType": "object",
         "type": "unknown"
        },
        {
         "name": "6월",
         "rawType": "object",
         "type": "unknown"
        },
        {
         "name": "7월",
         "rawType": "object",
         "type": "unknown"
        },
        {
         "name": "8월",
         "rawType": "object",
         "type": "unknown"
        },
        {
         "name": "9월",
         "rawType": "object",
         "type": "unknown"
        },
        {
         "name": "10월",
         "rawType": "object",
         "type": "unknown"
        },
        {
         "name": "11월",
         "rawType": "object",
         "type": "unknown"
        },
        {
         "name": "12월",
         "rawType": "object",
         "type": "unknown"
        },
        {
         "name": "연도",
         "rawType": "int64",
         "type": "integer"
        }
       ],
       "conversionMethod": "pd.DataFrame",
       "ref": "cc6ba4df-c7cc-4159-80b7-a50bce88837f",
       "rows": [
        [
         "0",
         "승용차",
         "US",
         "1048.0",
         "633.0",
         "627.0",
         "245.0",
         "0.0",
         "0.0",
         "2.0",
         "0.0",
         "0.0",
         "4.0",
         "0.0",
         "5.0",
         "2023"
        ],
        [
         "1",
         "휴양용 차량",
         "US",
         "33056.0",
         "29697.0",
         "31985.0",
         "29103.0",
         "28763.0",
         "26013.0",
         "27234.0",
         "22619.0",
         "20969.0",
         "24759.0",
         "33951.0",
         "30920.0",
         "2023"
        ],
        [
         "2",
         "상업용 차량",
         "US",
         "0.0",
         "0.0",
         "0.0",
         "0.0",
         "0.0",
         "0.0",
         "0",
         "0.0",
         "0.0",
         "0.0",
         "0.0",
         "0.0",
         "2023"
        ],
        [
         "3",
         "특수 차량",
         "US",
         "0.0",
         "0.0",
         "0.0",
         "0.0",
         "0.0",
         "0",
         "0",
         "0",
         "0.0",
         "0.0",
         "0.0",
         "0",
         "2023"
        ],
        [
         "4",
         "CKD(모듈형 조립 방식)",
         "US",
         "0.0",
         "0.0",
         "0.0",
         "0.0",
         "0",
         "0",
         "0",
         "0",
         "0",
         "0",
         "0",
         "0",
         "2023"
        ]
       ],
       "shape": {
        "columns": 15,
        "rows": 5
       }
      },
      "text/html": [
       "<div>\n",
       "<style scoped>\n",
       "    .dataframe tbody tr th:only-of-type {\n",
       "        vertical-align: middle;\n",
       "    }\n",
       "\n",
       "    .dataframe tbody tr th {\n",
       "        vertical-align: top;\n",
       "    }\n",
       "\n",
       "    .dataframe thead th {\n",
       "        text-align: right;\n",
       "    }\n",
       "</style>\n",
       "<table border=\"1\" class=\"dataframe\">\n",
       "  <thead>\n",
       "    <tr style=\"text-align: right;\">\n",
       "      <th></th>\n",
       "      <th>차량 구분</th>\n",
       "      <th>국가명</th>\n",
       "      <th>1월</th>\n",
       "      <th>2월</th>\n",
       "      <th>3월</th>\n",
       "      <th>4월</th>\n",
       "      <th>5월</th>\n",
       "      <th>6월</th>\n",
       "      <th>7월</th>\n",
       "      <th>8월</th>\n",
       "      <th>9월</th>\n",
       "      <th>10월</th>\n",
       "      <th>11월</th>\n",
       "      <th>12월</th>\n",
       "      <th>연도</th>\n",
       "    </tr>\n",
       "  </thead>\n",
       "  <tbody>\n",
       "    <tr>\n",
       "      <th>0</th>\n",
       "      <td>승용차</td>\n",
       "      <td>US</td>\n",
       "      <td>1048.0</td>\n",
       "      <td>633.0</td>\n",
       "      <td>627.0</td>\n",
       "      <td>245.0</td>\n",
       "      <td>0.0</td>\n",
       "      <td>0.0</td>\n",
       "      <td>2.0</td>\n",
       "      <td>0.0</td>\n",
       "      <td>0.0</td>\n",
       "      <td>4.0</td>\n",
       "      <td>0.0</td>\n",
       "      <td>5.0</td>\n",
       "      <td>2023</td>\n",
       "    </tr>\n",
       "    <tr>\n",
       "      <th>1</th>\n",
       "      <td>휴양용 차량</td>\n",
       "      <td>US</td>\n",
       "      <td>33056.0</td>\n",
       "      <td>29697.0</td>\n",
       "      <td>31985.0</td>\n",
       "      <td>29103.0</td>\n",
       "      <td>28763.0</td>\n",
       "      <td>26013.0</td>\n",
       "      <td>27234.0</td>\n",
       "      <td>22619.0</td>\n",
       "      <td>20969.0</td>\n",
       "      <td>24759.0</td>\n",
       "      <td>33951.0</td>\n",
       "      <td>30920.0</td>\n",
       "      <td>2023</td>\n",
       "    </tr>\n",
       "    <tr>\n",
       "      <th>2</th>\n",
       "      <td>상업용 차량</td>\n",
       "      <td>US</td>\n",
       "      <td>0.0</td>\n",
       "      <td>0.0</td>\n",
       "      <td>0.0</td>\n",
       "      <td>0.0</td>\n",
       "      <td>0.0</td>\n",
       "      <td>0.0</td>\n",
       "      <td>0</td>\n",
       "      <td>0.0</td>\n",
       "      <td>0.0</td>\n",
       "      <td>0.0</td>\n",
       "      <td>0.0</td>\n",
       "      <td>0.0</td>\n",
       "      <td>2023</td>\n",
       "    </tr>\n",
       "    <tr>\n",
       "      <th>3</th>\n",
       "      <td>특수 차량</td>\n",
       "      <td>US</td>\n",
       "      <td>0.0</td>\n",
       "      <td>0.0</td>\n",
       "      <td>0.0</td>\n",
       "      <td>0.0</td>\n",
       "      <td>0.0</td>\n",
       "      <td>0</td>\n",
       "      <td>0</td>\n",
       "      <td>0</td>\n",
       "      <td>0.0</td>\n",
       "      <td>0.0</td>\n",
       "      <td>0.0</td>\n",
       "      <td>0</td>\n",
       "      <td>2023</td>\n",
       "    </tr>\n",
       "    <tr>\n",
       "      <th>4</th>\n",
       "      <td>CKD(모듈형 조립 방식)</td>\n",
       "      <td>US</td>\n",
       "      <td>0.0</td>\n",
       "      <td>0.0</td>\n",
       "      <td>0.0</td>\n",
       "      <td>0.0</td>\n",
       "      <td>0</td>\n",
       "      <td>0</td>\n",
       "      <td>0</td>\n",
       "      <td>0</td>\n",
       "      <td>0</td>\n",
       "      <td>0</td>\n",
       "      <td>0</td>\n",
       "      <td>0</td>\n",
       "      <td>2023</td>\n",
       "    </tr>\n",
       "  </tbody>\n",
       "</table>\n",
       "</div>"
      ],
      "text/plain": [
       "            차량 구분 국가명       1월       2월       3월       4월       5월       6월  \\\n",
       "0             승용차  US   1048.0    633.0    627.0    245.0      0.0      0.0   \n",
       "1          휴양용 차량  US  33056.0  29697.0  31985.0  29103.0  28763.0  26013.0   \n",
       "2          상업용 차량  US      0.0      0.0      0.0      0.0      0.0      0.0   \n",
       "3           특수 차량  US      0.0      0.0      0.0      0.0      0.0        0   \n",
       "4  CKD(모듈형 조립 방식)  US      0.0      0.0      0.0      0.0        0        0   \n",
       "\n",
       "        7월       8월       9월      10월      11월      12월    연도  \n",
       "0      2.0      0.0      0.0      4.0      0.0      5.0  2023  \n",
       "1  27234.0  22619.0  20969.0  24759.0  33951.0  30920.0  2023  \n",
       "2        0      0.0      0.0      0.0      0.0      0.0  2023  \n",
       "3        0        0      0.0      0.0      0.0        0  2023  \n",
       "4        0        0        0        0        0        0  2023  "
      ]
     },
     "execution_count": 43,
     "metadata": {},
     "output_type": "execute_result"
    }
   ],
   "source": [
    "df.head()"
   ]
  },
  {
   "cell_type": "code",
   "execution_count": 44,
   "metadata": {},
   "outputs": [],
   "source": [
    "df.to_csv(\"지역별수출실적_전처리.CSV\", index=False)"
   ]
  },
  {
   "cell_type": "code",
   "execution_count": 86,
   "metadata": {},
   "outputs": [],
   "source": [
    "# 데이터 불러오기\n",
    "df_2023 = pd.read_csv(\"차종별판매실적_2023.CSV\")\n",
    "df_2024= pd.read_csv(\"차종별판매실적_2024.CSV\")\n",
    "df_2025= pd.read_csv(\"차종별판매실적_2025.CSV\")"
   ]
  },
  {
   "cell_type": "code",
   "execution_count": 87,
   "metadata": {},
   "outputs": [
    {
     "data": {
      "application/vnd.microsoft.datawrangler.viewer.v0+json": {
       "columns": [
        {
         "name": "index",
         "rawType": "int64",
         "type": "integer"
        },
        {
         "name": "Model",
         "rawType": "object",
         "type": "string"
        },
        {
         "name": "Vehicle Type",
         "rawType": "object",
         "type": "string"
        },
        {
         "name": "Trade",
         "rawType": "object",
         "type": "string"
        },
        {
         "name": "Jan",
         "rawType": "float64",
         "type": "float"
        },
        {
         "name": "Feb",
         "rawType": "float64",
         "type": "float"
        },
        {
         "name": "Mar",
         "rawType": "float64",
         "type": "float"
        },
        {
         "name": "Apr",
         "rawType": "float64",
         "type": "float"
        },
        {
         "name": "May",
         "rawType": "float64",
         "type": "float"
        },
        {
         "name": "Jun",
         "rawType": "float64",
         "type": "float"
        },
        {
         "name": "Jul",
         "rawType": "float64",
         "type": "float"
        },
        {
         "name": "Aug",
         "rawType": "float64",
         "type": "float"
        },
        {
         "name": "Sep",
         "rawType": "float64",
         "type": "float"
        },
        {
         "name": "Oct",
         "rawType": "float64",
         "type": "float"
        },
        {
         "name": "Nov",
         "rawType": "float64",
         "type": "float"
        },
        {
         "name": "Dec",
         "rawType": "float64",
         "type": "float"
        }
       ],
       "conversionMethod": "pd.DataFrame",
       "ref": "3a8e8ac5-8dad-460a-8f70-9eeea5a16dcc",
       "rows": [
        [
         "0",
         " Morning",
         "Ordinary Vehicle",
         "Domestic",
         "1813.0",
         "2049.0",
         "2127.0",
         "2164.0",
         "2502.0",
         "2245.0",
         "2033.0",
         "2910.0",
         "1892.0",
         "2225.0",
         "2111.0",
         "1808.0"
        ],
        [
         "1",
         " Ray",
         "Ordinary Vehicle",
         "Domestic",
         "3585.0",
         "4268.0",
         "4155.0",
         "4158.0",
         "4576.0",
         "4372.0",
         "4285.0",
         "4402.0",
         "3464.0",
         "4824.0",
         "4587.0",
         "4254.0"
        ],
        [
         "2",
         " K3",
         "Ordinary Vehicle",
         "Domestic",
         "950.0",
         "1024.0",
         "1197.0",
         "670.0",
         "975.0",
         "1540.0",
         "976.0",
         "1123.0",
         "1036.0",
         "939.0",
         "1428.0",
         "1346.0"
        ],
        [
         "3",
         " K5",
         "Ordinary Vehicle",
         "Domestic",
         "2560.0",
         "2653.0",
         "3421.0",
         "2739.0",
         "3166.0",
         "2963.0",
         "2246.0",
         "2613.0",
         "2280.0",
         "2592.0",
         "3783.0",
         "3563.0"
        ],
        [
         "4",
         " Stinger",
         "Ordinary Vehicle",
         "Domestic",
         "113.0",
         "120.0",
         "143.0",
         "61.0",
         "45.0",
         "1.0",
         "0.0",
         "0.0",
         "0.0",
         "0.0",
         "0.0",
         "0.0"
        ]
       ],
       "shape": {
        "columns": 15,
        "rows": 5
       }
      },
      "text/html": [
       "<div>\n",
       "<style scoped>\n",
       "    .dataframe tbody tr th:only-of-type {\n",
       "        vertical-align: middle;\n",
       "    }\n",
       "\n",
       "    .dataframe tbody tr th {\n",
       "        vertical-align: top;\n",
       "    }\n",
       "\n",
       "    .dataframe thead th {\n",
       "        text-align: right;\n",
       "    }\n",
       "</style>\n",
       "<table border=\"1\" class=\"dataframe\">\n",
       "  <thead>\n",
       "    <tr style=\"text-align: right;\">\n",
       "      <th></th>\n",
       "      <th>Model</th>\n",
       "      <th>Vehicle Type</th>\n",
       "      <th>Trade</th>\n",
       "      <th>Jan</th>\n",
       "      <th>Feb</th>\n",
       "      <th>Mar</th>\n",
       "      <th>Apr</th>\n",
       "      <th>May</th>\n",
       "      <th>Jun</th>\n",
       "      <th>Jul</th>\n",
       "      <th>Aug</th>\n",
       "      <th>Sep</th>\n",
       "      <th>Oct</th>\n",
       "      <th>Nov</th>\n",
       "      <th>Dec</th>\n",
       "    </tr>\n",
       "  </thead>\n",
       "  <tbody>\n",
       "    <tr>\n",
       "      <th>0</th>\n",
       "      <td>Morning</td>\n",
       "      <td>Ordinary Vehicle</td>\n",
       "      <td>Domestic</td>\n",
       "      <td>1813.0</td>\n",
       "      <td>2049.0</td>\n",
       "      <td>2127.0</td>\n",
       "      <td>2164.0</td>\n",
       "      <td>2502.0</td>\n",
       "      <td>2245.0</td>\n",
       "      <td>2033.0</td>\n",
       "      <td>2910.0</td>\n",
       "      <td>1892.0</td>\n",
       "      <td>2225.0</td>\n",
       "      <td>2111.0</td>\n",
       "      <td>1808.0</td>\n",
       "    </tr>\n",
       "    <tr>\n",
       "      <th>1</th>\n",
       "      <td>Ray</td>\n",
       "      <td>Ordinary Vehicle</td>\n",
       "      <td>Domestic</td>\n",
       "      <td>3585.0</td>\n",
       "      <td>4268.0</td>\n",
       "      <td>4155.0</td>\n",
       "      <td>4158.0</td>\n",
       "      <td>4576.0</td>\n",
       "      <td>4372.0</td>\n",
       "      <td>4285.0</td>\n",
       "      <td>4402.0</td>\n",
       "      <td>3464.0</td>\n",
       "      <td>4824.0</td>\n",
       "      <td>4587.0</td>\n",
       "      <td>4254.0</td>\n",
       "    </tr>\n",
       "    <tr>\n",
       "      <th>2</th>\n",
       "      <td>K3</td>\n",
       "      <td>Ordinary Vehicle</td>\n",
       "      <td>Domestic</td>\n",
       "      <td>950.0</td>\n",
       "      <td>1024.0</td>\n",
       "      <td>1197.0</td>\n",
       "      <td>670.0</td>\n",
       "      <td>975.0</td>\n",
       "      <td>1540.0</td>\n",
       "      <td>976.0</td>\n",
       "      <td>1123.0</td>\n",
       "      <td>1036.0</td>\n",
       "      <td>939.0</td>\n",
       "      <td>1428.0</td>\n",
       "      <td>1346.0</td>\n",
       "    </tr>\n",
       "    <tr>\n",
       "      <th>3</th>\n",
       "      <td>K5</td>\n",
       "      <td>Ordinary Vehicle</td>\n",
       "      <td>Domestic</td>\n",
       "      <td>2560.0</td>\n",
       "      <td>2653.0</td>\n",
       "      <td>3421.0</td>\n",
       "      <td>2739.0</td>\n",
       "      <td>3166.0</td>\n",
       "      <td>2963.0</td>\n",
       "      <td>2246.0</td>\n",
       "      <td>2613.0</td>\n",
       "      <td>2280.0</td>\n",
       "      <td>2592.0</td>\n",
       "      <td>3783.0</td>\n",
       "      <td>3563.0</td>\n",
       "    </tr>\n",
       "    <tr>\n",
       "      <th>4</th>\n",
       "      <td>Stinger</td>\n",
       "      <td>Ordinary Vehicle</td>\n",
       "      <td>Domestic</td>\n",
       "      <td>113.0</td>\n",
       "      <td>120.0</td>\n",
       "      <td>143.0</td>\n",
       "      <td>61.0</td>\n",
       "      <td>45.0</td>\n",
       "      <td>1.0</td>\n",
       "      <td>0.0</td>\n",
       "      <td>0.0</td>\n",
       "      <td>0.0</td>\n",
       "      <td>0.0</td>\n",
       "      <td>0.0</td>\n",
       "      <td>0.0</td>\n",
       "    </tr>\n",
       "  </tbody>\n",
       "</table>\n",
       "</div>"
      ],
      "text/plain": [
       "      Model      Vehicle Type     Trade     Jan     Feb     Mar     Apr  \\\n",
       "0   Morning  Ordinary Vehicle  Domestic  1813.0  2049.0  2127.0  2164.0   \n",
       "1       Ray  Ordinary Vehicle  Domestic  3585.0  4268.0  4155.0  4158.0   \n",
       "2        K3  Ordinary Vehicle  Domestic   950.0  1024.0  1197.0   670.0   \n",
       "3        K5  Ordinary Vehicle  Domestic  2560.0  2653.0  3421.0  2739.0   \n",
       "4   Stinger  Ordinary Vehicle  Domestic   113.0   120.0   143.0    61.0   \n",
       "\n",
       "      May     Jun     Jul     Aug     Sep     Oct     Nov     Dec  \n",
       "0  2502.0  2245.0  2033.0  2910.0  1892.0  2225.0  2111.0  1808.0  \n",
       "1  4576.0  4372.0  4285.0  4402.0  3464.0  4824.0  4587.0  4254.0  \n",
       "2   975.0  1540.0   976.0  1123.0  1036.0   939.0  1428.0  1346.0  \n",
       "3  3166.0  2963.0  2246.0  2613.0  2280.0  2592.0  3783.0  3563.0  \n",
       "4    45.0     1.0     0.0     0.0     0.0     0.0     0.0     0.0  "
      ]
     },
     "execution_count": 87,
     "metadata": {},
     "output_type": "execute_result"
    }
   ],
   "source": [
    "df_2023.head()"
   ]
  },
  {
   "cell_type": "code",
   "execution_count": 88,
   "metadata": {},
   "outputs": [],
   "source": [
    "df_2023[\"연도\"] = 2023"
   ]
  },
  {
   "cell_type": "code",
   "execution_count": 89,
   "metadata": {},
   "outputs": [
    {
     "data": {
      "text/plain": [
       "Index(['Model', 'Vehicle Type', 'Trade', 'Jan', 'Feb', 'Mar', 'Apr', 'May',\n",
       "       'Jun', 'Jul', 'Aug', 'Sep', 'Oct', 'Nov', 'Dec', '연도'],\n",
       "      dtype='object')"
      ]
     },
     "execution_count": 89,
     "metadata": {},
     "output_type": "execute_result"
    }
   ],
   "source": [
    "df_2023.columns"
   ]
  },
  {
   "cell_type": "code",
   "execution_count": 90,
   "metadata": {},
   "outputs": [
    {
     "data": {
      "application/vnd.microsoft.datawrangler.viewer.v0+json": {
       "columns": [
        {
         "name": "index",
         "rawType": "int64",
         "type": "integer"
        },
        {
         "name": "Model",
         "rawType": "object",
         "type": "string"
        },
        {
         "name": "Vehicle Type",
         "rawType": "object",
         "type": "string"
        },
        {
         "name": "Trade",
         "rawType": "object",
         "type": "string"
        },
        {
         "name": "Jan",
         "rawType": "object",
         "type": "unknown"
        },
        {
         "name": "Feb",
         "rawType": "object",
         "type": "unknown"
        },
        {
         "name": "Mar",
         "rawType": "object",
         "type": "unknown"
        },
        {
         "name": "Apr",
         "rawType": "object",
         "type": "unknown"
        },
        {
         "name": "May",
         "rawType": "object",
         "type": "unknown"
        },
        {
         "name": "Jun",
         "rawType": "object",
         "type": "unknown"
        },
        {
         "name": "Jul",
         "rawType": "object",
         "type": "unknown"
        },
        {
         "name": "Aug",
         "rawType": "object",
         "type": "unknown"
        },
        {
         "name": "Sep",
         "rawType": "object",
         "type": "unknown"
        },
        {
         "name": "Oct",
         "rawType": "object",
         "type": "unknown"
        },
        {
         "name": "Nov",
         "rawType": "object",
         "type": "unknown"
        },
        {
         "name": "Dec",
         "rawType": "object",
         "type": "unknown"
        }
       ],
       "conversionMethod": "pd.DataFrame",
       "ref": "c9258fa5-0fbb-4c7e-b2c9-c4cb13d62b4f",
       "rows": [
        [
         "0",
         "Morning",
         "Ordinary Vehicle",
         "Domestic",
         "1,214",
         "1,140",
         "1,416",
         "1,421",
         "907",
         "985",
         "1,335",
         "910",
         "968",
         "1,464",
         "1,467",
         "2,608"
        ],
        [
         "1",
         "Ray",
         "Ordinary Vehicle",
         "Domestic",
         "4,130",
         "3,972",
         "4,692",
         "4,460",
         "4,456",
         "3,574",
         "4,384",
         "3,710",
         "3,363",
         "3,278",
         "4,753",
         "4,219"
        ],
        [
         "2",
         "K3",
         "Ordinary Vehicle",
         "Domestic",
         "1,419",
         "1,315",
         "1,460",
         "1,336",
         "995",
         "1,341",
         "1,373",
         "588",
         "4",
         null,
         null,
         null
        ],
        [
         "3",
         "K5",
         "Ordinary Vehicle",
         "Domestic",
         "3,336",
         "2,970",
         "3,577",
         "3,168",
         "2,405",
         "2,932",
         "2,702",
         "2,690",
         "2,277",
         "3,030",
         "2,645",
         "2,105"
        ],
        [
         "4",
         "EV4",
         "Ordinary Vehicle",
         "Domestic",
         null,
         null,
         null,
         null,
         null,
         null,
         null,
         null,
         null,
         null,
         null,
         "0"
        ]
       ],
       "shape": {
        "columns": 15,
        "rows": 5
       }
      },
      "text/html": [
       "<div>\n",
       "<style scoped>\n",
       "    .dataframe tbody tr th:only-of-type {\n",
       "        vertical-align: middle;\n",
       "    }\n",
       "\n",
       "    .dataframe tbody tr th {\n",
       "        vertical-align: top;\n",
       "    }\n",
       "\n",
       "    .dataframe thead th {\n",
       "        text-align: right;\n",
       "    }\n",
       "</style>\n",
       "<table border=\"1\" class=\"dataframe\">\n",
       "  <thead>\n",
       "    <tr style=\"text-align: right;\">\n",
       "      <th></th>\n",
       "      <th>Model</th>\n",
       "      <th>Vehicle Type</th>\n",
       "      <th>Trade</th>\n",
       "      <th>Jan</th>\n",
       "      <th>Feb</th>\n",
       "      <th>Mar</th>\n",
       "      <th>Apr</th>\n",
       "      <th>May</th>\n",
       "      <th>Jun</th>\n",
       "      <th>Jul</th>\n",
       "      <th>Aug</th>\n",
       "      <th>Sep</th>\n",
       "      <th>Oct</th>\n",
       "      <th>Nov</th>\n",
       "      <th>Dec</th>\n",
       "    </tr>\n",
       "  </thead>\n",
       "  <tbody>\n",
       "    <tr>\n",
       "      <th>0</th>\n",
       "      <td>Morning</td>\n",
       "      <td>Ordinary Vehicle</td>\n",
       "      <td>Domestic</td>\n",
       "      <td>1,214</td>\n",
       "      <td>1,140</td>\n",
       "      <td>1,416</td>\n",
       "      <td>1,421</td>\n",
       "      <td>907</td>\n",
       "      <td>985</td>\n",
       "      <td>1,335</td>\n",
       "      <td>910</td>\n",
       "      <td>968</td>\n",
       "      <td>1,464</td>\n",
       "      <td>1,467</td>\n",
       "      <td>2,608</td>\n",
       "    </tr>\n",
       "    <tr>\n",
       "      <th>1</th>\n",
       "      <td>Ray</td>\n",
       "      <td>Ordinary Vehicle</td>\n",
       "      <td>Domestic</td>\n",
       "      <td>4,130</td>\n",
       "      <td>3,972</td>\n",
       "      <td>4,692</td>\n",
       "      <td>4,460</td>\n",
       "      <td>4,456</td>\n",
       "      <td>3,574</td>\n",
       "      <td>4,384</td>\n",
       "      <td>3,710</td>\n",
       "      <td>3,363</td>\n",
       "      <td>3,278</td>\n",
       "      <td>4,753</td>\n",
       "      <td>4,219</td>\n",
       "    </tr>\n",
       "    <tr>\n",
       "      <th>2</th>\n",
       "      <td>K3</td>\n",
       "      <td>Ordinary Vehicle</td>\n",
       "      <td>Domestic</td>\n",
       "      <td>1,419</td>\n",
       "      <td>1,315</td>\n",
       "      <td>1,460</td>\n",
       "      <td>1,336</td>\n",
       "      <td>995</td>\n",
       "      <td>1,341</td>\n",
       "      <td>1,373</td>\n",
       "      <td>588</td>\n",
       "      <td>4</td>\n",
       "      <td>NaN</td>\n",
       "      <td>NaN</td>\n",
       "      <td>NaN</td>\n",
       "    </tr>\n",
       "    <tr>\n",
       "      <th>3</th>\n",
       "      <td>K5</td>\n",
       "      <td>Ordinary Vehicle</td>\n",
       "      <td>Domestic</td>\n",
       "      <td>3,336</td>\n",
       "      <td>2,970</td>\n",
       "      <td>3,577</td>\n",
       "      <td>3,168</td>\n",
       "      <td>2,405</td>\n",
       "      <td>2,932</td>\n",
       "      <td>2,702</td>\n",
       "      <td>2,690</td>\n",
       "      <td>2,277</td>\n",
       "      <td>3,030</td>\n",
       "      <td>2,645</td>\n",
       "      <td>2,105</td>\n",
       "    </tr>\n",
       "    <tr>\n",
       "      <th>4</th>\n",
       "      <td>EV4</td>\n",
       "      <td>Ordinary Vehicle</td>\n",
       "      <td>Domestic</td>\n",
       "      <td>NaN</td>\n",
       "      <td>NaN</td>\n",
       "      <td>NaN</td>\n",
       "      <td>NaN</td>\n",
       "      <td>NaN</td>\n",
       "      <td>NaN</td>\n",
       "      <td>NaN</td>\n",
       "      <td>NaN</td>\n",
       "      <td>NaN</td>\n",
       "      <td>NaN</td>\n",
       "      <td>NaN</td>\n",
       "      <td>0</td>\n",
       "    </tr>\n",
       "  </tbody>\n",
       "</table>\n",
       "</div>"
      ],
      "text/plain": [
       "     Model      Vehicle Type     Trade    Jan    Feb    Mar    Apr    May  \\\n",
       "0  Morning  Ordinary Vehicle  Domestic  1,214  1,140  1,416  1,421    907   \n",
       "1      Ray  Ordinary Vehicle  Domestic  4,130  3,972  4,692  4,460  4,456   \n",
       "2       K3  Ordinary Vehicle  Domestic  1,419  1,315  1,460  1,336    995   \n",
       "3       K5  Ordinary Vehicle  Domestic  3,336  2,970  3,577  3,168  2,405   \n",
       "4      EV4  Ordinary Vehicle  Domestic    NaN    NaN    NaN    NaN    NaN   \n",
       "\n",
       "     Jun    Jul    Aug    Sep    Oct    Nov    Dec  \n",
       "0    985  1,335    910    968  1,464  1,467  2,608  \n",
       "1  3,574  4,384  3,710  3,363  3,278  4,753  4,219  \n",
       "2  1,341  1,373    588      4    NaN    NaN    NaN  \n",
       "3  2,932  2,702  2,690  2,277  3,030  2,645  2,105  \n",
       "4    NaN    NaN    NaN    NaN    NaN    NaN      0  "
      ]
     },
     "execution_count": 90,
     "metadata": {},
     "output_type": "execute_result"
    }
   ],
   "source": [
    "df_2024.head()"
   ]
  },
  {
   "cell_type": "code",
   "execution_count": 91,
   "metadata": {},
   "outputs": [],
   "source": [
    "df_2024[\"연도\"] = 2024"
   ]
  },
  {
   "cell_type": "code",
   "execution_count": 92,
   "metadata": {},
   "outputs": [
    {
     "data": {
      "text/plain": [
       "Index(['Model', 'Vehicle Type', 'Trade', 'Jan', 'Feb', 'Mar', 'Apr', 'May',\n",
       "       'Jun', 'Jul', 'Aug', 'Sep', 'Oct', 'Nov', 'Dec', '연도'],\n",
       "      dtype='object')"
      ]
     },
     "execution_count": 92,
     "metadata": {},
     "output_type": "execute_result"
    }
   ],
   "source": [
    "df_2024.columns"
   ]
  },
  {
   "cell_type": "code",
   "execution_count": 93,
   "metadata": {},
   "outputs": [
    {
     "data": {
      "application/vnd.microsoft.datawrangler.viewer.v0+json": {
       "columns": [
        {
         "name": "index",
         "rawType": "int64",
         "type": "integer"
        },
        {
         "name": "Model",
         "rawType": "object",
         "type": "string"
        },
        {
         "name": "Vehicle Type",
         "rawType": "object",
         "type": "string"
        },
        {
         "name": "Trade",
         "rawType": "object",
         "type": "string"
        },
        {
         "name": "Jan",
         "rawType": "int64",
         "type": "integer"
        }
       ],
       "conversionMethod": "pd.DataFrame",
       "ref": "e5dcc885-92dd-40b8-9af0-4f9189431d7f",
       "rows": [
        [
         "0",
         " Morning",
         "Ordinary Vehicle",
         "Domestic",
         "1484"
        ],
        [
         "1",
         " Ray",
         "Ordinary Vehicle",
         "Domestic",
         "3876"
        ],
        [
         "2",
         " K3",
         "Ordinary Vehicle",
         "Domestic",
         "0"
        ],
        [
         "3",
         " EV4",
         "Ordinary Vehicle",
         "Domestic",
         "0"
        ],
        [
         "4",
         " K5",
         "Ordinary Vehicle",
         "Domestic",
         "2583"
        ]
       ],
       "shape": {
        "columns": 4,
        "rows": 5
       }
      },
      "text/html": [
       "<div>\n",
       "<style scoped>\n",
       "    .dataframe tbody tr th:only-of-type {\n",
       "        vertical-align: middle;\n",
       "    }\n",
       "\n",
       "    .dataframe tbody tr th {\n",
       "        vertical-align: top;\n",
       "    }\n",
       "\n",
       "    .dataframe thead th {\n",
       "        text-align: right;\n",
       "    }\n",
       "</style>\n",
       "<table border=\"1\" class=\"dataframe\">\n",
       "  <thead>\n",
       "    <tr style=\"text-align: right;\">\n",
       "      <th></th>\n",
       "      <th>Model</th>\n",
       "      <th>Vehicle Type</th>\n",
       "      <th>Trade</th>\n",
       "      <th>Jan</th>\n",
       "    </tr>\n",
       "  </thead>\n",
       "  <tbody>\n",
       "    <tr>\n",
       "      <th>0</th>\n",
       "      <td>Morning</td>\n",
       "      <td>Ordinary Vehicle</td>\n",
       "      <td>Domestic</td>\n",
       "      <td>1484</td>\n",
       "    </tr>\n",
       "    <tr>\n",
       "      <th>1</th>\n",
       "      <td>Ray</td>\n",
       "      <td>Ordinary Vehicle</td>\n",
       "      <td>Domestic</td>\n",
       "      <td>3876</td>\n",
       "    </tr>\n",
       "    <tr>\n",
       "      <th>2</th>\n",
       "      <td>K3</td>\n",
       "      <td>Ordinary Vehicle</td>\n",
       "      <td>Domestic</td>\n",
       "      <td>0</td>\n",
       "    </tr>\n",
       "    <tr>\n",
       "      <th>3</th>\n",
       "      <td>EV4</td>\n",
       "      <td>Ordinary Vehicle</td>\n",
       "      <td>Domestic</td>\n",
       "      <td>0</td>\n",
       "    </tr>\n",
       "    <tr>\n",
       "      <th>4</th>\n",
       "      <td>K5</td>\n",
       "      <td>Ordinary Vehicle</td>\n",
       "      <td>Domestic</td>\n",
       "      <td>2583</td>\n",
       "    </tr>\n",
       "  </tbody>\n",
       "</table>\n",
       "</div>"
      ],
      "text/plain": [
       "      Model      Vehicle Type     Trade   Jan\n",
       "0   Morning  Ordinary Vehicle  Domestic  1484\n",
       "1       Ray  Ordinary Vehicle  Domestic  3876\n",
       "2        K3  Ordinary Vehicle  Domestic     0\n",
       "3       EV4  Ordinary Vehicle  Domestic     0\n",
       "4        K5  Ordinary Vehicle  Domestic  2583"
      ]
     },
     "execution_count": 93,
     "metadata": {},
     "output_type": "execute_result"
    }
   ],
   "source": [
    "df_2025.head()"
   ]
  },
  {
   "cell_type": "code",
   "execution_count": 94,
   "metadata": {},
   "outputs": [],
   "source": [
    "df_2025[\"연도\"] = 2025"
   ]
  },
  {
   "cell_type": "code",
   "execution_count": 95,
   "metadata": {},
   "outputs": [
    {
     "data": {
      "text/plain": [
       "Index(['Model', 'Vehicle Type', 'Trade', 'Jan', '연도'], dtype='object')"
      ]
     },
     "execution_count": 95,
     "metadata": {},
     "output_type": "execute_result"
    }
   ],
   "source": [
    "df_2025.columns"
   ]
  },
  {
   "cell_type": "code",
   "execution_count": 96,
   "metadata": {},
   "outputs": [],
   "source": [
    "df = pd.concat([df_2023, df_2024, df_2025], ignore_index=True)"
   ]
  },
  {
   "cell_type": "code",
   "execution_count": 97,
   "metadata": {},
   "outputs": [],
   "source": [
    "df.to_csv(\"차종별판매실적.CSV\", index=False)"
   ]
  },
  {
   "cell_type": "code",
   "execution_count": 98,
   "metadata": {},
   "outputs": [],
   "source": [
    "df = pd.read_csv(\"차종별판매실적.CSV\")"
   ]
  },
  {
   "cell_type": "code",
   "execution_count": 99,
   "metadata": {},
   "outputs": [
    {
     "data": {
      "text/plain": [
       "Index(['Model', 'Vehicle Type', 'Trade', 'Jan', 'Feb', 'Mar', 'Apr', 'May',\n",
       "       'Jun', 'Jul', 'Aug', 'Sep', 'Oct', 'Nov', 'Dec', '연도'],\n",
       "      dtype='object')"
      ]
     },
     "execution_count": 99,
     "metadata": {},
     "output_type": "execute_result"
    }
   ],
   "source": [
    "df.columns"
   ]
  },
  {
   "cell_type": "code",
   "execution_count": 100,
   "metadata": {},
   "outputs": [
    {
     "data": {
      "text/plain": [
       "Index(['차종', '차량 구분', '거래 유형', '1월', '2월', '3월', '4월', '5월', '6월', '7월', '8월',\n",
       "       '9월', '10월', '11월', '12월', '연도'],\n",
       "      dtype='object')"
      ]
     },
     "execution_count": 100,
     "metadata": {},
     "output_type": "execute_result"
    }
   ],
   "source": [
    "# 기존 컬럼명과 변경할 컬럼명 매핑\n",
    "column_mapping = {\n",
    "    'Model':'차종',\n",
    "    'Vehicle Type': '차량 구분',\n",
    "    'Trade': '거래 유형',\n",
    "    'Year': '연도',  # 'Year' 컬럼이 존재하는 경우\n",
    "    'Jan': '1월',\n",
    "    'Feb': '2월',\n",
    "    'Mar': '3월',\n",
    "    'Apr': '4월',\n",
    "    'May': '5월',\n",
    "    'Jun': '6월',\n",
    "    'Jul': '7월',\n",
    "    'Aug': '8월',\n",
    "    'Sep': '9월',\n",
    "    'Oct': '10월',\n",
    "    'Nov': '11월',\n",
    "    'Dec': '12월'\n",
    "}\n",
    "\n",
    "# 컬럼명 변경\n",
    "df.columns = [column_mapping.get(col, col) for col in df.columns]\n",
    "\n",
    "# 변경된 컬럼명 확인\n",
    "df.columns\n"
   ]
  },
  {
   "cell_type": "code",
   "execution_count": 101,
   "metadata": {},
   "outputs": [
    {
     "data": {
      "application/vnd.microsoft.datawrangler.viewer.v0+json": {
       "columns": [
        {
         "name": "index",
         "rawType": "int64",
         "type": "integer"
        },
        {
         "name": "차종",
         "rawType": "object",
         "type": "string"
        },
        {
         "name": "차량 구분",
         "rawType": "object",
         "type": "string"
        },
        {
         "name": "거래 유형",
         "rawType": "object",
         "type": "string"
        },
        {
         "name": "1월",
         "rawType": "object",
         "type": "string"
        },
        {
         "name": "2월",
         "rawType": "object",
         "type": "string"
        },
        {
         "name": "3월",
         "rawType": "object",
         "type": "string"
        },
        {
         "name": "4월",
         "rawType": "object",
         "type": "string"
        },
        {
         "name": "5월",
         "rawType": "object",
         "type": "string"
        },
        {
         "name": "6월",
         "rawType": "object",
         "type": "string"
        },
        {
         "name": "7월",
         "rawType": "object",
         "type": "string"
        },
        {
         "name": "8월",
         "rawType": "object",
         "type": "string"
        },
        {
         "name": "9월",
         "rawType": "object",
         "type": "string"
        },
        {
         "name": "10월",
         "rawType": "object",
         "type": "string"
        },
        {
         "name": "11월",
         "rawType": "object",
         "type": "string"
        },
        {
         "name": "12월",
         "rawType": "object",
         "type": "string"
        },
        {
         "name": "연도",
         "rawType": "int64",
         "type": "integer"
        }
       ],
       "conversionMethod": "pd.DataFrame",
       "ref": "ff20e374-0e12-4acf-98ef-69599c199cf2",
       "rows": [
        [
         "0",
         " Morning",
         "Ordinary Vehicle",
         "Domestic",
         "1813.0",
         "2049.0",
         "2127.0",
         "2164.0",
         "2502.0",
         "2245.0",
         "2033.0",
         "2910.0",
         "1892.0",
         "2225.0",
         "2111.0",
         "1808.0",
         "2023"
        ],
        [
         "1",
         " Ray",
         "Ordinary Vehicle",
         "Domestic",
         "3585.0",
         "4268.0",
         "4155.0",
         "4158.0",
         "4576.0",
         "4372.0",
         "4285.0",
         "4402.0",
         "3464.0",
         "4824.0",
         "4587.0",
         "4254.0",
         "2023"
        ],
        [
         "2",
         " K3",
         "Ordinary Vehicle",
         "Domestic",
         "950.0",
         "1024.0",
         "1197.0",
         "670.0",
         "975.0",
         "1540.0",
         "976.0",
         "1123.0",
         "1036.0",
         "939.0",
         "1428.0",
         "1346.0",
         "2023"
        ],
        [
         "3",
         " K5",
         "Ordinary Vehicle",
         "Domestic",
         "2560.0",
         "2653.0",
         "3421.0",
         "2739.0",
         "3166.0",
         "2963.0",
         "2246.0",
         "2613.0",
         "2280.0",
         "2592.0",
         "3783.0",
         "3563.0",
         "2023"
        ],
        [
         "4",
         " Stinger",
         "Ordinary Vehicle",
         "Domestic",
         "113.0",
         "120.0",
         "143.0",
         "61.0",
         "45.0",
         "1.0",
         "0.0",
         "0.0",
         "0.0",
         "0.0",
         "0.0",
         "0.0",
         "2023"
        ]
       ],
       "shape": {
        "columns": 16,
        "rows": 5
       }
      },
      "text/html": [
       "<div>\n",
       "<style scoped>\n",
       "    .dataframe tbody tr th:only-of-type {\n",
       "        vertical-align: middle;\n",
       "    }\n",
       "\n",
       "    .dataframe tbody tr th {\n",
       "        vertical-align: top;\n",
       "    }\n",
       "\n",
       "    .dataframe thead th {\n",
       "        text-align: right;\n",
       "    }\n",
       "</style>\n",
       "<table border=\"1\" class=\"dataframe\">\n",
       "  <thead>\n",
       "    <tr style=\"text-align: right;\">\n",
       "      <th></th>\n",
       "      <th>차종</th>\n",
       "      <th>차량 구분</th>\n",
       "      <th>거래 유형</th>\n",
       "      <th>1월</th>\n",
       "      <th>2월</th>\n",
       "      <th>3월</th>\n",
       "      <th>4월</th>\n",
       "      <th>5월</th>\n",
       "      <th>6월</th>\n",
       "      <th>7월</th>\n",
       "      <th>8월</th>\n",
       "      <th>9월</th>\n",
       "      <th>10월</th>\n",
       "      <th>11월</th>\n",
       "      <th>12월</th>\n",
       "      <th>연도</th>\n",
       "    </tr>\n",
       "  </thead>\n",
       "  <tbody>\n",
       "    <tr>\n",
       "      <th>0</th>\n",
       "      <td>Morning</td>\n",
       "      <td>Ordinary Vehicle</td>\n",
       "      <td>Domestic</td>\n",
       "      <td>1813.0</td>\n",
       "      <td>2049.0</td>\n",
       "      <td>2127.0</td>\n",
       "      <td>2164.0</td>\n",
       "      <td>2502.0</td>\n",
       "      <td>2245.0</td>\n",
       "      <td>2033.0</td>\n",
       "      <td>2910.0</td>\n",
       "      <td>1892.0</td>\n",
       "      <td>2225.0</td>\n",
       "      <td>2111.0</td>\n",
       "      <td>1808.0</td>\n",
       "      <td>2023</td>\n",
       "    </tr>\n",
       "    <tr>\n",
       "      <th>1</th>\n",
       "      <td>Ray</td>\n",
       "      <td>Ordinary Vehicle</td>\n",
       "      <td>Domestic</td>\n",
       "      <td>3585.0</td>\n",
       "      <td>4268.0</td>\n",
       "      <td>4155.0</td>\n",
       "      <td>4158.0</td>\n",
       "      <td>4576.0</td>\n",
       "      <td>4372.0</td>\n",
       "      <td>4285.0</td>\n",
       "      <td>4402.0</td>\n",
       "      <td>3464.0</td>\n",
       "      <td>4824.0</td>\n",
       "      <td>4587.0</td>\n",
       "      <td>4254.0</td>\n",
       "      <td>2023</td>\n",
       "    </tr>\n",
       "    <tr>\n",
       "      <th>2</th>\n",
       "      <td>K3</td>\n",
       "      <td>Ordinary Vehicle</td>\n",
       "      <td>Domestic</td>\n",
       "      <td>950.0</td>\n",
       "      <td>1024.0</td>\n",
       "      <td>1197.0</td>\n",
       "      <td>670.0</td>\n",
       "      <td>975.0</td>\n",
       "      <td>1540.0</td>\n",
       "      <td>976.0</td>\n",
       "      <td>1123.0</td>\n",
       "      <td>1036.0</td>\n",
       "      <td>939.0</td>\n",
       "      <td>1428.0</td>\n",
       "      <td>1346.0</td>\n",
       "      <td>2023</td>\n",
       "    </tr>\n",
       "    <tr>\n",
       "      <th>3</th>\n",
       "      <td>K5</td>\n",
       "      <td>Ordinary Vehicle</td>\n",
       "      <td>Domestic</td>\n",
       "      <td>2560.0</td>\n",
       "      <td>2653.0</td>\n",
       "      <td>3421.0</td>\n",
       "      <td>2739.0</td>\n",
       "      <td>3166.0</td>\n",
       "      <td>2963.0</td>\n",
       "      <td>2246.0</td>\n",
       "      <td>2613.0</td>\n",
       "      <td>2280.0</td>\n",
       "      <td>2592.0</td>\n",
       "      <td>3783.0</td>\n",
       "      <td>3563.0</td>\n",
       "      <td>2023</td>\n",
       "    </tr>\n",
       "    <tr>\n",
       "      <th>4</th>\n",
       "      <td>Stinger</td>\n",
       "      <td>Ordinary Vehicle</td>\n",
       "      <td>Domestic</td>\n",
       "      <td>113.0</td>\n",
       "      <td>120.0</td>\n",
       "      <td>143.0</td>\n",
       "      <td>61.0</td>\n",
       "      <td>45.0</td>\n",
       "      <td>1.0</td>\n",
       "      <td>0.0</td>\n",
       "      <td>0.0</td>\n",
       "      <td>0.0</td>\n",
       "      <td>0.0</td>\n",
       "      <td>0.0</td>\n",
       "      <td>0.0</td>\n",
       "      <td>2023</td>\n",
       "    </tr>\n",
       "  </tbody>\n",
       "</table>\n",
       "</div>"
      ],
      "text/plain": [
       "         차종             차량 구분     거래 유형      1월      2월      3월      4월  \\\n",
       "0   Morning  Ordinary Vehicle  Domestic  1813.0  2049.0  2127.0  2164.0   \n",
       "1       Ray  Ordinary Vehicle  Domestic  3585.0  4268.0  4155.0  4158.0   \n",
       "2        K3  Ordinary Vehicle  Domestic   950.0  1024.0  1197.0   670.0   \n",
       "3        K5  Ordinary Vehicle  Domestic  2560.0  2653.0  3421.0  2739.0   \n",
       "4   Stinger  Ordinary Vehicle  Domestic   113.0   120.0   143.0    61.0   \n",
       "\n",
       "       5월      6월      7월      8월      9월     10월     11월     12월    연도  \n",
       "0  2502.0  2245.0  2033.0  2910.0  1892.0  2225.0  2111.0  1808.0  2023  \n",
       "1  4576.0  4372.0  4285.0  4402.0  3464.0  4824.0  4587.0  4254.0  2023  \n",
       "2   975.0  1540.0   976.0  1123.0  1036.0   939.0  1428.0  1346.0  2023  \n",
       "3  3166.0  2963.0  2246.0  2613.0  2280.0  2592.0  3783.0  3563.0  2023  \n",
       "4    45.0     1.0     0.0     0.0     0.0     0.0     0.0     0.0  2023  "
      ]
     },
     "execution_count": 101,
     "metadata": {},
     "output_type": "execute_result"
    }
   ],
   "source": [
    "df.head()"
   ]
  },
  {
   "cell_type": "code",
   "execution_count": 102,
   "metadata": {},
   "outputs": [
    {
     "data": {
      "text/plain": [
       "array(['Ordinary Vehicle', 'Special Vehicle'], dtype=object)"
      ]
     },
     "execution_count": 102,
     "metadata": {},
     "output_type": "execute_result"
    }
   ],
   "source": [
    "df['차량 구분'].unique()"
   ]
  },
  {
   "cell_type": "code",
   "execution_count": 103,
   "metadata": {},
   "outputs": [
    {
     "data": {
      "text/plain": [
       "array(['일반 차량', '특수 차량'], dtype=object)"
      ]
     },
     "execution_count": 103,
     "metadata": {},
     "output_type": "execute_result"
    }
   ],
   "source": [
    "# 기존 값과 변경할 값 매핑\n",
    "car_mapping = {\n",
    "    'Ordinary Vehicle': '일반 차량',\n",
    "    'Special Vehicle': '특수 차량',\n",
    "\n",
    "}\n",
    "\n",
    "# 'Car' 컬럼 데이터 변경\n",
    "df['차량 구분'] = df['차량 구분'].replace(car_mapping)\n",
    "\n",
    "# 변경된 데이터 확인\n",
    "df['차량 구분'].unique()"
   ]
  },
  {
   "cell_type": "code",
   "execution_count": 104,
   "metadata": {},
   "outputs": [
    {
     "data": {
      "text/plain": [
       "array(['Domestic', 'Export', 'Export(excl CKD)'], dtype=object)"
      ]
     },
     "execution_count": 104,
     "metadata": {},
     "output_type": "execute_result"
    }
   ],
   "source": [
    "df['거래 유형'].unique()"
   ]
  },
  {
   "cell_type": "code",
   "execution_count": 105,
   "metadata": {},
   "outputs": [
    {
     "data": {
      "text/plain": [
       "array(['국내', '수출', '수출(CKD 제외)'], dtype=object)"
      ]
     },
     "execution_count": 105,
     "metadata": {},
     "output_type": "execute_result"
    }
   ],
   "source": [
    "# 기존 값과 변경할 값 매핑\n",
    "car_mapping = {\n",
    "    'Domestic': '국내',\n",
    "    'Export': '수출',\n",
    "    'Export(excl CKD)': '수출(CKD 제외)'    \n",
    "\n",
    "}\n",
    "\n",
    "# 'Car' 컬럼 데이터 변경\n",
    "df['거래 유형'] = df['거래 유형'].replace(car_mapping)\n",
    "\n",
    "# 변경된 데이터 확인\n",
    "df['거래 유형'].unique()"
   ]
  },
  {
   "cell_type": "code",
   "execution_count": 106,
   "metadata": {},
   "outputs": [
    {
     "data": {
      "application/vnd.microsoft.datawrangler.viewer.v0+json": {
       "columns": [
        {
         "name": "index",
         "rawType": "int64",
         "type": "integer"
        },
        {
         "name": "차종",
         "rawType": "object",
         "type": "string"
        },
        {
         "name": "차량 구분",
         "rawType": "object",
         "type": "string"
        },
        {
         "name": "거래 유형",
         "rawType": "object",
         "type": "string"
        },
        {
         "name": "1월",
         "rawType": "object",
         "type": "string"
        },
        {
         "name": "2월",
         "rawType": "object",
         "type": "string"
        },
        {
         "name": "3월",
         "rawType": "object",
         "type": "string"
        },
        {
         "name": "4월",
         "rawType": "object",
         "type": "string"
        },
        {
         "name": "5월",
         "rawType": "object",
         "type": "string"
        },
        {
         "name": "6월",
         "rawType": "object",
         "type": "string"
        },
        {
         "name": "7월",
         "rawType": "object",
         "type": "string"
        },
        {
         "name": "8월",
         "rawType": "object",
         "type": "string"
        },
        {
         "name": "9월",
         "rawType": "object",
         "type": "string"
        },
        {
         "name": "10월",
         "rawType": "object",
         "type": "string"
        },
        {
         "name": "11월",
         "rawType": "object",
         "type": "string"
        },
        {
         "name": "12월",
         "rawType": "object",
         "type": "string"
        },
        {
         "name": "연도",
         "rawType": "int64",
         "type": "integer"
        }
       ],
       "conversionMethod": "pd.DataFrame",
       "ref": "65225776-aa74-42bc-85ff-23b0edf7d5ad",
       "rows": [
        [
         "0",
         " Morning",
         "일반 차량",
         "국내",
         "1813.0",
         "2049.0",
         "2127.0",
         "2164.0",
         "2502.0",
         "2245.0",
         "2033.0",
         "2910.0",
         "1892.0",
         "2225.0",
         "2111.0",
         "1808.0",
         "2023"
        ],
        [
         "1",
         " Ray",
         "일반 차량",
         "국내",
         "3585.0",
         "4268.0",
         "4155.0",
         "4158.0",
         "4576.0",
         "4372.0",
         "4285.0",
         "4402.0",
         "3464.0",
         "4824.0",
         "4587.0",
         "4254.0",
         "2023"
        ],
        [
         "2",
         " K3",
         "일반 차량",
         "국내",
         "950.0",
         "1024.0",
         "1197.0",
         "670.0",
         "975.0",
         "1540.0",
         "976.0",
         "1123.0",
         "1036.0",
         "939.0",
         "1428.0",
         "1346.0",
         "2023"
        ],
        [
         "3",
         " K5",
         "일반 차량",
         "국내",
         "2560.0",
         "2653.0",
         "3421.0",
         "2739.0",
         "3166.0",
         "2963.0",
         "2246.0",
         "2613.0",
         "2280.0",
         "2592.0",
         "3783.0",
         "3563.0",
         "2023"
        ],
        [
         "4",
         " Stinger",
         "일반 차량",
         "국내",
         "113.0",
         "120.0",
         "143.0",
         "61.0",
         "45.0",
         "1.0",
         "0.0",
         "0.0",
         "0.0",
         "0.0",
         "0.0",
         "0.0",
         "2023"
        ]
       ],
       "shape": {
        "columns": 16,
        "rows": 5
       }
      },
      "text/html": [
       "<div>\n",
       "<style scoped>\n",
       "    .dataframe tbody tr th:only-of-type {\n",
       "        vertical-align: middle;\n",
       "    }\n",
       "\n",
       "    .dataframe tbody tr th {\n",
       "        vertical-align: top;\n",
       "    }\n",
       "\n",
       "    .dataframe thead th {\n",
       "        text-align: right;\n",
       "    }\n",
       "</style>\n",
       "<table border=\"1\" class=\"dataframe\">\n",
       "  <thead>\n",
       "    <tr style=\"text-align: right;\">\n",
       "      <th></th>\n",
       "      <th>차종</th>\n",
       "      <th>차량 구분</th>\n",
       "      <th>거래 유형</th>\n",
       "      <th>1월</th>\n",
       "      <th>2월</th>\n",
       "      <th>3월</th>\n",
       "      <th>4월</th>\n",
       "      <th>5월</th>\n",
       "      <th>6월</th>\n",
       "      <th>7월</th>\n",
       "      <th>8월</th>\n",
       "      <th>9월</th>\n",
       "      <th>10월</th>\n",
       "      <th>11월</th>\n",
       "      <th>12월</th>\n",
       "      <th>연도</th>\n",
       "    </tr>\n",
       "  </thead>\n",
       "  <tbody>\n",
       "    <tr>\n",
       "      <th>0</th>\n",
       "      <td>Morning</td>\n",
       "      <td>일반 차량</td>\n",
       "      <td>국내</td>\n",
       "      <td>1813.0</td>\n",
       "      <td>2049.0</td>\n",
       "      <td>2127.0</td>\n",
       "      <td>2164.0</td>\n",
       "      <td>2502.0</td>\n",
       "      <td>2245.0</td>\n",
       "      <td>2033.0</td>\n",
       "      <td>2910.0</td>\n",
       "      <td>1892.0</td>\n",
       "      <td>2225.0</td>\n",
       "      <td>2111.0</td>\n",
       "      <td>1808.0</td>\n",
       "      <td>2023</td>\n",
       "    </tr>\n",
       "    <tr>\n",
       "      <th>1</th>\n",
       "      <td>Ray</td>\n",
       "      <td>일반 차량</td>\n",
       "      <td>국내</td>\n",
       "      <td>3585.0</td>\n",
       "      <td>4268.0</td>\n",
       "      <td>4155.0</td>\n",
       "      <td>4158.0</td>\n",
       "      <td>4576.0</td>\n",
       "      <td>4372.0</td>\n",
       "      <td>4285.0</td>\n",
       "      <td>4402.0</td>\n",
       "      <td>3464.0</td>\n",
       "      <td>4824.0</td>\n",
       "      <td>4587.0</td>\n",
       "      <td>4254.0</td>\n",
       "      <td>2023</td>\n",
       "    </tr>\n",
       "    <tr>\n",
       "      <th>2</th>\n",
       "      <td>K3</td>\n",
       "      <td>일반 차량</td>\n",
       "      <td>국내</td>\n",
       "      <td>950.0</td>\n",
       "      <td>1024.0</td>\n",
       "      <td>1197.0</td>\n",
       "      <td>670.0</td>\n",
       "      <td>975.0</td>\n",
       "      <td>1540.0</td>\n",
       "      <td>976.0</td>\n",
       "      <td>1123.0</td>\n",
       "      <td>1036.0</td>\n",
       "      <td>939.0</td>\n",
       "      <td>1428.0</td>\n",
       "      <td>1346.0</td>\n",
       "      <td>2023</td>\n",
       "    </tr>\n",
       "    <tr>\n",
       "      <th>3</th>\n",
       "      <td>K5</td>\n",
       "      <td>일반 차량</td>\n",
       "      <td>국내</td>\n",
       "      <td>2560.0</td>\n",
       "      <td>2653.0</td>\n",
       "      <td>3421.0</td>\n",
       "      <td>2739.0</td>\n",
       "      <td>3166.0</td>\n",
       "      <td>2963.0</td>\n",
       "      <td>2246.0</td>\n",
       "      <td>2613.0</td>\n",
       "      <td>2280.0</td>\n",
       "      <td>2592.0</td>\n",
       "      <td>3783.0</td>\n",
       "      <td>3563.0</td>\n",
       "      <td>2023</td>\n",
       "    </tr>\n",
       "    <tr>\n",
       "      <th>4</th>\n",
       "      <td>Stinger</td>\n",
       "      <td>일반 차량</td>\n",
       "      <td>국내</td>\n",
       "      <td>113.0</td>\n",
       "      <td>120.0</td>\n",
       "      <td>143.0</td>\n",
       "      <td>61.0</td>\n",
       "      <td>45.0</td>\n",
       "      <td>1.0</td>\n",
       "      <td>0.0</td>\n",
       "      <td>0.0</td>\n",
       "      <td>0.0</td>\n",
       "      <td>0.0</td>\n",
       "      <td>0.0</td>\n",
       "      <td>0.0</td>\n",
       "      <td>2023</td>\n",
       "    </tr>\n",
       "  </tbody>\n",
       "</table>\n",
       "</div>"
      ],
      "text/plain": [
       "         차종  차량 구분 거래 유형      1월      2월      3월      4월      5월      6월  \\\n",
       "0   Morning  일반 차량    국내  1813.0  2049.0  2127.0  2164.0  2502.0  2245.0   \n",
       "1       Ray  일반 차량    국내  3585.0  4268.0  4155.0  4158.0  4576.0  4372.0   \n",
       "2        K3  일반 차량    국내   950.0  1024.0  1197.0   670.0   975.0  1540.0   \n",
       "3        K5  일반 차량    국내  2560.0  2653.0  3421.0  2739.0  3166.0  2963.0   \n",
       "4   Stinger  일반 차량    국내   113.0   120.0   143.0    61.0    45.0     1.0   \n",
       "\n",
       "       7월      8월      9월     10월     11월     12월    연도  \n",
       "0  2033.0  2910.0  1892.0  2225.0  2111.0  1808.0  2023  \n",
       "1  4285.0  4402.0  3464.0  4824.0  4587.0  4254.0  2023  \n",
       "2   976.0  1123.0  1036.0   939.0  1428.0  1346.0  2023  \n",
       "3  2246.0  2613.0  2280.0  2592.0  3783.0  3563.0  2023  \n",
       "4     0.0     0.0     0.0     0.0     0.0     0.0  2023  "
      ]
     },
     "execution_count": 106,
     "metadata": {},
     "output_type": "execute_result"
    }
   ],
   "source": [
    "df.head()"
   ]
  },
  {
   "cell_type": "code",
   "execution_count": 117,
   "metadata": {},
   "outputs": [
    {
     "data": {
      "text/plain": [
       "차종        0\n",
       "차량 구분     0\n",
       "거래 유형     0\n",
       "1월       13\n",
       "2월       65\n",
       "3월       65\n",
       "4월       66\n",
       "5월       67\n",
       "6월       64\n",
       "7월       68\n",
       "8월       68\n",
       "9월       69\n",
       "10월      68\n",
       "11월      69\n",
       "12월      66\n",
       "연도        0\n",
       "dtype: int64"
      ]
     },
     "execution_count": 117,
     "metadata": {},
     "output_type": "execute_result"
    }
   ],
   "source": [
    "df.isna().sum()"
   ]
  },
  {
   "cell_type": "code",
   "execution_count": 118,
   "metadata": {},
   "outputs": [],
   "source": [
    "df.fillna(0, inplace=True)"
   ]
  },
  {
   "cell_type": "code",
   "execution_count": 120,
   "metadata": {},
   "outputs": [
    {
     "data": {
      "text/plain": [
       "차종       0\n",
       "차량 구분    0\n",
       "거래 유형    0\n",
       "1월       0\n",
       "2월       0\n",
       "3월       0\n",
       "4월       0\n",
       "5월       0\n",
       "6월       0\n",
       "7월       0\n",
       "8월       0\n",
       "9월       0\n",
       "10월      0\n",
       "11월      0\n",
       "12월      0\n",
       "연도       0\n",
       "dtype: int64"
      ]
     },
     "execution_count": 120,
     "metadata": {},
     "output_type": "execute_result"
    }
   ],
   "source": [
    "df.isna().sum()"
   ]
  },
  {
   "cell_type": "code",
   "execution_count": 121,
   "metadata": {},
   "outputs": [],
   "source": [
    "df.to_csv(\"차종별판매실적_전처리.CSV\", index=False)"
   ]
  },
  {
   "cell_type": "code",
   "execution_count": 348,
   "metadata": {},
   "outputs": [],
   "source": [
    "# 데이터 불러오기\n",
    "df_2023 = pd.read_csv(\"해외공장판매실적_2023.CSV\")\n",
    "df_2024= pd.read_csv(\"해외공장판매실적_2024.CSV\")\n",
    "df_2025= pd.read_csv(\"해외공장판매실적_2025.CSV\")"
   ]
  },
  {
   "cell_type": "code",
   "execution_count": 349,
   "metadata": {},
   "outputs": [
    {
     "data": {
      "application/vnd.microsoft.datawrangler.viewer.v0+json": {
       "columns": [
        {
         "name": "index",
         "rawType": "int64",
         "type": "integer"
        },
        {
         "name": "Plant",
         "rawType": "object",
         "type": "string"
        },
        {
         "name": "Plant Code",
         "rawType": "object",
         "type": "string"
        },
        {
         "name": "Model",
         "rawType": "object",
         "type": "string"
        },
        {
         "name": "Jan",
         "rawType": "int64",
         "type": "integer"
        },
        {
         "name": "Feb",
         "rawType": "int64",
         "type": "integer"
        },
        {
         "name": "Mar",
         "rawType": "int64",
         "type": "integer"
        },
        {
         "name": "Apr",
         "rawType": "int64",
         "type": "integer"
        },
        {
         "name": "May",
         "rawType": "float64",
         "type": "float"
        },
        {
         "name": "Jun",
         "rawType": "float64",
         "type": "float"
        },
        {
         "name": "Jul",
         "rawType": "float64",
         "type": "float"
        },
        {
         "name": "Aug",
         "rawType": "float64",
         "type": "float"
        },
        {
         "name": "Sep",
         "rawType": "float64",
         "type": "float"
        },
        {
         "name": "Oct",
         "rawType": "float64",
         "type": "float"
        },
        {
         "name": "Nov",
         "rawType": "float64",
         "type": "float"
        },
        {
         "name": "Dec",
         "rawType": "float64",
         "type": "float"
        }
       ],
       "conversionMethod": "pd.DataFrame",
       "ref": "267feecf-54e2-4ccb-b143-d10e6afccf3b",
       "rows": [
        [
         "0",
         "US Plant",
         "KaGA",
         "Optima / K5",
         "5701",
         "6150",
         "6635",
         "5652",
         "6396.0",
         "5050.0",
         "4771.0",
         "6853.0",
         "6150.0",
         "6550.0",
         "5900.0",
         "3445.0"
        ],
        [
         "1",
         "US Plant",
         "KaGA",
         "Sportage",
         "6400",
         "7950",
         "9129",
         "7358",
         "8424.0",
         "6142.0",
         "5900.0",
         "8450.0",
         "7350.0",
         "8150.0",
         "7600.0",
         "6150.0"
        ],
        [
         "2",
         "US Plant",
         "KaGA",
         "Sorento",
         "6795",
         "5330",
         "5385",
         "6184",
         "7368.0",
         "6416.0",
         "5513.0",
         "7491.0",
         "6602.0",
         "7097.0",
         "6100.0",
         "4825.0"
        ],
        [
         "3",
         "US Plant",
         "KaGA",
         "Telluride",
         "9704",
         "10400",
         "11851",
         "10206",
         "11212.0",
         "8792.0",
         "8216.0",
         "12313.0",
         "10698.0",
         "11903.0",
         "10300.0",
         "7850.0"
        ],
        [
         "4",
         "China Plant",
         "DYK",
         "Pegas",
         "3320",
         "3436",
         "3504",
         "3465",
         "3710.0",
         "3548.0",
         "3572.0",
         "5866.0",
         "7042.0",
         "4121.0",
         "5645.0",
         "4495.0"
        ]
       ],
       "shape": {
        "columns": 15,
        "rows": 5
       }
      },
      "text/html": [
       "<div>\n",
       "<style scoped>\n",
       "    .dataframe tbody tr th:only-of-type {\n",
       "        vertical-align: middle;\n",
       "    }\n",
       "\n",
       "    .dataframe tbody tr th {\n",
       "        vertical-align: top;\n",
       "    }\n",
       "\n",
       "    .dataframe thead th {\n",
       "        text-align: right;\n",
       "    }\n",
       "</style>\n",
       "<table border=\"1\" class=\"dataframe\">\n",
       "  <thead>\n",
       "    <tr style=\"text-align: right;\">\n",
       "      <th></th>\n",
       "      <th>Plant</th>\n",
       "      <th>Plant Code</th>\n",
       "      <th>Model</th>\n",
       "      <th>Jan</th>\n",
       "      <th>Feb</th>\n",
       "      <th>Mar</th>\n",
       "      <th>Apr</th>\n",
       "      <th>May</th>\n",
       "      <th>Jun</th>\n",
       "      <th>Jul</th>\n",
       "      <th>Aug</th>\n",
       "      <th>Sep</th>\n",
       "      <th>Oct</th>\n",
       "      <th>Nov</th>\n",
       "      <th>Dec</th>\n",
       "    </tr>\n",
       "  </thead>\n",
       "  <tbody>\n",
       "    <tr>\n",
       "      <th>0</th>\n",
       "      <td>US Plant</td>\n",
       "      <td>KaGA</td>\n",
       "      <td>Optima / K5</td>\n",
       "      <td>5701</td>\n",
       "      <td>6150</td>\n",
       "      <td>6635</td>\n",
       "      <td>5652</td>\n",
       "      <td>6396.0</td>\n",
       "      <td>5050.0</td>\n",
       "      <td>4771.0</td>\n",
       "      <td>6853.0</td>\n",
       "      <td>6150.0</td>\n",
       "      <td>6550.0</td>\n",
       "      <td>5900.0</td>\n",
       "      <td>3445.0</td>\n",
       "    </tr>\n",
       "    <tr>\n",
       "      <th>1</th>\n",
       "      <td>US Plant</td>\n",
       "      <td>KaGA</td>\n",
       "      <td>Sportage</td>\n",
       "      <td>6400</td>\n",
       "      <td>7950</td>\n",
       "      <td>9129</td>\n",
       "      <td>7358</td>\n",
       "      <td>8424.0</td>\n",
       "      <td>6142.0</td>\n",
       "      <td>5900.0</td>\n",
       "      <td>8450.0</td>\n",
       "      <td>7350.0</td>\n",
       "      <td>8150.0</td>\n",
       "      <td>7600.0</td>\n",
       "      <td>6150.0</td>\n",
       "    </tr>\n",
       "    <tr>\n",
       "      <th>2</th>\n",
       "      <td>US Plant</td>\n",
       "      <td>KaGA</td>\n",
       "      <td>Sorento</td>\n",
       "      <td>6795</td>\n",
       "      <td>5330</td>\n",
       "      <td>5385</td>\n",
       "      <td>6184</td>\n",
       "      <td>7368.0</td>\n",
       "      <td>6416.0</td>\n",
       "      <td>5513.0</td>\n",
       "      <td>7491.0</td>\n",
       "      <td>6602.0</td>\n",
       "      <td>7097.0</td>\n",
       "      <td>6100.0</td>\n",
       "      <td>4825.0</td>\n",
       "    </tr>\n",
       "    <tr>\n",
       "      <th>3</th>\n",
       "      <td>US Plant</td>\n",
       "      <td>KaGA</td>\n",
       "      <td>Telluride</td>\n",
       "      <td>9704</td>\n",
       "      <td>10400</td>\n",
       "      <td>11851</td>\n",
       "      <td>10206</td>\n",
       "      <td>11212.0</td>\n",
       "      <td>8792.0</td>\n",
       "      <td>8216.0</td>\n",
       "      <td>12313.0</td>\n",
       "      <td>10698.0</td>\n",
       "      <td>11903.0</td>\n",
       "      <td>10300.0</td>\n",
       "      <td>7850.0</td>\n",
       "    </tr>\n",
       "    <tr>\n",
       "      <th>4</th>\n",
       "      <td>China Plant</td>\n",
       "      <td>DYK</td>\n",
       "      <td>Pegas</td>\n",
       "      <td>3320</td>\n",
       "      <td>3436</td>\n",
       "      <td>3504</td>\n",
       "      <td>3465</td>\n",
       "      <td>3710.0</td>\n",
       "      <td>3548.0</td>\n",
       "      <td>3572.0</td>\n",
       "      <td>5866.0</td>\n",
       "      <td>7042.0</td>\n",
       "      <td>4121.0</td>\n",
       "      <td>5645.0</td>\n",
       "      <td>4495.0</td>\n",
       "    </tr>\n",
       "  </tbody>\n",
       "</table>\n",
       "</div>"
      ],
      "text/plain": [
       "         Plant Plant Code        Model   Jan    Feb    Mar    Apr      May  \\\n",
       "0     US Plant       KaGA  Optima / K5  5701   6150   6635   5652   6396.0   \n",
       "1     US Plant       KaGA     Sportage  6400   7950   9129   7358   8424.0   \n",
       "2     US Plant       KaGA      Sorento  6795   5330   5385   6184   7368.0   \n",
       "3     US Plant       KaGA    Telluride  9704  10400  11851  10206  11212.0   \n",
       "4  China Plant        DYK        Pegas  3320   3436   3504   3465   3710.0   \n",
       "\n",
       "      Jun     Jul      Aug      Sep      Oct      Nov     Dec  \n",
       "0  5050.0  4771.0   6853.0   6150.0   6550.0   5900.0  3445.0  \n",
       "1  6142.0  5900.0   8450.0   7350.0   8150.0   7600.0  6150.0  \n",
       "2  6416.0  5513.0   7491.0   6602.0   7097.0   6100.0  4825.0  \n",
       "3  8792.0  8216.0  12313.0  10698.0  11903.0  10300.0  7850.0  \n",
       "4  3548.0  3572.0   5866.0   7042.0   4121.0   5645.0  4495.0  "
      ]
     },
     "execution_count": 349,
     "metadata": {},
     "output_type": "execute_result"
    }
   ],
   "source": [
    "df_2023.head()"
   ]
  },
  {
   "cell_type": "code",
   "execution_count": 350,
   "metadata": {},
   "outputs": [],
   "source": [
    "df_2023[\"연도\"] = 2023"
   ]
  },
  {
   "cell_type": "code",
   "execution_count": 351,
   "metadata": {},
   "outputs": [
    {
     "data": {
      "application/vnd.microsoft.datawrangler.viewer.v0+json": {
       "columns": [
        {
         "name": "index",
         "rawType": "int64",
         "type": "integer"
        },
        {
         "name": "Plant",
         "rawType": "object",
         "type": "string"
        },
        {
         "name": "Plant Code",
         "rawType": "object",
         "type": "string"
        },
        {
         "name": "Model",
         "rawType": "object",
         "type": "string"
        },
        {
         "name": "Jan",
         "rawType": "object",
         "type": "unknown"
        },
        {
         "name": "Feb",
         "rawType": "object",
         "type": "unknown"
        },
        {
         "name": "Mar",
         "rawType": "object",
         "type": "unknown"
        },
        {
         "name": "Apr",
         "rawType": "object",
         "type": "unknown"
        },
        {
         "name": "May",
         "rawType": "object",
         "type": "unknown"
        },
        {
         "name": "Jun",
         "rawType": "object",
         "type": "unknown"
        },
        {
         "name": "Jul",
         "rawType": "object",
         "type": "unknown"
        },
        {
         "name": "Aug",
         "rawType": "object",
         "type": "string"
        },
        {
         "name": "Sep",
         "rawType": "object",
         "type": "unknown"
        },
        {
         "name": "Oct",
         "rawType": "object",
         "type": "unknown"
        },
        {
         "name": "Nov",
         "rawType": "object",
         "type": "unknown"
        },
        {
         "name": "Dec",
         "rawType": "object",
         "type": "unknown"
        }
       ],
       "conversionMethod": "pd.DataFrame",
       "ref": "70a0d052-a44d-47c4-b52b-808a5192f721",
       "rows": [
        [
         "0",
         "US Plant",
         "KaGA",
         "K5",
         "1,286",
         "30",
         "4",
         "15",
         "2",
         "0",
         "0",
         "0",
         null,
         null,
         null,
         null
        ],
        [
         "1",
         "US Plant",
         "KaGA",
         "Sportage",
         "8,100",
         "9,920",
         "9,546",
         "10,735",
         "10,048",
         "9,300",
         "8,800",
         "11,520",
         "10,350",
         "11,150",
         "9,000",
         "6,720"
        ],
        [
         "2",
         "US Plant",
         "KaGA",
         "Sorento",
         "6,442",
         "9,849",
         "10,049",
         "10,150",
         "10,449",
         "8,650",
         "8,249",
         "9,380",
         "9,237",
         "10,520",
         "7,972",
         "4,718"
        ],
        [
         "3",
         "US Plant",
         "KaGA",
         "Telluride",
         "9,172",
         "10,901",
         "10,401",
         "11,500",
         "11,401",
         "10,050",
         "9,851",
         "12,190",
         "11,302",
         "12,300",
         "10,118",
         "8,192"
        ],
        [
         "4",
         "US Plant",
         "KaGA",
         "EV9",
         null,
         null,
         null,
         null,
         null,
         null,
         null,
         "10",
         "11",
         "130",
         "1,210",
         "1,170"
        ]
       ],
       "shape": {
        "columns": 15,
        "rows": 5
       }
      },
      "text/html": [
       "<div>\n",
       "<style scoped>\n",
       "    .dataframe tbody tr th:only-of-type {\n",
       "        vertical-align: middle;\n",
       "    }\n",
       "\n",
       "    .dataframe tbody tr th {\n",
       "        vertical-align: top;\n",
       "    }\n",
       "\n",
       "    .dataframe thead th {\n",
       "        text-align: right;\n",
       "    }\n",
       "</style>\n",
       "<table border=\"1\" class=\"dataframe\">\n",
       "  <thead>\n",
       "    <tr style=\"text-align: right;\">\n",
       "      <th></th>\n",
       "      <th>Plant</th>\n",
       "      <th>Plant Code</th>\n",
       "      <th>Model</th>\n",
       "      <th>Jan</th>\n",
       "      <th>Feb</th>\n",
       "      <th>Mar</th>\n",
       "      <th>Apr</th>\n",
       "      <th>May</th>\n",
       "      <th>Jun</th>\n",
       "      <th>Jul</th>\n",
       "      <th>Aug</th>\n",
       "      <th>Sep</th>\n",
       "      <th>Oct</th>\n",
       "      <th>Nov</th>\n",
       "      <th>Dec</th>\n",
       "    </tr>\n",
       "  </thead>\n",
       "  <tbody>\n",
       "    <tr>\n",
       "      <th>0</th>\n",
       "      <td>US Plant</td>\n",
       "      <td>KaGA</td>\n",
       "      <td>K5</td>\n",
       "      <td>1,286</td>\n",
       "      <td>30</td>\n",
       "      <td>4</td>\n",
       "      <td>15</td>\n",
       "      <td>2</td>\n",
       "      <td>0</td>\n",
       "      <td>0</td>\n",
       "      <td>0</td>\n",
       "      <td>NaN</td>\n",
       "      <td>NaN</td>\n",
       "      <td>NaN</td>\n",
       "      <td>NaN</td>\n",
       "    </tr>\n",
       "    <tr>\n",
       "      <th>1</th>\n",
       "      <td>US Plant</td>\n",
       "      <td>KaGA</td>\n",
       "      <td>Sportage</td>\n",
       "      <td>8,100</td>\n",
       "      <td>9,920</td>\n",
       "      <td>9,546</td>\n",
       "      <td>10,735</td>\n",
       "      <td>10,048</td>\n",
       "      <td>9,300</td>\n",
       "      <td>8,800</td>\n",
       "      <td>11,520</td>\n",
       "      <td>10,350</td>\n",
       "      <td>11,150</td>\n",
       "      <td>9,000</td>\n",
       "      <td>6,720</td>\n",
       "    </tr>\n",
       "    <tr>\n",
       "      <th>2</th>\n",
       "      <td>US Plant</td>\n",
       "      <td>KaGA</td>\n",
       "      <td>Sorento</td>\n",
       "      <td>6,442</td>\n",
       "      <td>9,849</td>\n",
       "      <td>10,049</td>\n",
       "      <td>10,150</td>\n",
       "      <td>10,449</td>\n",
       "      <td>8,650</td>\n",
       "      <td>8,249</td>\n",
       "      <td>9,380</td>\n",
       "      <td>9,237</td>\n",
       "      <td>10,520</td>\n",
       "      <td>7,972</td>\n",
       "      <td>4,718</td>\n",
       "    </tr>\n",
       "    <tr>\n",
       "      <th>3</th>\n",
       "      <td>US Plant</td>\n",
       "      <td>KaGA</td>\n",
       "      <td>Telluride</td>\n",
       "      <td>9,172</td>\n",
       "      <td>10,901</td>\n",
       "      <td>10,401</td>\n",
       "      <td>11,500</td>\n",
       "      <td>11,401</td>\n",
       "      <td>10,050</td>\n",
       "      <td>9,851</td>\n",
       "      <td>12,190</td>\n",
       "      <td>11,302</td>\n",
       "      <td>12,300</td>\n",
       "      <td>10,118</td>\n",
       "      <td>8,192</td>\n",
       "    </tr>\n",
       "    <tr>\n",
       "      <th>4</th>\n",
       "      <td>US Plant</td>\n",
       "      <td>KaGA</td>\n",
       "      <td>EV9</td>\n",
       "      <td>NaN</td>\n",
       "      <td>NaN</td>\n",
       "      <td>NaN</td>\n",
       "      <td>NaN</td>\n",
       "      <td>NaN</td>\n",
       "      <td>NaN</td>\n",
       "      <td>NaN</td>\n",
       "      <td>10</td>\n",
       "      <td>11</td>\n",
       "      <td>130</td>\n",
       "      <td>1,210</td>\n",
       "      <td>1,170</td>\n",
       "    </tr>\n",
       "  </tbody>\n",
       "</table>\n",
       "</div>"
      ],
      "text/plain": [
       "      Plant Plant Code      Model    Jan     Feb     Mar     Apr     May  \\\n",
       "0  US Plant       KaGA         K5  1,286      30       4      15       2   \n",
       "1  US Plant       KaGA   Sportage  8,100   9,920   9,546  10,735  10,048   \n",
       "2  US Plant       KaGA    Sorento  6,442   9,849  10,049  10,150  10,449   \n",
       "3  US Plant       KaGA  Telluride  9,172  10,901  10,401  11,500  11,401   \n",
       "4  US Plant       KaGA        EV9    NaN     NaN     NaN     NaN     NaN   \n",
       "\n",
       "      Jun    Jul     Aug     Sep     Oct     Nov    Dec  \n",
       "0       0      0       0     NaN     NaN     NaN    NaN  \n",
       "1   9,300  8,800  11,520  10,350  11,150   9,000  6,720  \n",
       "2   8,650  8,249   9,380   9,237  10,520   7,972  4,718  \n",
       "3  10,050  9,851  12,190  11,302  12,300  10,118  8,192  \n",
       "4     NaN    NaN      10      11     130   1,210  1,170  "
      ]
     },
     "execution_count": 351,
     "metadata": {},
     "output_type": "execute_result"
    }
   ],
   "source": [
    "df_2024.head()"
   ]
  },
  {
   "cell_type": "code",
   "execution_count": 352,
   "metadata": {},
   "outputs": [
    {
     "data": {
      "text/plain": [
       "array(['US Plant', 'China Plants', 'Slovakia Plant', 'Mexico Plant',\n",
       "       'India Plant'], dtype=object)"
      ]
     },
     "execution_count": 352,
     "metadata": {},
     "output_type": "execute_result"
    }
   ],
   "source": [
    "df_2024['Plant'].unique()"
   ]
  },
  {
   "cell_type": "code",
   "execution_count": 353,
   "metadata": {},
   "outputs": [
    {
     "data": {
      "text/plain": [
       "array(['KaGA', 'DYK', 'KaSK', 'KMX', 'KIN'], dtype=object)"
      ]
     },
     "execution_count": 353,
     "metadata": {},
     "output_type": "execute_result"
    }
   ],
   "source": [
    "df_2024['Plant Code'].unique()"
   ]
  },
  {
   "cell_type": "code",
   "execution_count": 354,
   "metadata": {},
   "outputs": [],
   "source": [
    "df_2024[\"연도\"] = 2024"
   ]
  },
  {
   "cell_type": "code",
   "execution_count": 355,
   "metadata": {},
   "outputs": [
    {
     "data": {
      "text/plain": [
       "Index(['Plant', 'Plant Code', 'Model', 'Jan', 'Feb', 'Mar', 'Apr', 'May',\n",
       "       'Jun', 'Jul', 'Aug', 'Sep', 'Oct', 'Nov', 'Dec', '연도'],\n",
       "      dtype='object')"
      ]
     },
     "execution_count": 355,
     "metadata": {},
     "output_type": "execute_result"
    }
   ],
   "source": [
    "df_2024.columns"
   ]
  },
  {
   "cell_type": "code",
   "execution_count": 356,
   "metadata": {},
   "outputs": [
    {
     "data": {
      "application/vnd.microsoft.datawrangler.viewer.v0+json": {
       "columns": [
        {
         "name": "index",
         "rawType": "int64",
         "type": "integer"
        },
        {
         "name": "model",
         "rawType": "object",
         "type": "string"
        },
        {
         "name": "path",
         "rawType": "object",
         "type": "string"
        },
        {
         "name": "month",
         "rawType": "object",
         "type": "string"
        },
        {
         "name": "Jan",
         "rawType": "object",
         "type": "unknown"
        },
        {
         "name": "Feb",
         "rawType": "int64",
         "type": "integer"
        },
        {
         "name": "Mar",
         "rawType": "int64",
         "type": "integer"
        },
        {
         "name": "Apr",
         "rawType": "int64",
         "type": "integer"
        },
        {
         "name": "May",
         "rawType": "int64",
         "type": "integer"
        },
        {
         "name": "Jun",
         "rawType": "int64",
         "type": "integer"
        },
        {
         "name": "Jul",
         "rawType": "int64",
         "type": "integer"
        },
        {
         "name": "Aug",
         "rawType": "int64",
         "type": "integer"
        },
        {
         "name": "Sep",
         "rawType": "int64",
         "type": "integer"
        },
        {
         "name": "Oct",
         "rawType": "int64",
         "type": "integer"
        },
        {
         "name": "Nov",
         "rawType": "int64",
         "type": "integer"
        },
        {
         "name": "Dec",
         "rawType": "int64",
         "type": "integer"
        }
       ],
       "conversionMethod": "pd.DataFrame",
       "ref": "ca065309-8a0a-4929-8891-31d9e837efb4",
       "rows": [
        [
         "0",
         "K5",
         "US Plant",
         "Jan",
         null,
         "0",
         "0",
         "0",
         "0",
         "0",
         "0",
         "0",
         "0",
         "0",
         "0",
         "0"
        ],
        [
         "1",
         "Sportage",
         "US Plant",
         "Jan",
         "9,247",
         "0",
         "0",
         "0",
         "0",
         "0",
         "0",
         "0",
         "0",
         "0",
         "0",
         "0"
        ],
        [
         "2",
         "Sorento",
         "US Plant",
         "Jan",
         "8,300",
         "0",
         "0",
         "0",
         "0",
         "0",
         "0",
         "0",
         "0",
         "0",
         "0",
         "0"
        ],
        [
         "3",
         "Telluride",
         "US Plant",
         "Jan",
         "10,350",
         "0",
         "0",
         "0",
         "0",
         "0",
         "0",
         "0",
         "0",
         "0",
         "0",
         "0"
        ],
        [
         "4",
         "EV6",
         "US Plant",
         "Jan",
         "103",
         "0",
         "0",
         "0",
         "0",
         "0",
         "0",
         "0",
         "0",
         "0",
         "0",
         "0"
        ]
       ],
       "shape": {
        "columns": 15,
        "rows": 5
       }
      },
      "text/html": [
       "<div>\n",
       "<style scoped>\n",
       "    .dataframe tbody tr th:only-of-type {\n",
       "        vertical-align: middle;\n",
       "    }\n",
       "\n",
       "    .dataframe tbody tr th {\n",
       "        vertical-align: top;\n",
       "    }\n",
       "\n",
       "    .dataframe thead th {\n",
       "        text-align: right;\n",
       "    }\n",
       "</style>\n",
       "<table border=\"1\" class=\"dataframe\">\n",
       "  <thead>\n",
       "    <tr style=\"text-align: right;\">\n",
       "      <th></th>\n",
       "      <th>model</th>\n",
       "      <th>path</th>\n",
       "      <th>month</th>\n",
       "      <th>Jan</th>\n",
       "      <th>Feb</th>\n",
       "      <th>Mar</th>\n",
       "      <th>Apr</th>\n",
       "      <th>May</th>\n",
       "      <th>Jun</th>\n",
       "      <th>Jul</th>\n",
       "      <th>Aug</th>\n",
       "      <th>Sep</th>\n",
       "      <th>Oct</th>\n",
       "      <th>Nov</th>\n",
       "      <th>Dec</th>\n",
       "    </tr>\n",
       "  </thead>\n",
       "  <tbody>\n",
       "    <tr>\n",
       "      <th>0</th>\n",
       "      <td>K5</td>\n",
       "      <td>US Plant</td>\n",
       "      <td>Jan</td>\n",
       "      <td>NaN</td>\n",
       "      <td>0</td>\n",
       "      <td>0</td>\n",
       "      <td>0</td>\n",
       "      <td>0</td>\n",
       "      <td>0</td>\n",
       "      <td>0</td>\n",
       "      <td>0</td>\n",
       "      <td>0</td>\n",
       "      <td>0</td>\n",
       "      <td>0</td>\n",
       "      <td>0</td>\n",
       "    </tr>\n",
       "    <tr>\n",
       "      <th>1</th>\n",
       "      <td>Sportage</td>\n",
       "      <td>US Plant</td>\n",
       "      <td>Jan</td>\n",
       "      <td>9,247</td>\n",
       "      <td>0</td>\n",
       "      <td>0</td>\n",
       "      <td>0</td>\n",
       "      <td>0</td>\n",
       "      <td>0</td>\n",
       "      <td>0</td>\n",
       "      <td>0</td>\n",
       "      <td>0</td>\n",
       "      <td>0</td>\n",
       "      <td>0</td>\n",
       "      <td>0</td>\n",
       "    </tr>\n",
       "    <tr>\n",
       "      <th>2</th>\n",
       "      <td>Sorento</td>\n",
       "      <td>US Plant</td>\n",
       "      <td>Jan</td>\n",
       "      <td>8,300</td>\n",
       "      <td>0</td>\n",
       "      <td>0</td>\n",
       "      <td>0</td>\n",
       "      <td>0</td>\n",
       "      <td>0</td>\n",
       "      <td>0</td>\n",
       "      <td>0</td>\n",
       "      <td>0</td>\n",
       "      <td>0</td>\n",
       "      <td>0</td>\n",
       "      <td>0</td>\n",
       "    </tr>\n",
       "    <tr>\n",
       "      <th>3</th>\n",
       "      <td>Telluride</td>\n",
       "      <td>US Plant</td>\n",
       "      <td>Jan</td>\n",
       "      <td>10,350</td>\n",
       "      <td>0</td>\n",
       "      <td>0</td>\n",
       "      <td>0</td>\n",
       "      <td>0</td>\n",
       "      <td>0</td>\n",
       "      <td>0</td>\n",
       "      <td>0</td>\n",
       "      <td>0</td>\n",
       "      <td>0</td>\n",
       "      <td>0</td>\n",
       "      <td>0</td>\n",
       "    </tr>\n",
       "    <tr>\n",
       "      <th>4</th>\n",
       "      <td>EV6</td>\n",
       "      <td>US Plant</td>\n",
       "      <td>Jan</td>\n",
       "      <td>103</td>\n",
       "      <td>0</td>\n",
       "      <td>0</td>\n",
       "      <td>0</td>\n",
       "      <td>0</td>\n",
       "      <td>0</td>\n",
       "      <td>0</td>\n",
       "      <td>0</td>\n",
       "      <td>0</td>\n",
       "      <td>0</td>\n",
       "      <td>0</td>\n",
       "      <td>0</td>\n",
       "    </tr>\n",
       "  </tbody>\n",
       "</table>\n",
       "</div>"
      ],
      "text/plain": [
       "       model      path month     Jan  Feb  Mar  Apr  May  Jun  Jul  Aug  Sep  \\\n",
       "0         K5  US Plant   Jan     NaN    0    0    0    0    0    0    0    0   \n",
       "1   Sportage  US Plant   Jan   9,247    0    0    0    0    0    0    0    0   \n",
       "2    Sorento  US Plant   Jan   8,300    0    0    0    0    0    0    0    0   \n",
       "3  Telluride  US Plant   Jan  10,350    0    0    0    0    0    0    0    0   \n",
       "4        EV6  US Plant   Jan     103    0    0    0    0    0    0    0    0   \n",
       "\n",
       "   Oct  Nov  Dec  \n",
       "0    0    0    0  \n",
       "1    0    0    0  \n",
       "2    0    0    0  \n",
       "3    0    0    0  \n",
       "4    0    0    0  "
      ]
     },
     "execution_count": 356,
     "metadata": {},
     "output_type": "execute_result"
    }
   ],
   "source": [
    "df_2025.head()"
   ]
  },
  {
   "cell_type": "code",
   "execution_count": 357,
   "metadata": {},
   "outputs": [],
   "source": [
    "df_2025[\"연도\"] = 2025"
   ]
  },
  {
   "cell_type": "code",
   "execution_count": 358,
   "metadata": {},
   "outputs": [
    {
     "data": {
      "text/plain": [
       "Index(['model', 'path', 'month', 'Jan', 'Feb', 'Mar', 'Apr', 'May', 'Jun',\n",
       "       'Jul', 'Aug', 'Sep', 'Oct', 'Nov', 'Dec', '연도'],\n",
       "      dtype='object')"
      ]
     },
     "execution_count": 358,
     "metadata": {},
     "output_type": "execute_result"
    }
   ],
   "source": [
    "df_2025.columns"
   ]
  },
  {
   "cell_type": "code",
   "execution_count": 359,
   "metadata": {},
   "outputs": [],
   "source": [
    "df_2025 = df_2025.drop(columns=['month'])"
   ]
  },
  {
   "cell_type": "code",
   "execution_count": 360,
   "metadata": {},
   "outputs": [
    {
     "data": {
      "text/plain": [
       "Index(['model', 'path', 'Jan', 'Feb', 'Mar', 'Apr', 'May', 'Jun', 'Jul', 'Aug',\n",
       "       'Sep', 'Oct', 'Nov', 'Dec', '연도'],\n",
       "      dtype='object')"
      ]
     },
     "execution_count": 360,
     "metadata": {},
     "output_type": "execute_result"
    }
   ],
   "source": [
    "df_2025.columns"
   ]
  },
  {
   "cell_type": "code",
   "execution_count": 361,
   "metadata": {},
   "outputs": [
    {
     "data": {
      "text/plain": [
       "array(['US Plant', 'China Plants', 'Slovakia Plant', 'Mexico Plant',\n",
       "       'India Plant'], dtype=object)"
      ]
     },
     "execution_count": 361,
     "metadata": {},
     "output_type": "execute_result"
    }
   ],
   "source": [
    "df_2025['path'].unique()"
   ]
  },
  {
   "cell_type": "code",
   "execution_count": 362,
   "metadata": {},
   "outputs": [
    {
     "name": "stdout",
     "output_type": "stream",
     "text": [
      "              path Plant Code\n",
      "0         US Plant       KaGA\n",
      "6     China Plants        DYK\n",
      "17  Slovakia Plant       KaSK\n",
      "20    Mexico Plant        KMX\n",
      "24     India Plant        KIN\n"
     ]
    }
   ],
   "source": [
    "# 공장명과 대응하는 코드 매핑\n",
    "plant_code_mapping = {\n",
    "    'US Plant': 'KaGA',\n",
    "    'China Plants': 'DYK',\n",
    "    'Slovakia Plant': 'KaSK',\n",
    "    'Mexico Plant': 'KMX',\n",
    "    'India Plant': 'KIN'\n",
    "}\n",
    "\n",
    "# 새로운 컬럼 'Plant Code' 생성\n",
    "df_2025['Plant Code'] = df_2025['path'].replace(plant_code_mapping)\n",
    "\n",
    "# 변경된 데이터 확인\n",
    "print(df_2025[['path', 'Plant Code']].drop_duplicates())\n"
   ]
  },
  {
   "cell_type": "code",
   "execution_count": 363,
   "metadata": {},
   "outputs": [
    {
     "data": {
      "text/plain": [
       "Index(['model', 'path', 'Jan', 'Feb', 'Mar', 'Apr', 'May', 'Jun', 'Jul', 'Aug',\n",
       "       'Sep', 'Oct', 'Nov', 'Dec', '연도', 'Plant Code'],\n",
       "      dtype='object')"
      ]
     },
     "execution_count": 363,
     "metadata": {},
     "output_type": "execute_result"
    }
   ],
   "source": [
    "df_2025.columns"
   ]
  },
  {
   "cell_type": "code",
   "execution_count": 364,
   "metadata": {},
   "outputs": [
    {
     "data": {
      "text/plain": [
       "array(['K5', 'Sportage', 'Sorento', 'Telluride', 'EV6', 'EV9', 'Pegas',\n",
       "       'Forte', 'K3', 'KX1', 'Sonet', 'KX3', 'Zhipao', 'EV5', 'KX5',\n",
       "       'Carnival', \"C'eed\", \"C'eed CUV\", 'Rio(pride)', 'K4',\n",
       "       'Tucson(NX4)', 'Syros', 'Seltos', 'Carens MPV'], dtype=object)"
      ]
     },
     "execution_count": 364,
     "metadata": {},
     "output_type": "execute_result"
    }
   ],
   "source": [
    "# 기존 값과 변경할 값 매핑\n",
    "car_mapping = {\n",
    "    'path': 'Plant',\n",
    "    'model':'Model'\n",
    "\n",
    "}\n",
    "\n",
    "# 'Car' 컬럼 데이터 변경\n",
    "df_2025['Plant'] = df_2025['path'].replace(car_mapping)\n",
    "df_2025['Model'] = df_2025['model'].replace(car_mapping)\n",
    "\n",
    "# 변경된 데이터 확인\n",
    "df_2025['Plant'].unique()\n",
    "df_2025['Model'].unique()"
   ]
  },
  {
   "cell_type": "code",
   "execution_count": 365,
   "metadata": {},
   "outputs": [
    {
     "data": {
      "text/plain": [
       "Index(['model', 'path', 'Jan', 'Feb', 'Mar', 'Apr', 'May', 'Jun', 'Jul', 'Aug',\n",
       "       'Sep', 'Oct', 'Nov', 'Dec', '연도', 'Plant Code', 'Plant', 'Model'],\n",
       "      dtype='object')"
      ]
     },
     "execution_count": 365,
     "metadata": {},
     "output_type": "execute_result"
    }
   ],
   "source": [
    "df_2025.columns"
   ]
  },
  {
   "cell_type": "code",
   "execution_count": 366,
   "metadata": {},
   "outputs": [],
   "source": [
    "df_2025 = df_2025.drop(columns=['path','model'])"
   ]
  },
  {
   "cell_type": "code",
   "execution_count": 367,
   "metadata": {},
   "outputs": [
    {
     "name": "stdout",
     "output_type": "stream",
     "text": [
      "Index(['Plant', 'Plant Code', 'Model', 'Jan', 'Feb', 'Mar', 'Apr', 'May',\n",
      "       'Jun', 'Jul', 'Aug', 'Sep', 'Oct', 'Nov', 'Dec', '연도'],\n",
      "      dtype='object')\n"
     ]
    }
   ],
   "source": [
    "# 원하는 컬럼 순서 지정\n",
    "new_column_order = ['Plant','Plant Code', 'Model','Jan', 'Feb', 'Mar', 'Apr', 'May', 'Jun',\n",
    "       'Jul', 'Aug', 'Sep', 'Oct', 'Nov', 'Dec', '연도']\n",
    "\n",
    "# df_2025에서 실제 존재하는 컬럼만 필터링\n",
    "existing_columns = [col for col in new_column_order if col in df_2025.columns]\n",
    "\n",
    "# 컬럼 순서 변경\n",
    "df_2025 = df_2025[existing_columns]\n",
    "\n",
    "# 변경된 컬럼 확인\n",
    "print(df_2025.columns)\n"
   ]
  },
  {
   "cell_type": "code",
   "execution_count": 368,
   "metadata": {},
   "outputs": [
    {
     "data": {
      "application/vnd.microsoft.datawrangler.viewer.v0+json": {
       "columns": [
        {
         "name": "index",
         "rawType": "int64",
         "type": "integer"
        },
        {
         "name": "Plant",
         "rawType": "object",
         "type": "string"
        },
        {
         "name": "Plant Code",
         "rawType": "object",
         "type": "string"
        },
        {
         "name": "Model",
         "rawType": "object",
         "type": "string"
        },
        {
         "name": "Jan",
         "rawType": "object",
         "type": "unknown"
        },
        {
         "name": "Feb",
         "rawType": "int64",
         "type": "integer"
        },
        {
         "name": "Mar",
         "rawType": "int64",
         "type": "integer"
        },
        {
         "name": "Apr",
         "rawType": "int64",
         "type": "integer"
        },
        {
         "name": "May",
         "rawType": "int64",
         "type": "integer"
        },
        {
         "name": "Jun",
         "rawType": "int64",
         "type": "integer"
        },
        {
         "name": "Jul",
         "rawType": "int64",
         "type": "integer"
        },
        {
         "name": "Aug",
         "rawType": "int64",
         "type": "integer"
        },
        {
         "name": "Sep",
         "rawType": "int64",
         "type": "integer"
        },
        {
         "name": "Oct",
         "rawType": "int64",
         "type": "integer"
        },
        {
         "name": "Nov",
         "rawType": "int64",
         "type": "integer"
        },
        {
         "name": "Dec",
         "rawType": "int64",
         "type": "integer"
        },
        {
         "name": "연도",
         "rawType": "int64",
         "type": "integer"
        }
       ],
       "conversionMethod": "pd.DataFrame",
       "ref": "96fadd1a-fd9d-4ef8-b46a-1e81734a9e7f",
       "rows": [
        [
         "0",
         "US Plant",
         "KaGA",
         "K5",
         null,
         "0",
         "0",
         "0",
         "0",
         "0",
         "0",
         "0",
         "0",
         "0",
         "0",
         "0",
         "2025"
        ],
        [
         "1",
         "US Plant",
         "KaGA",
         "Sportage",
         "9,247",
         "0",
         "0",
         "0",
         "0",
         "0",
         "0",
         "0",
         "0",
         "0",
         "0",
         "0",
         "2025"
        ],
        [
         "2",
         "US Plant",
         "KaGA",
         "Sorento",
         "8,300",
         "0",
         "0",
         "0",
         "0",
         "0",
         "0",
         "0",
         "0",
         "0",
         "0",
         "0",
         "2025"
        ],
        [
         "3",
         "US Plant",
         "KaGA",
         "Telluride",
         "10,350",
         "0",
         "0",
         "0",
         "0",
         "0",
         "0",
         "0",
         "0",
         "0",
         "0",
         "0",
         "2025"
        ],
        [
         "4",
         "US Plant",
         "KaGA",
         "EV6",
         "103",
         "0",
         "0",
         "0",
         "0",
         "0",
         "0",
         "0",
         "0",
         "0",
         "0",
         "0",
         "2025"
        ]
       ],
       "shape": {
        "columns": 16,
        "rows": 5
       }
      },
      "text/html": [
       "<div>\n",
       "<style scoped>\n",
       "    .dataframe tbody tr th:only-of-type {\n",
       "        vertical-align: middle;\n",
       "    }\n",
       "\n",
       "    .dataframe tbody tr th {\n",
       "        vertical-align: top;\n",
       "    }\n",
       "\n",
       "    .dataframe thead th {\n",
       "        text-align: right;\n",
       "    }\n",
       "</style>\n",
       "<table border=\"1\" class=\"dataframe\">\n",
       "  <thead>\n",
       "    <tr style=\"text-align: right;\">\n",
       "      <th></th>\n",
       "      <th>Plant</th>\n",
       "      <th>Plant Code</th>\n",
       "      <th>Model</th>\n",
       "      <th>Jan</th>\n",
       "      <th>Feb</th>\n",
       "      <th>Mar</th>\n",
       "      <th>Apr</th>\n",
       "      <th>May</th>\n",
       "      <th>Jun</th>\n",
       "      <th>Jul</th>\n",
       "      <th>Aug</th>\n",
       "      <th>Sep</th>\n",
       "      <th>Oct</th>\n",
       "      <th>Nov</th>\n",
       "      <th>Dec</th>\n",
       "      <th>연도</th>\n",
       "    </tr>\n",
       "  </thead>\n",
       "  <tbody>\n",
       "    <tr>\n",
       "      <th>0</th>\n",
       "      <td>US Plant</td>\n",
       "      <td>KaGA</td>\n",
       "      <td>K5</td>\n",
       "      <td>NaN</td>\n",
       "      <td>0</td>\n",
       "      <td>0</td>\n",
       "      <td>0</td>\n",
       "      <td>0</td>\n",
       "      <td>0</td>\n",
       "      <td>0</td>\n",
       "      <td>0</td>\n",
       "      <td>0</td>\n",
       "      <td>0</td>\n",
       "      <td>0</td>\n",
       "      <td>0</td>\n",
       "      <td>2025</td>\n",
       "    </tr>\n",
       "    <tr>\n",
       "      <th>1</th>\n",
       "      <td>US Plant</td>\n",
       "      <td>KaGA</td>\n",
       "      <td>Sportage</td>\n",
       "      <td>9,247</td>\n",
       "      <td>0</td>\n",
       "      <td>0</td>\n",
       "      <td>0</td>\n",
       "      <td>0</td>\n",
       "      <td>0</td>\n",
       "      <td>0</td>\n",
       "      <td>0</td>\n",
       "      <td>0</td>\n",
       "      <td>0</td>\n",
       "      <td>0</td>\n",
       "      <td>0</td>\n",
       "      <td>2025</td>\n",
       "    </tr>\n",
       "    <tr>\n",
       "      <th>2</th>\n",
       "      <td>US Plant</td>\n",
       "      <td>KaGA</td>\n",
       "      <td>Sorento</td>\n",
       "      <td>8,300</td>\n",
       "      <td>0</td>\n",
       "      <td>0</td>\n",
       "      <td>0</td>\n",
       "      <td>0</td>\n",
       "      <td>0</td>\n",
       "      <td>0</td>\n",
       "      <td>0</td>\n",
       "      <td>0</td>\n",
       "      <td>0</td>\n",
       "      <td>0</td>\n",
       "      <td>0</td>\n",
       "      <td>2025</td>\n",
       "    </tr>\n",
       "    <tr>\n",
       "      <th>3</th>\n",
       "      <td>US Plant</td>\n",
       "      <td>KaGA</td>\n",
       "      <td>Telluride</td>\n",
       "      <td>10,350</td>\n",
       "      <td>0</td>\n",
       "      <td>0</td>\n",
       "      <td>0</td>\n",
       "      <td>0</td>\n",
       "      <td>0</td>\n",
       "      <td>0</td>\n",
       "      <td>0</td>\n",
       "      <td>0</td>\n",
       "      <td>0</td>\n",
       "      <td>0</td>\n",
       "      <td>0</td>\n",
       "      <td>2025</td>\n",
       "    </tr>\n",
       "    <tr>\n",
       "      <th>4</th>\n",
       "      <td>US Plant</td>\n",
       "      <td>KaGA</td>\n",
       "      <td>EV6</td>\n",
       "      <td>103</td>\n",
       "      <td>0</td>\n",
       "      <td>0</td>\n",
       "      <td>0</td>\n",
       "      <td>0</td>\n",
       "      <td>0</td>\n",
       "      <td>0</td>\n",
       "      <td>0</td>\n",
       "      <td>0</td>\n",
       "      <td>0</td>\n",
       "      <td>0</td>\n",
       "      <td>0</td>\n",
       "      <td>2025</td>\n",
       "    </tr>\n",
       "  </tbody>\n",
       "</table>\n",
       "</div>"
      ],
      "text/plain": [
       "      Plant Plant Code      Model     Jan  Feb  Mar  Apr  May  Jun  Jul  Aug  \\\n",
       "0  US Plant       KaGA         K5     NaN    0    0    0    0    0    0    0   \n",
       "1  US Plant       KaGA   Sportage   9,247    0    0    0    0    0    0    0   \n",
       "2  US Plant       KaGA    Sorento   8,300    0    0    0    0    0    0    0   \n",
       "3  US Plant       KaGA  Telluride  10,350    0    0    0    0    0    0    0   \n",
       "4  US Plant       KaGA        EV6     103    0    0    0    0    0    0    0   \n",
       "\n",
       "   Sep  Oct  Nov  Dec    연도  \n",
       "0    0    0    0    0  2025  \n",
       "1    0    0    0    0  2025  \n",
       "2    0    0    0    0  2025  \n",
       "3    0    0    0    0  2025  \n",
       "4    0    0    0    0  2025  "
      ]
     },
     "execution_count": 368,
     "metadata": {},
     "output_type": "execute_result"
    }
   ],
   "source": [
    "df_2025.head()"
   ]
  },
  {
   "cell_type": "code",
   "execution_count": 369,
   "metadata": {},
   "outputs": [],
   "source": [
    "df = pd.concat([df_2023, df_2024, df_2025], ignore_index=True)"
   ]
  },
  {
   "cell_type": "code",
   "execution_count": 370,
   "metadata": {},
   "outputs": [
    {
     "data": {
      "application/vnd.microsoft.datawrangler.viewer.v0+json": {
       "columns": [
        {
         "name": "index",
         "rawType": "int64",
         "type": "integer"
        },
        {
         "name": "Plant",
         "rawType": "object",
         "type": "string"
        },
        {
         "name": "Plant Code",
         "rawType": "object",
         "type": "string"
        },
        {
         "name": "Model",
         "rawType": "object",
         "type": "string"
        },
        {
         "name": "Jan",
         "rawType": "object",
         "type": "unknown"
        },
        {
         "name": "Feb",
         "rawType": "object",
         "type": "unknown"
        },
        {
         "name": "Mar",
         "rawType": "object",
         "type": "unknown"
        },
        {
         "name": "Apr",
         "rawType": "object",
         "type": "unknown"
        },
        {
         "name": "May",
         "rawType": "object",
         "type": "unknown"
        },
        {
         "name": "Jun",
         "rawType": "object",
         "type": "unknown"
        },
        {
         "name": "Jul",
         "rawType": "object",
         "type": "unknown"
        },
        {
         "name": "Aug",
         "rawType": "object",
         "type": "unknown"
        },
        {
         "name": "Sep",
         "rawType": "object",
         "type": "unknown"
        },
        {
         "name": "Oct",
         "rawType": "object",
         "type": "unknown"
        },
        {
         "name": "Nov",
         "rawType": "object",
         "type": "unknown"
        },
        {
         "name": "Dec",
         "rawType": "object",
         "type": "unknown"
        },
        {
         "name": "연도",
         "rawType": "int64",
         "type": "integer"
        }
       ],
       "conversionMethod": "pd.DataFrame",
       "ref": "821071d9-c028-44d2-887d-4b734d8ab4d7",
       "rows": [
        [
         "0",
         "US Plant",
         "KaGA",
         "Optima / K5",
         "5701",
         "6150",
         "6635",
         "5652",
         "6396.0",
         "5050.0",
         "4771.0",
         "6853.0",
         "6150.0",
         "6550.0",
         "5900.0",
         "3445.0",
         "2023"
        ],
        [
         "1",
         "US Plant",
         "KaGA",
         "Sportage",
         "6400",
         "7950",
         "9129",
         "7358",
         "8424.0",
         "6142.0",
         "5900.0",
         "8450.0",
         "7350.0",
         "8150.0",
         "7600.0",
         "6150.0",
         "2023"
        ],
        [
         "2",
         "US Plant",
         "KaGA",
         "Sorento",
         "6795",
         "5330",
         "5385",
         "6184",
         "7368.0",
         "6416.0",
         "5513.0",
         "7491.0",
         "6602.0",
         "7097.0",
         "6100.0",
         "4825.0",
         "2023"
        ],
        [
         "3",
         "US Plant",
         "KaGA",
         "Telluride",
         "9704",
         "10400",
         "11851",
         "10206",
         "11212.0",
         "8792.0",
         "8216.0",
         "12313.0",
         "10698.0",
         "11903.0",
         "10300.0",
         "7850.0",
         "2023"
        ],
        [
         "4",
         "China Plant",
         "DYK",
         "Pegas",
         "3320",
         "3436",
         "3504",
         "3465",
         "3710.0",
         "3548.0",
         "3572.0",
         "5866.0",
         "7042.0",
         "4121.0",
         "5645.0",
         "4495.0",
         "2023"
        ]
       ],
       "shape": {
        "columns": 16,
        "rows": 5
       }
      },
      "text/html": [
       "<div>\n",
       "<style scoped>\n",
       "    .dataframe tbody tr th:only-of-type {\n",
       "        vertical-align: middle;\n",
       "    }\n",
       "\n",
       "    .dataframe tbody tr th {\n",
       "        vertical-align: top;\n",
       "    }\n",
       "\n",
       "    .dataframe thead th {\n",
       "        text-align: right;\n",
       "    }\n",
       "</style>\n",
       "<table border=\"1\" class=\"dataframe\">\n",
       "  <thead>\n",
       "    <tr style=\"text-align: right;\">\n",
       "      <th></th>\n",
       "      <th>Plant</th>\n",
       "      <th>Plant Code</th>\n",
       "      <th>Model</th>\n",
       "      <th>Jan</th>\n",
       "      <th>Feb</th>\n",
       "      <th>Mar</th>\n",
       "      <th>Apr</th>\n",
       "      <th>May</th>\n",
       "      <th>Jun</th>\n",
       "      <th>Jul</th>\n",
       "      <th>Aug</th>\n",
       "      <th>Sep</th>\n",
       "      <th>Oct</th>\n",
       "      <th>Nov</th>\n",
       "      <th>Dec</th>\n",
       "      <th>연도</th>\n",
       "    </tr>\n",
       "  </thead>\n",
       "  <tbody>\n",
       "    <tr>\n",
       "      <th>0</th>\n",
       "      <td>US Plant</td>\n",
       "      <td>KaGA</td>\n",
       "      <td>Optima / K5</td>\n",
       "      <td>5701</td>\n",
       "      <td>6150</td>\n",
       "      <td>6635</td>\n",
       "      <td>5652</td>\n",
       "      <td>6396.0</td>\n",
       "      <td>5050.0</td>\n",
       "      <td>4771.0</td>\n",
       "      <td>6853.0</td>\n",
       "      <td>6150.0</td>\n",
       "      <td>6550.0</td>\n",
       "      <td>5900.0</td>\n",
       "      <td>3445.0</td>\n",
       "      <td>2023</td>\n",
       "    </tr>\n",
       "    <tr>\n",
       "      <th>1</th>\n",
       "      <td>US Plant</td>\n",
       "      <td>KaGA</td>\n",
       "      <td>Sportage</td>\n",
       "      <td>6400</td>\n",
       "      <td>7950</td>\n",
       "      <td>9129</td>\n",
       "      <td>7358</td>\n",
       "      <td>8424.0</td>\n",
       "      <td>6142.0</td>\n",
       "      <td>5900.0</td>\n",
       "      <td>8450.0</td>\n",
       "      <td>7350.0</td>\n",
       "      <td>8150.0</td>\n",
       "      <td>7600.0</td>\n",
       "      <td>6150.0</td>\n",
       "      <td>2023</td>\n",
       "    </tr>\n",
       "    <tr>\n",
       "      <th>2</th>\n",
       "      <td>US Plant</td>\n",
       "      <td>KaGA</td>\n",
       "      <td>Sorento</td>\n",
       "      <td>6795</td>\n",
       "      <td>5330</td>\n",
       "      <td>5385</td>\n",
       "      <td>6184</td>\n",
       "      <td>7368.0</td>\n",
       "      <td>6416.0</td>\n",
       "      <td>5513.0</td>\n",
       "      <td>7491.0</td>\n",
       "      <td>6602.0</td>\n",
       "      <td>7097.0</td>\n",
       "      <td>6100.0</td>\n",
       "      <td>4825.0</td>\n",
       "      <td>2023</td>\n",
       "    </tr>\n",
       "    <tr>\n",
       "      <th>3</th>\n",
       "      <td>US Plant</td>\n",
       "      <td>KaGA</td>\n",
       "      <td>Telluride</td>\n",
       "      <td>9704</td>\n",
       "      <td>10400</td>\n",
       "      <td>11851</td>\n",
       "      <td>10206</td>\n",
       "      <td>11212.0</td>\n",
       "      <td>8792.0</td>\n",
       "      <td>8216.0</td>\n",
       "      <td>12313.0</td>\n",
       "      <td>10698.0</td>\n",
       "      <td>11903.0</td>\n",
       "      <td>10300.0</td>\n",
       "      <td>7850.0</td>\n",
       "      <td>2023</td>\n",
       "    </tr>\n",
       "    <tr>\n",
       "      <th>4</th>\n",
       "      <td>China Plant</td>\n",
       "      <td>DYK</td>\n",
       "      <td>Pegas</td>\n",
       "      <td>3320</td>\n",
       "      <td>3436</td>\n",
       "      <td>3504</td>\n",
       "      <td>3465</td>\n",
       "      <td>3710.0</td>\n",
       "      <td>3548.0</td>\n",
       "      <td>3572.0</td>\n",
       "      <td>5866.0</td>\n",
       "      <td>7042.0</td>\n",
       "      <td>4121.0</td>\n",
       "      <td>5645.0</td>\n",
       "      <td>4495.0</td>\n",
       "      <td>2023</td>\n",
       "    </tr>\n",
       "  </tbody>\n",
       "</table>\n",
       "</div>"
      ],
      "text/plain": [
       "         Plant Plant Code        Model   Jan    Feb    Mar    Apr      May  \\\n",
       "0     US Plant       KaGA  Optima / K5  5701   6150   6635   5652   6396.0   \n",
       "1     US Plant       KaGA     Sportage  6400   7950   9129   7358   8424.0   \n",
       "2     US Plant       KaGA      Sorento  6795   5330   5385   6184   7368.0   \n",
       "3     US Plant       KaGA    Telluride  9704  10400  11851  10206  11212.0   \n",
       "4  China Plant        DYK        Pegas  3320   3436   3504   3465   3710.0   \n",
       "\n",
       "      Jun     Jul      Aug      Sep      Oct      Nov     Dec    연도  \n",
       "0  5050.0  4771.0   6853.0   6150.0   6550.0   5900.0  3445.0  2023  \n",
       "1  6142.0  5900.0   8450.0   7350.0   8150.0   7600.0  6150.0  2023  \n",
       "2  6416.0  5513.0   7491.0   6602.0   7097.0   6100.0  4825.0  2023  \n",
       "3  8792.0  8216.0  12313.0  10698.0  11903.0  10300.0  7850.0  2023  \n",
       "4  3548.0  3572.0   5866.0   7042.0   4121.0   5645.0  4495.0  2023  "
      ]
     },
     "execution_count": 370,
     "metadata": {},
     "output_type": "execute_result"
    }
   ],
   "source": [
    "df.head()"
   ]
  },
  {
   "cell_type": "code",
   "execution_count": 371,
   "metadata": {},
   "outputs": [
    {
     "data": {
      "text/plain": [
       "Plant         0\n",
       "Plant Code    0\n",
       "Model         0\n",
       "Jan           6\n",
       "Feb           4\n",
       "Mar           4\n",
       "Apr           4\n",
       "May           5\n",
       "Jun           4\n",
       "Jul           4\n",
       "Aug           3\n",
       "Sep           4\n",
       "Oct           3\n",
       "Nov           4\n",
       "Dec           4\n",
       "연도            0\n",
       "dtype: int64"
      ]
     },
     "execution_count": 371,
     "metadata": {},
     "output_type": "execute_result"
    }
   ],
   "source": [
    "df.isna().sum()"
   ]
  },
  {
   "cell_type": "code",
   "execution_count": 372,
   "metadata": {},
   "outputs": [],
   "source": [
    "df.fillna(0, inplace=True)"
   ]
  },
  {
   "cell_type": "code",
   "execution_count": 373,
   "metadata": {},
   "outputs": [
    {
     "data": {
      "text/plain": [
       "Plant         0\n",
       "Plant Code    0\n",
       "Model         0\n",
       "Jan           0\n",
       "Feb           0\n",
       "Mar           0\n",
       "Apr           0\n",
       "May           0\n",
       "Jun           0\n",
       "Jul           0\n",
       "Aug           0\n",
       "Sep           0\n",
       "Oct           0\n",
       "Nov           0\n",
       "Dec           0\n",
       "연도            0\n",
       "dtype: int64"
      ]
     },
     "execution_count": 373,
     "metadata": {},
     "output_type": "execute_result"
    }
   ],
   "source": [
    "df.isna().sum()"
   ]
  },
  {
   "cell_type": "code",
   "execution_count": 374,
   "metadata": {},
   "outputs": [],
   "source": [
    "df.to_csv(\"해외공장판매실적.CSV\", index=False)"
   ]
  },
  {
   "cell_type": "code",
   "execution_count": 375,
   "metadata": {},
   "outputs": [
    {
     "data": {
      "application/vnd.microsoft.datawrangler.viewer.v0+json": {
       "columns": [
        {
         "name": "index",
         "rawType": "int64",
         "type": "integer"
        },
        {
         "name": "Plant",
         "rawType": "object",
         "type": "string"
        },
        {
         "name": "Plant Code",
         "rawType": "object",
         "type": "string"
        },
        {
         "name": "Model",
         "rawType": "object",
         "type": "string"
        },
        {
         "name": "Jan",
         "rawType": "object",
         "type": "unknown"
        },
        {
         "name": "Feb",
         "rawType": "object",
         "type": "unknown"
        },
        {
         "name": "Mar",
         "rawType": "object",
         "type": "unknown"
        },
        {
         "name": "Apr",
         "rawType": "object",
         "type": "unknown"
        },
        {
         "name": "May",
         "rawType": "object",
         "type": "unknown"
        },
        {
         "name": "Jun",
         "rawType": "object",
         "type": "unknown"
        },
        {
         "name": "Jul",
         "rawType": "object",
         "type": "unknown"
        },
        {
         "name": "Aug",
         "rawType": "object",
         "type": "unknown"
        },
        {
         "name": "Sep",
         "rawType": "object",
         "type": "unknown"
        },
        {
         "name": "Oct",
         "rawType": "object",
         "type": "unknown"
        },
        {
         "name": "Nov",
         "rawType": "object",
         "type": "unknown"
        },
        {
         "name": "Dec",
         "rawType": "object",
         "type": "unknown"
        },
        {
         "name": "연도",
         "rawType": "int64",
         "type": "integer"
        }
       ],
       "conversionMethod": "pd.DataFrame",
       "ref": "d17cd7e6-1f8e-4d6f-ac15-0cc6b83029d9",
       "rows": [
        [
         "0",
         "US Plant",
         "KaGA",
         "Optima / K5",
         "5701",
         "6150",
         "6635",
         "5652",
         "6396.0",
         "5050.0",
         "4771.0",
         "6853.0",
         "6150.0",
         "6550.0",
         "5900.0",
         "3445.0",
         "2023"
        ],
        [
         "1",
         "US Plant",
         "KaGA",
         "Sportage",
         "6400",
         "7950",
         "9129",
         "7358",
         "8424.0",
         "6142.0",
         "5900.0",
         "8450.0",
         "7350.0",
         "8150.0",
         "7600.0",
         "6150.0",
         "2023"
        ],
        [
         "2",
         "US Plant",
         "KaGA",
         "Sorento",
         "6795",
         "5330",
         "5385",
         "6184",
         "7368.0",
         "6416.0",
         "5513.0",
         "7491.0",
         "6602.0",
         "7097.0",
         "6100.0",
         "4825.0",
         "2023"
        ],
        [
         "3",
         "US Plant",
         "KaGA",
         "Telluride",
         "9704",
         "10400",
         "11851",
         "10206",
         "11212.0",
         "8792.0",
         "8216.0",
         "12313.0",
         "10698.0",
         "11903.0",
         "10300.0",
         "7850.0",
         "2023"
        ],
        [
         "4",
         "China Plant",
         "DYK",
         "Pegas",
         "3320",
         "3436",
         "3504",
         "3465",
         "3710.0",
         "3548.0",
         "3572.0",
         "5866.0",
         "7042.0",
         "4121.0",
         "5645.0",
         "4495.0",
         "2023"
        ]
       ],
       "shape": {
        "columns": 16,
        "rows": 5
       }
      },
      "text/html": [
       "<div>\n",
       "<style scoped>\n",
       "    .dataframe tbody tr th:only-of-type {\n",
       "        vertical-align: middle;\n",
       "    }\n",
       "\n",
       "    .dataframe tbody tr th {\n",
       "        vertical-align: top;\n",
       "    }\n",
       "\n",
       "    .dataframe thead th {\n",
       "        text-align: right;\n",
       "    }\n",
       "</style>\n",
       "<table border=\"1\" class=\"dataframe\">\n",
       "  <thead>\n",
       "    <tr style=\"text-align: right;\">\n",
       "      <th></th>\n",
       "      <th>Plant</th>\n",
       "      <th>Plant Code</th>\n",
       "      <th>Model</th>\n",
       "      <th>Jan</th>\n",
       "      <th>Feb</th>\n",
       "      <th>Mar</th>\n",
       "      <th>Apr</th>\n",
       "      <th>May</th>\n",
       "      <th>Jun</th>\n",
       "      <th>Jul</th>\n",
       "      <th>Aug</th>\n",
       "      <th>Sep</th>\n",
       "      <th>Oct</th>\n",
       "      <th>Nov</th>\n",
       "      <th>Dec</th>\n",
       "      <th>연도</th>\n",
       "    </tr>\n",
       "  </thead>\n",
       "  <tbody>\n",
       "    <tr>\n",
       "      <th>0</th>\n",
       "      <td>US Plant</td>\n",
       "      <td>KaGA</td>\n",
       "      <td>Optima / K5</td>\n",
       "      <td>5701</td>\n",
       "      <td>6150</td>\n",
       "      <td>6635</td>\n",
       "      <td>5652</td>\n",
       "      <td>6396.0</td>\n",
       "      <td>5050.0</td>\n",
       "      <td>4771.0</td>\n",
       "      <td>6853.0</td>\n",
       "      <td>6150.0</td>\n",
       "      <td>6550.0</td>\n",
       "      <td>5900.0</td>\n",
       "      <td>3445.0</td>\n",
       "      <td>2023</td>\n",
       "    </tr>\n",
       "    <tr>\n",
       "      <th>1</th>\n",
       "      <td>US Plant</td>\n",
       "      <td>KaGA</td>\n",
       "      <td>Sportage</td>\n",
       "      <td>6400</td>\n",
       "      <td>7950</td>\n",
       "      <td>9129</td>\n",
       "      <td>7358</td>\n",
       "      <td>8424.0</td>\n",
       "      <td>6142.0</td>\n",
       "      <td>5900.0</td>\n",
       "      <td>8450.0</td>\n",
       "      <td>7350.0</td>\n",
       "      <td>8150.0</td>\n",
       "      <td>7600.0</td>\n",
       "      <td>6150.0</td>\n",
       "      <td>2023</td>\n",
       "    </tr>\n",
       "    <tr>\n",
       "      <th>2</th>\n",
       "      <td>US Plant</td>\n",
       "      <td>KaGA</td>\n",
       "      <td>Sorento</td>\n",
       "      <td>6795</td>\n",
       "      <td>5330</td>\n",
       "      <td>5385</td>\n",
       "      <td>6184</td>\n",
       "      <td>7368.0</td>\n",
       "      <td>6416.0</td>\n",
       "      <td>5513.0</td>\n",
       "      <td>7491.0</td>\n",
       "      <td>6602.0</td>\n",
       "      <td>7097.0</td>\n",
       "      <td>6100.0</td>\n",
       "      <td>4825.0</td>\n",
       "      <td>2023</td>\n",
       "    </tr>\n",
       "    <tr>\n",
       "      <th>3</th>\n",
       "      <td>US Plant</td>\n",
       "      <td>KaGA</td>\n",
       "      <td>Telluride</td>\n",
       "      <td>9704</td>\n",
       "      <td>10400</td>\n",
       "      <td>11851</td>\n",
       "      <td>10206</td>\n",
       "      <td>11212.0</td>\n",
       "      <td>8792.0</td>\n",
       "      <td>8216.0</td>\n",
       "      <td>12313.0</td>\n",
       "      <td>10698.0</td>\n",
       "      <td>11903.0</td>\n",
       "      <td>10300.0</td>\n",
       "      <td>7850.0</td>\n",
       "      <td>2023</td>\n",
       "    </tr>\n",
       "    <tr>\n",
       "      <th>4</th>\n",
       "      <td>China Plant</td>\n",
       "      <td>DYK</td>\n",
       "      <td>Pegas</td>\n",
       "      <td>3320</td>\n",
       "      <td>3436</td>\n",
       "      <td>3504</td>\n",
       "      <td>3465</td>\n",
       "      <td>3710.0</td>\n",
       "      <td>3548.0</td>\n",
       "      <td>3572.0</td>\n",
       "      <td>5866.0</td>\n",
       "      <td>7042.0</td>\n",
       "      <td>4121.0</td>\n",
       "      <td>5645.0</td>\n",
       "      <td>4495.0</td>\n",
       "      <td>2023</td>\n",
       "    </tr>\n",
       "  </tbody>\n",
       "</table>\n",
       "</div>"
      ],
      "text/plain": [
       "         Plant Plant Code        Model   Jan    Feb    Mar    Apr      May  \\\n",
       "0     US Plant       KaGA  Optima / K5  5701   6150   6635   5652   6396.0   \n",
       "1     US Plant       KaGA     Sportage  6400   7950   9129   7358   8424.0   \n",
       "2     US Plant       KaGA      Sorento  6795   5330   5385   6184   7368.0   \n",
       "3     US Plant       KaGA    Telluride  9704  10400  11851  10206  11212.0   \n",
       "4  China Plant        DYK        Pegas  3320   3436   3504   3465   3710.0   \n",
       "\n",
       "      Jun     Jul      Aug      Sep      Oct      Nov     Dec    연도  \n",
       "0  5050.0  4771.0   6853.0   6150.0   6550.0   5900.0  3445.0  2023  \n",
       "1  6142.0  5900.0   8450.0   7350.0   8150.0   7600.0  6150.0  2023  \n",
       "2  6416.0  5513.0   7491.0   6602.0   7097.0   6100.0  4825.0  2023  \n",
       "3  8792.0  8216.0  12313.0  10698.0  11903.0  10300.0  7850.0  2023  \n",
       "4  3548.0  3572.0   5866.0   7042.0   4121.0   5645.0  4495.0  2023  "
      ]
     },
     "execution_count": 375,
     "metadata": {},
     "output_type": "execute_result"
    }
   ],
   "source": [
    "df.head()"
   ]
  },
  {
   "cell_type": "code",
   "execution_count": 376,
   "metadata": {},
   "outputs": [
    {
     "data": {
      "text/plain": [
       "Index(['Plant', 'Plant Code', 'Model', 'Jan', 'Feb', 'Mar', 'Apr', 'May',\n",
       "       'Jun', 'Jul', 'Aug', 'Sep', 'Oct', 'Nov', 'Dec', '연도'],\n",
       "      dtype='object')"
      ]
     },
     "execution_count": 376,
     "metadata": {},
     "output_type": "execute_result"
    }
   ],
   "source": [
    "df.columns"
   ]
  },
  {
   "cell_type": "code",
   "execution_count": 377,
   "metadata": {},
   "outputs": [
    {
     "data": {
      "text/plain": [
       "Index(['공장명(국가)', '공장 코드', '차종', '1월', '2월', '3월', '4월', '5월', '6월', '7월',\n",
       "       '8월', '9월', '10월', '11월', '12월', '연도'],\n",
       "      dtype='object')"
      ]
     },
     "execution_count": 377,
     "metadata": {},
     "output_type": "execute_result"
    }
   ],
   "source": [
    "# 기존 컬럼명과 변경할 컬럼명 매핑\n",
    "column_mapping = {\n",
    "    'Plant':'공장명(국가)',\n",
    "    'Plant Code': '공장 코드',\n",
    "    'Model': '차종',\n",
    "    'Jan': '1월',\n",
    "    'Feb': '2월',\n",
    "    'Mar': '3월',\n",
    "    'Apr': '4월',\n",
    "    'May': '5월',\n",
    "    'Jun': '6월',\n",
    "    'Jul': '7월',\n",
    "    'Aug': '8월',\n",
    "    'Sep': '9월',\n",
    "    'Oct': '10월',\n",
    "    'Nov': '11월',\n",
    "    'Dec': '12월'\n",
    "}\n",
    "\n",
    "# 컬럼명 변경\n",
    "df.columns = [column_mapping.get(col, col) for col in df.columns]\n",
    "\n",
    "# 변경된 컬럼명 확인\n",
    "df.columns\n"
   ]
  },
  {
   "cell_type": "code",
   "execution_count": 378,
   "metadata": {},
   "outputs": [],
   "source": [
    "df.to_csv(\"해외공장판매실적_전처리.CSV\", index=False)"
   ]
  },
  {
   "cell_type": "code",
   "execution_count": 380,
   "metadata": {},
   "outputs": [],
   "source": [
    "# 데이터 불러오기\n",
    "df_2023 = pd.read_csv(\"해외현지판매_2023.CSV\")\n",
    "df_2024= pd.read_csv(\"해외현지판매_2024.CSV\")\n",
    "df_2025= pd.read_csv(\"해외현지판매_2025.CSV\")"
   ]
  },
  {
   "cell_type": "code",
   "execution_count": 381,
   "metadata": {},
   "outputs": [
    {
     "data": {
      "application/vnd.microsoft.datawrangler.viewer.v0+json": {
       "columns": [
        {
         "name": "index",
         "rawType": "int64",
         "type": "integer"
        },
        {
         "name": "Model",
         "rawType": "object",
         "type": "string"
        },
        {
         "name": "Plant",
         "rawType": "object",
         "type": "string"
        },
        {
         "name": "Month",
         "rawType": "object",
         "type": "string"
        },
        {
         "name": "U.S.A",
         "rawType": "float64",
         "type": "float"
        },
        {
         "name": "Canada",
         "rawType": "float64",
         "type": "float"
        },
        {
         "name": "Mexico",
         "rawType": "float64",
         "type": "float"
        },
        {
         "name": "Europe",
         "rawType": "float64",
         "type": "float"
        },
        {
         "name": "Eastern Europe",
         "rawType": "float64",
         "type": "float"
        },
        {
         "name": "Latin America",
         "rawType": "float64",
         "type": "float"
        },
        {
         "name": "Middle East",
         "rawType": "float64",
         "type": "float"
        },
        {
         "name": "Africa",
         "rawType": "float64",
         "type": "float"
        },
        {
         "name": "Asia Pacific",
         "rawType": "float64",
         "type": "float"
        },
        {
         "name": "India",
         "rawType": "float64",
         "type": "float"
        },
        {
         "name": "China",
         "rawType": "float64",
         "type": "float"
        }
       ],
       "conversionMethod": "pd.DataFrame",
       "ref": "93ff4b1f-ad07-435a-a513-343964844140",
       "rows": [
        [
         "0",
         "Morning / Picanto",
         "Korean Plant",
         "January",
         "0.0",
         "0.0",
         "0.0",
         "5518.0",
         "174.0",
         "1452.0",
         "1110.0",
         "1073.0",
         "459.0",
         "0.0",
         "0.0"
        ],
        [
         "1",
         "Pride / Rio",
         "Korean Plant",
         "January",
         "0.0",
         "0.0",
         "0.0",
         "3130.0",
         "61.0",
         "68.0",
         "347.0",
         "512.0",
         "608.0",
         "0.0",
         "0.0"
        ],
        [
         "2",
         "K3",
         "Korean Plant",
         "January",
         "0.0",
         "95.0",
         "57.0",
         "0.0",
         "171.0",
         "13.0",
         "175.0",
         "5.0",
         "333.0",
         "0.0",
         "0.0"
        ],
        [
         "3",
         "K5 / Optima",
         "Korean Plant",
         "January",
         "0.0",
         "0.0",
         "0.0",
         "0.0",
         "774.0",
         "0.0",
         "1116.0",
         "1.0",
         "3.0",
         "0.0",
         "0.0"
        ],
        [
         "4",
         "Stinger",
         "Korean Plant",
         "January",
         "466.0",
         "22.0",
         "10.0",
         "101.0",
         "10.0",
         "0.0",
         "0.0",
         "0.0",
         "180.0",
         "0.0",
         "0.0"
        ]
       ],
       "shape": {
        "columns": 14,
        "rows": 5
       }
      },
      "text/html": [
       "<div>\n",
       "<style scoped>\n",
       "    .dataframe tbody tr th:only-of-type {\n",
       "        vertical-align: middle;\n",
       "    }\n",
       "\n",
       "    .dataframe tbody tr th {\n",
       "        vertical-align: top;\n",
       "    }\n",
       "\n",
       "    .dataframe thead th {\n",
       "        text-align: right;\n",
       "    }\n",
       "</style>\n",
       "<table border=\"1\" class=\"dataframe\">\n",
       "  <thead>\n",
       "    <tr style=\"text-align: right;\">\n",
       "      <th></th>\n",
       "      <th>Model</th>\n",
       "      <th>Plant</th>\n",
       "      <th>Month</th>\n",
       "      <th>U.S.A</th>\n",
       "      <th>Canada</th>\n",
       "      <th>Mexico</th>\n",
       "      <th>Europe</th>\n",
       "      <th>Eastern Europe</th>\n",
       "      <th>Latin America</th>\n",
       "      <th>Middle East</th>\n",
       "      <th>Africa</th>\n",
       "      <th>Asia Pacific</th>\n",
       "      <th>India</th>\n",
       "      <th>China</th>\n",
       "    </tr>\n",
       "  </thead>\n",
       "  <tbody>\n",
       "    <tr>\n",
       "      <th>0</th>\n",
       "      <td>Morning / Picanto</td>\n",
       "      <td>Korean Plant</td>\n",
       "      <td>January</td>\n",
       "      <td>0.0</td>\n",
       "      <td>0.0</td>\n",
       "      <td>0.0</td>\n",
       "      <td>5518.0</td>\n",
       "      <td>174.0</td>\n",
       "      <td>1452.0</td>\n",
       "      <td>1110.0</td>\n",
       "      <td>1073.0</td>\n",
       "      <td>459.0</td>\n",
       "      <td>0.0</td>\n",
       "      <td>0.0</td>\n",
       "    </tr>\n",
       "    <tr>\n",
       "      <th>1</th>\n",
       "      <td>Pride / Rio</td>\n",
       "      <td>Korean Plant</td>\n",
       "      <td>January</td>\n",
       "      <td>0.0</td>\n",
       "      <td>0.0</td>\n",
       "      <td>0.0</td>\n",
       "      <td>3130.0</td>\n",
       "      <td>61.0</td>\n",
       "      <td>68.0</td>\n",
       "      <td>347.0</td>\n",
       "      <td>512.0</td>\n",
       "      <td>608.0</td>\n",
       "      <td>0.0</td>\n",
       "      <td>0.0</td>\n",
       "    </tr>\n",
       "    <tr>\n",
       "      <th>2</th>\n",
       "      <td>K3</td>\n",
       "      <td>Korean Plant</td>\n",
       "      <td>January</td>\n",
       "      <td>0.0</td>\n",
       "      <td>95.0</td>\n",
       "      <td>57.0</td>\n",
       "      <td>0.0</td>\n",
       "      <td>171.0</td>\n",
       "      <td>13.0</td>\n",
       "      <td>175.0</td>\n",
       "      <td>5.0</td>\n",
       "      <td>333.0</td>\n",
       "      <td>0.0</td>\n",
       "      <td>0.0</td>\n",
       "    </tr>\n",
       "    <tr>\n",
       "      <th>3</th>\n",
       "      <td>K5 / Optima</td>\n",
       "      <td>Korean Plant</td>\n",
       "      <td>January</td>\n",
       "      <td>0.0</td>\n",
       "      <td>0.0</td>\n",
       "      <td>0.0</td>\n",
       "      <td>0.0</td>\n",
       "      <td>774.0</td>\n",
       "      <td>0.0</td>\n",
       "      <td>1116.0</td>\n",
       "      <td>1.0</td>\n",
       "      <td>3.0</td>\n",
       "      <td>0.0</td>\n",
       "      <td>0.0</td>\n",
       "    </tr>\n",
       "    <tr>\n",
       "      <th>4</th>\n",
       "      <td>Stinger</td>\n",
       "      <td>Korean Plant</td>\n",
       "      <td>January</td>\n",
       "      <td>466.0</td>\n",
       "      <td>22.0</td>\n",
       "      <td>10.0</td>\n",
       "      <td>101.0</td>\n",
       "      <td>10.0</td>\n",
       "      <td>0.0</td>\n",
       "      <td>0.0</td>\n",
       "      <td>0.0</td>\n",
       "      <td>180.0</td>\n",
       "      <td>0.0</td>\n",
       "      <td>0.0</td>\n",
       "    </tr>\n",
       "  </tbody>\n",
       "</table>\n",
       "</div>"
      ],
      "text/plain": [
       "               Model         Plant    Month  U.S.A  Canada  Mexico  Europe  \\\n",
       "0  Morning / Picanto  Korean Plant  January    0.0     0.0     0.0  5518.0   \n",
       "1        Pride / Rio  Korean Plant  January    0.0     0.0     0.0  3130.0   \n",
       "2                 K3  Korean Plant  January    0.0    95.0    57.0     0.0   \n",
       "3        K5 / Optima  Korean Plant  January    0.0     0.0     0.0     0.0   \n",
       "4            Stinger  Korean Plant  January  466.0    22.0    10.0   101.0   \n",
       "\n",
       "   Eastern Europe  Latin America  Middle East  Africa  Asia Pacific  India  \\\n",
       "0           174.0         1452.0       1110.0  1073.0         459.0    0.0   \n",
       "1            61.0           68.0        347.0   512.0         608.0    0.0   \n",
       "2           171.0           13.0        175.0     5.0         333.0    0.0   \n",
       "3           774.0            0.0       1116.0     1.0           3.0    0.0   \n",
       "4            10.0            0.0          0.0     0.0         180.0    0.0   \n",
       "\n",
       "   China  \n",
       "0    0.0  \n",
       "1    0.0  \n",
       "2    0.0  \n",
       "3    0.0  \n",
       "4    0.0  "
      ]
     },
     "execution_count": 381,
     "metadata": {},
     "output_type": "execute_result"
    }
   ],
   "source": [
    "df_2023.head()"
   ]
  },
  {
   "cell_type": "code",
   "execution_count": 382,
   "metadata": {},
   "outputs": [],
   "source": [
    "df_2023[\"연도\"] = 2023"
   ]
  },
  {
   "cell_type": "code",
   "execution_count": 383,
   "metadata": {},
   "outputs": [
    {
     "data": {
      "application/vnd.microsoft.datawrangler.viewer.v0+json": {
       "columns": [
        {
         "name": "index",
         "rawType": "int64",
         "type": "integer"
        },
        {
         "name": "Model",
         "rawType": "object",
         "type": "string"
        },
        {
         "name": "Plant",
         "rawType": "object",
         "type": "string"
        },
        {
         "name": "Month",
         "rawType": "object",
         "type": "string"
        },
        {
         "name": "Korea",
         "rawType": "float64",
         "type": "float"
        },
        {
         "name": "U.S.A",
         "rawType": "float64",
         "type": "float"
        },
        {
         "name": "Canada",
         "rawType": "float64",
         "type": "float"
        },
        {
         "name": "Mexico",
         "rawType": "float64",
         "type": "float"
        },
        {
         "name": "*Europe",
         "rawType": "float64",
         "type": "float"
        },
        {
         "name": "Eastern Europe",
         "rawType": "float64",
         "type": "float"
        },
        {
         "name": "Latin America",
         "rawType": "float64",
         "type": "float"
        },
        {
         "name": "Middle East",
         "rawType": "float64",
         "type": "float"
        },
        {
         "name": "Africa",
         "rawType": "float64",
         "type": "float"
        },
        {
         "name": "Asia Pacific",
         "rawType": "float64",
         "type": "float"
        },
        {
         "name": "India",
         "rawType": "float64",
         "type": "float"
        },
        {
         "name": "China",
         "rawType": "float64",
         "type": "float"
        }
       ],
       "conversionMethod": "pd.DataFrame",
       "ref": "81713603-76be-4e19-8416-ac1afb5fb38e",
       "rows": [
        [
         "0",
         "Morning / Picanto",
         "Korea Plants",
         "January",
         "1214.0",
         "0.0",
         "0.0",
         "0.0",
         "4726.0",
         "68.0",
         "1564.0",
         "1274.0",
         "748.0",
         "315.0",
         "0.0",
         "0.0"
        ],
        [
         "1",
         "Pride / Rio",
         "Korea Plants",
         "January",
         "0.0",
         "0.0",
         "0.0",
         "0.0",
         "82.0",
         "2.0",
         "0.0",
         "148.0",
         "2.0",
         "0.0",
         "0.0",
         "0.0"
        ],
        [
         "2",
         "Ray",
         "Korea Plants",
         "January",
         "4020.0",
         "0.0",
         "0.0",
         "0.0",
         "0.0",
         "0.0",
         "0.0",
         "0.0",
         "0.0",
         "0.0",
         "0.0",
         "0.0"
        ],
        [
         "3",
         "Ray EV",
         "Korea Plants",
         "January",
         "110.0",
         "0.0",
         "0.0",
         "0.0",
         "0.0",
         "0.0",
         "0.0",
         "0.0",
         "0.0",
         "0.0",
         "0.0",
         "0.0"
        ],
        [
         "4",
         "K3",
         "Korea Plants",
         "January",
         "1419.0",
         "0.0",
         "9.0",
         "39.0",
         "0.0",
         "71.0",
         "10.0",
         "749.0",
         "104.0",
         "1030.0",
         "0.0",
         "0.0"
        ]
       ],
       "shape": {
        "columns": 15,
        "rows": 5
       }
      },
      "text/html": [
       "<div>\n",
       "<style scoped>\n",
       "    .dataframe tbody tr th:only-of-type {\n",
       "        vertical-align: middle;\n",
       "    }\n",
       "\n",
       "    .dataframe tbody tr th {\n",
       "        vertical-align: top;\n",
       "    }\n",
       "\n",
       "    .dataframe thead th {\n",
       "        text-align: right;\n",
       "    }\n",
       "</style>\n",
       "<table border=\"1\" class=\"dataframe\">\n",
       "  <thead>\n",
       "    <tr style=\"text-align: right;\">\n",
       "      <th></th>\n",
       "      <th>Model</th>\n",
       "      <th>Plant</th>\n",
       "      <th>Month</th>\n",
       "      <th>Korea</th>\n",
       "      <th>U.S.A</th>\n",
       "      <th>Canada</th>\n",
       "      <th>Mexico</th>\n",
       "      <th>*Europe</th>\n",
       "      <th>Eastern Europe</th>\n",
       "      <th>Latin America</th>\n",
       "      <th>Middle East</th>\n",
       "      <th>Africa</th>\n",
       "      <th>Asia Pacific</th>\n",
       "      <th>India</th>\n",
       "      <th>China</th>\n",
       "    </tr>\n",
       "  </thead>\n",
       "  <tbody>\n",
       "    <tr>\n",
       "      <th>0</th>\n",
       "      <td>Morning / Picanto</td>\n",
       "      <td>Korea Plants</td>\n",
       "      <td>January</td>\n",
       "      <td>1214.0</td>\n",
       "      <td>0.0</td>\n",
       "      <td>0.0</td>\n",
       "      <td>0.0</td>\n",
       "      <td>4726.0</td>\n",
       "      <td>68.0</td>\n",
       "      <td>1564.0</td>\n",
       "      <td>1274.0</td>\n",
       "      <td>748.0</td>\n",
       "      <td>315.0</td>\n",
       "      <td>0.0</td>\n",
       "      <td>0.0</td>\n",
       "    </tr>\n",
       "    <tr>\n",
       "      <th>1</th>\n",
       "      <td>Pride / Rio</td>\n",
       "      <td>Korea Plants</td>\n",
       "      <td>January</td>\n",
       "      <td>0.0</td>\n",
       "      <td>0.0</td>\n",
       "      <td>0.0</td>\n",
       "      <td>0.0</td>\n",
       "      <td>82.0</td>\n",
       "      <td>2.0</td>\n",
       "      <td>0.0</td>\n",
       "      <td>148.0</td>\n",
       "      <td>2.0</td>\n",
       "      <td>0.0</td>\n",
       "      <td>0.0</td>\n",
       "      <td>0.0</td>\n",
       "    </tr>\n",
       "    <tr>\n",
       "      <th>2</th>\n",
       "      <td>Ray</td>\n",
       "      <td>Korea Plants</td>\n",
       "      <td>January</td>\n",
       "      <td>4020.0</td>\n",
       "      <td>0.0</td>\n",
       "      <td>0.0</td>\n",
       "      <td>0.0</td>\n",
       "      <td>0.0</td>\n",
       "      <td>0.0</td>\n",
       "      <td>0.0</td>\n",
       "      <td>0.0</td>\n",
       "      <td>0.0</td>\n",
       "      <td>0.0</td>\n",
       "      <td>0.0</td>\n",
       "      <td>0.0</td>\n",
       "    </tr>\n",
       "    <tr>\n",
       "      <th>3</th>\n",
       "      <td>Ray EV</td>\n",
       "      <td>Korea Plants</td>\n",
       "      <td>January</td>\n",
       "      <td>110.0</td>\n",
       "      <td>0.0</td>\n",
       "      <td>0.0</td>\n",
       "      <td>0.0</td>\n",
       "      <td>0.0</td>\n",
       "      <td>0.0</td>\n",
       "      <td>0.0</td>\n",
       "      <td>0.0</td>\n",
       "      <td>0.0</td>\n",
       "      <td>0.0</td>\n",
       "      <td>0.0</td>\n",
       "      <td>0.0</td>\n",
       "    </tr>\n",
       "    <tr>\n",
       "      <th>4</th>\n",
       "      <td>K3</td>\n",
       "      <td>Korea Plants</td>\n",
       "      <td>January</td>\n",
       "      <td>1419.0</td>\n",
       "      <td>0.0</td>\n",
       "      <td>9.0</td>\n",
       "      <td>39.0</td>\n",
       "      <td>0.0</td>\n",
       "      <td>71.0</td>\n",
       "      <td>10.0</td>\n",
       "      <td>749.0</td>\n",
       "      <td>104.0</td>\n",
       "      <td>1030.0</td>\n",
       "      <td>0.0</td>\n",
       "      <td>0.0</td>\n",
       "    </tr>\n",
       "  </tbody>\n",
       "</table>\n",
       "</div>"
      ],
      "text/plain": [
       "               Model         Plant    Month   Korea  U.S.A  Canada  Mexico  \\\n",
       "0  Morning / Picanto  Korea Plants  January  1214.0    0.0     0.0     0.0   \n",
       "1        Pride / Rio  Korea Plants  January     0.0    0.0     0.0     0.0   \n",
       "2                Ray  Korea Plants  January  4020.0    0.0     0.0     0.0   \n",
       "3             Ray EV  Korea Plants  January   110.0    0.0     0.0     0.0   \n",
       "4                 K3  Korea Plants  January  1419.0    0.0     9.0    39.0   \n",
       "\n",
       "   *Europe  Eastern Europe  Latin America  Middle East  Africa  Asia Pacific  \\\n",
       "0   4726.0            68.0         1564.0       1274.0   748.0         315.0   \n",
       "1     82.0             2.0            0.0        148.0     2.0           0.0   \n",
       "2      0.0             0.0            0.0          0.0     0.0           0.0   \n",
       "3      0.0             0.0            0.0          0.0     0.0           0.0   \n",
       "4      0.0            71.0           10.0        749.0   104.0        1030.0   \n",
       "\n",
       "   India  China  \n",
       "0    0.0    0.0  \n",
       "1    0.0    0.0  \n",
       "2    0.0    0.0  \n",
       "3    0.0    0.0  \n",
       "4    0.0    0.0  "
      ]
     },
     "execution_count": 383,
     "metadata": {},
     "output_type": "execute_result"
    }
   ],
   "source": [
    "df_2024.head()"
   ]
  },
  {
   "cell_type": "code",
   "execution_count": 384,
   "metadata": {},
   "outputs": [],
   "source": [
    "df_2024[\"연도\"] = 2024"
   ]
  },
  {
   "cell_type": "code",
   "execution_count": 385,
   "metadata": {},
   "outputs": [
    {
     "data": {
      "application/vnd.microsoft.datawrangler.viewer.v0+json": {
       "columns": [
        {
         "name": "index",
         "rawType": "int64",
         "type": "integer"
        },
        {
         "name": "Model",
         "rawType": "object",
         "type": "string"
        },
        {
         "name": "Plant",
         "rawType": "object",
         "type": "string"
        },
        {
         "name": "Month",
         "rawType": "object",
         "type": "string"
        },
        {
         "name": "Korea",
         "rawType": "float64",
         "type": "float"
        },
        {
         "name": "U.S.A",
         "rawType": "float64",
         "type": "float"
        },
        {
         "name": "Canada",
         "rawType": "float64",
         "type": "float"
        },
        {
         "name": "Mexico",
         "rawType": "float64",
         "type": "float"
        },
        {
         "name": "*Europe",
         "rawType": "float64",
         "type": "float"
        },
        {
         "name": "Eastern Europe",
         "rawType": "float64",
         "type": "float"
        },
        {
         "name": "Latin America",
         "rawType": "float64",
         "type": "float"
        },
        {
         "name": "Middle East",
         "rawType": "float64",
         "type": "float"
        },
        {
         "name": "Africa",
         "rawType": "float64",
         "type": "float"
        },
        {
         "name": "Asia Pacific",
         "rawType": "float64",
         "type": "float"
        },
        {
         "name": "India",
         "rawType": "float64",
         "type": "float"
        },
        {
         "name": "China",
         "rawType": "float64",
         "type": "float"
        },
        {
         "name": "연도",
         "rawType": "int64",
         "type": "integer"
        }
       ],
       "conversionMethod": "pd.DataFrame",
       "ref": "8660c412-161d-477d-b40a-df63ecaf703e",
       "rows": [
        [
         "0",
         "Morning / Picanto",
         "Korea Plants",
         "January",
         "1214.0",
         "0.0",
         "0.0",
         "0.0",
         "4726.0",
         "68.0",
         "1564.0",
         "1274.0",
         "748.0",
         "315.0",
         "0.0",
         "0.0",
         "2024"
        ],
        [
         "1",
         "Pride / Rio",
         "Korea Plants",
         "January",
         "0.0",
         "0.0",
         "0.0",
         "0.0",
         "82.0",
         "2.0",
         "0.0",
         "148.0",
         "2.0",
         "0.0",
         "0.0",
         "0.0",
         "2024"
        ],
        [
         "2",
         "Ray",
         "Korea Plants",
         "January",
         "4020.0",
         "0.0",
         "0.0",
         "0.0",
         "0.0",
         "0.0",
         "0.0",
         "0.0",
         "0.0",
         "0.0",
         "0.0",
         "0.0",
         "2024"
        ],
        [
         "3",
         "Ray EV",
         "Korea Plants",
         "January",
         "110.0",
         "0.0",
         "0.0",
         "0.0",
         "0.0",
         "0.0",
         "0.0",
         "0.0",
         "0.0",
         "0.0",
         "0.0",
         "0.0",
         "2024"
        ],
        [
         "4",
         "K3",
         "Korea Plants",
         "January",
         "1419.0",
         "0.0",
         "9.0",
         "39.0",
         "0.0",
         "71.0",
         "10.0",
         "749.0",
         "104.0",
         "1030.0",
         "0.0",
         "0.0",
         "2024"
        ]
       ],
       "shape": {
        "columns": 16,
        "rows": 5
       }
      },
      "text/html": [
       "<div>\n",
       "<style scoped>\n",
       "    .dataframe tbody tr th:only-of-type {\n",
       "        vertical-align: middle;\n",
       "    }\n",
       "\n",
       "    .dataframe tbody tr th {\n",
       "        vertical-align: top;\n",
       "    }\n",
       "\n",
       "    .dataframe thead th {\n",
       "        text-align: right;\n",
       "    }\n",
       "</style>\n",
       "<table border=\"1\" class=\"dataframe\">\n",
       "  <thead>\n",
       "    <tr style=\"text-align: right;\">\n",
       "      <th></th>\n",
       "      <th>Model</th>\n",
       "      <th>Plant</th>\n",
       "      <th>Month</th>\n",
       "      <th>Korea</th>\n",
       "      <th>U.S.A</th>\n",
       "      <th>Canada</th>\n",
       "      <th>Mexico</th>\n",
       "      <th>*Europe</th>\n",
       "      <th>Eastern Europe</th>\n",
       "      <th>Latin America</th>\n",
       "      <th>Middle East</th>\n",
       "      <th>Africa</th>\n",
       "      <th>Asia Pacific</th>\n",
       "      <th>India</th>\n",
       "      <th>China</th>\n",
       "      <th>연도</th>\n",
       "    </tr>\n",
       "  </thead>\n",
       "  <tbody>\n",
       "    <tr>\n",
       "      <th>0</th>\n",
       "      <td>Morning / Picanto</td>\n",
       "      <td>Korea Plants</td>\n",
       "      <td>January</td>\n",
       "      <td>1214.0</td>\n",
       "      <td>0.0</td>\n",
       "      <td>0.0</td>\n",
       "      <td>0.0</td>\n",
       "      <td>4726.0</td>\n",
       "      <td>68.0</td>\n",
       "      <td>1564.0</td>\n",
       "      <td>1274.0</td>\n",
       "      <td>748.0</td>\n",
       "      <td>315.0</td>\n",
       "      <td>0.0</td>\n",
       "      <td>0.0</td>\n",
       "      <td>2024</td>\n",
       "    </tr>\n",
       "    <tr>\n",
       "      <th>1</th>\n",
       "      <td>Pride / Rio</td>\n",
       "      <td>Korea Plants</td>\n",
       "      <td>January</td>\n",
       "      <td>0.0</td>\n",
       "      <td>0.0</td>\n",
       "      <td>0.0</td>\n",
       "      <td>0.0</td>\n",
       "      <td>82.0</td>\n",
       "      <td>2.0</td>\n",
       "      <td>0.0</td>\n",
       "      <td>148.0</td>\n",
       "      <td>2.0</td>\n",
       "      <td>0.0</td>\n",
       "      <td>0.0</td>\n",
       "      <td>0.0</td>\n",
       "      <td>2024</td>\n",
       "    </tr>\n",
       "    <tr>\n",
       "      <th>2</th>\n",
       "      <td>Ray</td>\n",
       "      <td>Korea Plants</td>\n",
       "      <td>January</td>\n",
       "      <td>4020.0</td>\n",
       "      <td>0.0</td>\n",
       "      <td>0.0</td>\n",
       "      <td>0.0</td>\n",
       "      <td>0.0</td>\n",
       "      <td>0.0</td>\n",
       "      <td>0.0</td>\n",
       "      <td>0.0</td>\n",
       "      <td>0.0</td>\n",
       "      <td>0.0</td>\n",
       "      <td>0.0</td>\n",
       "      <td>0.0</td>\n",
       "      <td>2024</td>\n",
       "    </tr>\n",
       "    <tr>\n",
       "      <th>3</th>\n",
       "      <td>Ray EV</td>\n",
       "      <td>Korea Plants</td>\n",
       "      <td>January</td>\n",
       "      <td>110.0</td>\n",
       "      <td>0.0</td>\n",
       "      <td>0.0</td>\n",
       "      <td>0.0</td>\n",
       "      <td>0.0</td>\n",
       "      <td>0.0</td>\n",
       "      <td>0.0</td>\n",
       "      <td>0.0</td>\n",
       "      <td>0.0</td>\n",
       "      <td>0.0</td>\n",
       "      <td>0.0</td>\n",
       "      <td>0.0</td>\n",
       "      <td>2024</td>\n",
       "    </tr>\n",
       "    <tr>\n",
       "      <th>4</th>\n",
       "      <td>K3</td>\n",
       "      <td>Korea Plants</td>\n",
       "      <td>January</td>\n",
       "      <td>1419.0</td>\n",
       "      <td>0.0</td>\n",
       "      <td>9.0</td>\n",
       "      <td>39.0</td>\n",
       "      <td>0.0</td>\n",
       "      <td>71.0</td>\n",
       "      <td>10.0</td>\n",
       "      <td>749.0</td>\n",
       "      <td>104.0</td>\n",
       "      <td>1030.0</td>\n",
       "      <td>0.0</td>\n",
       "      <td>0.0</td>\n",
       "      <td>2024</td>\n",
       "    </tr>\n",
       "  </tbody>\n",
       "</table>\n",
       "</div>"
      ],
      "text/plain": [
       "               Model         Plant    Month   Korea  U.S.A  Canada  Mexico  \\\n",
       "0  Morning / Picanto  Korea Plants  January  1214.0    0.0     0.0     0.0   \n",
       "1        Pride / Rio  Korea Plants  January     0.0    0.0     0.0     0.0   \n",
       "2                Ray  Korea Plants  January  4020.0    0.0     0.0     0.0   \n",
       "3             Ray EV  Korea Plants  January   110.0    0.0     0.0     0.0   \n",
       "4                 K3  Korea Plants  January  1419.0    0.0     9.0    39.0   \n",
       "\n",
       "   *Europe  Eastern Europe  Latin America  Middle East  Africa  Asia Pacific  \\\n",
       "0   4726.0            68.0         1564.0       1274.0   748.0         315.0   \n",
       "1     82.0             2.0            0.0        148.0     2.0           0.0   \n",
       "2      0.0             0.0            0.0          0.0     0.0           0.0   \n",
       "3      0.0             0.0            0.0          0.0     0.0           0.0   \n",
       "4      0.0            71.0           10.0        749.0   104.0        1030.0   \n",
       "\n",
       "   India  China    연도  \n",
       "0    0.0    0.0  2024  \n",
       "1    0.0    0.0  2024  \n",
       "2    0.0    0.0  2024  \n",
       "3    0.0    0.0  2024  \n",
       "4    0.0    0.0  2024  "
      ]
     },
     "execution_count": 385,
     "metadata": {},
     "output_type": "execute_result"
    }
   ],
   "source": [
    "df_2024.head()"
   ]
  },
  {
   "cell_type": "code",
   "execution_count": 386,
   "metadata": {},
   "outputs": [],
   "source": [
    "df_2025[\"연도\"] = 2025"
   ]
  },
  {
   "cell_type": "code",
   "execution_count": 387,
   "metadata": {},
   "outputs": [
    {
     "data": {
      "application/vnd.microsoft.datawrangler.viewer.v0+json": {
       "columns": [
        {
         "name": "index",
         "rawType": "int64",
         "type": "integer"
        },
        {
         "name": "model",
         "rawType": "object",
         "type": "string"
        },
        {
         "name": "Plant",
         "rawType": "object",
         "type": "string"
        },
        {
         "name": "Month",
         "rawType": "object",
         "type": "string"
        },
        {
         "name": "Korea",
         "rawType": "object",
         "type": "string"
        },
        {
         "name": "U.S.A",
         "rawType": "object",
         "type": "string"
        },
        {
         "name": "Canada",
         "rawType": "object",
         "type": "string"
        },
        {
         "name": "Mexico",
         "rawType": "object",
         "type": "unknown"
        },
        {
         "name": "Europe",
         "rawType": "object",
         "type": "string"
        },
        {
         "name": "Eastern Europe",
         "rawType": "object",
         "type": "string"
        },
        {
         "name": "Latin America",
         "rawType": "object",
         "type": "string"
        },
        {
         "name": "Middle East",
         "rawType": "object",
         "type": "unknown"
        },
        {
         "name": "Africa",
         "rawType": "float64",
         "type": "float"
        },
        {
         "name": "Asia Pacific",
         "rawType": "object",
         "type": "string"
        },
        {
         "name": "India",
         "rawType": "object",
         "type": "string"
        },
        {
         "name": "China",
         "rawType": "object",
         "type": "string"
        },
        {
         "name": "연도",
         "rawType": "int64",
         "type": "integer"
        }
       ],
       "conversionMethod": "pd.DataFrame",
       "ref": "b98bb010-f941-4001-914c-06de5bddc8a8",
       "rows": [
        [
         "0",
         "Morning / Picanto",
         "Korea Plants",
         "Jan",
         "1,484",
         "0",
         "0",
         null,
         "6,380",
         "82",
         "1,440",
         "1,290",
         "515.0",
         "685",
         "0",
         "0",
         "2025"
        ],
        [
         "1",
         "Pride / Rio",
         "Korea Plants",
         "Jan",
         "0",
         "0",
         "0",
         null,
         "0",
         "0",
         "0",
         "0",
         "0.0",
         "1",
         "0",
         "0",
         "2025"
        ],
        [
         "2",
         "Ray",
         "Korea Plants",
         "Jan",
         "3,803",
         "0",
         "0",
         null,
         "0",
         "0",
         "0",
         null,
         null,
         "0",
         "0",
         "0",
         "2025"
        ],
        [
         "3",
         "Ray EV",
         "Korea Plants",
         "Jan",
         "73",
         "0",
         "0",
         null,
         "0",
         "0",
         "0",
         null,
         null,
         "0",
         "0",
         "0",
         "2025"
        ],
        [
         "4",
         "K3",
         "Korea Plants",
         "Jan",
         "0",
         "0",
         "5",
         "2",
         "0",
         "15",
         "5",
         "181",
         "70.0",
         "409",
         "0",
         "0",
         "2025"
        ]
       ],
       "shape": {
        "columns": 16,
        "rows": 5
       }
      },
      "text/html": [
       "<div>\n",
       "<style scoped>\n",
       "    .dataframe tbody tr th:only-of-type {\n",
       "        vertical-align: middle;\n",
       "    }\n",
       "\n",
       "    .dataframe tbody tr th {\n",
       "        vertical-align: top;\n",
       "    }\n",
       "\n",
       "    .dataframe thead th {\n",
       "        text-align: right;\n",
       "    }\n",
       "</style>\n",
       "<table border=\"1\" class=\"dataframe\">\n",
       "  <thead>\n",
       "    <tr style=\"text-align: right;\">\n",
       "      <th></th>\n",
       "      <th>model</th>\n",
       "      <th>Plant</th>\n",
       "      <th>Month</th>\n",
       "      <th>Korea</th>\n",
       "      <th>U.S.A</th>\n",
       "      <th>Canada</th>\n",
       "      <th>Mexico</th>\n",
       "      <th>Europe</th>\n",
       "      <th>Eastern Europe</th>\n",
       "      <th>Latin America</th>\n",
       "      <th>Middle East</th>\n",
       "      <th>Africa</th>\n",
       "      <th>Asia Pacific</th>\n",
       "      <th>India</th>\n",
       "      <th>China</th>\n",
       "      <th>연도</th>\n",
       "    </tr>\n",
       "  </thead>\n",
       "  <tbody>\n",
       "    <tr>\n",
       "      <th>0</th>\n",
       "      <td>Morning / Picanto</td>\n",
       "      <td>Korea Plants</td>\n",
       "      <td>Jan</td>\n",
       "      <td>1,484</td>\n",
       "      <td>0</td>\n",
       "      <td>0</td>\n",
       "      <td>NaN</td>\n",
       "      <td>6,380</td>\n",
       "      <td>82</td>\n",
       "      <td>1,440</td>\n",
       "      <td>1,290</td>\n",
       "      <td>515.0</td>\n",
       "      <td>685</td>\n",
       "      <td>0</td>\n",
       "      <td>0</td>\n",
       "      <td>2025</td>\n",
       "    </tr>\n",
       "    <tr>\n",
       "      <th>1</th>\n",
       "      <td>Pride / Rio</td>\n",
       "      <td>Korea Plants</td>\n",
       "      <td>Jan</td>\n",
       "      <td>0</td>\n",
       "      <td>0</td>\n",
       "      <td>0</td>\n",
       "      <td>NaN</td>\n",
       "      <td>0</td>\n",
       "      <td>0</td>\n",
       "      <td>0</td>\n",
       "      <td>0</td>\n",
       "      <td>0.0</td>\n",
       "      <td>1</td>\n",
       "      <td>0</td>\n",
       "      <td>0</td>\n",
       "      <td>2025</td>\n",
       "    </tr>\n",
       "    <tr>\n",
       "      <th>2</th>\n",
       "      <td>Ray</td>\n",
       "      <td>Korea Plants</td>\n",
       "      <td>Jan</td>\n",
       "      <td>3,803</td>\n",
       "      <td>0</td>\n",
       "      <td>0</td>\n",
       "      <td>NaN</td>\n",
       "      <td>0</td>\n",
       "      <td>0</td>\n",
       "      <td>0</td>\n",
       "      <td>NaN</td>\n",
       "      <td>NaN</td>\n",
       "      <td>0</td>\n",
       "      <td>0</td>\n",
       "      <td>0</td>\n",
       "      <td>2025</td>\n",
       "    </tr>\n",
       "    <tr>\n",
       "      <th>3</th>\n",
       "      <td>Ray EV</td>\n",
       "      <td>Korea Plants</td>\n",
       "      <td>Jan</td>\n",
       "      <td>73</td>\n",
       "      <td>0</td>\n",
       "      <td>0</td>\n",
       "      <td>NaN</td>\n",
       "      <td>0</td>\n",
       "      <td>0</td>\n",
       "      <td>0</td>\n",
       "      <td>NaN</td>\n",
       "      <td>NaN</td>\n",
       "      <td>0</td>\n",
       "      <td>0</td>\n",
       "      <td>0</td>\n",
       "      <td>2025</td>\n",
       "    </tr>\n",
       "    <tr>\n",
       "      <th>4</th>\n",
       "      <td>K3</td>\n",
       "      <td>Korea Plants</td>\n",
       "      <td>Jan</td>\n",
       "      <td>0</td>\n",
       "      <td>0</td>\n",
       "      <td>5</td>\n",
       "      <td>2</td>\n",
       "      <td>0</td>\n",
       "      <td>15</td>\n",
       "      <td>5</td>\n",
       "      <td>181</td>\n",
       "      <td>70.0</td>\n",
       "      <td>409</td>\n",
       "      <td>0</td>\n",
       "      <td>0</td>\n",
       "      <td>2025</td>\n",
       "    </tr>\n",
       "  </tbody>\n",
       "</table>\n",
       "</div>"
      ],
      "text/plain": [
       "               model         Plant Month  Korea U.S.A Canada Mexico Europe  \\\n",
       "0  Morning / Picanto  Korea Plants   Jan  1,484     0      0    NaN  6,380   \n",
       "1        Pride / Rio  Korea Plants   Jan      0     0      0    NaN      0   \n",
       "2                Ray  Korea Plants   Jan  3,803     0      0    NaN      0   \n",
       "3             Ray EV  Korea Plants   Jan     73     0      0    NaN      0   \n",
       "4                 K3  Korea Plants   Jan      0     0      5      2      0   \n",
       "\n",
       "  Eastern Europe Latin America Middle East  Africa Asia Pacific India China  \\\n",
       "0             82         1,440       1,290   515.0          685     0     0   \n",
       "1              0             0           0     0.0            1     0     0   \n",
       "2              0             0         NaN     NaN            0     0     0   \n",
       "3              0             0         NaN     NaN            0     0     0   \n",
       "4             15             5         181    70.0          409     0     0   \n",
       "\n",
       "     연도  \n",
       "0  2025  \n",
       "1  2025  \n",
       "2  2025  \n",
       "3  2025  \n",
       "4  2025  "
      ]
     },
     "execution_count": 387,
     "metadata": {},
     "output_type": "execute_result"
    }
   ],
   "source": [
    "df_2025.head()"
   ]
  },
  {
   "cell_type": "code",
   "execution_count": 388,
   "metadata": {},
   "outputs": [
    {
     "data": {
      "text/plain": [
       "Index(['Model', 'Plant', 'Month', 'U.S.A', 'Canada', 'Mexico', 'Europe',\n",
       "       'Eastern Europe', 'Latin America', 'Middle East', 'Africa',\n",
       "       'Asia Pacific', 'India', 'China', '연도'],\n",
       "      dtype='object')"
      ]
     },
     "execution_count": 388,
     "metadata": {},
     "output_type": "execute_result"
    }
   ],
   "source": [
    "df_2023.columns"
   ]
  },
  {
   "cell_type": "code",
   "execution_count": 389,
   "metadata": {},
   "outputs": [
    {
     "data": {
      "text/plain": [
       "Index(['Model', 'Plant', 'Month', 'Korea', 'U.S.A', 'Canada', 'Mexico',\n",
       "       '*Europe', 'Eastern Europe', 'Latin America', 'Middle East', 'Africa',\n",
       "       'Asia Pacific', 'India', 'China', '연도'],\n",
       "      dtype='object')"
      ]
     },
     "execution_count": 389,
     "metadata": {},
     "output_type": "execute_result"
    }
   ],
   "source": [
    "df_2024.columns"
   ]
  },
  {
   "cell_type": "code",
   "execution_count": 390,
   "metadata": {},
   "outputs": [
    {
     "data": {
      "text/plain": [
       "Index(['model', 'Plant', 'Month', 'Korea', 'U.S.A', 'Canada', 'Mexico',\n",
       "       'Europe', 'Eastern Europe', 'Latin America', 'Middle East', 'Africa',\n",
       "       'Asia Pacific', 'India', 'China', '연도'],\n",
       "      dtype='object')"
      ]
     },
     "execution_count": 390,
     "metadata": {},
     "output_type": "execute_result"
    }
   ],
   "source": [
    "df_2025.columns"
   ]
  },
  {
   "cell_type": "code",
   "execution_count": 391,
   "metadata": {},
   "outputs": [
    {
     "name": "stdout",
     "output_type": "stream",
     "text": [
      "Index(['Model', 'Plant', 'Month', 'U.S.A', 'Canada', 'Mexico', 'Europe',\n",
      "       'Eastern Europe', 'Latin America', 'Middle East', 'Africa',\n",
      "       'Asia Pacific', 'India', 'China', '연도'],\n",
      "      dtype='object')\n",
      "Index(['Model', 'Plant', 'Month', 'U.S.A', 'Canada', 'Mexico', 'Europe',\n",
      "       'Eastern Europe', 'Latin America', 'Middle East', 'Africa',\n",
      "       'Asia Pacific', 'India', 'China', '연도'],\n",
      "      dtype='object')\n"
     ]
    }
   ],
   "source": [
    "# df_2024 컬럼 정리 (Model 대소문자 통일, 불필요 컬럼 드롭)\n",
    "df_2024.rename(columns={'*Europe': 'Europe'}, inplace=True)\n",
    "df_2024 = df_2024[['Model', 'Plant', 'Month', 'U.S.A', 'Canada', 'Mexico',\n",
    "                   'Europe', 'Eastern Europe', 'Latin America',\n",
    "                   'Middle East', 'Africa', 'Asia Pacific',\n",
    "                   'India', 'China', '연도']]\n",
    "\n",
    "# df_2025 컬럼 정리 ('model'→'Model' 변경, 불필요 컬럼 드롭)\n",
    "df_2025.rename(columns={'model': 'Model'}, inplace=True)\n",
    "df_2025 = df_2025[['Model', 'Plant', 'Month', 'U.S.A', 'Canada', 'Mexico',\n",
    "                   'Europe', 'Eastern Europe', 'Latin America',\n",
    "                   'Middle East', 'Africa', 'Asia Pacific',\n",
    "                   'India', 'China', '연도']]\n",
    "\n",
    "# 결과 확인\n",
    "print(df_2024.columns)\n",
    "print(df_2025.columns)\n",
    "\n"
   ]
  },
  {
   "cell_type": "code",
   "execution_count": 392,
   "metadata": {},
   "outputs": [],
   "source": [
    "df = pd.concat([df_2023, df_2024, df_2025], ignore_index=True)"
   ]
  },
  {
   "cell_type": "code",
   "execution_count": 393,
   "metadata": {},
   "outputs": [],
   "source": [
    "df.to_csv(\"해외현지판매.CSV\", index=False)"
   ]
  },
  {
   "cell_type": "code",
   "execution_count": 394,
   "metadata": {},
   "outputs": [
    {
     "data": {
      "application/vnd.microsoft.datawrangler.viewer.v0+json": {
       "columns": [
        {
         "name": "index",
         "rawType": "int64",
         "type": "integer"
        },
        {
         "name": "Model",
         "rawType": "object",
         "type": "string"
        },
        {
         "name": "Plant",
         "rawType": "object",
         "type": "string"
        },
        {
         "name": "Month",
         "rawType": "object",
         "type": "string"
        },
        {
         "name": "U.S.A",
         "rawType": "object",
         "type": "unknown"
        },
        {
         "name": "Canada",
         "rawType": "object",
         "type": "unknown"
        },
        {
         "name": "Mexico",
         "rawType": "object",
         "type": "unknown"
        },
        {
         "name": "Europe",
         "rawType": "object",
         "type": "unknown"
        },
        {
         "name": "Eastern Europe",
         "rawType": "object",
         "type": "unknown"
        },
        {
         "name": "Latin America",
         "rawType": "object",
         "type": "unknown"
        },
        {
         "name": "Middle East",
         "rawType": "object",
         "type": "unknown"
        },
        {
         "name": "Africa",
         "rawType": "float64",
         "type": "float"
        },
        {
         "name": "Asia Pacific",
         "rawType": "object",
         "type": "unknown"
        },
        {
         "name": "India",
         "rawType": "object",
         "type": "unknown"
        },
        {
         "name": "China",
         "rawType": "object",
         "type": "unknown"
        },
        {
         "name": "연도",
         "rawType": "int64",
         "type": "integer"
        }
       ],
       "conversionMethod": "pd.DataFrame",
       "ref": "741db217-04e2-4f2f-8218-1df673ba7e61",
       "rows": [
        [
         "0",
         "Morning / Picanto",
         "Korean Plant",
         "January",
         "0.0",
         "0.0",
         "0.0",
         "5518.0",
         "174.0",
         "1452.0",
         "1110.0",
         "1073.0",
         "459.0",
         "0.0",
         "0.0",
         "2023"
        ],
        [
         "1",
         "Pride / Rio",
         "Korean Plant",
         "January",
         "0.0",
         "0.0",
         "0.0",
         "3130.0",
         "61.0",
         "68.0",
         "347.0",
         "512.0",
         "608.0",
         "0.0",
         "0.0",
         "2023"
        ],
        [
         "2",
         "K3",
         "Korean Plant",
         "January",
         "0.0",
         "95.0",
         "57.0",
         "0.0",
         "171.0",
         "13.0",
         "175.0",
         "5.0",
         "333.0",
         "0.0",
         "0.0",
         "2023"
        ],
        [
         "3",
         "K5 / Optima",
         "Korean Plant",
         "January",
         "0.0",
         "0.0",
         "0.0",
         "0.0",
         "774.0",
         "0.0",
         "1116.0",
         "1.0",
         "3.0",
         "0.0",
         "0.0",
         "2023"
        ],
        [
         "4",
         "Stinger",
         "Korean Plant",
         "January",
         "466.0",
         "22.0",
         "10.0",
         "101.0",
         "10.0",
         "0.0",
         "0.0",
         "0.0",
         "180.0",
         "0.0",
         "0.0",
         "2023"
        ]
       ],
       "shape": {
        "columns": 15,
        "rows": 5
       }
      },
      "text/html": [
       "<div>\n",
       "<style scoped>\n",
       "    .dataframe tbody tr th:only-of-type {\n",
       "        vertical-align: middle;\n",
       "    }\n",
       "\n",
       "    .dataframe tbody tr th {\n",
       "        vertical-align: top;\n",
       "    }\n",
       "\n",
       "    .dataframe thead th {\n",
       "        text-align: right;\n",
       "    }\n",
       "</style>\n",
       "<table border=\"1\" class=\"dataframe\">\n",
       "  <thead>\n",
       "    <tr style=\"text-align: right;\">\n",
       "      <th></th>\n",
       "      <th>Model</th>\n",
       "      <th>Plant</th>\n",
       "      <th>Month</th>\n",
       "      <th>U.S.A</th>\n",
       "      <th>Canada</th>\n",
       "      <th>Mexico</th>\n",
       "      <th>Europe</th>\n",
       "      <th>Eastern Europe</th>\n",
       "      <th>Latin America</th>\n",
       "      <th>Middle East</th>\n",
       "      <th>Africa</th>\n",
       "      <th>Asia Pacific</th>\n",
       "      <th>India</th>\n",
       "      <th>China</th>\n",
       "      <th>연도</th>\n",
       "    </tr>\n",
       "  </thead>\n",
       "  <tbody>\n",
       "    <tr>\n",
       "      <th>0</th>\n",
       "      <td>Morning / Picanto</td>\n",
       "      <td>Korean Plant</td>\n",
       "      <td>January</td>\n",
       "      <td>0.0</td>\n",
       "      <td>0.0</td>\n",
       "      <td>0.0</td>\n",
       "      <td>5518.0</td>\n",
       "      <td>174.0</td>\n",
       "      <td>1452.0</td>\n",
       "      <td>1110.0</td>\n",
       "      <td>1073.0</td>\n",
       "      <td>459.0</td>\n",
       "      <td>0.0</td>\n",
       "      <td>0.0</td>\n",
       "      <td>2023</td>\n",
       "    </tr>\n",
       "    <tr>\n",
       "      <th>1</th>\n",
       "      <td>Pride / Rio</td>\n",
       "      <td>Korean Plant</td>\n",
       "      <td>January</td>\n",
       "      <td>0.0</td>\n",
       "      <td>0.0</td>\n",
       "      <td>0.0</td>\n",
       "      <td>3130.0</td>\n",
       "      <td>61.0</td>\n",
       "      <td>68.0</td>\n",
       "      <td>347.0</td>\n",
       "      <td>512.0</td>\n",
       "      <td>608.0</td>\n",
       "      <td>0.0</td>\n",
       "      <td>0.0</td>\n",
       "      <td>2023</td>\n",
       "    </tr>\n",
       "    <tr>\n",
       "      <th>2</th>\n",
       "      <td>K3</td>\n",
       "      <td>Korean Plant</td>\n",
       "      <td>January</td>\n",
       "      <td>0.0</td>\n",
       "      <td>95.0</td>\n",
       "      <td>57.0</td>\n",
       "      <td>0.0</td>\n",
       "      <td>171.0</td>\n",
       "      <td>13.0</td>\n",
       "      <td>175.0</td>\n",
       "      <td>5.0</td>\n",
       "      <td>333.0</td>\n",
       "      <td>0.0</td>\n",
       "      <td>0.0</td>\n",
       "      <td>2023</td>\n",
       "    </tr>\n",
       "    <tr>\n",
       "      <th>3</th>\n",
       "      <td>K5 / Optima</td>\n",
       "      <td>Korean Plant</td>\n",
       "      <td>January</td>\n",
       "      <td>0.0</td>\n",
       "      <td>0.0</td>\n",
       "      <td>0.0</td>\n",
       "      <td>0.0</td>\n",
       "      <td>774.0</td>\n",
       "      <td>0.0</td>\n",
       "      <td>1116.0</td>\n",
       "      <td>1.0</td>\n",
       "      <td>3.0</td>\n",
       "      <td>0.0</td>\n",
       "      <td>0.0</td>\n",
       "      <td>2023</td>\n",
       "    </tr>\n",
       "    <tr>\n",
       "      <th>4</th>\n",
       "      <td>Stinger</td>\n",
       "      <td>Korean Plant</td>\n",
       "      <td>January</td>\n",
       "      <td>466.0</td>\n",
       "      <td>22.0</td>\n",
       "      <td>10.0</td>\n",
       "      <td>101.0</td>\n",
       "      <td>10.0</td>\n",
       "      <td>0.0</td>\n",
       "      <td>0.0</td>\n",
       "      <td>0.0</td>\n",
       "      <td>180.0</td>\n",
       "      <td>0.0</td>\n",
       "      <td>0.0</td>\n",
       "      <td>2023</td>\n",
       "    </tr>\n",
       "  </tbody>\n",
       "</table>\n",
       "</div>"
      ],
      "text/plain": [
       "               Model         Plant    Month  U.S.A Canada Mexico  Europe  \\\n",
       "0  Morning / Picanto  Korean Plant  January    0.0    0.0    0.0  5518.0   \n",
       "1        Pride / Rio  Korean Plant  January    0.0    0.0    0.0  3130.0   \n",
       "2                 K3  Korean Plant  January    0.0   95.0   57.0     0.0   \n",
       "3        K5 / Optima  Korean Plant  January    0.0    0.0    0.0     0.0   \n",
       "4            Stinger  Korean Plant  January  466.0   22.0   10.0   101.0   \n",
       "\n",
       "  Eastern Europe Latin America Middle East  Africa Asia Pacific India China  \\\n",
       "0          174.0        1452.0      1110.0  1073.0        459.0   0.0   0.0   \n",
       "1           61.0          68.0       347.0   512.0        608.0   0.0   0.0   \n",
       "2          171.0          13.0       175.0     5.0        333.0   0.0   0.0   \n",
       "3          774.0           0.0      1116.0     1.0          3.0   0.0   0.0   \n",
       "4           10.0           0.0         0.0     0.0        180.0   0.0   0.0   \n",
       "\n",
       "     연도  \n",
       "0  2023  \n",
       "1  2023  \n",
       "2  2023  \n",
       "3  2023  \n",
       "4  2023  "
      ]
     },
     "execution_count": 394,
     "metadata": {},
     "output_type": "execute_result"
    }
   ],
   "source": [
    "df.head()"
   ]
  },
  {
   "cell_type": "code",
   "execution_count": 395,
   "metadata": {},
   "outputs": [
    {
     "data": {
      "text/plain": [
       "Index(['Model', 'Plant', 'Month', 'U.S.A', 'Canada', 'Mexico', 'Europe',\n",
       "       'Eastern Europe', 'Latin America', 'Middle East', 'Africa',\n",
       "       'Asia Pacific', 'India', 'China', '연도'],\n",
       "      dtype='object')"
      ]
     },
     "execution_count": 395,
     "metadata": {},
     "output_type": "execute_result"
    }
   ],
   "source": [
    "df.columns"
   ]
  },
  {
   "cell_type": "code",
   "execution_count": 396,
   "metadata": {},
   "outputs": [
    {
     "data": {
      "text/plain": [
       "array(['January', 'Febuary', 'March', 'April', 'May', 'June', 'July',\n",
       "       'August', 'September', 'October', 'November', 'December', 'Jan'],\n",
       "      dtype=object)"
      ]
     },
     "execution_count": 396,
     "metadata": {},
     "output_type": "execute_result"
    }
   ],
   "source": [
    "df['Month'].unique()"
   ]
  },
  {
   "cell_type": "code",
   "execution_count": 397,
   "metadata": {},
   "outputs": [
    {
     "name": "stdout",
     "output_type": "stream",
     "text": [
      "['1월' '2월' '3월' '4월' '5월' '6월' '7월' '8월' '9월' '10월' '11월' '12월']\n"
     ]
    }
   ],
   "source": [
    "# 기존의 월 데이터가 담긴 컬럼을 가정: df['Month']\n",
    "\n",
    "# 월 이름 변경 매핑 사전\n",
    "month_map = {\n",
    "    'January': '1월',\n",
    "    'Febuary': '2월',  # 오타 포함 대비\n",
    "    'February': '2월',\n",
    "    'March': '3월',\n",
    "    'April': '4월',\n",
    "    'May': '5월',\n",
    "    'June': '6월',\n",
    "    'July': '7월',\n",
    "    'August': '8월',\n",
    "    'September': '9월',\n",
    "    'October': '10월',\n",
    "    'November': '11월',\n",
    "    'December': '12월',\n",
    "    'Jan': '1월'  # 이미 축약형이지만, 통일성을 위해 추가\n",
    "}\n",
    "\n",
    "# 월 컬럼 변환 적용\n",
    "df['Month'] = df['Month'].map(month_map)\n",
    "\n",
    "# 결과 확인 (중복 확인 포함)\n",
    "print(df['Month'].unique())"
   ]
  },
  {
   "cell_type": "code",
   "execution_count": 398,
   "metadata": {},
   "outputs": [
    {
     "data": {
      "text/plain": [
       "Index(['Model', 'Plant', 'Month', 'U.S.A', 'Canada', 'Mexico', 'Europe',\n",
       "       'Eastern Europe', 'Latin America', 'Middle East', 'Africa',\n",
       "       'Asia Pacific', 'India', 'China', '연도'],\n",
       "      dtype='object')"
      ]
     },
     "execution_count": 398,
     "metadata": {},
     "output_type": "execute_result"
    }
   ],
   "source": [
    "df.columns"
   ]
  },
  {
   "cell_type": "code",
   "execution_count": 399,
   "metadata": {},
   "outputs": [],
   "source": [
    "df.to_csv(\"해외현지판매.CSV\", index=False)"
   ]
  },
  {
   "cell_type": "code",
   "execution_count": 400,
   "metadata": {},
   "outputs": [
    {
     "data": {
      "text/plain": [
       "Index(['Model', 'Plant', 'Month', 'U.S.A', 'Canada', 'Mexico', 'Europe',\n",
       "       'Eastern Europe', 'Latin America', 'Middle East', 'Africa',\n",
       "       'Asia Pacific', 'India', 'China', '연도'],\n",
       "      dtype='object')"
      ]
     },
     "execution_count": 400,
     "metadata": {},
     "output_type": "execute_result"
    }
   ],
   "source": [
    "df.columns"
   ]
  },
  {
   "cell_type": "code",
   "execution_count": 401,
   "metadata": {},
   "outputs": [
    {
     "data": {
      "text/plain": [
       "Index(['차종', '공장명(국가)', '월', 'U.S.A', 'Canada', 'Mexico', 'Europe',\n",
       "       'Eastern Europe', 'Latin America', 'Middle East', 'Africa',\n",
       "       'Asia Pacific', 'India', 'China', '연도'],\n",
       "      dtype='object')"
      ]
     },
     "execution_count": 401,
     "metadata": {},
     "output_type": "execute_result"
    }
   ],
   "source": [
    "# 기존 컬럼명과 변경할 컬럼명 매핑\n",
    "column_mapping = {\n",
    "    'Model': '차종',\n",
    "    'Plant':'공장명(국가)',\n",
    "    'Month': '월'\n",
    "}\n",
    "\n",
    "# 컬럼명 변경\n",
    "df.columns = [column_mapping.get(col, col) for col in df.columns]\n",
    "\n",
    "# 변경된 컬럼명 확인\n",
    "df.columns\n"
   ]
  },
  {
   "cell_type": "code",
   "execution_count": null,
   "metadata": {},
   "outputs": [],
   "source": [
    "# melt를 통해 국가명 컬럼들을 하나의 컬럼으로 통합합니다.\n",
    "df_melted = df.melt(id_vars=['차종', '공장명(국가)', '월', '연도'],\n",
    "                    value_vars=['U.S.A', 'Canada', 'Mexico', 'Europe', 'Eastern Europe',\n",
    "                                'Latin America', 'Middle East', 'Africa', 'Asia Pacific',\n",
    "                                'India', 'China'],\n",
    "                    var_name='국가명', value_name='판매량')\n",
    "\n",
    "# 피벗 테이블을 이용하여 '월'을 컬럼으로, 국가명을 인덱스로 지정\n",
    "df_pivot = df_melted.pivot_table(index=['국가명', '차종', '공장명(국가)', '연도'],\n",
    "                                 columns='월',\n",
    "                                 values='판매량',\n",
    "                                 aggfunc='sum').reset_index()\n",
    "\n",
    "# 컬럼명 깔끔하게 정리\n",
    "df_pivot.columns.name = None\n",
    "\n",
    "# 결과 확인\n",
    "print(df_pivot.head())"
   ]
  },
  {
   "cell_type": "code",
   "execution_count": 405,
   "metadata": {},
   "outputs": [
    {
     "data": {
      "text/plain": [
       "Index(['국가명', '차종', '공장명(국가)', '연도', '10월', '11월', '12월', '1월', '2월', '3월',\n",
       "       '4월', '5월', '6월', '7월', '8월', '9월'],\n",
       "      dtype='object')"
      ]
     },
     "execution_count": 405,
     "metadata": {},
     "output_type": "execute_result"
    }
   ],
   "source": [
    "df_pivot.columns"
   ]
  },
  {
   "cell_type": "code",
   "execution_count": 406,
   "metadata": {},
   "outputs": [],
   "source": [
    "# df 컬럼 정리 ('model'→'Model' 변경, 불필요 컬럼 드롭)\n",
    "df_pivot = df_pivot[['국가명', '공장명(국가)', '차종','1월', '2월', '3월',\n",
    "       '4월', '5월', '6월', '7월', '8월', '9월', '10월', '11월', '12월','연도']]"
   ]
  },
  {
   "cell_type": "code",
   "execution_count": 407,
   "metadata": {},
   "outputs": [
    {
     "data": {
      "text/plain": [
       "Index(['국가명', '공장명(국가)', '차종', '1월', '2월', '3월', '4월', '5월', '6월', '7월', '8월',\n",
       "       '9월', '10월', '11월', '12월', '연도'],\n",
       "      dtype='object')"
      ]
     },
     "execution_count": 407,
     "metadata": {},
     "output_type": "execute_result"
    }
   ],
   "source": [
    "df_pivot.columns"
   ]
  },
  {
   "cell_type": "code",
   "execution_count": 408,
   "metadata": {},
   "outputs": [],
   "source": [
    "df = df_pivot"
   ]
  },
  {
   "cell_type": "code",
   "execution_count": 409,
   "metadata": {},
   "outputs": [
    {
     "data": {
      "text/plain": [
       "Index(['국가명', '공장명(국가)', '차종', '1월', '2월', '3월', '4월', '5월', '6월', '7월', '8월',\n",
       "       '9월', '10월', '11월', '12월', '연도'],\n",
       "      dtype='object')"
      ]
     },
     "execution_count": 409,
     "metadata": {},
     "output_type": "execute_result"
    }
   ],
   "source": [
    "df.columns"
   ]
  },
  {
   "cell_type": "code",
   "execution_count": 410,
   "metadata": {},
   "outputs": [],
   "source": [
    "df.to_csv(\"해외현지판매_전처리.CSV\", index=False)"
   ]
  },
  {
   "cell_type": "code",
   "execution_count": 3,
   "metadata": {},
   "outputs": [
    {
     "name": "stdout",
     "output_type": "stream",
     "text": [
      "df_zs 불러오기 성공 ✅\n",
      "df_cp 불러오기 성공 ✅\n",
      "df_fp 불러오기 성공 ✅\n",
      "df_lp 불러오기 성공 ✅\n"
     ]
    }
   ],
   "source": [
    "import os\n",
    "\n",
    "base_path = \"/Users/mi-yeonlim/Documents/Github/mini-project-2/data/processed\"\n",
    "\n",
    "file_list = {\n",
    "    \"df_zs\": \"기아_지역별수출실적_전처리.csv\",\n",
    "    \"df_cp\": \"기아_차종별판매실적_전처리.csv\",\n",
    "    \"df_fp\": \"기아_해외공장판매실적_전처리.csv\",\n",
    "    \"df_lp\": \"기아_해외현지판매_전처리.CSV\"\n",
    "}\n",
    "\n",
    "df = {}\n",
    "\n",
    "for name, file in file_list.items():\n",
    "    full_path = os.path.join(base_path, file)\n",
    "    if os.path.exists(full_path):\n",
    "        df[name] = pd.read_csv(full_path, encoding='utf-8-sig')\n",
    "        print(f\"{name} 불러오기 성공 ✅\")\n",
    "    else:\n",
    "        print(f\"{name} 파일 없음 ❌ → 경로 확인 필요: {full_path}\")\n"
   ]
  },
  {
   "cell_type": "code",
   "execution_count": 4,
   "metadata": {},
   "outputs": [],
   "source": [
    "df_zs = df[\"df_zs\"]\n",
    "df_cp = df[\"df_cp\"]\n",
    "df_fp = df[\"df_fp\"]\n",
    "df_lp = df[\"df_lp\"]"
   ]
  },
  {
   "cell_type": "code",
   "execution_count": null,
   "metadata": {},
   "outputs": [],
   "source": []
  }
 ],
 "metadata": {
  "kernelspec": {
   "display_name": "hi",
   "language": "python",
   "name": "python3"
  },
  "language_info": {
   "codemirror_mode": {
    "name": "ipython",
    "version": 3
   },
   "file_extension": ".py",
   "mimetype": "text/x-python",
   "name": "python",
   "nbconvert_exporter": "python",
   "pygments_lexer": "ipython3",
   "version": "3.10.16"
  }
 },
 "nbformat": 4,
 "nbformat_minor": 2
}
