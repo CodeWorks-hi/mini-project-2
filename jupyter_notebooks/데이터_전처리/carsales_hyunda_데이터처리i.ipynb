{
 "cells": [
  {
   "cell_type": "code",
   "execution_count": 1,
   "metadata": {},
   "outputs": [],
   "source": [
    "import pandas as pd, numpy as np, matplotlib.pyplot as plt, seaborn as sb"
   ]
  },
  {
   "cell_type": "code",
   "execution_count": 8,
   "metadata": {},
   "outputs": [],
   "source": [
    "# 데이터 불러오기\n",
    "df_2023 = pd.read_csv(\"hyundai/지역별수출실적_2023.CSV\")\n",
    "df_2024 = pd.read_csv(\"hyundai/지역별수출실적_2024.CSV\")\n",
    "df_2025 = pd.read_csv(\"hyundai/지역별수출실적_2025.CSV\")"
   ]
  },
  {
   "cell_type": "code",
   "execution_count": 9,
   "metadata": {},
   "outputs": [
    {
     "data": {
      "application/vnd.microsoft.datawrangler.viewer.v0+json": {
       "columns": [
        {
         "name": "index",
         "rawType": "int64",
         "type": "integer"
        },
        {
         "name": "Car",
         "rawType": "object",
         "type": "string"
        },
        {
         "name": "Region",
         "rawType": "object",
         "type": "string"
        },
        {
         "name": "Jan",
         "rawType": "float64",
         "type": "float"
        },
        {
         "name": "Feb",
         "rawType": "float64",
         "type": "float"
        },
        {
         "name": "Mar",
         "rawType": "float64",
         "type": "float"
        },
        {
         "name": "Apr",
         "rawType": "float64",
         "type": "float"
        },
        {
         "name": "May",
         "rawType": "float64",
         "type": "float"
        },
        {
         "name": "Jun",
         "rawType": "float64",
         "type": "float"
        },
        {
         "name": "Jul",
         "rawType": "float64",
         "type": "float"
        },
        {
         "name": "Aug",
         "rawType": "float64",
         "type": "float"
        },
        {
         "name": "Sep",
         "rawType": "float64",
         "type": "float"
        },
        {
         "name": "Oct",
         "rawType": "float64",
         "type": "float"
        },
        {
         "name": "Nov",
         "rawType": "float64",
         "type": "float"
        },
        {
         "name": "Dec",
         "rawType": "float64",
         "type": "float"
        }
       ],
       "conversionMethod": "pd.DataFrame",
       "ref": "3be02a49-b720-4411-b35d-085dd509e617",
       "rows": [
        [
         "0",
         "Passenger Car",
         "US",
         "1048.0",
         "633.0",
         "627.0",
         "245.0",
         "0.0",
         "0.0",
         "2.0",
         "0.0",
         "0.0",
         "4.0",
         "0.0",
         "5.0"
        ],
        [
         "1",
         "Recreational Vehicle",
         "US",
         "33056.0",
         "29697.0",
         "31985.0",
         "29103.0",
         "28763.0",
         "26013.0",
         "27234.0",
         "22619.0",
         "20969.0",
         "24759.0",
         "33951.0",
         "30920.0"
        ],
        [
         "2",
         "Commercial Vehicle",
         "US",
         "0.0",
         "0.0",
         "0.0",
         "0.0",
         "0.0",
         "0.0",
         null,
         "0.0",
         "0.0",
         "0.0",
         "0.0",
         "0.0"
        ],
        [
         "3",
         "Special Vehicle",
         "US",
         "0.0",
         "0.0",
         "0.0",
         "0.0",
         "0.0",
         null,
         null,
         null,
         "0.0",
         "0.0",
         "0.0",
         null
        ],
        [
         "4",
         "CKD(Inc, Special Vehicle)",
         "US",
         "0.0",
         "0.0",
         "0.0",
         "0.0",
         null,
         null,
         null,
         null,
         null,
         null,
         null,
         null
        ]
       ],
       "shape": {
        "columns": 14,
        "rows": 5
       }
      },
      "text/html": [
       "<div>\n",
       "<style scoped>\n",
       "    .dataframe tbody tr th:only-of-type {\n",
       "        vertical-align: middle;\n",
       "    }\n",
       "\n",
       "    .dataframe tbody tr th {\n",
       "        vertical-align: top;\n",
       "    }\n",
       "\n",
       "    .dataframe thead th {\n",
       "        text-align: right;\n",
       "    }\n",
       "</style>\n",
       "<table border=\"1\" class=\"dataframe\">\n",
       "  <thead>\n",
       "    <tr style=\"text-align: right;\">\n",
       "      <th></th>\n",
       "      <th>Car</th>\n",
       "      <th>Region</th>\n",
       "      <th>Jan</th>\n",
       "      <th>Feb</th>\n",
       "      <th>Mar</th>\n",
       "      <th>Apr</th>\n",
       "      <th>May</th>\n",
       "      <th>Jun</th>\n",
       "      <th>Jul</th>\n",
       "      <th>Aug</th>\n",
       "      <th>Sep</th>\n",
       "      <th>Oct</th>\n",
       "      <th>Nov</th>\n",
       "      <th>Dec</th>\n",
       "    </tr>\n",
       "  </thead>\n",
       "  <tbody>\n",
       "    <tr>\n",
       "      <th>0</th>\n",
       "      <td>Passenger Car</td>\n",
       "      <td>US</td>\n",
       "      <td>1048.0</td>\n",
       "      <td>633.0</td>\n",
       "      <td>627.0</td>\n",
       "      <td>245.0</td>\n",
       "      <td>0.0</td>\n",
       "      <td>0.0</td>\n",
       "      <td>2.0</td>\n",
       "      <td>0.0</td>\n",
       "      <td>0.0</td>\n",
       "      <td>4.0</td>\n",
       "      <td>0.0</td>\n",
       "      <td>5.0</td>\n",
       "    </tr>\n",
       "    <tr>\n",
       "      <th>1</th>\n",
       "      <td>Recreational Vehicle</td>\n",
       "      <td>US</td>\n",
       "      <td>33056.0</td>\n",
       "      <td>29697.0</td>\n",
       "      <td>31985.0</td>\n",
       "      <td>29103.0</td>\n",
       "      <td>28763.0</td>\n",
       "      <td>26013.0</td>\n",
       "      <td>27234.0</td>\n",
       "      <td>22619.0</td>\n",
       "      <td>20969.0</td>\n",
       "      <td>24759.0</td>\n",
       "      <td>33951.0</td>\n",
       "      <td>30920.0</td>\n",
       "    </tr>\n",
       "    <tr>\n",
       "      <th>2</th>\n",
       "      <td>Commercial Vehicle</td>\n",
       "      <td>US</td>\n",
       "      <td>0.0</td>\n",
       "      <td>0.0</td>\n",
       "      <td>0.0</td>\n",
       "      <td>0.0</td>\n",
       "      <td>0.0</td>\n",
       "      <td>0.0</td>\n",
       "      <td>NaN</td>\n",
       "      <td>0.0</td>\n",
       "      <td>0.0</td>\n",
       "      <td>0.0</td>\n",
       "      <td>0.0</td>\n",
       "      <td>0.0</td>\n",
       "    </tr>\n",
       "    <tr>\n",
       "      <th>3</th>\n",
       "      <td>Special Vehicle</td>\n",
       "      <td>US</td>\n",
       "      <td>0.0</td>\n",
       "      <td>0.0</td>\n",
       "      <td>0.0</td>\n",
       "      <td>0.0</td>\n",
       "      <td>0.0</td>\n",
       "      <td>NaN</td>\n",
       "      <td>NaN</td>\n",
       "      <td>NaN</td>\n",
       "      <td>0.0</td>\n",
       "      <td>0.0</td>\n",
       "      <td>0.0</td>\n",
       "      <td>NaN</td>\n",
       "    </tr>\n",
       "    <tr>\n",
       "      <th>4</th>\n",
       "      <td>CKD(Inc, Special Vehicle)</td>\n",
       "      <td>US</td>\n",
       "      <td>0.0</td>\n",
       "      <td>0.0</td>\n",
       "      <td>0.0</td>\n",
       "      <td>0.0</td>\n",
       "      <td>NaN</td>\n",
       "      <td>NaN</td>\n",
       "      <td>NaN</td>\n",
       "      <td>NaN</td>\n",
       "      <td>NaN</td>\n",
       "      <td>NaN</td>\n",
       "      <td>NaN</td>\n",
       "      <td>NaN</td>\n",
       "    </tr>\n",
       "  </tbody>\n",
       "</table>\n",
       "</div>"
      ],
      "text/plain": [
       "                         Car Region      Jan      Feb      Mar      Apr  \\\n",
       "0              Passenger Car     US   1048.0    633.0    627.0    245.0   \n",
       "1       Recreational Vehicle     US  33056.0  29697.0  31985.0  29103.0   \n",
       "2         Commercial Vehicle     US      0.0      0.0      0.0      0.0   \n",
       "3            Special Vehicle     US      0.0      0.0      0.0      0.0   \n",
       "4  CKD(Inc, Special Vehicle)     US      0.0      0.0      0.0      0.0   \n",
       "\n",
       "       May      Jun      Jul      Aug      Sep      Oct      Nov      Dec  \n",
       "0      0.0      0.0      2.0      0.0      0.0      4.0      0.0      5.0  \n",
       "1  28763.0  26013.0  27234.0  22619.0  20969.0  24759.0  33951.0  30920.0  \n",
       "2      0.0      0.0      NaN      0.0      0.0      0.0      0.0      0.0  \n",
       "3      0.0      NaN      NaN      NaN      0.0      0.0      0.0      NaN  \n",
       "4      NaN      NaN      NaN      NaN      NaN      NaN      NaN      NaN  "
      ]
     },
     "execution_count": 9,
     "metadata": {},
     "output_type": "execute_result"
    }
   ],
   "source": [
    "df_2023.head()"
   ]
  },
  {
   "cell_type": "code",
   "execution_count": 10,
   "metadata": {},
   "outputs": [],
   "source": [
    "df_2023[\"연도\"] = 2023"
   ]
  },
  {
   "cell_type": "code",
   "execution_count": 11,
   "metadata": {},
   "outputs": [
    {
     "data": {
      "application/vnd.microsoft.datawrangler.viewer.v0+json": {
       "columns": [
        {
         "name": "index",
         "rawType": "int64",
         "type": "integer"
        },
        {
         "name": "Car",
         "rawType": "object",
         "type": "string"
        },
        {
         "name": "Region",
         "rawType": "object",
         "type": "string"
        },
        {
         "name": "Jan",
         "rawType": "float64",
         "type": "float"
        },
        {
         "name": "Feb",
         "rawType": "float64",
         "type": "float"
        },
        {
         "name": "Mar",
         "rawType": "float64",
         "type": "float"
        },
        {
         "name": "Apr",
         "rawType": "float64",
         "type": "float"
        },
        {
         "name": "May",
         "rawType": "float64",
         "type": "float"
        },
        {
         "name": "Jun",
         "rawType": "float64",
         "type": "float"
        },
        {
         "name": "Jul",
         "rawType": "float64",
         "type": "float"
        },
        {
         "name": "Aug",
         "rawType": "float64",
         "type": "float"
        },
        {
         "name": "Sep",
         "rawType": "float64",
         "type": "float"
        },
        {
         "name": "Oct",
         "rawType": "float64",
         "type": "float"
        },
        {
         "name": "Nov",
         "rawType": "float64",
         "type": "float"
        },
        {
         "name": "Dec",
         "rawType": "float64",
         "type": "float"
        },
        {
         "name": "연도",
         "rawType": "int64",
         "type": "integer"
        }
       ],
       "conversionMethod": "pd.DataFrame",
       "ref": "099a62a5-cac9-4be3-9329-f12036bd2d94",
       "rows": [
        [
         "0",
         "Passenger Car",
         "US",
         "1048.0",
         "633.0",
         "627.0",
         "245.0",
         "0.0",
         "0.0",
         "2.0",
         "0.0",
         "0.0",
         "4.0",
         "0.0",
         "5.0",
         "2023"
        ],
        [
         "1",
         "Recreational Vehicle",
         "US",
         "33056.0",
         "29697.0",
         "31985.0",
         "29103.0",
         "28763.0",
         "26013.0",
         "27234.0",
         "22619.0",
         "20969.0",
         "24759.0",
         "33951.0",
         "30920.0",
         "2023"
        ],
        [
         "2",
         "Commercial Vehicle",
         "US",
         "0.0",
         "0.0",
         "0.0",
         "0.0",
         "0.0",
         "0.0",
         null,
         "0.0",
         "0.0",
         "0.0",
         "0.0",
         "0.0",
         "2023"
        ],
        [
         "3",
         "Special Vehicle",
         "US",
         "0.0",
         "0.0",
         "0.0",
         "0.0",
         "0.0",
         null,
         null,
         null,
         "0.0",
         "0.0",
         "0.0",
         null,
         "2023"
        ],
        [
         "4",
         "CKD(Inc, Special Vehicle)",
         "US",
         "0.0",
         "0.0",
         "0.0",
         "0.0",
         null,
         null,
         null,
         null,
         null,
         null,
         null,
         null,
         "2023"
        ]
       ],
       "shape": {
        "columns": 15,
        "rows": 5
       }
      },
      "text/html": [
       "<div>\n",
       "<style scoped>\n",
       "    .dataframe tbody tr th:only-of-type {\n",
       "        vertical-align: middle;\n",
       "    }\n",
       "\n",
       "    .dataframe tbody tr th {\n",
       "        vertical-align: top;\n",
       "    }\n",
       "\n",
       "    .dataframe thead th {\n",
       "        text-align: right;\n",
       "    }\n",
       "</style>\n",
       "<table border=\"1\" class=\"dataframe\">\n",
       "  <thead>\n",
       "    <tr style=\"text-align: right;\">\n",
       "      <th></th>\n",
       "      <th>Car</th>\n",
       "      <th>Region</th>\n",
       "      <th>Jan</th>\n",
       "      <th>Feb</th>\n",
       "      <th>Mar</th>\n",
       "      <th>Apr</th>\n",
       "      <th>May</th>\n",
       "      <th>Jun</th>\n",
       "      <th>Jul</th>\n",
       "      <th>Aug</th>\n",
       "      <th>Sep</th>\n",
       "      <th>Oct</th>\n",
       "      <th>Nov</th>\n",
       "      <th>Dec</th>\n",
       "      <th>연도</th>\n",
       "    </tr>\n",
       "  </thead>\n",
       "  <tbody>\n",
       "    <tr>\n",
       "      <th>0</th>\n",
       "      <td>Passenger Car</td>\n",
       "      <td>US</td>\n",
       "      <td>1048.0</td>\n",
       "      <td>633.0</td>\n",
       "      <td>627.0</td>\n",
       "      <td>245.0</td>\n",
       "      <td>0.0</td>\n",
       "      <td>0.0</td>\n",
       "      <td>2.0</td>\n",
       "      <td>0.0</td>\n",
       "      <td>0.0</td>\n",
       "      <td>4.0</td>\n",
       "      <td>0.0</td>\n",
       "      <td>5.0</td>\n",
       "      <td>2023</td>\n",
       "    </tr>\n",
       "    <tr>\n",
       "      <th>1</th>\n",
       "      <td>Recreational Vehicle</td>\n",
       "      <td>US</td>\n",
       "      <td>33056.0</td>\n",
       "      <td>29697.0</td>\n",
       "      <td>31985.0</td>\n",
       "      <td>29103.0</td>\n",
       "      <td>28763.0</td>\n",
       "      <td>26013.0</td>\n",
       "      <td>27234.0</td>\n",
       "      <td>22619.0</td>\n",
       "      <td>20969.0</td>\n",
       "      <td>24759.0</td>\n",
       "      <td>33951.0</td>\n",
       "      <td>30920.0</td>\n",
       "      <td>2023</td>\n",
       "    </tr>\n",
       "    <tr>\n",
       "      <th>2</th>\n",
       "      <td>Commercial Vehicle</td>\n",
       "      <td>US</td>\n",
       "      <td>0.0</td>\n",
       "      <td>0.0</td>\n",
       "      <td>0.0</td>\n",
       "      <td>0.0</td>\n",
       "      <td>0.0</td>\n",
       "      <td>0.0</td>\n",
       "      <td>NaN</td>\n",
       "      <td>0.0</td>\n",
       "      <td>0.0</td>\n",
       "      <td>0.0</td>\n",
       "      <td>0.0</td>\n",
       "      <td>0.0</td>\n",
       "      <td>2023</td>\n",
       "    </tr>\n",
       "    <tr>\n",
       "      <th>3</th>\n",
       "      <td>Special Vehicle</td>\n",
       "      <td>US</td>\n",
       "      <td>0.0</td>\n",
       "      <td>0.0</td>\n",
       "      <td>0.0</td>\n",
       "      <td>0.0</td>\n",
       "      <td>0.0</td>\n",
       "      <td>NaN</td>\n",
       "      <td>NaN</td>\n",
       "      <td>NaN</td>\n",
       "      <td>0.0</td>\n",
       "      <td>0.0</td>\n",
       "      <td>0.0</td>\n",
       "      <td>NaN</td>\n",
       "      <td>2023</td>\n",
       "    </tr>\n",
       "    <tr>\n",
       "      <th>4</th>\n",
       "      <td>CKD(Inc, Special Vehicle)</td>\n",
       "      <td>US</td>\n",
       "      <td>0.0</td>\n",
       "      <td>0.0</td>\n",
       "      <td>0.0</td>\n",
       "      <td>0.0</td>\n",
       "      <td>NaN</td>\n",
       "      <td>NaN</td>\n",
       "      <td>NaN</td>\n",
       "      <td>NaN</td>\n",
       "      <td>NaN</td>\n",
       "      <td>NaN</td>\n",
       "      <td>NaN</td>\n",
       "      <td>NaN</td>\n",
       "      <td>2023</td>\n",
       "    </tr>\n",
       "  </tbody>\n",
       "</table>\n",
       "</div>"
      ],
      "text/plain": [
       "                         Car Region      Jan      Feb      Mar      Apr  \\\n",
       "0              Passenger Car     US   1048.0    633.0    627.0    245.0   \n",
       "1       Recreational Vehicle     US  33056.0  29697.0  31985.0  29103.0   \n",
       "2         Commercial Vehicle     US      0.0      0.0      0.0      0.0   \n",
       "3            Special Vehicle     US      0.0      0.0      0.0      0.0   \n",
       "4  CKD(Inc, Special Vehicle)     US      0.0      0.0      0.0      0.0   \n",
       "\n",
       "       May      Jun      Jul      Aug      Sep      Oct      Nov      Dec  \\\n",
       "0      0.0      0.0      2.0      0.0      0.0      4.0      0.0      5.0   \n",
       "1  28763.0  26013.0  27234.0  22619.0  20969.0  24759.0  33951.0  30920.0   \n",
       "2      0.0      0.0      NaN      0.0      0.0      0.0      0.0      0.0   \n",
       "3      0.0      NaN      NaN      NaN      0.0      0.0      0.0      NaN   \n",
       "4      NaN      NaN      NaN      NaN      NaN      NaN      NaN      NaN   \n",
       "\n",
       "     연도  \n",
       "0  2023  \n",
       "1  2023  \n",
       "2  2023  \n",
       "3  2023  \n",
       "4  2023  "
      ]
     },
     "execution_count": 11,
     "metadata": {},
     "output_type": "execute_result"
    }
   ],
   "source": [
    "df_2023.head()"
   ]
  },
  {
   "cell_type": "code",
   "execution_count": 12,
   "metadata": {},
   "outputs": [
    {
     "data": {
      "application/vnd.microsoft.datawrangler.viewer.v0+json": {
       "columns": [
        {
         "name": "index",
         "rawType": "int64",
         "type": "integer"
        },
        {
         "name": "Car",
         "rawType": "object",
         "type": "string"
        },
        {
         "name": "Region",
         "rawType": "object",
         "type": "string"
        },
        {
         "name": "Jan",
         "rawType": "object",
         "type": "unknown"
        },
        {
         "name": "Feb",
         "rawType": "object",
         "type": "unknown"
        },
        {
         "name": "Mar",
         "rawType": "object",
         "type": "unknown"
        },
        {
         "name": "Apr",
         "rawType": "object",
         "type": "unknown"
        },
        {
         "name": "May",
         "rawType": "object",
         "type": "unknown"
        },
        {
         "name": "Jun",
         "rawType": "object",
         "type": "unknown"
        },
        {
         "name": "Jul",
         "rawType": "object",
         "type": "unknown"
        },
        {
         "name": "Aug",
         "rawType": "object",
         "type": "unknown"
        },
        {
         "name": "Sep",
         "rawType": "object",
         "type": "unknown"
        },
        {
         "name": "Oct",
         "rawType": "object",
         "type": "unknown"
        },
        {
         "name": "Nov",
         "rawType": "object",
         "type": "unknown"
        },
        {
         "name": "Dec",
         "rawType": "object",
         "type": "unknown"
        }
       ],
       "conversionMethod": "pd.DataFrame",
       "ref": "09337634-84c4-40e4-9a71-3c1f6f2ec57a",
       "rows": [
        [
         "0",
         "Passenger Car",
         "US",
         "-",
         "-",
         "3,342",
         "6,359",
         "8,136",
         "7,818",
         "8,203",
         "7,420",
         "6,946",
         "5,154",
         "1,140",
         "6,458"
        ],
        [
         "1",
         "Recreational Vehicle",
         "US",
         "34,743",
         "28,607",
         "30,867",
         "35,909",
         "28,968",
         "27,885",
         "26,926",
         "25,099",
         "21,101",
         "24,986",
         "13,917",
         "17,383"
        ],
        [
         "2",
         "Commercial Vehicle",
         "US",
         "-",
         "-",
         "-",
         null,
         "-",
         "-",
         null,
         "-",
         "-",
         "-",
         "-",
         "-"
        ],
        [
         "3",
         "Special Vehicle",
         "US",
         null,
         "-",
         "-",
         null,
         "-",
         "-",
         null,
         "-",
         "-",
         "-",
         "-",
         "-"
        ],
        [
         "4",
         "CKD(excl, Special Vehicle)",
         "US",
         null,
         null,
         null,
         null,
         null,
         null,
         null,
         null,
         null,
         null,
         null,
         null
        ]
       ],
       "shape": {
        "columns": 14,
        "rows": 5
       }
      },
      "text/html": [
       "<div>\n",
       "<style scoped>\n",
       "    .dataframe tbody tr th:only-of-type {\n",
       "        vertical-align: middle;\n",
       "    }\n",
       "\n",
       "    .dataframe tbody tr th {\n",
       "        vertical-align: top;\n",
       "    }\n",
       "\n",
       "    .dataframe thead th {\n",
       "        text-align: right;\n",
       "    }\n",
       "</style>\n",
       "<table border=\"1\" class=\"dataframe\">\n",
       "  <thead>\n",
       "    <tr style=\"text-align: right;\">\n",
       "      <th></th>\n",
       "      <th>Car</th>\n",
       "      <th>Region</th>\n",
       "      <th>Jan</th>\n",
       "      <th>Feb</th>\n",
       "      <th>Mar</th>\n",
       "      <th>Apr</th>\n",
       "      <th>May</th>\n",
       "      <th>Jun</th>\n",
       "      <th>Jul</th>\n",
       "      <th>Aug</th>\n",
       "      <th>Sep</th>\n",
       "      <th>Oct</th>\n",
       "      <th>Nov</th>\n",
       "      <th>Dec</th>\n",
       "    </tr>\n",
       "  </thead>\n",
       "  <tbody>\n",
       "    <tr>\n",
       "      <th>0</th>\n",
       "      <td>Passenger Car</td>\n",
       "      <td>US</td>\n",
       "      <td>-</td>\n",
       "      <td>-</td>\n",
       "      <td>3,342</td>\n",
       "      <td>6,359</td>\n",
       "      <td>8,136</td>\n",
       "      <td>7,818</td>\n",
       "      <td>8,203</td>\n",
       "      <td>7,420</td>\n",
       "      <td>6,946</td>\n",
       "      <td>5,154</td>\n",
       "      <td>1,140</td>\n",
       "      <td>6,458</td>\n",
       "    </tr>\n",
       "    <tr>\n",
       "      <th>1</th>\n",
       "      <td>Recreational Vehicle</td>\n",
       "      <td>US</td>\n",
       "      <td>34,743</td>\n",
       "      <td>28,607</td>\n",
       "      <td>30,867</td>\n",
       "      <td>35,909</td>\n",
       "      <td>28,968</td>\n",
       "      <td>27,885</td>\n",
       "      <td>26,926</td>\n",
       "      <td>25,099</td>\n",
       "      <td>21,101</td>\n",
       "      <td>24,986</td>\n",
       "      <td>13,917</td>\n",
       "      <td>17,383</td>\n",
       "    </tr>\n",
       "    <tr>\n",
       "      <th>2</th>\n",
       "      <td>Commercial Vehicle</td>\n",
       "      <td>US</td>\n",
       "      <td>-</td>\n",
       "      <td>-</td>\n",
       "      <td>-</td>\n",
       "      <td>NaN</td>\n",
       "      <td>-</td>\n",
       "      <td>-</td>\n",
       "      <td>NaN</td>\n",
       "      <td>-</td>\n",
       "      <td>-</td>\n",
       "      <td>-</td>\n",
       "      <td>-</td>\n",
       "      <td>-</td>\n",
       "    </tr>\n",
       "    <tr>\n",
       "      <th>3</th>\n",
       "      <td>Special Vehicle</td>\n",
       "      <td>US</td>\n",
       "      <td>NaN</td>\n",
       "      <td>-</td>\n",
       "      <td>-</td>\n",
       "      <td>NaN</td>\n",
       "      <td>-</td>\n",
       "      <td>-</td>\n",
       "      <td>NaN</td>\n",
       "      <td>-</td>\n",
       "      <td>-</td>\n",
       "      <td>-</td>\n",
       "      <td>-</td>\n",
       "      <td>-</td>\n",
       "    </tr>\n",
       "    <tr>\n",
       "      <th>4</th>\n",
       "      <td>CKD(excl, Special Vehicle)</td>\n",
       "      <td>US</td>\n",
       "      <td>NaN</td>\n",
       "      <td>NaN</td>\n",
       "      <td>NaN</td>\n",
       "      <td>NaN</td>\n",
       "      <td>NaN</td>\n",
       "      <td>NaN</td>\n",
       "      <td>NaN</td>\n",
       "      <td>NaN</td>\n",
       "      <td>NaN</td>\n",
       "      <td>NaN</td>\n",
       "      <td>NaN</td>\n",
       "      <td>NaN</td>\n",
       "    </tr>\n",
       "  </tbody>\n",
       "</table>\n",
       "</div>"
      ],
      "text/plain": [
       "                          Car Region     Jan     Feb     Mar     Apr     May  \\\n",
       "0               Passenger Car     US       -       -   3,342   6,359   8,136   \n",
       "1        Recreational Vehicle     US  34,743  28,607  30,867  35,909  28,968   \n",
       "2          Commercial Vehicle     US       -       -       -     NaN       -   \n",
       "3             Special Vehicle     US     NaN       -       -     NaN       -   \n",
       "4  CKD(excl, Special Vehicle)     US     NaN     NaN     NaN     NaN     NaN   \n",
       "\n",
       "      Jun     Jul     Aug     Sep     Oct     Nov     Dec  \n",
       "0   7,818   8,203   7,420   6,946   5,154   1,140   6,458  \n",
       "1  27,885  26,926  25,099  21,101  24,986  13,917  17,383  \n",
       "2       -     NaN       -       -       -       -       -  \n",
       "3       -     NaN       -       -       -       -       -  \n",
       "4     NaN     NaN     NaN     NaN     NaN     NaN     NaN  "
      ]
     },
     "execution_count": 12,
     "metadata": {},
     "output_type": "execute_result"
    }
   ],
   "source": [
    "df_2024.head()"
   ]
  },
  {
   "cell_type": "code",
   "execution_count": 17,
   "metadata": {},
   "outputs": [],
   "source": [
    "df_2024[\"연도\"] = 2024"
   ]
  },
  {
   "cell_type": "code",
   "execution_count": 18,
   "metadata": {},
   "outputs": [
    {
     "data": {
      "application/vnd.microsoft.datawrangler.viewer.v0+json": {
       "columns": [
        {
         "name": "index",
         "rawType": "int64",
         "type": "integer"
        },
        {
         "name": "Car",
         "rawType": "object",
         "type": "string"
        },
        {
         "name": "Region",
         "rawType": "object",
         "type": "string"
        },
        {
         "name": "Jan",
         "rawType": "object",
         "type": "unknown"
        },
        {
         "name": "Feb",
         "rawType": "object",
         "type": "unknown"
        },
        {
         "name": "Mar",
         "rawType": "object",
         "type": "unknown"
        },
        {
         "name": "Apr",
         "rawType": "object",
         "type": "unknown"
        },
        {
         "name": "May",
         "rawType": "object",
         "type": "unknown"
        },
        {
         "name": "Jun",
         "rawType": "object",
         "type": "unknown"
        },
        {
         "name": "Jul",
         "rawType": "object",
         "type": "unknown"
        },
        {
         "name": "Aug",
         "rawType": "object",
         "type": "unknown"
        },
        {
         "name": "Sep",
         "rawType": "object",
         "type": "unknown"
        },
        {
         "name": "Oct",
         "rawType": "object",
         "type": "unknown"
        },
        {
         "name": "Nov",
         "rawType": "object",
         "type": "unknown"
        },
        {
         "name": "Dec",
         "rawType": "object",
         "type": "unknown"
        },
        {
         "name": "연도",
         "rawType": "int64",
         "type": "integer"
        }
       ],
       "conversionMethod": "pd.DataFrame",
       "ref": "8c25d140-56c7-45e4-9d33-9fea33e39a4f",
       "rows": [
        [
         "0",
         "Passenger Car",
         "US",
         "-",
         "-",
         "3,342",
         "6,359",
         "8,136",
         "7,818",
         "8,203",
         "7,420",
         "6,946",
         "5,154",
         "1,140",
         "6,458",
         "2024"
        ],
        [
         "1",
         "Recreational Vehicle",
         "US",
         "34,743",
         "28,607",
         "30,867",
         "35,909",
         "28,968",
         "27,885",
         "26,926",
         "25,099",
         "21,101",
         "24,986",
         "13,917",
         "17,383",
         "2024"
        ],
        [
         "2",
         "Commercial Vehicle",
         "US",
         "-",
         "-",
         "-",
         null,
         "-",
         "-",
         null,
         "-",
         "-",
         "-",
         "-",
         "-",
         "2024"
        ],
        [
         "3",
         "Special Vehicle",
         "US",
         null,
         "-",
         "-",
         null,
         "-",
         "-",
         null,
         "-",
         "-",
         "-",
         "-",
         "-",
         "2024"
        ],
        [
         "4",
         "CKD(excl, Special Vehicle)",
         "US",
         null,
         null,
         null,
         null,
         null,
         null,
         null,
         null,
         null,
         null,
         null,
         null,
         "2024"
        ]
       ],
       "shape": {
        "columns": 15,
        "rows": 5
       }
      },
      "text/html": [
       "<div>\n",
       "<style scoped>\n",
       "    .dataframe tbody tr th:only-of-type {\n",
       "        vertical-align: middle;\n",
       "    }\n",
       "\n",
       "    .dataframe tbody tr th {\n",
       "        vertical-align: top;\n",
       "    }\n",
       "\n",
       "    .dataframe thead th {\n",
       "        text-align: right;\n",
       "    }\n",
       "</style>\n",
       "<table border=\"1\" class=\"dataframe\">\n",
       "  <thead>\n",
       "    <tr style=\"text-align: right;\">\n",
       "      <th></th>\n",
       "      <th>Car</th>\n",
       "      <th>Region</th>\n",
       "      <th>Jan</th>\n",
       "      <th>Feb</th>\n",
       "      <th>Mar</th>\n",
       "      <th>Apr</th>\n",
       "      <th>May</th>\n",
       "      <th>Jun</th>\n",
       "      <th>Jul</th>\n",
       "      <th>Aug</th>\n",
       "      <th>Sep</th>\n",
       "      <th>Oct</th>\n",
       "      <th>Nov</th>\n",
       "      <th>Dec</th>\n",
       "      <th>연도</th>\n",
       "    </tr>\n",
       "  </thead>\n",
       "  <tbody>\n",
       "    <tr>\n",
       "      <th>0</th>\n",
       "      <td>Passenger Car</td>\n",
       "      <td>US</td>\n",
       "      <td>-</td>\n",
       "      <td>-</td>\n",
       "      <td>3,342</td>\n",
       "      <td>6,359</td>\n",
       "      <td>8,136</td>\n",
       "      <td>7,818</td>\n",
       "      <td>8,203</td>\n",
       "      <td>7,420</td>\n",
       "      <td>6,946</td>\n",
       "      <td>5,154</td>\n",
       "      <td>1,140</td>\n",
       "      <td>6,458</td>\n",
       "      <td>2024</td>\n",
       "    </tr>\n",
       "    <tr>\n",
       "      <th>1</th>\n",
       "      <td>Recreational Vehicle</td>\n",
       "      <td>US</td>\n",
       "      <td>34,743</td>\n",
       "      <td>28,607</td>\n",
       "      <td>30,867</td>\n",
       "      <td>35,909</td>\n",
       "      <td>28,968</td>\n",
       "      <td>27,885</td>\n",
       "      <td>26,926</td>\n",
       "      <td>25,099</td>\n",
       "      <td>21,101</td>\n",
       "      <td>24,986</td>\n",
       "      <td>13,917</td>\n",
       "      <td>17,383</td>\n",
       "      <td>2024</td>\n",
       "    </tr>\n",
       "    <tr>\n",
       "      <th>2</th>\n",
       "      <td>Commercial Vehicle</td>\n",
       "      <td>US</td>\n",
       "      <td>-</td>\n",
       "      <td>-</td>\n",
       "      <td>-</td>\n",
       "      <td>NaN</td>\n",
       "      <td>-</td>\n",
       "      <td>-</td>\n",
       "      <td>NaN</td>\n",
       "      <td>-</td>\n",
       "      <td>-</td>\n",
       "      <td>-</td>\n",
       "      <td>-</td>\n",
       "      <td>-</td>\n",
       "      <td>2024</td>\n",
       "    </tr>\n",
       "    <tr>\n",
       "      <th>3</th>\n",
       "      <td>Special Vehicle</td>\n",
       "      <td>US</td>\n",
       "      <td>NaN</td>\n",
       "      <td>-</td>\n",
       "      <td>-</td>\n",
       "      <td>NaN</td>\n",
       "      <td>-</td>\n",
       "      <td>-</td>\n",
       "      <td>NaN</td>\n",
       "      <td>-</td>\n",
       "      <td>-</td>\n",
       "      <td>-</td>\n",
       "      <td>-</td>\n",
       "      <td>-</td>\n",
       "      <td>2024</td>\n",
       "    </tr>\n",
       "    <tr>\n",
       "      <th>4</th>\n",
       "      <td>CKD(excl, Special Vehicle)</td>\n",
       "      <td>US</td>\n",
       "      <td>NaN</td>\n",
       "      <td>NaN</td>\n",
       "      <td>NaN</td>\n",
       "      <td>NaN</td>\n",
       "      <td>NaN</td>\n",
       "      <td>NaN</td>\n",
       "      <td>NaN</td>\n",
       "      <td>NaN</td>\n",
       "      <td>NaN</td>\n",
       "      <td>NaN</td>\n",
       "      <td>NaN</td>\n",
       "      <td>NaN</td>\n",
       "      <td>2024</td>\n",
       "    </tr>\n",
       "  </tbody>\n",
       "</table>\n",
       "</div>"
      ],
      "text/plain": [
       "                          Car Region     Jan     Feb     Mar     Apr     May  \\\n",
       "0               Passenger Car     US       -       -   3,342   6,359   8,136   \n",
       "1        Recreational Vehicle     US  34,743  28,607  30,867  35,909  28,968   \n",
       "2          Commercial Vehicle     US       -       -       -     NaN       -   \n",
       "3             Special Vehicle     US     NaN       -       -     NaN       -   \n",
       "4  CKD(excl, Special Vehicle)     US     NaN     NaN     NaN     NaN     NaN   \n",
       "\n",
       "      Jun     Jul     Aug     Sep     Oct     Nov     Dec    연도  \n",
       "0   7,818   8,203   7,420   6,946   5,154   1,140   6,458  2024  \n",
       "1  27,885  26,926  25,099  21,101  24,986  13,917  17,383  2024  \n",
       "2       -     NaN       -       -       -       -       -  2024  \n",
       "3       -     NaN       -       -       -       -       -  2024  \n",
       "4     NaN     NaN     NaN     NaN     NaN     NaN     NaN  2024  "
      ]
     },
     "execution_count": 18,
     "metadata": {},
     "output_type": "execute_result"
    }
   ],
   "source": [
    "df_2024.head()"
   ]
  },
  {
   "cell_type": "code",
   "execution_count": 19,
   "metadata": {},
   "outputs": [
    {
     "data": {
      "application/vnd.microsoft.datawrangler.viewer.v0+json": {
       "columns": [
        {
         "name": "index",
         "rawType": "int64",
         "type": "integer"
        },
        {
         "name": "Car",
         "rawType": "object",
         "type": "string"
        },
        {
         "name": "Region",
         "rawType": "object",
         "type": "string"
        },
        {
         "name": "Jan",
         "rawType": "float64",
         "type": "float"
        }
       ],
       "conversionMethod": "pd.DataFrame",
       "ref": "7560ecc0-1ff9-46c5-994d-4112b0214d4f",
       "rows": [
        [
         "0",
         "Passenger Car",
         "US",
         "4518.0"
        ],
        [
         "1",
         "Recreational Vehicle",
         "US",
         "23997.0"
        ],
        [
         "2",
         "Commercial Vehicle",
         "US",
         null
        ],
        [
         "3",
         "Special Vehicle",
         "US",
         null
        ],
        [
         "4",
         "CKD(excl, Special Vehicle)",
         "US",
         null
        ]
       ],
       "shape": {
        "columns": 3,
        "rows": 5
       }
      },
      "text/html": [
       "<div>\n",
       "<style scoped>\n",
       "    .dataframe tbody tr th:only-of-type {\n",
       "        vertical-align: middle;\n",
       "    }\n",
       "\n",
       "    .dataframe tbody tr th {\n",
       "        vertical-align: top;\n",
       "    }\n",
       "\n",
       "    .dataframe thead th {\n",
       "        text-align: right;\n",
       "    }\n",
       "</style>\n",
       "<table border=\"1\" class=\"dataframe\">\n",
       "  <thead>\n",
       "    <tr style=\"text-align: right;\">\n",
       "      <th></th>\n",
       "      <th>Car</th>\n",
       "      <th>Region</th>\n",
       "      <th>Jan</th>\n",
       "    </tr>\n",
       "  </thead>\n",
       "  <tbody>\n",
       "    <tr>\n",
       "      <th>0</th>\n",
       "      <td>Passenger Car</td>\n",
       "      <td>US</td>\n",
       "      <td>4518.0</td>\n",
       "    </tr>\n",
       "    <tr>\n",
       "      <th>1</th>\n",
       "      <td>Recreational Vehicle</td>\n",
       "      <td>US</td>\n",
       "      <td>23997.0</td>\n",
       "    </tr>\n",
       "    <tr>\n",
       "      <th>2</th>\n",
       "      <td>Commercial Vehicle</td>\n",
       "      <td>US</td>\n",
       "      <td>NaN</td>\n",
       "    </tr>\n",
       "    <tr>\n",
       "      <th>3</th>\n",
       "      <td>Special Vehicle</td>\n",
       "      <td>US</td>\n",
       "      <td>NaN</td>\n",
       "    </tr>\n",
       "    <tr>\n",
       "      <th>4</th>\n",
       "      <td>CKD(excl, Special Vehicle)</td>\n",
       "      <td>US</td>\n",
       "      <td>NaN</td>\n",
       "    </tr>\n",
       "  </tbody>\n",
       "</table>\n",
       "</div>"
      ],
      "text/plain": [
       "                          Car Region      Jan\n",
       "0               Passenger Car     US   4518.0\n",
       "1        Recreational Vehicle     US  23997.0\n",
       "2          Commercial Vehicle     US      NaN\n",
       "3             Special Vehicle     US      NaN\n",
       "4  CKD(excl, Special Vehicle)     US      NaN"
      ]
     },
     "execution_count": 19,
     "metadata": {},
     "output_type": "execute_result"
    }
   ],
   "source": [
    "df_2025.head()"
   ]
  },
  {
   "cell_type": "code",
   "execution_count": 20,
   "metadata": {},
   "outputs": [],
   "source": [
    "df_2025[\"연도\"] = 2025"
   ]
  },
  {
   "cell_type": "code",
   "execution_count": 21,
   "metadata": {},
   "outputs": [
    {
     "data": {
      "application/vnd.microsoft.datawrangler.viewer.v0+json": {
       "columns": [
        {
         "name": "index",
         "rawType": "int64",
         "type": "integer"
        },
        {
         "name": "Car",
         "rawType": "object",
         "type": "string"
        },
        {
         "name": "Region",
         "rawType": "object",
         "type": "string"
        },
        {
         "name": "Jan",
         "rawType": "float64",
         "type": "float"
        },
        {
         "name": "연도",
         "rawType": "int64",
         "type": "integer"
        }
       ],
       "conversionMethod": "pd.DataFrame",
       "ref": "a1dfb9cb-2eb3-4026-802c-b0c288ef33ba",
       "rows": [
        [
         "0",
         "Passenger Car",
         "US",
         "4518.0",
         "2025"
        ],
        [
         "1",
         "Recreational Vehicle",
         "US",
         "23997.0",
         "2025"
        ],
        [
         "2",
         "Commercial Vehicle",
         "US",
         null,
         "2025"
        ],
        [
         "3",
         "Special Vehicle",
         "US",
         null,
         "2025"
        ],
        [
         "4",
         "CKD(excl, Special Vehicle)",
         "US",
         null,
         "2025"
        ]
       ],
       "shape": {
        "columns": 4,
        "rows": 5
       }
      },
      "text/html": [
       "<div>\n",
       "<style scoped>\n",
       "    .dataframe tbody tr th:only-of-type {\n",
       "        vertical-align: middle;\n",
       "    }\n",
       "\n",
       "    .dataframe tbody tr th {\n",
       "        vertical-align: top;\n",
       "    }\n",
       "\n",
       "    .dataframe thead th {\n",
       "        text-align: right;\n",
       "    }\n",
       "</style>\n",
       "<table border=\"1\" class=\"dataframe\">\n",
       "  <thead>\n",
       "    <tr style=\"text-align: right;\">\n",
       "      <th></th>\n",
       "      <th>Car</th>\n",
       "      <th>Region</th>\n",
       "      <th>Jan</th>\n",
       "      <th>연도</th>\n",
       "    </tr>\n",
       "  </thead>\n",
       "  <tbody>\n",
       "    <tr>\n",
       "      <th>0</th>\n",
       "      <td>Passenger Car</td>\n",
       "      <td>US</td>\n",
       "      <td>4518.0</td>\n",
       "      <td>2025</td>\n",
       "    </tr>\n",
       "    <tr>\n",
       "      <th>1</th>\n",
       "      <td>Recreational Vehicle</td>\n",
       "      <td>US</td>\n",
       "      <td>23997.0</td>\n",
       "      <td>2025</td>\n",
       "    </tr>\n",
       "    <tr>\n",
       "      <th>2</th>\n",
       "      <td>Commercial Vehicle</td>\n",
       "      <td>US</td>\n",
       "      <td>NaN</td>\n",
       "      <td>2025</td>\n",
       "    </tr>\n",
       "    <tr>\n",
       "      <th>3</th>\n",
       "      <td>Special Vehicle</td>\n",
       "      <td>US</td>\n",
       "      <td>NaN</td>\n",
       "      <td>2025</td>\n",
       "    </tr>\n",
       "    <tr>\n",
       "      <th>4</th>\n",
       "      <td>CKD(excl, Special Vehicle)</td>\n",
       "      <td>US</td>\n",
       "      <td>NaN</td>\n",
       "      <td>2025</td>\n",
       "    </tr>\n",
       "  </tbody>\n",
       "</table>\n",
       "</div>"
      ],
      "text/plain": [
       "                          Car Region      Jan    연도\n",
       "0               Passenger Car     US   4518.0  2025\n",
       "1        Recreational Vehicle     US  23997.0  2025\n",
       "2          Commercial Vehicle     US      NaN  2025\n",
       "3             Special Vehicle     US      NaN  2025\n",
       "4  CKD(excl, Special Vehicle)     US      NaN  2025"
      ]
     },
     "execution_count": 21,
     "metadata": {},
     "output_type": "execute_result"
    }
   ],
   "source": [
    "df_2025.head()"
   ]
  },
  {
   "cell_type": "code",
   "execution_count": 22,
   "metadata": {},
   "outputs": [
    {
     "data": {
      "text/plain": [
       "Index(['Car', 'Region', 'Jan', 'Feb', 'Mar', 'Apr', 'May', 'Jun', 'Jul', 'Aug',\n",
       "       'Sep', 'Oct', 'Nov', 'Dec', '연도'],\n",
       "      dtype='object')"
      ]
     },
     "execution_count": 22,
     "metadata": {},
     "output_type": "execute_result"
    }
   ],
   "source": [
    "df_2023.columns"
   ]
  },
  {
   "cell_type": "code",
   "execution_count": 23,
   "metadata": {},
   "outputs": [
    {
     "data": {
      "text/plain": [
       "Index(['Car', 'Region', 'Jan', 'Feb', 'Mar', 'Apr', 'May', 'Jun', 'Jul', 'Aug',\n",
       "       'Sep', 'Oct', 'Nov', 'Dec', '연도'],\n",
       "      dtype='object')"
      ]
     },
     "execution_count": 23,
     "metadata": {},
     "output_type": "execute_result"
    }
   ],
   "source": [
    "df_2024.columns"
   ]
  },
  {
   "cell_type": "code",
   "execution_count": 24,
   "metadata": {},
   "outputs": [
    {
     "data": {
      "text/plain": [
       "Index(['Car', 'Region', 'Jan', '연도'], dtype='object')"
      ]
     },
     "execution_count": 24,
     "metadata": {},
     "output_type": "execute_result"
    }
   ],
   "source": [
    "df_2025.columns"
   ]
  },
  {
   "cell_type": "code",
   "execution_count": 25,
   "metadata": {},
   "outputs": [],
   "source": [
    "df = pd.concat([df_2023, df_2024, df_2025], ignore_index=True)"
   ]
  },
  {
   "cell_type": "code",
   "execution_count": 26,
   "metadata": {},
   "outputs": [
    {
     "data": {
      "application/vnd.microsoft.datawrangler.viewer.v0+json": {
       "columns": [
        {
         "name": "index",
         "rawType": "int64",
         "type": "integer"
        },
        {
         "name": "Car",
         "rawType": "object",
         "type": "string"
        },
        {
         "name": "Region",
         "rawType": "object",
         "type": "string"
        },
        {
         "name": "Jan",
         "rawType": "object",
         "type": "unknown"
        },
        {
         "name": "Feb",
         "rawType": "object",
         "type": "unknown"
        },
        {
         "name": "Mar",
         "rawType": "object",
         "type": "unknown"
        },
        {
         "name": "Apr",
         "rawType": "object",
         "type": "unknown"
        },
        {
         "name": "May",
         "rawType": "object",
         "type": "unknown"
        },
        {
         "name": "Jun",
         "rawType": "object",
         "type": "unknown"
        },
        {
         "name": "Jul",
         "rawType": "object",
         "type": "unknown"
        },
        {
         "name": "Aug",
         "rawType": "object",
         "type": "unknown"
        },
        {
         "name": "Sep",
         "rawType": "object",
         "type": "unknown"
        },
        {
         "name": "Oct",
         "rawType": "object",
         "type": "unknown"
        },
        {
         "name": "Nov",
         "rawType": "object",
         "type": "unknown"
        },
        {
         "name": "Dec",
         "rawType": "object",
         "type": "unknown"
        },
        {
         "name": "연도",
         "rawType": "int64",
         "type": "integer"
        }
       ],
       "conversionMethod": "pd.DataFrame",
       "ref": "367078e0-7122-41c5-96d6-d52ceb8159ef",
       "rows": [
        [
         "0",
         "Passenger Car",
         "US",
         "1048.0",
         "633.0",
         "627.0",
         "245.0",
         "0.0",
         "0.0",
         "2.0",
         "0.0",
         "0.0",
         "4.0",
         "0.0",
         "5.0",
         "2023"
        ],
        [
         "1",
         "Recreational Vehicle",
         "US",
         "33056.0",
         "29697.0",
         "31985.0",
         "29103.0",
         "28763.0",
         "26013.0",
         "27234.0",
         "22619.0",
         "20969.0",
         "24759.0",
         "33951.0",
         "30920.0",
         "2023"
        ],
        [
         "2",
         "Commercial Vehicle",
         "US",
         "0.0",
         "0.0",
         "0.0",
         "0.0",
         "0.0",
         "0.0",
         null,
         "0.0",
         "0.0",
         "0.0",
         "0.0",
         "0.0",
         "2023"
        ],
        [
         "3",
         "Special Vehicle",
         "US",
         "0.0",
         "0.0",
         "0.0",
         "0.0",
         "0.0",
         null,
         null,
         null,
         "0.0",
         "0.0",
         "0.0",
         null,
         "2023"
        ],
        [
         "4",
         "CKD(Inc, Special Vehicle)",
         "US",
         "0.0",
         "0.0",
         "0.0",
         "0.0",
         null,
         null,
         null,
         null,
         null,
         null,
         null,
         null,
         "2023"
        ]
       ],
       "shape": {
        "columns": 15,
        "rows": 5
       }
      },
      "text/html": [
       "<div>\n",
       "<style scoped>\n",
       "    .dataframe tbody tr th:only-of-type {\n",
       "        vertical-align: middle;\n",
       "    }\n",
       "\n",
       "    .dataframe tbody tr th {\n",
       "        vertical-align: top;\n",
       "    }\n",
       "\n",
       "    .dataframe thead th {\n",
       "        text-align: right;\n",
       "    }\n",
       "</style>\n",
       "<table border=\"1\" class=\"dataframe\">\n",
       "  <thead>\n",
       "    <tr style=\"text-align: right;\">\n",
       "      <th></th>\n",
       "      <th>Car</th>\n",
       "      <th>Region</th>\n",
       "      <th>Jan</th>\n",
       "      <th>Feb</th>\n",
       "      <th>Mar</th>\n",
       "      <th>Apr</th>\n",
       "      <th>May</th>\n",
       "      <th>Jun</th>\n",
       "      <th>Jul</th>\n",
       "      <th>Aug</th>\n",
       "      <th>Sep</th>\n",
       "      <th>Oct</th>\n",
       "      <th>Nov</th>\n",
       "      <th>Dec</th>\n",
       "      <th>연도</th>\n",
       "    </tr>\n",
       "  </thead>\n",
       "  <tbody>\n",
       "    <tr>\n",
       "      <th>0</th>\n",
       "      <td>Passenger Car</td>\n",
       "      <td>US</td>\n",
       "      <td>1048.0</td>\n",
       "      <td>633.0</td>\n",
       "      <td>627.0</td>\n",
       "      <td>245.0</td>\n",
       "      <td>0.0</td>\n",
       "      <td>0.0</td>\n",
       "      <td>2.0</td>\n",
       "      <td>0.0</td>\n",
       "      <td>0.0</td>\n",
       "      <td>4.0</td>\n",
       "      <td>0.0</td>\n",
       "      <td>5.0</td>\n",
       "      <td>2023</td>\n",
       "    </tr>\n",
       "    <tr>\n",
       "      <th>1</th>\n",
       "      <td>Recreational Vehicle</td>\n",
       "      <td>US</td>\n",
       "      <td>33056.0</td>\n",
       "      <td>29697.0</td>\n",
       "      <td>31985.0</td>\n",
       "      <td>29103.0</td>\n",
       "      <td>28763.0</td>\n",
       "      <td>26013.0</td>\n",
       "      <td>27234.0</td>\n",
       "      <td>22619.0</td>\n",
       "      <td>20969.0</td>\n",
       "      <td>24759.0</td>\n",
       "      <td>33951.0</td>\n",
       "      <td>30920.0</td>\n",
       "      <td>2023</td>\n",
       "    </tr>\n",
       "    <tr>\n",
       "      <th>2</th>\n",
       "      <td>Commercial Vehicle</td>\n",
       "      <td>US</td>\n",
       "      <td>0.0</td>\n",
       "      <td>0.0</td>\n",
       "      <td>0.0</td>\n",
       "      <td>0.0</td>\n",
       "      <td>0.0</td>\n",
       "      <td>0.0</td>\n",
       "      <td>NaN</td>\n",
       "      <td>0.0</td>\n",
       "      <td>0.0</td>\n",
       "      <td>0.0</td>\n",
       "      <td>0.0</td>\n",
       "      <td>0.0</td>\n",
       "      <td>2023</td>\n",
       "    </tr>\n",
       "    <tr>\n",
       "      <th>3</th>\n",
       "      <td>Special Vehicle</td>\n",
       "      <td>US</td>\n",
       "      <td>0.0</td>\n",
       "      <td>0.0</td>\n",
       "      <td>0.0</td>\n",
       "      <td>0.0</td>\n",
       "      <td>0.0</td>\n",
       "      <td>NaN</td>\n",
       "      <td>NaN</td>\n",
       "      <td>NaN</td>\n",
       "      <td>0.0</td>\n",
       "      <td>0.0</td>\n",
       "      <td>0.0</td>\n",
       "      <td>NaN</td>\n",
       "      <td>2023</td>\n",
       "    </tr>\n",
       "    <tr>\n",
       "      <th>4</th>\n",
       "      <td>CKD(Inc, Special Vehicle)</td>\n",
       "      <td>US</td>\n",
       "      <td>0.0</td>\n",
       "      <td>0.0</td>\n",
       "      <td>0.0</td>\n",
       "      <td>0.0</td>\n",
       "      <td>NaN</td>\n",
       "      <td>NaN</td>\n",
       "      <td>NaN</td>\n",
       "      <td>NaN</td>\n",
       "      <td>NaN</td>\n",
       "      <td>NaN</td>\n",
       "      <td>NaN</td>\n",
       "      <td>NaN</td>\n",
       "      <td>2023</td>\n",
       "    </tr>\n",
       "  </tbody>\n",
       "</table>\n",
       "</div>"
      ],
      "text/plain": [
       "                         Car Region      Jan      Feb      Mar      Apr  \\\n",
       "0              Passenger Car     US   1048.0    633.0    627.0    245.0   \n",
       "1       Recreational Vehicle     US  33056.0  29697.0  31985.0  29103.0   \n",
       "2         Commercial Vehicle     US      0.0      0.0      0.0      0.0   \n",
       "3            Special Vehicle     US      0.0      0.0      0.0      0.0   \n",
       "4  CKD(Inc, Special Vehicle)     US      0.0      0.0      0.0      0.0   \n",
       "\n",
       "       May      Jun      Jul      Aug      Sep      Oct      Nov      Dec  \\\n",
       "0      0.0      0.0      2.0      0.0      0.0      4.0      0.0      5.0   \n",
       "1  28763.0  26013.0  27234.0  22619.0  20969.0  24759.0  33951.0  30920.0   \n",
       "2      0.0      0.0      NaN      0.0      0.0      0.0      0.0      0.0   \n",
       "3      0.0      NaN      NaN      NaN      0.0      0.0      0.0      NaN   \n",
       "4      NaN      NaN      NaN      NaN      NaN      NaN      NaN      NaN   \n",
       "\n",
       "     연도  \n",
       "0  2023  \n",
       "1  2023  \n",
       "2  2023  \n",
       "3  2023  \n",
       "4  2023  "
      ]
     },
     "execution_count": 26,
     "metadata": {},
     "output_type": "execute_result"
    }
   ],
   "source": [
    "df.head()"
   ]
  },
  {
   "cell_type": "code",
   "execution_count": 27,
   "metadata": {},
   "outputs": [
    {
     "data": {
      "text/plain": [
       "Index(['Car', 'Region', 'Jan', 'Feb', 'Mar', 'Apr', 'May', 'Jun', 'Jul', 'Aug',\n",
       "       'Sep', 'Oct', 'Nov', 'Dec', '연도'],\n",
       "      dtype='object')"
      ]
     },
     "execution_count": 27,
     "metadata": {},
     "output_type": "execute_result"
    }
   ],
   "source": [
    "df.columns"
   ]
  },
  {
   "cell_type": "code",
   "execution_count": 28,
   "metadata": {},
   "outputs": [
    {
     "data": {
      "text/plain": [
       "Car         0\n",
       "Region      0\n",
       "Jan        48\n",
       "Feb        80\n",
       "Mar        84\n",
       "Apr        90\n",
       "May        89\n",
       "Jun        91\n",
       "Jul       107\n",
       "Aug        87\n",
       "Sep        96\n",
       "Oct        96\n",
       "Nov        91\n",
       "Dec        97\n",
       "연도          0\n",
       "dtype: int64"
      ]
     },
     "execution_count": 28,
     "metadata": {},
     "output_type": "execute_result"
    }
   ],
   "source": [
    "df.isna().sum()"
   ]
  },
  {
   "cell_type": "code",
   "execution_count": 29,
   "metadata": {},
   "outputs": [],
   "source": [
    "df.fillna(0, inplace=True)"
   ]
  },
  {
   "cell_type": "code",
   "execution_count": 30,
   "metadata": {},
   "outputs": [
    {
     "data": {
      "text/plain": [
       "Car       0\n",
       "Region    0\n",
       "Jan       0\n",
       "Feb       0\n",
       "Mar       0\n",
       "Apr       0\n",
       "May       0\n",
       "Jun       0\n",
       "Jul       0\n",
       "Aug       0\n",
       "Sep       0\n",
       "Oct       0\n",
       "Nov       0\n",
       "Dec       0\n",
       "연도        0\n",
       "dtype: int64"
      ]
     },
     "execution_count": 30,
     "metadata": {},
     "output_type": "execute_result"
    }
   ],
   "source": [
    "df.isna().sum()"
   ]
  },
  {
   "cell_type": "code",
   "execution_count": 31,
   "metadata": {},
   "outputs": [
    {
     "data": {
      "text/plain": [
       "Index(['Car', 'Region', 'Jan', 'Feb', 'Mar', 'Apr', 'May', 'Jun', 'Jul', 'Aug',\n",
       "       'Sep', 'Oct', 'Nov', 'Dec', '연도'],\n",
       "      dtype='object')"
      ]
     },
     "execution_count": 31,
     "metadata": {},
     "output_type": "execute_result"
    }
   ],
   "source": [
    "df.columns"
   ]
  },
  {
   "cell_type": "code",
   "execution_count": 32,
   "metadata": {},
   "outputs": [
    {
     "data": {
      "text/plain": [
       "Index(['차량 구분', '국가명', '1월', '2월', '3월', '4월', '5월', '6월', '7월', '8월', '9월',\n",
       "       '10월', '11월', '12월', '연도'],\n",
       "      dtype='object')"
      ]
     },
     "execution_count": 32,
     "metadata": {},
     "output_type": "execute_result"
    }
   ],
   "source": [
    "# 기존 컬럼명과 변경할 컬럼명 매핑\n",
    "column_mapping = {\n",
    "    'Car': '차량 구분',\n",
    "    'Region': '국가명',\n",
    "    'Jan': '1월',\n",
    "    'Feb': '2월',\n",
    "    'Mar': '3월',\n",
    "    'Apr': '4월',\n",
    "    'May': '5월',\n",
    "    'Jun': '6월',\n",
    "    'Jul': '7월',\n",
    "    'Aug': '8월',\n",
    "    'Sep': '9월',\n",
    "    'Oct': '10월',\n",
    "    'Nov': '11월',\n",
    "    'Dec': '12월'\n",
    "}\n",
    "\n",
    "# 컬럼명 변경\n",
    "df.columns = [column_mapping.get(col, col) for col in df.columns]\n",
    "\n",
    "# 변경된 컬럼명 확인\n",
    "df.columns"
   ]
  },
  {
   "cell_type": "code",
   "execution_count": 34,
   "metadata": {},
   "outputs": [],
   "source": [
    "df.to_csv(\"hyundai/현대_지역별수출실적_전처리.CSV\", index=False)"
   ]
  },
  {
   "cell_type": "code",
   "execution_count": 35,
   "metadata": {},
   "outputs": [],
   "source": [
    "# 데이터 불러오기\n",
    "df_2023 = pd.read_csv(\"hyundai/차종별판매실적_2023.CSV\")\n",
    "df_2024 = pd.read_csv(\"hyundai/차종별판매실적_2024.CSV\")\n",
    "df_2025 = pd.read_csv(\"hyundai/차종별판매실적_2025.CSV\")"
   ]
  },
  {
   "cell_type": "code",
   "execution_count": 36,
   "metadata": {},
   "outputs": [
    {
     "data": {
      "application/vnd.microsoft.datawrangler.viewer.v0+json": {
       "columns": [
        {
         "name": "index",
         "rawType": "int64",
         "type": "integer"
        },
        {
         "name": "Model",
         "rawType": "object",
         "type": "string"
        },
        {
         "name": "Vehicle Type",
         "rawType": "object",
         "type": "string"
        },
        {
         "name": "Trade",
         "rawType": "object",
         "type": "string"
        },
        {
         "name": "Jan",
         "rawType": "float64",
         "type": "float"
        },
        {
         "name": "Feb",
         "rawType": "float64",
         "type": "float"
        },
        {
         "name": "Mar",
         "rawType": "float64",
         "type": "float"
        },
        {
         "name": "Apr",
         "rawType": "float64",
         "type": "float"
        },
        {
         "name": "May",
         "rawType": "float64",
         "type": "float"
        },
        {
         "name": "Jun",
         "rawType": "float64",
         "type": "float"
        },
        {
         "name": "Jul",
         "rawType": "float64",
         "type": "float"
        },
        {
         "name": "Aug",
         "rawType": "float64",
         "type": "float"
        },
        {
         "name": "Sep",
         "rawType": "float64",
         "type": "float"
        },
        {
         "name": "Oct",
         "rawType": "float64",
         "type": "float"
        },
        {
         "name": "Nov",
         "rawType": "float64",
         "type": "float"
        },
        {
         "name": "Dec",
         "rawType": "float64",
         "type": "float"
        }
       ],
       "conversionMethod": "pd.DataFrame",
       "ref": "3d047fb0-9483-444e-98d2-1927b5b62fdd",
       "rows": [
        [
         "0",
         " Morning",
         "Ordinary Vehicle",
         "Domestic",
         "1813.0",
         "2049.0",
         "2127.0",
         "2164.0",
         "2502.0",
         "2245.0",
         "2033.0",
         "2910.0",
         "1892.0",
         "2225.0",
         "2111.0",
         "1808.0"
        ],
        [
         "1",
         " Ray",
         "Ordinary Vehicle",
         "Domestic",
         "3585.0",
         "4268.0",
         "4155.0",
         "4158.0",
         "4576.0",
         "4372.0",
         "4285.0",
         "4402.0",
         "3464.0",
         "4824.0",
         "4587.0",
         "4254.0"
        ],
        [
         "2",
         " K3",
         "Ordinary Vehicle",
         "Domestic",
         "950.0",
         "1024.0",
         "1197.0",
         "670.0",
         "975.0",
         "1540.0",
         "976.0",
         "1123.0",
         "1036.0",
         "939.0",
         "1428.0",
         "1346.0"
        ],
        [
         "3",
         " K5",
         "Ordinary Vehicle",
         "Domestic",
         "2560.0",
         "2653.0",
         "3421.0",
         "2739.0",
         "3166.0",
         "2963.0",
         "2246.0",
         "2613.0",
         "2280.0",
         "2592.0",
         "3783.0",
         "3563.0"
        ],
        [
         "4",
         " Stinger",
         "Ordinary Vehicle",
         "Domestic",
         "113.0",
         "120.0",
         "143.0",
         "61.0",
         "45.0",
         "1.0",
         "0.0",
         "0.0",
         "0.0",
         "0.0",
         "0.0",
         "0.0"
        ]
       ],
       "shape": {
        "columns": 15,
        "rows": 5
       }
      },
      "text/html": [
       "<div>\n",
       "<style scoped>\n",
       "    .dataframe tbody tr th:only-of-type {\n",
       "        vertical-align: middle;\n",
       "    }\n",
       "\n",
       "    .dataframe tbody tr th {\n",
       "        vertical-align: top;\n",
       "    }\n",
       "\n",
       "    .dataframe thead th {\n",
       "        text-align: right;\n",
       "    }\n",
       "</style>\n",
       "<table border=\"1\" class=\"dataframe\">\n",
       "  <thead>\n",
       "    <tr style=\"text-align: right;\">\n",
       "      <th></th>\n",
       "      <th>Model</th>\n",
       "      <th>Vehicle Type</th>\n",
       "      <th>Trade</th>\n",
       "      <th>Jan</th>\n",
       "      <th>Feb</th>\n",
       "      <th>Mar</th>\n",
       "      <th>Apr</th>\n",
       "      <th>May</th>\n",
       "      <th>Jun</th>\n",
       "      <th>Jul</th>\n",
       "      <th>Aug</th>\n",
       "      <th>Sep</th>\n",
       "      <th>Oct</th>\n",
       "      <th>Nov</th>\n",
       "      <th>Dec</th>\n",
       "    </tr>\n",
       "  </thead>\n",
       "  <tbody>\n",
       "    <tr>\n",
       "      <th>0</th>\n",
       "      <td>Morning</td>\n",
       "      <td>Ordinary Vehicle</td>\n",
       "      <td>Domestic</td>\n",
       "      <td>1813.0</td>\n",
       "      <td>2049.0</td>\n",
       "      <td>2127.0</td>\n",
       "      <td>2164.0</td>\n",
       "      <td>2502.0</td>\n",
       "      <td>2245.0</td>\n",
       "      <td>2033.0</td>\n",
       "      <td>2910.0</td>\n",
       "      <td>1892.0</td>\n",
       "      <td>2225.0</td>\n",
       "      <td>2111.0</td>\n",
       "      <td>1808.0</td>\n",
       "    </tr>\n",
       "    <tr>\n",
       "      <th>1</th>\n",
       "      <td>Ray</td>\n",
       "      <td>Ordinary Vehicle</td>\n",
       "      <td>Domestic</td>\n",
       "      <td>3585.0</td>\n",
       "      <td>4268.0</td>\n",
       "      <td>4155.0</td>\n",
       "      <td>4158.0</td>\n",
       "      <td>4576.0</td>\n",
       "      <td>4372.0</td>\n",
       "      <td>4285.0</td>\n",
       "      <td>4402.0</td>\n",
       "      <td>3464.0</td>\n",
       "      <td>4824.0</td>\n",
       "      <td>4587.0</td>\n",
       "      <td>4254.0</td>\n",
       "    </tr>\n",
       "    <tr>\n",
       "      <th>2</th>\n",
       "      <td>K3</td>\n",
       "      <td>Ordinary Vehicle</td>\n",
       "      <td>Domestic</td>\n",
       "      <td>950.0</td>\n",
       "      <td>1024.0</td>\n",
       "      <td>1197.0</td>\n",
       "      <td>670.0</td>\n",
       "      <td>975.0</td>\n",
       "      <td>1540.0</td>\n",
       "      <td>976.0</td>\n",
       "      <td>1123.0</td>\n",
       "      <td>1036.0</td>\n",
       "      <td>939.0</td>\n",
       "      <td>1428.0</td>\n",
       "      <td>1346.0</td>\n",
       "    </tr>\n",
       "    <tr>\n",
       "      <th>3</th>\n",
       "      <td>K5</td>\n",
       "      <td>Ordinary Vehicle</td>\n",
       "      <td>Domestic</td>\n",
       "      <td>2560.0</td>\n",
       "      <td>2653.0</td>\n",
       "      <td>3421.0</td>\n",
       "      <td>2739.0</td>\n",
       "      <td>3166.0</td>\n",
       "      <td>2963.0</td>\n",
       "      <td>2246.0</td>\n",
       "      <td>2613.0</td>\n",
       "      <td>2280.0</td>\n",
       "      <td>2592.0</td>\n",
       "      <td>3783.0</td>\n",
       "      <td>3563.0</td>\n",
       "    </tr>\n",
       "    <tr>\n",
       "      <th>4</th>\n",
       "      <td>Stinger</td>\n",
       "      <td>Ordinary Vehicle</td>\n",
       "      <td>Domestic</td>\n",
       "      <td>113.0</td>\n",
       "      <td>120.0</td>\n",
       "      <td>143.0</td>\n",
       "      <td>61.0</td>\n",
       "      <td>45.0</td>\n",
       "      <td>1.0</td>\n",
       "      <td>0.0</td>\n",
       "      <td>0.0</td>\n",
       "      <td>0.0</td>\n",
       "      <td>0.0</td>\n",
       "      <td>0.0</td>\n",
       "      <td>0.0</td>\n",
       "    </tr>\n",
       "  </tbody>\n",
       "</table>\n",
       "</div>"
      ],
      "text/plain": [
       "      Model      Vehicle Type     Trade     Jan     Feb     Mar     Apr  \\\n",
       "0   Morning  Ordinary Vehicle  Domestic  1813.0  2049.0  2127.0  2164.0   \n",
       "1       Ray  Ordinary Vehicle  Domestic  3585.0  4268.0  4155.0  4158.0   \n",
       "2        K3  Ordinary Vehicle  Domestic   950.0  1024.0  1197.0   670.0   \n",
       "3        K5  Ordinary Vehicle  Domestic  2560.0  2653.0  3421.0  2739.0   \n",
       "4   Stinger  Ordinary Vehicle  Domestic   113.0   120.0   143.0    61.0   \n",
       "\n",
       "      May     Jun     Jul     Aug     Sep     Oct     Nov     Dec  \n",
       "0  2502.0  2245.0  2033.0  2910.0  1892.0  2225.0  2111.0  1808.0  \n",
       "1  4576.0  4372.0  4285.0  4402.0  3464.0  4824.0  4587.0  4254.0  \n",
       "2   975.0  1540.0   976.0  1123.0  1036.0   939.0  1428.0  1346.0  \n",
       "3  3166.0  2963.0  2246.0  2613.0  2280.0  2592.0  3783.0  3563.0  \n",
       "4    45.0     1.0     0.0     0.0     0.0     0.0     0.0     0.0  "
      ]
     },
     "execution_count": 36,
     "metadata": {},
     "output_type": "execute_result"
    }
   ],
   "source": [
    "df_2023.head()"
   ]
  },
  {
   "cell_type": "code",
   "execution_count": 37,
   "metadata": {},
   "outputs": [],
   "source": [
    "df_2023[\"연도\"] = 2023"
   ]
  },
  {
   "cell_type": "code",
   "execution_count": 38,
   "metadata": {},
   "outputs": [
    {
     "data": {
      "application/vnd.microsoft.datawrangler.viewer.v0+json": {
       "columns": [
        {
         "name": "index",
         "rawType": "int64",
         "type": "integer"
        },
        {
         "name": "Model",
         "rawType": "object",
         "type": "string"
        },
        {
         "name": "Vehicle Type",
         "rawType": "object",
         "type": "string"
        },
        {
         "name": "Trade",
         "rawType": "object",
         "type": "string"
        },
        {
         "name": "Jan",
         "rawType": "float64",
         "type": "float"
        },
        {
         "name": "Feb",
         "rawType": "float64",
         "type": "float"
        },
        {
         "name": "Mar",
         "rawType": "float64",
         "type": "float"
        },
        {
         "name": "Apr",
         "rawType": "float64",
         "type": "float"
        },
        {
         "name": "May",
         "rawType": "float64",
         "type": "float"
        },
        {
         "name": "Jun",
         "rawType": "float64",
         "type": "float"
        },
        {
         "name": "Jul",
         "rawType": "float64",
         "type": "float"
        },
        {
         "name": "Aug",
         "rawType": "float64",
         "type": "float"
        },
        {
         "name": "Sep",
         "rawType": "float64",
         "type": "float"
        },
        {
         "name": "Oct",
         "rawType": "float64",
         "type": "float"
        },
        {
         "name": "Nov",
         "rawType": "float64",
         "type": "float"
        },
        {
         "name": "Dec",
         "rawType": "float64",
         "type": "float"
        },
        {
         "name": "연도",
         "rawType": "int64",
         "type": "integer"
        }
       ],
       "conversionMethod": "pd.DataFrame",
       "ref": "aeb62aea-2997-4ed7-add2-7e553a36e7a1",
       "rows": [
        [
         "0",
         " Morning",
         "Ordinary Vehicle",
         "Domestic",
         "1813.0",
         "2049.0",
         "2127.0",
         "2164.0",
         "2502.0",
         "2245.0",
         "2033.0",
         "2910.0",
         "1892.0",
         "2225.0",
         "2111.0",
         "1808.0",
         "2023"
        ],
        [
         "1",
         " Ray",
         "Ordinary Vehicle",
         "Domestic",
         "3585.0",
         "4268.0",
         "4155.0",
         "4158.0",
         "4576.0",
         "4372.0",
         "4285.0",
         "4402.0",
         "3464.0",
         "4824.0",
         "4587.0",
         "4254.0",
         "2023"
        ],
        [
         "2",
         " K3",
         "Ordinary Vehicle",
         "Domestic",
         "950.0",
         "1024.0",
         "1197.0",
         "670.0",
         "975.0",
         "1540.0",
         "976.0",
         "1123.0",
         "1036.0",
         "939.0",
         "1428.0",
         "1346.0",
         "2023"
        ],
        [
         "3",
         " K5",
         "Ordinary Vehicle",
         "Domestic",
         "2560.0",
         "2653.0",
         "3421.0",
         "2739.0",
         "3166.0",
         "2963.0",
         "2246.0",
         "2613.0",
         "2280.0",
         "2592.0",
         "3783.0",
         "3563.0",
         "2023"
        ],
        [
         "4",
         " Stinger",
         "Ordinary Vehicle",
         "Domestic",
         "113.0",
         "120.0",
         "143.0",
         "61.0",
         "45.0",
         "1.0",
         "0.0",
         "0.0",
         "0.0",
         "0.0",
         "0.0",
         "0.0",
         "2023"
        ]
       ],
       "shape": {
        "columns": 16,
        "rows": 5
       }
      },
      "text/html": [
       "<div>\n",
       "<style scoped>\n",
       "    .dataframe tbody tr th:only-of-type {\n",
       "        vertical-align: middle;\n",
       "    }\n",
       "\n",
       "    .dataframe tbody tr th {\n",
       "        vertical-align: top;\n",
       "    }\n",
       "\n",
       "    .dataframe thead th {\n",
       "        text-align: right;\n",
       "    }\n",
       "</style>\n",
       "<table border=\"1\" class=\"dataframe\">\n",
       "  <thead>\n",
       "    <tr style=\"text-align: right;\">\n",
       "      <th></th>\n",
       "      <th>Model</th>\n",
       "      <th>Vehicle Type</th>\n",
       "      <th>Trade</th>\n",
       "      <th>Jan</th>\n",
       "      <th>Feb</th>\n",
       "      <th>Mar</th>\n",
       "      <th>Apr</th>\n",
       "      <th>May</th>\n",
       "      <th>Jun</th>\n",
       "      <th>Jul</th>\n",
       "      <th>Aug</th>\n",
       "      <th>Sep</th>\n",
       "      <th>Oct</th>\n",
       "      <th>Nov</th>\n",
       "      <th>Dec</th>\n",
       "      <th>연도</th>\n",
       "    </tr>\n",
       "  </thead>\n",
       "  <tbody>\n",
       "    <tr>\n",
       "      <th>0</th>\n",
       "      <td>Morning</td>\n",
       "      <td>Ordinary Vehicle</td>\n",
       "      <td>Domestic</td>\n",
       "      <td>1813.0</td>\n",
       "      <td>2049.0</td>\n",
       "      <td>2127.0</td>\n",
       "      <td>2164.0</td>\n",
       "      <td>2502.0</td>\n",
       "      <td>2245.0</td>\n",
       "      <td>2033.0</td>\n",
       "      <td>2910.0</td>\n",
       "      <td>1892.0</td>\n",
       "      <td>2225.0</td>\n",
       "      <td>2111.0</td>\n",
       "      <td>1808.0</td>\n",
       "      <td>2023</td>\n",
       "    </tr>\n",
       "    <tr>\n",
       "      <th>1</th>\n",
       "      <td>Ray</td>\n",
       "      <td>Ordinary Vehicle</td>\n",
       "      <td>Domestic</td>\n",
       "      <td>3585.0</td>\n",
       "      <td>4268.0</td>\n",
       "      <td>4155.0</td>\n",
       "      <td>4158.0</td>\n",
       "      <td>4576.0</td>\n",
       "      <td>4372.0</td>\n",
       "      <td>4285.0</td>\n",
       "      <td>4402.0</td>\n",
       "      <td>3464.0</td>\n",
       "      <td>4824.0</td>\n",
       "      <td>4587.0</td>\n",
       "      <td>4254.0</td>\n",
       "      <td>2023</td>\n",
       "    </tr>\n",
       "    <tr>\n",
       "      <th>2</th>\n",
       "      <td>K3</td>\n",
       "      <td>Ordinary Vehicle</td>\n",
       "      <td>Domestic</td>\n",
       "      <td>950.0</td>\n",
       "      <td>1024.0</td>\n",
       "      <td>1197.0</td>\n",
       "      <td>670.0</td>\n",
       "      <td>975.0</td>\n",
       "      <td>1540.0</td>\n",
       "      <td>976.0</td>\n",
       "      <td>1123.0</td>\n",
       "      <td>1036.0</td>\n",
       "      <td>939.0</td>\n",
       "      <td>1428.0</td>\n",
       "      <td>1346.0</td>\n",
       "      <td>2023</td>\n",
       "    </tr>\n",
       "    <tr>\n",
       "      <th>3</th>\n",
       "      <td>K5</td>\n",
       "      <td>Ordinary Vehicle</td>\n",
       "      <td>Domestic</td>\n",
       "      <td>2560.0</td>\n",
       "      <td>2653.0</td>\n",
       "      <td>3421.0</td>\n",
       "      <td>2739.0</td>\n",
       "      <td>3166.0</td>\n",
       "      <td>2963.0</td>\n",
       "      <td>2246.0</td>\n",
       "      <td>2613.0</td>\n",
       "      <td>2280.0</td>\n",
       "      <td>2592.0</td>\n",
       "      <td>3783.0</td>\n",
       "      <td>3563.0</td>\n",
       "      <td>2023</td>\n",
       "    </tr>\n",
       "    <tr>\n",
       "      <th>4</th>\n",
       "      <td>Stinger</td>\n",
       "      <td>Ordinary Vehicle</td>\n",
       "      <td>Domestic</td>\n",
       "      <td>113.0</td>\n",
       "      <td>120.0</td>\n",
       "      <td>143.0</td>\n",
       "      <td>61.0</td>\n",
       "      <td>45.0</td>\n",
       "      <td>1.0</td>\n",
       "      <td>0.0</td>\n",
       "      <td>0.0</td>\n",
       "      <td>0.0</td>\n",
       "      <td>0.0</td>\n",
       "      <td>0.0</td>\n",
       "      <td>0.0</td>\n",
       "      <td>2023</td>\n",
       "    </tr>\n",
       "  </tbody>\n",
       "</table>\n",
       "</div>"
      ],
      "text/plain": [
       "      Model      Vehicle Type     Trade     Jan     Feb     Mar     Apr  \\\n",
       "0   Morning  Ordinary Vehicle  Domestic  1813.0  2049.0  2127.0  2164.0   \n",
       "1       Ray  Ordinary Vehicle  Domestic  3585.0  4268.0  4155.0  4158.0   \n",
       "2        K3  Ordinary Vehicle  Domestic   950.0  1024.0  1197.0   670.0   \n",
       "3        K5  Ordinary Vehicle  Domestic  2560.0  2653.0  3421.0  2739.0   \n",
       "4   Stinger  Ordinary Vehicle  Domestic   113.0   120.0   143.0    61.0   \n",
       "\n",
       "      May     Jun     Jul     Aug     Sep     Oct     Nov     Dec    연도  \n",
       "0  2502.0  2245.0  2033.0  2910.0  1892.0  2225.0  2111.0  1808.0  2023  \n",
       "1  4576.0  4372.0  4285.0  4402.0  3464.0  4824.0  4587.0  4254.0  2023  \n",
       "2   975.0  1540.0   976.0  1123.0  1036.0   939.0  1428.0  1346.0  2023  \n",
       "3  3166.0  2963.0  2246.0  2613.0  2280.0  2592.0  3783.0  3563.0  2023  \n",
       "4    45.0     1.0     0.0     0.0     0.0     0.0     0.0     0.0  2023  "
      ]
     },
     "execution_count": 38,
     "metadata": {},
     "output_type": "execute_result"
    }
   ],
   "source": [
    "df_2023.head()"
   ]
  },
  {
   "cell_type": "code",
   "execution_count": 39,
   "metadata": {},
   "outputs": [
    {
     "data": {
      "application/vnd.microsoft.datawrangler.viewer.v0+json": {
       "columns": [
        {
         "name": "index",
         "rawType": "int64",
         "type": "integer"
        },
        {
         "name": "Model",
         "rawType": "object",
         "type": "string"
        },
        {
         "name": "Vehicle Type",
         "rawType": "object",
         "type": "string"
        },
        {
         "name": "Trade",
         "rawType": "object",
         "type": "string"
        },
        {
         "name": "Jan",
         "rawType": "object",
         "type": "unknown"
        },
        {
         "name": "Feb",
         "rawType": "object",
         "type": "unknown"
        },
        {
         "name": "Mar",
         "rawType": "object",
         "type": "unknown"
        },
        {
         "name": "Apr",
         "rawType": "object",
         "type": "unknown"
        },
        {
         "name": "May",
         "rawType": "object",
         "type": "unknown"
        },
        {
         "name": "Jun",
         "rawType": "object",
         "type": "unknown"
        },
        {
         "name": "Jul",
         "rawType": "object",
         "type": "unknown"
        },
        {
         "name": "Aug",
         "rawType": "object",
         "type": "unknown"
        },
        {
         "name": "Sep",
         "rawType": "object",
         "type": "unknown"
        },
        {
         "name": "Oct",
         "rawType": "object",
         "type": "unknown"
        },
        {
         "name": "Nov",
         "rawType": "object",
         "type": "unknown"
        },
        {
         "name": "Dec",
         "rawType": "object",
         "type": "unknown"
        }
       ],
       "conversionMethod": "pd.DataFrame",
       "ref": "1f576f03-bbd8-414a-87b0-2ab9ff9e03e3",
       "rows": [
        [
         "0",
         "Morning",
         "Ordinary Vehicle",
         "Domestic",
         "1,214",
         "1,140",
         "1,416",
         "1,421",
         "907",
         "985",
         "1,335",
         "910",
         "968",
         "1,464",
         "1,467",
         "2,608"
        ],
        [
         "1",
         "Ray",
         "Ordinary Vehicle",
         "Domestic",
         "4,130",
         "3,972",
         "4,692",
         "4,460",
         "4,456",
         "3,574",
         "4,384",
         "3,710",
         "3,363",
         "3,278",
         "4,753",
         "4,219"
        ],
        [
         "2",
         "K3",
         "Ordinary Vehicle",
         "Domestic",
         "1,419",
         "1,315",
         "1,460",
         "1,336",
         "995",
         "1,341",
         "1,373",
         "588",
         "4",
         null,
         null,
         null
        ],
        [
         "3",
         "K5",
         "Ordinary Vehicle",
         "Domestic",
         "3,336",
         "2,970",
         "3,577",
         "3,168",
         "2,405",
         "2,932",
         "2,702",
         "2,690",
         "2,277",
         "3,030",
         "2,645",
         "2,105"
        ],
        [
         "4",
         "EV4",
         "Ordinary Vehicle",
         "Domestic",
         null,
         null,
         null,
         null,
         null,
         null,
         null,
         null,
         null,
         null,
         null,
         "0"
        ]
       ],
       "shape": {
        "columns": 15,
        "rows": 5
       }
      },
      "text/html": [
       "<div>\n",
       "<style scoped>\n",
       "    .dataframe tbody tr th:only-of-type {\n",
       "        vertical-align: middle;\n",
       "    }\n",
       "\n",
       "    .dataframe tbody tr th {\n",
       "        vertical-align: top;\n",
       "    }\n",
       "\n",
       "    .dataframe thead th {\n",
       "        text-align: right;\n",
       "    }\n",
       "</style>\n",
       "<table border=\"1\" class=\"dataframe\">\n",
       "  <thead>\n",
       "    <tr style=\"text-align: right;\">\n",
       "      <th></th>\n",
       "      <th>Model</th>\n",
       "      <th>Vehicle Type</th>\n",
       "      <th>Trade</th>\n",
       "      <th>Jan</th>\n",
       "      <th>Feb</th>\n",
       "      <th>Mar</th>\n",
       "      <th>Apr</th>\n",
       "      <th>May</th>\n",
       "      <th>Jun</th>\n",
       "      <th>Jul</th>\n",
       "      <th>Aug</th>\n",
       "      <th>Sep</th>\n",
       "      <th>Oct</th>\n",
       "      <th>Nov</th>\n",
       "      <th>Dec</th>\n",
       "    </tr>\n",
       "  </thead>\n",
       "  <tbody>\n",
       "    <tr>\n",
       "      <th>0</th>\n",
       "      <td>Morning</td>\n",
       "      <td>Ordinary Vehicle</td>\n",
       "      <td>Domestic</td>\n",
       "      <td>1,214</td>\n",
       "      <td>1,140</td>\n",
       "      <td>1,416</td>\n",
       "      <td>1,421</td>\n",
       "      <td>907</td>\n",
       "      <td>985</td>\n",
       "      <td>1,335</td>\n",
       "      <td>910</td>\n",
       "      <td>968</td>\n",
       "      <td>1,464</td>\n",
       "      <td>1,467</td>\n",
       "      <td>2,608</td>\n",
       "    </tr>\n",
       "    <tr>\n",
       "      <th>1</th>\n",
       "      <td>Ray</td>\n",
       "      <td>Ordinary Vehicle</td>\n",
       "      <td>Domestic</td>\n",
       "      <td>4,130</td>\n",
       "      <td>3,972</td>\n",
       "      <td>4,692</td>\n",
       "      <td>4,460</td>\n",
       "      <td>4,456</td>\n",
       "      <td>3,574</td>\n",
       "      <td>4,384</td>\n",
       "      <td>3,710</td>\n",
       "      <td>3,363</td>\n",
       "      <td>3,278</td>\n",
       "      <td>4,753</td>\n",
       "      <td>4,219</td>\n",
       "    </tr>\n",
       "    <tr>\n",
       "      <th>2</th>\n",
       "      <td>K3</td>\n",
       "      <td>Ordinary Vehicle</td>\n",
       "      <td>Domestic</td>\n",
       "      <td>1,419</td>\n",
       "      <td>1,315</td>\n",
       "      <td>1,460</td>\n",
       "      <td>1,336</td>\n",
       "      <td>995</td>\n",
       "      <td>1,341</td>\n",
       "      <td>1,373</td>\n",
       "      <td>588</td>\n",
       "      <td>4</td>\n",
       "      <td>NaN</td>\n",
       "      <td>NaN</td>\n",
       "      <td>NaN</td>\n",
       "    </tr>\n",
       "    <tr>\n",
       "      <th>3</th>\n",
       "      <td>K5</td>\n",
       "      <td>Ordinary Vehicle</td>\n",
       "      <td>Domestic</td>\n",
       "      <td>3,336</td>\n",
       "      <td>2,970</td>\n",
       "      <td>3,577</td>\n",
       "      <td>3,168</td>\n",
       "      <td>2,405</td>\n",
       "      <td>2,932</td>\n",
       "      <td>2,702</td>\n",
       "      <td>2,690</td>\n",
       "      <td>2,277</td>\n",
       "      <td>3,030</td>\n",
       "      <td>2,645</td>\n",
       "      <td>2,105</td>\n",
       "    </tr>\n",
       "    <tr>\n",
       "      <th>4</th>\n",
       "      <td>EV4</td>\n",
       "      <td>Ordinary Vehicle</td>\n",
       "      <td>Domestic</td>\n",
       "      <td>NaN</td>\n",
       "      <td>NaN</td>\n",
       "      <td>NaN</td>\n",
       "      <td>NaN</td>\n",
       "      <td>NaN</td>\n",
       "      <td>NaN</td>\n",
       "      <td>NaN</td>\n",
       "      <td>NaN</td>\n",
       "      <td>NaN</td>\n",
       "      <td>NaN</td>\n",
       "      <td>NaN</td>\n",
       "      <td>0</td>\n",
       "    </tr>\n",
       "  </tbody>\n",
       "</table>\n",
       "</div>"
      ],
      "text/plain": [
       "     Model      Vehicle Type     Trade    Jan    Feb    Mar    Apr    May  \\\n",
       "0  Morning  Ordinary Vehicle  Domestic  1,214  1,140  1,416  1,421    907   \n",
       "1      Ray  Ordinary Vehicle  Domestic  4,130  3,972  4,692  4,460  4,456   \n",
       "2       K3  Ordinary Vehicle  Domestic  1,419  1,315  1,460  1,336    995   \n",
       "3       K5  Ordinary Vehicle  Domestic  3,336  2,970  3,577  3,168  2,405   \n",
       "4      EV4  Ordinary Vehicle  Domestic    NaN    NaN    NaN    NaN    NaN   \n",
       "\n",
       "     Jun    Jul    Aug    Sep    Oct    Nov    Dec  \n",
       "0    985  1,335    910    968  1,464  1,467  2,608  \n",
       "1  3,574  4,384  3,710  3,363  3,278  4,753  4,219  \n",
       "2  1,341  1,373    588      4    NaN    NaN    NaN  \n",
       "3  2,932  2,702  2,690  2,277  3,030  2,645  2,105  \n",
       "4    NaN    NaN    NaN    NaN    NaN    NaN      0  "
      ]
     },
     "execution_count": 39,
     "metadata": {},
     "output_type": "execute_result"
    }
   ],
   "source": [
    "df_2024.head()"
   ]
  },
  {
   "cell_type": "code",
   "execution_count": 40,
   "metadata": {},
   "outputs": [],
   "source": [
    "df_2024[\"연도\"] = 2024"
   ]
  },
  {
   "cell_type": "code",
   "execution_count": 41,
   "metadata": {},
   "outputs": [
    {
     "data": {
      "application/vnd.microsoft.datawrangler.viewer.v0+json": {
       "columns": [
        {
         "name": "index",
         "rawType": "int64",
         "type": "integer"
        },
        {
         "name": "Model",
         "rawType": "object",
         "type": "string"
        },
        {
         "name": "Vehicle Type",
         "rawType": "object",
         "type": "string"
        },
        {
         "name": "Trade",
         "rawType": "object",
         "type": "string"
        },
        {
         "name": "Jan",
         "rawType": "object",
         "type": "unknown"
        },
        {
         "name": "Feb",
         "rawType": "object",
         "type": "unknown"
        },
        {
         "name": "Mar",
         "rawType": "object",
         "type": "unknown"
        },
        {
         "name": "Apr",
         "rawType": "object",
         "type": "unknown"
        },
        {
         "name": "May",
         "rawType": "object",
         "type": "unknown"
        },
        {
         "name": "Jun",
         "rawType": "object",
         "type": "unknown"
        },
        {
         "name": "Jul",
         "rawType": "object",
         "type": "unknown"
        },
        {
         "name": "Aug",
         "rawType": "object",
         "type": "unknown"
        },
        {
         "name": "Sep",
         "rawType": "object",
         "type": "unknown"
        },
        {
         "name": "Oct",
         "rawType": "object",
         "type": "unknown"
        },
        {
         "name": "Nov",
         "rawType": "object",
         "type": "unknown"
        },
        {
         "name": "Dec",
         "rawType": "object",
         "type": "unknown"
        },
        {
         "name": "연도",
         "rawType": "int64",
         "type": "integer"
        }
       ],
       "conversionMethod": "pd.DataFrame",
       "ref": "2d170ba6-7eac-495c-be70-5205c7e92704",
       "rows": [
        [
         "0",
         "Morning",
         "Ordinary Vehicle",
         "Domestic",
         "1,214",
         "1,140",
         "1,416",
         "1,421",
         "907",
         "985",
         "1,335",
         "910",
         "968",
         "1,464",
         "1,467",
         "2,608",
         "2024"
        ],
        [
         "1",
         "Ray",
         "Ordinary Vehicle",
         "Domestic",
         "4,130",
         "3,972",
         "4,692",
         "4,460",
         "4,456",
         "3,574",
         "4,384",
         "3,710",
         "3,363",
         "3,278",
         "4,753",
         "4,219",
         "2024"
        ],
        [
         "2",
         "K3",
         "Ordinary Vehicle",
         "Domestic",
         "1,419",
         "1,315",
         "1,460",
         "1,336",
         "995",
         "1,341",
         "1,373",
         "588",
         "4",
         null,
         null,
         null,
         "2024"
        ],
        [
         "3",
         "K5",
         "Ordinary Vehicle",
         "Domestic",
         "3,336",
         "2,970",
         "3,577",
         "3,168",
         "2,405",
         "2,932",
         "2,702",
         "2,690",
         "2,277",
         "3,030",
         "2,645",
         "2,105",
         "2024"
        ],
        [
         "4",
         "EV4",
         "Ordinary Vehicle",
         "Domestic",
         null,
         null,
         null,
         null,
         null,
         null,
         null,
         null,
         null,
         null,
         null,
         "0",
         "2024"
        ]
       ],
       "shape": {
        "columns": 16,
        "rows": 5
       }
      },
      "text/html": [
       "<div>\n",
       "<style scoped>\n",
       "    .dataframe tbody tr th:only-of-type {\n",
       "        vertical-align: middle;\n",
       "    }\n",
       "\n",
       "    .dataframe tbody tr th {\n",
       "        vertical-align: top;\n",
       "    }\n",
       "\n",
       "    .dataframe thead th {\n",
       "        text-align: right;\n",
       "    }\n",
       "</style>\n",
       "<table border=\"1\" class=\"dataframe\">\n",
       "  <thead>\n",
       "    <tr style=\"text-align: right;\">\n",
       "      <th></th>\n",
       "      <th>Model</th>\n",
       "      <th>Vehicle Type</th>\n",
       "      <th>Trade</th>\n",
       "      <th>Jan</th>\n",
       "      <th>Feb</th>\n",
       "      <th>Mar</th>\n",
       "      <th>Apr</th>\n",
       "      <th>May</th>\n",
       "      <th>Jun</th>\n",
       "      <th>Jul</th>\n",
       "      <th>Aug</th>\n",
       "      <th>Sep</th>\n",
       "      <th>Oct</th>\n",
       "      <th>Nov</th>\n",
       "      <th>Dec</th>\n",
       "      <th>연도</th>\n",
       "    </tr>\n",
       "  </thead>\n",
       "  <tbody>\n",
       "    <tr>\n",
       "      <th>0</th>\n",
       "      <td>Morning</td>\n",
       "      <td>Ordinary Vehicle</td>\n",
       "      <td>Domestic</td>\n",
       "      <td>1,214</td>\n",
       "      <td>1,140</td>\n",
       "      <td>1,416</td>\n",
       "      <td>1,421</td>\n",
       "      <td>907</td>\n",
       "      <td>985</td>\n",
       "      <td>1,335</td>\n",
       "      <td>910</td>\n",
       "      <td>968</td>\n",
       "      <td>1,464</td>\n",
       "      <td>1,467</td>\n",
       "      <td>2,608</td>\n",
       "      <td>2024</td>\n",
       "    </tr>\n",
       "    <tr>\n",
       "      <th>1</th>\n",
       "      <td>Ray</td>\n",
       "      <td>Ordinary Vehicle</td>\n",
       "      <td>Domestic</td>\n",
       "      <td>4,130</td>\n",
       "      <td>3,972</td>\n",
       "      <td>4,692</td>\n",
       "      <td>4,460</td>\n",
       "      <td>4,456</td>\n",
       "      <td>3,574</td>\n",
       "      <td>4,384</td>\n",
       "      <td>3,710</td>\n",
       "      <td>3,363</td>\n",
       "      <td>3,278</td>\n",
       "      <td>4,753</td>\n",
       "      <td>4,219</td>\n",
       "      <td>2024</td>\n",
       "    </tr>\n",
       "    <tr>\n",
       "      <th>2</th>\n",
       "      <td>K3</td>\n",
       "      <td>Ordinary Vehicle</td>\n",
       "      <td>Domestic</td>\n",
       "      <td>1,419</td>\n",
       "      <td>1,315</td>\n",
       "      <td>1,460</td>\n",
       "      <td>1,336</td>\n",
       "      <td>995</td>\n",
       "      <td>1,341</td>\n",
       "      <td>1,373</td>\n",
       "      <td>588</td>\n",
       "      <td>4</td>\n",
       "      <td>NaN</td>\n",
       "      <td>NaN</td>\n",
       "      <td>NaN</td>\n",
       "      <td>2024</td>\n",
       "    </tr>\n",
       "    <tr>\n",
       "      <th>3</th>\n",
       "      <td>K5</td>\n",
       "      <td>Ordinary Vehicle</td>\n",
       "      <td>Domestic</td>\n",
       "      <td>3,336</td>\n",
       "      <td>2,970</td>\n",
       "      <td>3,577</td>\n",
       "      <td>3,168</td>\n",
       "      <td>2,405</td>\n",
       "      <td>2,932</td>\n",
       "      <td>2,702</td>\n",
       "      <td>2,690</td>\n",
       "      <td>2,277</td>\n",
       "      <td>3,030</td>\n",
       "      <td>2,645</td>\n",
       "      <td>2,105</td>\n",
       "      <td>2024</td>\n",
       "    </tr>\n",
       "    <tr>\n",
       "      <th>4</th>\n",
       "      <td>EV4</td>\n",
       "      <td>Ordinary Vehicle</td>\n",
       "      <td>Domestic</td>\n",
       "      <td>NaN</td>\n",
       "      <td>NaN</td>\n",
       "      <td>NaN</td>\n",
       "      <td>NaN</td>\n",
       "      <td>NaN</td>\n",
       "      <td>NaN</td>\n",
       "      <td>NaN</td>\n",
       "      <td>NaN</td>\n",
       "      <td>NaN</td>\n",
       "      <td>NaN</td>\n",
       "      <td>NaN</td>\n",
       "      <td>0</td>\n",
       "      <td>2024</td>\n",
       "    </tr>\n",
       "  </tbody>\n",
       "</table>\n",
       "</div>"
      ],
      "text/plain": [
       "     Model      Vehicle Type     Trade    Jan    Feb    Mar    Apr    May  \\\n",
       "0  Morning  Ordinary Vehicle  Domestic  1,214  1,140  1,416  1,421    907   \n",
       "1      Ray  Ordinary Vehicle  Domestic  4,130  3,972  4,692  4,460  4,456   \n",
       "2       K3  Ordinary Vehicle  Domestic  1,419  1,315  1,460  1,336    995   \n",
       "3       K5  Ordinary Vehicle  Domestic  3,336  2,970  3,577  3,168  2,405   \n",
       "4      EV4  Ordinary Vehicle  Domestic    NaN    NaN    NaN    NaN    NaN   \n",
       "\n",
       "     Jun    Jul    Aug    Sep    Oct    Nov    Dec    연도  \n",
       "0    985  1,335    910    968  1,464  1,467  2,608  2024  \n",
       "1  3,574  4,384  3,710  3,363  3,278  4,753  4,219  2024  \n",
       "2  1,341  1,373    588      4    NaN    NaN    NaN  2024  \n",
       "3  2,932  2,702  2,690  2,277  3,030  2,645  2,105  2024  \n",
       "4    NaN    NaN    NaN    NaN    NaN    NaN      0  2024  "
      ]
     },
     "execution_count": 41,
     "metadata": {},
     "output_type": "execute_result"
    }
   ],
   "source": [
    "df_2024.head()"
   ]
  },
  {
   "cell_type": "code",
   "execution_count": 42,
   "metadata": {},
   "outputs": [
    {
     "data": {
      "application/vnd.microsoft.datawrangler.viewer.v0+json": {
       "columns": [
        {
         "name": "index",
         "rawType": "int64",
         "type": "integer"
        },
        {
         "name": "Model",
         "rawType": "object",
         "type": "string"
        },
        {
         "name": "Vehicle Type",
         "rawType": "object",
         "type": "string"
        },
        {
         "name": "Trade",
         "rawType": "object",
         "type": "string"
        },
        {
         "name": "Jan",
         "rawType": "int64",
         "type": "integer"
        }
       ],
       "conversionMethod": "pd.DataFrame",
       "ref": "67efb116-7a14-48ab-a71a-e00bab5fd909",
       "rows": [
        [
         "0",
         " Morning",
         "Ordinary Vehicle",
         "Domestic",
         "1484"
        ],
        [
         "1",
         " Ray",
         "Ordinary Vehicle",
         "Domestic",
         "3876"
        ],
        [
         "2",
         " K3",
         "Ordinary Vehicle",
         "Domestic",
         "0"
        ],
        [
         "3",
         " EV4",
         "Ordinary Vehicle",
         "Domestic",
         "0"
        ],
        [
         "4",
         " K5",
         "Ordinary Vehicle",
         "Domestic",
         "2583"
        ]
       ],
       "shape": {
        "columns": 4,
        "rows": 5
       }
      },
      "text/html": [
       "<div>\n",
       "<style scoped>\n",
       "    .dataframe tbody tr th:only-of-type {\n",
       "        vertical-align: middle;\n",
       "    }\n",
       "\n",
       "    .dataframe tbody tr th {\n",
       "        vertical-align: top;\n",
       "    }\n",
       "\n",
       "    .dataframe thead th {\n",
       "        text-align: right;\n",
       "    }\n",
       "</style>\n",
       "<table border=\"1\" class=\"dataframe\">\n",
       "  <thead>\n",
       "    <tr style=\"text-align: right;\">\n",
       "      <th></th>\n",
       "      <th>Model</th>\n",
       "      <th>Vehicle Type</th>\n",
       "      <th>Trade</th>\n",
       "      <th>Jan</th>\n",
       "    </tr>\n",
       "  </thead>\n",
       "  <tbody>\n",
       "    <tr>\n",
       "      <th>0</th>\n",
       "      <td>Morning</td>\n",
       "      <td>Ordinary Vehicle</td>\n",
       "      <td>Domestic</td>\n",
       "      <td>1484</td>\n",
       "    </tr>\n",
       "    <tr>\n",
       "      <th>1</th>\n",
       "      <td>Ray</td>\n",
       "      <td>Ordinary Vehicle</td>\n",
       "      <td>Domestic</td>\n",
       "      <td>3876</td>\n",
       "    </tr>\n",
       "    <tr>\n",
       "      <th>2</th>\n",
       "      <td>K3</td>\n",
       "      <td>Ordinary Vehicle</td>\n",
       "      <td>Domestic</td>\n",
       "      <td>0</td>\n",
       "    </tr>\n",
       "    <tr>\n",
       "      <th>3</th>\n",
       "      <td>EV4</td>\n",
       "      <td>Ordinary Vehicle</td>\n",
       "      <td>Domestic</td>\n",
       "      <td>0</td>\n",
       "    </tr>\n",
       "    <tr>\n",
       "      <th>4</th>\n",
       "      <td>K5</td>\n",
       "      <td>Ordinary Vehicle</td>\n",
       "      <td>Domestic</td>\n",
       "      <td>2583</td>\n",
       "    </tr>\n",
       "  </tbody>\n",
       "</table>\n",
       "</div>"
      ],
      "text/plain": [
       "      Model      Vehicle Type     Trade   Jan\n",
       "0   Morning  Ordinary Vehicle  Domestic  1484\n",
       "1       Ray  Ordinary Vehicle  Domestic  3876\n",
       "2        K3  Ordinary Vehicle  Domestic     0\n",
       "3       EV4  Ordinary Vehicle  Domestic     0\n",
       "4        K5  Ordinary Vehicle  Domestic  2583"
      ]
     },
     "execution_count": 42,
     "metadata": {},
     "output_type": "execute_result"
    }
   ],
   "source": [
    "df_2025.head()"
   ]
  },
  {
   "cell_type": "code",
   "execution_count": 43,
   "metadata": {},
   "outputs": [],
   "source": [
    "df_2025[\"연도\"] = 2025"
   ]
  },
  {
   "cell_type": "code",
   "execution_count": 44,
   "metadata": {},
   "outputs": [
    {
     "data": {
      "application/vnd.microsoft.datawrangler.viewer.v0+json": {
       "columns": [
        {
         "name": "index",
         "rawType": "int64",
         "type": "integer"
        },
        {
         "name": "Model",
         "rawType": "object",
         "type": "string"
        },
        {
         "name": "Vehicle Type",
         "rawType": "object",
         "type": "string"
        },
        {
         "name": "Trade",
         "rawType": "object",
         "type": "string"
        },
        {
         "name": "Jan",
         "rawType": "int64",
         "type": "integer"
        },
        {
         "name": "연도",
         "rawType": "int64",
         "type": "integer"
        }
       ],
       "conversionMethod": "pd.DataFrame",
       "ref": "b35e5c27-dbb0-4872-b2f1-9c483e48187f",
       "rows": [
        [
         "0",
         " Morning",
         "Ordinary Vehicle",
         "Domestic",
         "1484",
         "2025"
        ],
        [
         "1",
         " Ray",
         "Ordinary Vehicle",
         "Domestic",
         "3876",
         "2025"
        ],
        [
         "2",
         " K3",
         "Ordinary Vehicle",
         "Domestic",
         "0",
         "2025"
        ],
        [
         "3",
         " EV4",
         "Ordinary Vehicle",
         "Domestic",
         "0",
         "2025"
        ],
        [
         "4",
         " K5",
         "Ordinary Vehicle",
         "Domestic",
         "2583",
         "2025"
        ]
       ],
       "shape": {
        "columns": 5,
        "rows": 5
       }
      },
      "text/html": [
       "<div>\n",
       "<style scoped>\n",
       "    .dataframe tbody tr th:only-of-type {\n",
       "        vertical-align: middle;\n",
       "    }\n",
       "\n",
       "    .dataframe tbody tr th {\n",
       "        vertical-align: top;\n",
       "    }\n",
       "\n",
       "    .dataframe thead th {\n",
       "        text-align: right;\n",
       "    }\n",
       "</style>\n",
       "<table border=\"1\" class=\"dataframe\">\n",
       "  <thead>\n",
       "    <tr style=\"text-align: right;\">\n",
       "      <th></th>\n",
       "      <th>Model</th>\n",
       "      <th>Vehicle Type</th>\n",
       "      <th>Trade</th>\n",
       "      <th>Jan</th>\n",
       "      <th>연도</th>\n",
       "    </tr>\n",
       "  </thead>\n",
       "  <tbody>\n",
       "    <tr>\n",
       "      <th>0</th>\n",
       "      <td>Morning</td>\n",
       "      <td>Ordinary Vehicle</td>\n",
       "      <td>Domestic</td>\n",
       "      <td>1484</td>\n",
       "      <td>2025</td>\n",
       "    </tr>\n",
       "    <tr>\n",
       "      <th>1</th>\n",
       "      <td>Ray</td>\n",
       "      <td>Ordinary Vehicle</td>\n",
       "      <td>Domestic</td>\n",
       "      <td>3876</td>\n",
       "      <td>2025</td>\n",
       "    </tr>\n",
       "    <tr>\n",
       "      <th>2</th>\n",
       "      <td>K3</td>\n",
       "      <td>Ordinary Vehicle</td>\n",
       "      <td>Domestic</td>\n",
       "      <td>0</td>\n",
       "      <td>2025</td>\n",
       "    </tr>\n",
       "    <tr>\n",
       "      <th>3</th>\n",
       "      <td>EV4</td>\n",
       "      <td>Ordinary Vehicle</td>\n",
       "      <td>Domestic</td>\n",
       "      <td>0</td>\n",
       "      <td>2025</td>\n",
       "    </tr>\n",
       "    <tr>\n",
       "      <th>4</th>\n",
       "      <td>K5</td>\n",
       "      <td>Ordinary Vehicle</td>\n",
       "      <td>Domestic</td>\n",
       "      <td>2583</td>\n",
       "      <td>2025</td>\n",
       "    </tr>\n",
       "  </tbody>\n",
       "</table>\n",
       "</div>"
      ],
      "text/plain": [
       "      Model      Vehicle Type     Trade   Jan    연도\n",
       "0   Morning  Ordinary Vehicle  Domestic  1484  2025\n",
       "1       Ray  Ordinary Vehicle  Domestic  3876  2025\n",
       "2        K3  Ordinary Vehicle  Domestic     0  2025\n",
       "3       EV4  Ordinary Vehicle  Domestic     0  2025\n",
       "4        K5  Ordinary Vehicle  Domestic  2583  2025"
      ]
     },
     "execution_count": 44,
     "metadata": {},
     "output_type": "execute_result"
    }
   ],
   "source": [
    "df_2025.head()"
   ]
  },
  {
   "cell_type": "code",
   "execution_count": 45,
   "metadata": {},
   "outputs": [
    {
     "data": {
      "text/plain": [
       "Index(['Model', 'Vehicle Type', 'Trade', 'Jan', 'Feb', 'Mar', 'Apr', 'May',\n",
       "       'Jun', 'Jul', 'Aug', 'Sep', 'Oct', 'Nov', 'Dec', '연도'],\n",
       "      dtype='object')"
      ]
     },
     "execution_count": 45,
     "metadata": {},
     "output_type": "execute_result"
    }
   ],
   "source": [
    "df_2023.columns"
   ]
  },
  {
   "cell_type": "code",
   "execution_count": 46,
   "metadata": {},
   "outputs": [
    {
     "data": {
      "text/plain": [
       "Index(['Model', 'Vehicle Type', 'Trade', 'Jan', 'Feb', 'Mar', 'Apr', 'May',\n",
       "       'Jun', 'Jul', 'Aug', 'Sep', 'Oct', 'Nov', 'Dec', '연도'],\n",
       "      dtype='object')"
      ]
     },
     "execution_count": 46,
     "metadata": {},
     "output_type": "execute_result"
    }
   ],
   "source": [
    "df_2024.columns"
   ]
  },
  {
   "cell_type": "code",
   "execution_count": 47,
   "metadata": {},
   "outputs": [
    {
     "data": {
      "text/plain": [
       "Index(['Model', 'Vehicle Type', 'Trade', 'Jan', '연도'], dtype='object')"
      ]
     },
     "execution_count": 47,
     "metadata": {},
     "output_type": "execute_result"
    }
   ],
   "source": [
    "df_2025.columns"
   ]
  },
  {
   "cell_type": "code",
   "execution_count": 48,
   "metadata": {},
   "outputs": [],
   "source": [
    "df = pd.concat([df_2023, df_2024, df_2025], ignore_index=True)"
   ]
  },
  {
   "cell_type": "code",
   "execution_count": 49,
   "metadata": {},
   "outputs": [
    {
     "data": {
      "text/plain": [
       "Model            0\n",
       "Vehicle Type     0\n",
       "Trade            0\n",
       "Jan             13\n",
       "Feb             65\n",
       "Mar             65\n",
       "Apr             66\n",
       "May             67\n",
       "Jun             64\n",
       "Jul             68\n",
       "Aug             68\n",
       "Sep             69\n",
       "Oct             68\n",
       "Nov             69\n",
       "Dec             66\n",
       "연도               0\n",
       "dtype: int64"
      ]
     },
     "execution_count": 49,
     "metadata": {},
     "output_type": "execute_result"
    }
   ],
   "source": [
    "df.isna().sum()"
   ]
  },
  {
   "cell_type": "code",
   "execution_count": 50,
   "metadata": {},
   "outputs": [],
   "source": [
    "df.fillna(0, inplace=True)"
   ]
  },
  {
   "cell_type": "code",
   "execution_count": 51,
   "metadata": {},
   "outputs": [
    {
     "data": {
      "text/plain": [
       "Model           0\n",
       "Vehicle Type    0\n",
       "Trade           0\n",
       "Jan             0\n",
       "Feb             0\n",
       "Mar             0\n",
       "Apr             0\n",
       "May             0\n",
       "Jun             0\n",
       "Jul             0\n",
       "Aug             0\n",
       "Sep             0\n",
       "Oct             0\n",
       "Nov             0\n",
       "Dec             0\n",
       "연도              0\n",
       "dtype: int64"
      ]
     },
     "execution_count": 51,
     "metadata": {},
     "output_type": "execute_result"
    }
   ],
   "source": [
    "df.isna().sum()"
   ]
  },
  {
   "cell_type": "code",
   "execution_count": 52,
   "metadata": {},
   "outputs": [
    {
     "data": {
      "text/plain": [
       "Index(['Model', 'Vehicle Type', 'Trade', 'Jan', 'Feb', 'Mar', 'Apr', 'May',\n",
       "       'Jun', 'Jul', 'Aug', 'Sep', 'Oct', 'Nov', 'Dec', '연도'],\n",
       "      dtype='object')"
      ]
     },
     "execution_count": 52,
     "metadata": {},
     "output_type": "execute_result"
    }
   ],
   "source": [
    "df.columns"
   ]
  },
  {
   "cell_type": "code",
   "execution_count": 53,
   "metadata": {},
   "outputs": [
    {
     "data": {
      "text/plain": [
       "array(['Ordinary Vehicle', 'Special Vehicle'], dtype=object)"
      ]
     },
     "execution_count": 53,
     "metadata": {},
     "output_type": "execute_result"
    }
   ],
   "source": [
    "df['Vehicle Type'].unique()"
   ]
  },
  {
   "cell_type": "code",
   "execution_count": 54,
   "metadata": {},
   "outputs": [
    {
     "data": {
      "text/plain": [
       "array(['Domestic', 'Export', 'Export(excl CKD)'], dtype=object)"
      ]
     },
     "execution_count": 54,
     "metadata": {},
     "output_type": "execute_result"
    }
   ],
   "source": [
    "df['Trade'].unique()"
   ]
  },
  {
   "cell_type": "code",
   "execution_count": 55,
   "metadata": {},
   "outputs": [
    {
     "data": {
      "text/plain": [
       "Index(['차종', '차량 구분', '거래 유형', '1월', '2월', '3월', '4월', '5월', '6월', '7월', '8월',\n",
       "       '9월', '10월', '11월', '12월', '연도'],\n",
       "      dtype='object')"
      ]
     },
     "execution_count": 55,
     "metadata": {},
     "output_type": "execute_result"
    }
   ],
   "source": [
    "# 기존 컬럼명과 변경할 컬럼명 매핑\n",
    "column_mapping = {\n",
    "    'Model':'차종',\n",
    "    'Vehicle Type': '차량 구분',\n",
    "    'Trade': '거래 유형',\n",
    "    'Jan': '1월',\n",
    "    'Feb': '2월',\n",
    "    'Mar': '3월',\n",
    "    'Apr': '4월',\n",
    "    'May': '5월',\n",
    "    'Jun': '6월',\n",
    "    'Jul': '7월',\n",
    "    'Aug': '8월',\n",
    "    'Sep': '9월',\n",
    "    'Oct': '10월',\n",
    "    'Nov': '11월',\n",
    "    'Dec': '12월'\n",
    "}\n",
    "\n",
    "# 컬럼명 변경\n",
    "df.columns = [column_mapping.get(col, col) for col in df.columns]\n",
    "\n",
    "# 변경된 컬럼명 확인\n",
    "df.columns"
   ]
  },
  {
   "cell_type": "code",
   "execution_count": 65,
   "metadata": {},
   "outputs": [
    {
     "data": {
      "text/plain": [
       "array(['일반 차량', '특수 차량'], dtype=object)"
      ]
     },
     "execution_count": 65,
     "metadata": {},
     "output_type": "execute_result"
    }
   ],
   "source": [
    "# 기존 값과 변경할 값 매핑\n",
    "car_mapping = {\n",
    "    'Ordinary Vehicle': '일반 차량',\n",
    "    'Special Vehicle': '특수 차량',\n",
    "\n",
    "}\n",
    "\n",
    "# 'Car' 컬럼 데이터 변경\n",
    "df['차량 구분'] = df['차량 구분'].replace(car_mapping)\n",
    "\n",
    "# 변경된 데이터 확인\n",
    "df['차량 구분'].unique()"
   ]
  },
  {
   "cell_type": "code",
   "execution_count": 61,
   "metadata": {},
   "outputs": [
    {
     "data": {
      "text/plain": [
       "array(['국내', '수출', '수출(CKD 제외)'], dtype=object)"
      ]
     },
     "execution_count": 61,
     "metadata": {},
     "output_type": "execute_result"
    }
   ],
   "source": [
    "# 기존 값과 변경할 값 매핑\n",
    "car_mapping = {\n",
    "    'Domestic': '국내',\n",
    "    'Export': '수출',\n",
    "    'Export(excl CKD)': '수출(CKD 제외)'    \n",
    "\n",
    "}\n",
    "\n",
    "# 'Car' 컬럼 데이터 변경\n",
    "df['거래 유형'] = df['거래 유형'].replace(car_mapping)\n",
    "\n",
    "# 변경된 데이터 확인\n",
    "df['거래 유형'].unique()"
   ]
  },
  {
   "cell_type": "code",
   "execution_count": 67,
   "metadata": {},
   "outputs": [
    {
     "data": {
      "application/vnd.microsoft.datawrangler.viewer.v0+json": {
       "columns": [
        {
         "name": "index",
         "rawType": "int64",
         "type": "integer"
        },
        {
         "name": "차종",
         "rawType": "object",
         "type": "string"
        },
        {
         "name": "차량 구분",
         "rawType": "object",
         "type": "string"
        },
        {
         "name": "거래 유형",
         "rawType": "object",
         "type": "string"
        },
        {
         "name": "1월",
         "rawType": "object",
         "type": "unknown"
        },
        {
         "name": "2월",
         "rawType": "object",
         "type": "unknown"
        },
        {
         "name": "3월",
         "rawType": "object",
         "type": "unknown"
        },
        {
         "name": "4월",
         "rawType": "object",
         "type": "unknown"
        },
        {
         "name": "5월",
         "rawType": "object",
         "type": "unknown"
        },
        {
         "name": "6월",
         "rawType": "object",
         "type": "unknown"
        },
        {
         "name": "7월",
         "rawType": "object",
         "type": "unknown"
        },
        {
         "name": "8월",
         "rawType": "object",
         "type": "unknown"
        },
        {
         "name": "9월",
         "rawType": "object",
         "type": "unknown"
        },
        {
         "name": "10월",
         "rawType": "object",
         "type": "unknown"
        },
        {
         "name": "11월",
         "rawType": "object",
         "type": "unknown"
        },
        {
         "name": "12월",
         "rawType": "object",
         "type": "unknown"
        },
        {
         "name": "연도",
         "rawType": "int64",
         "type": "integer"
        }
       ],
       "conversionMethod": "pd.DataFrame",
       "ref": "0e6945c9-13dd-49fe-bf05-54b7232d52fa",
       "rows": [
        [
         "0",
         " Morning",
         "일반 차량",
         "국내",
         "1813.0",
         "2049.0",
         "2127.0",
         "2164.0",
         "2502.0",
         "2245.0",
         "2033.0",
         "2910.0",
         "1892.0",
         "2225.0",
         "2111.0",
         "1808.0",
         "2023"
        ],
        [
         "1",
         " Ray",
         "일반 차량",
         "국내",
         "3585.0",
         "4268.0",
         "4155.0",
         "4158.0",
         "4576.0",
         "4372.0",
         "4285.0",
         "4402.0",
         "3464.0",
         "4824.0",
         "4587.0",
         "4254.0",
         "2023"
        ],
        [
         "2",
         " K3",
         "일반 차량",
         "국내",
         "950.0",
         "1024.0",
         "1197.0",
         "670.0",
         "975.0",
         "1540.0",
         "976.0",
         "1123.0",
         "1036.0",
         "939.0",
         "1428.0",
         "1346.0",
         "2023"
        ],
        [
         "3",
         " K5",
         "일반 차량",
         "국내",
         "2560.0",
         "2653.0",
         "3421.0",
         "2739.0",
         "3166.0",
         "2963.0",
         "2246.0",
         "2613.0",
         "2280.0",
         "2592.0",
         "3783.0",
         "3563.0",
         "2023"
        ],
        [
         "4",
         " Stinger",
         "일반 차량",
         "국내",
         "113.0",
         "120.0",
         "143.0",
         "61.0",
         "45.0",
         "1.0",
         "0.0",
         "0.0",
         "0.0",
         "0.0",
         "0.0",
         "0.0",
         "2023"
        ]
       ],
       "shape": {
        "columns": 16,
        "rows": 5
       }
      },
      "text/html": [
       "<div>\n",
       "<style scoped>\n",
       "    .dataframe tbody tr th:only-of-type {\n",
       "        vertical-align: middle;\n",
       "    }\n",
       "\n",
       "    .dataframe tbody tr th {\n",
       "        vertical-align: top;\n",
       "    }\n",
       "\n",
       "    .dataframe thead th {\n",
       "        text-align: right;\n",
       "    }\n",
       "</style>\n",
       "<table border=\"1\" class=\"dataframe\">\n",
       "  <thead>\n",
       "    <tr style=\"text-align: right;\">\n",
       "      <th></th>\n",
       "      <th>차종</th>\n",
       "      <th>차량 구분</th>\n",
       "      <th>거래 유형</th>\n",
       "      <th>1월</th>\n",
       "      <th>2월</th>\n",
       "      <th>3월</th>\n",
       "      <th>4월</th>\n",
       "      <th>5월</th>\n",
       "      <th>6월</th>\n",
       "      <th>7월</th>\n",
       "      <th>8월</th>\n",
       "      <th>9월</th>\n",
       "      <th>10월</th>\n",
       "      <th>11월</th>\n",
       "      <th>12월</th>\n",
       "      <th>연도</th>\n",
       "    </tr>\n",
       "  </thead>\n",
       "  <tbody>\n",
       "    <tr>\n",
       "      <th>0</th>\n",
       "      <td>Morning</td>\n",
       "      <td>일반 차량</td>\n",
       "      <td>국내</td>\n",
       "      <td>1813.0</td>\n",
       "      <td>2049.0</td>\n",
       "      <td>2127.0</td>\n",
       "      <td>2164.0</td>\n",
       "      <td>2502.0</td>\n",
       "      <td>2245.0</td>\n",
       "      <td>2033.0</td>\n",
       "      <td>2910.0</td>\n",
       "      <td>1892.0</td>\n",
       "      <td>2225.0</td>\n",
       "      <td>2111.0</td>\n",
       "      <td>1808.0</td>\n",
       "      <td>2023</td>\n",
       "    </tr>\n",
       "    <tr>\n",
       "      <th>1</th>\n",
       "      <td>Ray</td>\n",
       "      <td>일반 차량</td>\n",
       "      <td>국내</td>\n",
       "      <td>3585.0</td>\n",
       "      <td>4268.0</td>\n",
       "      <td>4155.0</td>\n",
       "      <td>4158.0</td>\n",
       "      <td>4576.0</td>\n",
       "      <td>4372.0</td>\n",
       "      <td>4285.0</td>\n",
       "      <td>4402.0</td>\n",
       "      <td>3464.0</td>\n",
       "      <td>4824.0</td>\n",
       "      <td>4587.0</td>\n",
       "      <td>4254.0</td>\n",
       "      <td>2023</td>\n",
       "    </tr>\n",
       "    <tr>\n",
       "      <th>2</th>\n",
       "      <td>K3</td>\n",
       "      <td>일반 차량</td>\n",
       "      <td>국내</td>\n",
       "      <td>950.0</td>\n",
       "      <td>1024.0</td>\n",
       "      <td>1197.0</td>\n",
       "      <td>670.0</td>\n",
       "      <td>975.0</td>\n",
       "      <td>1540.0</td>\n",
       "      <td>976.0</td>\n",
       "      <td>1123.0</td>\n",
       "      <td>1036.0</td>\n",
       "      <td>939.0</td>\n",
       "      <td>1428.0</td>\n",
       "      <td>1346.0</td>\n",
       "      <td>2023</td>\n",
       "    </tr>\n",
       "    <tr>\n",
       "      <th>3</th>\n",
       "      <td>K5</td>\n",
       "      <td>일반 차량</td>\n",
       "      <td>국내</td>\n",
       "      <td>2560.0</td>\n",
       "      <td>2653.0</td>\n",
       "      <td>3421.0</td>\n",
       "      <td>2739.0</td>\n",
       "      <td>3166.0</td>\n",
       "      <td>2963.0</td>\n",
       "      <td>2246.0</td>\n",
       "      <td>2613.0</td>\n",
       "      <td>2280.0</td>\n",
       "      <td>2592.0</td>\n",
       "      <td>3783.0</td>\n",
       "      <td>3563.0</td>\n",
       "      <td>2023</td>\n",
       "    </tr>\n",
       "    <tr>\n",
       "      <th>4</th>\n",
       "      <td>Stinger</td>\n",
       "      <td>일반 차량</td>\n",
       "      <td>국내</td>\n",
       "      <td>113.0</td>\n",
       "      <td>120.0</td>\n",
       "      <td>143.0</td>\n",
       "      <td>61.0</td>\n",
       "      <td>45.0</td>\n",
       "      <td>1.0</td>\n",
       "      <td>0.0</td>\n",
       "      <td>0.0</td>\n",
       "      <td>0.0</td>\n",
       "      <td>0.0</td>\n",
       "      <td>0.0</td>\n",
       "      <td>0.0</td>\n",
       "      <td>2023</td>\n",
       "    </tr>\n",
       "  </tbody>\n",
       "</table>\n",
       "</div>"
      ],
      "text/plain": [
       "         차종  차량 구분 거래 유형      1월      2월      3월      4월      5월      6월  \\\n",
       "0   Morning  일반 차량    국내  1813.0  2049.0  2127.0  2164.0  2502.0  2245.0   \n",
       "1       Ray  일반 차량    국내  3585.0  4268.0  4155.0  4158.0  4576.0  4372.0   \n",
       "2        K3  일반 차량    국내   950.0  1024.0  1197.0   670.0   975.0  1540.0   \n",
       "3        K5  일반 차량    국내  2560.0  2653.0  3421.0  2739.0  3166.0  2963.0   \n",
       "4   Stinger  일반 차량    국내   113.0   120.0   143.0    61.0    45.0     1.0   \n",
       "\n",
       "       7월      8월      9월     10월     11월     12월    연도  \n",
       "0  2033.0  2910.0  1892.0  2225.0  2111.0  1808.0  2023  \n",
       "1  4285.0  4402.0  3464.0  4824.0  4587.0  4254.0  2023  \n",
       "2   976.0  1123.0  1036.0   939.0  1428.0  1346.0  2023  \n",
       "3  2246.0  2613.0  2280.0  2592.0  3783.0  3563.0  2023  \n",
       "4     0.0     0.0     0.0     0.0     0.0     0.0  2023  "
      ]
     },
     "execution_count": 67,
     "metadata": {},
     "output_type": "execute_result"
    }
   ],
   "source": [
    "df.head()"
   ]
  },
  {
   "cell_type": "code",
   "execution_count": 66,
   "metadata": {},
   "outputs": [],
   "source": [
    "df.to_csv(\"hyundai/차종별판매실적_전처리.CSV\", index=False)"
   ]
  },
  {
   "cell_type": "code",
   "execution_count": 84,
   "metadata": {},
   "outputs": [],
   "source": [
    "# 데이터 불러오기\n",
    "df_2023 = pd.read_csv(\"hyundai/해외공장판매실적_2023.CSV\")\n",
    "df_2024 = pd.read_csv(\"hyundai/해외공장판매실적_2024.CSV\")\n",
    "df_2025 = pd.read_csv(\"hyundai/해외공장판매실적_2025.CSV\")"
   ]
  },
  {
   "cell_type": "code",
   "execution_count": 85,
   "metadata": {},
   "outputs": [
    {
     "data": {
      "application/vnd.microsoft.datawrangler.viewer.v0+json": {
       "columns": [
        {
         "name": "index",
         "rawType": "int64",
         "type": "integer"
        },
        {
         "name": "Plant",
         "rawType": "object",
         "type": "string"
        },
        {
         "name": "Plant Code",
         "rawType": "object",
         "type": "string"
        },
        {
         "name": "Model",
         "rawType": "object",
         "type": "string"
        },
        {
         "name": "Jan",
         "rawType": "int64",
         "type": "integer"
        },
        {
         "name": "Feb",
         "rawType": "int64",
         "type": "integer"
        },
        {
         "name": "Mar",
         "rawType": "int64",
         "type": "integer"
        },
        {
         "name": "Apr",
         "rawType": "int64",
         "type": "integer"
        },
        {
         "name": "May",
         "rawType": "float64",
         "type": "float"
        },
        {
         "name": "Jun",
         "rawType": "float64",
         "type": "float"
        },
        {
         "name": "Jul",
         "rawType": "float64",
         "type": "float"
        },
        {
         "name": "Aug",
         "rawType": "float64",
         "type": "float"
        },
        {
         "name": "Sep",
         "rawType": "float64",
         "type": "float"
        },
        {
         "name": "Oct",
         "rawType": "float64",
         "type": "float"
        },
        {
         "name": "Nov",
         "rawType": "float64",
         "type": "float"
        },
        {
         "name": "Dec",
         "rawType": "float64",
         "type": "float"
        }
       ],
       "conversionMethod": "pd.DataFrame",
       "ref": "37dd2ac6-02a3-4735-b40f-db25c45995f6",
       "rows": [
        [
         "0",
         "US Plant",
         "KaGA",
         "Optima / K5",
         "5701",
         "6150",
         "6635",
         "5652",
         "6396.0",
         "5050.0",
         "4771.0",
         "6853.0",
         "6150.0",
         "6550.0",
         "5900.0",
         "3445.0"
        ],
        [
         "1",
         "US Plant",
         "KaGA",
         "Sportage",
         "6400",
         "7950",
         "9129",
         "7358",
         "8424.0",
         "6142.0",
         "5900.0",
         "8450.0",
         "7350.0",
         "8150.0",
         "7600.0",
         "6150.0"
        ],
        [
         "2",
         "US Plant",
         "KaGA",
         "Sorento",
         "6795",
         "5330",
         "5385",
         "6184",
         "7368.0",
         "6416.0",
         "5513.0",
         "7491.0",
         "6602.0",
         "7097.0",
         "6100.0",
         "4825.0"
        ],
        [
         "3",
         "US Plant",
         "KaGA",
         "Telluride",
         "9704",
         "10400",
         "11851",
         "10206",
         "11212.0",
         "8792.0",
         "8216.0",
         "12313.0",
         "10698.0",
         "11903.0",
         "10300.0",
         "7850.0"
        ],
        [
         "4",
         "China Plant",
         "DYK",
         "Pegas",
         "3320",
         "3436",
         "3504",
         "3465",
         "3710.0",
         "3548.0",
         "3572.0",
         "5866.0",
         "7042.0",
         "4121.0",
         "5645.0",
         "4495.0"
        ]
       ],
       "shape": {
        "columns": 15,
        "rows": 5
       }
      },
      "text/html": [
       "<div>\n",
       "<style scoped>\n",
       "    .dataframe tbody tr th:only-of-type {\n",
       "        vertical-align: middle;\n",
       "    }\n",
       "\n",
       "    .dataframe tbody tr th {\n",
       "        vertical-align: top;\n",
       "    }\n",
       "\n",
       "    .dataframe thead th {\n",
       "        text-align: right;\n",
       "    }\n",
       "</style>\n",
       "<table border=\"1\" class=\"dataframe\">\n",
       "  <thead>\n",
       "    <tr style=\"text-align: right;\">\n",
       "      <th></th>\n",
       "      <th>Plant</th>\n",
       "      <th>Plant Code</th>\n",
       "      <th>Model</th>\n",
       "      <th>Jan</th>\n",
       "      <th>Feb</th>\n",
       "      <th>Mar</th>\n",
       "      <th>Apr</th>\n",
       "      <th>May</th>\n",
       "      <th>Jun</th>\n",
       "      <th>Jul</th>\n",
       "      <th>Aug</th>\n",
       "      <th>Sep</th>\n",
       "      <th>Oct</th>\n",
       "      <th>Nov</th>\n",
       "      <th>Dec</th>\n",
       "    </tr>\n",
       "  </thead>\n",
       "  <tbody>\n",
       "    <tr>\n",
       "      <th>0</th>\n",
       "      <td>US Plant</td>\n",
       "      <td>KaGA</td>\n",
       "      <td>Optima / K5</td>\n",
       "      <td>5701</td>\n",
       "      <td>6150</td>\n",
       "      <td>6635</td>\n",
       "      <td>5652</td>\n",
       "      <td>6396.0</td>\n",
       "      <td>5050.0</td>\n",
       "      <td>4771.0</td>\n",
       "      <td>6853.0</td>\n",
       "      <td>6150.0</td>\n",
       "      <td>6550.0</td>\n",
       "      <td>5900.0</td>\n",
       "      <td>3445.0</td>\n",
       "    </tr>\n",
       "    <tr>\n",
       "      <th>1</th>\n",
       "      <td>US Plant</td>\n",
       "      <td>KaGA</td>\n",
       "      <td>Sportage</td>\n",
       "      <td>6400</td>\n",
       "      <td>7950</td>\n",
       "      <td>9129</td>\n",
       "      <td>7358</td>\n",
       "      <td>8424.0</td>\n",
       "      <td>6142.0</td>\n",
       "      <td>5900.0</td>\n",
       "      <td>8450.0</td>\n",
       "      <td>7350.0</td>\n",
       "      <td>8150.0</td>\n",
       "      <td>7600.0</td>\n",
       "      <td>6150.0</td>\n",
       "    </tr>\n",
       "    <tr>\n",
       "      <th>2</th>\n",
       "      <td>US Plant</td>\n",
       "      <td>KaGA</td>\n",
       "      <td>Sorento</td>\n",
       "      <td>6795</td>\n",
       "      <td>5330</td>\n",
       "      <td>5385</td>\n",
       "      <td>6184</td>\n",
       "      <td>7368.0</td>\n",
       "      <td>6416.0</td>\n",
       "      <td>5513.0</td>\n",
       "      <td>7491.0</td>\n",
       "      <td>6602.0</td>\n",
       "      <td>7097.0</td>\n",
       "      <td>6100.0</td>\n",
       "      <td>4825.0</td>\n",
       "    </tr>\n",
       "    <tr>\n",
       "      <th>3</th>\n",
       "      <td>US Plant</td>\n",
       "      <td>KaGA</td>\n",
       "      <td>Telluride</td>\n",
       "      <td>9704</td>\n",
       "      <td>10400</td>\n",
       "      <td>11851</td>\n",
       "      <td>10206</td>\n",
       "      <td>11212.0</td>\n",
       "      <td>8792.0</td>\n",
       "      <td>8216.0</td>\n",
       "      <td>12313.0</td>\n",
       "      <td>10698.0</td>\n",
       "      <td>11903.0</td>\n",
       "      <td>10300.0</td>\n",
       "      <td>7850.0</td>\n",
       "    </tr>\n",
       "    <tr>\n",
       "      <th>4</th>\n",
       "      <td>China Plant</td>\n",
       "      <td>DYK</td>\n",
       "      <td>Pegas</td>\n",
       "      <td>3320</td>\n",
       "      <td>3436</td>\n",
       "      <td>3504</td>\n",
       "      <td>3465</td>\n",
       "      <td>3710.0</td>\n",
       "      <td>3548.0</td>\n",
       "      <td>3572.0</td>\n",
       "      <td>5866.0</td>\n",
       "      <td>7042.0</td>\n",
       "      <td>4121.0</td>\n",
       "      <td>5645.0</td>\n",
       "      <td>4495.0</td>\n",
       "    </tr>\n",
       "  </tbody>\n",
       "</table>\n",
       "</div>"
      ],
      "text/plain": [
       "         Plant Plant Code        Model   Jan    Feb    Mar    Apr      May  \\\n",
       "0     US Plant       KaGA  Optima / K5  5701   6150   6635   5652   6396.0   \n",
       "1     US Plant       KaGA     Sportage  6400   7950   9129   7358   8424.0   \n",
       "2     US Plant       KaGA      Sorento  6795   5330   5385   6184   7368.0   \n",
       "3     US Plant       KaGA    Telluride  9704  10400  11851  10206  11212.0   \n",
       "4  China Plant        DYK        Pegas  3320   3436   3504   3465   3710.0   \n",
       "\n",
       "      Jun     Jul      Aug      Sep      Oct      Nov     Dec  \n",
       "0  5050.0  4771.0   6853.0   6150.0   6550.0   5900.0  3445.0  \n",
       "1  6142.0  5900.0   8450.0   7350.0   8150.0   7600.0  6150.0  \n",
       "2  6416.0  5513.0   7491.0   6602.0   7097.0   6100.0  4825.0  \n",
       "3  8792.0  8216.0  12313.0  10698.0  11903.0  10300.0  7850.0  \n",
       "4  3548.0  3572.0   5866.0   7042.0   4121.0   5645.0  4495.0  "
      ]
     },
     "execution_count": 85,
     "metadata": {},
     "output_type": "execute_result"
    }
   ],
   "source": [
    "df_2023.head()"
   ]
  },
  {
   "cell_type": "code",
   "execution_count": 86,
   "metadata": {},
   "outputs": [],
   "source": [
    "df_2023[\"연도\"] = 2023"
   ]
  },
  {
   "cell_type": "code",
   "execution_count": 87,
   "metadata": {},
   "outputs": [
    {
     "data": {
      "application/vnd.microsoft.datawrangler.viewer.v0+json": {
       "columns": [
        {
         "name": "index",
         "rawType": "int64",
         "type": "integer"
        },
        {
         "name": "Plant",
         "rawType": "object",
         "type": "string"
        },
        {
         "name": "Plant Code",
         "rawType": "object",
         "type": "string"
        },
        {
         "name": "Model",
         "rawType": "object",
         "type": "string"
        },
        {
         "name": "Jan",
         "rawType": "int64",
         "type": "integer"
        },
        {
         "name": "Feb",
         "rawType": "int64",
         "type": "integer"
        },
        {
         "name": "Mar",
         "rawType": "int64",
         "type": "integer"
        },
        {
         "name": "Apr",
         "rawType": "int64",
         "type": "integer"
        },
        {
         "name": "May",
         "rawType": "float64",
         "type": "float"
        },
        {
         "name": "Jun",
         "rawType": "float64",
         "type": "float"
        },
        {
         "name": "Jul",
         "rawType": "float64",
         "type": "float"
        },
        {
         "name": "Aug",
         "rawType": "float64",
         "type": "float"
        },
        {
         "name": "Sep",
         "rawType": "float64",
         "type": "float"
        },
        {
         "name": "Oct",
         "rawType": "float64",
         "type": "float"
        },
        {
         "name": "Nov",
         "rawType": "float64",
         "type": "float"
        },
        {
         "name": "Dec",
         "rawType": "float64",
         "type": "float"
        },
        {
         "name": "연도",
         "rawType": "int64",
         "type": "integer"
        }
       ],
       "conversionMethod": "pd.DataFrame",
       "ref": "956f84bc-d0c9-484f-85e2-2d1739f7e321",
       "rows": [
        [
         "0",
         "US Plant",
         "KaGA",
         "Optima / K5",
         "5701",
         "6150",
         "6635",
         "5652",
         "6396.0",
         "5050.0",
         "4771.0",
         "6853.0",
         "6150.0",
         "6550.0",
         "5900.0",
         "3445.0",
         "2023"
        ],
        [
         "1",
         "US Plant",
         "KaGA",
         "Sportage",
         "6400",
         "7950",
         "9129",
         "7358",
         "8424.0",
         "6142.0",
         "5900.0",
         "8450.0",
         "7350.0",
         "8150.0",
         "7600.0",
         "6150.0",
         "2023"
        ],
        [
         "2",
         "US Plant",
         "KaGA",
         "Sorento",
         "6795",
         "5330",
         "5385",
         "6184",
         "7368.0",
         "6416.0",
         "5513.0",
         "7491.0",
         "6602.0",
         "7097.0",
         "6100.0",
         "4825.0",
         "2023"
        ],
        [
         "3",
         "US Plant",
         "KaGA",
         "Telluride",
         "9704",
         "10400",
         "11851",
         "10206",
         "11212.0",
         "8792.0",
         "8216.0",
         "12313.0",
         "10698.0",
         "11903.0",
         "10300.0",
         "7850.0",
         "2023"
        ],
        [
         "4",
         "China Plant",
         "DYK",
         "Pegas",
         "3320",
         "3436",
         "3504",
         "3465",
         "3710.0",
         "3548.0",
         "3572.0",
         "5866.0",
         "7042.0",
         "4121.0",
         "5645.0",
         "4495.0",
         "2023"
        ]
       ],
       "shape": {
        "columns": 16,
        "rows": 5
       }
      },
      "text/html": [
       "<div>\n",
       "<style scoped>\n",
       "    .dataframe tbody tr th:only-of-type {\n",
       "        vertical-align: middle;\n",
       "    }\n",
       "\n",
       "    .dataframe tbody tr th {\n",
       "        vertical-align: top;\n",
       "    }\n",
       "\n",
       "    .dataframe thead th {\n",
       "        text-align: right;\n",
       "    }\n",
       "</style>\n",
       "<table border=\"1\" class=\"dataframe\">\n",
       "  <thead>\n",
       "    <tr style=\"text-align: right;\">\n",
       "      <th></th>\n",
       "      <th>Plant</th>\n",
       "      <th>Plant Code</th>\n",
       "      <th>Model</th>\n",
       "      <th>Jan</th>\n",
       "      <th>Feb</th>\n",
       "      <th>Mar</th>\n",
       "      <th>Apr</th>\n",
       "      <th>May</th>\n",
       "      <th>Jun</th>\n",
       "      <th>Jul</th>\n",
       "      <th>Aug</th>\n",
       "      <th>Sep</th>\n",
       "      <th>Oct</th>\n",
       "      <th>Nov</th>\n",
       "      <th>Dec</th>\n",
       "      <th>연도</th>\n",
       "    </tr>\n",
       "  </thead>\n",
       "  <tbody>\n",
       "    <tr>\n",
       "      <th>0</th>\n",
       "      <td>US Plant</td>\n",
       "      <td>KaGA</td>\n",
       "      <td>Optima / K5</td>\n",
       "      <td>5701</td>\n",
       "      <td>6150</td>\n",
       "      <td>6635</td>\n",
       "      <td>5652</td>\n",
       "      <td>6396.0</td>\n",
       "      <td>5050.0</td>\n",
       "      <td>4771.0</td>\n",
       "      <td>6853.0</td>\n",
       "      <td>6150.0</td>\n",
       "      <td>6550.0</td>\n",
       "      <td>5900.0</td>\n",
       "      <td>3445.0</td>\n",
       "      <td>2023</td>\n",
       "    </tr>\n",
       "    <tr>\n",
       "      <th>1</th>\n",
       "      <td>US Plant</td>\n",
       "      <td>KaGA</td>\n",
       "      <td>Sportage</td>\n",
       "      <td>6400</td>\n",
       "      <td>7950</td>\n",
       "      <td>9129</td>\n",
       "      <td>7358</td>\n",
       "      <td>8424.0</td>\n",
       "      <td>6142.0</td>\n",
       "      <td>5900.0</td>\n",
       "      <td>8450.0</td>\n",
       "      <td>7350.0</td>\n",
       "      <td>8150.0</td>\n",
       "      <td>7600.0</td>\n",
       "      <td>6150.0</td>\n",
       "      <td>2023</td>\n",
       "    </tr>\n",
       "    <tr>\n",
       "      <th>2</th>\n",
       "      <td>US Plant</td>\n",
       "      <td>KaGA</td>\n",
       "      <td>Sorento</td>\n",
       "      <td>6795</td>\n",
       "      <td>5330</td>\n",
       "      <td>5385</td>\n",
       "      <td>6184</td>\n",
       "      <td>7368.0</td>\n",
       "      <td>6416.0</td>\n",
       "      <td>5513.0</td>\n",
       "      <td>7491.0</td>\n",
       "      <td>6602.0</td>\n",
       "      <td>7097.0</td>\n",
       "      <td>6100.0</td>\n",
       "      <td>4825.0</td>\n",
       "      <td>2023</td>\n",
       "    </tr>\n",
       "    <tr>\n",
       "      <th>3</th>\n",
       "      <td>US Plant</td>\n",
       "      <td>KaGA</td>\n",
       "      <td>Telluride</td>\n",
       "      <td>9704</td>\n",
       "      <td>10400</td>\n",
       "      <td>11851</td>\n",
       "      <td>10206</td>\n",
       "      <td>11212.0</td>\n",
       "      <td>8792.0</td>\n",
       "      <td>8216.0</td>\n",
       "      <td>12313.0</td>\n",
       "      <td>10698.0</td>\n",
       "      <td>11903.0</td>\n",
       "      <td>10300.0</td>\n",
       "      <td>7850.0</td>\n",
       "      <td>2023</td>\n",
       "    </tr>\n",
       "    <tr>\n",
       "      <th>4</th>\n",
       "      <td>China Plant</td>\n",
       "      <td>DYK</td>\n",
       "      <td>Pegas</td>\n",
       "      <td>3320</td>\n",
       "      <td>3436</td>\n",
       "      <td>3504</td>\n",
       "      <td>3465</td>\n",
       "      <td>3710.0</td>\n",
       "      <td>3548.0</td>\n",
       "      <td>3572.0</td>\n",
       "      <td>5866.0</td>\n",
       "      <td>7042.0</td>\n",
       "      <td>4121.0</td>\n",
       "      <td>5645.0</td>\n",
       "      <td>4495.0</td>\n",
       "      <td>2023</td>\n",
       "    </tr>\n",
       "  </tbody>\n",
       "</table>\n",
       "</div>"
      ],
      "text/plain": [
       "         Plant Plant Code        Model   Jan    Feb    Mar    Apr      May  \\\n",
       "0     US Plant       KaGA  Optima / K5  5701   6150   6635   5652   6396.0   \n",
       "1     US Plant       KaGA     Sportage  6400   7950   9129   7358   8424.0   \n",
       "2     US Plant       KaGA      Sorento  6795   5330   5385   6184   7368.0   \n",
       "3     US Plant       KaGA    Telluride  9704  10400  11851  10206  11212.0   \n",
       "4  China Plant        DYK        Pegas  3320   3436   3504   3465   3710.0   \n",
       "\n",
       "      Jun     Jul      Aug      Sep      Oct      Nov     Dec    연도  \n",
       "0  5050.0  4771.0   6853.0   6150.0   6550.0   5900.0  3445.0  2023  \n",
       "1  6142.0  5900.0   8450.0   7350.0   8150.0   7600.0  6150.0  2023  \n",
       "2  6416.0  5513.0   7491.0   6602.0   7097.0   6100.0  4825.0  2023  \n",
       "3  8792.0  8216.0  12313.0  10698.0  11903.0  10300.0  7850.0  2023  \n",
       "4  3548.0  3572.0   5866.0   7042.0   4121.0   5645.0  4495.0  2023  "
      ]
     },
     "execution_count": 87,
     "metadata": {},
     "output_type": "execute_result"
    }
   ],
   "source": [
    "df_2023.head()"
   ]
  },
  {
   "cell_type": "code",
   "execution_count": 88,
   "metadata": {},
   "outputs": [
    {
     "data": {
      "application/vnd.microsoft.datawrangler.viewer.v0+json": {
       "columns": [
        {
         "name": "index",
         "rawType": "int64",
         "type": "integer"
        },
        {
         "name": "Plant",
         "rawType": "object",
         "type": "string"
        },
        {
         "name": "Plant Code",
         "rawType": "object",
         "type": "string"
        },
        {
         "name": "Model",
         "rawType": "object",
         "type": "string"
        },
        {
         "name": "Jan",
         "rawType": "object",
         "type": "unknown"
        },
        {
         "name": "Feb",
         "rawType": "object",
         "type": "unknown"
        },
        {
         "name": "Mar",
         "rawType": "object",
         "type": "unknown"
        },
        {
         "name": "Apr",
         "rawType": "object",
         "type": "unknown"
        },
        {
         "name": "May",
         "rawType": "object",
         "type": "unknown"
        },
        {
         "name": "Jun",
         "rawType": "object",
         "type": "unknown"
        },
        {
         "name": "Jul",
         "rawType": "object",
         "type": "unknown"
        },
        {
         "name": "Aug",
         "rawType": "object",
         "type": "string"
        },
        {
         "name": "Sep",
         "rawType": "object",
         "type": "unknown"
        },
        {
         "name": "Oct",
         "rawType": "object",
         "type": "unknown"
        },
        {
         "name": "Nov",
         "rawType": "object",
         "type": "unknown"
        },
        {
         "name": "Dec",
         "rawType": "object",
         "type": "unknown"
        }
       ],
       "conversionMethod": "pd.DataFrame",
       "ref": "c6169020-d254-412d-a420-2480b688dbcf",
       "rows": [
        [
         "0",
         "US Plant",
         "KaGA",
         "K5",
         "1,286",
         "30",
         "4",
         "15",
         "2",
         "0",
         "0",
         "0",
         null,
         null,
         null,
         null
        ],
        [
         "1",
         "US Plant",
         "KaGA",
         "Sportage",
         "8,100",
         "9,920",
         "9,546",
         "10,735",
         "10,048",
         "9,300",
         "8,800",
         "11,520",
         "10,350",
         "11,150",
         "9,000",
         "6,720"
        ],
        [
         "2",
         "US Plant",
         "KaGA",
         "Sorento",
         "6,442",
         "9,849",
         "10,049",
         "10,150",
         "10,449",
         "8,650",
         "8,249",
         "9,380",
         "9,237",
         "10,520",
         "7,972",
         "4,718"
        ],
        [
         "3",
         "US Plant",
         "KaGA",
         "Telluride",
         "9,172",
         "10,901",
         "10,401",
         "11,500",
         "11,401",
         "10,050",
         "9,851",
         "12,190",
         "11,302",
         "12,300",
         "10,118",
         "8,192"
        ],
        [
         "4",
         "US Plant",
         "KaGA",
         "EV9",
         null,
         null,
         null,
         null,
         null,
         null,
         null,
         "10",
         "11",
         "130",
         "1,210",
         "1,170"
        ]
       ],
       "shape": {
        "columns": 15,
        "rows": 5
       }
      },
      "text/html": [
       "<div>\n",
       "<style scoped>\n",
       "    .dataframe tbody tr th:only-of-type {\n",
       "        vertical-align: middle;\n",
       "    }\n",
       "\n",
       "    .dataframe tbody tr th {\n",
       "        vertical-align: top;\n",
       "    }\n",
       "\n",
       "    .dataframe thead th {\n",
       "        text-align: right;\n",
       "    }\n",
       "</style>\n",
       "<table border=\"1\" class=\"dataframe\">\n",
       "  <thead>\n",
       "    <tr style=\"text-align: right;\">\n",
       "      <th></th>\n",
       "      <th>Plant</th>\n",
       "      <th>Plant Code</th>\n",
       "      <th>Model</th>\n",
       "      <th>Jan</th>\n",
       "      <th>Feb</th>\n",
       "      <th>Mar</th>\n",
       "      <th>Apr</th>\n",
       "      <th>May</th>\n",
       "      <th>Jun</th>\n",
       "      <th>Jul</th>\n",
       "      <th>Aug</th>\n",
       "      <th>Sep</th>\n",
       "      <th>Oct</th>\n",
       "      <th>Nov</th>\n",
       "      <th>Dec</th>\n",
       "    </tr>\n",
       "  </thead>\n",
       "  <tbody>\n",
       "    <tr>\n",
       "      <th>0</th>\n",
       "      <td>US Plant</td>\n",
       "      <td>KaGA</td>\n",
       "      <td>K5</td>\n",
       "      <td>1,286</td>\n",
       "      <td>30</td>\n",
       "      <td>4</td>\n",
       "      <td>15</td>\n",
       "      <td>2</td>\n",
       "      <td>0</td>\n",
       "      <td>0</td>\n",
       "      <td>0</td>\n",
       "      <td>NaN</td>\n",
       "      <td>NaN</td>\n",
       "      <td>NaN</td>\n",
       "      <td>NaN</td>\n",
       "    </tr>\n",
       "    <tr>\n",
       "      <th>1</th>\n",
       "      <td>US Plant</td>\n",
       "      <td>KaGA</td>\n",
       "      <td>Sportage</td>\n",
       "      <td>8,100</td>\n",
       "      <td>9,920</td>\n",
       "      <td>9,546</td>\n",
       "      <td>10,735</td>\n",
       "      <td>10,048</td>\n",
       "      <td>9,300</td>\n",
       "      <td>8,800</td>\n",
       "      <td>11,520</td>\n",
       "      <td>10,350</td>\n",
       "      <td>11,150</td>\n",
       "      <td>9,000</td>\n",
       "      <td>6,720</td>\n",
       "    </tr>\n",
       "    <tr>\n",
       "      <th>2</th>\n",
       "      <td>US Plant</td>\n",
       "      <td>KaGA</td>\n",
       "      <td>Sorento</td>\n",
       "      <td>6,442</td>\n",
       "      <td>9,849</td>\n",
       "      <td>10,049</td>\n",
       "      <td>10,150</td>\n",
       "      <td>10,449</td>\n",
       "      <td>8,650</td>\n",
       "      <td>8,249</td>\n",
       "      <td>9,380</td>\n",
       "      <td>9,237</td>\n",
       "      <td>10,520</td>\n",
       "      <td>7,972</td>\n",
       "      <td>4,718</td>\n",
       "    </tr>\n",
       "    <tr>\n",
       "      <th>3</th>\n",
       "      <td>US Plant</td>\n",
       "      <td>KaGA</td>\n",
       "      <td>Telluride</td>\n",
       "      <td>9,172</td>\n",
       "      <td>10,901</td>\n",
       "      <td>10,401</td>\n",
       "      <td>11,500</td>\n",
       "      <td>11,401</td>\n",
       "      <td>10,050</td>\n",
       "      <td>9,851</td>\n",
       "      <td>12,190</td>\n",
       "      <td>11,302</td>\n",
       "      <td>12,300</td>\n",
       "      <td>10,118</td>\n",
       "      <td>8,192</td>\n",
       "    </tr>\n",
       "    <tr>\n",
       "      <th>4</th>\n",
       "      <td>US Plant</td>\n",
       "      <td>KaGA</td>\n",
       "      <td>EV9</td>\n",
       "      <td>NaN</td>\n",
       "      <td>NaN</td>\n",
       "      <td>NaN</td>\n",
       "      <td>NaN</td>\n",
       "      <td>NaN</td>\n",
       "      <td>NaN</td>\n",
       "      <td>NaN</td>\n",
       "      <td>10</td>\n",
       "      <td>11</td>\n",
       "      <td>130</td>\n",
       "      <td>1,210</td>\n",
       "      <td>1,170</td>\n",
       "    </tr>\n",
       "  </tbody>\n",
       "</table>\n",
       "</div>"
      ],
      "text/plain": [
       "      Plant Plant Code      Model    Jan     Feb     Mar     Apr     May  \\\n",
       "0  US Plant       KaGA         K5  1,286      30       4      15       2   \n",
       "1  US Plant       KaGA   Sportage  8,100   9,920   9,546  10,735  10,048   \n",
       "2  US Plant       KaGA    Sorento  6,442   9,849  10,049  10,150  10,449   \n",
       "3  US Plant       KaGA  Telluride  9,172  10,901  10,401  11,500  11,401   \n",
       "4  US Plant       KaGA        EV9    NaN     NaN     NaN     NaN     NaN   \n",
       "\n",
       "      Jun    Jul     Aug     Sep     Oct     Nov    Dec  \n",
       "0       0      0       0     NaN     NaN     NaN    NaN  \n",
       "1   9,300  8,800  11,520  10,350  11,150   9,000  6,720  \n",
       "2   8,650  8,249   9,380   9,237  10,520   7,972  4,718  \n",
       "3  10,050  9,851  12,190  11,302  12,300  10,118  8,192  \n",
       "4     NaN    NaN      10      11     130   1,210  1,170  "
      ]
     },
     "execution_count": 88,
     "metadata": {},
     "output_type": "execute_result"
    }
   ],
   "source": [
    "df_2024.head()"
   ]
  },
  {
   "cell_type": "code",
   "execution_count": 89,
   "metadata": {},
   "outputs": [],
   "source": [
    "df_2024[\"연도\"] = 2024"
   ]
  },
  {
   "cell_type": "code",
   "execution_count": 90,
   "metadata": {},
   "outputs": [
    {
     "data": {
      "application/vnd.microsoft.datawrangler.viewer.v0+json": {
       "columns": [
        {
         "name": "index",
         "rawType": "int64",
         "type": "integer"
        },
        {
         "name": "Plant",
         "rawType": "object",
         "type": "string"
        },
        {
         "name": "Plant Code",
         "rawType": "object",
         "type": "string"
        },
        {
         "name": "Model",
         "rawType": "object",
         "type": "string"
        },
        {
         "name": "Jan",
         "rawType": "object",
         "type": "unknown"
        },
        {
         "name": "Feb",
         "rawType": "object",
         "type": "unknown"
        },
        {
         "name": "Mar",
         "rawType": "object",
         "type": "unknown"
        },
        {
         "name": "Apr",
         "rawType": "object",
         "type": "unknown"
        },
        {
         "name": "May",
         "rawType": "object",
         "type": "unknown"
        },
        {
         "name": "Jun",
         "rawType": "object",
         "type": "unknown"
        },
        {
         "name": "Jul",
         "rawType": "object",
         "type": "unknown"
        },
        {
         "name": "Aug",
         "rawType": "object",
         "type": "string"
        },
        {
         "name": "Sep",
         "rawType": "object",
         "type": "unknown"
        },
        {
         "name": "Oct",
         "rawType": "object",
         "type": "unknown"
        },
        {
         "name": "Nov",
         "rawType": "object",
         "type": "unknown"
        },
        {
         "name": "Dec",
         "rawType": "object",
         "type": "unknown"
        },
        {
         "name": "연도",
         "rawType": "int64",
         "type": "integer"
        }
       ],
       "conversionMethod": "pd.DataFrame",
       "ref": "bb8680fe-76be-4233-9a80-cf681f1314d1",
       "rows": [
        [
         "0",
         "US Plant",
         "KaGA",
         "K5",
         "1,286",
         "30",
         "4",
         "15",
         "2",
         "0",
         "0",
         "0",
         null,
         null,
         null,
         null,
         "2024"
        ],
        [
         "1",
         "US Plant",
         "KaGA",
         "Sportage",
         "8,100",
         "9,920",
         "9,546",
         "10,735",
         "10,048",
         "9,300",
         "8,800",
         "11,520",
         "10,350",
         "11,150",
         "9,000",
         "6,720",
         "2024"
        ],
        [
         "2",
         "US Plant",
         "KaGA",
         "Sorento",
         "6,442",
         "9,849",
         "10,049",
         "10,150",
         "10,449",
         "8,650",
         "8,249",
         "9,380",
         "9,237",
         "10,520",
         "7,972",
         "4,718",
         "2024"
        ],
        [
         "3",
         "US Plant",
         "KaGA",
         "Telluride",
         "9,172",
         "10,901",
         "10,401",
         "11,500",
         "11,401",
         "10,050",
         "9,851",
         "12,190",
         "11,302",
         "12,300",
         "10,118",
         "8,192",
         "2024"
        ],
        [
         "4",
         "US Plant",
         "KaGA",
         "EV9",
         null,
         null,
         null,
         null,
         null,
         null,
         null,
         "10",
         "11",
         "130",
         "1,210",
         "1,170",
         "2024"
        ]
       ],
       "shape": {
        "columns": 16,
        "rows": 5
       }
      },
      "text/html": [
       "<div>\n",
       "<style scoped>\n",
       "    .dataframe tbody tr th:only-of-type {\n",
       "        vertical-align: middle;\n",
       "    }\n",
       "\n",
       "    .dataframe tbody tr th {\n",
       "        vertical-align: top;\n",
       "    }\n",
       "\n",
       "    .dataframe thead th {\n",
       "        text-align: right;\n",
       "    }\n",
       "</style>\n",
       "<table border=\"1\" class=\"dataframe\">\n",
       "  <thead>\n",
       "    <tr style=\"text-align: right;\">\n",
       "      <th></th>\n",
       "      <th>Plant</th>\n",
       "      <th>Plant Code</th>\n",
       "      <th>Model</th>\n",
       "      <th>Jan</th>\n",
       "      <th>Feb</th>\n",
       "      <th>Mar</th>\n",
       "      <th>Apr</th>\n",
       "      <th>May</th>\n",
       "      <th>Jun</th>\n",
       "      <th>Jul</th>\n",
       "      <th>Aug</th>\n",
       "      <th>Sep</th>\n",
       "      <th>Oct</th>\n",
       "      <th>Nov</th>\n",
       "      <th>Dec</th>\n",
       "      <th>연도</th>\n",
       "    </tr>\n",
       "  </thead>\n",
       "  <tbody>\n",
       "    <tr>\n",
       "      <th>0</th>\n",
       "      <td>US Plant</td>\n",
       "      <td>KaGA</td>\n",
       "      <td>K5</td>\n",
       "      <td>1,286</td>\n",
       "      <td>30</td>\n",
       "      <td>4</td>\n",
       "      <td>15</td>\n",
       "      <td>2</td>\n",
       "      <td>0</td>\n",
       "      <td>0</td>\n",
       "      <td>0</td>\n",
       "      <td>NaN</td>\n",
       "      <td>NaN</td>\n",
       "      <td>NaN</td>\n",
       "      <td>NaN</td>\n",
       "      <td>2024</td>\n",
       "    </tr>\n",
       "    <tr>\n",
       "      <th>1</th>\n",
       "      <td>US Plant</td>\n",
       "      <td>KaGA</td>\n",
       "      <td>Sportage</td>\n",
       "      <td>8,100</td>\n",
       "      <td>9,920</td>\n",
       "      <td>9,546</td>\n",
       "      <td>10,735</td>\n",
       "      <td>10,048</td>\n",
       "      <td>9,300</td>\n",
       "      <td>8,800</td>\n",
       "      <td>11,520</td>\n",
       "      <td>10,350</td>\n",
       "      <td>11,150</td>\n",
       "      <td>9,000</td>\n",
       "      <td>6,720</td>\n",
       "      <td>2024</td>\n",
       "    </tr>\n",
       "    <tr>\n",
       "      <th>2</th>\n",
       "      <td>US Plant</td>\n",
       "      <td>KaGA</td>\n",
       "      <td>Sorento</td>\n",
       "      <td>6,442</td>\n",
       "      <td>9,849</td>\n",
       "      <td>10,049</td>\n",
       "      <td>10,150</td>\n",
       "      <td>10,449</td>\n",
       "      <td>8,650</td>\n",
       "      <td>8,249</td>\n",
       "      <td>9,380</td>\n",
       "      <td>9,237</td>\n",
       "      <td>10,520</td>\n",
       "      <td>7,972</td>\n",
       "      <td>4,718</td>\n",
       "      <td>2024</td>\n",
       "    </tr>\n",
       "    <tr>\n",
       "      <th>3</th>\n",
       "      <td>US Plant</td>\n",
       "      <td>KaGA</td>\n",
       "      <td>Telluride</td>\n",
       "      <td>9,172</td>\n",
       "      <td>10,901</td>\n",
       "      <td>10,401</td>\n",
       "      <td>11,500</td>\n",
       "      <td>11,401</td>\n",
       "      <td>10,050</td>\n",
       "      <td>9,851</td>\n",
       "      <td>12,190</td>\n",
       "      <td>11,302</td>\n",
       "      <td>12,300</td>\n",
       "      <td>10,118</td>\n",
       "      <td>8,192</td>\n",
       "      <td>2024</td>\n",
       "    </tr>\n",
       "    <tr>\n",
       "      <th>4</th>\n",
       "      <td>US Plant</td>\n",
       "      <td>KaGA</td>\n",
       "      <td>EV9</td>\n",
       "      <td>NaN</td>\n",
       "      <td>NaN</td>\n",
       "      <td>NaN</td>\n",
       "      <td>NaN</td>\n",
       "      <td>NaN</td>\n",
       "      <td>NaN</td>\n",
       "      <td>NaN</td>\n",
       "      <td>10</td>\n",
       "      <td>11</td>\n",
       "      <td>130</td>\n",
       "      <td>1,210</td>\n",
       "      <td>1,170</td>\n",
       "      <td>2024</td>\n",
       "    </tr>\n",
       "  </tbody>\n",
       "</table>\n",
       "</div>"
      ],
      "text/plain": [
       "      Plant Plant Code      Model    Jan     Feb     Mar     Apr     May  \\\n",
       "0  US Plant       KaGA         K5  1,286      30       4      15       2   \n",
       "1  US Plant       KaGA   Sportage  8,100   9,920   9,546  10,735  10,048   \n",
       "2  US Plant       KaGA    Sorento  6,442   9,849  10,049  10,150  10,449   \n",
       "3  US Plant       KaGA  Telluride  9,172  10,901  10,401  11,500  11,401   \n",
       "4  US Plant       KaGA        EV9    NaN     NaN     NaN     NaN     NaN   \n",
       "\n",
       "      Jun    Jul     Aug     Sep     Oct     Nov    Dec    연도  \n",
       "0       0      0       0     NaN     NaN     NaN    NaN  2024  \n",
       "1   9,300  8,800  11,520  10,350  11,150   9,000  6,720  2024  \n",
       "2   8,650  8,249   9,380   9,237  10,520   7,972  4,718  2024  \n",
       "3  10,050  9,851  12,190  11,302  12,300  10,118  8,192  2024  \n",
       "4     NaN    NaN      10      11     130   1,210  1,170  2024  "
      ]
     },
     "execution_count": 90,
     "metadata": {},
     "output_type": "execute_result"
    }
   ],
   "source": [
    "df_2024.head()"
   ]
  },
  {
   "cell_type": "code",
   "execution_count": 91,
   "metadata": {},
   "outputs": [
    {
     "data": {
      "application/vnd.microsoft.datawrangler.viewer.v0+json": {
       "columns": [
        {
         "name": "index",
         "rawType": "int64",
         "type": "integer"
        },
        {
         "name": "model",
         "rawType": "object",
         "type": "string"
        },
        {
         "name": "path",
         "rawType": "object",
         "type": "string"
        },
        {
         "name": "month",
         "rawType": "object",
         "type": "string"
        },
        {
         "name": "Jan",
         "rawType": "object",
         "type": "unknown"
        },
        {
         "name": "Feb",
         "rawType": "int64",
         "type": "integer"
        },
        {
         "name": "Mar",
         "rawType": "int64",
         "type": "integer"
        },
        {
         "name": "Apr",
         "rawType": "int64",
         "type": "integer"
        },
        {
         "name": "May",
         "rawType": "int64",
         "type": "integer"
        },
        {
         "name": "Jun",
         "rawType": "int64",
         "type": "integer"
        },
        {
         "name": "Jul",
         "rawType": "int64",
         "type": "integer"
        },
        {
         "name": "Aug",
         "rawType": "int64",
         "type": "integer"
        },
        {
         "name": "Sep",
         "rawType": "int64",
         "type": "integer"
        },
        {
         "name": "Oct",
         "rawType": "int64",
         "type": "integer"
        },
        {
         "name": "Nov",
         "rawType": "int64",
         "type": "integer"
        },
        {
         "name": "Dec",
         "rawType": "int64",
         "type": "integer"
        }
       ],
       "conversionMethod": "pd.DataFrame",
       "ref": "c705abab-7a24-472f-a234-c2ed6b166eab",
       "rows": [
        [
         "0",
         "K5",
         "US Plant",
         "Jan",
         null,
         "0",
         "0",
         "0",
         "0",
         "0",
         "0",
         "0",
         "0",
         "0",
         "0",
         "0"
        ],
        [
         "1",
         "Sportage",
         "US Plant",
         "Jan",
         "9,247",
         "0",
         "0",
         "0",
         "0",
         "0",
         "0",
         "0",
         "0",
         "0",
         "0",
         "0"
        ],
        [
         "2",
         "Sorento",
         "US Plant",
         "Jan",
         "8,300",
         "0",
         "0",
         "0",
         "0",
         "0",
         "0",
         "0",
         "0",
         "0",
         "0",
         "0"
        ],
        [
         "3",
         "Telluride",
         "US Plant",
         "Jan",
         "10,350",
         "0",
         "0",
         "0",
         "0",
         "0",
         "0",
         "0",
         "0",
         "0",
         "0",
         "0"
        ],
        [
         "4",
         "EV6",
         "US Plant",
         "Jan",
         "103",
         "0",
         "0",
         "0",
         "0",
         "0",
         "0",
         "0",
         "0",
         "0",
         "0",
         "0"
        ]
       ],
       "shape": {
        "columns": 15,
        "rows": 5
       }
      },
      "text/html": [
       "<div>\n",
       "<style scoped>\n",
       "    .dataframe tbody tr th:only-of-type {\n",
       "        vertical-align: middle;\n",
       "    }\n",
       "\n",
       "    .dataframe tbody tr th {\n",
       "        vertical-align: top;\n",
       "    }\n",
       "\n",
       "    .dataframe thead th {\n",
       "        text-align: right;\n",
       "    }\n",
       "</style>\n",
       "<table border=\"1\" class=\"dataframe\">\n",
       "  <thead>\n",
       "    <tr style=\"text-align: right;\">\n",
       "      <th></th>\n",
       "      <th>model</th>\n",
       "      <th>path</th>\n",
       "      <th>month</th>\n",
       "      <th>Jan</th>\n",
       "      <th>Feb</th>\n",
       "      <th>Mar</th>\n",
       "      <th>Apr</th>\n",
       "      <th>May</th>\n",
       "      <th>Jun</th>\n",
       "      <th>Jul</th>\n",
       "      <th>Aug</th>\n",
       "      <th>Sep</th>\n",
       "      <th>Oct</th>\n",
       "      <th>Nov</th>\n",
       "      <th>Dec</th>\n",
       "    </tr>\n",
       "  </thead>\n",
       "  <tbody>\n",
       "    <tr>\n",
       "      <th>0</th>\n",
       "      <td>K5</td>\n",
       "      <td>US Plant</td>\n",
       "      <td>Jan</td>\n",
       "      <td>NaN</td>\n",
       "      <td>0</td>\n",
       "      <td>0</td>\n",
       "      <td>0</td>\n",
       "      <td>0</td>\n",
       "      <td>0</td>\n",
       "      <td>0</td>\n",
       "      <td>0</td>\n",
       "      <td>0</td>\n",
       "      <td>0</td>\n",
       "      <td>0</td>\n",
       "      <td>0</td>\n",
       "    </tr>\n",
       "    <tr>\n",
       "      <th>1</th>\n",
       "      <td>Sportage</td>\n",
       "      <td>US Plant</td>\n",
       "      <td>Jan</td>\n",
       "      <td>9,247</td>\n",
       "      <td>0</td>\n",
       "      <td>0</td>\n",
       "      <td>0</td>\n",
       "      <td>0</td>\n",
       "      <td>0</td>\n",
       "      <td>0</td>\n",
       "      <td>0</td>\n",
       "      <td>0</td>\n",
       "      <td>0</td>\n",
       "      <td>0</td>\n",
       "      <td>0</td>\n",
       "    </tr>\n",
       "    <tr>\n",
       "      <th>2</th>\n",
       "      <td>Sorento</td>\n",
       "      <td>US Plant</td>\n",
       "      <td>Jan</td>\n",
       "      <td>8,300</td>\n",
       "      <td>0</td>\n",
       "      <td>0</td>\n",
       "      <td>0</td>\n",
       "      <td>0</td>\n",
       "      <td>0</td>\n",
       "      <td>0</td>\n",
       "      <td>0</td>\n",
       "      <td>0</td>\n",
       "      <td>0</td>\n",
       "      <td>0</td>\n",
       "      <td>0</td>\n",
       "    </tr>\n",
       "    <tr>\n",
       "      <th>3</th>\n",
       "      <td>Telluride</td>\n",
       "      <td>US Plant</td>\n",
       "      <td>Jan</td>\n",
       "      <td>10,350</td>\n",
       "      <td>0</td>\n",
       "      <td>0</td>\n",
       "      <td>0</td>\n",
       "      <td>0</td>\n",
       "      <td>0</td>\n",
       "      <td>0</td>\n",
       "      <td>0</td>\n",
       "      <td>0</td>\n",
       "      <td>0</td>\n",
       "      <td>0</td>\n",
       "      <td>0</td>\n",
       "    </tr>\n",
       "    <tr>\n",
       "      <th>4</th>\n",
       "      <td>EV6</td>\n",
       "      <td>US Plant</td>\n",
       "      <td>Jan</td>\n",
       "      <td>103</td>\n",
       "      <td>0</td>\n",
       "      <td>0</td>\n",
       "      <td>0</td>\n",
       "      <td>0</td>\n",
       "      <td>0</td>\n",
       "      <td>0</td>\n",
       "      <td>0</td>\n",
       "      <td>0</td>\n",
       "      <td>0</td>\n",
       "      <td>0</td>\n",
       "      <td>0</td>\n",
       "    </tr>\n",
       "  </tbody>\n",
       "</table>\n",
       "</div>"
      ],
      "text/plain": [
       "       model      path month     Jan  Feb  Mar  Apr  May  Jun  Jul  Aug  Sep  \\\n",
       "0         K5  US Plant   Jan     NaN    0    0    0    0    0    0    0    0   \n",
       "1   Sportage  US Plant   Jan   9,247    0    0    0    0    0    0    0    0   \n",
       "2    Sorento  US Plant   Jan   8,300    0    0    0    0    0    0    0    0   \n",
       "3  Telluride  US Plant   Jan  10,350    0    0    0    0    0    0    0    0   \n",
       "4        EV6  US Plant   Jan     103    0    0    0    0    0    0    0    0   \n",
       "\n",
       "   Oct  Nov  Dec  \n",
       "0    0    0    0  \n",
       "1    0    0    0  \n",
       "2    0    0    0  \n",
       "3    0    0    0  \n",
       "4    0    0    0  "
      ]
     },
     "execution_count": 91,
     "metadata": {},
     "output_type": "execute_result"
    }
   ],
   "source": [
    "df_2025.head()"
   ]
  },
  {
   "cell_type": "code",
   "execution_count": 92,
   "metadata": {},
   "outputs": [],
   "source": [
    "df_2025[\"연도\"] = 2025"
   ]
  },
  {
   "cell_type": "code",
   "execution_count": 93,
   "metadata": {},
   "outputs": [
    {
     "data": {
      "application/vnd.microsoft.datawrangler.viewer.v0+json": {
       "columns": [
        {
         "name": "index",
         "rawType": "int64",
         "type": "integer"
        },
        {
         "name": "model",
         "rawType": "object",
         "type": "string"
        },
        {
         "name": "path",
         "rawType": "object",
         "type": "string"
        },
        {
         "name": "month",
         "rawType": "object",
         "type": "string"
        },
        {
         "name": "Jan",
         "rawType": "object",
         "type": "unknown"
        },
        {
         "name": "Feb",
         "rawType": "int64",
         "type": "integer"
        },
        {
         "name": "Mar",
         "rawType": "int64",
         "type": "integer"
        },
        {
         "name": "Apr",
         "rawType": "int64",
         "type": "integer"
        },
        {
         "name": "May",
         "rawType": "int64",
         "type": "integer"
        },
        {
         "name": "Jun",
         "rawType": "int64",
         "type": "integer"
        },
        {
         "name": "Jul",
         "rawType": "int64",
         "type": "integer"
        },
        {
         "name": "Aug",
         "rawType": "int64",
         "type": "integer"
        },
        {
         "name": "Sep",
         "rawType": "int64",
         "type": "integer"
        },
        {
         "name": "Oct",
         "rawType": "int64",
         "type": "integer"
        },
        {
         "name": "Nov",
         "rawType": "int64",
         "type": "integer"
        },
        {
         "name": "Dec",
         "rawType": "int64",
         "type": "integer"
        },
        {
         "name": "연도",
         "rawType": "int64",
         "type": "integer"
        }
       ],
       "conversionMethod": "pd.DataFrame",
       "ref": "91621321-b71e-44e1-b40f-f98ef295a4af",
       "rows": [
        [
         "0",
         "K5",
         "US Plant",
         "Jan",
         null,
         "0",
         "0",
         "0",
         "0",
         "0",
         "0",
         "0",
         "0",
         "0",
         "0",
         "0",
         "2025"
        ],
        [
         "1",
         "Sportage",
         "US Plant",
         "Jan",
         "9,247",
         "0",
         "0",
         "0",
         "0",
         "0",
         "0",
         "0",
         "0",
         "0",
         "0",
         "0",
         "2025"
        ],
        [
         "2",
         "Sorento",
         "US Plant",
         "Jan",
         "8,300",
         "0",
         "0",
         "0",
         "0",
         "0",
         "0",
         "0",
         "0",
         "0",
         "0",
         "0",
         "2025"
        ],
        [
         "3",
         "Telluride",
         "US Plant",
         "Jan",
         "10,350",
         "0",
         "0",
         "0",
         "0",
         "0",
         "0",
         "0",
         "0",
         "0",
         "0",
         "0",
         "2025"
        ],
        [
         "4",
         "EV6",
         "US Plant",
         "Jan",
         "103",
         "0",
         "0",
         "0",
         "0",
         "0",
         "0",
         "0",
         "0",
         "0",
         "0",
         "0",
         "2025"
        ]
       ],
       "shape": {
        "columns": 16,
        "rows": 5
       }
      },
      "text/html": [
       "<div>\n",
       "<style scoped>\n",
       "    .dataframe tbody tr th:only-of-type {\n",
       "        vertical-align: middle;\n",
       "    }\n",
       "\n",
       "    .dataframe tbody tr th {\n",
       "        vertical-align: top;\n",
       "    }\n",
       "\n",
       "    .dataframe thead th {\n",
       "        text-align: right;\n",
       "    }\n",
       "</style>\n",
       "<table border=\"1\" class=\"dataframe\">\n",
       "  <thead>\n",
       "    <tr style=\"text-align: right;\">\n",
       "      <th></th>\n",
       "      <th>model</th>\n",
       "      <th>path</th>\n",
       "      <th>month</th>\n",
       "      <th>Jan</th>\n",
       "      <th>Feb</th>\n",
       "      <th>Mar</th>\n",
       "      <th>Apr</th>\n",
       "      <th>May</th>\n",
       "      <th>Jun</th>\n",
       "      <th>Jul</th>\n",
       "      <th>Aug</th>\n",
       "      <th>Sep</th>\n",
       "      <th>Oct</th>\n",
       "      <th>Nov</th>\n",
       "      <th>Dec</th>\n",
       "      <th>연도</th>\n",
       "    </tr>\n",
       "  </thead>\n",
       "  <tbody>\n",
       "    <tr>\n",
       "      <th>0</th>\n",
       "      <td>K5</td>\n",
       "      <td>US Plant</td>\n",
       "      <td>Jan</td>\n",
       "      <td>NaN</td>\n",
       "      <td>0</td>\n",
       "      <td>0</td>\n",
       "      <td>0</td>\n",
       "      <td>0</td>\n",
       "      <td>0</td>\n",
       "      <td>0</td>\n",
       "      <td>0</td>\n",
       "      <td>0</td>\n",
       "      <td>0</td>\n",
       "      <td>0</td>\n",
       "      <td>0</td>\n",
       "      <td>2025</td>\n",
       "    </tr>\n",
       "    <tr>\n",
       "      <th>1</th>\n",
       "      <td>Sportage</td>\n",
       "      <td>US Plant</td>\n",
       "      <td>Jan</td>\n",
       "      <td>9,247</td>\n",
       "      <td>0</td>\n",
       "      <td>0</td>\n",
       "      <td>0</td>\n",
       "      <td>0</td>\n",
       "      <td>0</td>\n",
       "      <td>0</td>\n",
       "      <td>0</td>\n",
       "      <td>0</td>\n",
       "      <td>0</td>\n",
       "      <td>0</td>\n",
       "      <td>0</td>\n",
       "      <td>2025</td>\n",
       "    </tr>\n",
       "    <tr>\n",
       "      <th>2</th>\n",
       "      <td>Sorento</td>\n",
       "      <td>US Plant</td>\n",
       "      <td>Jan</td>\n",
       "      <td>8,300</td>\n",
       "      <td>0</td>\n",
       "      <td>0</td>\n",
       "      <td>0</td>\n",
       "      <td>0</td>\n",
       "      <td>0</td>\n",
       "      <td>0</td>\n",
       "      <td>0</td>\n",
       "      <td>0</td>\n",
       "      <td>0</td>\n",
       "      <td>0</td>\n",
       "      <td>0</td>\n",
       "      <td>2025</td>\n",
       "    </tr>\n",
       "    <tr>\n",
       "      <th>3</th>\n",
       "      <td>Telluride</td>\n",
       "      <td>US Plant</td>\n",
       "      <td>Jan</td>\n",
       "      <td>10,350</td>\n",
       "      <td>0</td>\n",
       "      <td>0</td>\n",
       "      <td>0</td>\n",
       "      <td>0</td>\n",
       "      <td>0</td>\n",
       "      <td>0</td>\n",
       "      <td>0</td>\n",
       "      <td>0</td>\n",
       "      <td>0</td>\n",
       "      <td>0</td>\n",
       "      <td>0</td>\n",
       "      <td>2025</td>\n",
       "    </tr>\n",
       "    <tr>\n",
       "      <th>4</th>\n",
       "      <td>EV6</td>\n",
       "      <td>US Plant</td>\n",
       "      <td>Jan</td>\n",
       "      <td>103</td>\n",
       "      <td>0</td>\n",
       "      <td>0</td>\n",
       "      <td>0</td>\n",
       "      <td>0</td>\n",
       "      <td>0</td>\n",
       "      <td>0</td>\n",
       "      <td>0</td>\n",
       "      <td>0</td>\n",
       "      <td>0</td>\n",
       "      <td>0</td>\n",
       "      <td>0</td>\n",
       "      <td>2025</td>\n",
       "    </tr>\n",
       "  </tbody>\n",
       "</table>\n",
       "</div>"
      ],
      "text/plain": [
       "       model      path month     Jan  Feb  Mar  Apr  May  Jun  Jul  Aug  Sep  \\\n",
       "0         K5  US Plant   Jan     NaN    0    0    0    0    0    0    0    0   \n",
       "1   Sportage  US Plant   Jan   9,247    0    0    0    0    0    0    0    0   \n",
       "2    Sorento  US Plant   Jan   8,300    0    0    0    0    0    0    0    0   \n",
       "3  Telluride  US Plant   Jan  10,350    0    0    0    0    0    0    0    0   \n",
       "4        EV6  US Plant   Jan     103    0    0    0    0    0    0    0    0   \n",
       "\n",
       "   Oct  Nov  Dec    연도  \n",
       "0    0    0    0  2025  \n",
       "1    0    0    0  2025  \n",
       "2    0    0    0  2025  \n",
       "3    0    0    0  2025  \n",
       "4    0    0    0  2025  "
      ]
     },
     "execution_count": 93,
     "metadata": {},
     "output_type": "execute_result"
    }
   ],
   "source": [
    "df_2025.head()"
   ]
  },
  {
   "cell_type": "code",
   "execution_count": 94,
   "metadata": {},
   "outputs": [
    {
     "data": {
      "text/plain": [
       "array([0])"
      ]
     },
     "execution_count": 94,
     "metadata": {},
     "output_type": "execute_result"
    }
   ],
   "source": [
    "df_2025['Feb'].unique()"
   ]
  },
  {
   "cell_type": "code",
   "execution_count": 95,
   "metadata": {},
   "outputs": [
    {
     "data": {
      "text/plain": [
       "array(['US Plant', 'China Plants', 'Slovakia Plant', 'Mexico Plant',\n",
       "       'India Plant'], dtype=object)"
      ]
     },
     "execution_count": 95,
     "metadata": {},
     "output_type": "execute_result"
    }
   ],
   "source": [
    "# 기존 값과 변경할 값 매핑\n",
    "car_mapping = {\n",
    "\n",
    "    'model':'Model',\n",
    "    'path': 'Plant',\n",
    "\n",
    "}\n",
    "\n",
    "# 'Car' 컬럼 데이터 변경\n",
    "df_2025['Model'] = df_2025['model'].replace(car_mapping)\n",
    "df_2025['Plant'] = df_2025['path'].replace(car_mapping)\n",
    "\n",
    "\n",
    "# 변경된 데이터 확인\n",
    "df_2025['Model'].unique()\n",
    "df_2025['Plant'].unique()\n"
   ]
  },
  {
   "cell_type": "code",
   "execution_count": 96,
   "metadata": {},
   "outputs": [
    {
     "name": "stdout",
     "output_type": "stream",
     "text": [
      "Index(['Model', 'Plant', 'Jan', '연도'], dtype='object')\n"
     ]
    }
   ],
   "source": [
    "# 원하는 컬럼 순서 지정\n",
    "new_column_order = ['Model','Plant','Jan', '연도']\n",
    "\n",
    "# df_2025에서 실제 존재하는 컬럼만 필터링\n",
    "existing_columns = [col for col in new_column_order if col in df_2025.columns]\n",
    "\n",
    "# 컬럼 순서 변경\n",
    "df_2025 = df_2025[existing_columns]\n",
    "\n",
    "# 변경된 컬럼 확인\n",
    "print(df_2025.columns)"
   ]
  },
  {
   "cell_type": "code",
   "execution_count": 102,
   "metadata": {},
   "outputs": [],
   "source": [
    "df = pd.concat([df_2023, df_2024, df_2025], ignore_index=True)"
   ]
  },
  {
   "cell_type": "code",
   "execution_count": 103,
   "metadata": {},
   "outputs": [
    {
     "data": {
      "text/plain": [
       "Index(['Plant', 'Plant Code', 'Model', 'Jan', 'Feb', 'Mar', 'Apr', 'May',\n",
       "       'Jun', 'Jul', 'Aug', 'Sep', 'Oct', 'Nov', 'Dec', '연도'],\n",
       "      dtype='object')"
      ]
     },
     "execution_count": 103,
     "metadata": {},
     "output_type": "execute_result"
    }
   ],
   "source": [
    "df.columns"
   ]
  },
  {
   "cell_type": "code",
   "execution_count": 104,
   "metadata": {},
   "outputs": [
    {
     "data": {
      "text/plain": [
       "Index(['공장명(국가)', '공장 코드', '차종', '1월', '2월', '3월', '4월', '5월', '6월', '7월',\n",
       "       '8월', '9월', '10월', '11월', '12월', '연도'],\n",
       "      dtype='object')"
      ]
     },
     "execution_count": 104,
     "metadata": {},
     "output_type": "execute_result"
    }
   ],
   "source": [
    "# 기존 컬럼명과 변경할 컬럼명 매핑\n",
    "column_mapping = {\n",
    "    'Plant':'공장명(국가)',\n",
    "    'Plant Code': '공장 코드',\n",
    "    'Model': '차종',\n",
    "    'Jan': '1월',\n",
    "    'Feb': '2월',\n",
    "    'Mar': '3월',\n",
    "    'Apr': '4월',\n",
    "    'May': '5월',\n",
    "    'Jun': '6월',\n",
    "    'Jul': '7월',\n",
    "    'Aug': '8월',\n",
    "    'Sep': '9월',\n",
    "    'Oct': '10월',\n",
    "    'Nov': '11월',\n",
    "    'Dec': '12월'\n",
    "}\n",
    "\n",
    "# 컬럼명 변경\n",
    "df.columns = [column_mapping.get(col, col) for col in df.columns]\n",
    "\n",
    "# 변경된 컬럼명 확인\n",
    "df.columns"
   ]
  },
  {
   "cell_type": "code",
   "execution_count": 120,
   "metadata": {},
   "outputs": [
    {
     "data": {
      "text/plain": [
       "공장명(국가)     0\n",
       "공장 코드      29\n",
       "차종          0\n",
       "1월          6\n",
       "2월         33\n",
       "3월         33\n",
       "4월         33\n",
       "5월         34\n",
       "6월         33\n",
       "7월         33\n",
       "8월         32\n",
       "9월         33\n",
       "10월        32\n",
       "11월        33\n",
       "12월        33\n",
       "연도          0\n",
       "dtype: int64"
      ]
     },
     "execution_count": 120,
     "metadata": {},
     "output_type": "execute_result"
    }
   ],
   "source": [
    "df.isna().sum()"
   ]
  },
  {
   "cell_type": "code",
   "execution_count": 121,
   "metadata": {},
   "outputs": [],
   "source": [
    "df.fillna(0, inplace=True)"
   ]
  },
  {
   "cell_type": "code",
   "execution_count": 122,
   "metadata": {},
   "outputs": [
    {
     "data": {
      "text/plain": [
       "공장명(국가)    0\n",
       "공장 코드      0\n",
       "차종         0\n",
       "1월         0\n",
       "2월         0\n",
       "3월         0\n",
       "4월         0\n",
       "5월         0\n",
       "6월         0\n",
       "7월         0\n",
       "8월         0\n",
       "9월         0\n",
       "10월        0\n",
       "11월        0\n",
       "12월        0\n",
       "연도         0\n",
       "dtype: int64"
      ]
     },
     "execution_count": 122,
     "metadata": {},
     "output_type": "execute_result"
    }
   ],
   "source": [
    "df.isna().sum()"
   ]
  },
  {
   "cell_type": "code",
   "execution_count": 124,
   "metadata": {},
   "outputs": [],
   "source": [
    "df.to_csv(\"hyundai/현대_해외공장판매실적_전처리.CSV\", index=False)"
   ]
  },
  {
   "cell_type": "code",
   "execution_count": 94,
   "metadata": {},
   "outputs": [
    {
     "name": "stdout",
     "output_type": "stream",
     "text": [
      "df_2023 불러오기 성공 ✅\n",
      "df_2024 불러오기 성공 ✅\n",
      "df_2025 불러오기 성공 ✅\n"
     ]
    }
   ],
   "source": [
    "import os\n",
    "\n",
    "base_path = \"/Users/mi-yeonlim/Documents/Github/mini-project-2/data/raw/현대\"\n",
    "\n",
    "file_list = {\n",
    "    \"df_2023\": \"현지판매실적_2023.CSV\",\n",
    "    \"df_2024\": \"현지판매실적_2024.CSV\",\n",
    "    \"df_2025\": \"현지판매실적_2025.CSV\"\n",
    "}\n",
    "\n",
    "\n",
    "df = {}\n",
    "\n",
    "for name, file in file_list.items():\n",
    "    full_path = os.path.join(base_path, file)\n",
    "    if os.path.exists(full_path):\n",
    "        df[name] = pd.read_csv(full_path, encoding='utf-8-sig')\n",
    "        print(f\"{name} 불러오기 성공 ✅\")\n",
    "    else:\n",
    "        print(f\"{name} 파일 없음 ❌ → 경로 확인 필요: {full_path}\")"
   ]
  },
  {
   "cell_type": "code",
   "execution_count": 95,
   "metadata": {},
   "outputs": [],
   "source": [
    "df_2023 = df[\"df_2023\"]\n",
    "df_2024 = df[\"df_2024\"]\n",
    "df_2025 = df[\"df_2025\"]"
   ]
  },
  {
   "cell_type": "code",
   "execution_count": 96,
   "metadata": {},
   "outputs": [
    {
     "data": {
      "application/vnd.microsoft.datawrangler.viewer.v0+json": {
       "columns": [
        {
         "name": "index",
         "rawType": "int64",
         "type": "integer"
        },
        {
         "name": "Model",
         "rawType": "object",
         "type": "string"
        },
        {
         "name": "Plant",
         "rawType": "object",
         "type": "string"
        },
        {
         "name": "Month",
         "rawType": "object",
         "type": "string"
        },
        {
         "name": "U.S.A",
         "rawType": "float64",
         "type": "float"
        },
        {
         "name": "Canada",
         "rawType": "float64",
         "type": "float"
        },
        {
         "name": "Mexico",
         "rawType": "float64",
         "type": "float"
        },
        {
         "name": "Europe",
         "rawType": "float64",
         "type": "float"
        },
        {
         "name": "Eastern Europe",
         "rawType": "float64",
         "type": "float"
        },
        {
         "name": "Latin America",
         "rawType": "float64",
         "type": "float"
        },
        {
         "name": "Middle East",
         "rawType": "float64",
         "type": "float"
        },
        {
         "name": "Africa",
         "rawType": "float64",
         "type": "float"
        },
        {
         "name": "Asia Pacific",
         "rawType": "float64",
         "type": "float"
        },
        {
         "name": "India",
         "rawType": "float64",
         "type": "float"
        },
        {
         "name": "China",
         "rawType": "float64",
         "type": "float"
        }
       ],
       "conversionMethod": "pd.DataFrame",
       "ref": "a7673a6e-7cea-4aa0-9892-a283c4dd8c74",
       "rows": [
        [
         "0",
         "Morning / Picanto",
         "Korean Plant",
         "January",
         "0.0",
         "0.0",
         "0.0",
         "5518.0",
         "174.0",
         "1452.0",
         "1110.0",
         "1073.0",
         "459.0",
         "0.0",
         "0.0"
        ],
        [
         "1",
         "Pride / Rio",
         "Korean Plant",
         "January",
         "0.0",
         "0.0",
         "0.0",
         "3130.0",
         "61.0",
         "68.0",
         "347.0",
         "512.0",
         "608.0",
         "0.0",
         "0.0"
        ],
        [
         "2",
         "K3",
         "Korean Plant",
         "January",
         "0.0",
         "95.0",
         "57.0",
         "0.0",
         "171.0",
         "13.0",
         "175.0",
         "5.0",
         "333.0",
         "0.0",
         "0.0"
        ],
        [
         "3",
         "K5 / Optima",
         "Korean Plant",
         "January",
         "0.0",
         "0.0",
         "0.0",
         "0.0",
         "774.0",
         "0.0",
         "1116.0",
         "1.0",
         "3.0",
         "0.0",
         "0.0"
        ],
        [
         "4",
         "Stinger",
         "Korean Plant",
         "January",
         "466.0",
         "22.0",
         "10.0",
         "101.0",
         "10.0",
         "0.0",
         "0.0",
         "0.0",
         "180.0",
         "0.0",
         "0.0"
        ]
       ],
       "shape": {
        "columns": 14,
        "rows": 5
       }
      },
      "text/html": [
       "<div>\n",
       "<style scoped>\n",
       "    .dataframe tbody tr th:only-of-type {\n",
       "        vertical-align: middle;\n",
       "    }\n",
       "\n",
       "    .dataframe tbody tr th {\n",
       "        vertical-align: top;\n",
       "    }\n",
       "\n",
       "    .dataframe thead th {\n",
       "        text-align: right;\n",
       "    }\n",
       "</style>\n",
       "<table border=\"1\" class=\"dataframe\">\n",
       "  <thead>\n",
       "    <tr style=\"text-align: right;\">\n",
       "      <th></th>\n",
       "      <th>Model</th>\n",
       "      <th>Plant</th>\n",
       "      <th>Month</th>\n",
       "      <th>U.S.A</th>\n",
       "      <th>Canada</th>\n",
       "      <th>Mexico</th>\n",
       "      <th>Europe</th>\n",
       "      <th>Eastern Europe</th>\n",
       "      <th>Latin America</th>\n",
       "      <th>Middle East</th>\n",
       "      <th>Africa</th>\n",
       "      <th>Asia Pacific</th>\n",
       "      <th>India</th>\n",
       "      <th>China</th>\n",
       "    </tr>\n",
       "  </thead>\n",
       "  <tbody>\n",
       "    <tr>\n",
       "      <th>0</th>\n",
       "      <td>Morning / Picanto</td>\n",
       "      <td>Korean Plant</td>\n",
       "      <td>January</td>\n",
       "      <td>0.0</td>\n",
       "      <td>0.0</td>\n",
       "      <td>0.0</td>\n",
       "      <td>5518.0</td>\n",
       "      <td>174.0</td>\n",
       "      <td>1452.0</td>\n",
       "      <td>1110.0</td>\n",
       "      <td>1073.0</td>\n",
       "      <td>459.0</td>\n",
       "      <td>0.0</td>\n",
       "      <td>0.0</td>\n",
       "    </tr>\n",
       "    <tr>\n",
       "      <th>1</th>\n",
       "      <td>Pride / Rio</td>\n",
       "      <td>Korean Plant</td>\n",
       "      <td>January</td>\n",
       "      <td>0.0</td>\n",
       "      <td>0.0</td>\n",
       "      <td>0.0</td>\n",
       "      <td>3130.0</td>\n",
       "      <td>61.0</td>\n",
       "      <td>68.0</td>\n",
       "      <td>347.0</td>\n",
       "      <td>512.0</td>\n",
       "      <td>608.0</td>\n",
       "      <td>0.0</td>\n",
       "      <td>0.0</td>\n",
       "    </tr>\n",
       "    <tr>\n",
       "      <th>2</th>\n",
       "      <td>K3</td>\n",
       "      <td>Korean Plant</td>\n",
       "      <td>January</td>\n",
       "      <td>0.0</td>\n",
       "      <td>95.0</td>\n",
       "      <td>57.0</td>\n",
       "      <td>0.0</td>\n",
       "      <td>171.0</td>\n",
       "      <td>13.0</td>\n",
       "      <td>175.0</td>\n",
       "      <td>5.0</td>\n",
       "      <td>333.0</td>\n",
       "      <td>0.0</td>\n",
       "      <td>0.0</td>\n",
       "    </tr>\n",
       "    <tr>\n",
       "      <th>3</th>\n",
       "      <td>K5 / Optima</td>\n",
       "      <td>Korean Plant</td>\n",
       "      <td>January</td>\n",
       "      <td>0.0</td>\n",
       "      <td>0.0</td>\n",
       "      <td>0.0</td>\n",
       "      <td>0.0</td>\n",
       "      <td>774.0</td>\n",
       "      <td>0.0</td>\n",
       "      <td>1116.0</td>\n",
       "      <td>1.0</td>\n",
       "      <td>3.0</td>\n",
       "      <td>0.0</td>\n",
       "      <td>0.0</td>\n",
       "    </tr>\n",
       "    <tr>\n",
       "      <th>4</th>\n",
       "      <td>Stinger</td>\n",
       "      <td>Korean Plant</td>\n",
       "      <td>January</td>\n",
       "      <td>466.0</td>\n",
       "      <td>22.0</td>\n",
       "      <td>10.0</td>\n",
       "      <td>101.0</td>\n",
       "      <td>10.0</td>\n",
       "      <td>0.0</td>\n",
       "      <td>0.0</td>\n",
       "      <td>0.0</td>\n",
       "      <td>180.0</td>\n",
       "      <td>0.0</td>\n",
       "      <td>0.0</td>\n",
       "    </tr>\n",
       "  </tbody>\n",
       "</table>\n",
       "</div>"
      ],
      "text/plain": [
       "               Model         Plant    Month  U.S.A  Canada  Mexico  Europe  \\\n",
       "0  Morning / Picanto  Korean Plant  January    0.0     0.0     0.0  5518.0   \n",
       "1        Pride / Rio  Korean Plant  January    0.0     0.0     0.0  3130.0   \n",
       "2                 K3  Korean Plant  January    0.0    95.0    57.0     0.0   \n",
       "3        K5 / Optima  Korean Plant  January    0.0     0.0     0.0     0.0   \n",
       "4            Stinger  Korean Plant  January  466.0    22.0    10.0   101.0   \n",
       "\n",
       "   Eastern Europe  Latin America  Middle East  Africa  Asia Pacific  India  \\\n",
       "0           174.0         1452.0       1110.0  1073.0         459.0    0.0   \n",
       "1            61.0           68.0        347.0   512.0         608.0    0.0   \n",
       "2           171.0           13.0        175.0     5.0         333.0    0.0   \n",
       "3           774.0            0.0       1116.0     1.0           3.0    0.0   \n",
       "4            10.0            0.0          0.0     0.0         180.0    0.0   \n",
       "\n",
       "   China  \n",
       "0    0.0  \n",
       "1    0.0  \n",
       "2    0.0  \n",
       "3    0.0  \n",
       "4    0.0  "
      ]
     },
     "execution_count": 96,
     "metadata": {},
     "output_type": "execute_result"
    }
   ],
   "source": [
    "# 확인\n",
    "df_2023.head()"
   ]
  },
  {
   "cell_type": "code",
   "execution_count": 97,
   "metadata": {},
   "outputs": [],
   "source": [
    "df_2023[\"연도\"] = 2023"
   ]
  },
  {
   "cell_type": "code",
   "execution_count": 98,
   "metadata": {},
   "outputs": [
    {
     "data": {
      "application/vnd.microsoft.datawrangler.viewer.v0+json": {
       "columns": [
        {
         "name": "index",
         "rawType": "int64",
         "type": "integer"
        },
        {
         "name": "Model",
         "rawType": "object",
         "type": "string"
        },
        {
         "name": "Plant",
         "rawType": "object",
         "type": "string"
        },
        {
         "name": "Month",
         "rawType": "object",
         "type": "string"
        },
        {
         "name": "U.S.A",
         "rawType": "float64",
         "type": "float"
        },
        {
         "name": "Canada",
         "rawType": "float64",
         "type": "float"
        },
        {
         "name": "Mexico",
         "rawType": "float64",
         "type": "float"
        },
        {
         "name": "Europe",
         "rawType": "float64",
         "type": "float"
        },
        {
         "name": "Eastern Europe",
         "rawType": "float64",
         "type": "float"
        },
        {
         "name": "Latin America",
         "rawType": "float64",
         "type": "float"
        },
        {
         "name": "Middle East",
         "rawType": "float64",
         "type": "float"
        },
        {
         "name": "Africa",
         "rawType": "float64",
         "type": "float"
        },
        {
         "name": "Asia Pacific",
         "rawType": "float64",
         "type": "float"
        },
        {
         "name": "India",
         "rawType": "float64",
         "type": "float"
        },
        {
         "name": "China",
         "rawType": "float64",
         "type": "float"
        },
        {
         "name": "연도",
         "rawType": "int64",
         "type": "integer"
        }
       ],
       "conversionMethod": "pd.DataFrame",
       "ref": "0402a2e2-b588-4f70-9faa-2af2a17b5026",
       "rows": [
        [
         "0",
         "Morning / Picanto",
         "Korean Plant",
         "January",
         "0.0",
         "0.0",
         "0.0",
         "5518.0",
         "174.0",
         "1452.0",
         "1110.0",
         "1073.0",
         "459.0",
         "0.0",
         "0.0",
         "2023"
        ],
        [
         "1",
         "Pride / Rio",
         "Korean Plant",
         "January",
         "0.0",
         "0.0",
         "0.0",
         "3130.0",
         "61.0",
         "68.0",
         "347.0",
         "512.0",
         "608.0",
         "0.0",
         "0.0",
         "2023"
        ],
        [
         "2",
         "K3",
         "Korean Plant",
         "January",
         "0.0",
         "95.0",
         "57.0",
         "0.0",
         "171.0",
         "13.0",
         "175.0",
         "5.0",
         "333.0",
         "0.0",
         "0.0",
         "2023"
        ],
        [
         "3",
         "K5 / Optima",
         "Korean Plant",
         "January",
         "0.0",
         "0.0",
         "0.0",
         "0.0",
         "774.0",
         "0.0",
         "1116.0",
         "1.0",
         "3.0",
         "0.0",
         "0.0",
         "2023"
        ],
        [
         "4",
         "Stinger",
         "Korean Plant",
         "January",
         "466.0",
         "22.0",
         "10.0",
         "101.0",
         "10.0",
         "0.0",
         "0.0",
         "0.0",
         "180.0",
         "0.0",
         "0.0",
         "2023"
        ]
       ],
       "shape": {
        "columns": 15,
        "rows": 5
       }
      },
      "text/html": [
       "<div>\n",
       "<style scoped>\n",
       "    .dataframe tbody tr th:only-of-type {\n",
       "        vertical-align: middle;\n",
       "    }\n",
       "\n",
       "    .dataframe tbody tr th {\n",
       "        vertical-align: top;\n",
       "    }\n",
       "\n",
       "    .dataframe thead th {\n",
       "        text-align: right;\n",
       "    }\n",
       "</style>\n",
       "<table border=\"1\" class=\"dataframe\">\n",
       "  <thead>\n",
       "    <tr style=\"text-align: right;\">\n",
       "      <th></th>\n",
       "      <th>Model</th>\n",
       "      <th>Plant</th>\n",
       "      <th>Month</th>\n",
       "      <th>U.S.A</th>\n",
       "      <th>Canada</th>\n",
       "      <th>Mexico</th>\n",
       "      <th>Europe</th>\n",
       "      <th>Eastern Europe</th>\n",
       "      <th>Latin America</th>\n",
       "      <th>Middle East</th>\n",
       "      <th>Africa</th>\n",
       "      <th>Asia Pacific</th>\n",
       "      <th>India</th>\n",
       "      <th>China</th>\n",
       "      <th>연도</th>\n",
       "    </tr>\n",
       "  </thead>\n",
       "  <tbody>\n",
       "    <tr>\n",
       "      <th>0</th>\n",
       "      <td>Morning / Picanto</td>\n",
       "      <td>Korean Plant</td>\n",
       "      <td>January</td>\n",
       "      <td>0.0</td>\n",
       "      <td>0.0</td>\n",
       "      <td>0.0</td>\n",
       "      <td>5518.0</td>\n",
       "      <td>174.0</td>\n",
       "      <td>1452.0</td>\n",
       "      <td>1110.0</td>\n",
       "      <td>1073.0</td>\n",
       "      <td>459.0</td>\n",
       "      <td>0.0</td>\n",
       "      <td>0.0</td>\n",
       "      <td>2023</td>\n",
       "    </tr>\n",
       "    <tr>\n",
       "      <th>1</th>\n",
       "      <td>Pride / Rio</td>\n",
       "      <td>Korean Plant</td>\n",
       "      <td>January</td>\n",
       "      <td>0.0</td>\n",
       "      <td>0.0</td>\n",
       "      <td>0.0</td>\n",
       "      <td>3130.0</td>\n",
       "      <td>61.0</td>\n",
       "      <td>68.0</td>\n",
       "      <td>347.0</td>\n",
       "      <td>512.0</td>\n",
       "      <td>608.0</td>\n",
       "      <td>0.0</td>\n",
       "      <td>0.0</td>\n",
       "      <td>2023</td>\n",
       "    </tr>\n",
       "    <tr>\n",
       "      <th>2</th>\n",
       "      <td>K3</td>\n",
       "      <td>Korean Plant</td>\n",
       "      <td>January</td>\n",
       "      <td>0.0</td>\n",
       "      <td>95.0</td>\n",
       "      <td>57.0</td>\n",
       "      <td>0.0</td>\n",
       "      <td>171.0</td>\n",
       "      <td>13.0</td>\n",
       "      <td>175.0</td>\n",
       "      <td>5.0</td>\n",
       "      <td>333.0</td>\n",
       "      <td>0.0</td>\n",
       "      <td>0.0</td>\n",
       "      <td>2023</td>\n",
       "    </tr>\n",
       "    <tr>\n",
       "      <th>3</th>\n",
       "      <td>K5 / Optima</td>\n",
       "      <td>Korean Plant</td>\n",
       "      <td>January</td>\n",
       "      <td>0.0</td>\n",
       "      <td>0.0</td>\n",
       "      <td>0.0</td>\n",
       "      <td>0.0</td>\n",
       "      <td>774.0</td>\n",
       "      <td>0.0</td>\n",
       "      <td>1116.0</td>\n",
       "      <td>1.0</td>\n",
       "      <td>3.0</td>\n",
       "      <td>0.0</td>\n",
       "      <td>0.0</td>\n",
       "      <td>2023</td>\n",
       "    </tr>\n",
       "    <tr>\n",
       "      <th>4</th>\n",
       "      <td>Stinger</td>\n",
       "      <td>Korean Plant</td>\n",
       "      <td>January</td>\n",
       "      <td>466.0</td>\n",
       "      <td>22.0</td>\n",
       "      <td>10.0</td>\n",
       "      <td>101.0</td>\n",
       "      <td>10.0</td>\n",
       "      <td>0.0</td>\n",
       "      <td>0.0</td>\n",
       "      <td>0.0</td>\n",
       "      <td>180.0</td>\n",
       "      <td>0.0</td>\n",
       "      <td>0.0</td>\n",
       "      <td>2023</td>\n",
       "    </tr>\n",
       "  </tbody>\n",
       "</table>\n",
       "</div>"
      ],
      "text/plain": [
       "               Model         Plant    Month  U.S.A  Canada  Mexico  Europe  \\\n",
       "0  Morning / Picanto  Korean Plant  January    0.0     0.0     0.0  5518.0   \n",
       "1        Pride / Rio  Korean Plant  January    0.0     0.0     0.0  3130.0   \n",
       "2                 K3  Korean Plant  January    0.0    95.0    57.0     0.0   \n",
       "3        K5 / Optima  Korean Plant  January    0.0     0.0     0.0     0.0   \n",
       "4            Stinger  Korean Plant  January  466.0    22.0    10.0   101.0   \n",
       "\n",
       "   Eastern Europe  Latin America  Middle East  Africa  Asia Pacific  India  \\\n",
       "0           174.0         1452.0       1110.0  1073.0         459.0    0.0   \n",
       "1            61.0           68.0        347.0   512.0         608.0    0.0   \n",
       "2           171.0           13.0        175.0     5.0         333.0    0.0   \n",
       "3           774.0            0.0       1116.0     1.0           3.0    0.0   \n",
       "4            10.0            0.0          0.0     0.0         180.0    0.0   \n",
       "\n",
       "   China    연도  \n",
       "0    0.0  2023  \n",
       "1    0.0  2023  \n",
       "2    0.0  2023  \n",
       "3    0.0  2023  \n",
       "4    0.0  2023  "
      ]
     },
     "execution_count": 98,
     "metadata": {},
     "output_type": "execute_result"
    }
   ],
   "source": [
    "df_2023.head()"
   ]
  },
  {
   "cell_type": "code",
   "execution_count": 99,
   "metadata": {},
   "outputs": [
    {
     "data": {
      "application/vnd.microsoft.datawrangler.viewer.v0+json": {
       "columns": [
        {
         "name": "index",
         "rawType": "int64",
         "type": "integer"
        },
        {
         "name": "Model",
         "rawType": "object",
         "type": "string"
        },
        {
         "name": "Plant",
         "rawType": "object",
         "type": "string"
        },
        {
         "name": "Month",
         "rawType": "object",
         "type": "string"
        },
        {
         "name": "Korea",
         "rawType": "float64",
         "type": "float"
        },
        {
         "name": "U.S.A",
         "rawType": "float64",
         "type": "float"
        },
        {
         "name": "Canada",
         "rawType": "float64",
         "type": "float"
        },
        {
         "name": "Mexico",
         "rawType": "float64",
         "type": "float"
        },
        {
         "name": "*Europe",
         "rawType": "float64",
         "type": "float"
        },
        {
         "name": "Eastern Europe",
         "rawType": "float64",
         "type": "float"
        },
        {
         "name": "Latin America",
         "rawType": "float64",
         "type": "float"
        },
        {
         "name": "Middle East",
         "rawType": "float64",
         "type": "float"
        },
        {
         "name": "Africa",
         "rawType": "float64",
         "type": "float"
        },
        {
         "name": "Asia Pacific",
         "rawType": "float64",
         "type": "float"
        },
        {
         "name": "India",
         "rawType": "float64",
         "type": "float"
        },
        {
         "name": "China",
         "rawType": "float64",
         "type": "float"
        }
       ],
       "conversionMethod": "pd.DataFrame",
       "ref": "e0ee0f71-ea71-4f74-b16e-134b892ef4a6",
       "rows": [
        [
         "0",
         "Morning / Picanto",
         "Korea Plants",
         "January",
         "1214.0",
         "0.0",
         "0.0",
         "0.0",
         "4726.0",
         "68.0",
         "1564.0",
         "1274.0",
         "748.0",
         "315.0",
         "0.0",
         "0.0"
        ],
        [
         "1",
         "Pride / Rio",
         "Korea Plants",
         "January",
         "0.0",
         "0.0",
         "0.0",
         "0.0",
         "82.0",
         "2.0",
         "0.0",
         "148.0",
         "2.0",
         "0.0",
         "0.0",
         "0.0"
        ],
        [
         "2",
         "Ray",
         "Korea Plants",
         "January",
         "4020.0",
         "0.0",
         "0.0",
         "0.0",
         "0.0",
         "0.0",
         "0.0",
         "0.0",
         "0.0",
         "0.0",
         "0.0",
         "0.0"
        ],
        [
         "3",
         "Ray EV",
         "Korea Plants",
         "January",
         "110.0",
         "0.0",
         "0.0",
         "0.0",
         "0.0",
         "0.0",
         "0.0",
         "0.0",
         "0.0",
         "0.0",
         "0.0",
         "0.0"
        ],
        [
         "4",
         "K3",
         "Korea Plants",
         "January",
         "1419.0",
         "0.0",
         "9.0",
         "39.0",
         "0.0",
         "71.0",
         "10.0",
         "749.0",
         "104.0",
         "1030.0",
         "0.0",
         "0.0"
        ]
       ],
       "shape": {
        "columns": 15,
        "rows": 5
       }
      },
      "text/html": [
       "<div>\n",
       "<style scoped>\n",
       "    .dataframe tbody tr th:only-of-type {\n",
       "        vertical-align: middle;\n",
       "    }\n",
       "\n",
       "    .dataframe tbody tr th {\n",
       "        vertical-align: top;\n",
       "    }\n",
       "\n",
       "    .dataframe thead th {\n",
       "        text-align: right;\n",
       "    }\n",
       "</style>\n",
       "<table border=\"1\" class=\"dataframe\">\n",
       "  <thead>\n",
       "    <tr style=\"text-align: right;\">\n",
       "      <th></th>\n",
       "      <th>Model</th>\n",
       "      <th>Plant</th>\n",
       "      <th>Month</th>\n",
       "      <th>Korea</th>\n",
       "      <th>U.S.A</th>\n",
       "      <th>Canada</th>\n",
       "      <th>Mexico</th>\n",
       "      <th>*Europe</th>\n",
       "      <th>Eastern Europe</th>\n",
       "      <th>Latin America</th>\n",
       "      <th>Middle East</th>\n",
       "      <th>Africa</th>\n",
       "      <th>Asia Pacific</th>\n",
       "      <th>India</th>\n",
       "      <th>China</th>\n",
       "    </tr>\n",
       "  </thead>\n",
       "  <tbody>\n",
       "    <tr>\n",
       "      <th>0</th>\n",
       "      <td>Morning / Picanto</td>\n",
       "      <td>Korea Plants</td>\n",
       "      <td>January</td>\n",
       "      <td>1214.0</td>\n",
       "      <td>0.0</td>\n",
       "      <td>0.0</td>\n",
       "      <td>0.0</td>\n",
       "      <td>4726.0</td>\n",
       "      <td>68.0</td>\n",
       "      <td>1564.0</td>\n",
       "      <td>1274.0</td>\n",
       "      <td>748.0</td>\n",
       "      <td>315.0</td>\n",
       "      <td>0.0</td>\n",
       "      <td>0.0</td>\n",
       "    </tr>\n",
       "    <tr>\n",
       "      <th>1</th>\n",
       "      <td>Pride / Rio</td>\n",
       "      <td>Korea Plants</td>\n",
       "      <td>January</td>\n",
       "      <td>0.0</td>\n",
       "      <td>0.0</td>\n",
       "      <td>0.0</td>\n",
       "      <td>0.0</td>\n",
       "      <td>82.0</td>\n",
       "      <td>2.0</td>\n",
       "      <td>0.0</td>\n",
       "      <td>148.0</td>\n",
       "      <td>2.0</td>\n",
       "      <td>0.0</td>\n",
       "      <td>0.0</td>\n",
       "      <td>0.0</td>\n",
       "    </tr>\n",
       "    <tr>\n",
       "      <th>2</th>\n",
       "      <td>Ray</td>\n",
       "      <td>Korea Plants</td>\n",
       "      <td>January</td>\n",
       "      <td>4020.0</td>\n",
       "      <td>0.0</td>\n",
       "      <td>0.0</td>\n",
       "      <td>0.0</td>\n",
       "      <td>0.0</td>\n",
       "      <td>0.0</td>\n",
       "      <td>0.0</td>\n",
       "      <td>0.0</td>\n",
       "      <td>0.0</td>\n",
       "      <td>0.0</td>\n",
       "      <td>0.0</td>\n",
       "      <td>0.0</td>\n",
       "    </tr>\n",
       "    <tr>\n",
       "      <th>3</th>\n",
       "      <td>Ray EV</td>\n",
       "      <td>Korea Plants</td>\n",
       "      <td>January</td>\n",
       "      <td>110.0</td>\n",
       "      <td>0.0</td>\n",
       "      <td>0.0</td>\n",
       "      <td>0.0</td>\n",
       "      <td>0.0</td>\n",
       "      <td>0.0</td>\n",
       "      <td>0.0</td>\n",
       "      <td>0.0</td>\n",
       "      <td>0.0</td>\n",
       "      <td>0.0</td>\n",
       "      <td>0.0</td>\n",
       "      <td>0.0</td>\n",
       "    </tr>\n",
       "    <tr>\n",
       "      <th>4</th>\n",
       "      <td>K3</td>\n",
       "      <td>Korea Plants</td>\n",
       "      <td>January</td>\n",
       "      <td>1419.0</td>\n",
       "      <td>0.0</td>\n",
       "      <td>9.0</td>\n",
       "      <td>39.0</td>\n",
       "      <td>0.0</td>\n",
       "      <td>71.0</td>\n",
       "      <td>10.0</td>\n",
       "      <td>749.0</td>\n",
       "      <td>104.0</td>\n",
       "      <td>1030.0</td>\n",
       "      <td>0.0</td>\n",
       "      <td>0.0</td>\n",
       "    </tr>\n",
       "  </tbody>\n",
       "</table>\n",
       "</div>"
      ],
      "text/plain": [
       "               Model         Plant    Month   Korea  U.S.A  Canada  Mexico  \\\n",
       "0  Morning / Picanto  Korea Plants  January  1214.0    0.0     0.0     0.0   \n",
       "1        Pride / Rio  Korea Plants  January     0.0    0.0     0.0     0.0   \n",
       "2                Ray  Korea Plants  January  4020.0    0.0     0.0     0.0   \n",
       "3             Ray EV  Korea Plants  January   110.0    0.0     0.0     0.0   \n",
       "4                 K3  Korea Plants  January  1419.0    0.0     9.0    39.0   \n",
       "\n",
       "   *Europe  Eastern Europe  Latin America  Middle East  Africa  Asia Pacific  \\\n",
       "0   4726.0            68.0         1564.0       1274.0   748.0         315.0   \n",
       "1     82.0             2.0            0.0        148.0     2.0           0.0   \n",
       "2      0.0             0.0            0.0          0.0     0.0           0.0   \n",
       "3      0.0             0.0            0.0          0.0     0.0           0.0   \n",
       "4      0.0            71.0           10.0        749.0   104.0        1030.0   \n",
       "\n",
       "   India  China  \n",
       "0    0.0    0.0  \n",
       "1    0.0    0.0  \n",
       "2    0.0    0.0  \n",
       "3    0.0    0.0  \n",
       "4    0.0    0.0  "
      ]
     },
     "execution_count": 99,
     "metadata": {},
     "output_type": "execute_result"
    }
   ],
   "source": [
    "df_2024.head()"
   ]
  },
  {
   "cell_type": "code",
   "execution_count": 100,
   "metadata": {},
   "outputs": [],
   "source": [
    "df_2024[\"연도\"] = 2024"
   ]
  },
  {
   "cell_type": "code",
   "execution_count": 101,
   "metadata": {},
   "outputs": [
    {
     "data": {
      "application/vnd.microsoft.datawrangler.viewer.v0+json": {
       "columns": [
        {
         "name": "index",
         "rawType": "int64",
         "type": "integer"
        },
        {
         "name": "Model",
         "rawType": "object",
         "type": "string"
        },
        {
         "name": "Plant",
         "rawType": "object",
         "type": "string"
        },
        {
         "name": "Month",
         "rawType": "object",
         "type": "string"
        },
        {
         "name": "Korea",
         "rawType": "float64",
         "type": "float"
        },
        {
         "name": "U.S.A",
         "rawType": "float64",
         "type": "float"
        },
        {
         "name": "Canada",
         "rawType": "float64",
         "type": "float"
        },
        {
         "name": "Mexico",
         "rawType": "float64",
         "type": "float"
        },
        {
         "name": "*Europe",
         "rawType": "float64",
         "type": "float"
        },
        {
         "name": "Eastern Europe",
         "rawType": "float64",
         "type": "float"
        },
        {
         "name": "Latin America",
         "rawType": "float64",
         "type": "float"
        },
        {
         "name": "Middle East",
         "rawType": "float64",
         "type": "float"
        },
        {
         "name": "Africa",
         "rawType": "float64",
         "type": "float"
        },
        {
         "name": "Asia Pacific",
         "rawType": "float64",
         "type": "float"
        },
        {
         "name": "India",
         "rawType": "float64",
         "type": "float"
        },
        {
         "name": "China",
         "rawType": "float64",
         "type": "float"
        },
        {
         "name": "연도",
         "rawType": "int64",
         "type": "integer"
        }
       ],
       "conversionMethod": "pd.DataFrame",
       "ref": "01a5736b-7adf-465d-9b15-6f290f418001",
       "rows": [
        [
         "0",
         "Morning / Picanto",
         "Korea Plants",
         "January",
         "1214.0",
         "0.0",
         "0.0",
         "0.0",
         "4726.0",
         "68.0",
         "1564.0",
         "1274.0",
         "748.0",
         "315.0",
         "0.0",
         "0.0",
         "2024"
        ],
        [
         "1",
         "Pride / Rio",
         "Korea Plants",
         "January",
         "0.0",
         "0.0",
         "0.0",
         "0.0",
         "82.0",
         "2.0",
         "0.0",
         "148.0",
         "2.0",
         "0.0",
         "0.0",
         "0.0",
         "2024"
        ],
        [
         "2",
         "Ray",
         "Korea Plants",
         "January",
         "4020.0",
         "0.0",
         "0.0",
         "0.0",
         "0.0",
         "0.0",
         "0.0",
         "0.0",
         "0.0",
         "0.0",
         "0.0",
         "0.0",
         "2024"
        ],
        [
         "3",
         "Ray EV",
         "Korea Plants",
         "January",
         "110.0",
         "0.0",
         "0.0",
         "0.0",
         "0.0",
         "0.0",
         "0.0",
         "0.0",
         "0.0",
         "0.0",
         "0.0",
         "0.0",
         "2024"
        ],
        [
         "4",
         "K3",
         "Korea Plants",
         "January",
         "1419.0",
         "0.0",
         "9.0",
         "39.0",
         "0.0",
         "71.0",
         "10.0",
         "749.0",
         "104.0",
         "1030.0",
         "0.0",
         "0.0",
         "2024"
        ]
       ],
       "shape": {
        "columns": 16,
        "rows": 5
       }
      },
      "text/html": [
       "<div>\n",
       "<style scoped>\n",
       "    .dataframe tbody tr th:only-of-type {\n",
       "        vertical-align: middle;\n",
       "    }\n",
       "\n",
       "    .dataframe tbody tr th {\n",
       "        vertical-align: top;\n",
       "    }\n",
       "\n",
       "    .dataframe thead th {\n",
       "        text-align: right;\n",
       "    }\n",
       "</style>\n",
       "<table border=\"1\" class=\"dataframe\">\n",
       "  <thead>\n",
       "    <tr style=\"text-align: right;\">\n",
       "      <th></th>\n",
       "      <th>Model</th>\n",
       "      <th>Plant</th>\n",
       "      <th>Month</th>\n",
       "      <th>Korea</th>\n",
       "      <th>U.S.A</th>\n",
       "      <th>Canada</th>\n",
       "      <th>Mexico</th>\n",
       "      <th>*Europe</th>\n",
       "      <th>Eastern Europe</th>\n",
       "      <th>Latin America</th>\n",
       "      <th>Middle East</th>\n",
       "      <th>Africa</th>\n",
       "      <th>Asia Pacific</th>\n",
       "      <th>India</th>\n",
       "      <th>China</th>\n",
       "      <th>연도</th>\n",
       "    </tr>\n",
       "  </thead>\n",
       "  <tbody>\n",
       "    <tr>\n",
       "      <th>0</th>\n",
       "      <td>Morning / Picanto</td>\n",
       "      <td>Korea Plants</td>\n",
       "      <td>January</td>\n",
       "      <td>1214.0</td>\n",
       "      <td>0.0</td>\n",
       "      <td>0.0</td>\n",
       "      <td>0.0</td>\n",
       "      <td>4726.0</td>\n",
       "      <td>68.0</td>\n",
       "      <td>1564.0</td>\n",
       "      <td>1274.0</td>\n",
       "      <td>748.0</td>\n",
       "      <td>315.0</td>\n",
       "      <td>0.0</td>\n",
       "      <td>0.0</td>\n",
       "      <td>2024</td>\n",
       "    </tr>\n",
       "    <tr>\n",
       "      <th>1</th>\n",
       "      <td>Pride / Rio</td>\n",
       "      <td>Korea Plants</td>\n",
       "      <td>January</td>\n",
       "      <td>0.0</td>\n",
       "      <td>0.0</td>\n",
       "      <td>0.0</td>\n",
       "      <td>0.0</td>\n",
       "      <td>82.0</td>\n",
       "      <td>2.0</td>\n",
       "      <td>0.0</td>\n",
       "      <td>148.0</td>\n",
       "      <td>2.0</td>\n",
       "      <td>0.0</td>\n",
       "      <td>0.0</td>\n",
       "      <td>0.0</td>\n",
       "      <td>2024</td>\n",
       "    </tr>\n",
       "    <tr>\n",
       "      <th>2</th>\n",
       "      <td>Ray</td>\n",
       "      <td>Korea Plants</td>\n",
       "      <td>January</td>\n",
       "      <td>4020.0</td>\n",
       "      <td>0.0</td>\n",
       "      <td>0.0</td>\n",
       "      <td>0.0</td>\n",
       "      <td>0.0</td>\n",
       "      <td>0.0</td>\n",
       "      <td>0.0</td>\n",
       "      <td>0.0</td>\n",
       "      <td>0.0</td>\n",
       "      <td>0.0</td>\n",
       "      <td>0.0</td>\n",
       "      <td>0.0</td>\n",
       "      <td>2024</td>\n",
       "    </tr>\n",
       "    <tr>\n",
       "      <th>3</th>\n",
       "      <td>Ray EV</td>\n",
       "      <td>Korea Plants</td>\n",
       "      <td>January</td>\n",
       "      <td>110.0</td>\n",
       "      <td>0.0</td>\n",
       "      <td>0.0</td>\n",
       "      <td>0.0</td>\n",
       "      <td>0.0</td>\n",
       "      <td>0.0</td>\n",
       "      <td>0.0</td>\n",
       "      <td>0.0</td>\n",
       "      <td>0.0</td>\n",
       "      <td>0.0</td>\n",
       "      <td>0.0</td>\n",
       "      <td>0.0</td>\n",
       "      <td>2024</td>\n",
       "    </tr>\n",
       "    <tr>\n",
       "      <th>4</th>\n",
       "      <td>K3</td>\n",
       "      <td>Korea Plants</td>\n",
       "      <td>January</td>\n",
       "      <td>1419.0</td>\n",
       "      <td>0.0</td>\n",
       "      <td>9.0</td>\n",
       "      <td>39.0</td>\n",
       "      <td>0.0</td>\n",
       "      <td>71.0</td>\n",
       "      <td>10.0</td>\n",
       "      <td>749.0</td>\n",
       "      <td>104.0</td>\n",
       "      <td>1030.0</td>\n",
       "      <td>0.0</td>\n",
       "      <td>0.0</td>\n",
       "      <td>2024</td>\n",
       "    </tr>\n",
       "  </tbody>\n",
       "</table>\n",
       "</div>"
      ],
      "text/plain": [
       "               Model         Plant    Month   Korea  U.S.A  Canada  Mexico  \\\n",
       "0  Morning / Picanto  Korea Plants  January  1214.0    0.0     0.0     0.0   \n",
       "1        Pride / Rio  Korea Plants  January     0.0    0.0     0.0     0.0   \n",
       "2                Ray  Korea Plants  January  4020.0    0.0     0.0     0.0   \n",
       "3             Ray EV  Korea Plants  January   110.0    0.0     0.0     0.0   \n",
       "4                 K3  Korea Plants  January  1419.0    0.0     9.0    39.0   \n",
       "\n",
       "   *Europe  Eastern Europe  Latin America  Middle East  Africa  Asia Pacific  \\\n",
       "0   4726.0            68.0         1564.0       1274.0   748.0         315.0   \n",
       "1     82.0             2.0            0.0        148.0     2.0           0.0   \n",
       "2      0.0             0.0            0.0          0.0     0.0           0.0   \n",
       "3      0.0             0.0            0.0          0.0     0.0           0.0   \n",
       "4      0.0            71.0           10.0        749.0   104.0        1030.0   \n",
       "\n",
       "   India  China    연도  \n",
       "0    0.0    0.0  2024  \n",
       "1    0.0    0.0  2024  \n",
       "2    0.0    0.0  2024  \n",
       "3    0.0    0.0  2024  \n",
       "4    0.0    0.0  2024  "
      ]
     },
     "execution_count": 101,
     "metadata": {},
     "output_type": "execute_result"
    }
   ],
   "source": [
    "df_2024.head()"
   ]
  },
  {
   "cell_type": "code",
   "execution_count": 102,
   "metadata": {},
   "outputs": [
    {
     "data": {
      "application/vnd.microsoft.datawrangler.viewer.v0+json": {
       "columns": [
        {
         "name": "index",
         "rawType": "int64",
         "type": "integer"
        },
        {
         "name": "model",
         "rawType": "object",
         "type": "string"
        },
        {
         "name": "Plant",
         "rawType": "object",
         "type": "string"
        },
        {
         "name": "Month",
         "rawType": "object",
         "type": "string"
        },
        {
         "name": "Korea",
         "rawType": "object",
         "type": "string"
        },
        {
         "name": "U.S.A",
         "rawType": "object",
         "type": "string"
        },
        {
         "name": "Canada",
         "rawType": "object",
         "type": "string"
        },
        {
         "name": "Mexico",
         "rawType": "object",
         "type": "unknown"
        },
        {
         "name": "Europe",
         "rawType": "object",
         "type": "string"
        },
        {
         "name": "Eastern Europe",
         "rawType": "object",
         "type": "string"
        },
        {
         "name": "Latin America",
         "rawType": "object",
         "type": "string"
        },
        {
         "name": "Middle East",
         "rawType": "object",
         "type": "unknown"
        },
        {
         "name": "Africa",
         "rawType": "float64",
         "type": "float"
        },
        {
         "name": "Asia Pacific",
         "rawType": "object",
         "type": "string"
        },
        {
         "name": "India",
         "rawType": "object",
         "type": "string"
        },
        {
         "name": "China",
         "rawType": "object",
         "type": "string"
        }
       ],
       "conversionMethod": "pd.DataFrame",
       "ref": "6639b69a-ce6f-43d1-94d0-9f8feb388c21",
       "rows": [
        [
         "0",
         "Morning / Picanto",
         "Korea Plants",
         "Jan",
         "1,484",
         "0",
         "0",
         null,
         "6,380",
         "82",
         "1,440",
         "1,290",
         "515.0",
         "685",
         "0",
         "0"
        ],
        [
         "1",
         "Pride / Rio",
         "Korea Plants",
         "Jan",
         "0",
         "0",
         "0",
         null,
         "0",
         "0",
         "0",
         "0",
         "0.0",
         "1",
         "0",
         "0"
        ],
        [
         "2",
         "Ray",
         "Korea Plants",
         "Jan",
         "3,803",
         "0",
         "0",
         null,
         "0",
         "0",
         "0",
         null,
         null,
         "0",
         "0",
         "0"
        ],
        [
         "3",
         "Ray EV",
         "Korea Plants",
         "Jan",
         "73",
         "0",
         "0",
         null,
         "0",
         "0",
         "0",
         null,
         null,
         "0",
         "0",
         "0"
        ],
        [
         "4",
         "K3",
         "Korea Plants",
         "Jan",
         "0",
         "0",
         "5",
         "2",
         "0",
         "15",
         "5",
         "181",
         "70.0",
         "409",
         "0",
         "0"
        ]
       ],
       "shape": {
        "columns": 15,
        "rows": 5
       }
      },
      "text/html": [
       "<div>\n",
       "<style scoped>\n",
       "    .dataframe tbody tr th:only-of-type {\n",
       "        vertical-align: middle;\n",
       "    }\n",
       "\n",
       "    .dataframe tbody tr th {\n",
       "        vertical-align: top;\n",
       "    }\n",
       "\n",
       "    .dataframe thead th {\n",
       "        text-align: right;\n",
       "    }\n",
       "</style>\n",
       "<table border=\"1\" class=\"dataframe\">\n",
       "  <thead>\n",
       "    <tr style=\"text-align: right;\">\n",
       "      <th></th>\n",
       "      <th>model</th>\n",
       "      <th>Plant</th>\n",
       "      <th>Month</th>\n",
       "      <th>Korea</th>\n",
       "      <th>U.S.A</th>\n",
       "      <th>Canada</th>\n",
       "      <th>Mexico</th>\n",
       "      <th>Europe</th>\n",
       "      <th>Eastern Europe</th>\n",
       "      <th>Latin America</th>\n",
       "      <th>Middle East</th>\n",
       "      <th>Africa</th>\n",
       "      <th>Asia Pacific</th>\n",
       "      <th>India</th>\n",
       "      <th>China</th>\n",
       "    </tr>\n",
       "  </thead>\n",
       "  <tbody>\n",
       "    <tr>\n",
       "      <th>0</th>\n",
       "      <td>Morning / Picanto</td>\n",
       "      <td>Korea Plants</td>\n",
       "      <td>Jan</td>\n",
       "      <td>1,484</td>\n",
       "      <td>0</td>\n",
       "      <td>0</td>\n",
       "      <td>NaN</td>\n",
       "      <td>6,380</td>\n",
       "      <td>82</td>\n",
       "      <td>1,440</td>\n",
       "      <td>1,290</td>\n",
       "      <td>515.0</td>\n",
       "      <td>685</td>\n",
       "      <td>0</td>\n",
       "      <td>0</td>\n",
       "    </tr>\n",
       "    <tr>\n",
       "      <th>1</th>\n",
       "      <td>Pride / Rio</td>\n",
       "      <td>Korea Plants</td>\n",
       "      <td>Jan</td>\n",
       "      <td>0</td>\n",
       "      <td>0</td>\n",
       "      <td>0</td>\n",
       "      <td>NaN</td>\n",
       "      <td>0</td>\n",
       "      <td>0</td>\n",
       "      <td>0</td>\n",
       "      <td>0</td>\n",
       "      <td>0.0</td>\n",
       "      <td>1</td>\n",
       "      <td>0</td>\n",
       "      <td>0</td>\n",
       "    </tr>\n",
       "    <tr>\n",
       "      <th>2</th>\n",
       "      <td>Ray</td>\n",
       "      <td>Korea Plants</td>\n",
       "      <td>Jan</td>\n",
       "      <td>3,803</td>\n",
       "      <td>0</td>\n",
       "      <td>0</td>\n",
       "      <td>NaN</td>\n",
       "      <td>0</td>\n",
       "      <td>0</td>\n",
       "      <td>0</td>\n",
       "      <td>NaN</td>\n",
       "      <td>NaN</td>\n",
       "      <td>0</td>\n",
       "      <td>0</td>\n",
       "      <td>0</td>\n",
       "    </tr>\n",
       "    <tr>\n",
       "      <th>3</th>\n",
       "      <td>Ray EV</td>\n",
       "      <td>Korea Plants</td>\n",
       "      <td>Jan</td>\n",
       "      <td>73</td>\n",
       "      <td>0</td>\n",
       "      <td>0</td>\n",
       "      <td>NaN</td>\n",
       "      <td>0</td>\n",
       "      <td>0</td>\n",
       "      <td>0</td>\n",
       "      <td>NaN</td>\n",
       "      <td>NaN</td>\n",
       "      <td>0</td>\n",
       "      <td>0</td>\n",
       "      <td>0</td>\n",
       "    </tr>\n",
       "    <tr>\n",
       "      <th>4</th>\n",
       "      <td>K3</td>\n",
       "      <td>Korea Plants</td>\n",
       "      <td>Jan</td>\n",
       "      <td>0</td>\n",
       "      <td>0</td>\n",
       "      <td>5</td>\n",
       "      <td>2</td>\n",
       "      <td>0</td>\n",
       "      <td>15</td>\n",
       "      <td>5</td>\n",
       "      <td>181</td>\n",
       "      <td>70.0</td>\n",
       "      <td>409</td>\n",
       "      <td>0</td>\n",
       "      <td>0</td>\n",
       "    </tr>\n",
       "  </tbody>\n",
       "</table>\n",
       "</div>"
      ],
      "text/plain": [
       "               model         Plant Month  Korea U.S.A Canada Mexico Europe  \\\n",
       "0  Morning / Picanto  Korea Plants   Jan  1,484     0      0    NaN  6,380   \n",
       "1        Pride / Rio  Korea Plants   Jan      0     0      0    NaN      0   \n",
       "2                Ray  Korea Plants   Jan  3,803     0      0    NaN      0   \n",
       "3             Ray EV  Korea Plants   Jan     73     0      0    NaN      0   \n",
       "4                 K3  Korea Plants   Jan      0     0      5      2      0   \n",
       "\n",
       "  Eastern Europe Latin America Middle East  Africa Asia Pacific India China  \n",
       "0             82         1,440       1,290   515.0          685     0     0  \n",
       "1              0             0           0     0.0            1     0     0  \n",
       "2              0             0         NaN     NaN            0     0     0  \n",
       "3              0             0         NaN     NaN            0     0     0  \n",
       "4             15             5         181    70.0          409     0     0  "
      ]
     },
     "execution_count": 102,
     "metadata": {},
     "output_type": "execute_result"
    }
   ],
   "source": [
    "df_2025.head()"
   ]
  },
  {
   "cell_type": "code",
   "execution_count": 103,
   "metadata": {},
   "outputs": [],
   "source": [
    "df_2025[\"연도\"] = 2025"
   ]
  },
  {
   "cell_type": "code",
   "execution_count": 104,
   "metadata": {},
   "outputs": [
    {
     "data": {
      "application/vnd.microsoft.datawrangler.viewer.v0+json": {
       "columns": [
        {
         "name": "index",
         "rawType": "int64",
         "type": "integer"
        },
        {
         "name": "model",
         "rawType": "object",
         "type": "string"
        },
        {
         "name": "Plant",
         "rawType": "object",
         "type": "string"
        },
        {
         "name": "Month",
         "rawType": "object",
         "type": "string"
        },
        {
         "name": "Korea",
         "rawType": "object",
         "type": "string"
        },
        {
         "name": "U.S.A",
         "rawType": "object",
         "type": "string"
        },
        {
         "name": "Canada",
         "rawType": "object",
         "type": "string"
        },
        {
         "name": "Mexico",
         "rawType": "object",
         "type": "unknown"
        },
        {
         "name": "Europe",
         "rawType": "object",
         "type": "string"
        },
        {
         "name": "Eastern Europe",
         "rawType": "object",
         "type": "string"
        },
        {
         "name": "Latin America",
         "rawType": "object",
         "type": "string"
        },
        {
         "name": "Middle East",
         "rawType": "object",
         "type": "unknown"
        },
        {
         "name": "Africa",
         "rawType": "float64",
         "type": "float"
        },
        {
         "name": "Asia Pacific",
         "rawType": "object",
         "type": "string"
        },
        {
         "name": "India",
         "rawType": "object",
         "type": "string"
        },
        {
         "name": "China",
         "rawType": "object",
         "type": "string"
        },
        {
         "name": "연도",
         "rawType": "int64",
         "type": "integer"
        }
       ],
       "conversionMethod": "pd.DataFrame",
       "ref": "d19e7695-9b19-45ad-8770-f488da754753",
       "rows": [
        [
         "0",
         "Morning / Picanto",
         "Korea Plants",
         "Jan",
         "1,484",
         "0",
         "0",
         null,
         "6,380",
         "82",
         "1,440",
         "1,290",
         "515.0",
         "685",
         "0",
         "0",
         "2025"
        ],
        [
         "1",
         "Pride / Rio",
         "Korea Plants",
         "Jan",
         "0",
         "0",
         "0",
         null,
         "0",
         "0",
         "0",
         "0",
         "0.0",
         "1",
         "0",
         "0",
         "2025"
        ],
        [
         "2",
         "Ray",
         "Korea Plants",
         "Jan",
         "3,803",
         "0",
         "0",
         null,
         "0",
         "0",
         "0",
         null,
         null,
         "0",
         "0",
         "0",
         "2025"
        ],
        [
         "3",
         "Ray EV",
         "Korea Plants",
         "Jan",
         "73",
         "0",
         "0",
         null,
         "0",
         "0",
         "0",
         null,
         null,
         "0",
         "0",
         "0",
         "2025"
        ],
        [
         "4",
         "K3",
         "Korea Plants",
         "Jan",
         "0",
         "0",
         "5",
         "2",
         "0",
         "15",
         "5",
         "181",
         "70.0",
         "409",
         "0",
         "0",
         "2025"
        ]
       ],
       "shape": {
        "columns": 16,
        "rows": 5
       }
      },
      "text/html": [
       "<div>\n",
       "<style scoped>\n",
       "    .dataframe tbody tr th:only-of-type {\n",
       "        vertical-align: middle;\n",
       "    }\n",
       "\n",
       "    .dataframe tbody tr th {\n",
       "        vertical-align: top;\n",
       "    }\n",
       "\n",
       "    .dataframe thead th {\n",
       "        text-align: right;\n",
       "    }\n",
       "</style>\n",
       "<table border=\"1\" class=\"dataframe\">\n",
       "  <thead>\n",
       "    <tr style=\"text-align: right;\">\n",
       "      <th></th>\n",
       "      <th>model</th>\n",
       "      <th>Plant</th>\n",
       "      <th>Month</th>\n",
       "      <th>Korea</th>\n",
       "      <th>U.S.A</th>\n",
       "      <th>Canada</th>\n",
       "      <th>Mexico</th>\n",
       "      <th>Europe</th>\n",
       "      <th>Eastern Europe</th>\n",
       "      <th>Latin America</th>\n",
       "      <th>Middle East</th>\n",
       "      <th>Africa</th>\n",
       "      <th>Asia Pacific</th>\n",
       "      <th>India</th>\n",
       "      <th>China</th>\n",
       "      <th>연도</th>\n",
       "    </tr>\n",
       "  </thead>\n",
       "  <tbody>\n",
       "    <tr>\n",
       "      <th>0</th>\n",
       "      <td>Morning / Picanto</td>\n",
       "      <td>Korea Plants</td>\n",
       "      <td>Jan</td>\n",
       "      <td>1,484</td>\n",
       "      <td>0</td>\n",
       "      <td>0</td>\n",
       "      <td>NaN</td>\n",
       "      <td>6,380</td>\n",
       "      <td>82</td>\n",
       "      <td>1,440</td>\n",
       "      <td>1,290</td>\n",
       "      <td>515.0</td>\n",
       "      <td>685</td>\n",
       "      <td>0</td>\n",
       "      <td>0</td>\n",
       "      <td>2025</td>\n",
       "    </tr>\n",
       "    <tr>\n",
       "      <th>1</th>\n",
       "      <td>Pride / Rio</td>\n",
       "      <td>Korea Plants</td>\n",
       "      <td>Jan</td>\n",
       "      <td>0</td>\n",
       "      <td>0</td>\n",
       "      <td>0</td>\n",
       "      <td>NaN</td>\n",
       "      <td>0</td>\n",
       "      <td>0</td>\n",
       "      <td>0</td>\n",
       "      <td>0</td>\n",
       "      <td>0.0</td>\n",
       "      <td>1</td>\n",
       "      <td>0</td>\n",
       "      <td>0</td>\n",
       "      <td>2025</td>\n",
       "    </tr>\n",
       "    <tr>\n",
       "      <th>2</th>\n",
       "      <td>Ray</td>\n",
       "      <td>Korea Plants</td>\n",
       "      <td>Jan</td>\n",
       "      <td>3,803</td>\n",
       "      <td>0</td>\n",
       "      <td>0</td>\n",
       "      <td>NaN</td>\n",
       "      <td>0</td>\n",
       "      <td>0</td>\n",
       "      <td>0</td>\n",
       "      <td>NaN</td>\n",
       "      <td>NaN</td>\n",
       "      <td>0</td>\n",
       "      <td>0</td>\n",
       "      <td>0</td>\n",
       "      <td>2025</td>\n",
       "    </tr>\n",
       "    <tr>\n",
       "      <th>3</th>\n",
       "      <td>Ray EV</td>\n",
       "      <td>Korea Plants</td>\n",
       "      <td>Jan</td>\n",
       "      <td>73</td>\n",
       "      <td>0</td>\n",
       "      <td>0</td>\n",
       "      <td>NaN</td>\n",
       "      <td>0</td>\n",
       "      <td>0</td>\n",
       "      <td>0</td>\n",
       "      <td>NaN</td>\n",
       "      <td>NaN</td>\n",
       "      <td>0</td>\n",
       "      <td>0</td>\n",
       "      <td>0</td>\n",
       "      <td>2025</td>\n",
       "    </tr>\n",
       "    <tr>\n",
       "      <th>4</th>\n",
       "      <td>K3</td>\n",
       "      <td>Korea Plants</td>\n",
       "      <td>Jan</td>\n",
       "      <td>0</td>\n",
       "      <td>0</td>\n",
       "      <td>5</td>\n",
       "      <td>2</td>\n",
       "      <td>0</td>\n",
       "      <td>15</td>\n",
       "      <td>5</td>\n",
       "      <td>181</td>\n",
       "      <td>70.0</td>\n",
       "      <td>409</td>\n",
       "      <td>0</td>\n",
       "      <td>0</td>\n",
       "      <td>2025</td>\n",
       "    </tr>\n",
       "  </tbody>\n",
       "</table>\n",
       "</div>"
      ],
      "text/plain": [
       "               model         Plant Month  Korea U.S.A Canada Mexico Europe  \\\n",
       "0  Morning / Picanto  Korea Plants   Jan  1,484     0      0    NaN  6,380   \n",
       "1        Pride / Rio  Korea Plants   Jan      0     0      0    NaN      0   \n",
       "2                Ray  Korea Plants   Jan  3,803     0      0    NaN      0   \n",
       "3             Ray EV  Korea Plants   Jan     73     0      0    NaN      0   \n",
       "4                 K3  Korea Plants   Jan      0     0      5      2      0   \n",
       "\n",
       "  Eastern Europe Latin America Middle East  Africa Asia Pacific India China  \\\n",
       "0             82         1,440       1,290   515.0          685     0     0   \n",
       "1              0             0           0     0.0            1     0     0   \n",
       "2              0             0         NaN     NaN            0     0     0   \n",
       "3              0             0         NaN     NaN            0     0     0   \n",
       "4             15             5         181    70.0          409     0     0   \n",
       "\n",
       "     연도  \n",
       "0  2025  \n",
       "1  2025  \n",
       "2  2025  \n",
       "3  2025  \n",
       "4  2025  "
      ]
     },
     "execution_count": 104,
     "metadata": {},
     "output_type": "execute_result"
    }
   ],
   "source": [
    "df_2025.head()"
   ]
  },
  {
   "cell_type": "code",
   "execution_count": null,
   "metadata": {},
   "outputs": [],
   "source": []
  },
  {
   "cell_type": "code",
   "execution_count": 105,
   "metadata": {},
   "outputs": [
    {
     "data": {
      "text/plain": [
       "array(['Morning / Picanto', 'Pride / Rio', 'Ray', 'Ray EV', 'K3',\n",
       "       'K5 / Optima', 'Stinger', 'K7,8 / Cadenza', 'K9', 'Stonic',\n",
       "       'Seltos', 'Soul', 'Soul EV', 'Niro', 'Niro EV', 'Niro Plus',\n",
       "       'Niro Plus EV', 'EV3', 'EV4', 'EV5', 'EV6', 'EV9', 'Sportage',\n",
       "       'Sorento', 'Mohave / Borrego', 'Carnival / Sedona', 'Tasman',\n",
       "       'Bongo / Frontier', 'Bongo EV', 'Bus', 'PV5', 'Optima / K5',\n",
       "       'Telluride', 'EV2', \"Cee'd\", \"Cee'd CUV\", 'Pride / Rio (SC)',\n",
       "       'Pride / Rio (FB)', 'Pegas', 'Forte', 'KX1', 'Sonet',\n",
       "       'KX3 / Seltos', 'Zhipao', 'Carnival', 'Syros', 'Carens MPV',\n",
       "       'Carens MPV EV', 'Carnival (CKD)', 'K4', 'K7, K8 / Cadenza',\n",
       "       'Bongo', 'Millitary', 'Tasman (CKD)', 'Bongo (CKD)',\n",
       "       'Millitary (CKD)', 'Bus (CKD)'], dtype=object)"
      ]
     },
     "execution_count": 105,
     "metadata": {},
     "output_type": "execute_result"
    }
   ],
   "source": [
    "# 기존 값과 변경할 값 매핑\n",
    "car_mapping = {\n",
    "\n",
    "    'model':'Model',\n",
    "\n",
    "}\n",
    "\n",
    "# 'Car' 컬럼 데이터 변경\n",
    "df_2025['Model'] = df_2025['model'].replace(car_mapping)\n",
    "\n",
    "\n",
    "# 변경된 데이터 확인\n",
    "df_2025['Model'].unique()"
   ]
  },
  {
   "cell_type": "code",
   "execution_count": 106,
   "metadata": {},
   "outputs": [],
   "source": [
    "df_2025 = df_2025.drop(columns=['model'])"
   ]
  },
  {
   "cell_type": "code",
   "execution_count": 107,
   "metadata": {},
   "outputs": [
    {
     "data": {
      "text/plain": [
       "Index(['Model', 'Plant', 'Month', 'U.S.A', 'Canada', 'Mexico', 'Europe',\n",
       "       'Eastern Europe', 'Latin America', 'Middle East', 'Africa',\n",
       "       'Asia Pacific', 'India', 'China', '연도'],\n",
       "      dtype='object')"
      ]
     },
     "execution_count": 107,
     "metadata": {},
     "output_type": "execute_result"
    }
   ],
   "source": [
    "df_2023.columns"
   ]
  },
  {
   "cell_type": "code",
   "execution_count": 108,
   "metadata": {},
   "outputs": [
    {
     "data": {
      "text/plain": [
       "Index(['Model', 'Plant', 'Month', 'Korea', 'U.S.A', 'Canada', 'Mexico',\n",
       "       '*Europe', 'Eastern Europe', 'Latin America', 'Middle East', 'Africa',\n",
       "       'Asia Pacific', 'India', 'China', '연도'],\n",
       "      dtype='object')"
      ]
     },
     "execution_count": 108,
     "metadata": {},
     "output_type": "execute_result"
    }
   ],
   "source": [
    "df_2024.columns"
   ]
  },
  {
   "cell_type": "code",
   "execution_count": 109,
   "metadata": {},
   "outputs": [
    {
     "data": {
      "text/plain": [
       "Index(['Plant', 'Month', 'Korea', 'U.S.A', 'Canada', 'Mexico', 'Europe',\n",
       "       'Eastern Europe', 'Latin America', 'Middle East', 'Africa',\n",
       "       'Asia Pacific', 'India', 'China', '연도', 'Model'],\n",
       "      dtype='object')"
      ]
     },
     "execution_count": 109,
     "metadata": {},
     "output_type": "execute_result"
    }
   ],
   "source": [
    "df_2025.columns"
   ]
  },
  {
   "cell_type": "code",
   "execution_count": 110,
   "metadata": {},
   "outputs": [
    {
     "name": "stdout",
     "output_type": "stream",
     "text": [
      "Index(['Plant', 'Month', 'Korea', 'U.S.A', 'Canada', 'Mexico', 'Europe',\n",
      "       'Eastern Europe', 'Latin America', 'Middle East', 'Africa',\n",
      "       'Asia Pacific', 'India', 'China', '연도'],\n",
      "      dtype='object')\n"
     ]
    }
   ],
   "source": [
    "# 원하는 컬럼 순서 지정\n",
    "new_column_order = ['Plant', 'Month', 'Korea', 'U.S.A', 'Canada', 'Mexico', 'Europe',\n",
    "       'Eastern Europe', 'Latin America', 'Middle East', 'Africa',\n",
    "       'Asia Pacific', 'India', 'China', '연도']\n",
    "\n",
    "# df_2025에서 실제 존재하는 컬럼만 필터링\n",
    "existing_columns = [col for col in new_column_order if col in df_2025.columns]\n",
    "\n",
    "# 컬럼 순서 변경\n",
    "df_2025 = df_2025[existing_columns]\n",
    "\n",
    "# 변경된 컬럼 확인\n",
    "print(df_2025.columns)"
   ]
  },
  {
   "cell_type": "code",
   "execution_count": 111,
   "metadata": {},
   "outputs": [],
   "source": [
    "columns_order = ['Model', 'Plant', 'Month', 'Korea', 'U.S.A', 'Canada', 'Mexico',\n",
    "                 'Europe', 'Eastern Europe', 'Latin America', 'Middle East', 'Africa',\n",
    "                 'Asia Pacific', 'India', 'China', '연도']"
   ]
  },
  {
   "cell_type": "code",
   "execution_count": 112,
   "metadata": {},
   "outputs": [],
   "source": [
    "df_2024.columns = df_2024.columns.str.replace(r'\\*', '', regex=True)"
   ]
  },
  {
   "cell_type": "code",
   "execution_count": 113,
   "metadata": {},
   "outputs": [],
   "source": [
    "# 필요한 컬럼 리스트\n",
    "columns_order = ['Model', 'Plant', 'Month', 'Korea', 'U.S.A', 'Canada', 'Mexico',\n",
    "                 'Europe', 'Eastern Europe', 'Latin America', 'Middle East', 'Africa',\n",
    "                 'Asia Pacific', 'India', 'China', '연도']\n",
    "\n",
    "# 'Korea' 컬럼이 없는 경우 0으로 채워서 추가\n",
    "for df in [df_2023, df_2024, df_2025]:\n",
    "    for col in columns_order:\n",
    "        if col not in df.columns:\n",
    "            df[col] = 0\n"
   ]
  },
  {
   "cell_type": "code",
   "execution_count": 114,
   "metadata": {},
   "outputs": [],
   "source": [
    "df_2023 = df_2023[columns_order]\n",
    "df_2024 = df_2024[columns_order]\n",
    "df_2025 = df_2025[columns_order]"
   ]
  },
  {
   "cell_type": "code",
   "execution_count": 115,
   "metadata": {},
   "outputs": [],
   "source": [
    "df = pd.concat([df_2023, df_2024, df_2025], ignore_index=True)"
   ]
  },
  {
   "cell_type": "code",
   "execution_count": 116,
   "metadata": {},
   "outputs": [
    {
     "data": {
      "text/plain": [
       "Index(['Model', 'Plant', 'Month', 'Korea', 'U.S.A', 'Canada', 'Mexico',\n",
       "       'Europe', 'Eastern Europe', 'Latin America', 'Middle East', 'Africa',\n",
       "       'Asia Pacific', 'India', 'China', '연도'],\n",
       "      dtype='object')"
      ]
     },
     "execution_count": 116,
     "metadata": {},
     "output_type": "execute_result"
    }
   ],
   "source": [
    "df.columns"
   ]
  },
  {
   "cell_type": "code",
   "execution_count": 117,
   "metadata": {},
   "outputs": [
    {
     "data": {
      "text/plain": [
       "Model               0\n",
       "Plant               0\n",
       "Month               0\n",
       "Korea               9\n",
       "U.S.A              65\n",
       "Canada            120\n",
       "Mexico            388\n",
       "Europe             47\n",
       "Eastern Europe     49\n",
       "Latin America      50\n",
       "Middle East        89\n",
       "Africa             89\n",
       "Asia Pacific       65\n",
       "India              25\n",
       "China              25\n",
       "연도                  0\n",
       "dtype: int64"
      ]
     },
     "execution_count": 117,
     "metadata": {},
     "output_type": "execute_result"
    }
   ],
   "source": [
    "df.isna().sum()"
   ]
  },
  {
   "cell_type": "code",
   "execution_count": 118,
   "metadata": {},
   "outputs": [],
   "source": [
    "df.fillna(0, inplace=True)"
   ]
  },
  {
   "cell_type": "code",
   "execution_count": 119,
   "metadata": {},
   "outputs": [
    {
     "data": {
      "text/plain": [
       "Model             0\n",
       "Plant             0\n",
       "Month             0\n",
       "Korea             0\n",
       "U.S.A             0\n",
       "Canada            0\n",
       "Mexico            0\n",
       "Europe            0\n",
       "Eastern Europe    0\n",
       "Latin America     0\n",
       "Middle East       0\n",
       "Africa            0\n",
       "Asia Pacific      0\n",
       "India             0\n",
       "China             0\n",
       "연도                0\n",
       "dtype: int64"
      ]
     },
     "execution_count": 119,
     "metadata": {},
     "output_type": "execute_result"
    }
   ],
   "source": [
    "df.isna().sum()"
   ]
  },
  {
   "cell_type": "code",
   "execution_count": 120,
   "metadata": {},
   "outputs": [
    {
     "data": {
      "text/plain": [
       "Index(['Model', 'Plant', 'Month', 'Korea', 'U.S.A', 'Canada', 'Mexico',\n",
       "       'Europe', 'Eastern Europe', 'Latin America', 'Middle East', 'Africa',\n",
       "       'Asia Pacific', 'India', 'China', '연도'],\n",
       "      dtype='object')"
      ]
     },
     "execution_count": 120,
     "metadata": {},
     "output_type": "execute_result"
    }
   ],
   "source": [
    "df.columns"
   ]
  },
  {
   "cell_type": "code",
   "execution_count": 122,
   "metadata": {},
   "outputs": [
    {
     "data": {
      "text/plain": [
       "Index(['차종', '공장명(국가)', '월', 'Korea', 'U.S.A', 'Canada', 'Mexico', 'Europe',\n",
       "       'Eastern Europe', 'Latin America', 'Middle East', 'Africa',\n",
       "       'Asia Pacific', 'India', 'China', '연도'],\n",
       "      dtype='object')"
      ]
     },
     "execution_count": 122,
     "metadata": {},
     "output_type": "execute_result"
    }
   ],
   "source": [
    "# 기존 컬럼명과 변경할 컬럼명 매핑\n",
    "column_mapping = {\n",
    "    'Model': '차종',\n",
    "    'Plant':'공장명(국가)',\n",
    "    'Month': '월'\n",
    "}\n",
    "\n",
    "# 컬럼명 변경\n",
    "df.columns = [column_mapping.get(col, col) for col in df.columns]\n",
    "\n",
    "# 변경된 컬럼명 확인\n",
    "df.columns"
   ]
  },
  {
   "cell_type": "code",
   "execution_count": 123,
   "metadata": {},
   "outputs": [
    {
     "data": {
      "text/plain": [
       "array(['January', 'Febuary', 'March', 'April', 'May', 'June', 'July',\n",
       "       'August', 'September', 'October', 'November', 'December', 'Jan'],\n",
       "      dtype=object)"
      ]
     },
     "execution_count": 123,
     "metadata": {},
     "output_type": "execute_result"
    }
   ],
   "source": [
    "df['월'].unique()"
   ]
  },
  {
   "cell_type": "code",
   "execution_count": 124,
   "metadata": {},
   "outputs": [],
   "source": [
    "# 영어 월 → 한글 '1월', '2월' 형태로 변환\n",
    "month_eng_to_kor = {\n",
    "    'January': '1월', 'Jan': '1월',\n",
    "    'February': '2월', 'Febuary': '2월',  # 오타도 처리\n",
    "    'March': '3월',\n",
    "    'April': '4월',\n",
    "    'May': '5월',\n",
    "    'June': '6월',\n",
    "    'July': '7월',\n",
    "    'August': '8월',\n",
    "    'September': '9월',\n",
    "    'October': '10월',\n",
    "    'November': '11월',\n",
    "    'December': '12월'\n",
    "}\n",
    "\n",
    "\n",
    "df['월'] = df['월'].map(month_eng_to_kor)"
   ]
  },
  {
   "cell_type": "code",
   "execution_count": 125,
   "metadata": {},
   "outputs": [
    {
     "data": {
      "text/plain": [
       "array(['1월', '2월', '3월', '4월', '5월', '6월', '7월', '8월', '9월', '10월', '11월',\n",
       "       '12월'], dtype=object)"
      ]
     },
     "execution_count": 125,
     "metadata": {},
     "output_type": "execute_result"
    }
   ],
   "source": [
    "df['월'].unique()"
   ]
  },
  {
   "cell_type": "code",
   "execution_count": 128,
   "metadata": {},
   "outputs": [],
   "source": [
    "df.to_csv(\"/Users/mi-yeonlim/Documents/Github/mini-project-2/data/processed/현대_해외현지판매_전처리.CSV\", index=False, encoding='utf-8-sig')"
   ]
  },
  {
   "cell_type": "code",
   "execution_count": 129,
   "metadata": {},
   "outputs": [
    {
     "data": {
      "application/vnd.microsoft.datawrangler.viewer.v0+json": {
       "columns": [
        {
         "name": "index",
         "rawType": "int64",
         "type": "integer"
        },
        {
         "name": "차종",
         "rawType": "object",
         "type": "string"
        },
        {
         "name": "공장명(국가)",
         "rawType": "object",
         "type": "string"
        },
        {
         "name": "월",
         "rawType": "object",
         "type": "string"
        },
        {
         "name": "Korea",
         "rawType": "object",
         "type": "unknown"
        },
        {
         "name": "U.S.A",
         "rawType": "object",
         "type": "unknown"
        },
        {
         "name": "Canada",
         "rawType": "object",
         "type": "unknown"
        },
        {
         "name": "Mexico",
         "rawType": "object",
         "type": "unknown"
        },
        {
         "name": "Europe",
         "rawType": "object",
         "type": "unknown"
        },
        {
         "name": "Eastern Europe",
         "rawType": "object",
         "type": "unknown"
        },
        {
         "name": "Latin America",
         "rawType": "object",
         "type": "unknown"
        },
        {
         "name": "Middle East",
         "rawType": "object",
         "type": "unknown"
        },
        {
         "name": "Africa",
         "rawType": "float64",
         "type": "float"
        },
        {
         "name": "Asia Pacific",
         "rawType": "object",
         "type": "unknown"
        },
        {
         "name": "India",
         "rawType": "object",
         "type": "unknown"
        },
        {
         "name": "China",
         "rawType": "object",
         "type": "unknown"
        },
        {
         "name": "연도",
         "rawType": "int64",
         "type": "integer"
        }
       ],
       "conversionMethod": "pd.DataFrame",
       "ref": "286edfaa-7e60-4a09-ae89-6c9099e778d6",
       "rows": [
        [
         "0",
         "Morning / Picanto",
         "Korean Plant",
         "1월",
         "0",
         "0.0",
         "0.0",
         "0.0",
         "5518.0",
         "174.0",
         "1452.0",
         "1110.0",
         "1073.0",
         "459.0",
         "0.0",
         "0.0",
         "2023"
        ],
        [
         "1",
         "Pride / Rio",
         "Korean Plant",
         "1월",
         "0",
         "0.0",
         "0.0",
         "0.0",
         "3130.0",
         "61.0",
         "68.0",
         "347.0",
         "512.0",
         "608.0",
         "0.0",
         "0.0",
         "2023"
        ],
        [
         "2",
         "K3",
         "Korean Plant",
         "1월",
         "0",
         "0.0",
         "95.0",
         "57.0",
         "0.0",
         "171.0",
         "13.0",
         "175.0",
         "5.0",
         "333.0",
         "0.0",
         "0.0",
         "2023"
        ],
        [
         "3",
         "K5 / Optima",
         "Korean Plant",
         "1월",
         "0",
         "0.0",
         "0.0",
         "0.0",
         "0.0",
         "774.0",
         "0.0",
         "1116.0",
         "1.0",
         "3.0",
         "0.0",
         "0.0",
         "2023"
        ],
        [
         "4",
         "Stinger",
         "Korean Plant",
         "1월",
         "0",
         "466.0",
         "22.0",
         "10.0",
         "101.0",
         "10.0",
         "0.0",
         "0.0",
         "0.0",
         "180.0",
         "0.0",
         "0.0",
         "2023"
        ]
       ],
       "shape": {
        "columns": 16,
        "rows": 5
       }
      },
      "text/html": [
       "<div>\n",
       "<style scoped>\n",
       "    .dataframe tbody tr th:only-of-type {\n",
       "        vertical-align: middle;\n",
       "    }\n",
       "\n",
       "    .dataframe tbody tr th {\n",
       "        vertical-align: top;\n",
       "    }\n",
       "\n",
       "    .dataframe thead th {\n",
       "        text-align: right;\n",
       "    }\n",
       "</style>\n",
       "<table border=\"1\" class=\"dataframe\">\n",
       "  <thead>\n",
       "    <tr style=\"text-align: right;\">\n",
       "      <th></th>\n",
       "      <th>차종</th>\n",
       "      <th>공장명(국가)</th>\n",
       "      <th>월</th>\n",
       "      <th>Korea</th>\n",
       "      <th>U.S.A</th>\n",
       "      <th>Canada</th>\n",
       "      <th>Mexico</th>\n",
       "      <th>Europe</th>\n",
       "      <th>Eastern Europe</th>\n",
       "      <th>Latin America</th>\n",
       "      <th>Middle East</th>\n",
       "      <th>Africa</th>\n",
       "      <th>Asia Pacific</th>\n",
       "      <th>India</th>\n",
       "      <th>China</th>\n",
       "      <th>연도</th>\n",
       "    </tr>\n",
       "  </thead>\n",
       "  <tbody>\n",
       "    <tr>\n",
       "      <th>0</th>\n",
       "      <td>Morning / Picanto</td>\n",
       "      <td>Korean Plant</td>\n",
       "      <td>1월</td>\n",
       "      <td>0</td>\n",
       "      <td>0.0</td>\n",
       "      <td>0.0</td>\n",
       "      <td>0.0</td>\n",
       "      <td>5518.0</td>\n",
       "      <td>174.0</td>\n",
       "      <td>1452.0</td>\n",
       "      <td>1110.0</td>\n",
       "      <td>1073.0</td>\n",
       "      <td>459.0</td>\n",
       "      <td>0.0</td>\n",
       "      <td>0.0</td>\n",
       "      <td>2023</td>\n",
       "    </tr>\n",
       "    <tr>\n",
       "      <th>1</th>\n",
       "      <td>Pride / Rio</td>\n",
       "      <td>Korean Plant</td>\n",
       "      <td>1월</td>\n",
       "      <td>0</td>\n",
       "      <td>0.0</td>\n",
       "      <td>0.0</td>\n",
       "      <td>0.0</td>\n",
       "      <td>3130.0</td>\n",
       "      <td>61.0</td>\n",
       "      <td>68.0</td>\n",
       "      <td>347.0</td>\n",
       "      <td>512.0</td>\n",
       "      <td>608.0</td>\n",
       "      <td>0.0</td>\n",
       "      <td>0.0</td>\n",
       "      <td>2023</td>\n",
       "    </tr>\n",
       "    <tr>\n",
       "      <th>2</th>\n",
       "      <td>K3</td>\n",
       "      <td>Korean Plant</td>\n",
       "      <td>1월</td>\n",
       "      <td>0</td>\n",
       "      <td>0.0</td>\n",
       "      <td>95.0</td>\n",
       "      <td>57.0</td>\n",
       "      <td>0.0</td>\n",
       "      <td>171.0</td>\n",
       "      <td>13.0</td>\n",
       "      <td>175.0</td>\n",
       "      <td>5.0</td>\n",
       "      <td>333.0</td>\n",
       "      <td>0.0</td>\n",
       "      <td>0.0</td>\n",
       "      <td>2023</td>\n",
       "    </tr>\n",
       "    <tr>\n",
       "      <th>3</th>\n",
       "      <td>K5 / Optima</td>\n",
       "      <td>Korean Plant</td>\n",
       "      <td>1월</td>\n",
       "      <td>0</td>\n",
       "      <td>0.0</td>\n",
       "      <td>0.0</td>\n",
       "      <td>0.0</td>\n",
       "      <td>0.0</td>\n",
       "      <td>774.0</td>\n",
       "      <td>0.0</td>\n",
       "      <td>1116.0</td>\n",
       "      <td>1.0</td>\n",
       "      <td>3.0</td>\n",
       "      <td>0.0</td>\n",
       "      <td>0.0</td>\n",
       "      <td>2023</td>\n",
       "    </tr>\n",
       "    <tr>\n",
       "      <th>4</th>\n",
       "      <td>Stinger</td>\n",
       "      <td>Korean Plant</td>\n",
       "      <td>1월</td>\n",
       "      <td>0</td>\n",
       "      <td>466.0</td>\n",
       "      <td>22.0</td>\n",
       "      <td>10.0</td>\n",
       "      <td>101.0</td>\n",
       "      <td>10.0</td>\n",
       "      <td>0.0</td>\n",
       "      <td>0.0</td>\n",
       "      <td>0.0</td>\n",
       "      <td>180.0</td>\n",
       "      <td>0.0</td>\n",
       "      <td>0.0</td>\n",
       "      <td>2023</td>\n",
       "    </tr>\n",
       "  </tbody>\n",
       "</table>\n",
       "</div>"
      ],
      "text/plain": [
       "                  차종       공장명(국가)   월 Korea  U.S.A Canada Mexico  Europe  \\\n",
       "0  Morning / Picanto  Korean Plant  1월     0    0.0    0.0    0.0  5518.0   \n",
       "1        Pride / Rio  Korean Plant  1월     0    0.0    0.0    0.0  3130.0   \n",
       "2                 K3  Korean Plant  1월     0    0.0   95.0   57.0     0.0   \n",
       "3        K5 / Optima  Korean Plant  1월     0    0.0    0.0    0.0     0.0   \n",
       "4            Stinger  Korean Plant  1월     0  466.0   22.0   10.0   101.0   \n",
       "\n",
       "  Eastern Europe Latin America Middle East  Africa Asia Pacific India China  \\\n",
       "0          174.0        1452.0      1110.0  1073.0        459.0   0.0   0.0   \n",
       "1           61.0          68.0       347.0   512.0        608.0   0.0   0.0   \n",
       "2          171.0          13.0       175.0     5.0        333.0   0.0   0.0   \n",
       "3          774.0           0.0      1116.0     1.0          3.0   0.0   0.0   \n",
       "4           10.0           0.0         0.0     0.0        180.0   0.0   0.0   \n",
       "\n",
       "     연도  \n",
       "0  2023  \n",
       "1  2023  \n",
       "2  2023  \n",
       "3  2023  \n",
       "4  2023  "
      ]
     },
     "execution_count": 129,
     "metadata": {},
     "output_type": "execute_result"
    }
   ],
   "source": [
    "df.head()"
   ]
  },
  {
   "cell_type": "code",
   "execution_count": null,
   "metadata": {},
   "outputs": [],
   "source": []
  }
 ],
 "metadata": {
  "kernelspec": {
   "display_name": "hi",
   "language": "python",
   "name": "python3"
  },
  "language_info": {
   "codemirror_mode": {
    "name": "ipython",
    "version": 3
   },
   "file_extension": ".py",
   "mimetype": "text/x-python",
   "name": "python",
   "nbconvert_exporter": "python",
   "pygments_lexer": "ipython3",
   "version": "3.10.16"
  }
 },
 "nbformat": 4,
 "nbformat_minor": 2
}
