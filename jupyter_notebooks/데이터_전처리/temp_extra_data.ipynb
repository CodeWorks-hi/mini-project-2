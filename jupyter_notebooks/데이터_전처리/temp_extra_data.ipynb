{
 "cells": [
  {
   "cell_type": "code",
   "execution_count": 1,
   "metadata": {},
   "outputs": [],
   "source": [
    "import pandas as pd, numpy as np, matplotlib.pyplot as plt, seaborn as sb"
   ]
  },
  {
   "cell_type": "code",
   "execution_count": 2,
   "metadata": {},
   "outputs": [
    {
     "data": {
      "application/vnd.microsoft.datawrangler.viewer.v0+json": {
       "columns": [
        {
         "name": "index",
         "rawType": "int64",
         "type": "integer"
        },
        {
         "name": "통계표",
         "rawType": "object",
         "type": "string"
        },
        {
         "name": "코드(계정항목)",
         "rawType": "object",
         "type": "string"
        },
        {
         "name": "계정항목",
         "rawType": "object",
         "type": "string"
        },
        {
         "name": "단위",
         "rawType": "float64",
         "type": "float"
        },
        {
         "name": "변환",
         "rawType": "object",
         "type": "string"
        },
        {
         "name": "2021/01",
         "rawType": "float64",
         "type": "float"
        },
        {
         "name": "2021/02",
         "rawType": "float64",
         "type": "float"
        },
        {
         "name": "2021/03",
         "rawType": "float64",
         "type": "float"
        },
        {
         "name": "2021/04",
         "rawType": "float64",
         "type": "float"
        },
        {
         "name": "2021/05",
         "rawType": "float64",
         "type": "float"
        },
        {
         "name": "2021/06",
         "rawType": "float64",
         "type": "float"
        },
        {
         "name": "2021/07",
         "rawType": "float64",
         "type": "float"
        },
        {
         "name": "2021/08",
         "rawType": "float64",
         "type": "float"
        },
        {
         "name": "2021/09",
         "rawType": "float64",
         "type": "float"
        },
        {
         "name": "2021/10",
         "rawType": "float64",
         "type": "float"
        },
        {
         "name": "2021/11",
         "rawType": "float64",
         "type": "float"
        },
        {
         "name": "2021/12",
         "rawType": "float64",
         "type": "float"
        },
        {
         "name": "2022/01",
         "rawType": "float64",
         "type": "float"
        },
        {
         "name": "2022/02",
         "rawType": "float64",
         "type": "float"
        },
        {
         "name": "2022/03",
         "rawType": "float64",
         "type": "float"
        },
        {
         "name": "2022/04",
         "rawType": "float64",
         "type": "float"
        },
        {
         "name": "2022/05",
         "rawType": "float64",
         "type": "float"
        },
        {
         "name": "2022/06",
         "rawType": "float64",
         "type": "float"
        },
        {
         "name": "2022/07",
         "rawType": "int64",
         "type": "integer"
        },
        {
         "name": "2022/08",
         "rawType": "float64",
         "type": "float"
        },
        {
         "name": "2022/09",
         "rawType": "float64",
         "type": "float"
        },
        {
         "name": "2022/10",
         "rawType": "float64",
         "type": "float"
        },
        {
         "name": "2022/11",
         "rawType": "float64",
         "type": "float"
        },
        {
         "name": "2022/12",
         "rawType": "float64",
         "type": "float"
        },
        {
         "name": "2023/01",
         "rawType": "float64",
         "type": "float"
        },
        {
         "name": "2023/02",
         "rawType": "float64",
         "type": "float"
        },
        {
         "name": "2023/03",
         "rawType": "float64",
         "type": "float"
        },
        {
         "name": "2023/04",
         "rawType": "float64",
         "type": "float"
        },
        {
         "name": "2023/05",
         "rawType": "float64",
         "type": "float"
        },
        {
         "name": "2023/06",
         "rawType": "float64",
         "type": "float"
        },
        {
         "name": "2023/07",
         "rawType": "float64",
         "type": "float"
        },
        {
         "name": "2023/08",
         "rawType": "float64",
         "type": "float"
        },
        {
         "name": "2023/09",
         "rawType": "float64",
         "type": "float"
        },
        {
         "name": "2023/10",
         "rawType": "float64",
         "type": "float"
        },
        {
         "name": "2023/11",
         "rawType": "float64",
         "type": "float"
        },
        {
         "name": "2023/12",
         "rawType": "float64",
         "type": "float"
        },
        {
         "name": "2024/01",
         "rawType": "float64",
         "type": "float"
        },
        {
         "name": "2024/02",
         "rawType": "float64",
         "type": "float"
        },
        {
         "name": "2024/03",
         "rawType": "float64",
         "type": "float"
        },
        {
         "name": "2024/04",
         "rawType": "float64",
         "type": "float"
        },
        {
         "name": "2024/05",
         "rawType": "float64",
         "type": "float"
        },
        {
         "name": "2024/06",
         "rawType": "float64",
         "type": "float"
        },
        {
         "name": "2024/07",
         "rawType": "float64",
         "type": "float"
        },
        {
         "name": "2024/08",
         "rawType": "float64",
         "type": "float"
        },
        {
         "name": "2024/09",
         "rawType": "float64",
         "type": "float"
        },
        {
         "name": "2024/10",
         "rawType": "float64",
         "type": "float"
        },
        {
         "name": "2024/11",
         "rawType": "float64",
         "type": "float"
        },
        {
         "name": "2024/12",
         "rawType": "float64",
         "type": "float"
        },
        {
         "name": "2025/01",
         "rawType": "float64",
         "type": "float"
        },
        {
         "name": "2025/02",
         "rawType": "float64",
         "type": "float"
        },
        {
         "name": "2025/03",
         "rawType": "float64",
         "type": "float"
        }
       ],
       "conversionMethod": "pd.DataFrame",
       "ref": "2a76c2b5-0ec0-4804-9b51-f3f1bbff2775",
       "rows": [
        [
         "0",
         "6.4. 뉴스심리지수(실험적 통계)",
         "A001",
         "뉴스심리지수",
         null,
         "원자료",
         "114.43",
         "107.32",
         "114.5",
         "120.04",
         "116.02",
         "119.01",
         "117.85",
         "110.06",
         "106.56",
         "104.52",
         "111.1",
         "111.81",
         "103.32",
         "103.7",
         "103.7",
         "104.78",
         "103.25",
         "83.99",
         "91",
         "97.77",
         "85.57",
         "79.37",
         "88.04",
         "82.72",
         "93.5",
         "97.31",
         "93.89",
         "94.78",
         "96.33",
         "101.63",
         "102.08",
         "98.92",
         "100.74",
         "95.29",
         "102.35",
         "103.38",
         "99.45",
         "107.82",
         "110.61",
         "107.78",
         "109.41",
         "109.34",
         "106.58",
         "99.3",
         "98.67",
         "100.46",
         "100.47",
         "85.75",
         "99.32",
         "99.85",
         "87.77"
        ]
       ],
       "shape": {
        "columns": 56,
        "rows": 1
       }
      },
      "text/html": [
       "<div>\n",
       "<style scoped>\n",
       "    .dataframe tbody tr th:only-of-type {\n",
       "        vertical-align: middle;\n",
       "    }\n",
       "\n",
       "    .dataframe tbody tr th {\n",
       "        vertical-align: top;\n",
       "    }\n",
       "\n",
       "    .dataframe thead th {\n",
       "        text-align: right;\n",
       "    }\n",
       "</style>\n",
       "<table border=\"1\" class=\"dataframe\">\n",
       "  <thead>\n",
       "    <tr style=\"text-align: right;\">\n",
       "      <th></th>\n",
       "      <th>통계표</th>\n",
       "      <th>코드(계정항목)</th>\n",
       "      <th>계정항목</th>\n",
       "      <th>단위</th>\n",
       "      <th>변환</th>\n",
       "      <th>2021/01</th>\n",
       "      <th>2021/02</th>\n",
       "      <th>2021/03</th>\n",
       "      <th>2021/04</th>\n",
       "      <th>2021/05</th>\n",
       "      <th>...</th>\n",
       "      <th>2024/06</th>\n",
       "      <th>2024/07</th>\n",
       "      <th>2024/08</th>\n",
       "      <th>2024/09</th>\n",
       "      <th>2024/10</th>\n",
       "      <th>2024/11</th>\n",
       "      <th>2024/12</th>\n",
       "      <th>2025/01</th>\n",
       "      <th>2025/02</th>\n",
       "      <th>2025/03</th>\n",
       "    </tr>\n",
       "  </thead>\n",
       "  <tbody>\n",
       "    <tr>\n",
       "      <th>0</th>\n",
       "      <td>6.4. 뉴스심리지수(실험적 통계)</td>\n",
       "      <td>A001</td>\n",
       "      <td>뉴스심리지수</td>\n",
       "      <td>NaN</td>\n",
       "      <td>원자료</td>\n",
       "      <td>114.43</td>\n",
       "      <td>107.32</td>\n",
       "      <td>114.5</td>\n",
       "      <td>120.04</td>\n",
       "      <td>116.02</td>\n",
       "      <td>...</td>\n",
       "      <td>109.34</td>\n",
       "      <td>106.58</td>\n",
       "      <td>99.3</td>\n",
       "      <td>98.67</td>\n",
       "      <td>100.46</td>\n",
       "      <td>100.47</td>\n",
       "      <td>85.75</td>\n",
       "      <td>99.32</td>\n",
       "      <td>99.85</td>\n",
       "      <td>87.77</td>\n",
       "    </tr>\n",
       "  </tbody>\n",
       "</table>\n",
       "<p>1 rows × 56 columns</p>\n",
       "</div>"
      ],
      "text/plain": [
       "                   통계표 코드(계정항목)    계정항목  단위   변환  2021/01  2021/02  2021/03  \\\n",
       "0  6.4. 뉴스심리지수(실험적 통계)     A001  뉴스심리지수 NaN  원자료   114.43   107.32    114.5   \n",
       "\n",
       "   2021/04  2021/05  ...  2024/06  2024/07  2024/08  2024/09  2024/10  \\\n",
       "0   120.04   116.02  ...   109.34   106.58     99.3    98.67   100.46   \n",
       "\n",
       "   2024/11  2024/12  2025/01  2025/02  2025/03  \n",
       "0   100.47    85.75    99.32    99.85    87.77  \n",
       "\n",
       "[1 rows x 56 columns]"
      ]
     },
     "execution_count": 2,
     "metadata": {},
     "output_type": "execute_result"
    }
   ],
   "source": [
    "df = pd.read_csv(\"../../extra_data/raw/소비 심리 관련/뉴스심리지수(실험적 통계).csv\")\n",
    "df"
   ]
  },
  {
   "cell_type": "code",
   "execution_count": 3,
   "metadata": {},
   "outputs": [
    {
     "data": {
      "text/plain": [
       "통계표         0\n",
       "코드(계정항목)    0\n",
       "계정항목        0\n",
       "단위          1\n",
       "변환          0\n",
       "2021/01     0\n",
       "2021/02     0\n",
       "2021/03     0\n",
       "2021/04     0\n",
       "2021/05     0\n",
       "2021/06     0\n",
       "2021/07     0\n",
       "2021/08     0\n",
       "2021/09     0\n",
       "2021/10     0\n",
       "2021/11     0\n",
       "2021/12     0\n",
       "2022/01     0\n",
       "2022/02     0\n",
       "2022/03     0\n",
       "2022/04     0\n",
       "2022/05     0\n",
       "2022/06     0\n",
       "2022/07     0\n",
       "2022/08     0\n",
       "2022/09     0\n",
       "2022/10     0\n",
       "2022/11     0\n",
       "2022/12     0\n",
       "2023/01     0\n",
       "2023/02     0\n",
       "2023/03     0\n",
       "2023/04     0\n",
       "2023/05     0\n",
       "2023/06     0\n",
       "2023/07     0\n",
       "2023/08     0\n",
       "2023/09     0\n",
       "2023/10     0\n",
       "2023/11     0\n",
       "2023/12     0\n",
       "2024/01     0\n",
       "2024/02     0\n",
       "2024/03     0\n",
       "2024/04     0\n",
       "2024/05     0\n",
       "2024/06     0\n",
       "2024/07     0\n",
       "2024/08     0\n",
       "2024/09     0\n",
       "2024/10     0\n",
       "2024/11     0\n",
       "2024/12     0\n",
       "2025/01     0\n",
       "2025/02     0\n",
       "2025/03     0\n",
       "dtype: int64"
      ]
     },
     "execution_count": 3,
     "metadata": {},
     "output_type": "execute_result"
    }
   ],
   "source": [
    "df.isna().sum()"
   ]
  },
  {
   "cell_type": "code",
   "execution_count": 4,
   "metadata": {},
   "outputs": [],
   "source": [
    "df[\"계정항목\"] = df[\"계정항목\"].str.lstrip()"
   ]
  },
  {
   "cell_type": "code",
   "execution_count": 5,
   "metadata": {},
   "outputs": [],
   "source": [
    "#df[\"단위\"] = df[\"단위\"].str.rstrip()"
   ]
  },
  {
   "cell_type": "code",
   "execution_count": 6,
   "metadata": {},
   "outputs": [
    {
     "data": {
      "application/vnd.microsoft.datawrangler.viewer.v0+json": {
       "columns": [
        {
         "name": "index",
         "rawType": "int64",
         "type": "integer"
        },
        {
         "name": "통계표",
         "rawType": "object",
         "type": "string"
        },
        {
         "name": "코드(계정항목)",
         "rawType": "object",
         "type": "string"
        },
        {
         "name": "계정항목",
         "rawType": "object",
         "type": "string"
        },
        {
         "name": "단위",
         "rawType": "float64",
         "type": "float"
        },
        {
         "name": "변환",
         "rawType": "object",
         "type": "string"
        },
        {
         "name": "2021/01",
         "rawType": "float64",
         "type": "float"
        },
        {
         "name": "2021/02",
         "rawType": "float64",
         "type": "float"
        },
        {
         "name": "2021/03",
         "rawType": "float64",
         "type": "float"
        },
        {
         "name": "2021/04",
         "rawType": "float64",
         "type": "float"
        },
        {
         "name": "2021/05",
         "rawType": "float64",
         "type": "float"
        },
        {
         "name": "2021/06",
         "rawType": "float64",
         "type": "float"
        },
        {
         "name": "2021/07",
         "rawType": "float64",
         "type": "float"
        },
        {
         "name": "2021/08",
         "rawType": "float64",
         "type": "float"
        },
        {
         "name": "2021/09",
         "rawType": "float64",
         "type": "float"
        },
        {
         "name": "2021/10",
         "rawType": "float64",
         "type": "float"
        },
        {
         "name": "2021/11",
         "rawType": "float64",
         "type": "float"
        },
        {
         "name": "2021/12",
         "rawType": "float64",
         "type": "float"
        },
        {
         "name": "2022/01",
         "rawType": "float64",
         "type": "float"
        },
        {
         "name": "2022/02",
         "rawType": "float64",
         "type": "float"
        },
        {
         "name": "2022/03",
         "rawType": "float64",
         "type": "float"
        },
        {
         "name": "2022/04",
         "rawType": "float64",
         "type": "float"
        },
        {
         "name": "2022/05",
         "rawType": "float64",
         "type": "float"
        },
        {
         "name": "2022/06",
         "rawType": "float64",
         "type": "float"
        },
        {
         "name": "2022/07",
         "rawType": "int64",
         "type": "integer"
        },
        {
         "name": "2022/08",
         "rawType": "float64",
         "type": "float"
        },
        {
         "name": "2022/09",
         "rawType": "float64",
         "type": "float"
        },
        {
         "name": "2022/10",
         "rawType": "float64",
         "type": "float"
        },
        {
         "name": "2022/11",
         "rawType": "float64",
         "type": "float"
        },
        {
         "name": "2022/12",
         "rawType": "float64",
         "type": "float"
        },
        {
         "name": "2023/01",
         "rawType": "float64",
         "type": "float"
        },
        {
         "name": "2023/02",
         "rawType": "float64",
         "type": "float"
        },
        {
         "name": "2023/03",
         "rawType": "float64",
         "type": "float"
        },
        {
         "name": "2023/04",
         "rawType": "float64",
         "type": "float"
        },
        {
         "name": "2023/05",
         "rawType": "float64",
         "type": "float"
        },
        {
         "name": "2023/06",
         "rawType": "float64",
         "type": "float"
        },
        {
         "name": "2023/07",
         "rawType": "float64",
         "type": "float"
        },
        {
         "name": "2023/08",
         "rawType": "float64",
         "type": "float"
        },
        {
         "name": "2023/09",
         "rawType": "float64",
         "type": "float"
        },
        {
         "name": "2023/10",
         "rawType": "float64",
         "type": "float"
        },
        {
         "name": "2023/11",
         "rawType": "float64",
         "type": "float"
        },
        {
         "name": "2023/12",
         "rawType": "float64",
         "type": "float"
        },
        {
         "name": "2024/01",
         "rawType": "float64",
         "type": "float"
        },
        {
         "name": "2024/02",
         "rawType": "float64",
         "type": "float"
        },
        {
         "name": "2024/03",
         "rawType": "float64",
         "type": "float"
        },
        {
         "name": "2024/04",
         "rawType": "float64",
         "type": "float"
        },
        {
         "name": "2024/05",
         "rawType": "float64",
         "type": "float"
        },
        {
         "name": "2024/06",
         "rawType": "float64",
         "type": "float"
        },
        {
         "name": "2024/07",
         "rawType": "float64",
         "type": "float"
        },
        {
         "name": "2024/08",
         "rawType": "float64",
         "type": "float"
        },
        {
         "name": "2024/09",
         "rawType": "float64",
         "type": "float"
        },
        {
         "name": "2024/10",
         "rawType": "float64",
         "type": "float"
        },
        {
         "name": "2024/11",
         "rawType": "float64",
         "type": "float"
        },
        {
         "name": "2024/12",
         "rawType": "float64",
         "type": "float"
        },
        {
         "name": "2025/01",
         "rawType": "float64",
         "type": "float"
        },
        {
         "name": "2025/02",
         "rawType": "float64",
         "type": "float"
        },
        {
         "name": "2025/03",
         "rawType": "float64",
         "type": "float"
        }
       ],
       "conversionMethod": "pd.DataFrame",
       "ref": "94bbce22-7246-471e-b3f6-080dad1a5409",
       "rows": [
        [
         "0",
         "6.4. 뉴스심리지수(실험적 통계)",
         "A001",
         "뉴스심리지수",
         null,
         "원자료",
         "114.43",
         "107.32",
         "114.5",
         "120.04",
         "116.02",
         "119.01",
         "117.85",
         "110.06",
         "106.56",
         "104.52",
         "111.1",
         "111.81",
         "103.32",
         "103.7",
         "103.7",
         "104.78",
         "103.25",
         "83.99",
         "91",
         "97.77",
         "85.57",
         "79.37",
         "88.04",
         "82.72",
         "93.5",
         "97.31",
         "93.89",
         "94.78",
         "96.33",
         "101.63",
         "102.08",
         "98.92",
         "100.74",
         "95.29",
         "102.35",
         "103.38",
         "99.45",
         "107.82",
         "110.61",
         "107.78",
         "109.41",
         "109.34",
         "106.58",
         "99.3",
         "98.67",
         "100.46",
         "100.47",
         "85.75",
         "99.32",
         "99.85",
         "87.77"
        ]
       ],
       "shape": {
        "columns": 56,
        "rows": 1
       }
      },
      "text/html": [
       "<div>\n",
       "<style scoped>\n",
       "    .dataframe tbody tr th:only-of-type {\n",
       "        vertical-align: middle;\n",
       "    }\n",
       "\n",
       "    .dataframe tbody tr th {\n",
       "        vertical-align: top;\n",
       "    }\n",
       "\n",
       "    .dataframe thead th {\n",
       "        text-align: right;\n",
       "    }\n",
       "</style>\n",
       "<table border=\"1\" class=\"dataframe\">\n",
       "  <thead>\n",
       "    <tr style=\"text-align: right;\">\n",
       "      <th></th>\n",
       "      <th>통계표</th>\n",
       "      <th>코드(계정항목)</th>\n",
       "      <th>계정항목</th>\n",
       "      <th>단위</th>\n",
       "      <th>변환</th>\n",
       "      <th>2021/01</th>\n",
       "      <th>2021/02</th>\n",
       "      <th>2021/03</th>\n",
       "      <th>2021/04</th>\n",
       "      <th>2021/05</th>\n",
       "      <th>...</th>\n",
       "      <th>2024/06</th>\n",
       "      <th>2024/07</th>\n",
       "      <th>2024/08</th>\n",
       "      <th>2024/09</th>\n",
       "      <th>2024/10</th>\n",
       "      <th>2024/11</th>\n",
       "      <th>2024/12</th>\n",
       "      <th>2025/01</th>\n",
       "      <th>2025/02</th>\n",
       "      <th>2025/03</th>\n",
       "    </tr>\n",
       "  </thead>\n",
       "  <tbody>\n",
       "    <tr>\n",
       "      <th>0</th>\n",
       "      <td>6.4. 뉴스심리지수(실험적 통계)</td>\n",
       "      <td>A001</td>\n",
       "      <td>뉴스심리지수</td>\n",
       "      <td>NaN</td>\n",
       "      <td>원자료</td>\n",
       "      <td>114.43</td>\n",
       "      <td>107.32</td>\n",
       "      <td>114.5</td>\n",
       "      <td>120.04</td>\n",
       "      <td>116.02</td>\n",
       "      <td>...</td>\n",
       "      <td>109.34</td>\n",
       "      <td>106.58</td>\n",
       "      <td>99.3</td>\n",
       "      <td>98.67</td>\n",
       "      <td>100.46</td>\n",
       "      <td>100.47</td>\n",
       "      <td>85.75</td>\n",
       "      <td>99.32</td>\n",
       "      <td>99.85</td>\n",
       "      <td>87.77</td>\n",
       "    </tr>\n",
       "  </tbody>\n",
       "</table>\n",
       "<p>1 rows × 56 columns</p>\n",
       "</div>"
      ],
      "text/plain": [
       "                   통계표 코드(계정항목)    계정항목  단위   변환  2021/01  2021/02  2021/03  \\\n",
       "0  6.4. 뉴스심리지수(실험적 통계)     A001  뉴스심리지수 NaN  원자료   114.43   107.32    114.5   \n",
       "\n",
       "   2021/04  2021/05  ...  2024/06  2024/07  2024/08  2024/09  2024/10  \\\n",
       "0   120.04   116.02  ...   109.34   106.58     99.3    98.67   100.46   \n",
       "\n",
       "   2024/11  2024/12  2025/01  2025/02  2025/03  \n",
       "0   100.47    85.75    99.32    99.85    87.77  \n",
       "\n",
       "[1 rows x 56 columns]"
      ]
     },
     "execution_count": 6,
     "metadata": {},
     "output_type": "execute_result"
    }
   ],
   "source": [
    "df"
   ]
  },
  {
   "cell_type": "code",
   "execution_count": 7,
   "metadata": {},
   "outputs": [],
   "source": [
    "df = pd.concat([df.iloc[:, :5], df.iloc[:, 29:]], axis=1)"
   ]
  },
  {
   "cell_type": "code",
   "execution_count": 8,
   "metadata": {},
   "outputs": [
    {
     "data": {
      "application/vnd.microsoft.datawrangler.viewer.v0+json": {
       "columns": [
        {
         "name": "index",
         "rawType": "int64",
         "type": "integer"
        },
        {
         "name": "통계표",
         "rawType": "object",
         "type": "string"
        },
        {
         "name": "코드(계정항목)",
         "rawType": "object",
         "type": "string"
        },
        {
         "name": "계정항목",
         "rawType": "object",
         "type": "string"
        },
        {
         "name": "단위",
         "rawType": "float64",
         "type": "float"
        },
        {
         "name": "변환",
         "rawType": "object",
         "type": "string"
        },
        {
         "name": "2023/01",
         "rawType": "float64",
         "type": "float"
        },
        {
         "name": "2023/02",
         "rawType": "float64",
         "type": "float"
        },
        {
         "name": "2023/03",
         "rawType": "float64",
         "type": "float"
        },
        {
         "name": "2023/04",
         "rawType": "float64",
         "type": "float"
        },
        {
         "name": "2023/05",
         "rawType": "float64",
         "type": "float"
        },
        {
         "name": "2023/06",
         "rawType": "float64",
         "type": "float"
        },
        {
         "name": "2023/07",
         "rawType": "float64",
         "type": "float"
        },
        {
         "name": "2023/08",
         "rawType": "float64",
         "type": "float"
        },
        {
         "name": "2023/09",
         "rawType": "float64",
         "type": "float"
        },
        {
         "name": "2023/10",
         "rawType": "float64",
         "type": "float"
        },
        {
         "name": "2023/11",
         "rawType": "float64",
         "type": "float"
        },
        {
         "name": "2023/12",
         "rawType": "float64",
         "type": "float"
        },
        {
         "name": "2024/01",
         "rawType": "float64",
         "type": "float"
        },
        {
         "name": "2024/02",
         "rawType": "float64",
         "type": "float"
        },
        {
         "name": "2024/03",
         "rawType": "float64",
         "type": "float"
        },
        {
         "name": "2024/04",
         "rawType": "float64",
         "type": "float"
        },
        {
         "name": "2024/05",
         "rawType": "float64",
         "type": "float"
        },
        {
         "name": "2024/06",
         "rawType": "float64",
         "type": "float"
        },
        {
         "name": "2024/07",
         "rawType": "float64",
         "type": "float"
        },
        {
         "name": "2024/08",
         "rawType": "float64",
         "type": "float"
        },
        {
         "name": "2024/09",
         "rawType": "float64",
         "type": "float"
        },
        {
         "name": "2024/10",
         "rawType": "float64",
         "type": "float"
        },
        {
         "name": "2024/11",
         "rawType": "float64",
         "type": "float"
        },
        {
         "name": "2024/12",
         "rawType": "float64",
         "type": "float"
        },
        {
         "name": "2025/01",
         "rawType": "float64",
         "type": "float"
        },
        {
         "name": "2025/02",
         "rawType": "float64",
         "type": "float"
        },
        {
         "name": "2025/03",
         "rawType": "float64",
         "type": "float"
        }
       ],
       "conversionMethod": "pd.DataFrame",
       "ref": "c06dbbc6-9eba-4920-82bb-e24bcfe8ae1a",
       "rows": [
        [
         "0",
         "6.4. 뉴스심리지수(실험적 통계)",
         "A001",
         "뉴스심리지수",
         null,
         "원자료",
         "93.5",
         "97.31",
         "93.89",
         "94.78",
         "96.33",
         "101.63",
         "102.08",
         "98.92",
         "100.74",
         "95.29",
         "102.35",
         "103.38",
         "99.45",
         "107.82",
         "110.61",
         "107.78",
         "109.41",
         "109.34",
         "106.58",
         "99.3",
         "98.67",
         "100.46",
         "100.47",
         "85.75",
         "99.32",
         "99.85",
         "87.77"
        ]
       ],
       "shape": {
        "columns": 32,
        "rows": 1
       }
      },
      "text/html": [
       "<div>\n",
       "<style scoped>\n",
       "    .dataframe tbody tr th:only-of-type {\n",
       "        vertical-align: middle;\n",
       "    }\n",
       "\n",
       "    .dataframe tbody tr th {\n",
       "        vertical-align: top;\n",
       "    }\n",
       "\n",
       "    .dataframe thead th {\n",
       "        text-align: right;\n",
       "    }\n",
       "</style>\n",
       "<table border=\"1\" class=\"dataframe\">\n",
       "  <thead>\n",
       "    <tr style=\"text-align: right;\">\n",
       "      <th></th>\n",
       "      <th>통계표</th>\n",
       "      <th>코드(계정항목)</th>\n",
       "      <th>계정항목</th>\n",
       "      <th>단위</th>\n",
       "      <th>변환</th>\n",
       "      <th>2023/01</th>\n",
       "      <th>2023/02</th>\n",
       "      <th>2023/03</th>\n",
       "      <th>2023/04</th>\n",
       "      <th>2023/05</th>\n",
       "      <th>...</th>\n",
       "      <th>2024/06</th>\n",
       "      <th>2024/07</th>\n",
       "      <th>2024/08</th>\n",
       "      <th>2024/09</th>\n",
       "      <th>2024/10</th>\n",
       "      <th>2024/11</th>\n",
       "      <th>2024/12</th>\n",
       "      <th>2025/01</th>\n",
       "      <th>2025/02</th>\n",
       "      <th>2025/03</th>\n",
       "    </tr>\n",
       "  </thead>\n",
       "  <tbody>\n",
       "    <tr>\n",
       "      <th>0</th>\n",
       "      <td>6.4. 뉴스심리지수(실험적 통계)</td>\n",
       "      <td>A001</td>\n",
       "      <td>뉴스심리지수</td>\n",
       "      <td>NaN</td>\n",
       "      <td>원자료</td>\n",
       "      <td>93.5</td>\n",
       "      <td>97.31</td>\n",
       "      <td>93.89</td>\n",
       "      <td>94.78</td>\n",
       "      <td>96.33</td>\n",
       "      <td>...</td>\n",
       "      <td>109.34</td>\n",
       "      <td>106.58</td>\n",
       "      <td>99.3</td>\n",
       "      <td>98.67</td>\n",
       "      <td>100.46</td>\n",
       "      <td>100.47</td>\n",
       "      <td>85.75</td>\n",
       "      <td>99.32</td>\n",
       "      <td>99.85</td>\n",
       "      <td>87.77</td>\n",
       "    </tr>\n",
       "  </tbody>\n",
       "</table>\n",
       "<p>1 rows × 32 columns</p>\n",
       "</div>"
      ],
      "text/plain": [
       "                   통계표 코드(계정항목)    계정항목  단위   변환  2023/01  2023/02  2023/03  \\\n",
       "0  6.4. 뉴스심리지수(실험적 통계)     A001  뉴스심리지수 NaN  원자료     93.5    97.31    93.89   \n",
       "\n",
       "   2023/04  2023/05  ...  2024/06  2024/07  2024/08  2024/09  2024/10  \\\n",
       "0    94.78    96.33  ...   109.34   106.58     99.3    98.67   100.46   \n",
       "\n",
       "   2024/11  2024/12  2025/01  2025/02  2025/03  \n",
       "0   100.47    85.75    99.32    99.85    87.77  \n",
       "\n",
       "[1 rows x 32 columns]"
      ]
     },
     "execution_count": 8,
     "metadata": {},
     "output_type": "execute_result"
    }
   ],
   "source": [
    "df"
   ]
  },
  {
   "cell_type": "code",
   "execution_count": null,
   "metadata": {},
   "outputs": [],
   "source": []
  },
  {
   "cell_type": "code",
   "execution_count": null,
   "metadata": {},
   "outputs": [],
   "source": []
  },
  {
   "cell_type": "code",
   "execution_count": null,
   "metadata": {},
   "outputs": [],
   "source": []
  },
  {
   "cell_type": "code",
   "execution_count": null,
   "metadata": {},
   "outputs": [],
   "source": []
  },
  {
   "cell_type": "code",
   "execution_count": null,
   "metadata": {},
   "outputs": [],
   "source": []
  },
  {
   "cell_type": "code",
   "execution_count": null,
   "metadata": {},
   "outputs": [],
   "source": []
  },
  {
   "cell_type": "code",
   "execution_count": null,
   "metadata": {},
   "outputs": [],
   "source": []
  },
  {
   "cell_type": "code",
   "execution_count": null,
   "metadata": {},
   "outputs": [],
   "source": []
  },
  {
   "cell_type": "code",
   "execution_count": 9,
   "metadata": {},
   "outputs": [],
   "source": [
    "df.to_csv(\"../../extra_data/processed/소비 심리 관련/뉴스심리지수(실험적 통계).csv\", index=False)"
   ]
  },
  {
   "cell_type": "code",
   "execution_count": null,
   "metadata": {},
   "outputs": [],
   "source": []
  },
  {
   "cell_type": "code",
   "execution_count": null,
   "metadata": {},
   "outputs": [],
   "source": []
  },
  {
   "cell_type": "code",
   "execution_count": null,
   "metadata": {},
   "outputs": [],
   "source": []
  },
  {
   "cell_type": "code",
   "execution_count": null,
   "metadata": {},
   "outputs": [],
   "source": []
  }
 ],
 "metadata": {
  "kernelspec": {
   "display_name": "hi",
   "language": "python",
   "name": "python3"
  },
  "language_info": {
   "codemirror_mode": {
    "name": "ipython",
    "version": 3
   },
   "file_extension": ".py",
   "mimetype": "text/x-python",
   "name": "python",
   "nbconvert_exporter": "python",
   "pygments_lexer": "ipython3",
   "version": "3.10.16"
  }
 },
 "nbformat": 4,
 "nbformat_minor": 2
}
