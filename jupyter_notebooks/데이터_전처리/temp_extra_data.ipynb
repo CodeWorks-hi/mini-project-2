{
 "cells": [
  {
   "cell_type": "code",
   "execution_count": 103,
   "metadata": {},
   "outputs": [],
   "source": [
    "import pandas as pd, numpy as np, matplotlib.pyplot as plt, seaborn as sb"
   ]
  },
  {
   "cell_type": "code",
   "execution_count": 104,
   "metadata": {},
   "outputs": [
    {
     "data": {
      "application/vnd.microsoft.datawrangler.viewer.v0+json": {
       "columns": [
        {
         "name": "index",
         "rawType": "int64",
         "type": "integer"
        },
        {
         "name": "통계표",
         "rawType": "object",
         "type": "string"
        },
        {
         "name": "코드(계정항목)",
         "rawType": "object",
         "type": "string"
        },
        {
         "name": "계정항목",
         "rawType": "object",
         "type": "string"
        },
        {
         "name": "단위",
         "rawType": "float64",
         "type": "float"
        },
        {
         "name": "변환",
         "rawType": "object",
         "type": "string"
        },
        {
         "name": "2021/01",
         "rawType": "float64",
         "type": "float"
        },
        {
         "name": "2021/02",
         "rawType": "float64",
         "type": "float"
        },
        {
         "name": "2021/03",
         "rawType": "float64",
         "type": "float"
        },
        {
         "name": "2021/04",
         "rawType": "int64",
         "type": "integer"
        },
        {
         "name": "2021/05",
         "rawType": "float64",
         "type": "float"
        },
        {
         "name": "2021/06",
         "rawType": "float64",
         "type": "float"
        },
        {
         "name": "2021/07",
         "rawType": "float64",
         "type": "float"
        },
        {
         "name": "2021/08",
         "rawType": "float64",
         "type": "float"
        },
        {
         "name": "2021/09",
         "rawType": "float64",
         "type": "float"
        },
        {
         "name": "2021/10",
         "rawType": "float64",
         "type": "float"
        },
        {
         "name": "2021/11",
         "rawType": "float64",
         "type": "float"
        },
        {
         "name": "2021/12",
         "rawType": "float64",
         "type": "float"
        },
        {
         "name": "2022/01",
         "rawType": "float64",
         "type": "float"
        },
        {
         "name": "2022/02",
         "rawType": "float64",
         "type": "float"
        },
        {
         "name": "2022/03",
         "rawType": "float64",
         "type": "float"
        },
        {
         "name": "2022/04",
         "rawType": "float64",
         "type": "float"
        },
        {
         "name": "2022/05",
         "rawType": "float64",
         "type": "float"
        },
        {
         "name": "2022/06",
         "rawType": "float64",
         "type": "float"
        },
        {
         "name": "2022/07",
         "rawType": "float64",
         "type": "float"
        },
        {
         "name": "2022/08",
         "rawType": "float64",
         "type": "float"
        },
        {
         "name": "2022/09",
         "rawType": "float64",
         "type": "float"
        },
        {
         "name": "2022/10",
         "rawType": "float64",
         "type": "float"
        },
        {
         "name": "2022/11",
         "rawType": "float64",
         "type": "float"
        },
        {
         "name": "2022/12",
         "rawType": "float64",
         "type": "float"
        },
        {
         "name": "2023/01",
         "rawType": "float64",
         "type": "float"
        },
        {
         "name": "2023/02",
         "rawType": "float64",
         "type": "float"
        },
        {
         "name": "2023/03",
         "rawType": "float64",
         "type": "float"
        },
        {
         "name": "2023/04",
         "rawType": "float64",
         "type": "float"
        },
        {
         "name": "2023/05",
         "rawType": "float64",
         "type": "float"
        },
        {
         "name": "2023/06",
         "rawType": "float64",
         "type": "float"
        },
        {
         "name": "2023/07",
         "rawType": "float64",
         "type": "float"
        },
        {
         "name": "2023/08",
         "rawType": "float64",
         "type": "float"
        },
        {
         "name": "2023/09",
         "rawType": "float64",
         "type": "float"
        },
        {
         "name": "2023/10",
         "rawType": "float64",
         "type": "float"
        },
        {
         "name": "2023/11",
         "rawType": "float64",
         "type": "float"
        },
        {
         "name": "2023/12",
         "rawType": "float64",
         "type": "float"
        },
        {
         "name": "2024/01",
         "rawType": "float64",
         "type": "float"
        },
        {
         "name": "2024/02",
         "rawType": "float64",
         "type": "float"
        },
        {
         "name": "2024/03",
         "rawType": "float64",
         "type": "float"
        },
        {
         "name": "2024/04",
         "rawType": "float64",
         "type": "float"
        },
        {
         "name": "2024/05",
         "rawType": "float64",
         "type": "float"
        },
        {
         "name": "2024/06",
         "rawType": "float64",
         "type": "float"
        },
        {
         "name": "2024/07",
         "rawType": "float64",
         "type": "float"
        },
        {
         "name": "2024/08",
         "rawType": "float64",
         "type": "float"
        },
        {
         "name": "2024/09",
         "rawType": "float64",
         "type": "float"
        },
        {
         "name": "2024/10",
         "rawType": "float64",
         "type": "float"
        },
        {
         "name": "2024/11",
         "rawType": "float64",
         "type": "float"
        },
        {
         "name": "2024/12",
         "rawType": "float64",
         "type": "float"
        },
        {
         "name": "2025/01",
         "rawType": "float64",
         "type": "float"
        },
        {
         "name": "2025/02",
         "rawType": "float64",
         "type": "float"
        }
       ],
       "conversionMethod": "pd.DataFrame",
       "ref": "c4769d86-b0c4-4f13-810b-3686f1a7c486",
       "rows": [
        [
         "0",
         "6.3. 경제심리지수",
         "E1000",
         "경제심리지수(원계열)",
         null,
         "원자료",
         "92.9",
         "96.8",
         "101.7",
         "106",
         "105.9",
         "110.1",
         "104.6",
         "105.8",
         "105.3",
         "106.6",
         "107.4",
         "105.3",
         "106.4",
         "106.7",
         "104.3",
         "106.6",
         "107.6",
         "103.4",
         "98.5",
         "99.9",
         "98.6",
         "95.7",
         "91.9",
         "92.1",
         "90.7",
         "91.8",
         "91.9",
         "94.5",
         "94.9",
         "96.4",
         "94.8",
         "94.7",
         "93.4",
         "92.4",
         "91.8",
         "91.7",
         "91.8",
         "93.7",
         "92.5",
         "94.8",
         "94.1",
         "95.0",
         "96.3",
         "94.5",
         "94.0",
         "92.8",
         "93.0",
         "83.3",
         "86.7",
         "90.2"
        ],
        [
         "1",
         "6.3. 경제심리지수",
         "E2000",
         "경제심리지수(순환변동치)",
         null,
         "원자료",
         "93.9",
         "96.9",
         "99.6",
         "102",
         "103.9",
         "105.3",
         "106.3",
         "107.0",
         "107.4",
         "107.6",
         "107.6",
         "107.3",
         "106.9",
         "106.2",
         "105.4",
         "104.4",
         "103.2",
         "101.9",
         "100.5",
         "99.1",
         "97.6",
         "96.3",
         "95.1",
         "94.1",
         "93.4",
         "93.0",
         "92.8",
         "92.9",
         "93.1",
         "93.3",
         "93.4",
         "93.5",
         "93.5",
         "93.4",
         "93.4",
         "93.4",
         "93.4",
         "93.4",
         "93.4",
         "93.5",
         "93.6",
         "93.7",
         "93.6",
         "93.3",
         "92.8",
         "92.1",
         "91.2",
         "90.2",
         "89.3",
         "88.4"
        ]
       ],
       "shape": {
        "columns": 55,
        "rows": 2
       }
      },
      "text/html": [
       "<div>\n",
       "<style scoped>\n",
       "    .dataframe tbody tr th:only-of-type {\n",
       "        vertical-align: middle;\n",
       "    }\n",
       "\n",
       "    .dataframe tbody tr th {\n",
       "        vertical-align: top;\n",
       "    }\n",
       "\n",
       "    .dataframe thead th {\n",
       "        text-align: right;\n",
       "    }\n",
       "</style>\n",
       "<table border=\"1\" class=\"dataframe\">\n",
       "  <thead>\n",
       "    <tr style=\"text-align: right;\">\n",
       "      <th></th>\n",
       "      <th>통계표</th>\n",
       "      <th>코드(계정항목)</th>\n",
       "      <th>계정항목</th>\n",
       "      <th>단위</th>\n",
       "      <th>변환</th>\n",
       "      <th>2021/01</th>\n",
       "      <th>2021/02</th>\n",
       "      <th>2021/03</th>\n",
       "      <th>2021/04</th>\n",
       "      <th>2021/05</th>\n",
       "      <th>...</th>\n",
       "      <th>2024/05</th>\n",
       "      <th>2024/06</th>\n",
       "      <th>2024/07</th>\n",
       "      <th>2024/08</th>\n",
       "      <th>2024/09</th>\n",
       "      <th>2024/10</th>\n",
       "      <th>2024/11</th>\n",
       "      <th>2024/12</th>\n",
       "      <th>2025/01</th>\n",
       "      <th>2025/02</th>\n",
       "    </tr>\n",
       "  </thead>\n",
       "  <tbody>\n",
       "    <tr>\n",
       "      <th>0</th>\n",
       "      <td>6.3. 경제심리지수</td>\n",
       "      <td>E1000</td>\n",
       "      <td>경제심리지수(원계열)</td>\n",
       "      <td>NaN</td>\n",
       "      <td>원자료</td>\n",
       "      <td>92.9</td>\n",
       "      <td>96.8</td>\n",
       "      <td>101.7</td>\n",
       "      <td>106</td>\n",
       "      <td>105.9</td>\n",
       "      <td>...</td>\n",
       "      <td>94.1</td>\n",
       "      <td>95.0</td>\n",
       "      <td>96.3</td>\n",
       "      <td>94.5</td>\n",
       "      <td>94.0</td>\n",
       "      <td>92.8</td>\n",
       "      <td>93.0</td>\n",
       "      <td>83.3</td>\n",
       "      <td>86.7</td>\n",
       "      <td>90.2</td>\n",
       "    </tr>\n",
       "    <tr>\n",
       "      <th>1</th>\n",
       "      <td>6.3. 경제심리지수</td>\n",
       "      <td>E2000</td>\n",
       "      <td>경제심리지수(순환변동치)</td>\n",
       "      <td>NaN</td>\n",
       "      <td>원자료</td>\n",
       "      <td>93.9</td>\n",
       "      <td>96.9</td>\n",
       "      <td>99.6</td>\n",
       "      <td>102</td>\n",
       "      <td>103.9</td>\n",
       "      <td>...</td>\n",
       "      <td>93.6</td>\n",
       "      <td>93.7</td>\n",
       "      <td>93.6</td>\n",
       "      <td>93.3</td>\n",
       "      <td>92.8</td>\n",
       "      <td>92.1</td>\n",
       "      <td>91.2</td>\n",
       "      <td>90.2</td>\n",
       "      <td>89.3</td>\n",
       "      <td>88.4</td>\n",
       "    </tr>\n",
       "  </tbody>\n",
       "</table>\n",
       "<p>2 rows × 55 columns</p>\n",
       "</div>"
      ],
      "text/plain": [
       "           통계표 코드(계정항목)           계정항목  단위   변환  2021/01  2021/02  2021/03  \\\n",
       "0  6.3. 경제심리지수    E1000    경제심리지수(원계열) NaN  원자료     92.9     96.8    101.7   \n",
       "1  6.3. 경제심리지수    E2000  경제심리지수(순환변동치) NaN  원자료     93.9     96.9     99.6   \n",
       "\n",
       "   2021/04  2021/05  ...  2024/05  2024/06  2024/07  2024/08  2024/09  \\\n",
       "0      106    105.9  ...     94.1     95.0     96.3     94.5     94.0   \n",
       "1      102    103.9  ...     93.6     93.7     93.6     93.3     92.8   \n",
       "\n",
       "   2024/10  2024/11  2024/12  2025/01  2025/02  \n",
       "0     92.8     93.0     83.3     86.7     90.2  \n",
       "1     92.1     91.2     90.2     89.3     88.4  \n",
       "\n",
       "[2 rows x 55 columns]"
      ]
     },
     "execution_count": 104,
     "metadata": {},
     "output_type": "execute_result"
    }
   ],
   "source": [
    "df = pd.read_csv(\"../../extra_data/raw/소비 심리 관련/경제심리지수.csv\")\n",
    "df"
   ]
  },
  {
   "cell_type": "code",
   "execution_count": 105,
   "metadata": {},
   "outputs": [
    {
     "data": {
      "text/plain": [
       "통계표         0\n",
       "코드(계정항목)    0\n",
       "계정항목        0\n",
       "단위          2\n",
       "변환          0\n",
       "2021/01     0\n",
       "2021/02     0\n",
       "2021/03     0\n",
       "2021/04     0\n",
       "2021/05     0\n",
       "2021/06     0\n",
       "2021/07     0\n",
       "2021/08     0\n",
       "2021/09     0\n",
       "2021/10     0\n",
       "2021/11     0\n",
       "2021/12     0\n",
       "2022/01     0\n",
       "2022/02     0\n",
       "2022/03     0\n",
       "2022/04     0\n",
       "2022/05     0\n",
       "2022/06     0\n",
       "2022/07     0\n",
       "2022/08     0\n",
       "2022/09     0\n",
       "2022/10     0\n",
       "2022/11     0\n",
       "2022/12     0\n",
       "2023/01     0\n",
       "2023/02     0\n",
       "2023/03     0\n",
       "2023/04     0\n",
       "2023/05     0\n",
       "2023/06     0\n",
       "2023/07     0\n",
       "2023/08     0\n",
       "2023/09     0\n",
       "2023/10     0\n",
       "2023/11     0\n",
       "2023/12     0\n",
       "2024/01     0\n",
       "2024/02     0\n",
       "2024/03     0\n",
       "2024/04     0\n",
       "2024/05     0\n",
       "2024/06     0\n",
       "2024/07     0\n",
       "2024/08     0\n",
       "2024/09     0\n",
       "2024/10     0\n",
       "2024/11     0\n",
       "2024/12     0\n",
       "2025/01     0\n",
       "2025/02     0\n",
       "dtype: int64"
      ]
     },
     "execution_count": 105,
     "metadata": {},
     "output_type": "execute_result"
    }
   ],
   "source": [
    "df.isna().sum()"
   ]
  },
  {
   "cell_type": "code",
   "execution_count": 106,
   "metadata": {},
   "outputs": [],
   "source": [
    "df[\"계정항목\"] = df[\"계정항목\"].str.lstrip()"
   ]
  },
  {
   "cell_type": "code",
   "execution_count": 107,
   "metadata": {},
   "outputs": [],
   "source": [
    "#df[\"단위\"] = df[\"단위\"].str.rstrip()"
   ]
  },
  {
   "cell_type": "code",
   "execution_count": 108,
   "metadata": {},
   "outputs": [
    {
     "data": {
      "application/vnd.microsoft.datawrangler.viewer.v0+json": {
       "columns": [
        {
         "name": "index",
         "rawType": "int64",
         "type": "integer"
        },
        {
         "name": "통계표",
         "rawType": "object",
         "type": "string"
        },
        {
         "name": "코드(계정항목)",
         "rawType": "object",
         "type": "string"
        },
        {
         "name": "계정항목",
         "rawType": "object",
         "type": "string"
        },
        {
         "name": "단위",
         "rawType": "float64",
         "type": "float"
        },
        {
         "name": "변환",
         "rawType": "object",
         "type": "string"
        },
        {
         "name": "2021/01",
         "rawType": "float64",
         "type": "float"
        },
        {
         "name": "2021/02",
         "rawType": "float64",
         "type": "float"
        },
        {
         "name": "2021/03",
         "rawType": "float64",
         "type": "float"
        },
        {
         "name": "2021/04",
         "rawType": "int64",
         "type": "integer"
        },
        {
         "name": "2021/05",
         "rawType": "float64",
         "type": "float"
        },
        {
         "name": "2021/06",
         "rawType": "float64",
         "type": "float"
        },
        {
         "name": "2021/07",
         "rawType": "float64",
         "type": "float"
        },
        {
         "name": "2021/08",
         "rawType": "float64",
         "type": "float"
        },
        {
         "name": "2021/09",
         "rawType": "float64",
         "type": "float"
        },
        {
         "name": "2021/10",
         "rawType": "float64",
         "type": "float"
        },
        {
         "name": "2021/11",
         "rawType": "float64",
         "type": "float"
        },
        {
         "name": "2021/12",
         "rawType": "float64",
         "type": "float"
        },
        {
         "name": "2022/01",
         "rawType": "float64",
         "type": "float"
        },
        {
         "name": "2022/02",
         "rawType": "float64",
         "type": "float"
        },
        {
         "name": "2022/03",
         "rawType": "float64",
         "type": "float"
        },
        {
         "name": "2022/04",
         "rawType": "float64",
         "type": "float"
        },
        {
         "name": "2022/05",
         "rawType": "float64",
         "type": "float"
        },
        {
         "name": "2022/06",
         "rawType": "float64",
         "type": "float"
        },
        {
         "name": "2022/07",
         "rawType": "float64",
         "type": "float"
        },
        {
         "name": "2022/08",
         "rawType": "float64",
         "type": "float"
        },
        {
         "name": "2022/09",
         "rawType": "float64",
         "type": "float"
        },
        {
         "name": "2022/10",
         "rawType": "float64",
         "type": "float"
        },
        {
         "name": "2022/11",
         "rawType": "float64",
         "type": "float"
        },
        {
         "name": "2022/12",
         "rawType": "float64",
         "type": "float"
        },
        {
         "name": "2023/01",
         "rawType": "float64",
         "type": "float"
        },
        {
         "name": "2023/02",
         "rawType": "float64",
         "type": "float"
        },
        {
         "name": "2023/03",
         "rawType": "float64",
         "type": "float"
        },
        {
         "name": "2023/04",
         "rawType": "float64",
         "type": "float"
        },
        {
         "name": "2023/05",
         "rawType": "float64",
         "type": "float"
        },
        {
         "name": "2023/06",
         "rawType": "float64",
         "type": "float"
        },
        {
         "name": "2023/07",
         "rawType": "float64",
         "type": "float"
        },
        {
         "name": "2023/08",
         "rawType": "float64",
         "type": "float"
        },
        {
         "name": "2023/09",
         "rawType": "float64",
         "type": "float"
        },
        {
         "name": "2023/10",
         "rawType": "float64",
         "type": "float"
        },
        {
         "name": "2023/11",
         "rawType": "float64",
         "type": "float"
        },
        {
         "name": "2023/12",
         "rawType": "float64",
         "type": "float"
        },
        {
         "name": "2024/01",
         "rawType": "float64",
         "type": "float"
        },
        {
         "name": "2024/02",
         "rawType": "float64",
         "type": "float"
        },
        {
         "name": "2024/03",
         "rawType": "float64",
         "type": "float"
        },
        {
         "name": "2024/04",
         "rawType": "float64",
         "type": "float"
        },
        {
         "name": "2024/05",
         "rawType": "float64",
         "type": "float"
        },
        {
         "name": "2024/06",
         "rawType": "float64",
         "type": "float"
        },
        {
         "name": "2024/07",
         "rawType": "float64",
         "type": "float"
        },
        {
         "name": "2024/08",
         "rawType": "float64",
         "type": "float"
        },
        {
         "name": "2024/09",
         "rawType": "float64",
         "type": "float"
        },
        {
         "name": "2024/10",
         "rawType": "float64",
         "type": "float"
        },
        {
         "name": "2024/11",
         "rawType": "float64",
         "type": "float"
        },
        {
         "name": "2024/12",
         "rawType": "float64",
         "type": "float"
        },
        {
         "name": "2025/01",
         "rawType": "float64",
         "type": "float"
        },
        {
         "name": "2025/02",
         "rawType": "float64",
         "type": "float"
        }
       ],
       "conversionMethod": "pd.DataFrame",
       "ref": "31029d5d-cb4e-4760-90ad-5456ce0adaff",
       "rows": [
        [
         "0",
         "6.3. 경제심리지수",
         "E1000",
         "경제심리지수(원계열)",
         null,
         "원자료",
         "92.9",
         "96.8",
         "101.7",
         "106",
         "105.9",
         "110.1",
         "104.6",
         "105.8",
         "105.3",
         "106.6",
         "107.4",
         "105.3",
         "106.4",
         "106.7",
         "104.3",
         "106.6",
         "107.6",
         "103.4",
         "98.5",
         "99.9",
         "98.6",
         "95.7",
         "91.9",
         "92.1",
         "90.7",
         "91.8",
         "91.9",
         "94.5",
         "94.9",
         "96.4",
         "94.8",
         "94.7",
         "93.4",
         "92.4",
         "91.8",
         "91.7",
         "91.8",
         "93.7",
         "92.5",
         "94.8",
         "94.1",
         "95.0",
         "96.3",
         "94.5",
         "94.0",
         "92.8",
         "93.0",
         "83.3",
         "86.7",
         "90.2"
        ],
        [
         "1",
         "6.3. 경제심리지수",
         "E2000",
         "경제심리지수(순환변동치)",
         null,
         "원자료",
         "93.9",
         "96.9",
         "99.6",
         "102",
         "103.9",
         "105.3",
         "106.3",
         "107.0",
         "107.4",
         "107.6",
         "107.6",
         "107.3",
         "106.9",
         "106.2",
         "105.4",
         "104.4",
         "103.2",
         "101.9",
         "100.5",
         "99.1",
         "97.6",
         "96.3",
         "95.1",
         "94.1",
         "93.4",
         "93.0",
         "92.8",
         "92.9",
         "93.1",
         "93.3",
         "93.4",
         "93.5",
         "93.5",
         "93.4",
         "93.4",
         "93.4",
         "93.4",
         "93.4",
         "93.4",
         "93.5",
         "93.6",
         "93.7",
         "93.6",
         "93.3",
         "92.8",
         "92.1",
         "91.2",
         "90.2",
         "89.3",
         "88.4"
        ]
       ],
       "shape": {
        "columns": 55,
        "rows": 2
       }
      },
      "text/html": [
       "<div>\n",
       "<style scoped>\n",
       "    .dataframe tbody tr th:only-of-type {\n",
       "        vertical-align: middle;\n",
       "    }\n",
       "\n",
       "    .dataframe tbody tr th {\n",
       "        vertical-align: top;\n",
       "    }\n",
       "\n",
       "    .dataframe thead th {\n",
       "        text-align: right;\n",
       "    }\n",
       "</style>\n",
       "<table border=\"1\" class=\"dataframe\">\n",
       "  <thead>\n",
       "    <tr style=\"text-align: right;\">\n",
       "      <th></th>\n",
       "      <th>통계표</th>\n",
       "      <th>코드(계정항목)</th>\n",
       "      <th>계정항목</th>\n",
       "      <th>단위</th>\n",
       "      <th>변환</th>\n",
       "      <th>2021/01</th>\n",
       "      <th>2021/02</th>\n",
       "      <th>2021/03</th>\n",
       "      <th>2021/04</th>\n",
       "      <th>2021/05</th>\n",
       "      <th>...</th>\n",
       "      <th>2024/05</th>\n",
       "      <th>2024/06</th>\n",
       "      <th>2024/07</th>\n",
       "      <th>2024/08</th>\n",
       "      <th>2024/09</th>\n",
       "      <th>2024/10</th>\n",
       "      <th>2024/11</th>\n",
       "      <th>2024/12</th>\n",
       "      <th>2025/01</th>\n",
       "      <th>2025/02</th>\n",
       "    </tr>\n",
       "  </thead>\n",
       "  <tbody>\n",
       "    <tr>\n",
       "      <th>0</th>\n",
       "      <td>6.3. 경제심리지수</td>\n",
       "      <td>E1000</td>\n",
       "      <td>경제심리지수(원계열)</td>\n",
       "      <td>NaN</td>\n",
       "      <td>원자료</td>\n",
       "      <td>92.9</td>\n",
       "      <td>96.8</td>\n",
       "      <td>101.7</td>\n",
       "      <td>106</td>\n",
       "      <td>105.9</td>\n",
       "      <td>...</td>\n",
       "      <td>94.1</td>\n",
       "      <td>95.0</td>\n",
       "      <td>96.3</td>\n",
       "      <td>94.5</td>\n",
       "      <td>94.0</td>\n",
       "      <td>92.8</td>\n",
       "      <td>93.0</td>\n",
       "      <td>83.3</td>\n",
       "      <td>86.7</td>\n",
       "      <td>90.2</td>\n",
       "    </tr>\n",
       "    <tr>\n",
       "      <th>1</th>\n",
       "      <td>6.3. 경제심리지수</td>\n",
       "      <td>E2000</td>\n",
       "      <td>경제심리지수(순환변동치)</td>\n",
       "      <td>NaN</td>\n",
       "      <td>원자료</td>\n",
       "      <td>93.9</td>\n",
       "      <td>96.9</td>\n",
       "      <td>99.6</td>\n",
       "      <td>102</td>\n",
       "      <td>103.9</td>\n",
       "      <td>...</td>\n",
       "      <td>93.6</td>\n",
       "      <td>93.7</td>\n",
       "      <td>93.6</td>\n",
       "      <td>93.3</td>\n",
       "      <td>92.8</td>\n",
       "      <td>92.1</td>\n",
       "      <td>91.2</td>\n",
       "      <td>90.2</td>\n",
       "      <td>89.3</td>\n",
       "      <td>88.4</td>\n",
       "    </tr>\n",
       "  </tbody>\n",
       "</table>\n",
       "<p>2 rows × 55 columns</p>\n",
       "</div>"
      ],
      "text/plain": [
       "           통계표 코드(계정항목)           계정항목  단위   변환  2021/01  2021/02  2021/03  \\\n",
       "0  6.3. 경제심리지수    E1000    경제심리지수(원계열) NaN  원자료     92.9     96.8    101.7   \n",
       "1  6.3. 경제심리지수    E2000  경제심리지수(순환변동치) NaN  원자료     93.9     96.9     99.6   \n",
       "\n",
       "   2021/04  2021/05  ...  2024/05  2024/06  2024/07  2024/08  2024/09  \\\n",
       "0      106    105.9  ...     94.1     95.0     96.3     94.5     94.0   \n",
       "1      102    103.9  ...     93.6     93.7     93.6     93.3     92.8   \n",
       "\n",
       "   2024/10  2024/11  2024/12  2025/01  2025/02  \n",
       "0     92.8     93.0     83.3     86.7     90.2  \n",
       "1     92.1     91.2     90.2     89.3     88.4  \n",
       "\n",
       "[2 rows x 55 columns]"
      ]
     },
     "execution_count": 108,
     "metadata": {},
     "output_type": "execute_result"
    }
   ],
   "source": [
    "df"
   ]
  },
  {
   "cell_type": "code",
   "execution_count": 109,
   "metadata": {},
   "outputs": [],
   "source": [
    "df = pd.concat([df.iloc[:, :5], df.iloc[:, 29:]], axis=1)"
   ]
  },
  {
   "cell_type": "code",
   "execution_count": 110,
   "metadata": {},
   "outputs": [
    {
     "data": {
      "application/vnd.microsoft.datawrangler.viewer.v0+json": {
       "columns": [
        {
         "name": "index",
         "rawType": "int64",
         "type": "integer"
        },
        {
         "name": "통계표",
         "rawType": "object",
         "type": "string"
        },
        {
         "name": "코드(계정항목)",
         "rawType": "object",
         "type": "string"
        },
        {
         "name": "계정항목",
         "rawType": "object",
         "type": "string"
        },
        {
         "name": "단위",
         "rawType": "float64",
         "type": "float"
        },
        {
         "name": "변환",
         "rawType": "object",
         "type": "string"
        },
        {
         "name": "2023/01",
         "rawType": "float64",
         "type": "float"
        },
        {
         "name": "2023/02",
         "rawType": "float64",
         "type": "float"
        },
        {
         "name": "2023/03",
         "rawType": "float64",
         "type": "float"
        },
        {
         "name": "2023/04",
         "rawType": "float64",
         "type": "float"
        },
        {
         "name": "2023/05",
         "rawType": "float64",
         "type": "float"
        },
        {
         "name": "2023/06",
         "rawType": "float64",
         "type": "float"
        },
        {
         "name": "2023/07",
         "rawType": "float64",
         "type": "float"
        },
        {
         "name": "2023/08",
         "rawType": "float64",
         "type": "float"
        },
        {
         "name": "2023/09",
         "rawType": "float64",
         "type": "float"
        },
        {
         "name": "2023/10",
         "rawType": "float64",
         "type": "float"
        },
        {
         "name": "2023/11",
         "rawType": "float64",
         "type": "float"
        },
        {
         "name": "2023/12",
         "rawType": "float64",
         "type": "float"
        },
        {
         "name": "2024/01",
         "rawType": "float64",
         "type": "float"
        },
        {
         "name": "2024/02",
         "rawType": "float64",
         "type": "float"
        },
        {
         "name": "2024/03",
         "rawType": "float64",
         "type": "float"
        },
        {
         "name": "2024/04",
         "rawType": "float64",
         "type": "float"
        },
        {
         "name": "2024/05",
         "rawType": "float64",
         "type": "float"
        },
        {
         "name": "2024/06",
         "rawType": "float64",
         "type": "float"
        },
        {
         "name": "2024/07",
         "rawType": "float64",
         "type": "float"
        },
        {
         "name": "2024/08",
         "rawType": "float64",
         "type": "float"
        },
        {
         "name": "2024/09",
         "rawType": "float64",
         "type": "float"
        },
        {
         "name": "2024/10",
         "rawType": "float64",
         "type": "float"
        },
        {
         "name": "2024/11",
         "rawType": "float64",
         "type": "float"
        },
        {
         "name": "2024/12",
         "rawType": "float64",
         "type": "float"
        },
        {
         "name": "2025/01",
         "rawType": "float64",
         "type": "float"
        },
        {
         "name": "2025/02",
         "rawType": "float64",
         "type": "float"
        }
       ],
       "conversionMethod": "pd.DataFrame",
       "ref": "8f3f485c-4996-4059-b5dc-5aa9b30dbfa7",
       "rows": [
        [
         "0",
         "6.3. 경제심리지수",
         "E1000",
         "경제심리지수(원계열)",
         null,
         "원자료",
         "90.7",
         "91.8",
         "91.9",
         "94.5",
         "94.9",
         "96.4",
         "94.8",
         "94.7",
         "93.4",
         "92.4",
         "91.8",
         "91.7",
         "91.8",
         "93.7",
         "92.5",
         "94.8",
         "94.1",
         "95.0",
         "96.3",
         "94.5",
         "94.0",
         "92.8",
         "93.0",
         "83.3",
         "86.7",
         "90.2"
        ],
        [
         "1",
         "6.3. 경제심리지수",
         "E2000",
         "경제심리지수(순환변동치)",
         null,
         "원자료",
         "93.4",
         "93.0",
         "92.8",
         "92.9",
         "93.1",
         "93.3",
         "93.4",
         "93.5",
         "93.5",
         "93.4",
         "93.4",
         "93.4",
         "93.4",
         "93.4",
         "93.4",
         "93.5",
         "93.6",
         "93.7",
         "93.6",
         "93.3",
         "92.8",
         "92.1",
         "91.2",
         "90.2",
         "89.3",
         "88.4"
        ]
       ],
       "shape": {
        "columns": 31,
        "rows": 2
       }
      },
      "text/html": [
       "<div>\n",
       "<style scoped>\n",
       "    .dataframe tbody tr th:only-of-type {\n",
       "        vertical-align: middle;\n",
       "    }\n",
       "\n",
       "    .dataframe tbody tr th {\n",
       "        vertical-align: top;\n",
       "    }\n",
       "\n",
       "    .dataframe thead th {\n",
       "        text-align: right;\n",
       "    }\n",
       "</style>\n",
       "<table border=\"1\" class=\"dataframe\">\n",
       "  <thead>\n",
       "    <tr style=\"text-align: right;\">\n",
       "      <th></th>\n",
       "      <th>통계표</th>\n",
       "      <th>코드(계정항목)</th>\n",
       "      <th>계정항목</th>\n",
       "      <th>단위</th>\n",
       "      <th>변환</th>\n",
       "      <th>2023/01</th>\n",
       "      <th>2023/02</th>\n",
       "      <th>2023/03</th>\n",
       "      <th>2023/04</th>\n",
       "      <th>2023/05</th>\n",
       "      <th>...</th>\n",
       "      <th>2024/05</th>\n",
       "      <th>2024/06</th>\n",
       "      <th>2024/07</th>\n",
       "      <th>2024/08</th>\n",
       "      <th>2024/09</th>\n",
       "      <th>2024/10</th>\n",
       "      <th>2024/11</th>\n",
       "      <th>2024/12</th>\n",
       "      <th>2025/01</th>\n",
       "      <th>2025/02</th>\n",
       "    </tr>\n",
       "  </thead>\n",
       "  <tbody>\n",
       "    <tr>\n",
       "      <th>0</th>\n",
       "      <td>6.3. 경제심리지수</td>\n",
       "      <td>E1000</td>\n",
       "      <td>경제심리지수(원계열)</td>\n",
       "      <td>NaN</td>\n",
       "      <td>원자료</td>\n",
       "      <td>90.7</td>\n",
       "      <td>91.8</td>\n",
       "      <td>91.9</td>\n",
       "      <td>94.5</td>\n",
       "      <td>94.9</td>\n",
       "      <td>...</td>\n",
       "      <td>94.1</td>\n",
       "      <td>95.0</td>\n",
       "      <td>96.3</td>\n",
       "      <td>94.5</td>\n",
       "      <td>94.0</td>\n",
       "      <td>92.8</td>\n",
       "      <td>93.0</td>\n",
       "      <td>83.3</td>\n",
       "      <td>86.7</td>\n",
       "      <td>90.2</td>\n",
       "    </tr>\n",
       "    <tr>\n",
       "      <th>1</th>\n",
       "      <td>6.3. 경제심리지수</td>\n",
       "      <td>E2000</td>\n",
       "      <td>경제심리지수(순환변동치)</td>\n",
       "      <td>NaN</td>\n",
       "      <td>원자료</td>\n",
       "      <td>93.4</td>\n",
       "      <td>93.0</td>\n",
       "      <td>92.8</td>\n",
       "      <td>92.9</td>\n",
       "      <td>93.1</td>\n",
       "      <td>...</td>\n",
       "      <td>93.6</td>\n",
       "      <td>93.7</td>\n",
       "      <td>93.6</td>\n",
       "      <td>93.3</td>\n",
       "      <td>92.8</td>\n",
       "      <td>92.1</td>\n",
       "      <td>91.2</td>\n",
       "      <td>90.2</td>\n",
       "      <td>89.3</td>\n",
       "      <td>88.4</td>\n",
       "    </tr>\n",
       "  </tbody>\n",
       "</table>\n",
       "<p>2 rows × 31 columns</p>\n",
       "</div>"
      ],
      "text/plain": [
       "           통계표 코드(계정항목)           계정항목  단위   변환  2023/01  2023/02  2023/03  \\\n",
       "0  6.3. 경제심리지수    E1000    경제심리지수(원계열) NaN  원자료     90.7     91.8     91.9   \n",
       "1  6.3. 경제심리지수    E2000  경제심리지수(순환변동치) NaN  원자료     93.4     93.0     92.8   \n",
       "\n",
       "   2023/04  2023/05  ...  2024/05  2024/06  2024/07  2024/08  2024/09  \\\n",
       "0     94.5     94.9  ...     94.1     95.0     96.3     94.5     94.0   \n",
       "1     92.9     93.1  ...     93.6     93.7     93.6     93.3     92.8   \n",
       "\n",
       "   2024/10  2024/11  2024/12  2025/01  2025/02  \n",
       "0     92.8     93.0     83.3     86.7     90.2  \n",
       "1     92.1     91.2     90.2     89.3     88.4  \n",
       "\n",
       "[2 rows x 31 columns]"
      ]
     },
     "execution_count": 110,
     "metadata": {},
     "output_type": "execute_result"
    }
   ],
   "source": [
    "df"
   ]
  },
  {
   "cell_type": "code",
   "execution_count": null,
   "metadata": {},
   "outputs": [],
   "source": []
  },
  {
   "cell_type": "code",
   "execution_count": null,
   "metadata": {},
   "outputs": [],
   "source": []
  },
  {
   "cell_type": "code",
   "execution_count": null,
   "metadata": {},
   "outputs": [],
   "source": []
  },
  {
   "cell_type": "code",
   "execution_count": null,
   "metadata": {},
   "outputs": [],
   "source": []
  },
  {
   "cell_type": "code",
   "execution_count": null,
   "metadata": {},
   "outputs": [],
   "source": []
  },
  {
   "cell_type": "code",
   "execution_count": null,
   "metadata": {},
   "outputs": [],
   "source": []
  },
  {
   "cell_type": "code",
   "execution_count": null,
   "metadata": {},
   "outputs": [],
   "source": []
  },
  {
   "cell_type": "code",
   "execution_count": null,
   "metadata": {},
   "outputs": [],
   "source": []
  },
  {
   "cell_type": "code",
   "execution_count": 112,
   "metadata": {},
   "outputs": [],
   "source": [
    "df.to_csv(\"../../extra_data/processed/소비 심리 관련/경제심리지수.csv\", index=False)"
   ]
  },
  {
   "cell_type": "code",
   "execution_count": null,
   "metadata": {},
   "outputs": [],
   "source": []
  },
  {
   "cell_type": "code",
   "execution_count": null,
   "metadata": {},
   "outputs": [],
   "source": []
  },
  {
   "cell_type": "code",
   "execution_count": null,
   "metadata": {},
   "outputs": [],
   "source": []
  },
  {
   "cell_type": "code",
   "execution_count": null,
   "metadata": {},
   "outputs": [],
   "source": []
  }
 ],
 "metadata": {
  "kernelspec": {
   "display_name": "hi",
   "language": "python",
   "name": "python3"
  },
  "language_info": {
   "codemirror_mode": {
    "name": "ipython",
    "version": 3
   },
   "file_extension": ".py",
   "mimetype": "text/x-python",
   "name": "python",
   "nbconvert_exporter": "python",
   "pygments_lexer": "ipython3",
   "version": "3.10.16"
  }
 },
 "nbformat": 4,
 "nbformat_minor": 2
}
