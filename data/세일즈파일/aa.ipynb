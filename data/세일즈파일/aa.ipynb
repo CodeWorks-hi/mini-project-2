{
 "cells": [
  {
   "cell_type": "code",
   "execution_count": 15,
   "metadata": {},
   "outputs": [],
   "source": [
    "# 📌 필요한 라이브러리 불러오기\n",
    "import pandas as pd\n",
    "\n",
    "# 📁 파일 경로 지정\n",
    "hyundai_path = \"../processed/현대_해외공장판매실적_전처리.CSV\"\n",
    "kia_path = \"../processed/기아_해외공장판매실적_전처리.CSV\"\n",
    "\n",
    "# 📥 CSV 파일 불러오기\n",
    "df_hyundai = pd.read_csv(hyundai_path)\n",
    "df_kia = pd.read_csv(kia_path)\n",
    "\n",
    "\n"
   ]
  },
  {
   "cell_type": "code",
   "execution_count": 16,
   "metadata": {},
   "outputs": [
    {
     "name": "stdout",
     "output_type": "stream",
     "text": [
      "✅ 현대 해외공장 국가 매핑:\n"
     ]
    },
    {
     "data": {
      "application/vnd.microsoft.datawrangler.viewer.v0+json": {
       "columns": [
        {
         "name": "index",
         "rawType": "int64",
         "type": "integer"
        },
        {
         "name": "해외 공장",
         "rawType": "object",
         "type": "string"
        },
        {
         "name": "공장 국가",
         "rawType": "object",
         "type": "string"
        }
       ],
       "conversionMethod": "pd.DataFrame",
       "ref": "799dd290-0b7f-42c6-a2aa-adf4888e7ce9",
       "rows": [
        [
         "0",
         "HMI",
         "인도"
        ],
        [
         "27",
         "HAOS",
         "터키"
        ],
        [
         "35",
         "BHMC",
         "중국"
        ],
        [
         "52",
         "HMMA",
         "미국"
        ],
        [
         "67",
         "HMMC",
         "체코"
        ],
        [
         "75",
         "HMMR",
         "러시아"
        ],
        [
         "81",
         "HMB",
         "브라질"
        ],
        [
         "87",
         "HMMI",
         "인도네시아"
        ],
        [
         "95",
         "HTBC",
         "태국"
        ],
        [
         "97",
         "Others",
         "기타"
        ],
        [
         "98",
         "Russia",
         "러시아"
        ],
        [
         "99",
         "Vietnam",
         "베트남"
        ],
        [
         "119",
         "Singapore",
         "싱가포르"
        ],
        [
         "121",
         "CKD",
         "기타"
        ],
        [
         "185",
         "HMGMA",
         "말레이시아"
        ],
        [
         "223",
         "KMX",
         "멕시코"
        ]
       ],
       "shape": {
        "columns": 2,
        "rows": 16
       }
      },
      "text/html": [
       "<div>\n",
       "<style scoped>\n",
       "    .dataframe tbody tr th:only-of-type {\n",
       "        vertical-align: middle;\n",
       "    }\n",
       "\n",
       "    .dataframe tbody tr th {\n",
       "        vertical-align: top;\n",
       "    }\n",
       "\n",
       "    .dataframe thead th {\n",
       "        text-align: right;\n",
       "    }\n",
       "</style>\n",
       "<table border=\"1\" class=\"dataframe\">\n",
       "  <thead>\n",
       "    <tr style=\"text-align: right;\">\n",
       "      <th></th>\n",
       "      <th>해외 공장</th>\n",
       "      <th>공장 국가</th>\n",
       "    </tr>\n",
       "  </thead>\n",
       "  <tbody>\n",
       "    <tr>\n",
       "      <th>0</th>\n",
       "      <td>HMI</td>\n",
       "      <td>인도</td>\n",
       "    </tr>\n",
       "    <tr>\n",
       "      <th>27</th>\n",
       "      <td>HAOS</td>\n",
       "      <td>터키</td>\n",
       "    </tr>\n",
       "    <tr>\n",
       "      <th>35</th>\n",
       "      <td>BHMC</td>\n",
       "      <td>중국</td>\n",
       "    </tr>\n",
       "    <tr>\n",
       "      <th>52</th>\n",
       "      <td>HMMA</td>\n",
       "      <td>미국</td>\n",
       "    </tr>\n",
       "    <tr>\n",
       "      <th>67</th>\n",
       "      <td>HMMC</td>\n",
       "      <td>체코</td>\n",
       "    </tr>\n",
       "    <tr>\n",
       "      <th>75</th>\n",
       "      <td>HMMR</td>\n",
       "      <td>러시아</td>\n",
       "    </tr>\n",
       "    <tr>\n",
       "      <th>81</th>\n",
       "      <td>HMB</td>\n",
       "      <td>브라질</td>\n",
       "    </tr>\n",
       "    <tr>\n",
       "      <th>87</th>\n",
       "      <td>HMMI</td>\n",
       "      <td>인도네시아</td>\n",
       "    </tr>\n",
       "    <tr>\n",
       "      <th>95</th>\n",
       "      <td>HTBC</td>\n",
       "      <td>태국</td>\n",
       "    </tr>\n",
       "    <tr>\n",
       "      <th>97</th>\n",
       "      <td>Others</td>\n",
       "      <td>기타</td>\n",
       "    </tr>\n",
       "    <tr>\n",
       "      <th>98</th>\n",
       "      <td>Russia</td>\n",
       "      <td>러시아</td>\n",
       "    </tr>\n",
       "    <tr>\n",
       "      <th>99</th>\n",
       "      <td>Vietnam</td>\n",
       "      <td>베트남</td>\n",
       "    </tr>\n",
       "    <tr>\n",
       "      <th>119</th>\n",
       "      <td>Singapore</td>\n",
       "      <td>싱가포르</td>\n",
       "    </tr>\n",
       "    <tr>\n",
       "      <th>121</th>\n",
       "      <td>CKD</td>\n",
       "      <td>기타</td>\n",
       "    </tr>\n",
       "    <tr>\n",
       "      <th>185</th>\n",
       "      <td>HMGMA</td>\n",
       "      <td>말레이시아</td>\n",
       "    </tr>\n",
       "    <tr>\n",
       "      <th>223</th>\n",
       "      <td>KMX</td>\n",
       "      <td>멕시코</td>\n",
       "    </tr>\n",
       "  </tbody>\n",
       "</table>\n",
       "</div>"
      ],
      "text/plain": [
       "         해외 공장  공장 국가\n",
       "0          HMI     인도\n",
       "27        HAOS     터키\n",
       "35        BHMC     중국\n",
       "52        HMMA     미국\n",
       "67        HMMC     체코\n",
       "75        HMMR    러시아\n",
       "81         HMB    브라질\n",
       "87        HMMI  인도네시아\n",
       "95        HTBC     태국\n",
       "97      Others     기타\n",
       "98      Russia    러시아\n",
       "99     Vietnam    베트남\n",
       "119  Singapore   싱가포르\n",
       "121        CKD     기타\n",
       "185      HMGMA  말레이시아\n",
       "223        KMX    멕시코"
      ]
     },
     "metadata": {},
     "output_type": "display_data"
    }
   ],
   "source": [
    "# 🌏 공장 코드 ➝ 한글 국가명 매핑 딕셔너리 정의\n",
    "plant_to_country = {\n",
    "    \"HMI\": \"인도\",\n",
    "    \"HAOS\": \"터키\",\n",
    "    \"BHMC\": \"중국\",\n",
    "    \"HMMA\": \"미국\",\n",
    "    \"HMMC\": \"체코\",\n",
    "    \"HMMR\": \"러시아\",\n",
    "    \"HMB\": \"브라질\",\n",
    "    \"HMMI\": \"인도네시아\",\n",
    "    \"HTBC\": \"태국\",\n",
    "    \"HMGMA\": \"말레이시아\",\n",
    "    \"KMX\": \"멕시코\",\n",
    "    \"Others\": \"기타\",\n",
    "    \"Russia\": \"러시아\",\n",
    "    \"Vietnam\": \"베트남\",\n",
    "    \"Singapore\": \"싱가포르\",\n",
    "    \"CKD\": \"기타\"\n",
    "}\n",
    "\n",
    "# ✅ '공장 국가' 컬럼 생성 (해외 공장명 → 국가명)\n",
    "df_hyundai[\"공장 국가\"] = df_hyundai[\"해외 공장\"].map(plant_to_country)\n",
    "\n",
    "\n",
    "# 🔍 결과 미리보기\n",
    "print(\"✅ 현대 해외공장 국가 매핑:\")\n",
    "display(df_hyundai[[\"해외 공장\", \"공장 국가\"]].drop_duplicates())\n"
   ]
  },
  {
   "cell_type": "code",
   "execution_count": 17,
   "metadata": {},
   "outputs": [
    {
     "data": {
      "application/vnd.microsoft.datawrangler.viewer.v0+json": {
       "columns": [
        {
         "name": "index",
         "rawType": "int64",
         "type": "integer"
        },
        {
         "name": "공장명(국가)",
         "rawType": "object",
         "type": "string"
        },
        {
         "name": "공장 국가",
         "rawType": "object",
         "type": "string"
        }
       ],
       "conversionMethod": "pd.DataFrame",
       "ref": "b823931d-c00b-4c96-9c62-50a15334fb31",
       "rows": [
        [
         "0",
         "US Plant",
         "미국"
        ],
        [
         "4",
         "China Plant",
         "중국"
        ],
        [
         "18",
         "Slovakia Plant",
         "슬로바키아"
        ],
        [
         "21",
         "Mexico Plant",
         "멕시코"
        ],
        [
         "24",
         "India Plant",
         "인도"
        ],
        [
         "33",
         "China Plants",
         "중국"
        ]
       ],
       "shape": {
        "columns": 2,
        "rows": 6
       }
      },
      "text/html": [
       "<div>\n",
       "<style scoped>\n",
       "    .dataframe tbody tr th:only-of-type {\n",
       "        vertical-align: middle;\n",
       "    }\n",
       "\n",
       "    .dataframe tbody tr th {\n",
       "        vertical-align: top;\n",
       "    }\n",
       "\n",
       "    .dataframe thead th {\n",
       "        text-align: right;\n",
       "    }\n",
       "</style>\n",
       "<table border=\"1\" class=\"dataframe\">\n",
       "  <thead>\n",
       "    <tr style=\"text-align: right;\">\n",
       "      <th></th>\n",
       "      <th>공장명(국가)</th>\n",
       "      <th>공장 국가</th>\n",
       "    </tr>\n",
       "  </thead>\n",
       "  <tbody>\n",
       "    <tr>\n",
       "      <th>0</th>\n",
       "      <td>US Plant</td>\n",
       "      <td>미국</td>\n",
       "    </tr>\n",
       "    <tr>\n",
       "      <th>4</th>\n",
       "      <td>China Plant</td>\n",
       "      <td>중국</td>\n",
       "    </tr>\n",
       "    <tr>\n",
       "      <th>18</th>\n",
       "      <td>Slovakia Plant</td>\n",
       "      <td>슬로바키아</td>\n",
       "    </tr>\n",
       "    <tr>\n",
       "      <th>21</th>\n",
       "      <td>Mexico Plant</td>\n",
       "      <td>멕시코</td>\n",
       "    </tr>\n",
       "    <tr>\n",
       "      <th>24</th>\n",
       "      <td>India Plant</td>\n",
       "      <td>인도</td>\n",
       "    </tr>\n",
       "    <tr>\n",
       "      <th>33</th>\n",
       "      <td>China Plants</td>\n",
       "      <td>중국</td>\n",
       "    </tr>\n",
       "  </tbody>\n",
       "</table>\n",
       "</div>"
      ],
      "text/plain": [
       "           공장명(국가)  공장 국가\n",
       "0         US Plant     미국\n",
       "4      China Plant     중국\n",
       "18  Slovakia Plant  슬로바키아\n",
       "21    Mexico Plant    멕시코\n",
       "24     India Plant     인도\n",
       "33    China Plants     중국"
      ]
     },
     "metadata": {},
     "output_type": "display_data"
    }
   ],
   "source": [
    "plant_name_to_korean = {\n",
    "    \"US Plant\": \"미국\",\n",
    "    \"China Plant\": \"중국\",\n",
    "    \"China Plants\": \"중국\",\n",
    "    \"Slovakia Plant\": \"슬로바키아\",\n",
    "    \"Mexico Plant\": \"멕시코\",\n",
    "    \"India Plant\": \"인도\"\n",
    "}\n",
    "\n",
    "# 2. 공장명(국가) 컬럼 → 공장 국가 컬럼으로 매핑\n",
    "df_kia[\"공장 국가\"] = df_kia[\"공장명(국가)\"].map(plant_name_to_korean)\n",
    "\n",
    "# 3. 결과 확인\n",
    "display(df_kia[[\"공장명(국가)\", \"공장 국가\"]].drop_duplicates())"
   ]
  },
  {
   "cell_type": "code",
   "execution_count": 22,
   "metadata": {},
   "outputs": [
    {
     "name": "stdout",
     "output_type": "stream",
     "text": [
      "✅ 저장 완료: 세일즈파일/00_해외공장판매실적.csv\n"
     ]
    }
   ],
   "source": [
    "import pandas as pd\n",
    "import os\n",
    "\n",
    "# 1. 저장 경로 생성\n",
    "save_dir = \"세일즈파일/\"\n",
    "os.makedirs(save_dir, exist_ok=True)\n",
    "\n",
    "# 2. 현대 파일 로드 및 국가명 매핑\n",
    "df_hyundai = pd.read_csv(\"../processed/현대_해외공장판매실적_전처리.CSV\")\n",
    "df_hyundai[\"공장 국가\"] = df_hyundai[\"해외 공장\"].map({\n",
    "    \"HMI\": \"인도\", \"HAOS\": \"터키\", \"BHMC\": \"중국\", \"HMMA\": \"미국\", \"HMMC\": \"체코\",\n",
    "    \"HMMR\": \"러시아\", \"HMB\": \"브라질\", \"HMMI\": \"인도네시아\", \"HTBC\": \"태국\",\n",
    "    \"HMGMA\": \"말레이시아\", \"KMX\": \"멕시코\", \"Others\": \"기타\", \"Russia\": \"러시아\",\n",
    "    \"Vietnam\": \"베트남\", \"Singapore\": \"싱가포르\", \"CKD\": \"기타\"\n",
    "})\n",
    "\n",
    "# 3. 기아 파일 로드 및 국가명 매핑\n",
    "df_kia = pd.read_csv(\"../processed/기아_해외공장판매실적_전처리.CSV\")\n",
    "df_kia[\"공장 국가\"] = df_kia[\"공장명(국가)\"].map({\n",
    "    \"US Plant\": \"미국\", \"China Plant\": \"중국\", \"China Plants\": \"중국\",\n",
    "    \"Slovakia Plant\": \"슬로바키아\", \"Mexico Plant\": \"멕시코\", \"India Plant\": \"인도\"\n",
    "})\n",
    "\n",
    "# 4. 병합\n",
    "df_all = pd.concat([df_hyundai, df_kia], ignore_index=True)\n",
    "\n",
    "# 5. 저장\n",
    "output_path = os.path.join(save_dir, \"00_해외공장판매실적.csv\")\n",
    "df_all.to_csv(output_path, index=False, encoding=\"utf-8-sig\")\n",
    "\n",
    "print(\"✅ 저장 완료:\", output_path)\n"
   ]
  },
  {
   "cell_type": "code",
   "execution_count": 23,
   "metadata": {},
   "outputs": [
    {
     "name": "stdout",
     "output_type": "stream",
     "text": [
      "✅ 전처리 완료 및 저장 완료:\n",
      "- ../processed/현대_차종별판매실적_전처리_v2.CSV\n",
      "- ../processed/현대_판매실적_전처리_v2.CSV\n"
     ]
    },
    {
     "data": {
      "application/vnd.microsoft.datawrangler.viewer.v0+json": {
       "columns": [
        {
         "name": "index",
         "rawType": "int64",
         "type": "integer"
        },
        {
         "name": "차종",
         "rawType": "object",
         "type": "string"
        },
        {
         "name": "1월",
         "rawType": "int64",
         "type": "integer"
        },
        {
         "name": "2월",
         "rawType": "float64",
         "type": "float"
        },
        {
         "name": "3월",
         "rawType": "float64",
         "type": "float"
        },
        {
         "name": "4월",
         "rawType": "float64",
         "type": "float"
        },
        {
         "name": "5월",
         "rawType": "float64",
         "type": "float"
        },
        {
         "name": "6월",
         "rawType": "float64",
         "type": "float"
        },
        {
         "name": "7월",
         "rawType": "float64",
         "type": "float"
        },
        {
         "name": "8월",
         "rawType": "float64",
         "type": "float"
        },
        {
         "name": "9월",
         "rawType": "float64",
         "type": "float"
        },
        {
         "name": "10월",
         "rawType": "float64",
         "type": "float"
        },
        {
         "name": "11월",
         "rawType": "float64",
         "type": "float"
        },
        {
         "name": "12월",
         "rawType": "float64",
         "type": "float"
        },
        {
         "name": "연도",
         "rawType": "int64",
         "type": "integer"
        },
        {
         "name": "차량 구분",
         "rawType": "object",
         "type": "unknown"
        }
       ],
       "conversionMethod": "pd.DataFrame",
       "ref": "6d081611-24e4-471f-a21d-e76712b217d0",
       "rows": [
        [
         "0",
         "i10 (AC3)",
         "4791",
         "3820.0",
         "5365.0",
         "3514.0",
         "4714.0",
         "5812.0",
         "4593.0",
         "2961.0",
         "4762.0",
         "3965.0",
         "4564.0",
         "3953.0",
         "2023",
         null
        ],
        [
         "1",
         "i20 (GB)",
         "0",
         "0.0",
         "0.0",
         "0.0",
         "0.0",
         "0.0",
         "0.0",
         "0.0",
         "0.0",
         "0.0",
         "0.0",
         "0.0",
         "2023",
         null
        ],
        [
         "2",
         "i20 (BC3)",
         "3100",
         "3221.0",
         "5174.0",
         "4437.0",
         "4722.0",
         "4607.0",
         "4908.0",
         "3119.0",
         "4747.0",
         "3872.0",
         "3459.0",
         "3041.0",
         "2023",
         null
        ],
        [
         "3",
         "i20 N (BC3 N)",
         "202",
         "194.0",
         "600.0",
         "360.0",
         "444.0",
         "342.0",
         "298.0",
         "379.0",
         "663.0",
         "592.0",
         "597.0",
         "634.0",
         "2023",
         null
        ],
        [
         "4",
         "Elantra",
         "117",
         "131.0",
         "108.0",
         "181.0",
         "147.0",
         "237.0",
         "198.0",
         "90.0",
         "40.0",
         "31.0",
         "80.0",
         "30.0",
         "2023",
         null
        ]
       ],
       "shape": {
        "columns": 15,
        "rows": 5
       }
      },
      "text/html": [
       "<div>\n",
       "<style scoped>\n",
       "    .dataframe tbody tr th:only-of-type {\n",
       "        vertical-align: middle;\n",
       "    }\n",
       "\n",
       "    .dataframe tbody tr th {\n",
       "        vertical-align: top;\n",
       "    }\n",
       "\n",
       "    .dataframe thead th {\n",
       "        text-align: right;\n",
       "    }\n",
       "</style>\n",
       "<table border=\"1\" class=\"dataframe\">\n",
       "  <thead>\n",
       "    <tr style=\"text-align: right;\">\n",
       "      <th></th>\n",
       "      <th>차종</th>\n",
       "      <th>1월</th>\n",
       "      <th>2월</th>\n",
       "      <th>3월</th>\n",
       "      <th>4월</th>\n",
       "      <th>5월</th>\n",
       "      <th>6월</th>\n",
       "      <th>7월</th>\n",
       "      <th>8월</th>\n",
       "      <th>9월</th>\n",
       "      <th>10월</th>\n",
       "      <th>11월</th>\n",
       "      <th>12월</th>\n",
       "      <th>연도</th>\n",
       "      <th>차량 구분</th>\n",
       "    </tr>\n",
       "  </thead>\n",
       "  <tbody>\n",
       "    <tr>\n",
       "      <th>0</th>\n",
       "      <td>i10 (AC3)</td>\n",
       "      <td>4791</td>\n",
       "      <td>3820.0</td>\n",
       "      <td>5365.0</td>\n",
       "      <td>3514.0</td>\n",
       "      <td>4714.0</td>\n",
       "      <td>5812.0</td>\n",
       "      <td>4593.0</td>\n",
       "      <td>2961.0</td>\n",
       "      <td>4762.0</td>\n",
       "      <td>3965.0</td>\n",
       "      <td>4564.0</td>\n",
       "      <td>3953.0</td>\n",
       "      <td>2023</td>\n",
       "      <td>NaN</td>\n",
       "    </tr>\n",
       "    <tr>\n",
       "      <th>1</th>\n",
       "      <td>i20 (GB)</td>\n",
       "      <td>0</td>\n",
       "      <td>0.0</td>\n",
       "      <td>0.0</td>\n",
       "      <td>0.0</td>\n",
       "      <td>0.0</td>\n",
       "      <td>0.0</td>\n",
       "      <td>0.0</td>\n",
       "      <td>0.0</td>\n",
       "      <td>0.0</td>\n",
       "      <td>0.0</td>\n",
       "      <td>0.0</td>\n",
       "      <td>0.0</td>\n",
       "      <td>2023</td>\n",
       "      <td>NaN</td>\n",
       "    </tr>\n",
       "    <tr>\n",
       "      <th>2</th>\n",
       "      <td>i20 (BC3)</td>\n",
       "      <td>3100</td>\n",
       "      <td>3221.0</td>\n",
       "      <td>5174.0</td>\n",
       "      <td>4437.0</td>\n",
       "      <td>4722.0</td>\n",
       "      <td>4607.0</td>\n",
       "      <td>4908.0</td>\n",
       "      <td>3119.0</td>\n",
       "      <td>4747.0</td>\n",
       "      <td>3872.0</td>\n",
       "      <td>3459.0</td>\n",
       "      <td>3041.0</td>\n",
       "      <td>2023</td>\n",
       "      <td>NaN</td>\n",
       "    </tr>\n",
       "    <tr>\n",
       "      <th>3</th>\n",
       "      <td>i20 N (BC3 N)</td>\n",
       "      <td>202</td>\n",
       "      <td>194.0</td>\n",
       "      <td>600.0</td>\n",
       "      <td>360.0</td>\n",
       "      <td>444.0</td>\n",
       "      <td>342.0</td>\n",
       "      <td>298.0</td>\n",
       "      <td>379.0</td>\n",
       "      <td>663.0</td>\n",
       "      <td>592.0</td>\n",
       "      <td>597.0</td>\n",
       "      <td>634.0</td>\n",
       "      <td>2023</td>\n",
       "      <td>NaN</td>\n",
       "    </tr>\n",
       "    <tr>\n",
       "      <th>4</th>\n",
       "      <td>Elantra</td>\n",
       "      <td>117</td>\n",
       "      <td>131.0</td>\n",
       "      <td>108.0</td>\n",
       "      <td>181.0</td>\n",
       "      <td>147.0</td>\n",
       "      <td>237.0</td>\n",
       "      <td>198.0</td>\n",
       "      <td>90.0</td>\n",
       "      <td>40.0</td>\n",
       "      <td>31.0</td>\n",
       "      <td>80.0</td>\n",
       "      <td>30.0</td>\n",
       "      <td>2023</td>\n",
       "      <td>NaN</td>\n",
       "    </tr>\n",
       "  </tbody>\n",
       "</table>\n",
       "</div>"
      ],
      "text/plain": [
       "              차종    1월      2월      3월      4월      5월      6월      7월  \\\n",
       "0      i10 (AC3)  4791  3820.0  5365.0  3514.0  4714.0  5812.0  4593.0   \n",
       "1       i20 (GB)     0     0.0     0.0     0.0     0.0     0.0     0.0   \n",
       "2      i20 (BC3)  3100  3221.0  5174.0  4437.0  4722.0  4607.0  4908.0   \n",
       "3  i20 N (BC3 N)   202   194.0   600.0   360.0   444.0   342.0   298.0   \n",
       "4        Elantra   117   131.0   108.0   181.0   147.0   237.0   198.0   \n",
       "\n",
       "       8월      9월     10월     11월     12월    연도 차량 구분  \n",
       "0  2961.0  4762.0  3965.0  4564.0  3953.0  2023   NaN  \n",
       "1     0.0     0.0     0.0     0.0     0.0  2023   NaN  \n",
       "2  3119.0  4747.0  3872.0  3459.0  3041.0  2023   NaN  \n",
       "3   379.0   663.0   592.0   597.0   634.0  2023   NaN  \n",
       "4    90.0    40.0    31.0    80.0    30.0  2023   NaN  "
      ]
     },
     "execution_count": 23,
     "metadata": {},
     "output_type": "execute_result"
    }
   ],
   "source": [
    "import pandas as pd\n",
    "import os\n",
    "\n",
    "# 파일 경로 (현재 노트북은 data/세일즈파일/aa.ipynb 이므로 상위 폴더로 이동)\n",
    "file_model = \"../processed/현대_차종별판매실적_전처리.CSV\"\n",
    "file_sales = \"../processed/현대_판매실적_전처리.CSV\"\n",
    "\n",
    "# CSV 읽기\n",
    "df_model = pd.read_csv(file_model)\n",
    "df_sales = pd.read_csv(file_sales)\n",
    "\n",
    "# 차량 유형 영어 → 한글 매핑 딕셔너리\n",
    "type_mapping = {\n",
    "    \"Passenger Car\": \"승용차\",\n",
    "    \"Commercial Vehicle\": \"상용차\",\n",
    "    \"Recreational Vehicle\": \"RV\",\n",
    "    \"Special Vehicle\": \"특수차\",\n",
    "    \"Total\": \"전체\"\n",
    "}\n",
    "\n",
    "# 차량 유형 컬럼 값 변환 및 컬럼명 통일\n",
    "def standardize(df):\n",
    "    df = df.copy()\n",
    "    df[\"차량 구분\"] = df[\"차량 유형\"].map(type_mapping)\n",
    "    df.drop(columns=[\"차량 유형\"], inplace=True)\n",
    "    # 월 컬럼 숫자형 변환\n",
    "    month_cols = [f\"{i}월\" for i in range(1, 13)]\n",
    "    df[month_cols] = df[month_cols].apply(pd.to_numeric, errors='coerce')\n",
    "    return df\n",
    "\n",
    "df_model_cleaned = standardize(df_model)\n",
    "df_sales_cleaned = standardize(df_sales)\n",
    "\n",
    "# 저장 경로 지정\n",
    "save_model = \"../processed/현대_차종별판매실적_전처리_v2.CSV\"\n",
    "save_sales = \"../processed/현대_판매실적_전처리_v2.CSV\"\n",
    "\n",
    "# 저장\n",
    "df_model_cleaned.to_csv(save_model, index=False, encoding=\"utf-8-sig\")\n",
    "df_sales_cleaned.to_csv(save_sales, index=False, encoding=\"utf-8-sig\")\n",
    "\n",
    "print(\"✅ 전처리 완료 및 저장 완료:\")\n",
    "print(\"-\", save_model)\n",
    "print(\"-\", save_sales)\n",
    "\n",
    "# 결과 미리보기 (옵션)\n",
    "df_model_cleaned.head()\n"
   ]
  },
  {
   "cell_type": "code",
   "execution_count": null,
   "metadata": {},
   "outputs": [
    {
     "ename": "KeyError",
     "evalue": "\"None of [Index(['1월', '2월', '3월', '4월', '5월', '6월', '7월', '8월', '9월', '10월', '11월',\\n       '12월'],\\n      dtype='object')] are in the [columns]\"",
     "output_type": "error",
     "traceback": [
      "\u001b[0;31m---------------------------------------------------------------------------\u001b[0m",
      "\u001b[0;31mKeyError\u001b[0m                                  Traceback (most recent call last)",
      "Cell \u001b[0;32mIn[26], line 33\u001b[0m\n\u001b[1;32m     31\u001b[0m \u001b[38;5;66;03m# 5. 전처리 실행\u001b[39;00m\n\u001b[1;32m     32\u001b[0m df_model_clean \u001b[38;5;241m=\u001b[39m preprocess(df_model)\n\u001b[0;32m---> 33\u001b[0m df_sales_clean \u001b[38;5;241m=\u001b[39m \u001b[43mpreprocess\u001b[49m\u001b[43m(\u001b[49m\u001b[43mdf_sales\u001b[49m\u001b[43m)\u001b[49m\n\u001b[1;32m     35\u001b[0m \u001b[38;5;66;03m# 6. 저장\u001b[39;00m\n\u001b[1;32m     36\u001b[0m df_model_clean\u001b[38;5;241m.\u001b[39mto_csv(\u001b[38;5;124m\"\u001b[39m\u001b[38;5;124m기아_차종별판매실적_전처리_v2.CSV\u001b[39m\u001b[38;5;124m\"\u001b[39m, index\u001b[38;5;241m=\u001b[39m\u001b[38;5;28;01mFalse\u001b[39;00m, encoding\u001b[38;5;241m=\u001b[39m\u001b[38;5;124m\"\u001b[39m\u001b[38;5;124mutf-8-sig\u001b[39m\u001b[38;5;124m\"\u001b[39m)\n",
      "Cell \u001b[0;32mIn[26], line 28\u001b[0m, in \u001b[0;36mpreprocess\u001b[0;34m(df)\u001b[0m\n\u001b[1;32m     26\u001b[0m \u001b[38;5;66;03m# 월별 컬럼 숫자형 변환\u001b[39;00m\n\u001b[1;32m     27\u001b[0m month_cols \u001b[38;5;241m=\u001b[39m [\u001b[38;5;124mf\u001b[39m\u001b[38;5;124m\"\u001b[39m\u001b[38;5;132;01m{\u001b[39;00mi\u001b[38;5;132;01m}\u001b[39;00m\u001b[38;5;124m월\u001b[39m\u001b[38;5;124m\"\u001b[39m \u001b[38;5;28;01mfor\u001b[39;00m i \u001b[38;5;129;01min\u001b[39;00m \u001b[38;5;28mrange\u001b[39m(\u001b[38;5;241m1\u001b[39m, \u001b[38;5;241m13\u001b[39m)]\n\u001b[0;32m---> 28\u001b[0m df[month_cols] \u001b[38;5;241m=\u001b[39m \u001b[43mdf\u001b[49m\u001b[43m[\u001b[49m\u001b[43mmonth_cols\u001b[49m\u001b[43m]\u001b[49m\u001b[38;5;241m.\u001b[39mapply(pd\u001b[38;5;241m.\u001b[39mto_numeric, errors\u001b[38;5;241m=\u001b[39m\u001b[38;5;124m\"\u001b[39m\u001b[38;5;124mcoerce\u001b[39m\u001b[38;5;124m\"\u001b[39m)\n\u001b[1;32m     29\u001b[0m \u001b[38;5;28;01mreturn\u001b[39;00m df\n",
      "File \u001b[0;32m~/hi/lib/python3.10/site-packages/pandas/core/frame.py:4108\u001b[0m, in \u001b[0;36mDataFrame.__getitem__\u001b[0;34m(self, key)\u001b[0m\n\u001b[1;32m   4106\u001b[0m     \u001b[38;5;28;01mif\u001b[39;00m is_iterator(key):\n\u001b[1;32m   4107\u001b[0m         key \u001b[38;5;241m=\u001b[39m \u001b[38;5;28mlist\u001b[39m(key)\n\u001b[0;32m-> 4108\u001b[0m     indexer \u001b[38;5;241m=\u001b[39m \u001b[38;5;28;43mself\u001b[39;49m\u001b[38;5;241;43m.\u001b[39;49m\u001b[43mcolumns\u001b[49m\u001b[38;5;241;43m.\u001b[39;49m\u001b[43m_get_indexer_strict\u001b[49m\u001b[43m(\u001b[49m\u001b[43mkey\u001b[49m\u001b[43m,\u001b[49m\u001b[43m \u001b[49m\u001b[38;5;124;43m\"\u001b[39;49m\u001b[38;5;124;43mcolumns\u001b[39;49m\u001b[38;5;124;43m\"\u001b[39;49m\u001b[43m)\u001b[49m[\u001b[38;5;241m1\u001b[39m]\n\u001b[1;32m   4110\u001b[0m \u001b[38;5;66;03m# take() does not accept boolean indexers\u001b[39;00m\n\u001b[1;32m   4111\u001b[0m \u001b[38;5;28;01mif\u001b[39;00m \u001b[38;5;28mgetattr\u001b[39m(indexer, \u001b[38;5;124m\"\u001b[39m\u001b[38;5;124mdtype\u001b[39m\u001b[38;5;124m\"\u001b[39m, \u001b[38;5;28;01mNone\u001b[39;00m) \u001b[38;5;241m==\u001b[39m \u001b[38;5;28mbool\u001b[39m:\n",
      "File \u001b[0;32m~/hi/lib/python3.10/site-packages/pandas/core/indexes/base.py:6200\u001b[0m, in \u001b[0;36mIndex._get_indexer_strict\u001b[0;34m(self, key, axis_name)\u001b[0m\n\u001b[1;32m   6197\u001b[0m \u001b[38;5;28;01melse\u001b[39;00m:\n\u001b[1;32m   6198\u001b[0m     keyarr, indexer, new_indexer \u001b[38;5;241m=\u001b[39m \u001b[38;5;28mself\u001b[39m\u001b[38;5;241m.\u001b[39m_reindex_non_unique(keyarr)\n\u001b[0;32m-> 6200\u001b[0m \u001b[38;5;28;43mself\u001b[39;49m\u001b[38;5;241;43m.\u001b[39;49m\u001b[43m_raise_if_missing\u001b[49m\u001b[43m(\u001b[49m\u001b[43mkeyarr\u001b[49m\u001b[43m,\u001b[49m\u001b[43m \u001b[49m\u001b[43mindexer\u001b[49m\u001b[43m,\u001b[49m\u001b[43m \u001b[49m\u001b[43maxis_name\u001b[49m\u001b[43m)\u001b[49m\n\u001b[1;32m   6202\u001b[0m keyarr \u001b[38;5;241m=\u001b[39m \u001b[38;5;28mself\u001b[39m\u001b[38;5;241m.\u001b[39mtake(indexer)\n\u001b[1;32m   6203\u001b[0m \u001b[38;5;28;01mif\u001b[39;00m \u001b[38;5;28misinstance\u001b[39m(key, Index):\n\u001b[1;32m   6204\u001b[0m     \u001b[38;5;66;03m# GH 42790 - Preserve name from an Index\u001b[39;00m\n",
      "File \u001b[0;32m~/hi/lib/python3.10/site-packages/pandas/core/indexes/base.py:6249\u001b[0m, in \u001b[0;36mIndex._raise_if_missing\u001b[0;34m(self, key, indexer, axis_name)\u001b[0m\n\u001b[1;32m   6247\u001b[0m \u001b[38;5;28;01mif\u001b[39;00m nmissing:\n\u001b[1;32m   6248\u001b[0m     \u001b[38;5;28;01mif\u001b[39;00m nmissing \u001b[38;5;241m==\u001b[39m \u001b[38;5;28mlen\u001b[39m(indexer):\n\u001b[0;32m-> 6249\u001b[0m         \u001b[38;5;28;01mraise\u001b[39;00m \u001b[38;5;167;01mKeyError\u001b[39;00m(\u001b[38;5;124mf\u001b[39m\u001b[38;5;124m\"\u001b[39m\u001b[38;5;124mNone of [\u001b[39m\u001b[38;5;132;01m{\u001b[39;00mkey\u001b[38;5;132;01m}\u001b[39;00m\u001b[38;5;124m] are in the [\u001b[39m\u001b[38;5;132;01m{\u001b[39;00maxis_name\u001b[38;5;132;01m}\u001b[39;00m\u001b[38;5;124m]\u001b[39m\u001b[38;5;124m\"\u001b[39m)\n\u001b[1;32m   6251\u001b[0m     not_found \u001b[38;5;241m=\u001b[39m \u001b[38;5;28mlist\u001b[39m(ensure_index(key)[missing_mask\u001b[38;5;241m.\u001b[39mnonzero()[\u001b[38;5;241m0\u001b[39m]]\u001b[38;5;241m.\u001b[39munique())\n\u001b[1;32m   6252\u001b[0m     \u001b[38;5;28;01mraise\u001b[39;00m \u001b[38;5;167;01mKeyError\u001b[39;00m(\u001b[38;5;124mf\u001b[39m\u001b[38;5;124m\"\u001b[39m\u001b[38;5;132;01m{\u001b[39;00mnot_found\u001b[38;5;132;01m}\u001b[39;00m\u001b[38;5;124m not in index\u001b[39m\u001b[38;5;124m\"\u001b[39m)\n",
      "\u001b[0;31mKeyError\u001b[0m: \"None of [Index(['1월', '2월', '3월', '4월', '5월', '6월', '7월', '8월', '9월', '10월', '11월',\\n       '12월'],\\n      dtype='object')] are in the [columns]\""
     ]
    }
   ],
   "source": [
    "import pandas as pd\n",
    "\n",
    "# 1. 파일 경로\n",
    "model_path = \"../processed/기아_차종별판매실적_전처리.CSV\"\n",
    "sales_path = \"../processed/기아_해외판매_전처리.CSV\"\n",
    "\n",
    "# 2. CSV 불러오기\n",
    "df_model = pd.read_csv(model_path)\n",
    "df_sales = pd.read_csv(sales_path)\n",
    "\n",
    "# 3. 차량 유형 영어 → 한글 매핑\n",
    "type_map = {\n",
    "    \"Passenger Car\": \"승용차\",\n",
    "    \"Commercial Vehicle\": \"상용차\",\n",
    "    \"Recreational Vehicle\": \"RV\",\n",
    "    \"Special Vehicle\": \"특수차\",\n",
    "    \"Total\": \"전체\"\n",
    "}\n",
    "\n",
    "# 4. 전처리 함수 정의\n",
    "def preprocess(df):\n",
    "    df = df.copy()\n",
    "    if \"차량 유형\" in df.columns:\n",
    "        df[\"차량 구분\"] = df[\"차량 유형\"].map(type_map)\n",
    "        df = df.drop(columns=[\"차량 유형\"])\n",
    "    # 월별 컬럼 숫자형 변환\n",
    "    month_cols = [f\"{i}월\" for i in range(1, 13)]\n",
    "    df[month_cols] = df[month_cols].apply(pd.to_numeric, errors=\"coerce\")\n",
    "    return df\n",
    "\n",
    "# 5. 전처리 실행\n",
    "df_model_clean = preprocess(df_model)\n",
    "df_sales_clean = preprocess(df_sales)\n",
    "\n",
    "# 6. 저장\n",
    "df_model_clean.to_csv(\"기아_차종별판매실적_전처리_v2.CSV\", index=False, encoding=\"utf-8-sig\")\n",
    "df_sales_clean.to_csv(\"기아_판매실적_전처리_v2.CSV\", index=False, encoding=\"utf-8-sig\")\n",
    "\n",
    "print(\"✅ 현대 스타일로 기아 전처리 및 저장 완료\")\n"
   ]
  },
  {
   "cell_type": "code",
   "execution_count": null,
   "metadata": {},
   "outputs": [],
   "source": []
  }
 ],
 "metadata": {
  "kernelspec": {
   "display_name": "hi",
   "language": "python",
   "name": "python3"
  },
  "language_info": {
   "codemirror_mode": {
    "name": "ipython",
    "version": 3
   },
   "file_extension": ".py",
   "mimetype": "text/x-python",
   "name": "python",
   "nbconvert_exporter": "python",
   "pygments_lexer": "ipython3",
   "version": "3.10.16"
  }
 },
 "nbformat": 4,
 "nbformat_minor": 2
}
